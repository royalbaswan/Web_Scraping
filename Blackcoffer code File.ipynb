{
 "cells": [
  {
   "cell_type": "code",
   "execution_count": 1,
   "id": "5a1e4494",
   "metadata": {},
   "outputs": [],
   "source": [
    "import numpy as np\n",
    "import pandas as pd\n",
    "import matplotlib.pyplot as plt\n",
    "import seaborn as sns\n",
    "import requests\n",
    "from bs4 import BeautifulSoup"
   ]
  },
  {
   "cell_type": "code",
   "execution_count": 2,
   "id": "9077b5b4",
   "metadata": {},
   "outputs": [],
   "source": [
    "url= 'https://insights.blackcoffer.com/rise-of-telemedicine-and-its-impact-on-livelihood-by-2040-3-2/'"
   ]
  },
  {
   "cell_type": "code",
   "execution_count": 3,
   "id": "c6bcd9c0",
   "metadata": {},
   "outputs": [],
   "source": [
    "article = []"
   ]
  },
  {
   "cell_type": "code",
   "execution_count": 6,
   "id": "f0e51ea4",
   "metadata": {},
   "outputs": [],
   "source": [
    "data= requests.get(url)"
   ]
  },
  {
   "cell_type": "code",
   "execution_count": 7,
   "id": "31f87863",
   "metadata": {},
   "outputs": [],
   "source": [
    "soup= BeautifulSoup(data.content, 'html.parser')"
   ]
  },
  {
   "cell_type": "code",
   "execution_count": 8,
   "id": "42a5ceae",
   "metadata": {},
   "outputs": [],
   "source": [
    "blog_articles = [{'blog_headline': headline.find('h1', attrs={'class':'entry-title'}).string,\n",
    "                  'blog_article': article.find('div', attrs={'class': 'td-post-content tagdiv-type'}).text} \n",
    "                 for headline, article in zip(soup.find_all('div', class_ = ['td-container td-post-header']), \n",
    "                                              soup.find_all('div', class_=['td-ss-main-content']))]"
   ]
  },
  {
   "cell_type": "code",
   "execution_count": 9,
   "id": "62222e96",
   "metadata": {},
   "outputs": [
    {
     "data": {
      "text/plain": [
       "[{'blog_headline': 'Rise of telemedicine and its Impact on Livelihood by 2040',\n",
       "  'blog_article': '\\nTelemedicine, the use of technology to diagnose and treat patients remotely, has been rising in recent years. With the advent of high-speed internet and improved video conferencing tools, healthcare providers are increasingly turning to telemedicine to provide care to patients in remote or underserved areas.\\nTelemedicine, using technology to provide healthcare services remotely, has recently gained popularity. With advancements in communication and medical technology, it has become increasingly possible for doctors and patients to connect and interact from anywhere in the world. This has led to the rise of telemedicine, which has the potential to revolutionize the way healthcare is delivered.#Telemedicine\\nThe increasing focus on preventative healthcare has also driven the rise of telemedicine. As more and more people become aware of the importance of staying healthy, they are looking for ways to prevent illness and maintain their health. Telemedicine allows people to monitor their health and get advice from healthcare providers without traveling to a clinic or hospital.\\nImproved access to healthcare: One of the biggest challenges in the healthcare industry is the unequal distribution of medical resources, with many remote and rural areas lacking access to quality care. Telemedicine can help bridge this gap by allowing patients in these underserved areas to connect with healthcare providers worldwide. This can give people access to specialized medical care that they would otherwise not be able to receive, improving their health and overall well-being.#Healthcare\\nGreater convenience and flexibility: Telemedicine also offers a level of convenience and flexibility that is impossible with traditional in-person medical visits. Patients can consult with their healthcare providers from the comfort of their own homes, saving time and money on travel. This is particularly beneficial for individuals who have mobility issues or who live in areas with limited access to medical facilities.\\nReduced healthcare costs: By enabling patients to receive care remotely, telemedicine can help reduce the overall cost of healthcare. This is because telemedicine visits are generally less expensive than in-person visits and can help prevent the need for more costly interventions, such as hospitalizations. As a result, telemedicine has the potential to make healthcare more affordable for patients and healthcare providers alike.#Costs\\nEnhanced healthcare outcomes: Telemedicine can also improve patients’ quality of care. By allowing healthcare providers to access medical records and other important information remotely, telemedicine can help ensure that patients receive the most appropriate care for their needs. This can lead to better health outcomes and a higher quality of life for patients.#Enhanced\\nMore significant job opportunities in the healthcare industry like healthcare sector, including for healthcare providers, support staff, and technology experts. This can provide a boost to local economies and help to reduce unemployment.#Jobs\\nBetter care for chronic conditions: Telemedicine can help patients with chronic conditions to manage their health more effectively, allowing them to receive regular check-ups and treatment without the need to travel long distances. This can improve the quality of life for these individuals and reduce the risk of complications from their conditions.\\nIncreased flexibility for patients and healthcare providers: Telemedicine allows patients and providers to schedule consultations at times convenient for them, improving the overall flexibility of the healthcare system. This can help to reduce wait times and improve patient satisfaction.\\nIncreased accessibility: Telemedicine makes healthcare more accessible to people living in rural and remote areas, who may not have easy access to medical facilities. With telemedicine, patients can consult with doctors and specialists from their homes using their phones, computers, or other devices. This means that more people will be able to get the medical care they need, regardless of where they live.\\nReduced costs: One of the most significant benefits of telemedicine is that it can reduce healthcare costs. Patients can avoid the costs of travel, accommodation, and time off work associated with in-person visits to the doctor. Telemedicine can also help reduce the cost of medical procedures, as doctors can remotely monitor patients and provide care without needing hospitalization.\\nImproved health outcomes: By providing patients with access to medical care from the comfort of their own homes, telemedicine can help improve their health outcomes. For example, patients with chronic conditions can use telemedicine to manage their symptoms and reduce the risk of complications. Telemedicine can also help prevent the spread of infectious diseases, as patients can receive care without contacting other people.\\nIncreased convenience: Telemedicine offers a more convenient option for patients who need medical care. With telemedicine, patients can schedule appointments and consult with doctors at a convenient time without having to take time off work or arrange transportation. This can be especially beneficial for people with busy schedules or mobility issues.\\nTelemedicine, or the use of electronic communication and information technologies to provide healthcare services remotely, has the potential to significantly impact the way we receive and deliver medical care. In the next 20 years, telemedicine will likely become an increasingly important part of our healthcare system, providing numerous benefits and improving the livelihood of many people.\\nThe benefits of telemedicine are numerous. For patients, it provides convenient access to medical care without traveling long distances. It also allows for faster diagnosis and treatment and improved continuity of care. For healthcare providers, telemedicine can reduce the strain on already-overburdened healthcare systems and make providing care to patients in remote areas more accessible.\\nThe rise of telemedicine will likely significantly impact how we receive medical care in the future. By 2040, it is estimated that telemedicine will be a standard part of the healthcare landscape, with more and more doctors using it to diagnose and treat patients remotely.\\nOne of the key drivers of the rise of telemedicine has been the increasing availability of high-speed internet and improved video conferencing tools. In the past, the video and audio quality of telemedicine consultations were often poor, making it difficult for doctors to diagnose and treat patients accurately. However, with faster internet speeds and better video conferencing tools, telemedicine consultations are just as good as in-person visits.\\nTelemedicine makes healthcare more accessible. With telemedicine, patients no longer travel long distances to see a doctor or specialist. Instead, they can receive care from the comfort of their own home. This is particularly beneficial for people living in rural areas, where access to healthcare can be limited.\\nAnother factor contributing to the rise of telemedicine is the increasing demand for healthcare services. With the global population growing and people living longer, the need for medical care will only continue to increase. Telemedicine offers a way for healthcare providers to meet this demand by allowing them to provide care to more patients in a shorter amount of time.\\nAnother substantial impact of telemedicine is that it can improve patient quality of care. By using technology to connect patients with doctors, telemedicine can help ensure patients receive the best care possible. For example, a doctor can use video conferencing to consult with a specialist or use remote monitoring devices to track a patient’s vital signs. This can help doctors make more informed decisions and provide better treatment.\\nTelemedicine also has the potential to reduce healthcare costs. By allowing patients to receive care from their homes, telemedicine can reduce the need for expensive hospital visits. In addition, telemedicine can help prevent the spread of infectious diseases, reducing healthcare costs by avoiding hospitalization.\\nOne of the critical impacts of telemedicine is that it can improve the patient experience. By providing patients with the ability to receive care from the comfort of their own homes, telemedicine can help reduce anxiety and stress. In addition, telemedicine can make it easier for patients to communicate with their doctors and get the answers they need.\\nAnother way in which telemedicine will impact people’s livelihoods is by making healthcare more efficient. By allowing doctors to diagnose and treat patients remotely, telemedicine will help reduce the time patients spend waiting to see a doctor. It will also help reduce doctors’ spending on administrative tasks, freeing them up to see more patients and provide better care.\\nOne major factor driving the rise of telemedicine is the increasing use of technology in healthcare. With advances in communication and medical technology, it is now possible for doctors and other healthcare providers to remotely diagnose and treat patients using video conferencing, remote monitoring, and other forms of telemedicine. This not only allows for more efficient and convenient healthcare delivery but also enables healthcare providers to offer specialized care to patients who otherwise may not have access to it.\\nAnother factor contributing to the rise of telemedicine is the need for improved access to healthcare. Patients may travel long distances in many rural and underserved areas; patients may travel long distances to access medical care. Telemedicine can bridge this gap by allowing patients in these areas to consult with healthcare providers remotely. This not only improves access to healthcare but also reduces the need for patients to travel long distances, saving them time and money.\\nFinally, telemedicine’s rise is also driven by the growing trend of remote work. As more and more people work from home or other remote locations, the need for convenient and accessible healthcare is increasing. Telemedicine allows employees to consult with healthcare providers from their homes, reducing the need for them to take time off work to visit a doctor or other healthcare provider.\\nOverall, the rise of telemedicine by 2040 is a result of a combination of factors, including the increasing use of technology in healthcare, the need for improved access to healthcare, and the growing trend of remote work. As these factors continue to evolve, likely, telemedicine will likely become an increasingly important part of the healthcare landscape.\\nHowever, the rise of telemedicine is also likely to present some challenges. For example, telemedicine consultations may only be suitable for some medical conditions, and some patients may still need to see a doctor. Additionally, telemedicine may put some jobs at risk, such as receptionists and other administrative staff in healthcare facilities.\\nBlackcoffer Insights 46: G.K.Harish Balaji, Indian Institute of Technology,Madras\\n'}]"
      ]
     },
     "execution_count": 9,
     "metadata": {},
     "output_type": "execute_result"
    }
   ],
   "source": [
    "article.extend(blog_articles)\n",
    "article"
   ]
  },
  {
   "cell_type": "code",
   "execution_count": 9,
   "id": "3dc030d2",
   "metadata": {},
   "outputs": [
    {
     "data": {
      "text/html": [
       "<div>\n",
       "<style scoped>\n",
       "    .dataframe tbody tr th:only-of-type {\n",
       "        vertical-align: middle;\n",
       "    }\n",
       "\n",
       "    .dataframe tbody tr th {\n",
       "        vertical-align: top;\n",
       "    }\n",
       "\n",
       "    .dataframe thead th {\n",
       "        text-align: right;\n",
       "    }\n",
       "</style>\n",
       "<table border=\"1\" class=\"dataframe\">\n",
       "  <thead>\n",
       "    <tr style=\"text-align: right;\">\n",
       "      <th></th>\n",
       "      <th>blog_headline</th>\n",
       "      <th>blog_article</th>\n",
       "    </tr>\n",
       "  </thead>\n",
       "  <tbody>\n",
       "    <tr>\n",
       "      <th>0</th>\n",
       "      <td>Rise of telemedicine and its Impact on Livelih...</td>\n",
       "      <td>\\nTelemedicine, the use of technology to diagn...</td>\n",
       "    </tr>\n",
       "  </tbody>\n",
       "</table>\n",
       "</div>"
      ],
      "text/plain": [
       "                                       blog_headline  \\\n",
       "0  Rise of telemedicine and its Impact on Livelih...   \n",
       "\n",
       "                                        blog_article  \n",
       "0  \\nTelemedicine, the use of technology to diagn...  "
      ]
     },
     "execution_count": 9,
     "metadata": {},
     "output_type": "execute_result"
    }
   ],
   "source": [
    "df= pd.DataFrame(article)\n",
    "df"
   ]
  },
  {
   "cell_type": "code",
   "execution_count": 10,
   "id": "a233c42c",
   "metadata": {},
   "outputs": [],
   "source": [
    "df[['blog_article']].to_string('123.txt', index=False)"
   ]
  },
  {
   "cell_type": "markdown",
   "id": "ba358941",
   "metadata": {},
   "source": [
    "## Removing Special Characters and Stopwords"
   ]
  },
  {
   "cell_type": "code",
   "execution_count": 11,
   "id": "678749b4",
   "metadata": {},
   "outputs": [],
   "source": [
    "StopWords_Auditor= open(r'D:\\PGP- DSE\\NLP\\Blackcoffer\\StopWords\\StopWords_Auditor.txt','r').readlines()\n",
    "StopWords_Currencies= open(r'D:\\PGP- DSE\\NLP\\Blackcoffer\\StopWords\\StopWords_Currencies.txt','r').readlines()\n",
    "StopWords_DatesandNumbers = open(r'D:\\PGP- DSE\\NLP\\Blackcoffer\\StopWords\\StopWords_DatesandNumbers.txt','r').readlines()\n",
    "StopWords_Generic= open(r'D:\\PGP- DSE\\NLP\\Blackcoffer\\StopWords\\StopWords_Generic.txt','r').readlines()\n",
    "StopWords_GenericLong= open(r'D:\\PGP- DSE\\NLP\\Blackcoffer\\StopWords\\StopWords_GenericLong.txt','r').readlines()"
   ]
  },
  {
   "cell_type": "code",
   "execution_count": 12,
   "id": "887338a1",
   "metadata": {},
   "outputs": [],
   "source": [
    "import nltk\n",
    "from nltk.tokenize.toktok import ToktokTokenizer\n",
    "import re"
   ]
  },
  {
   "cell_type": "code",
   "execution_count": 13,
   "id": "a043d6d7",
   "metadata": {},
   "outputs": [],
   "source": [
    "tokenizer = ToktokTokenizer()\n",
    "stopword_list = StopWords_Auditor+StopWords_Currencies+StopWords_DatesandNumbers+StopWords_Generic+StopWords_GenericLong\n",
    "stopword_list= [i.rstrip('\\n') for i in stopword_list]"
   ]
  },
  {
   "cell_type": "code",
   "execution_count": 14,
   "id": "3eb92872",
   "metadata": {},
   "outputs": [],
   "source": [
    "def remove_special_characters(text, remove_digits=False):\n",
    "    pattern = r'[^a-zA-z0-9\\s]' if not remove_digits else r'[^a-zA-z\\s]'\n",
    "    text = re.sub(pattern, '', text)\n",
    "    return text"
   ]
  },
  {
   "cell_type": "code",
   "execution_count": 15,
   "id": "d735835c",
   "metadata": {},
   "outputs": [],
   "source": [
    "def remove_stopwords(text, is_lower_case=False):\n",
    "    tokens = tokenizer.tokenize(text)\n",
    "    tokens = [token.strip() for token in tokens]\n",
    "    filtered_tokens = [token for token in tokens if token not in stopword_list]\n",
    "    filtered_text = ' '.join(filtered_tokens)    \n",
    "    return filtered_text"
   ]
  },
  {
   "cell_type": "code",
   "execution_count": 16,
   "id": "ec969f05",
   "metadata": {},
   "outputs": [],
   "source": [
    "def normalize_corpus(corpus, text_lower_case=True, \n",
    "                     special_char_removal=True, stopword_removal=True, remove_digits=True):\n",
    "    \n",
    "    normalized_corpus = []\n",
    "    for doc in corpus:\n",
    "        if special_char_removal:    \n",
    "            special_char_pattern = re.compile(r'([{.(-)!}])')\n",
    "            doc = special_char_pattern.sub(\" \\\\1 \", doc)\n",
    "            doc = remove_special_characters(doc, remove_digits=remove_digits)  \n",
    "        doc = re.sub(' +', ' ', doc)\n",
    "        if stopword_removal:\n",
    "            doc = remove_stopwords(doc, is_lower_case=text_lower_case)\n",
    "        if text_lower_case:\n",
    "            doc = doc.lower()\n",
    "            \n",
    "        normalized_corpus.append(doc)\n",
    "        \n",
    "    return normalized_corpus"
   ]
  },
  {
   "cell_type": "code",
   "execution_count": 17,
   "id": "d50acde9",
   "metadata": {},
   "outputs": [],
   "source": [
    "df['blog_article_cleaned']= normalize_corpus(df['blog_article'])"
   ]
  },
  {
   "cell_type": "markdown",
   "id": "e01eeb78",
   "metadata": {},
   "source": [
    "## Creating Dictionary"
   ]
  },
  {
   "cell_type": "code",
   "execution_count": 18,
   "id": "45638606",
   "metadata": {},
   "outputs": [],
   "source": [
    "pos= open(r'D:\\PGP- DSE\\NLP\\Blackcoffer\\MasterDictionary\\positive-words.txt','r').readlines()\n",
    "pos= [i.rstrip('\\n') for i in pos]\n",
    "pos= [i if i not in stopword_list else pos.remove(i) for i in pos]\n",
    "\n",
    "neg= open(r'D:\\PGP- DSE\\NLP\\Blackcoffer\\MasterDictionary\\negative-words.txt','r').readlines()\n",
    "neg= [i.rstrip('\\n') for i in neg]\n",
    "neg= [i if i not in stopword_list else neg.remove(i) for i in neg]"
   ]
  },
  {
   "cell_type": "markdown",
   "id": "4c9884c7",
   "metadata": {},
   "source": [
    "## Calculating Derived Variables"
   ]
  },
  {
   "cell_type": "markdown",
   "id": "fafbfe34",
   "metadata": {},
   "source": [
    "## Word Count"
   ]
  },
  {
   "cell_type": "code",
   "execution_count": 19,
   "id": "0f031a31",
   "metadata": {},
   "outputs": [
    {
     "data": {
      "text/plain": [
       "918"
      ]
     },
     "execution_count": 19,
     "metadata": {},
     "output_type": "execute_result"
    }
   ],
   "source": [
    "word_count= len(str(df['blog_article_cleaned'].values).split(' '))\n",
    "word_count"
   ]
  },
  {
   "cell_type": "code",
   "execution_count": 20,
   "id": "825abc81",
   "metadata": {},
   "outputs": [
    {
     "data": {
      "text/plain": [
       "1634"
      ]
     },
     "execution_count": 20,
     "metadata": {},
     "output_type": "execute_result"
    }
   ],
   "source": [
    "total_words_before= len(str(df['blog_article'].values).split(' '))\n",
    "total_words_before"
   ]
  },
  {
   "cell_type": "code",
   "execution_count": 21,
   "id": "959cbfe7",
   "metadata": {},
   "outputs": [],
   "source": [
    "tokens = tokenizer.tokenize(df['blog_article_cleaned'].values[0])\n",
    "tokens = [token.strip() for token in tokens]"
   ]
  },
  {
   "cell_type": "code",
   "execution_count": 22,
   "id": "8acab609",
   "metadata": {},
   "outputs": [
    {
     "data": {
      "text/plain": [
       "80"
      ]
     },
     "execution_count": 22,
     "metadata": {},
     "output_type": "execute_result"
    }
   ],
   "source": [
    "pos_score= sum([1 if i in pos else 0 for i in tokens])\n",
    "pos_score"
   ]
  },
  {
   "cell_type": "code",
   "execution_count": 23,
   "id": "71fe2732",
   "metadata": {},
   "outputs": [
    {
     "data": {
      "text/plain": [
       "24"
      ]
     },
     "execution_count": 23,
     "metadata": {},
     "output_type": "execute_result"
    }
   ],
   "source": [
    "neg_score= sum([-1 if i in neg else 0 for i in tokens])*-1\n",
    "neg_score"
   ]
  },
  {
   "cell_type": "code",
   "execution_count": 24,
   "id": "26843377",
   "metadata": {},
   "outputs": [
    {
     "data": {
      "text/plain": [
       "0.5384615332840237"
      ]
     },
     "execution_count": 24,
     "metadata": {},
     "output_type": "execute_result"
    }
   ],
   "source": [
    "polarity_score= (pos_score-neg_score)/((pos_score+neg_score) + 0.000001)\n",
    "polarity_score"
   ]
  },
  {
   "cell_type": "code",
   "execution_count": 25,
   "id": "ebf0e791",
   "metadata": {},
   "outputs": [
    {
     "data": {
      "text/plain": [
       "0.11328976022517455"
      ]
     },
     "execution_count": 25,
     "metadata": {},
     "output_type": "execute_result"
    }
   ],
   "source": [
    "subj_score= (pos_score+neg_score)/((word_count) + 0.000001)\n",
    "subj_score"
   ]
  },
  {
   "cell_type": "markdown",
   "id": "80e68528",
   "metadata": {},
   "source": [
    "## Analysis of readibility"
   ]
  },
  {
   "cell_type": "code",
   "execution_count": 26,
   "id": "ae414895",
   "metadata": {},
   "outputs": [
    {
     "data": {
      "text/plain": [
       "18.7816091954023"
      ]
     },
     "execution_count": 26,
     "metadata": {},
     "output_type": "execute_result"
    }
   ],
   "source": [
    "num_of_sen= len(str(df['blog_article'].values).split('.'))\n",
    "avg_sen_len= total_words_before/ num_of_sen\n",
    "avg_sen_len"
   ]
  },
  {
   "cell_type": "markdown",
   "id": "f4e9d496",
   "metadata": {},
   "source": [
    "#### Let's create a function to count the number of complex words"
   ]
  },
  {
   "cell_type": "code",
   "execution_count": 27,
   "id": "0198d285",
   "metadata": {},
   "outputs": [],
   "source": [
    "def count_complex_words(text, num_vowels):\n",
    "    def count_vowels(word):\n",
    "        vowels = \"AEIOUaeiou\"\n",
    "        return sum(1 for letter in word if letter in vowels)\n",
    "    \n",
    "    words = text.split()\n",
    "    complex_word_count = 0\n",
    "    \n",
    "    for word in words:\n",
    "        if count_vowels(word) > num_vowels:\n",
    "            complex_word_count += 1\n",
    "            \n",
    "    return complex_word_count"
   ]
  },
  {
   "cell_type": "code",
   "execution_count": 28,
   "id": "46fe8159",
   "metadata": {},
   "outputs": [
    {
     "data": {
      "text/plain": [
       "597"
      ]
     },
     "execution_count": 28,
     "metadata": {},
     "output_type": "execute_result"
    }
   ],
   "source": [
    "num_complex_words= count_complex_words(df['blog_article'].values[0],2)\n",
    "num_complex_words"
   ]
  },
  {
   "cell_type": "code",
   "execution_count": 29,
   "id": "dd83ddc4",
   "metadata": {},
   "outputs": [
    {
     "data": {
      "text/plain": [
       "36.536107711138314"
      ]
     },
     "execution_count": 29,
     "metadata": {},
     "output_type": "execute_result"
    }
   ],
   "source": [
    "percent_complex_words= (num_complex_words/ total_words_before)*100\n",
    "percent_complex_words"
   ]
  },
  {
   "cell_type": "code",
   "execution_count": 30,
   "id": "8e8798d4",
   "metadata": {},
   "outputs": [
    {
     "data": {
      "text/plain": [
       "253.41444308445534"
      ]
     },
     "execution_count": 30,
     "metadata": {},
     "output_type": "execute_result"
    }
   ],
   "source": [
    "fog_index= 0.4*(num_complex_words+percent_complex_words)\n",
    "fog_index"
   ]
  },
  {
   "cell_type": "markdown",
   "id": "96ac1a4a",
   "metadata": {},
   "source": [
    "## Average number of words per sentence"
   ]
  },
  {
   "cell_type": "code",
   "execution_count": 31,
   "id": "ada50872",
   "metadata": {},
   "outputs": [
    {
     "data": {
      "text/plain": [
       "18.7816091954023"
      ]
     },
     "execution_count": 31,
     "metadata": {},
     "output_type": "execute_result"
    }
   ],
   "source": [
    "avg_sen_len"
   ]
  },
  {
   "cell_type": "markdown",
   "id": "bb1a3251",
   "metadata": {},
   "source": [
    "## Complex Word Count"
   ]
  },
  {
   "cell_type": "code",
   "execution_count": 32,
   "id": "0ff72f85",
   "metadata": {},
   "outputs": [
    {
     "data": {
      "text/plain": [
       "597"
      ]
     },
     "execution_count": 32,
     "metadata": {},
     "output_type": "execute_result"
    }
   ],
   "source": [
    "num_complex_words"
   ]
  },
  {
   "cell_type": "markdown",
   "id": "6e9d0f93",
   "metadata": {},
   "source": [
    "## Syllable count per word"
   ]
  },
  {
   "cell_type": "code",
   "execution_count": 33,
   "id": "078ba709",
   "metadata": {},
   "outputs": [
    {
     "data": {
      "text/plain": [
       "3704"
      ]
     },
     "execution_count": 33,
     "metadata": {},
     "output_type": "execute_result"
    }
   ],
   "source": [
    "syll_count= sum(1 for k in [i for i in df['blog_article'].values[0] if i in 'AEIOUaeiou' and (i[-1:-3]!='es' or i[-1:-3]!='ed')])\n",
    "syll_count"
   ]
  },
  {
   "cell_type": "markdown",
   "id": "9b1e52a1",
   "metadata": {},
   "source": [
    "#### Let's create a function to count the number of syllables"
   ]
  },
  {
   "cell_type": "code",
   "execution_count": 34,
   "id": "6ba03d19",
   "metadata": {},
   "outputs": [],
   "source": [
    "def syllable_count(text):\n",
    "    words= text.split()\n",
    "    total_words= len(words)\n",
    "    vowels= 'AEIOUaeiou'\n",
    "    syll_count= 0\n",
    "    for word in words:\n",
    "        if word!= word.endswith('es') or word!= word.endswith('ed'):\n",
    "            for i in word:\n",
    "                if i in vowels:\n",
    "                    syll_count= syll_count+1\n",
    "    return syll_count             "
   ]
  },
  {
   "cell_type": "code",
   "execution_count": 35,
   "id": "4bcadc59",
   "metadata": {},
   "outputs": [
    {
     "data": {
      "text/plain": [
       "3704"
      ]
     },
     "execution_count": 35,
     "metadata": {},
     "output_type": "execute_result"
    }
   ],
   "source": [
    "syllable_count(df['blog_article'].values[0])"
   ]
  },
  {
   "cell_type": "code",
   "execution_count": 36,
   "id": "a6198ada",
   "metadata": {},
   "outputs": [
    {
     "data": {
      "text/plain": [
       "2.266829865361077"
      ]
     },
     "execution_count": 36,
     "metadata": {},
     "output_type": "execute_result"
    }
   ],
   "source": [
    "syll_count_per_word= syll_count/ total_words_before\n",
    "syll_count_per_word"
   ]
  },
  {
   "cell_type": "markdown",
   "id": "580edf10",
   "metadata": {},
   "source": [
    "#### Let's create a function to count the personal pronouns"
   ]
  },
  {
   "cell_type": "code",
   "execution_count": 37,
   "id": "ab37aa3b",
   "metadata": {},
   "outputs": [],
   "source": [
    "def count_personal_pronouns(text):\n",
    "    personal_pronouns = [\"I\", \"me\", \"my\", \"mine\", \"myself\",\n",
    "                         \"you\", \"your\", \"yours\", \"yourself\",\n",
    "                         \"he\", \"him\", \"his\", \"himself\",\n",
    "                         \"she\", \"her\", \"hers\", \"herself\",\n",
    "                         \"it\", \"its\", \"itself\",\n",
    "                         \"we\", \"us\", \"our\", \"ours\", \"ourselves\",\n",
    "                         \"they\", \"them\", \"their\", \"theirs\", \"themselves\"]\n",
    "    \n",
    "    pattern = r'\\b(' + '|'.join(personal_pronouns) + r')\\b'\n",
    "    matches = re.findall(pattern, text, flags=re.IGNORECASE)\n",
    "    us_count = text.count(\"US\")\n",
    "    total_count = len(matches) - us_count\n",
    "    return total_count"
   ]
  },
  {
   "cell_type": "code",
   "execution_count": 38,
   "id": "2e8cfe19",
   "metadata": {},
   "outputs": [
    {
     "data": {
      "text/plain": [
       "46"
      ]
     },
     "execution_count": 38,
     "metadata": {},
     "output_type": "execute_result"
    }
   ],
   "source": [
    "count_personal_pronouns(df['blog_article'].values[0])"
   ]
  },
  {
   "cell_type": "markdown",
   "id": "d6c03ccb",
   "metadata": {},
   "source": [
    "## Average word length"
   ]
  },
  {
   "cell_type": "code",
   "execution_count": 39,
   "id": "83a8582b",
   "metadata": {},
   "outputs": [
    {
     "data": {
      "text/plain": [
       "6.839045287637699"
      ]
     },
     "execution_count": 39,
     "metadata": {},
     "output_type": "execute_result"
    }
   ],
   "source": [
    "avg_word_len= len(df['blog_article'].values[0])/ total_words_before\n",
    "avg_word_len"
   ]
  },
  {
   "cell_type": "markdown",
   "id": "f5e3d936",
   "metadata": {},
   "source": [
    "# Let's create a general function that does all the job and gives the requires number of variables"
   ]
  },
  {
   "cell_type": "code",
   "execution_count": 99,
   "id": "82ffdb7e",
   "metadata": {},
   "outputs": [],
   "source": [
    "def variables_computation(url, url_id):\n",
    "    print('url_Id(%s)'%(url_id))\n",
    "    article= []\n",
    "    data= requests.get(url)\n",
    "    soup= BeautifulSoup(data.content, 'html.parser')\n",
    "    blog_articles = [{'blog_headline': headline.find('h1', attrs={'class':'entry-title'}).string,\n",
    "                  'blog_article': article.find('div', attrs={'class': 'td-post-content tagdiv-type'}).text} \n",
    "                 for headline, article in zip(soup.find_all('div', class_ = ['td-container td-post-header']), \n",
    "                                              soup.find_all('div', class_=['td-ss-main-content']))]\n",
    "    article.extend(blog_articles)\n",
    "    df= pd.DataFrame(article)\n",
    "    df[['blog_article']].to_string('%s.txt'%(url_id), index=False)\n",
    "    df['blog_article_cleaned']= normalize_corpus(df['blog_article'])\n",
    "    \n",
    "    tokens = tokenizer.tokenize(df['blog_article_cleaned'].values[0])\n",
    "    tokens = [token.strip() for token in tokens]\n",
    "    total_words_before= len(str(df['blog_article'].values).split(' '))\n",
    "    word_count= len(str(df['blog_article_cleaned'].values).split(' '))\n",
    "    pos_score= sum([1 if i in pos else 0 for i in tokens])\n",
    "    print('Positive Score:', round(pos_score,4))\n",
    "    neg_score= sum([-1 if i in neg else 0 for i in tokens])*-1\n",
    "    print('Negative Score:', round(neg_score,4))\n",
    "    polarity_score= (pos_score-neg_score)/((pos_score+neg_score) + 0.000001)\n",
    "    print('Polarity Score:', round(polarity_score,2))\n",
    "    subj_score= (pos_score+neg_score)/((word_count) + 0.000001)\n",
    "    print('Subjectivity Score:', round(subj_score,2))\n",
    "    num_of_sen= len(str(df['blog_article'].values).split('.'))\n",
    "    avg_sen_len= total_words_before/ num_of_sen\n",
    "    print('Average Sentence Length:', round(avg_sen_len,2))\n",
    "    num_complex_words= count_complex_words(df['blog_article'].values[0],2)\n",
    "    percent_complex_words= (num_complex_words/ total_words_before)*100\n",
    "    print('Percentage of Complex Words:', round(percent_complex_words,2))\n",
    "    fog_index= 0.4*(num_complex_words+percent_complex_words)\n",
    "    print('Fog Index:', round(fog_index,2))\n",
    "    print('Average Number of Words Per Sentence:',  round(avg_sen_len,2))\n",
    "    print('Complex Word Count:', num_complex_words)\n",
    "    print('Word count:', word_count)\n",
    "    syll_count_per_word= syllable_count(df['blog_article'].values[0])/ total_words_before\n",
    "    print('Syllable per Word:',round(syll_count_per_word,2))\n",
    "    print('Personal Pronouns:', count_personal_pronouns(df['blog_article'].values[0]))\n",
    "    avg_word_len= len(df['blog_article'].values[0])/ total_words_before\n",
    "    print('Average Word Length:', round(avg_word_len,2))"
   ]
  },
  {
   "cell_type": "code",
   "execution_count": 100,
   "id": "a9c6eacd",
   "metadata": {},
   "outputs": [
    {
     "name": "stdout",
     "output_type": "stream",
     "text": [
      "url_Id(321)\n",
      "Positive Score: 38\n",
      "Negative Score: 13\n",
      "Polarity Score: 0.49\n",
      "Subjectivity Score: 0.17\n",
      "Average Sentence Length: 24.28\n",
      "Percentage of Complex Words: 35.58\n",
      "Fog Index: 100.63\n",
      "Average Number of Words Per Sentence: 24.28\n",
      "Complex Word Count: 216\n",
      "Word count: 304\n",
      "Syllable per Word: 2.17\n",
      "Personal Pronouns: 19\n",
      "Average Word Length: 6.61\n"
     ]
    }
   ],
   "source": [
    "variables_computation('https://insights.blackcoffer.com/rise-of-e-health-and-its-impact-on-humans-by-the-year-2030/',321)"
   ]
  },
  {
   "cell_type": "markdown",
   "id": "298c3dbe",
   "metadata": {},
   "source": [
    "##### Let's create another function for 2345 url by finding and adjusting the classes of extracting dictionary, because it don't have the same class name as previous function "
   ]
  },
  {
   "cell_type": "code",
   "execution_count": 105,
   "id": "ad59b012",
   "metadata": {},
   "outputs": [],
   "source": [
    "def variables_computation2345(url, url_id):\n",
    "    print('url_Id(%s)'%(url_id))\n",
    "    article= []\n",
    "    data= requests.get(url)\n",
    "    soup= BeautifulSoup(data.content, 'html.parser')\n",
    "    blog_articles = [{'blog_headline': soup.find('h1', attrs={'class':'tdb-title-text'}).string,\n",
    "                  'blog_article': soup.find_all('div', attrs={'class': 'tdb-block-inner td-fix-index'})[14].text}]\n",
    "    article.extend(blog_articles)\n",
    "    df= pd.DataFrame(article)\n",
    "    df[['blog_article']].to_string('%s.txt'%(url_id), index=False)\n",
    "    df['blog_article_cleaned']= normalize_corpus(df['blog_article'])\n",
    "    \n",
    "    tokens = tokenizer.tokenize(df['blog_article_cleaned'].values[0])\n",
    "    tokens = [token.strip() for token in tokens]\n",
    "    total_words_before= len(str(df['blog_article'].values).split(' '))\n",
    "    word_count= len(str(df['blog_article_cleaned'].values).split(' '))\n",
    "    pos_score= sum([1 if i in pos else 0 for i in tokens])\n",
    "    print('Positive Score:', round(pos_score,4))\n",
    "    neg_score= sum([-1 if i in neg else 0 for i in tokens])*-1\n",
    "    print('Negative Score:', round(neg_score,4))\n",
    "    polarity_score= (pos_score-neg_score)/((pos_score+neg_score) + 0.000001)\n",
    "    print('Polarity Score:', round(polarity_score,2))\n",
    "    subj_score= (pos_score+neg_score)/((word_count) + 0.000001)\n",
    "    print('Subjectivity Score:', round(subj_score,2))\n",
    "    num_of_sen= len(str(df['blog_article'].values).split('.'))\n",
    "    avg_sen_len= total_words_before/ num_of_sen\n",
    "    print('Average Sentence Length:', round(avg_sen_len,2))\n",
    "    num_complex_words= count_complex_words(df['blog_article'].values[0],2)\n",
    "    percent_complex_words= (num_complex_words/ total_words_before)*100\n",
    "    print('Percentage of Complex Words:', round(percent_complex_words,2))\n",
    "    fog_index= 0.4*(num_complex_words+percent_complex_words)\n",
    "    print('Fog Index:', round(fog_index,2))\n",
    "    print('Average Number of Words Per Sentence:',  round(avg_sen_len,2))\n",
    "    print('Complex Word Count:', num_complex_words)\n",
    "    print('Word count:', word_count)\n",
    "    syll_count_per_word= syllable_count(df['blog_article'].values[0])/ total_words_before\n",
    "    print('Syllable per Word:',round(syll_count_per_word,2))\n",
    "    print('Personal Pronouns:', count_personal_pronouns(df['blog_article'].values[0]))\n",
    "    avg_word_len= len(df['blog_article'].values[0])/ total_words_before\n",
    "    print('Average Word Length:', round(avg_word_len,2))"
   ]
  },
  {
   "cell_type": "code",
   "execution_count": 103,
   "id": "66856e5b",
   "metadata": {},
   "outputs": [
    {
     "name": "stdout",
     "output_type": "stream",
     "text": [
      "url_Id(2345)\n",
      "Positive Score: 21\n",
      "Negative Score: 27\n",
      "Polarity Score: -0.12\n",
      "Subjectivity Score: 0.08\n",
      "Average Sentence Length: 14.53\n",
      "Percentage of Complex Words: 30.79\n",
      "Fog Index: 144.72\n",
      "Average Number of Words Per Sentence: 14.53\n",
      "Complex Word Count: 331\n",
      "Word count: 581 4\n",
      "Syllable per Word: 2.01\n",
      "Personal Pronouns: 22\n",
      "Average Word Length: 6.47\n"
     ]
    }
   ],
   "source": [
    "variables_computation2345('https://insights.blackcoffer.com/rise-of-e-health-and-its-imapct-on-humans-by-the-year-2030-2/', 2345)"
   ]
  },
  {
   "cell_type": "code",
   "execution_count": 56,
   "id": "12fbe6ab",
   "metadata": {},
   "outputs": [
    {
     "name": "stdout",
     "output_type": "stream",
     "text": [
      "url_Id(4321)\n",
      "Positive Score: 35\n",
      "Negative Score: 27\n",
      "Polarity Score: 0.13\n",
      "Subjectivity Score: 0.09\n",
      "Average Sentence Length: 20.41\n",
      "Percentage of Complex Words: 34.14\n",
      "Fog Index: 178.05\n",
      "Average Number of Words Per Sentence: 20.41\n",
      "Complex Word Count: 411\n",
      "Word count: 684\n",
      "Syllable per Word: 2.15\n",
      "Personal Pronouns: 32\n",
      "Average Word Length: 6.79\n"
     ]
    }
   ],
   "source": [
    "variables_computation('https://insights.blackcoffer.com/rise-of-telemedicine-and-its-impact-on-livelihood-by-2040-2/',4321)"
   ]
  },
  {
   "cell_type": "code",
   "execution_count": 57,
   "id": "96adeaa1",
   "metadata": {},
   "outputs": [
    {
     "name": "stdout",
     "output_type": "stream",
     "text": [
      "url_Id(432)\n",
      "Positive Score: 35\n",
      "Negative Score: 27\n",
      "Polarity Score: 0.13\n",
      "Subjectivity Score: 0.09\n",
      "Average Sentence Length: 20.41\n",
      "Percentage of Complex Words: 34.14\n",
      "Fog Index: 178.05\n",
      "Average Number of Words Per Sentence: 20.41\n",
      "Complex Word Count: 411\n",
      "Word count: 684\n",
      "Syllable per Word: 2.15\n",
      "Personal Pronouns: 32\n",
      "Average Word Length: 6.79\n"
     ]
    }
   ],
   "source": [
    "variables_computation('https://insights.blackcoffer.com/rise-of-telemedicine-and-its-impact-on-livelihood-by-2040-2-2/',432)"
   ]
  },
  {
   "cell_type": "code",
   "execution_count": 58,
   "id": "840571e9",
   "metadata": {},
   "outputs": [
    {
     "name": "stdout",
     "output_type": "stream",
     "text": [
      "url_Id(2893.8)\n",
      "Positive Score: 48\n",
      "Negative Score: 12\n",
      "Polarity Score: 0.6\n",
      "Subjectivity Score: 0.09\n",
      "Average Sentence Length: 16.93\n",
      "Percentage of Complex Words: 32.28\n",
      "Fog Index: 159.31\n",
      "Average Number of Words Per Sentence: 16.93\n",
      "Complex Word Count: 366\n",
      "Word count: 647\n",
      "Syllable per Word: 2.12\n",
      "Personal Pronouns: 33\n",
      "Average Word Length: 6.76\n"
     ]
    }
   ],
   "source": [
    "variables_computation('https://insights.blackcoffer.com/rise-of-chatbots-and-its-impact-on-customer-support-by-the-year-2040/',2893.8)"
   ]
  },
  {
   "cell_type": "code",
   "execution_count": 596,
   "id": "6cde7097",
   "metadata": {},
   "outputs": [
    {
     "name": "stdout",
     "output_type": "stream",
     "text": [
      "url_Id(3355.6)\n",
      "Positive Score: 33\n",
      "Negative Score: 10\n",
      "Polarity Score: 0.53\n",
      "Subjectivity Score: 0.07\n",
      "Average Sentence Length: 20.76\n",
      "Percentage of Complex Words: 37.19\n",
      "Fog Index: 169.27\n",
      "Average Number of Words Per Sentence: 20.76\n",
      "Complex Word Count: 386\n",
      "Word count: 592\n",
      "Syllable per Word: 2.19\n",
      "Personal Pronouns: 14\n",
      "Average Word Length: 6.88\n"
     ]
    }
   ],
   "source": [
    "variables_computation('https://insights.blackcoffer.com/rise-of-e-health-and-its-imapct-on-humans-by-the-year-2030/',3355.6)"
   ]
  },
  {
   "cell_type": "code",
   "execution_count": 597,
   "id": "a46a5920",
   "metadata": {},
   "outputs": [
    {
     "name": "stdout",
     "output_type": "stream",
     "text": [
      "url_Id(3817.4)\n",
      "Positive Score: 60\n",
      "Negative Score: 6\n",
      "Polarity Score: 0.82\n",
      "Subjectivity Score: 0.07\n",
      "Average Sentence Length: 17.5312\n",
      "Percentage of Complex Words: 31.97\n",
      "Fog Index: 227.99\n",
      "Average Number of Words Per Sentence: 17.5312\n",
      "Complex Word Count: 538\n",
      "Word count: 919\n",
      "Syllable per Word: 2.1\n",
      "Personal Pronouns: 102\n",
      "Average Word Length: 6.65\n"
     ]
    }
   ],
   "source": [
    "variables_computation('https://insights.blackcoffer.com/how-does-marketing-influence-businesses-and-consumers/', 3817.4)"
   ]
  },
  {
   "cell_type": "code",
   "execution_count": 599,
   "id": "a1f2faa8",
   "metadata": {},
   "outputs": [
    {
     "name": "stdout",
     "output_type": "stream",
     "text": [
      "url_Id(4279.2)\n",
      "Positive Score: 8\n",
      "Negative Score: 0\n",
      "Polarity Score: 1.0\n",
      "Subjectivity Score: 0.03\n",
      "Average Sentence Length: 17.6333\n",
      "Percentage of Complex Words: 24.2\n",
      "Fog Index: 60.88\n",
      "Average Number of Words Per Sentence: 17.6333\n",
      "Complex Word Count: 128\n",
      "Word count: 236\n",
      "Syllable per Word: 1.88\n",
      "Personal Pronouns: 33\n",
      "Average Word Length: 6.27\n"
     ]
    }
   ],
   "source": [
    "variables_computation2345('https://insights.blackcoffer.com/how-advertisement-increase-your-market-value/',4279.2)"
   ]
  },
  {
   "cell_type": "code",
   "execution_count": 600,
   "id": "23bbebd3",
   "metadata": {},
   "outputs": [
    {
     "name": "stdout",
     "output_type": "stream",
     "text": [
      "url_Id(4741)\n",
      "Positive Score: 23\n",
      "Negative Score: 46\n",
      "Polarity Score: -0.33\n",
      "Subjectivity Score: 0.12\n",
      "Average Sentence Length: 19.7843\n",
      "Percentage of Complex Words: 36.67\n",
      "Fog Index: 162.67\n",
      "Average Number of Words Per Sentence: 19.7843\n",
      "Complex Word Count: 370\n",
      "Word count: 555\n",
      "Syllable per Word: 2.18\n",
      "Personal Pronouns: 30\n",
      "Average Word Length: 6.8\n"
     ]
    }
   ],
   "source": [
    "variables_computation('https://insights.blackcoffer.com/negative-effects-of-marketing-on-society/', 4741)"
   ]
  },
  {
   "cell_type": "code",
   "execution_count": 601,
   "id": "86bf12db",
   "metadata": {},
   "outputs": [
    {
     "name": "stdout",
     "output_type": "stream",
     "text": [
      "url_Id(5202.8)\n",
      "Positive Score: 13\n",
      "Negative Score: 10\n",
      "Polarity Score: 0.13\n",
      "Subjectivity Score: 0.12\n",
      "Average Sentence Length: 14.8214\n",
      "Percentage of Complex Words: 25.3\n",
      "Fog Index: 52.12\n",
      "Average Number of Words Per Sentence: 14.8214\n",
      "Complex Word Count: 105\n",
      "Word count: 197\n",
      "Syllable per Word: 1.92\n",
      "Personal Pronouns: 17\n",
      "Average Word Length: 6.17\n"
     ]
    }
   ],
   "source": [
    "variables_computation('https://insights.blackcoffer.com/how-advertisement-marketing-affects-business/', 5202.8)"
   ]
  },
  {
   "cell_type": "code",
   "execution_count": 602,
   "id": "6f6a6fac",
   "metadata": {},
   "outputs": [
    {
     "name": "stdout",
     "output_type": "stream",
     "text": [
      "url_Id(5664.6)\n",
      "Positive Score: 28\n",
      "Negative Score: 16\n",
      "Polarity Score: 0.27\n",
      "Subjectivity Score: 0.06\n",
      "Average Sentence Length: 21.3125\n",
      "Percentage of Complex Words: 27.93\n",
      "Fog Index: 163.57\n",
      "Average Number of Words Per Sentence: 21.3125\n",
      "Complex Word Count: 381\n",
      "Word count: 693\n",
      "Syllable per Word: 1.96\n",
      "Personal Pronouns: 37\n",
      "Average Word Length: 6.17\n"
     ]
    }
   ],
   "source": [
    "variables_computation('https://insights.blackcoffer.com/rising-it-cities-will-impact-the-economy-environment-infrastructure-and-city-life-by-the-year-2035/',5664.6)"
   ]
  },
  {
   "cell_type": "code",
   "execution_count": 606,
   "id": "29d4b896",
   "metadata": {},
   "outputs": [
    {
     "name": "stdout",
     "output_type": "stream",
     "text": [
      "url_Id(6126.4)\n",
      "Positive Score: 23\n",
      "Negative Score: 3\n",
      "Polarity Score: 0.77\n",
      "Subjectivity Score: 0.09\n",
      "Average Sentence Length: 22.9167\n",
      "Percentage of Complex Words: 33.27\n",
      "Fog Index: 86.51\n",
      "Average Number of Words Per Sentence: 22.9167\n",
      "Complex Word Count: 183\n",
      "Word count: 299\n",
      "Syllable per Word: 2.04\n",
      "Personal Pronouns: 10\n",
      "Average Word Length: 6.54\n"
     ]
    }
   ],
   "source": [
    "variables_computation('https://insights.blackcoffer.com/rise-of-ott-platform-and-its-impact-on-entertainment-industry-by-the-year-2030/', 6126.4)"
   ]
  },
  {
   "cell_type": "code",
   "execution_count": 607,
   "id": "d51dce3e",
   "metadata": {},
   "outputs": [
    {
     "name": "stdout",
     "output_type": "stream",
     "text": [
      "url_Id(6588.2)\n",
      "Positive Score: 20\n",
      "Negative Score: 11\n",
      "Polarity Score: 0.29\n",
      "Subjectivity Score: 0.06\n",
      "Average Sentence Length: 25.55\n",
      "Percentage of Complex Words: 23.09\n",
      "Fog Index: 103.64\n",
      "Average Number of Words Per Sentence: 25.55\n",
      "Complex Word Count: 236\n",
      "Word count: 528\n",
      "Syllable per Word: 1.82\n",
      "Personal Pronouns: 35\n",
      "Average Word Length: 6.0\n"
     ]
    }
   ],
   "source": [
    "variables_computation('https://insights.blackcoffer.com/rise-of-electric-vehicles-and-its-impact-on-livelihood-by-2040/',6588.2)"
   ]
  },
  {
   "cell_type": "code",
   "execution_count": 610,
   "id": "5f0a876a",
   "metadata": {},
   "outputs": [
    {
     "name": "stdout",
     "output_type": "stream",
     "text": [
      "url_Id(7050)\n",
      "Positive Score: 23\n",
      "Negative Score: 15\n",
      "Polarity Score: 0.21\n",
      "Subjectivity Score: 0.08\n",
      "Average Sentence Length: 17.8367\n",
      "Percentage of Complex Words: 30.21\n",
      "Fog Index: 117.68\n",
      "Average Number of Words Per Sentence: 17.8367\n",
      "Complex Word Count: 264\n",
      "Word count: 495\n",
      "Syllable per Word: 2.01\n",
      "Personal Pronouns: 17\n",
      "Average Word Length: 6.48\n"
     ]
    }
   ],
   "source": [
    "variables_computation('https://insights.blackcoffer.com/rise-of-electric-vehicle-and-its-impact-on-livelihood-by-the-year-2040/',7050)"
   ]
  },
  {
   "cell_type": "code",
   "execution_count": 611,
   "id": "b1b3be64",
   "metadata": {},
   "outputs": [
    {
     "name": "stdout",
     "output_type": "stream",
     "text": [
      "url_Id(7511.8)\n",
      "Positive Score: 24\n",
      "Negative Score: 26\n",
      "Polarity Score: -0.04\n",
      "Subjectivity Score: 0.08\n",
      "Average Sentence Length: 24.0182\n",
      "Percentage of Complex Words: 22.26\n",
      "Fog Index: 126.5\n",
      "Average Number of Words Per Sentence: 24.0182\n",
      "Complex Word Count: 294\n",
      "Word count: 592\n",
      "Syllable per Word: 1.8\n",
      "Personal Pronouns: 55\n",
      "Average Word Length: 5.81\n"
     ]
    }
   ],
   "source": [
    "variables_computation('https://insights.blackcoffer.com/oil-prices-by-the-year-2040-and-how-it-will-impact-the-world-economy/', 7511.8)"
   ]
  },
  {
   "cell_type": "code",
   "execution_count": 612,
   "id": "2023e94b",
   "metadata": {},
   "outputs": [
    {
     "name": "stdout",
     "output_type": "stream",
     "text": [
      "url_Id(7973.6)\n",
      "Positive Score: 35\n",
      "Negative Score: 26\n",
      "Polarity Score: 0.15\n",
      "Subjectivity Score: 0.11\n",
      "Average Sentence Length: 23.7174\n",
      "Percentage of Complex Words: 29.61\n",
      "Fog Index: 141.04\n",
      "Average Number of Words Per Sentence: 23.7174\n",
      "Complex Word Count: 323\n",
      "Word count: 573\n",
      "Syllable per Word: 2.04\n",
      "Personal Pronouns: 34\n",
      "Average Word Length: 6.58\n"
     ]
    }
   ],
   "source": [
    "variables_computation('https://insights.blackcoffer.com/an-outlook-of-healthcare-by-the-year-2040-and-how-it-will-impact-human-lives/',7973.6)"
   ]
  },
  {
   "cell_type": "code",
   "execution_count": 614,
   "id": "41f0dfcd",
   "metadata": {},
   "outputs": [
    {
     "name": "stdout",
     "output_type": "stream",
     "text": [
      "url_Id(8435.4)\n",
      "Positive Score: 64\n",
      "Negative Score: 34\n",
      "Polarity Score: 0.31\n",
      "Subjectivity Score: 0.09\n",
      "Average Sentence Length: 22.5256\n",
      "Percentage of Complex Words: 35.91\n",
      "Fog Index: 266.77\n",
      "Average Number of Words Per Sentence: 22.5256\n",
      "Complex Word Count: 631\n",
      "Word count: 1070\n",
      "Syllable per Word: 2.22\n",
      "Personal Pronouns: 30\n",
      "Average Word Length: 6.93\n"
     ]
    }
   ],
   "source": [
    "variables_computation2345('https://insights.blackcoffer.com/ai-in-healthcare-to-improve-patient-outcomes/',8435.4)"
   ]
  },
  {
   "cell_type": "code",
   "execution_count": 615,
   "id": "28089d12",
   "metadata": {},
   "outputs": [
    {
     "name": "stdout",
     "output_type": "stream",
     "text": [
      "url_Id(8897.2)\n",
      "Positive Score: 60\n",
      "Negative Score: 37\n",
      "Polarity Score: 0.24\n",
      "Subjectivity Score: 0.15\n",
      "Average Sentence Length: 19.6761\n",
      "Percentage of Complex Words: 24.19\n",
      "Fog Index: 144.88\n",
      "Average Number of Words Per Sentence: 19.6761\n",
      "Complex Word Count: 338\n",
      "Word count: 664\n",
      "Syllable per Word: 1.9\n",
      "Personal Pronouns: 70\n",
      "Average Word Length: 6.07\n"
     ]
    }
   ],
   "source": [
    "variables_computation('https://insights.blackcoffer.com/what-if-the-creation-is-taking-over-the-creator/',8897.2)"
   ]
  },
  {
   "cell_type": "code",
   "execution_count": 616,
   "id": "a14032ff",
   "metadata": {},
   "outputs": [
    {
     "name": "stdout",
     "output_type": "stream",
     "text": [
      "url_Id(9359)\n",
      "Positive Score: 66\n",
      "Negative Score: 36\n",
      "Polarity Score: 0.29\n",
      "Subjectivity Score: 0.11\n",
      "Average Sentence Length: 19.6824\n",
      "Percentage of Complex Words: 34.13\n",
      "Fog Index: 242.05\n",
      "Average Number of Words Per Sentence: 19.6824\n",
      "Complex Word Count: 571\n",
      "Word count: 930\n",
      "Syllable per Word: 2.15\n",
      "Personal Pronouns: 39\n",
      "Average Word Length: 6.65\n"
     ]
    }
   ],
   "source": [
    "variables_computation('https://insights.blackcoffer.com/what-jobs-will-robots-take-from-humans-in-the-future/',9359)"
   ]
  },
  {
   "cell_type": "code",
   "execution_count": 617,
   "id": "2825d22c",
   "metadata": {},
   "outputs": [
    {
     "name": "stdout",
     "output_type": "stream",
     "text": [
      "url_Id(9820.8)\n",
      "Positive Score: 69\n",
      "Negative Score: 28\n",
      "Polarity Score: 0.42\n",
      "Subjectivity Score: 0.12\n",
      "Average Sentence Length: 19.506\n",
      "Percentage of Complex Words: 24.09\n",
      "Fog Index: 165.64\n",
      "Average Number of Words Per Sentence: 19.506\n",
      "Complex Word Count: 390\n",
      "Word count: 777\n",
      "Syllable per Word: 1.92\n",
      "Personal Pronouns: 61\n",
      "Average Word Length: 6.11\n"
     ]
    }
   ],
   "source": [
    "variables_computation('https://insights.blackcoffer.com/will-machine-replace-the-human-in-the-future-of-work/',9820.8)"
   ]
  },
  {
   "cell_type": "code",
   "execution_count": 618,
   "id": "8aaaca51",
   "metadata": {},
   "outputs": [
    {
     "name": "stdout",
     "output_type": "stream",
     "text": [
      "url_Id(10282.6)\n",
      "Positive Score: 60\n",
      "Negative Score: 26\n",
      "Polarity Score: 0.4\n",
      "Subjectivity Score: 0.1\n",
      "Average Sentence Length: 20.8049\n",
      "Percentage of Complex Words: 26.67\n",
      "Fog Index: 192.67\n",
      "Average Number of Words Per Sentence: 20.8049\n",
      "Complex Word Count: 455\n",
      "Word count: 874\n",
      "Syllable per Word: 1.97\n",
      "Personal Pronouns: 70\n",
      "Average Word Length: 6.38\n"
     ]
    }
   ],
   "source": [
    "variables_computation('https://insights.blackcoffer.com/will-ai-replace-us-or-work-with-us/', 10282.6)"
   ]
  },
  {
   "cell_type": "code",
   "execution_count": 619,
   "id": "4488641d",
   "metadata": {},
   "outputs": [
    {
     "name": "stdout",
     "output_type": "stream",
     "text": [
      "url_Id(10744.4)\n",
      "Positive Score: 45\n",
      "Negative Score: 24\n",
      "Polarity Score: 0.3\n",
      "Subjectivity Score: 0.11\n",
      "Average Sentence Length: 21.5424\n",
      "Percentage of Complex Words: 26.44\n",
      "Fog Index: 144.97\n",
      "Average Number of Words Per Sentence: 21.5424\n",
      "Complex Word Count: 336\n",
      "Word count: 641\n",
      "Syllable per Word: 1.96\n",
      "Personal Pronouns: 78\n",
      "Average Word Length: 6.31\n"
     ]
    }
   ],
   "source": [
    "variables_computation('https://insights.blackcoffer.com/man-and-machines-together-machines-are-more-diligent-than-humans-blackcoffe/',10744.4)"
   ]
  },
  {
   "cell_type": "code",
   "execution_count": 620,
   "id": "43158abe",
   "metadata": {},
   "outputs": [
    {
     "name": "stdout",
     "output_type": "stream",
     "text": [
      "url_Id(11206.2)\n",
      "Positive Score: 26\n",
      "Negative Score: 12\n",
      "Polarity Score: 0.37\n",
      "Subjectivity Score: 0.1\n",
      "Average Sentence Length: 15.8478\n",
      "Percentage of Complex Words: 25.79\n",
      "Fog Index: 85.52\n",
      "Average Number of Words Per Sentence: 15.8478\n",
      "Complex Word Count: 188\n",
      "Word count: 383\n",
      "Syllable per Word: 1.94\n",
      "Personal Pronouns: 24\n",
      "Average Word Length: 6.31\n"
     ]
    }
   ],
   "source": [
    "variables_computation('https://insights.blackcoffer.com/in-future-or-in-upcoming-years-humans-and-machines-are-going-to-work-together-in-every-field-of-work/',11206.2)"
   ]
  },
  {
   "cell_type": "code",
   "execution_count": 627,
   "id": "8559c965",
   "metadata": {},
   "outputs": [
    {
     "name": "stdout",
     "output_type": "stream",
     "text": [
      "url_Id(12129.8)\n",
      "Positive Score: 37\n",
      "Negative Score: 13\n",
      "Polarity Score: 0.48\n",
      "Subjectivity Score: 0.13\n",
      "Average Sentence Length: 19.8611\n",
      "Percentage of Complex Words: 23.64\n",
      "Fog Index: 77.05\n",
      "Average Number of Words Per Sentence: 19.8611\n",
      "Complex Word Count: 169\n",
      "Word count: 374\n",
      "Syllable per Word: 1.88\n",
      "Personal Pronouns: 43\n",
      "Average Word Length: 6.05\n"
     ]
    }
   ],
   "source": [
    "variables_computation('https://insights.blackcoffer.com/how-machine-learning-will-affect-your-business/',12129.8)"
   ]
  },
  {
   "cell_type": "code",
   "execution_count": 633,
   "id": "da0fc1ac",
   "metadata": {},
   "outputs": [
    {
     "name": "stdout",
     "output_type": "stream",
     "text": [
      "url_Id(12591.6)\n",
      "Positive Score: 68\n",
      "Negative Score: 41\n",
      "Polarity Score: 0.25\n",
      "Subjectivity Score: 0.1\n",
      "Average Sentence Length: 24.7674\n",
      "Percentage of Complex Words: 26.81\n",
      "Fog Index: 239.12\n",
      "Average Number of Words Per Sentence: 24.7674\n",
      "Complex Word Count: 571\n",
      "Word count: 1059\n",
      "Syllable per Word: 1.98\n",
      "Personal Pronouns: 83\n",
      "Average Word Length: 6.13\n"
     ]
    }
   ],
   "source": [
    "variables_computation('https://insights.blackcoffer.com/deep-learning-impact-on-areas-of-e-learning/',12591.6)"
   ]
  },
  {
   "cell_type": "code",
   "execution_count": 634,
   "id": "eccb6cc8",
   "metadata": {},
   "outputs": [
    {
     "name": "stdout",
     "output_type": "stream",
     "text": [
      "url_Id(13053.4)\n",
      "Positive Score: 49\n",
      "Negative Score: 69\n",
      "Polarity Score: -0.17\n",
      "Subjectivity Score: 0.11\n",
      "Average Sentence Length: 16.8261\n",
      "Percentage of Complex Words: 28.27\n",
      "Fog Index: 230.11\n",
      "Average Number of Words Per Sentence: 16.8261\n",
      "Complex Word Count: 547\n",
      "Word count: 1083\n",
      "Syllable per Word: 2.03\n",
      "Personal Pronouns: 158\n",
      "Average Word Length: 6.48\n"
     ]
    }
   ],
   "source": [
    "variables_computation('https://insights.blackcoffer.com/how-to-protect-future-data-and-its-privacy-blackcoffer/',13053.4)"
   ]
  },
  {
   "cell_type": "code",
   "execution_count": 635,
   "id": "6c08dfa3",
   "metadata": {},
   "outputs": [
    {
     "name": "stdout",
     "output_type": "stream",
     "text": [
      "url_Id(13515.2)\n",
      "Positive Score: 35\n",
      "Negative Score: 22\n",
      "Polarity Score: 0.23\n",
      "Subjectivity Score: 0.09\n",
      "Average Sentence Length: 21.0182\n",
      "Percentage of Complex Words: 33.13\n",
      "Fog Index: 166.45\n",
      "Average Number of Words Per Sentence: 21.0182\n",
      "Complex Word Count: 383\n",
      "Word count: 648\n",
      "Syllable per Word: 2.19\n",
      "Personal Pronouns: 45\n",
      "Average Word Length: 6.81\n"
     ]
    }
   ],
   "source": [
    "variables_computation('https://insights.blackcoffer.com/how-machines-ai-automations-and-robo-human-are-effective-in-finance-and-banking/',13515.2)"
   ]
  },
  {
   "cell_type": "code",
   "execution_count": 636,
   "id": "8b7cc824",
   "metadata": {},
   "outputs": [
    {
     "name": "stdout",
     "output_type": "stream",
     "text": [
      "url_Id(13977)\n",
      "Positive Score: 31\n",
      "Negative Score: 29\n",
      "Polarity Score: 0.03\n",
      "Subjectivity Score: 0.09\n",
      "Average Sentence Length: 16.3514\n",
      "Percentage of Complex Words: 27.11\n",
      "Fog Index: 142.04\n",
      "Average Number of Words Per Sentence: 16.3514\n",
      "Complex Word Count: 328\n",
      "Word count: 666\n",
      "Syllable per Word: 1.98\n",
      "Personal Pronouns: 26\n",
      "Average Word Length: 6.28\n"
     ]
    }
   ],
   "source": [
    "variables_computation('https://insights.blackcoffer.com/ai-human-robotics-machine-future-planet-blackcoffer-thinking-jobs-workplace/',13977)"
   ]
  },
  {
   "cell_type": "code",
   "execution_count": 637,
   "id": "5e29bb1c",
   "metadata": {},
   "outputs": [
    {
     "name": "stdout",
     "output_type": "stream",
     "text": [
      "url_Id(14438.8)\n",
      "Positive Score: 63\n",
      "Negative Score: 24\n",
      "Polarity Score: 0.45\n",
      "Subjectivity Score: 0.12\n",
      "Average Sentence Length: 20.9367\n",
      "Percentage of Complex Words: 25.33\n",
      "Fog Index: 177.73\n",
      "Average Number of Words Per Sentence: 20.9367\n",
      "Complex Word Count: 419\n",
      "Word count: 755\n",
      "Syllable per Word: 1.96\n",
      "Personal Pronouns: 102\n",
      "Average Word Length: 6.13\n"
     ]
    }
   ],
   "source": [
    "variables_computation('https://insights.blackcoffer.com/how-ai-will-change-the-world-blackcoffer/',14438.8)"
   ]
  },
  {
   "cell_type": "code",
   "execution_count": 639,
   "id": "04550082",
   "metadata": {},
   "outputs": [
    {
     "name": "stdout",
     "output_type": "stream",
     "text": [
      "url_Id(14900.6)\n",
      "Positive Score: 76\n",
      "Negative Score: 24\n",
      "Polarity Score: 0.52\n",
      "Subjectivity Score: 0.12\n",
      "Average Sentence Length: 19.1325\n",
      "Percentage of Complex Words: 28.4\n",
      "Fog Index: 191.76\n",
      "Average Number of Words Per Sentence: 19.1325\n",
      "Complex Word Count: 451\n",
      "Word count: 848\n",
      "Syllable per Word: 2.06\n",
      "Personal Pronouns: 49\n",
      "Average Word Length: 6.45\n"
     ]
    }
   ],
   "source": [
    "variables_computation2345('https://insights.blackcoffer.com/future-of-work-how-ai-has-entered-the-workplace/',14900.6)"
   ]
  },
  {
   "cell_type": "code",
   "execution_count": 640,
   "id": "e24aacfe",
   "metadata": {},
   "outputs": [
    {
     "name": "stdout",
     "output_type": "stream",
     "text": [
      "url_Id(15362.4)\n",
      "Positive Score: 26\n",
      "Negative Score: 0\n",
      "Polarity Score: 1.0\n",
      "Subjectivity Score: 0.09\n",
      "Average Sentence Length: 22.3182\n",
      "Percentage of Complex Words: 33.6\n",
      "Fog Index: 79.44\n",
      "Average Number of Words Per Sentence: 22.3182\n",
      "Complex Word Count: 165\n",
      "Word count: 283\n",
      "Syllable per Word: 2.2\n",
      "Personal Pronouns: 13\n",
      "Average Word Length: 6.75\n"
     ]
    }
   ],
   "source": [
    "variables_computation('https://insights.blackcoffer.com/ai-tool-alexa-google-assistant-finance-banking-tool-future/',15362.4)"
   ]
  },
  {
   "cell_type": "code",
   "execution_count": 641,
   "id": "729b4859",
   "metadata": {},
   "outputs": [
    {
     "name": "stdout",
     "output_type": "stream",
     "text": [
      "url_Id(15824.2)\n",
      "Positive Score: 79\n",
      "Negative Score: 39\n",
      "Polarity Score: 0.34\n",
      "Subjectivity Score: 0.16\n",
      "Average Sentence Length: 225.75\n",
      "Percentage of Complex Words: 23.75\n",
      "Fog Index: 181.1\n",
      "Average Number of Words Per Sentence: 225.75\n",
      "Complex Word Count: 429\n",
      "Word count: 745\n",
      "Syllable per Word: 1.85\n",
      "Personal Pronouns: 75\n",
      "Average Word Length: 5.84\n"
     ]
    }
   ],
   "source": [
    "variables_computation('https://insights.blackcoffer.com/ai-healthcare-revolution-ml-technology-algorithm-google-analytics-industrialrevolution/',15824.2)"
   ]
  },
  {
   "cell_type": "code",
   "execution_count": 642,
   "id": "b9645b13",
   "metadata": {},
   "outputs": [
    {
     "name": "stdout",
     "output_type": "stream",
     "text": [
      "url_Id(16286)\n",
      "Positive Score: 26\n",
      "Negative Score: 0\n",
      "Polarity Score: 1.0\n",
      "Subjectivity Score: 0.05\n",
      "Average Sentence Length: 16.3214\n",
      "Percentage of Complex Words: 33.59\n",
      "Fog Index: 136.24\n",
      "Average Number of Words Per Sentence: 16.3214\n",
      "Complex Word Count: 307\n",
      "Word count: 518\n",
      "Syllable per Word: 2.09\n",
      "Personal Pronouns: 42\n",
      "Average Word Length: 6.62\n"
     ]
    }
   ],
   "source": [
    "variables_computation('https://insights.blackcoffer.com/all-you-need-to-know-about-online-marketing/',16286)"
   ]
  },
  {
   "cell_type": "code",
   "execution_count": 643,
   "id": "2de81ca5",
   "metadata": {},
   "outputs": [
    {
     "name": "stdout",
     "output_type": "stream",
     "text": [
      "url_Id(16747.8)\n",
      "Positive Score: 14\n",
      "Negative Score: 6\n",
      "Polarity Score: 0.4\n",
      "Subjectivity Score: 0.05\n",
      "Average Sentence Length: 16.4524\n",
      "Percentage of Complex Words: 34.44\n",
      "Fog Index: 108.98\n",
      "Average Number of Words Per Sentence: 16.4524\n",
      "Complex Word Count: 238\n",
      "Word count: 391\n",
      "Syllable per Word: 2.16\n",
      "Personal Pronouns: 11\n",
      "Average Word Length: 6.93\n"
     ]
    }
   ],
   "source": [
    "variables_computation('https://insights.blackcoffer.com/evolution-of-advertising-industry/',16747.8)"
   ]
  },
  {
   "cell_type": "code",
   "execution_count": 644,
   "id": "96c6c88b",
   "metadata": {},
   "outputs": [
    {
     "name": "stdout",
     "output_type": "stream",
     "text": [
      "url_Id(17209.6)\n",
      "Positive Score: 3\n",
      "Negative Score: 4\n",
      "Polarity Score: -0.14\n",
      "Subjectivity Score: 0.04\n",
      "Average Sentence Length: 22.5385\n",
      "Percentage of Complex Words: 34.13\n",
      "Fog Index: 53.65\n",
      "Average Number of Words Per Sentence: 22.5385\n",
      "Complex Word Count: 100\n",
      "Word count: 160\n",
      "Syllable per Word: 2.18\n",
      "Personal Pronouns: 10\n",
      "Average Word Length: 7.04\n"
     ]
    }
   ],
   "source": [
    "variables_computation('https://insights.blackcoffer.com/how-data-analytics-can-help-your-business-respond-to-the-impact-of-covid-19/',17209.6)"
   ]
  },
  {
   "cell_type": "code",
   "execution_count": 649,
   "id": "03e55638",
   "metadata": {},
   "outputs": [
    {
     "name": "stdout",
     "output_type": "stream",
     "text": [
      "url_Id(18133.2)\n",
      "Positive Score: 24\n",
      "Negative Score: 69\n",
      "Polarity Score: -0.48\n",
      "Subjectivity Score: 0.13\n",
      "Average Sentence Length: 23.4655\n",
      "Percentage of Complex Words: 28.95\n",
      "Fog Index: 169.18\n",
      "Average Number of Words Per Sentence: 23.4655\n",
      "Complex Word Count: 394\n",
      "Word count: 721\n",
      "Syllable per Word: 2.01\n",
      "Personal Pronouns: 27\n",
      "Average Word Length: 6.3\n"
     ]
    }
   ],
   "source": [
    "variables_computation('https://insights.blackcoffer.com/environmental-impact-of-the-covid-19-pandemic-lesson-for-the-future/',18133.2)"
   ]
  },
  {
   "cell_type": "code",
   "execution_count": 651,
   "id": "5965638a",
   "metadata": {},
   "outputs": [
    {
     "name": "stdout",
     "output_type": "stream",
     "text": [
      "url_Id(18595)\n",
      "Positive Score: 17\n",
      "Negative Score: 14\n",
      "Polarity Score: 0.1\n",
      "Subjectivity Score: 0.08\n",
      "Average Sentence Length: 22.3125\n",
      "Percentage of Complex Words: 25.77\n",
      "Fog Index: 83.91\n",
      "Average Number of Words Per Sentence: 22.3125\n",
      "Complex Word Count: 184\n",
      "Word count: 368\n",
      "Syllable per Word: 1.92\n",
      "Personal Pronouns: 20\n",
      "Average Word Length: 6.15\n"
     ]
    }
   ],
   "source": [
    "variables_computation('https://insights.blackcoffer.com/how-data-analytics-and-ai-are-used-to-halt-the-covid-19-pandemic/',18595)"
   ]
  },
  {
   "cell_type": "code",
   "execution_count": 652,
   "id": "ccca0984",
   "metadata": {},
   "outputs": [
    {
     "name": "stdout",
     "output_type": "stream",
     "text": [
      "url_Id(19056.8)\n",
      "Positive Score: 58\n",
      "Negative Score: 37\n",
      "Polarity Score: 0.22\n",
      "Subjectivity Score: 0.1\n",
      "Average Sentence Length: 20.6848\n",
      "Percentage of Complex Words: 23.8\n",
      "Fog Index: 190.72\n",
      "Average Number of Words Per Sentence: 20.6848\n",
      "Complex Word Count: 453\n",
      "Word count: 914\n",
      "Syllable per Word: 1.91\n",
      "Personal Pronouns: 63\n",
      "Average Word Length: 6.11\n"
     ]
    }
   ],
   "source": [
    "variables_computation('https://insights.blackcoffer.com/difference-between-artificial-intelligence-machine-learning-statistics-and-data-mining/',19056.8)"
   ]
  },
  {
   "cell_type": "code",
   "execution_count": 653,
   "id": "d27252c0",
   "metadata": {},
   "outputs": [
    {
     "name": "stdout",
     "output_type": "stream",
     "text": [
      "url_Id(19518.6)\n",
      "Positive Score: 40\n",
      "Negative Score: 3\n",
      "Polarity Score: 0.86\n",
      "Subjectivity Score: 0.12\n",
      "Average Sentence Length: 14.7273\n",
      "Percentage of Complex Words: 29.78\n",
      "Fog Index: 89.11\n",
      "Average Number of Words Per Sentence: 14.7273\n",
      "Complex Word Count: 193\n",
      "Word count: 347\n",
      "Syllable per Word: 2.03\n",
      "Personal Pronouns: 27\n",
      "Average Word Length: 6.52\n"
     ]
    }
   ],
   "source": [
    "variables_computation('https://insights.blackcoffer.com/how-python-became-the-first-choice-for-data-science/',19518.6)"
   ]
  },
  {
   "cell_type": "code",
   "execution_count": 654,
   "id": "6cf34410",
   "metadata": {},
   "outputs": [
    {
     "name": "stdout",
     "output_type": "stream",
     "text": [
      "url_Id(19980.4)\n",
      "Positive Score: 5\n",
      "Negative Score: 1\n",
      "Polarity Score: 0.67\n",
      "Subjectivity Score: 0.03\n",
      "Average Sentence Length: 21.8235\n",
      "Percentage of Complex Words: 23.72\n",
      "Fog Index: 44.69\n",
      "Average Number of Words Per Sentence: 21.8235\n",
      "Complex Word Count: 88\n",
      "Word count: 205\n",
      "Syllable per Word: 1.96\n",
      "Personal Pronouns: 17\n",
      "Average Word Length: 6.2\n"
     ]
    }
   ],
   "source": [
    "variables_computation('https://insights.blackcoffer.com/how-google-fit-measure-heart-and-respiratory-rates-using-a-phone/',19980.4)"
   ]
  },
  {
   "cell_type": "code",
   "execution_count": 655,
   "id": "aafa3165",
   "metadata": {},
   "outputs": [
    {
     "name": "stdout",
     "output_type": "stream",
     "text": [
      "url_Id(20442.2)\n",
      "Positive Score: 30\n",
      "Negative Score: 9\n",
      "Polarity Score: 0.54\n",
      "Subjectivity Score: 0.06\n",
      "Average Sentence Length: 21.8\n",
      "Percentage of Complex Words: 26.61\n",
      "Fog Index: 126.64\n",
      "Average Number of Words Per Sentence: 21.8\n",
      "Complex Word Count: 290\n",
      "Word count: 627\n",
      "Syllable per Word: 1.95\n",
      "Personal Pronouns: 46\n",
      "Average Word Length: 6.27\n"
     ]
    }
   ],
   "source": [
    "variables_computation('https://insights.blackcoffer.com/what-is-the-future-of-mobile-apps/',20442.2)"
   ]
  },
  {
   "cell_type": "code",
   "execution_count": 656,
   "id": "1ce434a2",
   "metadata": {},
   "outputs": [
    {
     "name": "stdout",
     "output_type": "stream",
     "text": [
      "url_Id(20904)\n",
      "Positive Score: 25\n",
      "Negative Score: 8\n",
      "Polarity Score: 0.52\n",
      "Subjectivity Score: 0.09\n",
      "Average Sentence Length: 23.56\n",
      "Percentage of Complex Words: 33.45\n",
      "Fog Index: 92.18\n",
      "Average Number of Words Per Sentence: 23.56\n",
      "Complex Word Count: 197\n",
      "Word count: 357\n",
      "Syllable per Word: 2.24\n",
      "Personal Pronouns: 9\n",
      "Average Word Length: 6.94\n"
     ]
    }
   ],
   "source": [
    "variables_computation('https://insights.blackcoffer.com/impact-of-ai-in-health-and-medicine/',20904)"
   ]
  },
  {
   "cell_type": "code",
   "execution_count": 657,
   "id": "8560b22f",
   "metadata": {},
   "outputs": [
    {
     "name": "stdout",
     "output_type": "stream",
     "text": [
      "url_Id(21365.8)\n",
      "Positive Score: 15\n",
      "Negative Score: 8\n",
      "Polarity Score: 0.3\n",
      "Subjectivity Score: 0.13\n",
      "Average Sentence Length: 13.2069\n",
      "Percentage of Complex Words: 25.59\n",
      "Fog Index: 49.43\n",
      "Average Number of Words Per Sentence: 13.2069\n",
      "Complex Word Count: 98\n",
      "Word count: 181\n",
      "Syllable per Word: 2.03\n",
      "Personal Pronouns: 16\n",
      "Average Word Length: 6.36\n"
     ]
    }
   ],
   "source": [
    "variables_computation('https://insights.blackcoffer.com/telemedicine-what-patients-like-and-dislike-about-it/',21365.8)"
   ]
  },
  {
   "cell_type": "code",
   "execution_count": 658,
   "id": "d65d912b",
   "metadata": {},
   "outputs": [
    {
     "name": "stdout",
     "output_type": "stream",
     "text": [
      "url_Id(21827.6)\n",
      "Positive Score: 5\n",
      "Negative Score: 0\n",
      "Polarity Score: 1.0\n",
      "Subjectivity Score: 0.05\n",
      "Average Sentence Length: 16.0\n",
      "Percentage of Complex Words: 31.87\n",
      "Fog Index: 33.15\n",
      "Average Number of Words Per Sentence: 16.0\n",
      "Complex Word Count: 51\n",
      "Word count: 96\n",
      "Syllable per Word: 2.11\n",
      "Personal Pronouns: 6\n",
      "Average Word Length: 6.64\n"
     ]
    }
   ],
   "source": [
    "variables_computation('https://insights.blackcoffer.com/how-we-forecast-future-technologies/',21827.6)"
   ]
  },
  {
   "cell_type": "code",
   "execution_count": 659,
   "id": "010c6929",
   "metadata": {},
   "outputs": [
    {
     "name": "stdout",
     "output_type": "stream",
     "text": [
      "url_Id(22289.4)\n",
      "Positive Score: 23\n",
      "Negative Score: 36\n",
      "Polarity Score: -0.22\n",
      "Subjectivity Score: 0.15\n",
      "Average Sentence Length: 14.6364\n",
      "Percentage of Complex Words: 20.62\n",
      "Fog Index: 74.65\n",
      "Average Number of Words Per Sentence: 14.6364\n",
      "Complex Word Count: 166\n",
      "Word count: 383\n",
      "Syllable per Word: 1.84\n",
      "Personal Pronouns: 101\n",
      "Average Word Length: 5.91\n"
     ]
    }
   ],
   "source": [
    "variables_computation('https://insights.blackcoffer.com/can-robots-tackle-late-life-loneliness/',22289.4)"
   ]
  },
  {
   "cell_type": "code",
   "execution_count": 660,
   "id": "ce324e80",
   "metadata": {},
   "outputs": [
    {
     "name": "stdout",
     "output_type": "stream",
     "text": [
      "url_Id(22751.2)\n",
      "Positive Score: 9\n",
      "Negative Score: 2\n",
      "Polarity Score: 0.64\n",
      "Subjectivity Score: 0.12\n",
      "Average Sentence Length: 17.7\n",
      "Percentage of Complex Words: 23.73\n",
      "Fog Index: 26.29\n",
      "Average Number of Words Per Sentence: 17.7\n",
      "Complex Word Count: 42\n",
      "Word count: 89\n",
      "Syllable per Word: 1.9\n",
      "Personal Pronouns: 9\n",
      "Average Word Length: 6.01\n"
     ]
    }
   ],
   "source": [
    "variables_computation('https://insights.blackcoffer.com/embedding-care-robots-into-society-socio-technical-considerations/',22751.2)"
   ]
  },
  {
   "cell_type": "code",
   "execution_count": 663,
   "id": "8ffe0385",
   "metadata": {},
   "outputs": [
    {
     "name": "stdout",
     "output_type": "stream",
     "text": [
      "url_Id(23213)\n",
      "Positive Score: 47\n",
      "Negative Score: 19\n",
      "Polarity Score: 0.42\n",
      "Subjectivity Score: 0.1\n",
      "Average Sentence Length: 16.1884\n",
      "Percentage of Complex Words: 36.88\n",
      "Fog Index: 179.55\n",
      "Average Number of Words Per Sentence: 16.1884\n",
      "Complex Word Count: 412\n",
      "Word count: 660\n",
      "Syllable per Word: 2.29\n",
      "Personal Pronouns: 40\n",
      "Average Word Length: 7.06\n"
     ]
    }
   ],
   "source": [
    "variables_computation('https://insights.blackcoffer.com/management-challenges-for-future-digitalization-of-healthcare-services/',23213)"
   ]
  },
  {
   "cell_type": "code",
   "execution_count": 664,
   "id": "bd8d8afc",
   "metadata": {},
   "outputs": [
    {
     "name": "stdout",
     "output_type": "stream",
     "text": [
      "url_Id(23674.8)\n",
      "Positive Score: 10\n",
      "Negative Score: 18\n",
      "Polarity Score: -0.29\n",
      "Subjectivity Score: 0.1\n",
      "Average Sentence Length: 16.9677\n",
      "Percentage of Complex Words: 28.52\n",
      "Fog Index: 71.41\n",
      "Average Number of Words Per Sentence: 16.9677\n",
      "Complex Word Count: 150\n",
      "Word count: 278\n",
      "Syllable per Word: 1.93\n",
      "Personal Pronouns: 17\n",
      "Average Word Length: 6.23\n"
     ]
    }
   ],
   "source": [
    "variables_computation('https://insights.blackcoffer.com/are-we-any-closer-to-preventing-a-nuclear-holocaust/',23674.8)"
   ]
  },
  {
   "cell_type": "code",
   "execution_count": 666,
   "id": "5b30fdbe",
   "metadata": {},
   "outputs": [
    {
     "name": "stdout",
     "output_type": "stream",
     "text": [
      "url_Id(24136.6)\n",
      "Positive Score: 23\n",
      "Negative Score: 37\n",
      "Polarity Score: -0.23\n",
      "Subjectivity Score: 0.12\n",
      "Average Sentence Length: 20.9\n",
      "Percentage of Complex Words: 23.83\n",
      "Fog Index: 109.13\n",
      "Average Number of Words Per Sentence: 20.9\n",
      "Complex Word Count: 249\n",
      "Word count: 507\n",
      "Syllable per Word: 1.88\n",
      "Personal Pronouns: 53\n",
      "Average Word Length: 6.02\n"
     ]
    }
   ],
   "source": [
    "variables_computation('https://insights.blackcoffer.com/will-technology-eliminate-the-need-for-animal-testing-in-drug-development/',24136.6)"
   ]
  },
  {
   "cell_type": "code",
   "execution_count": 667,
   "id": "814f26df",
   "metadata": {},
   "outputs": [
    {
     "name": "stdout",
     "output_type": "stream",
     "text": [
      "url_Id(24598.4)\n",
      "Positive Score: 25\n",
      "Negative Score: 49\n",
      "Polarity Score: -0.32\n",
      "Subjectivity Score: 0.08\n",
      "Average Sentence Length: 22.8108\n",
      "Percentage of Complex Words: 30.81\n",
      "Fog Index: 220.32\n",
      "Average Number of Words Per Sentence: 22.8108\n",
      "Complex Word Count: 520\n",
      "Word count: 903\n",
      "Syllable per Word: 2.11\n",
      "Personal Pronouns: 58\n",
      "Average Word Length: 6.63\n"
     ]
    }
   ],
   "source": [
    "variables_computation('https://insights.blackcoffer.com/will-we-ever-understand-the-nature-of-consciousness/',24598.4)"
   ]
  },
  {
   "cell_type": "code",
   "execution_count": 668,
   "id": "fbae5549",
   "metadata": {},
   "outputs": [
    {
     "name": "stdout",
     "output_type": "stream",
     "text": [
      "url_Id(25060.2)\n",
      "Positive Score: 42\n",
      "Negative Score: 23\n",
      "Polarity Score: 0.29\n",
      "Subjectivity Score: 0.08\n",
      "Average Sentence Length: 23.9722\n",
      "Percentage of Complex Words: 21.9\n",
      "Fog Index: 159.96\n",
      "Average Number of Words Per Sentence: 23.9722\n",
      "Complex Word Count: 378\n",
      "Word count: 792\n",
      "Syllable per Word: 1.85\n",
      "Personal Pronouns: 57\n",
      "Average Word Length: 5.92\n"
     ]
    }
   ],
   "source": [
    "variables_computation('https://insights.blackcoffer.com/will-we-ever-colonize-outer-space/',25060.2)"
   ]
  },
  {
   "cell_type": "code",
   "execution_count": 669,
   "id": "cebb2383",
   "metadata": {},
   "outputs": [
    {
     "name": "stdout",
     "output_type": "stream",
     "text": [
      "url_Id(25522)\n",
      "Positive Score: 34\n",
      "Negative Score: 25\n",
      "Polarity Score: 0.15\n",
      "Subjectivity Score: 0.08\n",
      "Average Sentence Length: 20.8261\n",
      "Percentage of Complex Words: 23.52\n",
      "Fog Index: 144.61\n",
      "Average Number of Words Per Sentence: 20.8261\n",
      "Complex Word Count: 338\n",
      "Word count: 726\n",
      "Syllable per Word: 1.88\n",
      "Personal Pronouns: 57\n",
      "Average Word Length: 6.06\n"
     ]
    }
   ],
   "source": [
    "variables_computation('https://insights.blackcoffer.com/what-is-the-chance-homo-sapiens-will-survive-for-the-next-500-years/',25522)"
   ]
  },
  {
   "cell_type": "code",
   "execution_count": 670,
   "id": "13ced0ec",
   "metadata": {},
   "outputs": [
    {
     "name": "stdout",
     "output_type": "stream",
     "text": [
      "url_Id(25983.8)\n",
      "Positive Score: 25\n",
      "Negative Score: 7\n",
      "Polarity Score: 0.56\n",
      "Subjectivity Score: 0.08\n",
      "Average Sentence Length: 12.9552\n",
      "Percentage of Complex Words: 22.24\n",
      "Fog Index: 86.09\n",
      "Average Number of Words Per Sentence: 12.9552\n",
      "Complex Word Count: 193\n",
      "Word count: 398\n",
      "Syllable per Word: 1.77\n",
      "Personal Pronouns: 77\n",
      "Average Word Length: 5.81\n"
     ]
    }
   ],
   "source": [
    "variables_computation('https://insights.blackcoffer.com/why-does-your-business-need-a-chatbot/',25983.8)"
   ]
  },
  {
   "cell_type": "code",
   "execution_count": 671,
   "id": "59a2afd4",
   "metadata": {},
   "outputs": [
    {
     "name": "stdout",
     "output_type": "stream",
     "text": [
      "url_Id(26445.6)\n",
      "Positive Score: 39\n",
      "Negative Score: 7\n",
      "Polarity Score: 0.7\n",
      "Subjectivity Score: 0.08\n",
      "Average Sentence Length: 24.2069\n",
      "Percentage of Complex Words: 21.58\n",
      "Fog Index: 129.83\n",
      "Average Number of Words Per Sentence: 24.2069\n",
      "Complex Word Count: 303\n",
      "Word count: 579\n",
      "Syllable per Word: 1.76\n",
      "Personal Pronouns: 86\n",
      "Average Word Length: 5.73\n"
     ]
    }
   ],
   "source": [
    "variables_computation('https://insights.blackcoffer.com/how-you-lead-a-project-or-a-team-without-any-technical-expertise/',26445.6)"
   ]
  },
  {
   "cell_type": "code",
   "execution_count": 673,
   "id": "9af14588",
   "metadata": {},
   "outputs": [
    {
     "name": "stdout",
     "output_type": "stream",
     "text": [
      "url_Id(26907.4)\n",
      "Positive Score: 30\n",
      "Negative Score: 6\n",
      "Polarity Score: 0.67\n",
      "Subjectivity Score: 0.18\n",
      "Average Sentence Length: 27.3529\n",
      "Percentage of Complex Words: 24.52\n",
      "Fog Index: 55.41\n",
      "Average Number of Words Per Sentence: 27.3529\n",
      "Complex Word Count: 114\n",
      "Word count: 195\n",
      "Syllable per Word: 1.9\n",
      "Personal Pronouns: 31\n",
      "Average Word Length: 5.84\n"
     ]
    }
   ],
   "source": [
    "variables_computation('https://insights.blackcoffer.com/can-you-be-great-leader-without-technical-expertise/',26907.4)"
   ]
  },
  {
   "cell_type": "code",
   "execution_count": 674,
   "id": "1dae9a1a",
   "metadata": {},
   "outputs": [
    {
     "name": "stdout",
     "output_type": "stream",
     "text": [
      "url_Id(27369.2)\n",
      "Positive Score: 39\n",
      "Negative Score: 16\n",
      "Polarity Score: 0.42\n",
      "Subjectivity Score: 0.06\n",
      "Average Sentence Length: 22.9559\n",
      "Percentage of Complex Words: 29.85\n",
      "Fog Index: 198.34\n",
      "Average Number of Words Per Sentence: 22.9559\n",
      "Complex Word Count: 466\n",
      "Word count: 855\n",
      "Syllable per Word: 2.06\n",
      "Personal Pronouns: 32\n",
      "Average Word Length: 6.4\n"
     ]
    }
   ],
   "source": [
    "variables_computation('https://insights.blackcoffer.com/how-does-artificial-intelligence-affect-the-environment/',27369.2)"
   ]
  },
  {
   "cell_type": "code",
   "execution_count": 675,
   "id": "fd0ce3d8",
   "metadata": {},
   "outputs": [
    {
     "name": "stdout",
     "output_type": "stream",
     "text": [
      "url_Id(27831)\n",
      "Positive Score: 24\n",
      "Negative Score: 73\n",
      "Polarity Score: -0.51\n",
      "Subjectivity Score: 0.21\n",
      "Average Sentence Length: 13.7571\n",
      "Percentage of Complex Words: 24.61\n",
      "Fog Index: 104.64\n",
      "Average Number of Words Per Sentence: 13.7571\n",
      "Complex Word Count: 237\n",
      "Word count: 467\n",
      "Syllable per Word: 1.95\n",
      "Personal Pronouns: 105\n",
      "Average Word Length: 6.09\n"
     ]
    }
   ],
   "source": [
    "variables_computation('https://insights.blackcoffer.com/how-to-overcome-your-fear-of-making-mistakes-2/',27831)"
   ]
  },
  {
   "cell_type": "code",
   "execution_count": 676,
   "id": "2c96dec3",
   "metadata": {},
   "outputs": [
    {
     "name": "stdout",
     "output_type": "stream",
     "text": [
      "url_Id(28292.8)\n",
      "Positive Score: 55\n",
      "Negative Score: 22\n",
      "Polarity Score: 0.43\n",
      "Subjectivity Score: 0.15\n",
      "Average Sentence Length: 15.1644\n",
      "Percentage of Complex Words: 17.71\n",
      "Fog Index: 85.48\n",
      "Average Number of Words Per Sentence: 15.1644\n",
      "Complex Word Count: 196\n",
      "Word count: 519\n",
      "Syllable per Word: 1.74\n",
      "Personal Pronouns: 112\n",
      "Average Word Length: 5.77\n"
     ]
    }
   ],
   "source": [
    "variables_computation('https://insights.blackcoffer.com/is-perfection-the-greatest-enemy-of-productivity/',28292.8)"
   ]
  },
  {
   "cell_type": "code",
   "execution_count": 677,
   "id": "6b32e98f",
   "metadata": {},
   "outputs": [
    {
     "name": "stdout",
     "output_type": "stream",
     "text": [
      "url_Id(28754.6)\n",
      "Positive Score: 27\n",
      "Negative Score: 46\n",
      "Polarity Score: -0.26\n",
      "Subjectivity Score: 0.11\n",
      "Average Sentence Length: 19.7627\n",
      "Percentage of Complex Words: 22.21\n",
      "Fog Index: 112.49\n",
      "Average Number of Words Per Sentence: 19.7627\n",
      "Complex Word Count: 259\n",
      "Word count: 658\n",
      "Syllable per Word: 1.86\n",
      "Personal Pronouns: 20\n",
      "Average Word Length: 6.2\n"
     ]
    }
   ],
   "source": [
    "variables_computation('https://insights.blackcoffer.com/global-financial-crisis-2008-causes-effects-and-its-solution/',28754.6)"
   ]
  },
  {
   "cell_type": "code",
   "execution_count": 678,
   "id": "f835c601",
   "metadata": {},
   "outputs": [
    {
     "name": "stdout",
     "output_type": "stream",
     "text": [
      "url_Id(29216.4)\n",
      "Positive Score: 31\n",
      "Negative Score: 26\n",
      "Polarity Score: 0.09\n",
      "Subjectivity Score: 0.07\n",
      "Average Sentence Length: 14.7128\n",
      "Percentage of Complex Words: 29.07\n",
      "Fog Index: 172.43\n",
      "Average Number of Words Per Sentence: 14.7128\n",
      "Complex Word Count: 402\n",
      "Word count: 764\n",
      "Syllable per Word: 2.08\n",
      "Personal Pronouns: 45\n",
      "Average Word Length: 6.61\n"
     ]
    }
   ],
   "source": [
    "variables_computation('https://insights.blackcoffer.com/gender-diversity-and-equality-in-the-tech-industry/',29216.4)"
   ]
  },
  {
   "cell_type": "code",
   "execution_count": 679,
   "id": "6486a5cf",
   "metadata": {},
   "outputs": [
    {
     "name": "stdout",
     "output_type": "stream",
     "text": [
      "url_Id(29678.2)\n",
      "Positive Score: 24\n",
      "Negative Score: 81\n",
      "Polarity Score: -0.54\n",
      "Subjectivity Score: 0.21\n",
      "Average Sentence Length: 14.0833\n",
      "Percentage of Complex Words: 25.44\n",
      "Fog Index: 113.38\n",
      "Average Number of Words Per Sentence: 14.0833\n",
      "Complex Word Count: 258\n",
      "Word count: 496\n",
      "Syllable per Word: 1.96\n",
      "Personal Pronouns: 108\n",
      "Average Word Length: 6.14\n"
     ]
    }
   ],
   "source": [
    "variables_computation('https://insights.blackcoffer.com/how-to-overcome-your-fear-of-making-mistakes/',29678.2)"
   ]
  },
  {
   "cell_type": "code",
   "execution_count": 680,
   "id": "494cf401",
   "metadata": {},
   "outputs": [
    {
     "name": "stdout",
     "output_type": "stream",
     "text": [
      "url_Id(30140)\n",
      "Positive Score: 40\n",
      "Negative Score: 35\n",
      "Polarity Score: 0.07\n",
      "Subjectivity Score: 0.1\n",
      "Average Sentence Length: 23.1642\n",
      "Percentage of Complex Words: 23.2\n",
      "Fog Index: 153.28\n",
      "Average Number of Words Per Sentence: 23.1642\n",
      "Complex Word Count: 360\n",
      "Word count: 755\n",
      "Syllable per Word: 1.82\n",
      "Personal Pronouns: 72\n",
      "Average Word Length: 6.0\n"
     ]
    }
   ],
   "source": [
    "variables_computation('https://insights.blackcoffer.com/how-small-business-can-survive-the-coronavirus-crisis/',30140)"
   ]
  },
  {
   "cell_type": "code",
   "execution_count": 681,
   "id": "e2828040",
   "metadata": {},
   "outputs": [
    {
     "name": "stdout",
     "output_type": "stream",
     "text": [
      "url_Id(30601.8)\n",
      "Positive Score: 23\n",
      "Negative Score: 13\n",
      "Polarity Score: 0.28\n",
      "Subjectivity Score: 0.09\n",
      "Average Sentence Length: 27.9259\n",
      "Percentage of Complex Words: 24.8\n",
      "Fog Index: 84.72\n",
      "Average Number of Words Per Sentence: 27.9259\n",
      "Complex Word Count: 187\n",
      "Word count: 403\n",
      "Syllable per Word: 1.98\n",
      "Personal Pronouns: 12\n",
      "Average Word Length: 6.37\n"
     ]
    }
   ],
   "source": [
    "variables_computation('https://insights.blackcoffer.com/impacts-of-covid-19-on-vegetable-vendors-and-food-stalls/',30601.8)"
   ]
  },
  {
   "cell_type": "code",
   "execution_count": 682,
   "id": "e6f7b3d9",
   "metadata": {},
   "outputs": [
    {
     "name": "stdout",
     "output_type": "stream",
     "text": [
      "url_Id(31063.6)\n",
      "Positive Score: 36\n",
      "Negative Score: 25\n",
      "Polarity Score: 0.18\n",
      "Subjectivity Score: 0.09\n",
      "Average Sentence Length: 29.375\n",
      "Percentage of Complex Words: 27.66\n",
      "Fog Index: 141.06\n",
      "Average Number of Words Per Sentence: 29.375\n",
      "Complex Word Count: 325\n",
      "Word count: 657\n",
      "Syllable per Word: 2.04\n",
      "Personal Pronouns: 17\n",
      "Average Word Length: 6.58\n"
     ]
    }
   ],
   "source": [
    "variables_computation('https://insights.blackcoffer.com/impacts-of-covid-19-on-vegetable-vendors/',31063.6)"
   ]
  },
  {
   "cell_type": "code",
   "execution_count": 683,
   "id": "cb0423f9",
   "metadata": {},
   "outputs": [
    {
     "name": "stdout",
     "output_type": "stream",
     "text": [
      "url_Id(31525.4)\n",
      "Positive Score: 32\n",
      "Negative Score: 52\n",
      "Polarity Score: -0.24\n",
      "Subjectivity Score: 0.1\n",
      "Average Sentence Length: 20.7375\n",
      "Percentage of Complex Words: 28.51\n",
      "Fog Index: 200.6\n",
      "Average Number of Words Per Sentence: 20.7375\n",
      "Complex Word Count: 473\n",
      "Word count: 869\n",
      "Syllable per Word: 2.01\n",
      "Personal Pronouns: 49\n",
      "Average Word Length: 6.39\n"
     ]
    }
   ],
   "source": [
    "variables_computation('https://insights.blackcoffer.com/impact-of-covid-19-pandemic-on-tourism-aviation-industries/',31525.4)"
   ]
  },
  {
   "cell_type": "code",
   "execution_count": 684,
   "id": "f26867b0",
   "metadata": {},
   "outputs": [
    {
     "name": "stdout",
     "output_type": "stream",
     "text": [
      "url_Id(31987.2)\n",
      "Positive Score: 36\n",
      "Negative Score: 11\n",
      "Polarity Score: 0.53\n",
      "Subjectivity Score: 0.02\n",
      "Average Sentence Length: 13.0323\n",
      "Percentage of Complex Words: 26.11\n",
      "Fog Index: 348.05\n",
      "Average Number of Words Per Sentence: 13.0323\n",
      "Complex Word Count: 844\n",
      "Word count: 2050\n",
      "Syllable per Word: 1.88\n",
      "Personal Pronouns: 24\n",
      "Average Word Length: 6.44\n"
     ]
    }
   ],
   "source": [
    "variables_computation('https://insights.blackcoffer.com/impact-of-covid-19-pandemic-on-sports-events-around-the-world/',31987.2)"
   ]
  },
  {
   "cell_type": "code",
   "execution_count": 685,
   "id": "9f82201c",
   "metadata": {},
   "outputs": [
    {
     "name": "stdout",
     "output_type": "stream",
     "text": [
      "url_Id(32449)\n",
      "Positive Score: 36\n",
      "Negative Score: 49\n",
      "Polarity Score: -0.15\n",
      "Subjectivity Score: 0.1\n",
      "Average Sentence Length: 20.8675\n",
      "Percentage of Complex Words: 26.73\n",
      "Fog Index: 195.89\n",
      "Average Number of Words Per Sentence: 20.8675\n",
      "Complex Word Count: 463\n",
      "Word count: 876\n",
      "Syllable per Word: 1.96\n",
      "Personal Pronouns: 64\n",
      "Average Word Length: 6.22\n"
     ]
    }
   ],
   "source": [
    "variables_computation('https://insights.blackcoffer.com/changing-landscape-and-emerging-trends-in-the-indian-it-ites-industry/',32449)"
   ]
  },
  {
   "cell_type": "code",
   "execution_count": 686,
   "id": "5d685117",
   "metadata": {},
   "outputs": [
    {
     "name": "stdout",
     "output_type": "stream",
     "text": [
      "url_Id(32910.8)\n",
      "Positive Score: 28\n",
      "Negative Score: 69\n",
      "Polarity Score: -0.42\n",
      "Subjectivity Score: 0.11\n",
      "Average Sentence Length: 23.9355\n",
      "Percentage of Complex Words: 35.71\n",
      "Fog Index: 226.29\n",
      "Average Number of Words Per Sentence: 23.9355\n",
      "Complex Word Count: 530\n",
      "Word count: 858\n",
      "Syllable per Word: 2.18\n",
      "Personal Pronouns: 20\n",
      "Average Word Length: 6.73\n"
     ]
    }
   ],
   "source": [
    "variables_computation('https://insights.blackcoffer.com/online-gaming-adolescent-online-gaming-effects-demotivated-depression-musculoskeletal-and-psychosomatic-symptoms/',32910.8)"
   ]
  },
  {
   "cell_type": "code",
   "execution_count": 106,
   "id": "234460a6",
   "metadata": {},
   "outputs": [
    {
     "name": "stdout",
     "output_type": "stream",
     "text": [
      "url_Id(33372.6)\n",
      "Positive Score: 3\n",
      "Negative Score: 3\n",
      "Polarity Score: 0.0\n",
      "Subjectivity Score: 0.08\n",
      "Average Sentence Length: 19.38\n",
      "Percentage of Complex Words: 23.87\n",
      "Fog Index: 24.35\n",
      "Average Number of Words Per Sentence: 19.38\n",
      "Complex Word Count: 37\n",
      "Word count: 75\n",
      "Syllable per Word: 2.01\n",
      "Personal Pronouns: 11\n",
      "Average Word Length: 6.3\n"
     ]
    }
   ],
   "source": [
    "variables_computation2345('https://insights.blackcoffer.com/human-rights-outlook/',33372.6)"
   ]
  },
  {
   "cell_type": "code",
   "execution_count": 107,
   "id": "5bb5da38",
   "metadata": {},
   "outputs": [
    {
     "name": "stdout",
     "output_type": "stream",
     "text": [
      "url_Id(33834.4)\n",
      "Positive Score: 33\n",
      "Negative Score: 4\n",
      "Polarity Score: 0.78\n",
      "Subjectivity Score: 0.08\n",
      "Average Sentence Length: 20.2\n",
      "Percentage of Complex Words: 26.26\n",
      "Fog Index: 108.11\n",
      "Average Number of Words Per Sentence: 20.2\n",
      "Complex Word Count: 244\n",
      "Word count: 456\n",
      "Syllable per Word: 1.93\n",
      "Personal Pronouns: 43\n",
      "Average Word Length: 6.3\n"
     ]
    }
   ],
   "source": [
    "variables_computation2345('https://insights.blackcoffer.com/how-voice-search-makes-your-business-a-successful-business/',33834.4)"
   ]
  },
  {
   "cell_type": "code",
   "execution_count": 108,
   "id": "e22a7dff",
   "metadata": {},
   "outputs": [
    {
     "name": "stdout",
     "output_type": "stream",
     "text": [
      "url_Id(34296.2)\n",
      "Positive Score: 37\n",
      "Negative Score: 33\n",
      "Polarity Score: 0.06\n",
      "Subjectivity Score: 0.09\n",
      "Average Sentence Length: 15.33\n",
      "Percentage of Complex Words: 23.05\n",
      "Fog Index: 176.02\n",
      "Average Number of Words Per Sentence: 15.33\n",
      "Complex Word Count: 417\n",
      "Word count: 819\n",
      "Syllable per Word: 1.89\n",
      "Personal Pronouns: 62\n",
      "Average Word Length: 6.09\n"
     ]
    }
   ],
   "source": [
    "variables_computation('https://insights.blackcoffer.com/how-the-covid-19-crisis-is-redefining-jobs-and-services/',34296.2)"
   ]
  },
  {
   "cell_type": "code",
   "execution_count": 109,
   "id": "cdc7bb15",
   "metadata": {},
   "outputs": [
    {
     "name": "stdout",
     "output_type": "stream",
     "text": [
      "url_Id(34758)\n",
      "Positive Score: 55\n",
      "Negative Score: 16\n",
      "Polarity Score: 0.55\n",
      "Subjectivity Score: 0.08\n",
      "Average Sentence Length: 19.2\n",
      "Percentage of Complex Words: 29.37\n",
      "Fog Index: 212.55\n",
      "Average Number of Words Per Sentence: 19.2\n",
      "Complex Word Count: 502\n",
      "Word count: 908\n",
      "Syllable per Word: 1.98\n",
      "Personal Pronouns: 84\n",
      "Average Word Length: 6.4\n"
     ]
    }
   ],
   "source": [
    "variables_computation('https://insights.blackcoffer.com/how-to-increase-social-media-engagement-for-marketers/',34758)"
   ]
  },
  {
   "cell_type": "code",
   "execution_count": 110,
   "id": "ab26f5c8",
   "metadata": {},
   "outputs": [
    {
     "name": "stdout",
     "output_type": "stream",
     "text": [
      "url_Id(35219.8)\n",
      "Positive Score: 30\n",
      "Negative Score: 33\n",
      "Polarity Score: -0.05\n",
      "Subjectivity Score: 0.12\n",
      "Average Sentence Length: 22.28\n",
      "Percentage of Complex Words: 25.69\n",
      "Fog Index: 117.88\n",
      "Average Number of Words Per Sentence: 22.28\n",
      "Complex Word Count: 269\n",
      "Word count: 544\n",
      "Syllable per Word: 1.95\n",
      "Personal Pronouns: 38\n",
      "Average Word Length: 6.25\n"
     ]
    }
   ],
   "source": [
    "variables_computation('https://insights.blackcoffer.com/impacts-of-covid-19-on-streets-sides-food-stalls/',35219.8)"
   ]
  },
  {
   "cell_type": "code",
   "execution_count": 111,
   "id": "a3e20e92",
   "metadata": {},
   "outputs": [
    {
     "name": "stdout",
     "output_type": "stream",
     "text": [
      "url_Id(35681.6)\n",
      "Positive Score: 15\n",
      "Negative Score: 44\n",
      "Polarity Score: -0.49\n",
      "Subjectivity Score: 0.06\n",
      "Average Sentence Length: 21.95\n",
      "Percentage of Complex Words: 29.12\n",
      "Fog Index: 213.65\n",
      "Average Number of Words Per Sentence: 21.95\n",
      "Complex Word Count: 505\n",
      "Word count: 981\n",
      "Syllable per Word: 2.01\n",
      "Personal Pronouns: 14\n",
      "Average Word Length: 6.64\n"
     ]
    }
   ],
   "source": [
    "variables_computation('https://insights.blackcoffer.com/coronavirus-impact-on-energy-markets-2/',35681.6)"
   ]
  },
  {
   "cell_type": "code",
   "execution_count": 112,
   "id": "b63cb7c1",
   "metadata": {},
   "outputs": [
    {
     "name": "stdout",
     "output_type": "stream",
     "text": [
      "url_Id(36143.4)\n",
      "Positive Score: 16\n",
      "Negative Score: 42\n",
      "Polarity Score: -0.45\n",
      "Subjectivity Score: 0.12\n",
      "Average Sentence Length: 19.33\n",
      "Percentage of Complex Words: 25.77\n",
      "Fog Index: 107.91\n",
      "Average Number of Words Per Sentence: 19.33\n",
      "Complex Word Count: 244\n",
      "Word count: 490\n",
      "Syllable per Word: 1.95\n",
      "Personal Pronouns: 29\n",
      "Average Word Length: 6.32\n"
     ]
    }
   ],
   "source": [
    "variables_computation('https://insights.blackcoffer.com/coronavirus-impact-on-the-hospitality-industry-5/',36143.4)"
   ]
  },
  {
   "cell_type": "code",
   "execution_count": 113,
   "id": "d06e29d4",
   "metadata": {},
   "outputs": [
    {
     "name": "stdout",
     "output_type": "stream",
     "text": [
      "url_Id(36605.2)\n",
      "Positive Score: 36\n",
      "Negative Score: 47\n",
      "Polarity Score: -0.13\n",
      "Subjectivity Score: 0.14\n",
      "Average Sentence Length: 16.71\n",
      "Percentage of Complex Words: 24.52\n",
      "Fog Index: 127.81\n",
      "Average Number of Words Per Sentence: 16.71\n",
      "Complex Word Count: 295\n",
      "Word count: 573\n",
      "Syllable per Word: 1.9\n",
      "Personal Pronouns: 67\n",
      "Average Word Length: 5.97\n"
     ]
    }
   ],
   "source": [
    "variables_computation('https://insights.blackcoffer.com/lessons-from-the-past-some-key-learnings-relevant-to-the-coronavirus-crisis-4/',36605.2)"
   ]
  },
  {
   "cell_type": "code",
   "execution_count": 114,
   "id": "a46a71aa",
   "metadata": {},
   "outputs": [
    {
     "name": "stdout",
     "output_type": "stream",
     "text": [
      "url_Id(37067)\n",
      "Positive Score: 23\n",
      "Negative Score: 27\n",
      "Polarity Score: -0.08\n",
      "Subjectivity Score: 0.1\n",
      "Average Sentence Length: 28.66\n",
      "Percentage of Complex Words: 25.9\n",
      "Fog Index: 123.16\n",
      "Average Number of Words Per Sentence: 28.66\n",
      "Complex Word Count: 282\n",
      "Word count: 519\n",
      "Syllable per Word: 1.92\n",
      "Personal Pronouns: 43\n",
      "Average Word Length: 6.09\n"
     ]
    }
   ],
   "source": [
    "variables_computation('https://insights.blackcoffer.com/estimating-the-impact-of-covid-19-on-the-world-of-work-2/',37067)"
   ]
  },
  {
   "cell_type": "code",
   "execution_count": 116,
   "id": "b763be13",
   "metadata": {},
   "outputs": [
    {
     "name": "stdout",
     "output_type": "stream",
     "text": [
      "url_Id(37528.8)\n",
      "Positive Score: 20\n",
      "Negative Score: 44\n",
      "Polarity Score: -0.37\n",
      "Subjectivity Score: 0.08\n",
      "Average Sentence Length: 17.92\n",
      "Percentage of Complex Words: 30.26\n",
      "Fog Index: 155.3\n",
      "Average Number of Words Per Sentence: 17.92\n",
      "Complex Word Count: 358\n",
      "Word count: 780\n",
      "Syllable per Word: 2.13\n",
      "Personal Pronouns: 15\n",
      "Average Word Length: 6.9\n"
     ]
    }
   ],
   "source": [
    "variables_computation2345('https://insights.blackcoffer.com/estimating-the-impact-of-covid-19-on-the-world-of-work-3/',37528.8)"
   ]
  },
  {
   "cell_type": "code",
   "execution_count": 117,
   "id": "62279c77",
   "metadata": {},
   "outputs": [
    {
     "name": "stdout",
     "output_type": "stream",
     "text": [
      "url_Id(37990.6)\n",
      "Positive Score: 4\n",
      "Negative Score: 3\n",
      "Polarity Score: 0.14\n",
      "Subjectivity Score: 0.08\n",
      "Average Sentence Length: 19.67\n",
      "Percentage of Complex Words: 21.47\n",
      "Fog Index: 23.79\n",
      "Average Number of Words Per Sentence: 19.67\n",
      "Complex Word Count: 38\n",
      "Word count: 85\n",
      "Syllable per Word: 1.86\n",
      "Personal Pronouns: 11\n",
      "Average Word Length: 6.02\n"
     ]
    }
   ],
   "source": [
    "variables_computation('https://insights.blackcoffer.com/travel-and-tourism-outlook/',37990.6)"
   ]
  },
  {
   "cell_type": "code",
   "execution_count": 118,
   "id": "34fde2e9",
   "metadata": {},
   "outputs": [
    {
     "name": "stdout",
     "output_type": "stream",
     "text": [
      "url_Id(38452.4)\n",
      "Positive Score: 28\n",
      "Negative Score: 45\n",
      "Polarity Score: -0.23\n",
      "Subjectivity Score: 0.13\n",
      "Average Sentence Length: 18.37\n",
      "Percentage of Complex Words: 24.72\n",
      "Fog Index: 117.09\n",
      "Average Number of Words Per Sentence: 18.37\n",
      "Complex Word Count: 268\n",
      "Word count: 566\n",
      "Syllable per Word: 1.89\n",
      "Personal Pronouns: 79\n",
      "Average Word Length: 6.03\n"
     ]
    }
   ],
   "source": [
    "variables_computation('https://insights.blackcoffer.com/gaming-disorder-and-effects-of-gaming-on-health/',38452.4)"
   ]
  },
  {
   "cell_type": "code",
   "execution_count": 119,
   "id": "dce4de88",
   "metadata": {},
   "outputs": [
    {
     "name": "stdout",
     "output_type": "stream",
     "text": [
      "url_Id(38914.2)\n",
      "Positive Score: 8\n",
      "Negative Score: 25\n",
      "Polarity Score: -0.52\n",
      "Subjectivity Score: 0.1\n",
      "Average Sentence Length: 17.79\n",
      "Percentage of Complex Words: 27.11\n",
      "Fog Index: 76.44\n",
      "Average Number of Words Per Sentence: 17.79\n",
      "Complex Word Count: 164\n",
      "Word count: 335\n",
      "Syllable per Word: 1.96\n",
      "Personal Pronouns: 16\n",
      "Average Word Length: 6.42\n"
     ]
    }
   ],
   "source": [
    "variables_computation('https://insights.blackcoffer.com/what-is-the-repercussion-of-the-environment-due-to-the-covid-19-pandemic-situation/',38914.2)"
   ]
  },
  {
   "cell_type": "code",
   "execution_count": 120,
   "id": "7c570a9c",
   "metadata": {},
   "outputs": [
    {
     "name": "stdout",
     "output_type": "stream",
     "text": [
      "url_Id(39376)\n",
      "Positive Score: 27\n",
      "Negative Score: 57\n",
      "Polarity Score: -0.36\n",
      "Subjectivity Score: 0.14\n",
      "Average Sentence Length: 20.98\n",
      "Percentage of Complex Words: 28.69\n",
      "Fog Index: 139.07\n",
      "Average Number of Words Per Sentence: 20.98\n",
      "Complex Word Count: 319\n",
      "Word count: 607\n",
      "Syllable per Word: 2.01\n",
      "Personal Pronouns: 8\n",
      "Average Word Length: 6.41\n"
     ]
    }
   ],
   "source": [
    "variables_computation('https://insights.blackcoffer.com/what-is-the-repercussion-of-the-environment-due-to-the-covid-19-pandemic-situation-2/',39376)"
   ]
  },
  {
   "cell_type": "code",
   "execution_count": 121,
   "id": "4947b958",
   "metadata": {},
   "outputs": [
    {
     "name": "stdout",
     "output_type": "stream",
     "text": [
      "url_Id(39837.8)\n",
      "Positive Score: 21\n",
      "Negative Score: 35\n",
      "Polarity Score: -0.25\n",
      "Subjectivity Score: 0.12\n",
      "Average Sentence Length: 27.31\n",
      "Percentage of Complex Words: 22.82\n",
      "Fog Index: 106.33\n",
      "Average Number of Words Per Sentence: 27.31\n",
      "Complex Word Count: 243\n",
      "Word count: 448\n",
      "Syllable per Word: 1.84\n",
      "Personal Pronouns: 47\n",
      "Average Word Length: 5.9\n"
     ]
    }
   ],
   "source": [
    "variables_computation('https://insights.blackcoffer.com/impact-of-covid-19-pandemic-on-office-space-and-co-working-industries/',39837.8)"
   ]
  },
  {
   "cell_type": "code",
   "execution_count": 122,
   "id": "45ada304",
   "metadata": {},
   "outputs": [
    {
     "name": "stdout",
     "output_type": "stream",
     "text": [
      "url_Id(40299.6)\n",
      "Positive Score: 6\n",
      "Negative Score: 3\n",
      "Polarity Score: 0.33\n",
      "Subjectivity Score: 0.04\n",
      "Average Sentence Length: 15.04\n",
      "Percentage of Complex Words: 34.84\n",
      "Fog Index: 66.34\n",
      "Average Number of Words Per Sentence: 15.04\n",
      "Complex Word Count: 131\n",
      "Word count: 244\n",
      "Syllable per Word: 2.1\n",
      "Personal Pronouns: 7\n",
      "Average Word Length: 6.89\n"
     ]
    }
   ],
   "source": [
    "variables_computation('https://insights.blackcoffer.com/contribution-of-handicrafts-visual-arts-literature-in-the-indian-economy/',40299.6)"
   ]
  },
  {
   "cell_type": "code",
   "execution_count": 124,
   "id": "e08f95fd",
   "metadata": {},
   "outputs": [
    {
     "name": "stdout",
     "output_type": "stream",
     "text": [
      "url_Id(40761.4)\n",
      "Positive Score: 16\n",
      "Negative Score: 3\n",
      "Polarity Score: 0.68\n",
      "Subjectivity Score: 0.06\n",
      "Average Sentence Length: 16.89\n",
      "Percentage of Complex Words: 20.64\n",
      "Fog Index: 57.06\n",
      "Average Number of Words Per Sentence: 16.89\n",
      "Complex Word Count: 122\n",
      "Word count: 314\n",
      "Syllable per Word: 1.81\n",
      "Personal Pronouns: 17\n",
      "Average Word Length: 6.06\n"
     ]
    }
   ],
   "source": [
    "variables_computation2345('https://insights.blackcoffer.com/how-covid-19-is-impacting-payment-preferences/',40761.4)"
   ]
  },
  {
   "cell_type": "code",
   "execution_count": 126,
   "id": "617e188b",
   "metadata": {},
   "outputs": [
    {
     "name": "stdout",
     "output_type": "stream",
     "text": [
      "url_Id(41223.2)\n",
      "Positive Score: 30\n",
      "Negative Score: 57\n",
      "Polarity Score: -0.31\n",
      "Subjectivity Score: 0.16\n",
      "Average Sentence Length: 29.0\n",
      "Percentage of Complex Words: 29.56\n",
      "Fog Index: 131.82\n",
      "Average Number of Words Per Sentence: 29.0\n",
      "Complex Word Count: 300\n",
      "Word count: 548\n",
      "Syllable per Word: 2.06\n",
      "Personal Pronouns: 15\n",
      "Average Word Length: 6.62\n"
     ]
    }
   ],
   "source": [
    "variables_computation2345('https://insights.blackcoffer.com/how-will-covid-19-affect-the-world-of-work-2/',41223.2)"
   ]
  },
  {
   "cell_type": "code",
   "execution_count": 128,
   "id": "0f566323",
   "metadata": {},
   "outputs": [
    {
     "name": "stdout",
     "output_type": "stream",
     "text": [
      "url_Id(41685)\n",
      "Positive Score: 28\n",
      "Negative Score: 24\n",
      "Polarity Score: 0.08\n",
      "Subjectivity Score: 0.18\n",
      "Average Sentence Length: 22.77\n",
      "Percentage of Complex Words: 14.31\n",
      "Fog Index: 46.12\n",
      "Average Number of Words Per Sentence: 22.77\n",
      "Complex Word Count: 101\n",
      "Word count: 287\n",
      "Syllable per Word: 1.66\n",
      "Personal Pronouns: 71\n",
      "Average Word Length: 5.43\n"
     ]
    }
   ],
   "source": [
    "variables_computation('https://insights.blackcoffer.com/lessons-from-the-past-some-key-learnings-relevant-to-the-coronavirus-crisis/',41685)"
   ]
  },
  {
   "cell_type": "code",
   "execution_count": 129,
   "id": "4b2531fa",
   "metadata": {},
   "outputs": [
    {
     "name": "stdout",
     "output_type": "stream",
     "text": [
      "url_Id(42146.8)\n",
      "Positive Score: 6\n",
      "Negative Score: 38\n",
      "Polarity Score: -0.73\n",
      "Subjectivity Score: 0.08\n",
      "Average Sentence Length: 20.02\n",
      "Percentage of Complex Words: 28.87\n",
      "Fog Index: 127.15\n",
      "Average Number of Words Per Sentence: 20.02\n",
      "Complex Word Count: 289\n",
      "Word count: 580\n",
      "Syllable per Word: 2.04\n",
      "Personal Pronouns: 5\n",
      "Average Word Length: 6.62\n"
     ]
    }
   ],
   "source": [
    "variables_computation('https://insights.blackcoffer.com/covid-19-how-have-countries-been-responding/',42146.8)"
   ]
  },
  {
   "cell_type": "code",
   "execution_count": 130,
   "id": "ecf07232",
   "metadata": {},
   "outputs": [
    {
     "name": "stdout",
     "output_type": "stream",
     "text": [
      "url_Id(42608.6)\n",
      "Positive Score: 14\n",
      "Negative Score: 33\n",
      "Polarity Score: -0.4\n",
      "Subjectivity Score: 0.09\n",
      "Average Sentence Length: 19.44\n",
      "Percentage of Complex Words: 27.7\n",
      "Fog Index: 123.08\n",
      "Average Number of Words Per Sentence: 19.44\n",
      "Complex Word Count: 280\n",
      "Word count: 515\n",
      "Syllable per Word: 2.07\n",
      "Personal Pronouns: 30\n",
      "Average Word Length: 6.52\n"
     ]
    }
   ],
   "source": [
    "variables_computation('https://insights.blackcoffer.com/coronavirus-impact-on-the-hospitality-industry-2/',42608.6)"
   ]
  },
  {
   "cell_type": "code",
   "execution_count": 132,
   "id": "8eb9f346",
   "metadata": {},
   "outputs": [
    {
     "name": "stdout",
     "output_type": "stream",
     "text": [
      "url_Id(43070.4)\n",
      "Positive Score: 26\n",
      "Negative Score: 52\n",
      "Polarity Score: -0.33\n",
      "Subjectivity Score: 0.14\n",
      "Average Sentence Length: 19.63\n",
      "Percentage of Complex Words: 29.77\n",
      "Fog Index: 131.11\n",
      "Average Number of Words Per Sentence: 19.63\n",
      "Complex Word Count: 298\n",
      "Word count: 562\n",
      "Syllable per Word: 2.05\n",
      "Personal Pronouns: 24\n",
      "Average Word Length: 6.57\n"
     ]
    }
   ],
   "source": [
    "variables_computation2345('https://insights.blackcoffer.com/how-will-covid-19-affect-the-world-of-work-3/',43070.4)"
   ]
  },
  {
   "cell_type": "code",
   "execution_count": 133,
   "id": "7d097c1c",
   "metadata": {},
   "outputs": [
    {
     "name": "stdout",
     "output_type": "stream",
     "text": [
      "url_Id(43532.2)\n",
      "Positive Score: 24\n",
      "Negative Score: 36\n",
      "Polarity Score: -0.2\n",
      "Subjectivity Score: 0.09\n",
      "Average Sentence Length: 22.04\n",
      "Percentage of Complex Words: 26.99\n",
      "Fog Index: 143.99\n",
      "Average Number of Words Per Sentence: 22.04\n",
      "Complex Word Count: 333\n",
      "Word count: 660\n",
      "Syllable per Word: 1.93\n",
      "Personal Pronouns: 29\n",
      "Average Word Length: 6.32\n"
     ]
    }
   ],
   "source": [
    "variables_computation('https://insights.blackcoffer.com/coronavirus-impact-on-the-hospitality-industry-3/',43532.2)"
   ]
  },
  {
   "cell_type": "code",
   "execution_count": 134,
   "id": "d94c8962",
   "metadata": {},
   "outputs": [
    {
     "name": "stdout",
     "output_type": "stream",
     "text": [
      "url_Id(43994)\n",
      "Positive Score: 47\n",
      "Negative Score: 48\n",
      "Polarity Score: -0.01\n",
      "Subjectivity Score: 0.12\n",
      "Average Sentence Length: 20.95\n",
      "Percentage of Complex Words: 23.87\n",
      "Fog Index: 157.55\n",
      "Average Number of Words Per Sentence: 20.95\n",
      "Complex Word Count: 370\n",
      "Word count: 778\n",
      "Syllable per Word: 1.87\n",
      "Personal Pronouns: 37\n",
      "Average Word Length: 6.01\n"
     ]
    }
   ],
   "source": [
    "variables_computation('https://insights.blackcoffer.com/estimating-the-impact-of-covid-19-on-the-world-of-work/',43994)"
   ]
  },
  {
   "cell_type": "code",
   "execution_count": 135,
   "id": "558c6e49",
   "metadata": {},
   "outputs": [
    {
     "name": "stdout",
     "output_type": "stream",
     "text": [
      "url_Id(44455.8)\n",
      "Positive Score: 23\n",
      "Negative Score: 46\n",
      "Polarity Score: -0.33\n",
      "Subjectivity Score: 0.07\n",
      "Average Sentence Length: 19.12\n",
      "Percentage of Complex Words: 27.99\n",
      "Fog Index: 212.4\n",
      "Average Number of Words Per Sentence: 19.12\n",
      "Complex Word Count: 503\n",
      "Word count: 993\n",
      "Syllable per Word: 1.92\n",
      "Personal Pronouns: 24\n",
      "Average Word Length: 6.25\n"
     ]
    }
   ],
   "source": [
    "variables_computation('https://insights.blackcoffer.com/covid-19-how-have-countries-been-responding-2/',44455.8)"
   ]
  },
  {
   "cell_type": "code",
   "execution_count": 136,
   "id": "e83884b6",
   "metadata": {},
   "outputs": [
    {
     "name": "stdout",
     "output_type": "stream",
     "text": [
      "url_Id(44917.6)\n",
      "Positive Score: 24\n",
      "Negative Score: 25\n",
      "Polarity Score: -0.02\n",
      "Subjectivity Score: 0.13\n",
      "Average Sentence Length: 34.76\n",
      "Percentage of Complex Words: 13.81\n",
      "Fog Index: 53.52\n",
      "Average Number of Words Per Sentence: 34.76\n",
      "Complex Word Count: 120\n",
      "Word count: 375\n",
      "Syllable per Word: 1.61\n",
      "Personal Pronouns: 77\n",
      "Average Word Length: 5.38\n"
     ]
    }
   ],
   "source": [
    "variables_computation('https://insights.blackcoffer.com/how-will-covid-19-affect-the-world-of-work-4/',44917.6)"
   ]
  },
  {
   "cell_type": "code",
   "execution_count": 137,
   "id": "252b8f70",
   "metadata": {},
   "outputs": [
    {
     "name": "stdout",
     "output_type": "stream",
     "text": [
      "url_Id(45379.4)\n",
      "Positive Score: 41\n",
      "Negative Score: 78\n",
      "Polarity Score: -0.31\n",
      "Subjectivity Score: 0.12\n",
      "Average Sentence Length: 24.11\n",
      "Percentage of Complex Words: 27.51\n",
      "Fog Index: 220.6\n",
      "Average Number of Words Per Sentence: 24.11\n",
      "Complex Word Count: 524\n",
      "Word count: 1028\n",
      "Syllable per Word: 1.98\n",
      "Personal Pronouns: 36\n",
      "Average Word Length: 6.42\n"
     ]
    }
   ],
   "source": [
    "variables_computation('https://insights.blackcoffer.com/lessons-from-the-past-some-key-learnings-relevant-to-the-coronavirus-crisis-2/',45379.4)"
   ]
  },
  {
   "cell_type": "code",
   "execution_count": 138,
   "id": "86e1104b",
   "metadata": {},
   "outputs": [
    {
     "name": "stdout",
     "output_type": "stream",
     "text": [
      "url_Id(45841.2)\n",
      "Positive Score: 33\n",
      "Negative Score: 54\n",
      "Polarity Score: -0.24\n",
      "Subjectivity Score: 0.15\n",
      "Average Sentence Length: 15.8\n",
      "Percentage of Complex Words: 19.55\n",
      "Fog Index: 105.42\n",
      "Average Number of Words Per Sentence: 15.8\n",
      "Complex Word Count: 244\n",
      "Word count: 575\n",
      "Syllable per Word: 1.78\n",
      "Personal Pronouns: 73\n",
      "Average Word Length: 5.74\n"
     ]
    }
   ],
   "source": [
    "variables_computation('https://insights.blackcoffer.com/lessons-from-the-past-some-key-learnings-relevant-to-the-coronavirus-crisis-3/',45841.2)"
   ]
  },
  {
   "cell_type": "code",
   "execution_count": 139,
   "id": "302aa649",
   "metadata": {},
   "outputs": [
    {
     "name": "stdout",
     "output_type": "stream",
     "text": [
      "url_Id(46303)\n",
      "Positive Score: 9\n",
      "Negative Score: 14\n",
      "Polarity Score: -0.22\n",
      "Subjectivity Score: 0.12\n",
      "Average Sentence Length: 15.71\n",
      "Percentage of Complex Words: 30.0\n",
      "Fog Index: 51.6\n",
      "Average Number of Words Per Sentence: 15.71\n",
      "Complex Word Count: 99\n",
      "Word count: 187\n",
      "Syllable per Word: 2.01\n",
      "Personal Pronouns: 4\n",
      "Average Word Length: 6.76\n"
     ]
    }
   ],
   "source": [
    "variables_computation('https://insights.blackcoffer.com/coronavirus-impact-on-the-hospitality-industry-4/',46303)"
   ]
  },
  {
   "cell_type": "code",
   "execution_count": 140,
   "id": "04862dc7",
   "metadata": {},
   "outputs": [
    {
     "name": "stdout",
     "output_type": "stream",
     "text": [
      "url_Id(46764.8)\n",
      "Positive Score: 46\n",
      "Negative Score: 91\n",
      "Polarity Score: -0.33\n",
      "Subjectivity Score: 0.11\n",
      "Average Sentence Length: 22.19\n",
      "Percentage of Complex Words: 28.17\n",
      "Fog Index: 251.27\n",
      "Average Number of Words Per Sentence: 22.19\n",
      "Complex Word Count: 600\n",
      "Word count: 1267\n",
      "Syllable per Word: 1.94\n",
      "Personal Pronouns: 35\n",
      "Average Word Length: 6.38\n"
     ]
    }
   ],
   "source": [
    "variables_computation('https://insights.blackcoffer.com/why-scams-like-nirav-modi-happen-with-indian-banks/',46764.8)"
   ]
  },
  {
   "cell_type": "code",
   "execution_count": 141,
   "id": "75af9c7b",
   "metadata": {},
   "outputs": [
    {
     "name": "stdout",
     "output_type": "stream",
     "text": [
      "url_Id(47226.6)\n",
      "Positive Score: 35\n",
      "Negative Score: 65\n",
      "Polarity Score: -0.3\n",
      "Subjectivity Score: 0.15\n",
      "Average Sentence Length: 24.52\n",
      "Percentage of Complex Words: 18.32\n",
      "Fog Index: 124.13\n",
      "Average Number of Words Per Sentence: 24.52\n",
      "Complex Word Count: 292\n",
      "Word count: 649\n",
      "Syllable per Word: 1.73\n",
      "Personal Pronouns: 117\n",
      "Average Word Length: 5.59\n"
     ]
    }
   ],
   "source": [
    "variables_computation('https://insights.blackcoffer.com/impact-of-covid-19-on-the-global-economy/',47226.6)"
   ]
  },
  {
   "cell_type": "code",
   "execution_count": 142,
   "id": "eb053979",
   "metadata": {},
   "outputs": [
    {
     "name": "stdout",
     "output_type": "stream",
     "text": [
      "url_Id(47688.4)\n",
      "Positive Score: 30\n",
      "Negative Score: 67\n",
      "Polarity Score: -0.38\n",
      "Subjectivity Score: 0.11\n",
      "Average Sentence Length: 16.67\n",
      "Percentage of Complex Words: 26.93\n",
      "Fog Index: 186.77\n",
      "Average Number of Words Per Sentence: 16.67\n",
      "Complex Word Count: 440\n",
      "Word count: 880\n",
      "Syllable per Word: 1.98\n",
      "Personal Pronouns: 53\n",
      "Average Word Length: 6.44\n"
     ]
    }
   ],
   "source": [
    "variables_computation('https://insights.blackcoffer.com/impact-of-covid-19coronavirus-on-the-indian-economy-2/',47688.4)"
   ]
  },
  {
   "cell_type": "code",
   "execution_count": 143,
   "id": "d34393f0",
   "metadata": {},
   "outputs": [
    {
     "name": "stdout",
     "output_type": "stream",
     "text": [
      "url_Id(48150.2)\n",
      "Positive Score: 39\n",
      "Negative Score: 84\n",
      "Polarity Score: -0.37\n",
      "Subjectivity Score: 0.13\n",
      "Average Sentence Length: 21.64\n",
      "Percentage of Complex Words: 27.96\n",
      "Fog Index: 199.98\n",
      "Average Number of Words Per Sentence: 21.64\n",
      "Complex Word Count: 472\n",
      "Word count: 913\n",
      "Syllable per Word: 2.04\n",
      "Personal Pronouns: 47\n",
      "Average Word Length: 6.61\n"
     ]
    }
   ],
   "source": [
    "variables_computation('https://insights.blackcoffer.com/impact-of-covid-19-on-the-global-economy-2/',48150.2)"
   ]
  },
  {
   "cell_type": "code",
   "execution_count": 144,
   "id": "9fbc35dd",
   "metadata": {},
   "outputs": [
    {
     "name": "stdout",
     "output_type": "stream",
     "text": [
      "url_Id(48612)\n",
      "Positive Score: 48\n",
      "Negative Score: 75\n",
      "Polarity Score: -0.22\n",
      "Subjectivity Score: 0.11\n",
      "Average Sentence Length: 19.03\n",
      "Percentage of Complex Words: 29.36\n",
      "Fog Index: 244.14\n",
      "Average Number of Words Per Sentence: 19.03\n",
      "Complex Word Count: 581\n",
      "Word count: 1075\n",
      "Syllable per Word: 1.91\n",
      "Personal Pronouns: 22\n",
      "Average Word Length: 6.42\n"
     ]
    }
   ],
   "source": [
    "variables_computation('https://insights.blackcoffer.com/impact-of-covid-19-coronavirus-on-the-indian-economy-3/',48612)"
   ]
  },
  {
   "cell_type": "code",
   "execution_count": 145,
   "id": "27958599",
   "metadata": {},
   "outputs": [
    {
     "name": "stdout",
     "output_type": "stream",
     "text": [
      "url_Id(49073.8)\n",
      "Positive Score: 55\n",
      "Negative Score: 18\n",
      "Polarity Score: 0.51\n",
      "Subjectivity Score: 0.08\n",
      "Average Sentence Length: 29.34\n",
      "Percentage of Complex Words: 27.98\n",
      "Fog Index: 214.79\n",
      "Average Number of Words Per Sentence: 29.34\n",
      "Complex Word Count: 509\n",
      "Word count: 904\n",
      "Syllable per Word: 1.99\n",
      "Personal Pronouns: 67\n",
      "Average Word Length: 6.35\n"
     ]
    }
   ],
   "source": [
    "variables_computation('https://insights.blackcoffer.com/should-celebrities-be-allowed-to-join-politics/',49073.8)"
   ]
  },
  {
   "cell_type": "code",
   "execution_count": 146,
   "id": "fdd6ed02",
   "metadata": {},
   "outputs": [
    {
     "name": "stdout",
     "output_type": "stream",
     "text": [
      "url_Id(49535.6)\n",
      "Positive Score: 16\n",
      "Negative Score: 24\n",
      "Polarity Score: -0.2\n",
      "Subjectivity Score: 0.09\n",
      "Average Sentence Length: 26.0\n",
      "Percentage of Complex Words: 26.08\n",
      "Fog Index: 97.23\n",
      "Average Number of Words Per Sentence: 26.0\n",
      "Complex Word Count: 217\n",
      "Word count: 424\n",
      "Syllable per Word: 1.93\n",
      "Personal Pronouns: 20\n",
      "Average Word Length: 6.24\n"
     ]
    }
   ],
   "source": [
    "variables_computation('https://insights.blackcoffer.com/how-prepared-is-india-to-tackle-a-possible-covid-19-outbreak/',49535.6)"
   ]
  },
  {
   "cell_type": "code",
   "execution_count": 147,
   "id": "5802e15b",
   "metadata": {},
   "outputs": [
    {
     "name": "stdout",
     "output_type": "stream",
     "text": [
      "url_Id(49997.4)\n",
      "Positive Score: 44\n",
      "Negative Score: 96\n",
      "Polarity Score: -0.37\n",
      "Subjectivity Score: 0.17\n",
      "Average Sentence Length: 19.84\n",
      "Percentage of Complex Words: 28.21\n",
      "Fog Index: 188.08\n",
      "Average Number of Words Per Sentence: 19.84\n",
      "Complex Word Count: 442\n",
      "Word count: 839\n",
      "Syllable per Word: 2.03\n",
      "Personal Pronouns: 36\n",
      "Average Word Length: 6.5\n"
     ]
    }
   ],
   "source": [
    "variables_computation('https://insights.blackcoffer.com/how-will-covid-19-affect-the-world-of-work/',49997.4)"
   ]
  },
  {
   "cell_type": "code",
   "execution_count": 148,
   "id": "c6ac3bc0",
   "metadata": {},
   "outputs": [
    {
     "name": "stdout",
     "output_type": "stream",
     "text": [
      "url_Id(50459.2)\n",
      "Positive Score: 31\n",
      "Negative Score: 48\n",
      "Polarity Score: -0.22\n",
      "Subjectivity Score: 0.16\n",
      "Average Sentence Length: 15.98\n",
      "Percentage of Complex Words: 27.79\n",
      "Fog Index: 119.52\n",
      "Average Number of Words Per Sentence: 15.98\n",
      "Complex Word Count: 271\n",
      "Word count: 490\n",
      "Syllable per Word: 1.94\n",
      "Personal Pronouns: 56\n",
      "Average Word Length: 6.11\n"
     ]
    }
   ],
   "source": [
    "variables_computation('https://insights.blackcoffer.com/controversy-as-a-marketing-strategy/',50459.2)"
   ]
  },
  {
   "cell_type": "code",
   "execution_count": 149,
   "id": "724a183e",
   "metadata": {},
   "outputs": [
    {
     "name": "stdout",
     "output_type": "stream",
     "text": [
      "url_Id(50921)\n",
      "Positive Score: 5\n",
      "Negative Score: 29\n",
      "Polarity Score: -0.71\n",
      "Subjectivity Score: 0.09\n",
      "Average Sentence Length: 19.18\n",
      "Percentage of Complex Words: 30.17\n",
      "Fog Index: 88.47\n",
      "Average Number of Words Per Sentence: 19.18\n",
      "Complex Word Count: 191\n",
      "Word count: 394\n",
      "Syllable per Word: 2.11\n",
      "Personal Pronouns: 4\n",
      "Average Word Length: 6.97\n"
     ]
    }
   ],
   "source": [
    "variables_computation('https://insights.blackcoffer.com/coronavirus-impact-on-the-hospitality-industry/',50921)"
   ]
  },
  {
   "cell_type": "code",
   "execution_count": 150,
   "id": "ed827970",
   "metadata": {},
   "outputs": [
    {
     "name": "stdout",
     "output_type": "stream",
     "text": [
      "url_Id(51382.8)\n",
      "Positive Score: 24\n",
      "Negative Score: 65\n",
      "Polarity Score: -0.46\n",
      "Subjectivity Score: 0.09\n",
      "Average Sentence Length: 30.35\n",
      "Percentage of Complex Words: 27.52\n",
      "Fog Index: 181.41\n",
      "Average Number of Words Per Sentence: 30.35\n",
      "Complex Word Count: 426\n",
      "Word count: 986\n",
      "Syllable per Word: 2.17\n",
      "Personal Pronouns: 13\n",
      "Average Word Length: 6.84\n"
     ]
    }
   ],
   "source": [
    "variables_computation('https://insights.blackcoffer.com/coronavirus-impact-on-energy-markets/',51382.8)"
   ]
  },
  {
   "cell_type": "code",
   "execution_count": 151,
   "id": "cbe5f9b8",
   "metadata": {},
   "outputs": [
    {
     "name": "stdout",
     "output_type": "stream",
     "text": [
      "url_Id(51844.6)\n",
      "Positive Score: 88\n",
      "Negative Score: 33\n",
      "Polarity Score: 0.45\n",
      "Subjectivity Score: 0.13\n",
      "Average Sentence Length: 23.74\n",
      "Percentage of Complex Words: 29.08\n",
      "Fog Index: 210.43\n",
      "Average Number of Words Per Sentence: 23.74\n",
      "Complex Word Count: 497\n",
      "Word count: 958\n",
      "Syllable per Word: 2.02\n",
      "Personal Pronouns: 57\n",
      "Average Word Length: 6.5\n"
     ]
    }
   ],
   "source": [
    "variables_computation('https://insights.blackcoffer.com/what-are-the-key-policies-that-will-mitigate-the-impacts-of-covid-19-on-the-world-of-work/',51844.6)"
   ]
  },
  {
   "cell_type": "code",
   "execution_count": 152,
   "id": "3e77733f",
   "metadata": {},
   "outputs": [
    {
     "name": "stdout",
     "output_type": "stream",
     "text": [
      "url_Id(52306.4)\n",
      "Positive Score: 25\n",
      "Negative Score: 21\n",
      "Polarity Score: 0.09\n",
      "Subjectivity Score: 0.06\n",
      "Average Sentence Length: 19.8\n",
      "Percentage of Complex Words: 28.89\n",
      "Fog Index: 157.95\n",
      "Average Number of Words Per Sentence: 19.8\n",
      "Complex Word Count: 366\n",
      "Word count: 718\n",
      "Syllable per Word: 2.11\n",
      "Personal Pronouns: 55\n",
      "Average Word Length: 6.88\n"
     ]
    }
   ],
   "source": [
    "variables_computation('https://insights.blackcoffer.com/marketing-drives-results-with-a-focus-on-problems/',52306.4)"
   ]
  },
  {
   "cell_type": "code",
   "execution_count": 153,
   "id": "b4e90d92",
   "metadata": {},
   "outputs": [
    {
     "name": "stdout",
     "output_type": "stream",
     "text": [
      "url_Id(52768.2)\n",
      "Positive Score: 50\n",
      "Negative Score: 33\n",
      "Polarity Score: 0.2\n",
      "Subjectivity Score: 0.14\n",
      "Average Sentence Length: 22.17\n",
      "Percentage of Complex Words: 39.21\n",
      "Fog Index: 161.68\n",
      "Average Number of Words Per Sentence: 22.17\n",
      "Complex Word Count: 365\n",
      "Word count: 573\n",
      "Syllable per Word: 2.41\n",
      "Personal Pronouns: 24\n",
      "Average Word Length: 7.44\n"
     ]
    }
   ],
   "source": [
    "variables_computation('https://insights.blackcoffer.com/continued-demand-for-sustainability/',52768.2)"
   ]
  },
  {
   "cell_type": "code",
   "execution_count": null,
   "id": "27710816",
   "metadata": {},
   "outputs": [],
   "source": []
  }
 ],
 "metadata": {
  "kernelspec": {
   "display_name": "Python 3 (ipykernel)",
   "language": "python",
   "name": "python3"
  },
  "language_info": {
   "codemirror_mode": {
    "name": "ipython",
    "version": 3
   },
   "file_extension": ".py",
   "mimetype": "text/x-python",
   "name": "python",
   "nbconvert_exporter": "python",
   "pygments_lexer": "ipython3",
   "version": "3.9.13"
  }
 },
 "nbformat": 4,
 "nbformat_minor": 5
}
