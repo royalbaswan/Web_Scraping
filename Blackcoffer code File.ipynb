{
 "cells": [
  {
   "cell_type": "code",
   "execution_count": 2,
   "id": "5a1e4494",
   "metadata": {},
   "outputs": [],
   "source": [
    "import numpy as np\n",
    "import pandas as pd\n",
    "import matplotlib.pyplot as plt\n",
    "import seaborn as sns\n",
    "import requests\n",
    "from bs4 import BeautifulSoup"
   ]
  },
  {
   "cell_type": "code",
   "execution_count": 3,
   "id": "9077b5b4",
   "metadata": {},
   "outputs": [],
   "source": [
    "url= 'https://insights.blackcoffer.com/rise-of-telemedicine-and-its-impact-on-livelihood-by-2040-3-2/'"
   ]
  },
  {
   "cell_type": "code",
   "execution_count": 4,
   "id": "c6bcd9c0",
   "metadata": {},
   "outputs": [],
   "source": [
    "article = []"
   ]
  },
  {
   "cell_type": "code",
   "execution_count": 5,
   "id": "f0e51ea4",
   "metadata": {},
   "outputs": [
    {
     "data": {
      "text/plain": [
       "b'<!doctype html >\\r\\n<!--[if IE 8]>    <html class=\"ie8\" lang=\"en\"> <![endif]-->\\r\\n<!--[if IE 9]>    <html class=\"ie9\" lang=\"en\"> <![endif]-->\\r\\n<!--[if gt IE 8]><!--> <html lang=\"en-US\"> <!--<![endif]-->\\r\\n<head>\\r\\n    <title>Rise of telemedicine and its Impact on Livelihood by 2040 | Blackcoffer Insights</title>\\r\\n    <meta charset=\"UTF-8\" />\\r\\n    <meta name=\"viewport\" content=\"width=device-width, initial-scale=1.0\">\\r\\n    <link rel=\"pingback\" href=\"https://insights.blackcoffer.com/xmlrpc.php\" />\\r\\n    <meta name=\\'robots\\' content=\\'max-image-preview:large\\' />\\n<link rel=\\'dns-prefetch\\' href=\\'//fonts.googleapis.com\\' />\\n<link rel=\"alternate\" type=\"application/rss+xml\" title=\"Blackcoffer Insights &raquo; Feed\" href=\"https://insights.blackcoffer.com/feed/\" />\\n<link rel=\"alternate\" type=\"application/rss+xml\" title=\"Blackcoffer Insights &raquo; Comments Feed\" href=\"https://insights.blackcoffer.com/comments/feed/\" />\\n<script type=\"text/javascript\">\\nwindow._wpemojiSettings = {\"baseUrl\":\"https:\\\\/\\\\/s.w.org\\\\/images\\\\/core\\\\/emoji\\\\/14.0.0\\\\/72x72\\\\/\",\"ext\":\".png\",\"svgUrl\":\"https:\\\\/\\\\/s.w.org\\\\/images\\\\/core\\\\/emoji\\\\/14.0.0\\\\/svg\\\\/\",\"svgExt\":\".svg\",\"source\":{\"concatemoji\":\"https:\\\\/\\\\/insights.blackcoffer.com\\\\/wp-includes\\\\/js\\\\/wp-emoji-release.min.js?ver=6.1.3\"}};\\n/*! This file is auto-generated */\\n!function(e,a,t){var n,r,o,i=a.createElement(\"canvas\"),p=i.getContext&&i.getContext(\"2d\");function s(e,t){var a=String.fromCharCode,e=(p.clearRect(0,0,i.width,i.height),p.fillText(a.apply(this,e),0,0),i.toDataURL());return p.clearRect(0,0,i.width,i.height),p.fillText(a.apply(this,t),0,0),e===i.toDataURL()}function c(e){var t=a.createElement(\"script\");t.src=e,t.defer=t.type=\"text/javascript\",a.getElementsByTagName(\"head\")[0].appendChild(t)}for(o=Array(\"flag\",\"emoji\"),t.supports={everything:!0,everythingExceptFlag:!0},r=0;r<o.length;r++)t.supports[o[r]]=function(e){if(p&&p.fillText)switch(p.textBaseline=\"top\",p.font=\"600 32px Arial\",e){case\"flag\":return s([127987,65039,8205,9895,65039],[127987,65039,8203,9895,65039])?!1:!s([55356,56826,55356,56819],[55356,56826,8203,55356,56819])&&!s([55356,57332,56128,56423,56128,56418,56128,56421,56128,56430,56128,56423,56128,56447],[55356,57332,8203,56128,56423,8203,56128,56418,8203,56128,56421,8203,56128,56430,8203,56128,56423,8203,56128,56447]);case\"emoji\":return!s([129777,127995,8205,129778,127999],[129777,127995,8203,129778,127999])}return!1}(o[r]),t.supports.everything=t.supports.everything&&t.supports[o[r]],\"flag\"!==o[r]&&(t.supports.everythingExceptFlag=t.supports.everythingExceptFlag&&t.supports[o[r]]);t.supports.everythingExceptFlag=t.supports.everythingExceptFlag&&!t.supports.flag,t.DOMReady=!1,t.readyCallback=function(){t.DOMReady=!0},t.supports.everything||(n=function(){t.readyCallback()},a.addEventListener?(a.addEventListener(\"DOMContentLoaded\",n,!1),e.addEventListener(\"load\",n,!1)):(e.attachEvent(\"onload\",n),a.attachEvent(\"onreadystatechange\",function(){\"complete\"===a.readyState&&t.readyCallback()})),(e=t.source||{}).concatemoji?c(e.concatemoji):e.wpemoji&&e.twemoji&&(c(e.twemoji),c(e.wpemoji)))}(window,document,window._wpemojiSettings);\\n</script>\\n<style type=\"text/css\">\\nimg.wp-smiley,\\nimg.emoji {\\n\\tdisplay: inline !important;\\n\\tborder: none !important;\\n\\tbox-shadow: none !important;\\n\\theight: 1em !important;\\n\\twidth: 1em !important;\\n\\tmargin: 0 0.07em !important;\\n\\tvertical-align: -0.1em !important;\\n\\tbackground: none !important;\\n\\tpadding: 0 !important;\\n}\\n</style>\\n\\t<link rel=\\'stylesheet\\' id=\\'wp-block-library-css\\' href=\\'https://insights.blackcoffer.com/wp-includes/css/dist/block-library/style.min.css?ver=6.1.3\\' type=\\'text/css\\' media=\\'all\\' />\\n<link rel=\\'stylesheet\\' id=\\'classic-theme-styles-css\\' href=\\'https://insights.blackcoffer.com/wp-includes/css/classic-themes.min.css?ver=1\\' type=\\'text/css\\' media=\\'all\\' />\\n<style id=\\'global-styles-inline-css\\' type=\\'text/css\\'>\\nbody{--wp--preset--color--black: #000000;--wp--preset--color--cyan-bluish-gray: #abb8c3;--wp--preset--color--white: #ffffff;--wp--preset--color--pale-pink: #f78da7;--wp--preset--color--vivid-red: #cf2e2e;--wp--preset--color--luminous-vivid-orange: #ff6900;--wp--preset--color--luminous-vivid-amber: #fcb900;--wp--preset--color--light-green-cyan: #7bdcb5;--wp--preset--color--vivid-green-cyan: #00d084;--wp--preset--color--pale-cyan-blue: #8ed1fc;--wp--preset--color--vivid-cyan-blue: #0693e3;--wp--preset--color--vivid-purple: #9b51e0;--wp--preset--gradient--vivid-cyan-blue-to-vivid-purple: linear-gradient(135deg,rgba(6,147,227,1) 0%,rgb(155,81,224) 100%);--wp--preset--gradient--light-green-cyan-to-vivid-green-cyan: linear-gradient(135deg,rgb(122,220,180) 0%,rgb(0,208,130) 100%);--wp--preset--gradient--luminous-vivid-amber-to-luminous-vivid-orange: linear-gradient(135deg,rgba(252,185,0,1) 0%,rgba(255,105,0,1) 100%);--wp--preset--gradient--luminous-vivid-orange-to-vivid-red: linear-gradient(135deg,rgba(255,105,0,1) 0%,rgb(207,46,46) 100%);--wp--preset--gradient--very-light-gray-to-cyan-bluish-gray: linear-gradient(135deg,rgb(238,238,238) 0%,rgb(169,184,195) 100%);--wp--preset--gradient--cool-to-warm-spectrum: linear-gradient(135deg,rgb(74,234,220) 0%,rgb(151,120,209) 20%,rgb(207,42,186) 40%,rgb(238,44,130) 60%,rgb(251,105,98) 80%,rgb(254,248,76) 100%);--wp--preset--gradient--blush-light-purple: linear-gradient(135deg,rgb(255,206,236) 0%,rgb(152,150,240) 100%);--wp--preset--gradient--blush-bordeaux: linear-gradient(135deg,rgb(254,205,165) 0%,rgb(254,45,45) 50%,rgb(107,0,62) 100%);--wp--preset--gradient--luminous-dusk: linear-gradient(135deg,rgb(255,203,112) 0%,rgb(199,81,192) 50%,rgb(65,88,208) 100%);--wp--preset--gradient--pale-ocean: linear-gradient(135deg,rgb(255,245,203) 0%,rgb(182,227,212) 50%,rgb(51,167,181) 100%);--wp--preset--gradient--electric-grass: linear-gradient(135deg,rgb(202,248,128) 0%,rgb(113,206,126) 100%);--wp--preset--gradient--midnight: linear-gradient(135deg,rgb(2,3,129) 0%,rgb(40,116,252) 100%);--wp--preset--duotone--dark-grayscale: url(\\'#wp-duotone-dark-grayscale\\');--wp--preset--duotone--grayscale: url(\\'#wp-duotone-grayscale\\');--wp--preset--duotone--purple-yellow: url(\\'#wp-duotone-purple-yellow\\');--wp--preset--duotone--blue-red: url(\\'#wp-duotone-blue-red\\');--wp--preset--duotone--midnight: url(\\'#wp-duotone-midnight\\');--wp--preset--duotone--magenta-yellow: url(\\'#wp-duotone-magenta-yellow\\');--wp--preset--duotone--purple-green: url(\\'#wp-duotone-purple-green\\');--wp--preset--duotone--blue-orange: url(\\'#wp-duotone-blue-orange\\');--wp--preset--font-size--small: 11px;--wp--preset--font-size--medium: 20px;--wp--preset--font-size--large: 32px;--wp--preset--font-size--x-large: 42px;--wp--preset--font-size--regular: 15px;--wp--preset--font-size--larger: 50px;--wp--preset--spacing--20: 0.44rem;--wp--preset--spacing--30: 0.67rem;--wp--preset--spacing--40: 1rem;--wp--preset--spacing--50: 1.5rem;--wp--preset--spacing--60: 2.25rem;--wp--preset--spacing--70: 3.38rem;--wp--preset--spacing--80: 5.06rem;}:where(.is-layout-flex){gap: 0.5em;}body .is-layout-flow > .alignleft{float: left;margin-inline-start: 0;margin-inline-end: 2em;}body .is-layout-flow > .alignright{float: right;margin-inline-start: 2em;margin-inline-end: 0;}body .is-layout-flow > .aligncenter{margin-left: auto !important;margin-right: auto !important;}body .is-layout-constrained > .alignleft{float: left;margin-inline-start: 0;margin-inline-end: 2em;}body .is-layout-constrained > .alignright{float: right;margin-inline-start: 2em;margin-inline-end: 0;}body .is-layout-constrained > .aligncenter{margin-left: auto !important;margin-right: auto !important;}body .is-layout-constrained > :where(:not(.alignleft):not(.alignright):not(.alignfull)){max-width: var(--wp--style--global--content-size);margin-left: auto !important;margin-right: auto !important;}body .is-layout-constrained > .alignwide{max-width: var(--wp--style--global--wide-size);}body .is-layout-flex{display: flex;}body .is-layout-flex{flex-wrap: wrap;align-items: center;}body .is-layout-flex > *{margin: 0;}:where(.wp-block-columns.is-layout-flex){gap: 2em;}.has-black-color{color: var(--wp--preset--color--black) !important;}.has-cyan-bluish-gray-color{color: var(--wp--preset--color--cyan-bluish-gray) !important;}.has-white-color{color: var(--wp--preset--color--white) !important;}.has-pale-pink-color{color: var(--wp--preset--color--pale-pink) !important;}.has-vivid-red-color{color: var(--wp--preset--color--vivid-red) !important;}.has-luminous-vivid-orange-color{color: var(--wp--preset--color--luminous-vivid-orange) !important;}.has-luminous-vivid-amber-color{color: var(--wp--preset--color--luminous-vivid-amber) !important;}.has-light-green-cyan-color{color: var(--wp--preset--color--light-green-cyan) !important;}.has-vivid-green-cyan-color{color: var(--wp--preset--color--vivid-green-cyan) !important;}.has-pale-cyan-blue-color{color: var(--wp--preset--color--pale-cyan-blue) !important;}.has-vivid-cyan-blue-color{color: var(--wp--preset--color--vivid-cyan-blue) !important;}.has-vivid-purple-color{color: var(--wp--preset--color--vivid-purple) !important;}.has-black-background-color{background-color: var(--wp--preset--color--black) !important;}.has-cyan-bluish-gray-background-color{background-color: var(--wp--preset--color--cyan-bluish-gray) !important;}.has-white-background-color{background-color: var(--wp--preset--color--white) !important;}.has-pale-pink-background-color{background-color: var(--wp--preset--color--pale-pink) !important;}.has-vivid-red-background-color{background-color: var(--wp--preset--color--vivid-red) !important;}.has-luminous-vivid-orange-background-color{background-color: var(--wp--preset--color--luminous-vivid-orange) !important;}.has-luminous-vivid-amber-background-color{background-color: var(--wp--preset--color--luminous-vivid-amber) !important;}.has-light-green-cyan-background-color{background-color: var(--wp--preset--color--light-green-cyan) !important;}.has-vivid-green-cyan-background-color{background-color: var(--wp--preset--color--vivid-green-cyan) !important;}.has-pale-cyan-blue-background-color{background-color: var(--wp--preset--color--pale-cyan-blue) !important;}.has-vivid-cyan-blue-background-color{background-color: var(--wp--preset--color--vivid-cyan-blue) !important;}.has-vivid-purple-background-color{background-color: var(--wp--preset--color--vivid-purple) !important;}.has-black-border-color{border-color: var(--wp--preset--color--black) !important;}.has-cyan-bluish-gray-border-color{border-color: var(--wp--preset--color--cyan-bluish-gray) !important;}.has-white-border-color{border-color: var(--wp--preset--color--white) !important;}.has-pale-pink-border-color{border-color: var(--wp--preset--color--pale-pink) !important;}.has-vivid-red-border-color{border-color: var(--wp--preset--color--vivid-red) !important;}.has-luminous-vivid-orange-border-color{border-color: var(--wp--preset--color--luminous-vivid-orange) !important;}.has-luminous-vivid-amber-border-color{border-color: var(--wp--preset--color--luminous-vivid-amber) !important;}.has-light-green-cyan-border-color{border-color: var(--wp--preset--color--light-green-cyan) !important;}.has-vivid-green-cyan-border-color{border-color: var(--wp--preset--color--vivid-green-cyan) !important;}.has-pale-cyan-blue-border-color{border-color: var(--wp--preset--color--pale-cyan-blue) !important;}.has-vivid-cyan-blue-border-color{border-color: var(--wp--preset--color--vivid-cyan-blue) !important;}.has-vivid-purple-border-color{border-color: var(--wp--preset--color--vivid-purple) !important;}.has-vivid-cyan-blue-to-vivid-purple-gradient-background{background: var(--wp--preset--gradient--vivid-cyan-blue-to-vivid-purple) !important;}.has-light-green-cyan-to-vivid-green-cyan-gradient-background{background: var(--wp--preset--gradient--light-green-cyan-to-vivid-green-cyan) !important;}.has-luminous-vivid-amber-to-luminous-vivid-orange-gradient-background{background: var(--wp--preset--gradient--luminous-vivid-amber-to-luminous-vivid-orange) !important;}.has-luminous-vivid-orange-to-vivid-red-gradient-background{background: var(--wp--preset--gradient--luminous-vivid-orange-to-vivid-red) !important;}.has-very-light-gray-to-cyan-bluish-gray-gradient-background{background: var(--wp--preset--gradient--very-light-gray-to-cyan-bluish-gray) !important;}.has-cool-to-warm-spectrum-gradient-background{background: var(--wp--preset--gradient--cool-to-warm-spectrum) !important;}.has-blush-light-purple-gradient-background{background: var(--wp--preset--gradient--blush-light-purple) !important;}.has-blush-bordeaux-gradient-background{background: var(--wp--preset--gradient--blush-bordeaux) !important;}.has-luminous-dusk-gradient-background{background: var(--wp--preset--gradient--luminous-dusk) !important;}.has-pale-ocean-gradient-background{background: var(--wp--preset--gradient--pale-ocean) !important;}.has-electric-grass-gradient-background{background: var(--wp--preset--gradient--electric-grass) !important;}.has-midnight-gradient-background{background: var(--wp--preset--gradient--midnight) !important;}.has-small-font-size{font-size: var(--wp--preset--font-size--small) !important;}.has-medium-font-size{font-size: var(--wp--preset--font-size--medium) !important;}.has-large-font-size{font-size: var(--wp--preset--font-size--large) !important;}.has-x-large-font-size{font-size: var(--wp--preset--font-size--x-large) !important;}\\n.wp-block-navigation a:where(:not(.wp-element-button)){color: inherit;}\\n:where(.wp-block-columns.is-layout-flex){gap: 2em;}\\n.wp-block-pullquote{font-size: 1.5em;line-height: 1.6;}\\n</style>\\n<link rel=\\'stylesheet\\' id=\\'td-plugin-newsletter-css\\' href=\\'https://insights.blackcoffer.com/wp-content/plugins/td-newsletter/style.css?ver=12.3\\' type=\\'text/css\\' media=\\'all\\' />\\n<link rel=\\'stylesheet\\' id=\\'td-plugin-multi-purpose-css\\' href=\\'https://insights.blackcoffer.com/wp-content/plugins/td-composer/td-multi-purpose/style.css?ver=8b696c143e3bac57b8492b1871ec539b\\' type=\\'text/css\\' media=\\'all\\' />\\n<link rel=\\'stylesheet\\' id=\\'google-fonts-style-css\\' href=\\'https://fonts.googleapis.com/css?family=Open+Sans%3A400%2C600%2C700%2C300%7CRoboto%3A400%2C500%2C700%2C300&#038;display=swap&#038;ver=12.3\\' type=\\'text/css\\' media=\\'all\\' />\\n<link rel=\\'stylesheet\\' id=\\'tds-front-css\\' href=\\'https://insights.blackcoffer.com/wp-content/plugins/td-subscription/assets/css/tds-front.css?ver=1.4.1\\' type=\\'text/css\\' media=\\'all\\' />\\n<link rel=\\'stylesheet\\' id=\\'td-theme-css\\' href=\\'https://insights.blackcoffer.com/wp-content/themes/Newspaper/style.css?ver=12.3\\' type=\\'text/css\\' media=\\'all\\' />\\n<style id=\\'td-theme-inline-css\\' type=\\'text/css\\'>\\n    \\r\\n        @media (max-width: 767px) {\\r\\n            .td-header-desktop-wrap {\\r\\n                display: none;\\r\\n            }\\r\\n        }\\r\\n        @media (min-width: 767px) {\\r\\n            .td-header-mobile-wrap {\\r\\n                display: none;\\r\\n            }\\r\\n        }\\r\\n    \\r\\n\\t\\n</style>\\n<link rel=\\'stylesheet\\' id=\\'td-legacy-framework-front-style-css\\' href=\\'https://insights.blackcoffer.com/wp-content/plugins/td-composer/legacy/Newspaper/assets/css/td_legacy_main.css?ver=8b696c143e3bac57b8492b1871ec539b\\' type=\\'text/css\\' media=\\'all\\' />\\n<link rel=\\'stylesheet\\' id=\\'td-standard-pack-framework-front-style-css\\' href=\\'https://insights.blackcoffer.com/wp-content/plugins/td-standard-pack/Newspaper/assets/css/td_standard_pack_main.css?ver=9ce2c1ff12ade0672995751ed7cb59b1\\' type=\\'text/css\\' media=\\'all\\' />\\n<link rel=\\'stylesheet\\' id=\\'tdb_style_cloud_templates_front-css\\' href=\\'https://insights.blackcoffer.com/wp-content/plugins/td-cloud-library/assets/css/tdb_main.css?ver=d72a7d54cd61ce0a128c0a91d76ef60a\\' type=\\'text/css\\' media=\\'all\\' />\\n<script type=\\'text/javascript\\' src=\\'https://insights.blackcoffer.com/wp-includes/js/jquery/jquery.min.js?ver=3.6.1\\' id=\\'jquery-core-js\\'></script>\\n<script type=\\'text/javascript\\' src=\\'https://insights.blackcoffer.com/wp-includes/js/jquery/jquery-migrate.min.js?ver=3.3.2\\' id=\\'jquery-migrate-js\\'></script>\\n<link rel=\"https://api.w.org/\" href=\"https://insights.blackcoffer.com/wp-json/\" /><link rel=\"alternate\" type=\"application/json\" href=\"https://insights.blackcoffer.com/wp-json/wp/v2/posts/5021\" /><link rel=\"EditURI\" type=\"application/rsd+xml\" title=\"RSD\" href=\"https://insights.blackcoffer.com/xmlrpc.php?rsd\" />\\n<link rel=\"wlwmanifest\" type=\"application/wlwmanifest+xml\" href=\"https://insights.blackcoffer.com/wp-includes/wlwmanifest.xml\" />\\n<meta name=\"generator\" content=\"WordPress 6.1.3\" />\\n<link rel=\"canonical\" href=\"https://insights.blackcoffer.com/rise-of-telemedicine-and-its-impact-on-livelihood-by-2040-3-2/\" />\\n<link rel=\\'shortlink\\' href=\\'https://insights.blackcoffer.com/?p=5021\\' />\\n<link rel=\"alternate\" type=\"application/json+oembed\" href=\"https://insights.blackcoffer.com/wp-json/oembed/1.0/embed?url=https%3A%2F%2Finsights.blackcoffer.com%2Frise-of-telemedicine-and-its-impact-on-livelihood-by-2040-3-2%2F\" />\\n<link rel=\"alternate\" type=\"text/xml+oembed\" href=\"https://insights.blackcoffer.com/wp-json/oembed/1.0/embed?url=https%3A%2F%2Finsights.blackcoffer.com%2Frise-of-telemedicine-and-its-impact-on-livelihood-by-2040-3-2%2F&#038;format=xml\" />\\n<!--[if lt IE 9]><script src=\"https://cdnjs.cloudflare.com/ajax/libs/html5shiv/3.7.3/html5shiv.js\"></script><![endif]-->\\r\\n        <script>\\r\\n        window.tdb_globals = {\"wpRestNonce\":\"2278292f1c\",\"wpRestUrl\":\"https:\\\\/\\\\/insights.blackcoffer.com\\\\/wp-json\\\\/\",\"permalinkStructure\":\"\\\\/%postname%\\\\/\",\"globalSettings\":{\"tdcSavingHistory\":false},\"isAjax\":false,\"isAdminBarShowing\":false,\"autoloadScrollPercent\":20,\"postAutoloadStatus\":\"off\",\"origPostEditUrl\":null};\\r\\n    </script>\\r\\n    \\n    <style id=\"tdb-global-colors\">\\r\\n        :root {--accent-color: #fff;}\\n    </style>\\r\\n\\t\\n<meta name=\"generator\" content=\"Powered by Slider Revolution 6.6.10 - responsive, Mobile-Friendly Slider Plugin for WordPress with comfortable drag and drop interface.\" />\\n\\n<!-- JS generated by theme -->\\n\\n<script>\\n    \\n    \\r\\n\\r\\n\\t    var tdBlocksArray = []; //here we store all the items for the current page\\r\\n\\r\\n\\t    //td_block class - each ajax block uses a object of this class for requests\\r\\n\\t    function tdBlock() {\\r\\n\\t\\t    this.id = \\'\\';\\r\\n\\t\\t    this.block_type = 1; //block type id (1-234 etc)\\r\\n\\t\\t    this.atts = \\'\\';\\r\\n\\t\\t    this.td_column_number = \\'\\';\\r\\n\\t\\t    this.td_current_page = 1; //\\r\\n\\t\\t    this.post_count = 0; //from wp\\r\\n\\t\\t    this.found_posts = 0; //from wp\\r\\n\\t\\t    this.max_num_pages = 0; //from wp\\r\\n\\t\\t    this.td_filter_value = \\'\\'; //current live filter value\\r\\n\\t\\t    this.is_ajax_running = false;\\r\\n\\t\\t    this.td_user_action = \\'\\'; // load more or infinite loader (used by the animation)\\r\\n\\t\\t    this.header_color = \\'\\';\\r\\n\\t\\t    this.ajax_pagination_infinite_stop = \\'\\'; //show load more at page x\\r\\n\\t    }\\r\\n\\r\\n\\r\\n        // td_js_generator - mini detector\\r\\n        (function(){\\r\\n            var htmlTag = document.getElementsByTagName(\"html\")[0];\\r\\n\\r\\n\\t        if ( navigator.userAgent.indexOf(\"MSIE 10.0\") > -1 ) {\\r\\n                htmlTag.className += \\' ie10\\';\\r\\n            }\\r\\n\\r\\n            if ( !!navigator.userAgent.match(/Trident.*rv\\\\:11\\\\./) ) {\\r\\n                htmlTag.className += \\' ie11\\';\\r\\n            }\\r\\n\\r\\n\\t        if ( navigator.userAgent.indexOf(\"Edge\") > -1 ) {\\r\\n                htmlTag.className += \\' ieEdge\\';\\r\\n            }\\r\\n\\r\\n            if ( /(iPad|iPhone|iPod)/g.test(navigator.userAgent) ) {\\r\\n                htmlTag.className += \\' td-md-is-ios\\';\\r\\n            }\\r\\n\\r\\n            var user_agent = navigator.userAgent.toLowerCase();\\r\\n            if ( user_agent.indexOf(\"android\") > -1 ) {\\r\\n                htmlTag.className += \\' td-md-is-android\\';\\r\\n            }\\r\\n\\r\\n            if ( -1 !== navigator.userAgent.indexOf(\\'Mac OS X\\')  ) {\\r\\n                htmlTag.className += \\' td-md-is-os-x\\';\\r\\n            }\\r\\n\\r\\n            if ( /chrom(e|ium)/.test(navigator.userAgent.toLowerCase()) ) {\\r\\n               htmlTag.className += \\' td-md-is-chrome\\';\\r\\n            }\\r\\n\\r\\n            if ( -1 !== navigator.userAgent.indexOf(\\'Firefox\\') ) {\\r\\n                htmlTag.className += \\' td-md-is-firefox\\';\\r\\n            }\\r\\n\\r\\n            if ( -1 !== navigator.userAgent.indexOf(\\'Safari\\') && -1 === navigator.userAgent.indexOf(\\'Chrome\\') ) {\\r\\n                htmlTag.className += \\' td-md-is-safari\\';\\r\\n            }\\r\\n\\r\\n            if( -1 !== navigator.userAgent.indexOf(\\'IEMobile\\') ){\\r\\n                htmlTag.className += \\' td-md-is-iemobile\\';\\r\\n            }\\r\\n\\r\\n        })();\\r\\n\\r\\n\\r\\n\\r\\n\\r\\n        var tdLocalCache = {};\\r\\n\\r\\n        ( function () {\\r\\n            \"use strict\";\\r\\n\\r\\n            tdLocalCache = {\\r\\n                data: {},\\r\\n                remove: function (resource_id) {\\r\\n                    delete tdLocalCache.data[resource_id];\\r\\n                },\\r\\n                exist: function (resource_id) {\\r\\n                    return tdLocalCache.data.hasOwnProperty(resource_id) && tdLocalCache.data[resource_id] !== null;\\r\\n                },\\r\\n                get: function (resource_id) {\\r\\n                    return tdLocalCache.data[resource_id];\\r\\n                },\\r\\n                set: function (resource_id, cachedData) {\\r\\n                    tdLocalCache.remove(resource_id);\\r\\n                    tdLocalCache.data[resource_id] = cachedData;\\r\\n                }\\r\\n            };\\r\\n        })();\\r\\n\\r\\n    \\r\\n    \\nvar td_viewport_interval_list=[{\"limitBottom\":767,\"sidebarWidth\":228},{\"limitBottom\":1018,\"sidebarWidth\":300},{\"limitBottom\":1140,\"sidebarWidth\":324}];\\nvar td_animation_stack_effect=\"type0\";\\nvar tds_animation_stack=true;\\nvar td_animation_stack_specific_selectors=\".entry-thumb, img, .td-lazy-img\";\\nvar td_animation_stack_general_selectors=\".td-animation-stack img, .td-animation-stack .entry-thumb, .post img, .td-animation-stack .td-lazy-img\";\\nvar tds_general_modal_image=\"yes\";\\nvar tdc_is_installed=\"yes\";\\nvar td_ajax_url=\"https:\\\\/\\\\/insights.blackcoffer.com\\\\/wp-admin\\\\/admin-ajax.php?td_theme_name=Newspaper&v=12.3\";\\nvar td_get_template_directory_uri=\"https:\\\\/\\\\/insights.blackcoffer.com\\\\/wp-content\\\\/plugins\\\\/td-composer\\\\/legacy\\\\/common\";\\nvar tds_snap_menu=\"\";\\nvar tds_logo_on_sticky=\"\";\\nvar tds_header_style=\"\";\\nvar td_please_wait=\"Please wait...\";\\nvar td_email_user_pass_incorrect=\"User or password incorrect!\";\\nvar td_email_user_incorrect=\"Email or username incorrect!\";\\nvar td_email_incorrect=\"Email incorrect!\";\\nvar td_user_incorrect=\"Username incorrect!\";\\nvar td_email_user_empty=\"Email or username empty!\";\\nvar td_pass_empty=\"Pass empty!\";\\nvar td_pass_pattern_incorrect=\"Invalid Pass Pattern!\";\\nvar td_retype_pass_incorrect=\"Retyped Pass incorrect!\";\\nvar tds_more_articles_on_post_enable=\"\";\\nvar tds_more_articles_on_post_time_to_wait=\"\";\\nvar tds_more_articles_on_post_pages_distance_from_top=0;\\nvar tds_theme_color_site_wide=\"#4db2ec\";\\nvar tds_smart_sidebar=\"\";\\nvar tdThemeName=\"Newspaper\";\\nvar td_magnific_popup_translation_tPrev=\"Previous (Left arrow key)\";\\nvar td_magnific_popup_translation_tNext=\"Next (Right arrow key)\";\\nvar td_magnific_popup_translation_tCounter=\"%curr% of %total%\";\\nvar td_magnific_popup_translation_ajax_tError=\"The content from %url% could not be loaded.\";\\nvar td_magnific_popup_translation_image_tError=\"The image #%curr% could not be loaded.\";\\nvar tdBlockNonce=\"fdaa8e3532\";\\nvar tdDateNamesI18n={\"month_names\":[\"January\",\"February\",\"March\",\"April\",\"May\",\"June\",\"July\",\"August\",\"September\",\"October\",\"November\",\"December\"],\"month_names_short\":[\"Jan\",\"Feb\",\"Mar\",\"Apr\",\"May\",\"Jun\",\"Jul\",\"Aug\",\"Sep\",\"Oct\",\"Nov\",\"Dec\"],\"day_names\":[\"Sunday\",\"Monday\",\"Tuesday\",\"Wednesday\",\"Thursday\",\"Friday\",\"Saturday\"],\"day_names_short\":[\"Sun\",\"Mon\",\"Tue\",\"Wed\",\"Thu\",\"Fri\",\"Sat\"]};\\nvar td_reset_pass_empty=\"Please enter a new password before proceeding.\";\\nvar td_reset_pass_confirm_empty=\"Please confirm the new password before proceeding.\";\\nvar td_reset_pass_not_matching=\"Please make sure that the passwords match.\";\\nvar tdb_modal_confirm=\"Save\";\\nvar tdb_modal_cancel=\"Cancel\";\\nvar tdb_modal_confirm_alt=\"Yes\";\\nvar tdb_modal_cancel_alt=\"No\";\\nvar td_ad_background_click_link=\"\";\\nvar td_ad_background_click_target=\"\";\\n</script>\\n\\n\\n<!-- Header style compiled by theme -->\\n\\n<style>\\n    \\n.td-menu-background:before,\\r\\n    .td-search-background:before {\\r\\n        background: rgba(0,0,0,0.5);\\r\\n        background: -moz-linear-gradient(top, rgba(0,0,0,0.5) 0%, rgba(0,0,0,0.6) 100%);\\r\\n        background: -webkit-gradient(left top, left bottom, color-stop(0%, rgba(0,0,0,0.5)), color-stop(100%, rgba(0,0,0,0.6)));\\r\\n        background: -webkit-linear-gradient(top, rgba(0,0,0,0.5) 0%, rgba(0,0,0,0.6) 100%);\\r\\n        background: -o-linear-gradient(top, rgba(0,0,0,0.5) 0%, rgba(0,0,0,0.6) 100%);\\r\\n        background: -ms-linear-gradient(top, rgba(0,0,0,0.5) 0%, rgba(0,0,0,0.6) 100%);\\r\\n        background: linear-gradient(to bottom, rgba(0,0,0,0.5) 0%, rgba(0,0,0,0.6) 100%);\\r\\n        filter: progid:DXImageTransform.Microsoft.gradient( startColorstr=\\'rgba(0,0,0,0.5)\\', endColorstr=\\'rgba(0,0,0,0.6)\\', GradientType=0 );\\r\\n    }\\n.td-menu-background:before,\\r\\n    .td-search-background:before {\\r\\n        background: rgba(0,0,0,0.5);\\r\\n        background: -moz-linear-gradient(top, rgba(0,0,0,0.5) 0%, rgba(0,0,0,0.6) 100%);\\r\\n        background: -webkit-gradient(left top, left bottom, color-stop(0%, rgba(0,0,0,0.5)), color-stop(100%, rgba(0,0,0,0.6)));\\r\\n        background: -webkit-linear-gradient(top, rgba(0,0,0,0.5) 0%, rgba(0,0,0,0.6) 100%);\\r\\n        background: -o-linear-gradient(top, rgba(0,0,0,0.5) 0%, rgba(0,0,0,0.6) 100%);\\r\\n        background: -ms-linear-gradient(top, rgba(0,0,0,0.5) 0%, rgba(0,0,0,0.6) 100%);\\r\\n        background: linear-gradient(to bottom, rgba(0,0,0,0.5) 0%, rgba(0,0,0,0.6) 100%);\\r\\n        filter: progid:DXImageTransform.Microsoft.gradient( startColorstr=\\'rgba(0,0,0,0.5)\\', endColorstr=\\'rgba(0,0,0,0.6)\\', GradientType=0 );\\r\\n    }\\n</style>\\n\\n\\n\\n\\r\\n<script type=\"application/ld+json\">\\r\\n    {\\r\\n        \"@context\": \"http://schema.org\",\\r\\n        \"@type\": \"BreadcrumbList\",\\r\\n        \"itemListElement\": [\\r\\n            {\\r\\n                \"@type\": \"ListItem\",\\r\\n                \"position\": 1,\\r\\n                \"item\": {\\r\\n                    \"@type\": \"WebSite\",\\r\\n                    \"@id\": \"https://insights.blackcoffer.com/\",\\r\\n                    \"name\": \"Home\"\\r\\n                }\\r\\n            },\\r\\n            {\\r\\n                \"@type\": \"ListItem\",\\r\\n                \"position\": 2,\\r\\n                    \"item\": {\\r\\n                    \"@type\": \"WebPage\",\\r\\n                    \"@id\": \"https://insights.blackcoffer.com/category/what-we-think/\",\\r\\n                    \"name\": \"What We Think\"\\r\\n                }\\r\\n            }\\r\\n            ,{\\r\\n                \"@type\": \"ListItem\",\\r\\n                \"position\": 3,\\r\\n                    \"item\": {\\r\\n                    \"@type\": \"WebPage\",\\r\\n                    \"@id\": \"https://insights.blackcoffer.com/rise-of-telemedicine-and-its-impact-on-livelihood-by-2040-3-2/\",\\r\\n                    \"name\": \"Rise of telemedicine and its Impact on Livelihood by 2040\"                                \\r\\n                }\\r\\n            }    \\r\\n        ]\\r\\n    }\\r\\n</script>\\n<link rel=\"icon\" href=\"https://insights.blackcoffer.com/wp-content/uploads/2018/06/Black-432x466-v02-150x150.png\" sizes=\"32x32\" />\\n<link rel=\"icon\" href=\"https://insights.blackcoffer.com/wp-content/uploads/2018/06/Black-432x466-v02.png\" sizes=\"192x192\" />\\n<link rel=\"apple-touch-icon\" href=\"https://insights.blackcoffer.com/wp-content/uploads/2018/06/Black-432x466-v02.png\" />\\n<meta name=\"msapplication-TileImage\" content=\"https://insights.blackcoffer.com/wp-content/uploads/2018/06/Black-432x466-v02.png\" />\\n<script>function setREVStartSize(e){\\r\\n\\t\\t\\t//window.requestAnimationFrame(function() {\\r\\n\\t\\t\\t\\twindow.RSIW = window.RSIW===undefined ? window.innerWidth : window.RSIW;\\r\\n\\t\\t\\t\\twindow.RSIH = window.RSIH===undefined ? window.innerHeight : window.RSIH;\\r\\n\\t\\t\\t\\ttry {\\r\\n\\t\\t\\t\\t\\tvar pw = document.getElementById(e.c).parentNode.offsetWidth,\\r\\n\\t\\t\\t\\t\\t\\tnewh;\\r\\n\\t\\t\\t\\t\\tpw = pw===0 || isNaN(pw) || (e.l==\"fullwidth\" || e.layout==\"fullwidth\") ? window.RSIW : pw;\\r\\n\\t\\t\\t\\t\\te.tabw = e.tabw===undefined ? 0 : parseInt(e.tabw);\\r\\n\\t\\t\\t\\t\\te.thumbw = e.thumbw===undefined ? 0 : parseInt(e.thumbw);\\r\\n\\t\\t\\t\\t\\te.tabh = e.tabh===undefined ? 0 : parseInt(e.tabh);\\r\\n\\t\\t\\t\\t\\te.thumbh = e.thumbh===undefined ? 0 : parseInt(e.thumbh);\\r\\n\\t\\t\\t\\t\\te.tabhide = e.tabhide===undefined ? 0 : parseInt(e.tabhide);\\r\\n\\t\\t\\t\\t\\te.thumbhide = e.thumbhide===undefined ? 0 : parseInt(e.thumbhide);\\r\\n\\t\\t\\t\\t\\te.mh = e.mh===undefined || e.mh==\"\" || e.mh===\"auto\" ? 0 : parseInt(e.mh,0);\\r\\n\\t\\t\\t\\t\\tif(e.layout===\"fullscreen\" || e.l===\"fullscreen\")\\r\\n\\t\\t\\t\\t\\t\\tnewh = Math.max(e.mh,window.RSIH);\\r\\n\\t\\t\\t\\t\\telse{\\r\\n\\t\\t\\t\\t\\t\\te.gw = Array.isArray(e.gw) ? e.gw : [e.gw];\\r\\n\\t\\t\\t\\t\\t\\tfor (var i in e.rl) if (e.gw[i]===undefined || e.gw[i]===0) e.gw[i] = e.gw[i-1];\\r\\n\\t\\t\\t\\t\\t\\te.gh = e.el===undefined || e.el===\"\" || (Array.isArray(e.el) && e.el.length==0)? e.gh : e.el;\\r\\n\\t\\t\\t\\t\\t\\te.gh = Array.isArray(e.gh) ? e.gh : [e.gh];\\r\\n\\t\\t\\t\\t\\t\\tfor (var i in e.rl) if (e.gh[i]===undefined || e.gh[i]===0) e.gh[i] = e.gh[i-1];\\r\\n\\t\\t\\t\\t\\t\\t\\t\\t\\t\\t\\t\\r\\n\\t\\t\\t\\t\\t\\tvar nl = new Array(e.rl.length),\\r\\n\\t\\t\\t\\t\\t\\t\\tix = 0,\\r\\n\\t\\t\\t\\t\\t\\t\\tsl;\\r\\n\\t\\t\\t\\t\\t\\te.tabw = e.tabhide>=pw ? 0 : e.tabw;\\r\\n\\t\\t\\t\\t\\t\\te.thumbw = e.thumbhide>=pw ? 0 : e.thumbw;\\r\\n\\t\\t\\t\\t\\t\\te.tabh = e.tabhide>=pw ? 0 : e.tabh;\\r\\n\\t\\t\\t\\t\\t\\te.thumbh = e.thumbhide>=pw ? 0 : e.thumbh;\\r\\n\\t\\t\\t\\t\\t\\tfor (var i in e.rl) nl[i] = e.rl[i]<window.RSIW ? 0 : e.rl[i];\\r\\n\\t\\t\\t\\t\\t\\tsl = nl[0];\\r\\n\\t\\t\\t\\t\\t\\tfor (var i in nl) if (sl>nl[i] && nl[i]>0) { sl = nl[i]; ix=i;}\\r\\n\\t\\t\\t\\t\\t\\tvar m = pw>(e.gw[ix]+e.tabw+e.thumbw) ? 1 : (pw-(e.tabw+e.thumbw)) / (e.gw[ix]);\\r\\n\\t\\t\\t\\t\\t\\tnewh =  (e.gh[ix] * m) + (e.tabh + e.thumbh);\\r\\n\\t\\t\\t\\t\\t}\\r\\n\\t\\t\\t\\t\\tvar el = document.getElementById(e.c);\\r\\n\\t\\t\\t\\t\\tif (el!==null && el) el.style.height = newh+\"px\";\\r\\n\\t\\t\\t\\t\\tel = document.getElementById(e.c+\"_wrapper\");\\r\\n\\t\\t\\t\\t\\tif (el!==null && el) {\\r\\n\\t\\t\\t\\t\\t\\tel.style.height = newh+\"px\";\\r\\n\\t\\t\\t\\t\\t\\tel.style.display = \"block\";\\r\\n\\t\\t\\t\\t\\t}\\r\\n\\t\\t\\t\\t} catch(e){\\r\\n\\t\\t\\t\\t\\tconsole.log(\"Failure at Presize of Slider:\" + e)\\r\\n\\t\\t\\t\\t}\\r\\n\\t\\t\\t//});\\r\\n\\t\\t  };</script>\\n\\t\\t<style type=\"text/css\" id=\"wp-custom-css\">\\n\\t\\t\\t#tdi_1{\\n\\tbackground:white !important;\\n}\\t\\t</style>\\n\\t\\t\\n<!-- Button style compiled by theme -->\\n\\n<style>\\n    \\n</style>\\n\\n\\t<style id=\"tdw-css-placeholder\">.td-big-grid-wrapper .entry-thumb {\\r\\n  width: 100% !important;\\r\\n  height: 100% !important;\\r\\n  object-fit: cover !important;\\r\\n}\\r\\n.image div.td-all-devices a img {\\r\\n  margin: -46px 0 !important;\\r\\n}\\r\\n</style></head>\\r\\n\\r\\n<body class=\"post-template-default single single-post postid-5021 single-format-standard td-standard-pack rise-of-telemedicine-and-its-impact-on-livelihood-by-2040-3-2 global-block-template-1 single_template_7  tdc-header-template  tdc-footer-template td-animation-stack-type0 td-full-layout\" itemscope=\"itemscope\" itemtype=\"https://schema.org/WebPage\">\\r\\n\\r\\n            <div class=\"td-scroll-up  td-hide-scroll-up-on-mob\" style=\"display:none;\"><i class=\"td-icon-menu-up\"></i></div>\\r\\n    \\r\\n    <div class=\"td-menu-background\" style=\"visibility:hidden\"></div>\\r\\n<div id=\"td-mobile-nav\" style=\"visibility:hidden\">\\r\\n    <div class=\"td-mobile-container\">\\r\\n        <!-- mobile menu top section -->\\r\\n        <div class=\"td-menu-socials-wrap\">\\r\\n            <!-- socials -->\\r\\n            <div class=\"td-menu-socials\">\\r\\n                            </div>\\r\\n            <!-- close button -->\\r\\n            <div class=\"td-mobile-close\">\\r\\n                <span><i class=\"td-icon-close-mobile\"></i></span>\\r\\n            </div>\\r\\n        </div>\\r\\n\\r\\n        <!-- login section -->\\r\\n                    <div class=\"td-menu-login-section\">\\r\\n                \\r\\n    <div class=\"td-guest-wrap\">\\r\\n        <div class=\"td-menu-login\"><a id=\"login-link-mob\">Sign in</a></div>\\r\\n    </div>\\r\\n            </div>\\r\\n        \\r\\n        <!-- menu section -->\\r\\n        <div class=\"td-mobile-content\">\\r\\n            <div class=\"menu-main-2-container\"><ul id=\"menu-main-2\" class=\"td-mobile-main-menu\"><li id=\"menu-item-4058\" class=\"menu-item menu-item-type-taxonomy menu-item-object-category menu-item-first menu-item-has-children menu-item-4058\"><a href=\"https://insights.blackcoffer.com/category/our-success-stories/\">Our Success Stories<i class=\"td-icon-menu-right td-element-after\"></i></a>\\n<ul class=\"sub-menu\">\\n\\t<li id=\"menu-item-0\" class=\"menu-item-0\"><a href=\"https://insights.blackcoffer.com/category/our-success-stories/banking-securities-and-insurance/\">Banking, Financials, Securities, and Insurance</a></li>\\n\\t<li class=\"menu-item-0\"><a href=\"https://insights.blackcoffer.com/category/our-success-stories/energy-our-success-stories/\">Energy</a></li>\\n\\t<li class=\"menu-item-0\"><a href=\"https://insights.blackcoffer.com/category/our-success-stories/entertainment-our-success-stories/\">Entertainment</a></li>\\n\\t<li class=\"menu-item-0\"><a href=\"https://insights.blackcoffer.com/category/our-success-stories/fast-moving-consumer-goods/\">Fast Moving Consumer Goods</a></li>\\n\\t<li class=\"menu-item-0\"><a href=\"https://insights.blackcoffer.com/category/our-success-stories/government-think-tanks/\">Government &amp; Think Tanks</a></li>\\n\\t<li class=\"menu-item-0\"><a href=\"https://insights.blackcoffer.com/category/our-success-stories/healthcare-our-success-stories/\">Healthcare</a></li>\\n\\t<li class=\"menu-item-0\"><a href=\"https://insights.blackcoffer.com/category/our-success-stories/infrastructure-real-estate/\">Infrastructure &amp; Real Estate</a></li>\\n\\t<li class=\"menu-item-0\"><a href=\"https://insights.blackcoffer.com/category/our-success-stories/it/\">IT</a></li>\\n\\t<li class=\"menu-item-0\"><a href=\"https://insights.blackcoffer.com/category/our-success-stories/lifestyle-ecommerce-market-place/\">Lifestyle, eCommerce &amp; Online Market Place</a></li>\\n\\t<li class=\"menu-item-0\"><a href=\"https://insights.blackcoffer.com/category/our-success-stories/production-manufacturing/\">Production &amp; Manufacturing</a></li>\\n\\t<li class=\"menu-item-0\"><a href=\"https://insights.blackcoffer.com/category/our-success-stories/research-academia/\">Research &amp; Academia</a></li>\\n\\t<li class=\"menu-item-0\"><a href=\"https://insights.blackcoffer.com/category/our-success-stories/retail-supply-chain/\">Retail &amp; Supply Chain</a></li>\\n\\t<li class=\"menu-item-0\"><a href=\"https://insights.blackcoffer.com/category/our-success-stories/telecom/\">Telecom</a></li>\\n</ul>\\n</li>\\n<li id=\"menu-item-4059\" class=\"menu-item menu-item-type-taxonomy menu-item-object-category menu-item-has-children menu-item-4059\"><a href=\"https://insights.blackcoffer.com/category/our-solutions/\">What We Do<i class=\"td-icon-menu-right td-element-after\"></i></a>\\n<ul class=\"sub-menu\">\\n\\t<li class=\"menu-item-0\"><a href=\"https://insights.blackcoffer.com/category/our-solutions/banking-financials-securities-and-insurance-solutions/\">Banking, Financials, Securities, and Insurance</a></li>\\n\\t<li class=\"menu-item-0\"><a href=\"https://insights.blackcoffer.com/category/our-solutions/energy-our-solutions/\">Energy</a></li>\\n\\t<li class=\"menu-item-0\"><a href=\"https://insights.blackcoffer.com/category/our-solutions/entertainment-our-solutions/\">Entertainment</a></li>\\n\\t<li class=\"menu-item-0\"><a href=\"https://insights.blackcoffer.com/category/our-solutions/fast-moving-consumer-goods-our-solutions/\">Fast Moving Consumer Goods</a></li>\\n\\t<li class=\"menu-item-0\"><a href=\"https://insights.blackcoffer.com/category/our-solutions/government-think-tanks-our-solutions/\">Government &amp; Think Tanks</a></li>\\n\\t<li class=\"menu-item-0\"><a href=\"https://insights.blackcoffer.com/category/our-solutions/healthcare-our-solutions/\">Healthcare</a></li>\\n\\t<li class=\"menu-item-0\"><a href=\"https://insights.blackcoffer.com/category/our-solutions/hospitality/\">Hospitality</a></li>\\n\\t<li class=\"menu-item-0\"><a href=\"https://insights.blackcoffer.com/category/our-solutions/infrastructure-real-estate-our-solutions/\">Infrastructure &amp; Real Estate</a></li>\\n\\t<li class=\"menu-item-0\"><a href=\"https://insights.blackcoffer.com/category/our-solutions/it-services/\">IT Services</a></li>\\n\\t<li class=\"menu-item-0\"><a href=\"https://insights.blackcoffer.com/category/our-solutions/lifestyle-ecommerce-market-place-solutions/\">Lifestyle, eCommerce &amp; Online Market Place</a></li>\\n\\t<li class=\"menu-item-0\"><a href=\"https://insights.blackcoffer.com/category/our-solutions/news-media/\">News &amp; Media</a></li>\\n\\t<li class=\"menu-item-0\"><a href=\"https://insights.blackcoffer.com/category/our-solutions/production-manufacturing-our-solutions/\">Production &amp; Manufacturing</a></li>\\n\\t<li class=\"menu-item-0\"><a href=\"https://insights.blackcoffer.com/category/our-solutions/research-academia-our-solutions/\">Research &amp; Academia</a></li>\\n\\t<li class=\"menu-item-0\"><a href=\"https://insights.blackcoffer.com/category/our-solutions/retail-supply-chain-our-solutions/\">Retail &amp; Supply Chain</a></li>\\n</ul>\\n</li>\\n<li id=\"menu-item-4060\" class=\"menu-item menu-item-type-taxonomy menu-item-object-category current-post-ancestor current-menu-parent current-post-parent menu-item-has-children menu-item-4060\"><a href=\"https://insights.blackcoffer.com/category/what-we-think/\">What We Think<i class=\"td-icon-menu-right td-element-after\"></i></a>\\n<ul class=\"sub-menu\">\\n\\t<li class=\"menu-item-0\"><a href=\"https://insights.blackcoffer.com/category/what-we-think/automobiles-components/\">Automobiles &amp; Components</a></li>\\n\\t<li class=\"menu-item-0\"><a href=\"https://insights.blackcoffer.com/category/what-we-think/financials/\">BFSI</a></li>\\n\\t<li class=\"menu-item-0\"><a href=\"https://insights.blackcoffer.com/category/what-we-think/financials/asset-and-portfolio/\">Asset and Portfolio</a></li>\\n\\t<li class=\"menu-item-0\"><a href=\"https://insights.blackcoffer.com/category/what-we-think/financials/banks/\">Banks</a></li>\\n\\t<li class=\"menu-item-0\"><a href=\"https://insights.blackcoffer.com/category/what-we-think/financials/capital-markets/\">Capital Markets</a></li>\\n\\t<li class=\"menu-item-0\"><a href=\"https://insights.blackcoffer.com/category/what-we-think/financials/derivatives-and-securities/\">Derivatives and Securities</a></li>\\n\\t<li class=\"menu-item-0\"><a href=\"https://insights.blackcoffer.com/category/what-we-think/financials/diversified-financials/\">Diversified Financials</a></li>\\n\\t<li class=\"menu-item-0\"><a href=\"https://insights.blackcoffer.com/category/what-we-think/financials/finance-and-accounting/\">Finance &amp; Accounting</a></li>\\n\\t<li class=\"menu-item-0\"><a href=\"https://insights.blackcoffer.com/category/what-we-think/financials/insurance/\">Insurance</a></li>\\n\\t<li class=\"menu-item-0\"><a href=\"https://insights.blackcoffer.com/category/what-we-think/financials/securities-and-capital-markets/\">Securities and Capital Markets</a></li>\\n\\t<li class=\"menu-item-0\"><a href=\"https://insights.blackcoffer.com/category/what-we-think/capital-goods/\">Capital Goods</a></li>\\n\\t<li class=\"menu-item-0\"><a href=\"https://insights.blackcoffer.com/category/what-we-think/commercial-professional-services/\">Commercial &amp; Professional Services</a></li>\\n\\t<li class=\"menu-item-0\"><a href=\"https://insights.blackcoffer.com/category/what-we-think/consumer-discretionary/\">Consumer Discretionary</a></li>\\n\\t<li class=\"menu-item-0\"><a href=\"https://insights.blackcoffer.com/category/what-we-think/consumer-durables-apparel/\">Consumer Durables &amp; Apparel</a></li>\\n\\t<li class=\"menu-item-0\"><a href=\"https://insights.blackcoffer.com/category/what-we-think/consumer-services/\">Consumer Services</a></li>\\n\\t<li class=\"menu-item-0\"><a href=\"https://insights.blackcoffer.com/category/what-we-think/consumer-staples/\">Consumer Staples</a></li>\\n\\t<li class=\"menu-item-0\"><a href=\"https://insights.blackcoffer.com/category/what-we-think/consumer-staples/food-staples-retailing/\">Food &amp; Staples Retailing</a></li>\\n\\t<li class=\"menu-item-0\"><a href=\"https://insights.blackcoffer.com/category/what-we-think/consumer-staples/food-beverage-tobacco/\">Food, Beverage &amp; Tobacco</a></li>\\n\\t<li class=\"menu-item-0\"><a href=\"https://insights.blackcoffer.com/category/what-we-think/consumer-staples/household-personal-products/\">Household &amp; Personal Products</a></li>\\n\\t<li class=\"menu-item-0\"><a href=\"https://insights.blackcoffer.com/category/what-we-think/data-science/\">Data Science</a></li>\\n\\t<li class=\"menu-item-0\"><a href=\"https://insights.blackcoffer.com/category/what-we-think/data-science/analytics/\">Analytics</a></li>\\n\\t<li class=\"menu-item-0\"><a href=\"https://insights.blackcoffer.com/category/what-we-think/data-science/artificial-intelligence/\">Artificial Intelligence</a></li>\\n\\t<li class=\"menu-item-0\"><a href=\"https://insights.blackcoffer.com/category/what-we-think/data-science/big-data/\">Big Data</a></li>\\n\\t<li class=\"menu-item-0\"><a href=\"https://insights.blackcoffer.com/category/what-we-think/data-science/business-analytics/\">Business Analytics</a></li>\\n\\t<li class=\"menu-item-0\"><a href=\"https://insights.blackcoffer.com/category/what-we-think/data-science/data-visualization/\">Data Visualization</a></li>\\n\\t<li class=\"menu-item-0\"><a href=\"https://insights.blackcoffer.com/category/what-we-think/data-science/internet-of-things/\">Internet of Things</a></li>\\n\\t<li class=\"menu-item-0\"><a href=\"https://insights.blackcoffer.com/category/what-we-think/data-science/machine-learning/\">Machine Learning</a></li>\\n\\t<li class=\"menu-item-0\"><a href=\"https://insights.blackcoffer.com/category/what-we-think/data-science/statistics/\">Statistics</a></li>\\n\\t<li class=\"menu-item-0\"><a href=\"https://insights.blackcoffer.com/category/what-we-think/energy/\">Energy</a></li>\\n\\t<li class=\"menu-item-0\"><a href=\"https://insights.blackcoffer.com/category/what-we-think/energy/dataoil/\">DataOil</a></li>\\n</ul>\\n</li>\\n<li id=\"menu-item-4061\" class=\"menu-item menu-item-type-taxonomy menu-item-object-category menu-item-has-children menu-item-4061\"><a href=\"https://insights.blackcoffer.com/category/how-to/\">How To<i class=\"td-icon-menu-right td-element-after\"></i></a>\\n<ul class=\"sub-menu\">\\n\\t<li class=\"menu-item-0\"><a href=\"https://insights.blackcoffer.com/category/how-to/analytics-how-to/\">Analytics</a></li>\\n\\t<li class=\"menu-item-0\"><a href=\"https://insights.blackcoffer.com/category/how-to/application-development-how-to/\">Application Development</a></li>\\n\\t<li class=\"menu-item-0\"><a href=\"https://insights.blackcoffer.com/category/how-to/artificial-intelligence-how-to/\">Artificial Intelligence</a></li>\\n\\t<li class=\"menu-item-0\"><a href=\"https://insights.blackcoffer.com/category/how-to/business-analytics-how-to/\">Business Analytics</a></li>\\n\\t<li class=\"menu-item-0\"><a href=\"https://insights.blackcoffer.com/category/how-to/example/\">Example</a></li>\\n\\t<li class=\"menu-item-0\"><a href=\"https://insights.blackcoffer.com/category/how-to/optimization/\">Optimization</a></li>\\n\\t<li class=\"menu-item-0\"><a href=\"https://insights.blackcoffer.com/category/how-to/projects/\">Projects</a></li>\\n\\t<li class=\"menu-item-0\"><a href=\"https://insights.blackcoffer.com/category/how-to/software-development/\">Software Development</a></li>\\n\\t<li class=\"menu-item-0\"><a href=\"https://insights.blackcoffer.com/category/how-to/source-code-audit/\">Source Code Audit</a></li>\\n\\t<li class=\"menu-item-0\"><a href=\"https://insights.blackcoffer.com/category/how-to/statistics-how-to/\">Statistics</a></li>\\n\\t<li class=\"menu-item-0\"><a href=\"https://insights.blackcoffer.com/category/how-to/web-mobile-app-development/\">Web &amp; Mobile App Development</a></li>\\n</ul>\\n</li>\\n<li id=\"menu-item-4062\" class=\"menu-item menu-item-type-custom menu-item-object-custom menu-item-4062\"><a target=\"_blank\" href=\"https://blackcoffer.com/get-blackcoffer-demo/\">Schedule Demo</a></li>\\n<li id=\"menu-item-4063\" class=\"menu-item menu-item-type-post_type menu-item-object-page menu-item-4063\"><a href=\"https://insights.blackcoffer.com/contact/\">Contact</a></li>\\n</ul></div>        </div>\\r\\n    </div>\\r\\n\\r\\n    <!-- register/login section -->\\r\\n            <div id=\"login-form-mobile\" class=\"td-register-section\">\\r\\n            \\r\\n            <div id=\"td-login-mob\" class=\"td-login-animation td-login-hide-mob\">\\r\\n            \\t<!-- close button -->\\r\\n\\t            <div class=\"td-login-close\">\\r\\n\\t                <span class=\"td-back-button\"><i class=\"td-icon-read-down\"></i></span>\\r\\n\\t                <div class=\"td-login-title\">Sign in</div>\\r\\n\\t                <!-- close button -->\\r\\n\\t\\t            <div class=\"td-mobile-close\">\\r\\n\\t\\t                <span><i class=\"td-icon-close-mobile\"></i></span>\\r\\n\\t\\t            </div>\\r\\n\\t            </div>\\r\\n\\t            <form class=\"td-login-form-wrap\" action=\"#\" method=\"post\">\\r\\n\\t                <div class=\"td-login-panel-title\"><span>Welcome!</span>Log into your account</div>\\r\\n\\t                <div class=\"td_display_err\"></div>\\r\\n\\t                <div class=\"td-login-inputs\"><input class=\"td-login-input\" autocomplete=\"username\" type=\"text\" name=\"login_email\" id=\"login_email-mob\" value=\"\" required><label for=\"login_email-mob\">your username</label></div>\\r\\n\\t                <div class=\"td-login-inputs\"><input class=\"td-login-input\" autocomplete=\"current-password\" type=\"password\" name=\"login_pass\" id=\"login_pass-mob\" value=\"\" required><label for=\"login_pass-mob\">your password</label></div>\\r\\n\\t                <input type=\"button\" name=\"login_button\" id=\"login_button-mob\" class=\"td-login-button\" value=\"LOG IN\">\\r\\n\\t                \\r\\n\\t\\t\\t\\t\\t\\r\\n\\t                <div class=\"td-login-info-text\">\\r\\n\\t                <a href=\"#\" id=\"forgot-pass-link-mob\">Forgot your password?</a>\\r\\n\\t                </div>\\r\\n\\t                <div class=\"td-login-register-link\">\\r\\n\\t                \\r\\n\\t                </div>\\r\\n\\t                \\r\\n\\t                \\r\\n\\r\\n                </form>\\r\\n            </div>\\r\\n\\r\\n            \\r\\n            \\r\\n            \\r\\n            \\r\\n            <div id=\"td-forgot-pass-mob\" class=\"td-login-animation td-login-hide-mob\">\\r\\n                <!-- close button -->\\r\\n\\t            <div class=\"td-forgot-pass-close\">\\r\\n\\t                <a href=\"#\" aria-label=\"Back\" class=\"td-back-button\"><i class=\"td-icon-read-down\"></i></a>\\r\\n\\t                <div class=\"td-login-title\">Password recovery</div>\\r\\n\\t            </div>\\r\\n\\t            <div class=\"td-login-form-wrap\">\\r\\n\\t                <div class=\"td-login-panel-title\">Recover your password</div>\\r\\n\\t                <div class=\"td_display_err\"></div>\\r\\n\\t                <div class=\"td-login-inputs\"><input class=\"td-login-input\" type=\"text\" name=\"forgot_email\" id=\"forgot_email-mob\" value=\"\" required><label for=\"forgot_email-mob\">your email</label></div>\\r\\n\\t                <input type=\"button\" name=\"forgot_button\" id=\"forgot_button-mob\" class=\"td-login-button\" value=\"Send My Pass\">\\r\\n                </div>\\r\\n            </div>\\r\\n        </div>\\r\\n    </div>    <div class=\"td-search-background\" style=\"visibility:hidden\"></div>\\r\\n<div class=\"td-search-wrap-mob\" style=\"visibility:hidden\">\\r\\n\\t<div class=\"td-drop-down-search\">\\r\\n\\t\\t<form method=\"get\" class=\"td-search-form\" action=\"https://insights.blackcoffer.com/\">\\r\\n\\t\\t\\t<!-- close button -->\\r\\n\\t\\t\\t<div class=\"td-search-close\">\\r\\n\\t\\t\\t\\t<span><i class=\"td-icon-close-mobile\"></i></span>\\r\\n\\t\\t\\t</div>\\r\\n\\t\\t\\t<div role=\"search\" class=\"td-search-input\">\\r\\n\\t\\t\\t\\t<span>Search</span>\\r\\n\\t\\t\\t\\t<input id=\"td-header-search-mob\" type=\"text\" value=\"\" name=\"s\" autocomplete=\"off\" />\\r\\n\\t\\t\\t</div>\\r\\n\\t\\t</form>\\r\\n\\t\\t<div id=\"td-aj-search-mob\" class=\"td-ajax-search-flex\"></div>\\r\\n\\t</div>\\r\\n</div>\\r\\n\\r\\n    <div id=\"td-outer-wrap\" class=\"td-theme-wrap\">\\r\\n    \\r\\n                    <div class=\"td-header-template-wrap\" style=\"position: relative\">\\r\\n                                    <div class=\"td-header-mobile-wrap \">\\r\\n                        <div id=\"tdi_1\" class=\"tdc-zone\"><div class=\"tdc_zone tdi_2  wpb_row td-pb-row tdc-element-style\"  >\\n<style scoped>\\n\\n/* custom css */\\n.tdi_2{\\r\\n                    min-height: 0;\\r\\n                }\\n\\n/* phone */\\n@media (max-width: 767px){\\n.tdi_2:before{\\r\\n                    content: \\'\\';\\r\\n                    display: block;\\r\\n                    width: 100vw;\\r\\n                    height: 100%;\\r\\n                    position: absolute;\\r\\n                    left: 50%;\\r\\n                    transform: translateX(-50%);\\r\\n                    box-shadow:  0px 6px 8px 0px rgba(0, 0, 0, 0.08);\\r\\n                    z-index: 20;\\r\\n                    pointer-events: none;\\r\\n                }@media (max-width: 767px) {\\r\\n                    .tdi_2:before {\\r\\n                        width: 100%;\\r\\n                    }\\r\\n                }\\n}\\n/* inline tdc_css att */\\n\\n/* phone */\\n@media (max-width: 767px)\\n{\\n.tdi_2{\\nposition:relative;\\n}\\n}\\n\\n</style>\\n<div class=\"tdi_1_rand_style td-element-style\" ><style>\\n/* phone */\\n@media (max-width: 767px)\\n{\\n.tdi_1_rand_style{\\nbackground-color:#222222 !important;\\n}\\n}\\n </style></div><div id=\"tdi_3\" class=\"tdc-row\"><div class=\"vc_row tdi_4  wpb_row td-pb-row\" >\\n<style scoped>\\n\\n/* custom css */\\n.tdi_4,\\r\\n                .tdi_4 .tdc-columns{\\r\\n                    min-height: 0;\\r\\n                }.tdi_4,\\r\\n\\t\\t\\t\\t.tdi_4 .tdc-columns{\\r\\n\\t\\t\\t\\t    display: block;\\r\\n\\t\\t\\t\\t}.tdi_4 .tdc-columns{\\r\\n\\t\\t\\t\\t    width: 100%;\\r\\n\\t\\t\\t\\t}\\n\\n/* phone */\\n@media (max-width: 767px){\\n@media (min-width: 768px) {\\r\\n\\t                .tdi_4 {\\r\\n\\t                    margin-left: -0px;\\r\\n\\t                    margin-right: -0px;\\r\\n\\t                }\\r\\n\\t                .tdi_4 .tdc-row-video-background-error,\\r\\n\\t                .tdi_4 .vc_column {\\r\\n\\t                    padding-left: 0px;\\r\\n\\t                    padding-right: 0px;\\r\\n\\t                }\\r\\n                }\\n}\\n</style><div class=\"vc_column tdi_6  wpb_column vc_column_container tdc-column td-pb-span4\">\\n<style scoped>\\n\\n/* custom css */\\n.tdi_6{\\r\\n                    vertical-align: baseline;\\r\\n                }.tdi_6 > .wpb_wrapper,\\r\\n\\t\\t\\t\\t.tdi_6 > .wpb_wrapper > .tdc-elements{\\r\\n\\t\\t\\t\\t    display: block;\\r\\n\\t\\t\\t\\t}.tdi_6 > .wpb_wrapper > .tdc-elements{\\r\\n\\t\\t\\t\\t    width: 100%;\\r\\n\\t\\t\\t\\t}.tdi_6 > .wpb_wrapper > .vc_row_inner{\\r\\n\\t\\t\\t\\t    width: auto;\\r\\n\\t\\t\\t\\t}.tdi_6 > .wpb_wrapper{\\r\\n\\t\\t\\t\\t    width: auto;\\r\\n\\t\\t\\t\\t    height: auto;\\r\\n\\t\\t\\t\\t}\\n\\n/* phone */\\n@media (max-width: 767px){\\n.tdi_6{\\r\\n                    vertical-align: middle;\\r\\n                }\\n}\\n/* inline tdc_css att */\\n\\n/* phone */\\n@media (max-width: 767px)\\n{\\n.tdi_6{\\nwidth:20% !important;\\ndisplay:inline-block !important;\\n}\\n}\\n\\n</style><div class=\"wpb_wrapper\" ><div class=\"td_block_wrap tdb_mobile_menu tdi_7 td-pb-border-top td_block_template_1 tdb-header-align\"  data-td-block-uid=\"tdi_7\" >\\n<style>\\n\\n/* inline tdc_css att */\\n\\n/* phone */\\n@media (max-width: 767px)\\n{\\n.tdi_7{\\nmargin-top:2px !important;\\nmargin-left:-13px !important;\\n}\\n}\\n\\n</style>\\n<style>\\n/* custom css */\\n.tdb-header-align{\\r\\n                  vertical-align: middle;\\r\\n                }.tdb_mobile_menu{\\r\\n                  margin-bottom: 0;\\r\\n                  clear: none;\\r\\n                }.tdb_mobile_menu a{\\r\\n                  display: inline-block !important;\\r\\n                  position: relative;\\r\\n                  text-align: center;\\r\\n                  color: #4db2ec;\\r\\n                }.tdb_mobile_menu a > span{\\r\\n                  display: flex;\\r\\n                  align-items: center;\\r\\n                  justify-content: center;\\r\\n                }.tdb_mobile_menu svg{\\r\\n                  height: auto;\\r\\n                }.tdb_mobile_menu svg,\\r\\n                .tdb_mobile_menu svg *{\\r\\n                  fill: #4db2ec;\\r\\n                }#tdc-live-iframe .tdb_mobile_menu a{\\r\\n                  pointer-events: none;\\r\\n                }.td-menu-mob-open-menu{\\r\\n                  overflow: hidden;\\r\\n                }.td-menu-mob-open-menu #td-outer-wrap{\\r\\n                  position: static;\\r\\n                }.tdi_7{\\r\\n                    display: inline-block;\\r\\n                }.tdi_7 .tdb-mobile-menu-button i{\\r\\n                    font-size: 22px;\\r\\n                \\r\\n                    width: 55px;\\r\\n\\t\\t\\t\\t\\theight: 55px;\\r\\n\\t\\t\\t\\t\\tline-height:  55px;\\r\\n                }.tdi_7 .tdb-mobile-menu-button svg{\\r\\n                    width: 22px;\\r\\n                }.tdi_7 .tdb-mobile-menu-button .tdb-mobile-menu-icon-svg{\\r\\n                    width: 55px;\\r\\n\\t\\t\\t\\t\\theight: 55px;\\r\\n                }.tdi_7 .tdb-mobile-menu-button{\\r\\n                    color: #ffffff;\\r\\n                }.tdi_7 .tdb-mobile-menu-button svg,\\r\\n                .tdi_7 .tdb-mobile-menu-button svg *{\\r\\n                    fill: #ffffff;\\r\\n                }\\n\\n/* phone */\\n@media (max-width: 767px){\\n.tdi_7 .tdb-mobile-menu-button i{\\r\\n                    font-size: 27px;\\r\\n                \\r\\n                    width: 54px;\\r\\n\\t\\t\\t\\t\\theight: 54px;\\r\\n\\t\\t\\t\\t\\tline-height:  54px;\\r\\n                }.tdi_7 .tdb-mobile-menu-button svg{\\r\\n                    width: 27px;\\r\\n                }.tdi_7 .tdb-mobile-menu-button .tdb-mobile-menu-icon-svg{\\r\\n                    width: 54px;\\r\\n\\t\\t\\t\\t\\theight: 54px;\\r\\n                }\\n}\\n</style><div class=\"tdb-block-inner td-fix-index\"><span class=\"tdb-mobile-menu-button\"><i class=\"tdb-mobile-menu-icon td-icon-mobile\"></i></span></div></div> <!-- ./block --></div></div><div class=\"vc_column tdi_9  wpb_column vc_column_container tdc-column td-pb-span4\">\\n<style scoped>\\n\\n/* custom css */\\n.tdi_9{\\r\\n                    vertical-align: baseline;\\r\\n                }.tdi_9 > .wpb_wrapper,\\r\\n\\t\\t\\t\\t.tdi_9 > .wpb_wrapper > .tdc-elements{\\r\\n\\t\\t\\t\\t    display: block;\\r\\n\\t\\t\\t\\t}.tdi_9 > .wpb_wrapper > .tdc-elements{\\r\\n\\t\\t\\t\\t    width: 100%;\\r\\n\\t\\t\\t\\t}.tdi_9 > .wpb_wrapper > .vc_row_inner{\\r\\n\\t\\t\\t\\t    width: auto;\\r\\n\\t\\t\\t\\t}.tdi_9 > .wpb_wrapper{\\r\\n\\t\\t\\t\\t    width: auto;\\r\\n\\t\\t\\t\\t    height: auto;\\r\\n\\t\\t\\t\\t}\\n\\n/* phone */\\n@media (max-width: 767px){\\n.tdi_9{\\r\\n                    vertical-align: middle;\\r\\n                }\\n}\\n/* inline tdc_css att */\\n\\n/* phone */\\n@media (max-width: 767px)\\n{\\n.tdi_9{\\nwidth:60% !important;\\ndisplay:inline-block !important;\\n}\\n}\\n\\n</style><div class=\"wpb_wrapper\" ><div class=\"td_block_wrap tdb_header_logo tdi_10 td-pb-border-top td_block_template_1 tdb-header-align\"  data-td-block-uid=\"tdi_10\" >\\n<style>\\n\\n/* inline tdc_css att */\\n\\n/* phone */\\n@media (max-width: 767px)\\n{\\n.tdi_10{\\nmargin-top:-8px !important;\\n}\\n}\\n\\n</style>\\n<style>\\n/* custom css */\\n.tdb_header_logo{\\r\\n                  margin-bottom: 0;\\r\\n                  clear: none;\\r\\n                }.tdb_header_logo .tdb-logo-a,\\r\\n                .tdb_header_logo h1{\\r\\n                  display: flex;\\r\\n                  pointer-events: auto;\\r\\n                  align-items: flex-start;\\r\\n                }.tdb_header_logo h1{\\r\\n                  margin: 0;\\r\\n                  line-height: 0;\\r\\n                }.tdb_header_logo .tdb-logo-img-wrap img{\\r\\n                  display: block;\\r\\n                }.tdb_header_logo .tdb-logo-svg-wrap + .tdb-logo-img-wrap{\\r\\n                  display: none;\\r\\n                }.tdb_header_logo .tdb-logo-svg-wrap svg{\\r\\n                  width: 50px;\\r\\n                  display: block;\\r\\n                  transition: fill .3s ease;\\r\\n                }.tdb_header_logo .tdb-logo-text-wrap{\\r\\n                  display: flex;\\r\\n                }.tdb_header_logo .tdb-logo-text-title,\\r\\n                .tdb_header_logo .tdb-logo-text-tagline{\\r\\n                  -webkit-transition: all 0.2s ease;\\r\\n                  transition: all 0.2s ease;\\r\\n                }.tdb_header_logo .tdb-logo-text-title{\\r\\n                  background-size: cover;\\r\\n                  background-position: center center;\\r\\n                  font-size: 75px;\\r\\n                  font-family: serif;\\r\\n                  line-height: 1.1;\\r\\n                  color: #222;\\r\\n                  white-space: nowrap;\\r\\n                }.tdb_header_logo .tdb-logo-text-tagline{\\r\\n                  margin-top: 2px;\\r\\n                  font-size: 12px;\\r\\n                  font-family: serif;\\r\\n                  letter-spacing: 1.8px;\\r\\n                  line-height: 1;\\r\\n                  color: #767676;\\r\\n                }.tdb_header_logo .tdb-logo-icon{\\r\\n                  position: relative;\\r\\n                  font-size: 46px;\\r\\n                  color: #000;\\r\\n                }.tdb_header_logo .tdb-logo-icon-svg{\\r\\n                  line-height: 0;\\r\\n                }.tdb_header_logo .tdb-logo-icon-svg svg{\\r\\n                  width: 46px;\\r\\n                  height: auto;\\r\\n                }.tdb_header_logo .tdb-logo-icon-svg svg,\\r\\n                .tdb_header_logo .tdb-logo-icon-svg svg *{\\r\\n                  fill: #000;\\r\\n                }.tdi_10 .tdb-logo-a,\\r\\n                .tdi_10 h1{\\r\\n                    flex-direction: row;\\r\\n                \\r\\n                    align-items: center;\\r\\n                \\r\\n                    justify-content: center;\\r\\n                }.tdi_10 .tdb-logo-svg-wrap{\\r\\n                    display: block;\\r\\n                }.tdi_10 .tdb-logo-img-wrap{\\r\\n                    display: none;\\r\\n                }.tdi_10 .tdb-logo-text-tagline{\\r\\n                    margin-top: -3px;\\r\\n                    margin-left: 0;\\r\\n                \\r\\n                    display: block;\\r\\n                }.tdi_10 .tdb-logo-text-title{\\r\\n                    display: block;\\r\\n                \\r\\n                    color: #ffffff;\\r\\n                }.tdi_10 .tdb-logo-text-wrap{\\r\\n                    flex-direction: column;\\r\\n                \\r\\n                    align-items: center;\\r\\n                }.tdi_10 .tdb-logo-icon{\\r\\n                    top: 0px;\\r\\n                \\r\\n                    display: block;\\r\\n                }@media (max-width: 767px) {\\r\\n                  .tdb_header_logo .tdb-logo-text-title {\\r\\n                    font-size: 36px;\\r\\n                  }\\r\\n                }@media (max-width: 767px) {\\r\\n                  .tdb_header_logo .tdb-logo-text-tagline {\\r\\n                    font-size: 11px;\\r\\n                  }\\r\\n                }\\n\\n/* portrait */\\n@media (min-width: 768px) and (max-width: 1018px){\\n.tdi_10 .tdb-logo-img{\\r\\n                    max-width: 186px;\\r\\n                }.tdi_10 .tdb-logo-text-tagline{\\r\\n                    margin-top: -2px;\\r\\n                    margin-left: 0;\\r\\n                }\\n}\\n\\n/* phone */\\n@media (max-width: 767px){\\n.tdi_10 .tdb-logo-svg-wrap + .tdb-logo-img-wrap{\\r\\n                    display: none;\\r\\n                }.tdi_10 .tdb-logo-img{\\r\\n                    max-width: 180px;\\r\\n                }.tdi_10 .tdb-logo-img-wrap{\\r\\n                    display: block;\\r\\n                }\\n}\\n</style><div class=\"tdb-block-inner td-fix-index\"><a class=\"tdb-logo-a\" href=\"https://insights.blackcoffer.com/\"><span class=\"tdb-logo-img-wrap\"><img class=\"tdb-logo-img\" src=\"https://insights.blackcoffer.com/wp-content/uploads/2018/12/Insights-blackv02.png\" alt=\"Logo\"  title=\"\"  /></span></a></div></div> <!-- ./block --></div></div><div class=\"vc_column tdi_12  wpb_column vc_column_container tdc-column td-pb-span4\">\\n<style scoped>\\n\\n/* custom css */\\n.tdi_12{\\r\\n                    vertical-align: baseline;\\r\\n                }.tdi_12 > .wpb_wrapper,\\r\\n\\t\\t\\t\\t.tdi_12 > .wpb_wrapper > .tdc-elements{\\r\\n\\t\\t\\t\\t    display: block;\\r\\n\\t\\t\\t\\t}.tdi_12 > .wpb_wrapper > .tdc-elements{\\r\\n\\t\\t\\t\\t    width: 100%;\\r\\n\\t\\t\\t\\t}.tdi_12 > .wpb_wrapper > .vc_row_inner{\\r\\n\\t\\t\\t\\t    width: auto;\\r\\n\\t\\t\\t\\t}.tdi_12 > .wpb_wrapper{\\r\\n\\t\\t\\t\\t    width: auto;\\r\\n\\t\\t\\t\\t    height: auto;\\r\\n\\t\\t\\t\\t}\\n\\n/* phone */\\n@media (max-width: 767px){\\n.tdi_12{\\r\\n                    vertical-align: middle;\\r\\n                }\\n}\\n/* inline tdc_css att */\\n\\n/* phone */\\n@media (max-width: 767px)\\n{\\n.tdi_12{\\nwidth:20% !important;\\ndisplay:inline-block !important;\\n}\\n}\\n\\n</style><div class=\"wpb_wrapper\" ><div class=\"td_block_wrap tdb_mobile_search tdi_13 td-pb-border-top td_block_template_1 tdb-header-align\"  data-td-block-uid=\"tdi_13\" >\\n<style>\\n\\n/* inline tdc_css att */\\n\\n/* phone */\\n@media (max-width: 767px)\\n{\\n.tdi_13{\\nmargin-right:-18px !important;\\nmargin-bottom:0px !important;\\n}\\n}\\n\\n</style>\\n<style>\\n/* custom css */\\n.tdb_mobile_search{\\r\\n                  margin-bottom: 0;\\r\\n                  clear: none;\\r\\n                }.tdb_mobile_search a{\\r\\n                  display: inline-block !important;\\r\\n                  position: relative;\\r\\n                  text-align: center;\\r\\n                  color: #4db2ec;\\r\\n                }.tdb_mobile_search a > span{\\r\\n                  display: flex;\\r\\n                  align-items: center;\\r\\n                  justify-content: center;\\r\\n                }.tdb_mobile_search svg{\\r\\n                  height: auto;\\r\\n                }.tdb_mobile_search svg,\\r\\n                .tdb_mobile_search svg *{\\r\\n                  fill: #4db2ec;\\r\\n                }#tdc-live-iframe .tdb_mobile_search a{\\r\\n                  pointer-events: none;\\r\\n                }.td-search-opened{\\r\\n                  overflow: hidden;\\r\\n                }.td-search-opened #td-outer-wrap{\\r\\n                  position: static;\\r\\n                }.td-search-opened .td-search-wrap-mob{\\r\\n                  position: fixed;\\r\\n                }.tdi_13{\\r\\n                    display: inline-block;\\r\\n                \\r\\n                    float: right;\\r\\n                    clear: none;\\r\\n                }.tdi_13 .tdb-header-search-button-mob i{\\r\\n                    font-size: 22px;\\r\\n                \\r\\n                    width: 55px;\\r\\n\\t\\t\\t\\t\\theight: 55px;\\r\\n\\t\\t\\t\\t\\tline-height:  55px;\\r\\n                }.tdi_13 .tdb-header-search-button-mob svg{\\r\\n                    width: 22px;\\r\\n                }.tdi_13 .tdb-header-search-button-mob .tdb-mobile-search-icon-svg{\\r\\n                    width: 55px;\\r\\n\\t\\t\\t\\t\\theight: 55px;\\r\\n\\t\\t\\t\\t\\tdisplay: flex;\\r\\n                    justify-content: center;\\r\\n                }.tdi_13 .tdb-header-search-button-mob{\\r\\n                    color: #ffffff;\\r\\n                }.tdi_13 .tdb-header-search-button-mob svg,\\r\\n                .tdi_13 .tdb-header-search-button-mob svg *{\\r\\n                    fill: #ffffff;\\r\\n                }.td-search-wrap-mob .td-module-exclusive .td-module-title a:before{\\r\\n                    display: inline-block;\\r\\n                }\\n\\n/* landscape */\\n@media (min-width: 1019px) and (max-width: 1140px){\\n\\n}\\n\\n/* portrait */\\n@media (min-width: 768px) and (max-width: 1018px){\\n\\n}\\n\\n/* phone */\\n@media (max-width: 767px){\\n\\n}\\n</style><div class=\"tdb-block-inner td-fix-index\"><span class=\"tdb-header-search-button-mob dropdown-toggle\" data-toggle=\"dropdown\"><span class=\"tdb-mobile-search-icon tdb-mobile-search-icon-svg\" ><svg version=\"1.1\" xmlns=\"http://www.w3.org/2000/svg\" viewBox=\"0 0 1024 1024\"><path d=\"M946.371 843.601l-125.379-125.44c43.643-65.925 65.495-142.1 65.475-218.040 0.051-101.069-38.676-202.588-115.835-279.706-77.117-77.148-178.606-115.948-279.644-115.886-101.079-0.061-202.557 38.738-279.665 115.876-77.169 77.128-115.937 178.627-115.907 279.716-0.031 101.069 38.728 202.588 115.907 279.665 77.117 77.117 178.616 115.825 279.665 115.804 75.94 0.020 152.136-21.862 218.061-65.495l125.348 125.46c30.915 30.904 81.029 30.904 111.954 0.020 30.915-30.935 30.915-81.029 0.020-111.974zM705.772 714.925c-59.443 59.341-136.899 88.842-214.784 88.924-77.896-0.082-155.341-29.583-214.784-88.924-59.443-59.484-88.975-136.919-89.037-214.804 0.061-77.885 29.604-155.372 89.037-214.825 59.464-59.443 136.878-88.945 214.784-89.016 77.865 0.082 155.3 29.583 214.784 89.016 59.361 59.464 88.914 136.919 88.945 214.825-0.041 77.885-29.583 155.361-88.945 214.804z\"></path></svg></span></span></div></div> <!-- ./block --></div></div></div></div></div></div>                    </div>\\r\\n                                    <div class=\"td-header-mobile-sticky-wrap tdc-zone-sticky-invisible tdc-zone-sticky-inactive\" style=\"display: none\">\\r\\n                        <div id=\"tdi_14\" class=\"tdc-zone\"><div class=\"tdc_zone tdi_15  wpb_row td-pb-row\" data-sticky-offset=\"0\" >\\n<style scoped>\\n\\n/* custom css */\\n.tdi_15{\\r\\n                    min-height: 0;\\r\\n                }.td-header-mobile-sticky-wrap.td-header-active{\\r\\n                    opacity: 1;\\r\\n                }\\n</style><div id=\"tdi_16\" class=\"tdc-row\"><div class=\"vc_row tdi_17  wpb_row td-pb-row\" >\\n<style scoped>\\n\\n/* custom css */\\n.tdi_17,\\r\\n                .tdi_17 .tdc-columns{\\r\\n                    min-height: 0;\\r\\n                }.tdi_17,\\r\\n\\t\\t\\t\\t.tdi_17 .tdc-columns{\\r\\n\\t\\t\\t\\t    display: block;\\r\\n\\t\\t\\t\\t}.tdi_17 .tdc-columns{\\r\\n\\t\\t\\t\\t    width: 100%;\\r\\n\\t\\t\\t\\t}\\n</style><div class=\"vc_column tdi_19  wpb_column vc_column_container tdc-column td-pb-span12\">\\n<style scoped>\\n\\n/* custom css */\\n.tdi_19{\\r\\n                    vertical-align: baseline;\\r\\n                }.tdi_19 > .wpb_wrapper,\\r\\n\\t\\t\\t\\t.tdi_19 > .wpb_wrapper > .tdc-elements{\\r\\n\\t\\t\\t\\t    display: block;\\r\\n\\t\\t\\t\\t}.tdi_19 > .wpb_wrapper > .tdc-elements{\\r\\n\\t\\t\\t\\t    width: 100%;\\r\\n\\t\\t\\t\\t}.tdi_19 > .wpb_wrapper > .vc_row_inner{\\r\\n\\t\\t\\t\\t    width: auto;\\r\\n\\t\\t\\t\\t}.tdi_19 > .wpb_wrapper{\\r\\n\\t\\t\\t\\t    width: auto;\\r\\n\\t\\t\\t\\t    height: auto;\\r\\n\\t\\t\\t\\t}\\n</style><div class=\"wpb_wrapper\" ></div></div></div></div></div></div>                    </div>\\r\\n                \\r\\n                    <div class=\"td-header-desktop-wrap \">\\r\\n                        <!-- LOGIN MODAL -->\\r\\n\\r\\n                <div id=\"login-form\" class=\"white-popup-block mfp-hide mfp-with-anim td-login-modal-wrap\">\\r\\n                    <div class=\"td-login-wrap\">\\r\\n                        <a href=\"#\" aria-label=\"Back\" class=\"td-back-button\"><i class=\"td-icon-modal-back\"></i></a>\\r\\n                        <div id=\"td-login-div\" class=\"td-login-form-div td-display-block\">\\r\\n                            <div class=\"td-login-panel-title\">Sign in</div>\\r\\n                            <div class=\"td-login-panel-descr\">Welcome! Log into your account</div>\\r\\n                            <div class=\"td_display_err\"></div>\\r\\n                            <form id=\"loginForm\" action=\"#\" method=\"post\">\\r\\n                                <div class=\"td-login-inputs\"><input class=\"td-login-input\" autocomplete=\"username\" type=\"text\" name=\"login_email\" id=\"login_email\" value=\"\" required><label for=\"login_email\">your username</label></div>\\r\\n                                <div class=\"td-login-inputs\"><input class=\"td-login-input\" autocomplete=\"current-password\" type=\"password\" name=\"login_pass\" id=\"login_pass\" value=\"\" required><label for=\"login_pass\">your password</label></div>\\r\\n                                <input type=\"button\"  name=\"login_button\" id=\"login_button\" class=\"wpb_button btn td-login-button\" value=\"Login\">\\r\\n                                \\r\\n                            </form>\\r\\n\\r\\n                            \\r\\n\\r\\n                            <div class=\"td-login-info-text\"><a href=\"#\" id=\"forgot-pass-link\">Forgot your password? Get help</a></div>\\r\\n                            \\r\\n                            \\r\\n                            \\r\\n                            \\r\\n                        </div>\\r\\n\\r\\n                        \\r\\n\\r\\n                         <div id=\"td-forgot-pass-div\" class=\"td-login-form-div td-display-none\">\\r\\n                            <div class=\"td-login-panel-title\">Password recovery</div>\\r\\n                            <div class=\"td-login-panel-descr\">Recover your password</div>\\r\\n                            <div class=\"td_display_err\"></div>\\r\\n                            <form id=\"forgotpassForm\" action=\"#\" method=\"post\">\\r\\n                                <div class=\"td-login-inputs\"><input class=\"td-login-input\" type=\"text\" name=\"forgot_email\" id=\"forgot_email\" value=\"\" required><label for=\"forgot_email\">your email</label></div>\\r\\n                                <input type=\"button\" name=\"forgot_button\" id=\"forgot_button\" class=\"wpb_button btn td-login-button\" value=\"Send My Password\">\\r\\n                            </form>\\r\\n                            <div class=\"td-login-info-text\">A password will be e-mailed to you.</div>\\r\\n                        </div>\\r\\n                        \\r\\n                        \\r\\n                    </div>\\r\\n                </div>\\r\\n                <div id=\"tdi_20\" class=\"tdc-zone\"><div class=\"tdc_zone tdi_21  wpb_row td-pb-row tdc-element-style\"  >\\n<style scoped>\\n\\n/* custom css */\\n.tdi_21{\\r\\n                    min-height: 0;\\r\\n                }.tdi_21:before{\\r\\n                    content: \\'\\';\\r\\n                    display: block;\\r\\n                    width: 100vw;\\r\\n                    height: 100%;\\r\\n                    position: absolute;\\r\\n                    left: 50%;\\r\\n                    transform: translateX(-50%);\\r\\n                    box-shadow:  0px 6px 8px 0px rgba(0, 0, 0, 0.08);\\r\\n                    z-index: 20;\\r\\n                    pointer-events: none;\\r\\n                }.td-header-desktop-wrap{\\r\\n                    position: relative;\\r\\n                }@media (max-width: 767px) {\\r\\n                    .tdi_21:before {\\r\\n                        width: 100%;\\r\\n                    }\\r\\n                }\\n/* inline tdc_css att */\\n\\n.tdi_21{\\nposition:relative;\\n}\\n\\n</style>\\n<div class=\"tdi_20_rand_style td-element-style\" ><style>\\n.tdi_20_rand_style{\\nbackground-color:#ffffff !important;\\n}\\n </style></div><div id=\"tdi_22\" class=\"tdc-row stretch_row\"><div class=\"vc_row tdi_23  wpb_row td-pb-row tdc-element-style\" >\\n<style scoped>\\n\\n/* custom css */\\n.tdi_23,\\r\\n                .tdi_23 .tdc-columns{\\r\\n                    min-height: 0;\\r\\n                }.tdi_23,\\r\\n\\t\\t\\t\\t.tdi_23 .tdc-columns{\\r\\n\\t\\t\\t\\t    display: block;\\r\\n\\t\\t\\t\\t}.tdi_23 .tdc-columns{\\r\\n\\t\\t\\t\\t    width: 100%;\\r\\n\\t\\t\\t\\t}@media (min-width: 768px) {\\r\\n\\t                .tdi_23 {\\r\\n\\t                    margin-left: -0px;\\r\\n\\t                    margin-right: -0px;\\r\\n\\t                }\\r\\n\\t                .tdi_23 .tdc-row-video-background-error,\\r\\n\\t                .tdi_23 .vc_column {\\r\\n\\t                    padding-left: 0px;\\r\\n\\t                    padding-right: 0px;\\r\\n\\t                }\\r\\n                }\\n/* inline tdc_css att */\\n\\n.tdi_23{\\nz-index:5 !important;\\nposition:relative;\\n}\\n\\n.tdi_23 .td_block_wrap{ text-align:left }\\n\\n</style>\\n<div class=\"tdi_22_rand_style td-element-style\" ><style>\\n.tdi_22_rand_style{\\nbackground-color:#222222 !important;\\n}\\n </style></div><div class=\"vc_column tdi_25  wpb_column vc_column_container tdc-column td-pb-span12\">\\n<style scoped>\\n\\n/* custom css */\\n.tdi_25{\\r\\n                    vertical-align: baseline;\\r\\n                }.tdi_25 > .wpb_wrapper,\\r\\n\\t\\t\\t\\t.tdi_25 > .wpb_wrapper > .tdc-elements{\\r\\n\\t\\t\\t\\t    display: block;\\r\\n\\t\\t\\t\\t}.tdi_25 > .wpb_wrapper > .tdc-elements{\\r\\n\\t\\t\\t\\t    width: 100%;\\r\\n\\t\\t\\t\\t}.tdi_25 > .wpb_wrapper > .vc_row_inner{\\r\\n\\t\\t\\t\\t    width: auto;\\r\\n\\t\\t\\t\\t}.tdi_25 > .wpb_wrapper{\\r\\n\\t\\t\\t\\t    width: auto;\\r\\n\\t\\t\\t\\t    height: auto;\\r\\n\\t\\t\\t\\t}\\n</style><div class=\"wpb_wrapper\" ><div class=\"td_block_wrap tdb_header_date tdi_27 td-pb-border-top td_block_template_1 tdb-header-align\"  data-td-block-uid=\"tdi_27\" >\\n<style>\\n\\n/* inline tdc_css att */\\n\\n.tdi_27{\\nmargin-right:32px !important;\\n}\\n\\n/* landscape */\\n@media (min-width: 1019px) and (max-width: 1140px)\\n{\\n.tdi_27{\\nmargin-right:20px !important;\\n}\\n}\\n\\n/* portrait */\\n@media (min-width: 768px) and (max-width: 1018px)\\n{\\n.tdi_27{\\nmargin-right:20px !important;\\n}\\n}\\n\\n</style>\\n<style>\\n/* custom css */\\n.tdb_header_date{\\r\\n                  margin-bottom: 0;\\r\\n                  clear: none;\\r\\n                }.tdb_header_date .tdb-block-inner{\\r\\n                  display: flex;\\r\\n                  align-items: baseline;\\r\\n                }.tdb_header_date .tdb-head-date-txt{\\r\\n                  font-family: \\'Open Sans\\', \\'Open Sans Regular\\', sans-serif;\\r\\n                  font-size: 11px;\\r\\n                  line-height: 1;\\r\\n                  color: #000;\\r\\n                }.tdi_27{\\r\\n                    display: inline-block;\\r\\n                }.tdi_27 .tdb-head-date-txt{\\r\\n                    color: #ffffff;\\r\\n                \\r\\n                    line-height:28px !important;\\r\\n                }\\n</style><div class=\"tdb-block-inner td-fix-index\"><div class=\"tdb-head-date-txt\">Tuesday, August 8, 2023</div></div></div> <!-- ./block -->\\n\\n<script>\\n\\nvar tdb_login_sing_in_shortcode=\"on\";\\n\\n</script>\\n\\n<div class=\"td_block_wrap tdb_header_user tdi_28 td-pb-border-top td_block_template_1 tdb-header-align\"  data-td-block-uid=\"tdi_28\" >\\n<style>\\n\\n/* inline tdc_css att */\\n\\n.tdi_28{\\nmargin-right:14px !important;\\n}\\n\\n</style>\\n<style>\\n/* custom css */\\n.tdb_header_user{\\r\\n                  margin-bottom: 0;\\r\\n                  clear: none;\\r\\n                }.tdb_header_user .tdb-block-inner{\\r\\n                  display: flex;\\r\\n                  align-items: center;\\r\\n                }.tdb_header_user .tdb-head-usr-item{\\r\\n                  font-family: \\'Open Sans\\', \\'Open Sans Regular\\', sans-serif;\\r\\n                  font-size: 11px;\\r\\n                  line-height: 1;\\r\\n                  color: #000;\\r\\n                }.tdb_header_user .tdb-head-usr-item:hover{\\r\\n                  color: #4db2ec;\\r\\n                }.tdb_header_user .tdb-head-usr-avatar{\\r\\n                  position: relative;\\r\\n                  width: 20px;\\r\\n                  height: 0;\\r\\n                  padding-bottom: 20px;\\r\\n                  margin-right: 6px;\\r\\n                  background-size: cover;\\r\\n                  background-position: center center;\\r\\n                }.tdb_header_user .tdb-head-usr-name{\\r\\n                  margin-right: 16px;\\r\\n                  font-weight: 700;\\r\\n                }.tdb_header_user .tdb-head-usr-log{\\r\\n                  display: flex;\\r\\n                  align-items: center;\\r\\n                }.tdb_header_user .tdb-head-usr-log i{\\r\\n                  font-size: 10px;\\r\\n                }.tdb_header_user .tdb-head-usr-log-icon{\\r\\n                  position: relative;\\r\\n                }.tdb_header_user .tdb-head-usr-log-icon-svg{\\r\\n                  line-height: 0;\\r\\n                }.tdb_header_user .tdb-head-usr-log-icon-svg svg{\\r\\n                  width: 10px;\\r\\n                  height: auto;\\r\\n                }.tdi_28{\\r\\n                    display: inline-block;\\r\\n                }.tdi_28 .tdb-head-usr-avatar{\\r\\n                    width: 19px;\\r\\n                    padding-bottom: 19px;\\r\\n                }.tdi_28 .tdb-head-usr-log .tdb-head-usr-log-icon{\\r\\n                    margin-right: 2px;\\r\\n                \\r\\n                    top: 0px;\\r\\n                }.tdi_28 .tdb-head-usr-name{\\r\\n                    color: #ffffff;\\r\\n                \\r\\n                    line-height:28px !important;\\r\\n                }.tdi_28 .tdb-head-usr-log{\\r\\n                    color: #ffffff;\\r\\n                \\r\\n                    line-height:28px !important;\\r\\n                }.tdi_28 .tdb-head-usr-log-icon-svg svg,\\r\\n                .tdi_28 .tdb-head-usr-log-icon-svg svg *{\\r\\n                    fill: #ffffff;\\r\\n                \\r\\n                    fill: #ffffff;\\r\\n                }.tdi_28 .tdb-head-usr-log i{\\r\\n                    color: #ffffff;\\r\\n                }\\n</style><div class=\"tdb-block-inner td-fix-index\"><a class=\"td-login-modal-js tdb-head-usr-item tdb-head-usr-log\" href=\"#login-form\" data-effect=\"mpf-td-login-effect\"><span class=\"tdb-head-usr-log-txt\">Sign in / Join</span></a></div></div> <!-- ./block --><div class=\"td_block_wrap tdb_mobile_horiz_menu tdi_29 td-pb-border-top td_block_template_1 tdb-header-align\"  data-td-block-uid=\"tdi_29\"  style=\" z-index: 999;\">\\n<style>\\n\\n/* inline tdc_css att */\\n\\n.tdi_29{\\nmargin-bottom:0px !important;\\n}\\n\\n/* portrait */\\n@media (min-width: 768px) and (max-width: 1018px)\\n{\\n.tdi_29{\\ndisplay:none !important;\\n}\\n}\\n\\n</style>\\n<style>\\n/* custom css */\\n.tdb_mobile_horiz_menu{\\r\\n                  margin-bottom: 0;\\r\\n                  clear: none;\\r\\n                }.tdb_mobile_horiz_menu.tdb-horiz-menu-singleline{\\r\\n                  width: 100%;\\r\\n                }.tdb_mobile_horiz_menu.tdb-horiz-menu-singleline .tdb-horiz-menu{\\r\\n                  display: block;\\r\\n                  width: 100%;\\r\\n                  overflow-x: auto;\\r\\n                  overflow-y: hidden;\\r\\n                  font-size: 0;\\r\\n                  white-space: nowrap;\\r\\n                }.tdb_mobile_horiz_menu.tdb-horiz-menu-singleline .tdb-horiz-menu > li{\\r\\n                  position: static;\\r\\n                  display: inline-block;\\r\\n                  float: none;\\r\\n                }.tdb_mobile_horiz_menu.tdb-horiz-menu-singleline .tdb-horiz-menu ul{\\r\\n                  left: 0;\\r\\n                  width: 100%;\\r\\n                  z-index: -1;\\r\\n                }.tdb-horiz-menu{\\r\\n                  display: table;\\r\\n                  margin: 0;\\r\\n                }.tdb-horiz-menu,\\r\\n                .tdb-horiz-menu ul{\\r\\n                  list-style-type: none;\\r\\n                }.tdb-horiz-menu ul,\\r\\n                .tdb-horiz-menu li{\\r\\n                  line-height: 1;\\r\\n                }.tdb-horiz-menu li{\\r\\n                  margin: 0;\\r\\n                  font-family: \\'Open Sans\\', \\'Open Sans Regular\\', sans-serif;\\r\\n                }.tdb-horiz-menu li.current-menu-item > a,\\r\\n                .tdb-horiz-menu li.current-menu-ancestor > a,\\r\\n                .tdb-horiz-menu li.current-category-ancestor > a,\\r\\n                .tdb-horiz-menu li:hover > a,\\r\\n                .tdb-horiz-menu li.tdb-hover > a{\\r\\n                  color: #4db2ec;\\r\\n                }.tdb-horiz-menu li.current-menu-item > a .tdb-sub-menu-icon-svg,\\r\\n                .tdb-horiz-menu li.current-menu-ancestor > a .tdb-sub-menu-icon-svg,\\r\\n                .tdb-horiz-menu li.current-category-ancestor > a .tdb-sub-menu-icon-svg,\\r\\n                .tdb-horiz-menu li:hover > a .tdb-sub-menu-icon-svg,\\r\\n                .tdb-horiz-menu li.tdb-hover > a .tdb-sub-menu-icon-svg,\\r\\n                .tdb-horiz-menu li.current-menu-item > a .tdb-sub-menu-icon-svg *,\\r\\n                .tdb-horiz-menu li.current-menu-ancestor > a .tdb-sub-menu-icon-svg *,\\r\\n                .tdb-horiz-menu li.current-category-ancestor > a .tdb-sub-menu-icon-svg *,\\r\\n                .tdb-horiz-menu li:hover > a .tdb-sub-menu-icon-svg *,\\r\\n                .tdb-horiz-menu li.tdb-hover > a .tdb-sub-menu-icon-svg *{\\r\\n                  fill: #4db2ec;\\r\\n                }.tdb-horiz-menu > li{\\r\\n                  position: relative;\\r\\n                  float: left;\\r\\n                  font-size: 0;\\r\\n                }.tdb-horiz-menu > li:hover ul{\\r\\n                  visibility: visible;\\r\\n                  opacity: 1;\\r\\n                }.tdb-horiz-menu > li > a{\\r\\n                  display: inline-block;\\r\\n                  padding: 0 9px;\\r\\n                  font-weight: 700;\\r\\n                  font-size: 13px;\\r\\n                  line-height: 41px;\\r\\n                  vertical-align: middle;\\r\\n                  -webkit-backface-visibility: hidden;\\r\\n                  color: #000;\\r\\n                }.tdb-horiz-menu > li > a > .tdb-menu-item-text{\\r\\n                  display: inline-block;\\r\\n                }.tdb-horiz-menu > li > a .tdb-sub-menu-icon{\\r\\n                  margin: 0 0 0 6px;\\r\\n                }.tdb-horiz-menu > li > a .tdb-sub-menu-icon-svg svg{\\r\\n                  position: relative;\\r\\n                  top: -1px;\\r\\n                  width: 13px;\\r\\n                }.tdb-horiz-menu > li .tdb-menu-sep{\\r\\n                  position: relative;\\r\\n                }.tdb-horiz-menu > li:last-child .tdb-menu-sep{\\r\\n                  display: none;\\r\\n                }.tdb-horiz-menu .tdb-sub-menu-icon-svg,\\r\\n                .tdb-horiz-menu .tdb-menu-sep-svg{\\r\\n                  line-height: 0;\\r\\n                }.tdb-horiz-menu .tdb-sub-menu-icon-svg svg,\\r\\n                .tdb-horiz-menu .tdb-menu-sep-svg svg{\\r\\n                  height: auto;\\r\\n                }.tdb-horiz-menu .tdb-sub-menu-icon-svg svg,\\r\\n                .tdb-horiz-menu .tdb-menu-sep-svg svg,\\r\\n                .tdb-horiz-menu .tdb-sub-menu-icon-svg svg *,\\r\\n                .tdb-horiz-menu .tdb-menu-sep-svg svg *{\\r\\n                  fill: #000;\\r\\n                }.tdb-horiz-menu .tdb-sub-menu-icon{\\r\\n                  vertical-align: middle;\\r\\n                \\r\\n                  position: relative;\\r\\n                  top: 0;\\r\\n                  padding-left: 0;\\r\\n                }.tdb-horiz-menu .tdb-menu-sep{\\r\\n                  vertical-align: middle;\\r\\n                  font-size: 12px;\\r\\n                }.tdb-horiz-menu .tdb-menu-sep-svg svg{\\r\\n                  width: 12px;\\r\\n                }.tdb-horiz-menu ul{\\r\\n                  position: absolute;\\r\\n                  top: auto;\\r\\n                  left: -7px;\\r\\n                  padding: 8px 0;\\r\\n                  background-color: #fff;\\r\\n                  visibility: hidden;\\r\\n                  opacity: 0;\\r\\n                }.tdb-horiz-menu ul li > a{\\r\\n                  white-space: nowrap;\\r\\n                  display: block;\\r\\n                  padding: 5px 18px;\\r\\n                  font-size: 11px;\\r\\n                  line-height: 18px;\\r\\n                  color: #111;\\r\\n                }.tdb-horiz-menu ul li > a .tdb-sub-menu-icon{\\r\\n                  float: right;\\r\\n                  font-size: 7px;\\r\\n                  line-height: 20px;\\r\\n                }.tdb-horiz-menu ul li > a .tdb-sub-menu-icon-svg svg{\\r\\n                  width: 7px;\\r\\n                }.tdc-dragged .tdb-horiz-menu ul{\\r\\n                  visibility: hidden !important;\\r\\n                  opacity: 0 !important;\\r\\n                  -webkit-transition: all 0.3s ease;\\r\\n                  transition: all 0.3s ease;\\r\\n                }.tdi_29{\\r\\n                    display: inline-block;\\r\\n                }.tdi_29 .tdb-horiz-menu > li{\\r\\n                    margin-right: 16px;\\r\\n                }.tdi_29 .tdb-horiz-menu > li:last-child{\\r\\n                    margin-right: 0;\\r\\n                }.tdi_29 .tdb-horiz-menu > li > a{\\r\\n                    padding: 0px;\\r\\n                \\r\\n                    color: #ffffff;\\r\\n                \\r\\n                    font-size:11px !important;line-height:28px !important;font-weight:400 !important;\\r\\n                }.tdi_29 .tdb-horiz-menu > li .tdb-menu-sep{\\r\\n                    top: 0px;\\r\\n                }.tdi_29 .tdb-horiz-menu > li > a  .tdb-sub-menu-icon{\\r\\n                    top: 0px;\\r\\n                }.tdi_29 .tdb-horiz-menu > li > a .tdb-sub-menu-icon-svg svg,\\r\\n                .tdi_29 .tdb-horiz-menu > li > a .tdb-sub-menu-icon-svg svg *{\\r\\n                    fill: #ffffff;\\r\\n                }.tdi_29 .tdb-horiz-menu > li.current-menu-item > a,\\r\\n                .tdi_29 .tdb-horiz-menu > li.current-menu-ancestor > a,\\r\\n                .tdi_29 .tdb-horiz-menu > li.current-category-ancestor > a,\\r\\n                .tdi_29 .tdb-horiz-menu > li:hover > a{\\r\\n                    color: #4db2ec;\\r\\n                }.tdi_29 .tdb-horiz-menu > li.current-menu-item > a .tdb-sub-menu-icon-svg svg,\\r\\n                .tdi_29 .tdb-horiz-menu > li.current-menu-item > a .tdb-sub-menu-icon-svg svg *,\\r\\n                .tdi_29 .tdb-horiz-menu > li.current-menu-ancestor > a .tdb-sub-menu-icon-svg svg,\\r\\n                .tdi_29 .tdb-horiz-menu > li.current-menu-ancestor > a .tdb-sub-menu-icon-svg svg *,\\r\\n                .tdi_29 .tdb-horiz-menu > li.current-category-ancestor > a .tdb-sub-menu-icon-svg svg,\\r\\n                .tdi_29 .tdb-horiz-menu > li.current-category-ancestor > a .tdb-sub-menu-icon-svg svg *,\\r\\n                .tdi_29 .tdb-horiz-menu > li:hover > a .tdb-sub-menu-icon-svg svg,\\r\\n                .tdi_29 .tdb-horiz-menu > li:hover > a .tdb-sub-menu-icon-svg svg *{\\r\\n                    fill: #4db2ec;\\r\\n                }.tdi_29 .tdb-horiz-menu ul{\\r\\n                    left: -18px;\\r\\n                \\r\\n                    box-shadow:  1px 1px 4px 0px rgba(0, 0, 0, 0.15);\\r\\n                }.tdi_29 .tdb-horiz-menu ul li > a{\\r\\n                    line-height:1.2 !important;\\r\\n                }\\n</style><div id=tdi_29 class=\"td_block_inner td-fix-index\"><div class=\"menu-main-2-container\"><ul id=\"menu-main-3\" class=\"tdb-horiz-menu\"><li class=\"menu-item menu-item-type-taxonomy menu-item-object-category menu-item-4058\"><a href=\"https://insights.blackcoffer.com/category/our-success-stories/\"><div class=\"tdb-menu-item-text\">Our Success Stories</div></a></li>\\n<li class=\"menu-item menu-item-type-taxonomy menu-item-object-category menu-item-4059\"><a href=\"https://insights.blackcoffer.com/category/our-solutions/\"><div class=\"tdb-menu-item-text\">What We Do</div></a></li>\\n<li class=\"menu-item menu-item-type-taxonomy menu-item-object-category current-post-ancestor current-menu-parent current-post-parent menu-item-4060\"><a href=\"https://insights.blackcoffer.com/category/what-we-think/\"><div class=\"tdb-menu-item-text\">What We Think</div></a></li>\\n<li class=\"menu-item menu-item-type-taxonomy menu-item-object-category menu-item-4061\"><a href=\"https://insights.blackcoffer.com/category/how-to/\"><div class=\"tdb-menu-item-text\">How To</div></a></li>\\n<li class=\"menu-item menu-item-type-custom menu-item-object-custom menu-item-4062\"><a target=\"_blank\" href=\"https://blackcoffer.com/get-blackcoffer-demo/\"><div class=\"tdb-menu-item-text\">Schedule Demo</div></a></li>\\n<li class=\"menu-item menu-item-type-post_type menu-item-object-page menu-item-4063\"><a href=\"https://insights.blackcoffer.com/contact/\"><div class=\"tdb-menu-item-text\">Contact</div></a></li>\\n</ul></div></div></div><div class=\"tdm_block td_block_wrap tdm_block_socials tdi_30 tdm-content-horiz-left td-pb-border-top td_block_template_1\"  data-td-block-uid=\"tdi_30\" >\\n<style>\\n/* custom css */\\n.tdm_block.tdm_block_socials{\\r\\n                  margin-bottom: 0;\\r\\n                }.tdm-social-wrapper{\\r\\n                  *zoom: 1;\\r\\n                }.tdm-social-wrapper:before,\\r\\n                .tdm-social-wrapper:after{\\r\\n                  display: table;\\r\\n                  content: \\'\\';\\r\\n                  line-height: 0;\\r\\n                }.tdm-social-wrapper:after{\\r\\n                  clear: both;\\r\\n                }.tdm-social-item-wrap{\\r\\n                  display: inline-block;\\r\\n                }.tdm-social-item{\\r\\n                  position: relative;\\r\\n                  display: inline-block;\\r\\n                  vertical-align: middle;\\r\\n                  -webkit-transition: all 0.2s;\\r\\n                  transition: all 0.2s;\\r\\n                  text-align: center;\\r\\n                  -webkit-transform: translateZ(0);\\r\\n                  transform: translateZ(0);\\r\\n                }.tdm-social-item i{\\r\\n                  font-size: 14px;\\r\\n                  color: #4db2ec;\\r\\n                  -webkit-transition: all 0.2s;\\r\\n                  transition: all 0.2s;\\r\\n                }.tdm-social-text{\\r\\n                  display: none;\\r\\n                  margin-top: -1px;\\r\\n                  vertical-align: middle;\\r\\n                  font-size: 13px;\\r\\n                  color: #4db2ec;\\r\\n                  -webkit-transition: all 0.2s;\\r\\n                  transition: all 0.2s;\\r\\n                }.tdm-social-item-wrap:hover i,\\r\\n                .tdm-social-item-wrap:hover .tdm-social-text{\\r\\n                  color: #000;\\r\\n                }.tdm-social-item-wrap:last-child .tdm-social-text{\\r\\n                  margin-right: 0 !important;\\r\\n                }.tdi_30{\\r\\n                    float: right;\\r\\n                    clear: none;\\r\\n                }\\n</style>\\n<style>\\n.tdi_31 .tdm-social-item i{\\r\\n\\t\\t\\t\\t\\tfont-size: 12px;\\r\\n\\t\\t\\t\\t\\tvertical-align: middle;\\r\\n\\t\\t\\t\\t\\r\\n\\t\\t\\t\\t\\tline-height: 22.8px;\\r\\n\\t\\t\\t\\t}.tdi_31 .tdm-social-item i.td-icon-twitter,\\r\\n\\t\\t\\t\\t.tdi_31 .tdm-social-item i.td-icon-linkedin,\\r\\n\\t\\t\\t\\t.tdi_31 .tdm-social-item i.td-icon-pinterest,\\r\\n\\t\\t\\t\\t.tdi_31 .tdm-social-item i.td-icon-blogger,\\r\\n\\t\\t\\t\\t.tdi_31 .tdm-social-item i.td-icon-vimeo{\\r\\n\\t\\t\\t\\t\\tfont-size: 9.6px;\\r\\n\\t\\t\\t\\t}.tdi_31 .tdm-social-item{\\r\\n\\t\\t\\t\\t\\twidth: 22.8px;\\r\\n\\t\\t\\t\\t\\theight: 22.8px;\\r\\n\\t\\t\\t\\t\\r\\n\\t\\t\\t\\t    margin: 2.5px 5px 2.5px 0;\\r\\n\\t\\t\\t\\t}.tdi_31 .tdm-social-item-wrap:last-child .tdm-social-item{\\r\\n\\t\\t\\t\\t    margin-right: 0 !important;\\r\\n\\t\\t\\t\\t}.tdi_31 .tdm-social-item i,\\r\\n\\t\\t\\t\\t.tds-team-member2 .tdi_31.tds-social1 .tdm-social-item i{\\r\\n\\t\\t\\t\\t\\tcolor: #ffffff;\\r\\n\\t\\t\\t\\t}.tdi_31 .tdm-social-item-wrap:hover i,\\r\\n\\t\\t\\t\\t.tds-team-member2 .tdi_31.tds-social1 .tdm-social-item:hover i{\\r\\n\\t\\t\\t\\t\\tcolor: #4db2ec;\\r\\n\\t\\t\\t\\t}.tdi_31 .tdm-social-text{\\r\\n\\t\\t\\t\\t\\tdisplay: none;\\r\\n\\t\\t\\t\\t\\r\\n\\t\\t\\t\\t\\tmargin-left: 2px;\\r\\n\\t\\t\\t\\t\\r\\n\\t\\t\\t\\t\\tmargin-right: 18px;\\r\\n\\t\\t\\t\\t}\\n</style><div class=\"tdm-social-wrapper tds-social1 tdi_31\"><div class=\"tdm-social-item-wrap\"><a href=\"https://www.facebook.com/blackcoffer.consulting\"  target=\"_blank\"  title=\"Facebook\" class=\"tdm-social-item\"><i class=\"td-icon-font td-icon-facebook\"></i></a><a href=\"https://www.facebook.com/blackcoffer.consulting\"  target=\"_blank\"  class=\"tdm-social-text\" >Facebook</a></div><div class=\"tdm-social-item-wrap\"><a href=\"https://in.linkedin.com/company/blackcoffer\"  target=\"_blank\"  title=\"Linkedin\" class=\"tdm-social-item\"><i class=\"td-icon-font td-icon-linkedin\"></i></a><a href=\"https://in.linkedin.com/company/blackcoffer\"  target=\"_blank\"  class=\"tdm-social-text\" >Linkedin</a></div><div class=\"tdm-social-item-wrap\"><a href=\"https://twitter.com/Blackcoffer1\"  target=\"_blank\"  title=\"Twitter\" class=\"tdm-social-item\"><i class=\"td-icon-font td-icon-twitter\"></i></a><a href=\"https://twitter.com/Blackcoffer1\"  target=\"_blank\"  class=\"tdm-social-text\" >Twitter</a></div><div class=\"tdm-social-item-wrap\"><a href=\"https://www.youtube.com/channel/UCfr95TYacXeHI3cklmYdtXg\"  target=\"_blank\"  title=\"Youtube\" class=\"tdm-social-item\"><i class=\"td-icon-font td-icon-youtube\"></i></a><a href=\"https://www.youtube.com/channel/UCfr95TYacXeHI3cklmYdtXg\"  target=\"_blank\"  class=\"tdm-social-text\" >Youtube</a></div></div></div></div></div></div></div><div id=\"tdi_32\" class=\"tdc-row\"><div class=\"vc_row tdi_33  wpb_row td-pb-row\" >\\n<style scoped>\\n\\n/* custom css */\\n.tdi_33,\\r\\n                .tdi_33 .tdc-columns{\\r\\n                    min-height: 0;\\r\\n                }.tdi_33,\\r\\n\\t\\t\\t\\t.tdi_33 .tdc-columns{\\r\\n\\t\\t\\t\\t    display: block;\\r\\n\\t\\t\\t\\t}.tdi_33 .tdc-columns{\\r\\n\\t\\t\\t\\t    width: 100%;\\r\\n\\t\\t\\t\\t}\\n</style><div class=\"vc_column tdi_35  wpb_column vc_column_container tdc-column td-pb-span12\">\\n<style scoped>\\n\\n/* custom css */\\n.tdi_35{\\r\\n                    vertical-align: baseline;\\r\\n                }.tdi_35 > .wpb_wrapper,\\r\\n\\t\\t\\t\\t.tdi_35 > .wpb_wrapper > .tdc-elements{\\r\\n\\t\\t\\t\\t    display: block;\\r\\n\\t\\t\\t\\t}.tdi_35 > .wpb_wrapper > .tdc-elements{\\r\\n\\t\\t\\t\\t    width: 100%;\\r\\n\\t\\t\\t\\t}.tdi_35 > .wpb_wrapper > .vc_row_inner{\\r\\n\\t\\t\\t\\t    width: auto;\\r\\n\\t\\t\\t\\t}.tdi_35 > .wpb_wrapper{\\r\\n\\t\\t\\t\\t    width: auto;\\r\\n\\t\\t\\t\\t    height: auto;\\r\\n\\t\\t\\t\\t}\\n</style><div class=\"wpb_wrapper\" ><div class=\"vc_row_inner tdi_37  vc_row vc_inner wpb_row td-pb-row tdc-row-content-vert-center\" >\\n<style scoped>\\n\\n/* custom css */\\n.tdi_37{\\r\\n                    position: relative !important;\\r\\n                    top: 0;\\r\\n                    transform: none;\\r\\n                    -webkit-transform: none;\\r\\n                }.tdi_37,\\r\\n\\t\\t\\t\\t.tdi_37 .tdc-inner-columns{\\r\\n\\t\\t\\t\\t    display: block;\\r\\n\\t\\t\\t\\t}.tdi_37 .tdc-inner-columns{\\r\\n\\t\\t\\t\\t    width: 100%;\\r\\n\\t\\t\\t\\t}@media (min-width: 768px) {\\r\\n\\t                .tdi_37 {\\r\\n\\t                    margin-left: -0px;\\r\\n\\t                    margin-right: -0px;\\r\\n\\t                }\\r\\n\\t                .tdi_37 .vc_column_inner {\\r\\n\\t                    padding-left: 0px;\\r\\n\\t                    padding-right: 0px;\\r\\n\\t                }\\r\\n                }@media (min-width: 767px) {\\r\\n                    .tdi_37.tdc-row-content-vert-center,\\r\\n                    .tdi_37.tdc-row-content-vert-center .tdc-inner-columns {\\r\\n                        display: flex;\\r\\n                        align-items: center;\\r\\n                        flex: 1;\\r\\n                    }\\r\\n                    .tdi_37.tdc-row-content-vert-bottom,\\r\\n                    .tdi_37.tdc-row-content-vert-bottom .tdc-inner-columns {\\r\\n                        display: flex;\\r\\n                        align-items: flex-end;\\r\\n                        flex: 1;\\r\\n                    }\\r\\n                    .tdi_37.tdc-row-content-vert-center .td_block_wrap {\\r\\n                        vertical-align: middle;\\r\\n                    }\\r\\n                    .tdi_37.tdc-row-content-vert-bottom .td_block_wrap {\\r\\n                        vertical-align: bottom;\\r\\n                    }\\r\\n                }\\n/* inline tdc_css att */\\n\\n.tdi_37{\\npadding-top:28px !important;\\npadding-bottom:9px !important;\\n}\\n\\n.tdi_37 .td_block_wrap{ text-align:left }\\n\\n/* portrait */\\n@media (min-width: 768px) and (max-width: 1018px)\\n{\\n.tdi_37{\\nmargin-bottom:-3px !important;\\npadding-top:9px !important;\\npadding-bottom:0px !important;\\n}\\n}\\n\\n</style><div class=\"vc_column_inner tdi_39  wpb_column vc_column_container tdc-inner-column td-pb-span4\">\\n<style scoped>\\n\\n/* custom css */\\n.tdi_39{\\r\\n                    vertical-align: baseline;\\r\\n                }.tdi_39 .vc_column-inner > .wpb_wrapper,\\r\\n\\t\\t\\t\\t.tdi_39 .vc_column-inner > .wpb_wrapper .tdc-elements{\\r\\n\\t\\t\\t\\t    display: block;\\r\\n\\t\\t\\t\\t}.tdi_39 .vc_column-inner > .wpb_wrapper .tdc-elements{\\r\\n\\t\\t\\t\\t    width: 100%;\\r\\n\\t\\t\\t\\t}\\n/* inline tdc_css att */\\n\\n.tdi_39{\\nwidth:30% !important;\\n}\\n\\n/* landscape */\\n@media (min-width: 1019px) and (max-width: 1140px)\\n{\\n.tdi_39{\\nwidth:24% !important;\\n}\\n}\\n\\n/* portrait */\\n@media (min-width: 768px) and (max-width: 1018px)\\n{\\n.tdi_39{\\nwidth:calc(100% - 468px) !important;\\n}\\n}\\n\\n</style><div class=\"vc_column-inner\"><div class=\"wpb_wrapper\" ><div class=\"td_block_wrap tdb_header_logo tdi_40 td-pb-border-top td_block_template_1 tdb-header-align\"  data-td-block-uid=\"tdi_40\" >\\n<style>\\n/* custom css */\\n.tdi_40 .tdb-logo-a,\\r\\n                .tdi_40 h1{\\r\\n                    flex-direction: row;\\r\\n                \\r\\n                    align-items: center;\\r\\n                \\r\\n                    justify-content: center;\\r\\n                }.tdi_40 .tdb-logo-svg-wrap{\\r\\n                    display: block;\\r\\n                }.tdi_40 .tdb-logo-svg-wrap + .tdb-logo-img-wrap{\\r\\n                    display: none;\\r\\n                }.tdi_40 .tdb-logo-img-wrap{\\r\\n                    display: block;\\r\\n                }.tdi_40 .tdb-logo-text-tagline{\\r\\n                    margin-top: 2px;\\r\\n                    margin-left: 0;\\r\\n                \\r\\n                    display: block;\\r\\n                }.tdi_40 .tdb-logo-text-title{\\r\\n                    display: block;\\r\\n                }.tdi_40 .tdb-logo-text-wrap{\\r\\n                    flex-direction: column;\\r\\n                \\r\\n                    align-items: flex-start;\\r\\n                }.tdi_40 .tdb-logo-icon{\\r\\n                    top: 0px;\\r\\n                \\r\\n                    display: block;\\r\\n                }\\n\\n/* portrait */\\n@media (min-width: 768px) and (max-width: 1018px){\\n.tdi_40 .tdb-logo-img{\\r\\n                    max-width: 220px;\\r\\n                }\\n}\\n</style><div class=\"tdb-block-inner td-fix-index\"><a class=\"tdb-logo-a\" href=\"https://insights.blackcoffer.com/\"><span class=\"tdb-logo-img-wrap\"><img class=\"tdb-logo-img\" src=\"https://insights.blackcoffer.com/wp-content/uploads/2018/12/Insights-blackv02.png\" alt=\"Logo\"  title=\"\"  /></span></a></div></div> <!-- ./block --></div></div></div><div class=\"vc_column_inner tdi_42  wpb_column vc_column_container tdc-inner-column td-pb-span8\">\\n<style scoped>\\n\\n/* custom css */\\n.tdi_42{\\r\\n                    vertical-align: baseline;\\r\\n                }.tdi_42 .vc_column-inner > .wpb_wrapper,\\r\\n\\t\\t\\t\\t.tdi_42 .vc_column-inner > .wpb_wrapper .tdc-elements{\\r\\n\\t\\t\\t\\t    display: block;\\r\\n\\t\\t\\t\\t}.tdi_42 .vc_column-inner > .wpb_wrapper .tdc-elements{\\r\\n\\t\\t\\t\\t    width: 100%;\\r\\n\\t\\t\\t\\t}\\n/* inline tdc_css att */\\n\\n.tdi_42{\\nwidth:70% !important;\\nz-index:0 !important;\\n}\\n\\n/* landscape */\\n@media (min-width: 1019px) and (max-width: 1140px)\\n{\\n.tdi_42{\\nwidth:76% !important;\\n}\\n}\\n\\n/* portrait */\\n@media (min-width: 768px) and (max-width: 1018px)\\n{\\n.tdi_42{\\nwidth:468px !important;\\n}\\n}\\n\\n</style><div class=\"vc_column-inner\"><div class=\"wpb_wrapper\" ><div class=\"td-a-rec td-a-rec-id-header  td-rec-hide-on-p image tdi_43 td_block_template_1\">\\n<style>\\n\\n/* inline tdc_css att */\\n\\n.tdi_43{\\nmargin-bottom:0px !important;\\n}\\n\\n</style>\\n<style>\\n/* custom css */\\n.tdi_43.td-a-rec{\\r\\n\\t\\t\\t\\t\\ttext-align: center;\\r\\n\\t\\t\\t\\t}.tdi_43 .td-element-style{\\r\\n\\t\\t\\t\\t\\tz-index: -1;\\r\\n\\t\\t\\t\\t}.tdi_43.td-a-rec-img{\\r\\n\\t\\t\\t\\t    text-align: right;\\r\\n\\t\\t\\t\\t}.tdi_43.td-a-rec-img img{\\r\\n                    margin: 0 0 0 auto;\\r\\n                }@media (max-width: 767px) {\\r\\n\\t\\t\\t\\t    .tdi_43.td-a-rec-img {\\r\\n\\t\\t\\t\\t        text-align: center;\\r\\n\\t\\t\\t\\t    }\\r\\n                }\\n</style><div class=\"td-all-devices\"><a href=\"https://blackcoffer.com/contact-us/\" target=\"_blank\"><img src=\"https://insights.blackcoffer.com/wp-content/uploads/2018/12/1.png\"  style=\"transition: all 0.3s ease 0s; transform: scale(1);\" onmouseover=\"this.style.transform=`scale(0.9)`\" onmouseout=\"this.style.transform=`scale(1)`\"/></a></div></div></div></div></div></div><div class=\"vc_row_inner tdi_45  vc_row vc_inner wpb_row td-pb-row\" >\\n<style scoped>\\n\\n/* custom css */\\n.tdi_45{\\r\\n                    position: relative !important;\\r\\n                    top: 0;\\r\\n                    transform: none;\\r\\n                    -webkit-transform: none;\\r\\n                }.tdi_45,\\r\\n\\t\\t\\t\\t.tdi_45 .tdc-inner-columns{\\r\\n\\t\\t\\t\\t    display: block;\\r\\n\\t\\t\\t\\t}.tdi_45 .tdc-inner-columns{\\r\\n\\t\\t\\t\\t    width: 100%;\\r\\n\\t\\t\\t\\t}\\n</style><div class=\"vc_column_inner tdi_47  wpb_column vc_column_container tdc-inner-column td-pb-span12\">\\n<style scoped>\\n\\n/* custom css */\\n.tdi_47{\\r\\n                    vertical-align: baseline;\\r\\n                }.tdi_47 .vc_column-inner > .wpb_wrapper,\\r\\n\\t\\t\\t\\t.tdi_47 .vc_column-inner > .wpb_wrapper .tdc-elements{\\r\\n\\t\\t\\t\\t    display: block;\\r\\n\\t\\t\\t\\t}.tdi_47 .vc_column-inner > .wpb_wrapper .tdc-elements{\\r\\n\\t\\t\\t\\t    width: 100%;\\r\\n\\t\\t\\t\\t}\\n/* inline tdc_css att */\\n\\n.tdi_47{\\nposition:relative;\\n}\\n\\n</style>\\n<div class=\"tdi_46_rand_style td-element-style\" ><style>\\n.tdi_46_rand_style{\\nbackground-color:#ffffff !important;\\n}\\n </style></div><div class=\"vc_column-inner\"><div class=\"wpb_wrapper\" ><div class=\"td_block_wrap tdb_header_menu tdi_48 tds_menu_active1 tds_menu_sub_active1 tdb-head-menu-inline tdb-mm-align-screen td-pb-border-top td_block_template_1 tdb-header-align\"  data-td-block-uid=\"tdi_48\"  style=\" z-index: 999;\">\\n<style>\\n/* custom css */\\n.tdb_header_menu{\\r\\n                  margin-bottom: 0;\\r\\n                  z-index: 999;\\r\\n                  clear: none;\\r\\n                }.tdb_header_menu .tdb-main-sub-icon-fake,\\r\\n                .tdb_header_menu .tdb-sub-icon-fake{\\r\\n                    display: none;\\r\\n                }.rtl .tdb_header_menu .tdb-menu{\\r\\n                  display: flex;\\r\\n                }.tdb_header_menu .tdb-menu{\\r\\n                  display: inline-block;\\r\\n                  vertical-align: middle;\\r\\n                  margin: 0;\\r\\n                }.tdb_header_menu .tdb-menu .tdb-mega-menu-inactive,\\r\\n                .tdb_header_menu .tdb-menu .tdb-menu-item-inactive{\\r\\n                  pointer-events: none;\\r\\n                }.tdb_header_menu .tdb-menu .tdb-mega-menu-inactive > ul,\\r\\n                .tdb_header_menu .tdb-menu .tdb-menu-item-inactive > ul{\\r\\n                  visibility: hidden;\\r\\n                  opacity: 0;\\r\\n                }.tdb_header_menu .tdb-menu .sub-menu{\\r\\n                  font-size: 14px;\\r\\n                \\r\\n                  position: absolute;\\r\\n                  top: -999em;\\r\\n                  background-color: #fff;\\r\\n                  z-index: 99;\\r\\n                }.tdb_header_menu .tdb-menu .sub-menu > li{\\r\\n                  list-style-type: none;\\r\\n                  margin: 0;\\r\\n                  font-family: \\'Open Sans\\', \\'Open Sans Regular\\', sans-serif;\\r\\n                }.tdb_header_menu .tdb-menu > li{\\r\\n                  float: left;\\r\\n                  list-style-type: none;\\r\\n                  margin: 0;\\r\\n                }.tdb_header_menu .tdb-menu > li > a{\\r\\n                  position: relative;\\r\\n                  display: inline-block;\\r\\n                  padding: 0 14px;\\r\\n                  font-weight: 700;\\r\\n                  font-size: 14px;\\r\\n                  line-height: 48px;\\r\\n                  vertical-align: middle;\\r\\n                  text-transform: uppercase;\\r\\n                  -webkit-backface-visibility: hidden;\\r\\n                  color: #000;\\r\\n                  font-family: \\'Open Sans\\', \\'Open Sans Regular\\', sans-serif;\\r\\n                }.tdb_header_menu .tdb-menu > li > a:after{\\r\\n                  content: \\'\\';\\r\\n                  position: absolute;\\r\\n                  bottom: 0;\\r\\n                  left: 0;\\r\\n                  right: 0;\\r\\n                  margin: 0 auto;\\r\\n                  width: 0;\\r\\n                  height: 3px;\\r\\n                  background-color: #4db2ec;\\r\\n                  -webkit-transform: translate3d(0, 0, 0);\\r\\n                  transform: translate3d(0, 0, 0);\\r\\n                  -webkit-transition: width 0.2s ease;\\r\\n                  transition: width 0.2s ease;\\r\\n                }.tdb_header_menu .tdb-menu > li > a > .tdb-menu-item-text{\\r\\n                  display: inline-block;\\r\\n                }.tdb_header_menu .tdb-menu > li > a .tdb-menu-item-text,\\r\\n                .tdb_header_menu .tdb-menu > li > a span{\\r\\n                  vertical-align: middle;\\r\\n                  float: left;\\r\\n                }.tdb_header_menu .tdb-menu > li > a .tdb-sub-menu-icon{\\r\\n                  margin: 0 0 0 7px;\\r\\n                }.tdb_header_menu .tdb-menu > li > a .tdb-sub-menu-icon-svg{\\r\\n                  float: none;\\r\\n                  line-height: 0;\\r\\n                }.tdb_header_menu .tdb-menu > li > a .tdb-sub-menu-icon-svg svg{\\r\\n                  width: 14px;\\r\\n                  height: auto;\\r\\n                }.tdb_header_menu .tdb-menu > li > a .tdb-sub-menu-icon-svg svg,\\r\\n                .tdb_header_menu .tdb-menu > li > a .tdb-sub-menu-icon-svg svg *{\\r\\n                  fill: #000;\\r\\n                }.tdb_header_menu .tdb-menu > li.current-menu-item > a:after,\\r\\n                .tdb_header_menu .tdb-menu > li.current-menu-ancestor > a:after,\\r\\n                .tdb_header_menu .tdb-menu > li.current-category-ancestor > a:after,\\r\\n                .tdb_header_menu .tdb-menu > li:hover > a:after,\\r\\n                .tdb_header_menu .tdb-menu > li.tdb-hover > a:after{\\r\\n                  width: 100%;\\r\\n                }.tdb_header_menu .tdb-menu > li:hover > ul,\\r\\n                .tdb_header_menu .tdb-menu > li.tdb-hover > ul{\\r\\n                  top: auto;\\r\\n                  display: block !important;\\r\\n                }.tdb_header_menu .tdb-menu > li.td-normal-menu > ul.sub-menu{\\r\\n                  top: auto;\\r\\n                  left: 0;\\r\\n                  z-index: 99;\\r\\n                }.tdb_header_menu .tdb-menu > li .tdb-menu-sep{\\r\\n                  position: relative;\\r\\n                  vertical-align: middle;\\r\\n                  font-size: 14px;\\r\\n                }.tdb_header_menu .tdb-menu > li .tdb-menu-sep-svg{\\r\\n                  line-height: 0;\\r\\n                }.tdb_header_menu .tdb-menu > li .tdb-menu-sep-svg svg{\\r\\n                  width: 14px;\\r\\n                  height: auto;\\r\\n                }.tdb_header_menu .tdb-menu > li:last-child .tdb-menu-sep{\\r\\n                  display: none;\\r\\n                }.tdb_header_menu .tdb-menu-item-text{\\r\\n                  word-wrap: break-word;\\r\\n                }.tdb_header_menu .tdb-menu-item-text,\\r\\n                .tdb_header_menu .tdb-sub-menu-icon,\\r\\n                .tdb_header_menu .tdb-menu-more-subicon{\\r\\n                  vertical-align: middle;\\r\\n                }.tdb_header_menu .tdb-sub-menu-icon,\\r\\n                .tdb_header_menu .tdb-menu-more-subicon{\\r\\n                  position: relative;\\r\\n                  top: 0;\\r\\n                  padding-left: 0;\\r\\n                }.tdb_header_menu .tdb-normal-menu{\\r\\n                  position: relative;\\r\\n                }.tdb_header_menu .tdb-normal-menu ul{\\r\\n                  left: 0;\\r\\n                  padding: 15px 0;\\r\\n                  text-align: left;\\r\\n                }.tdb_header_menu .tdb-normal-menu ul ul{\\r\\n                  margin-top: -15px;\\r\\n                }.tdb_header_menu .tdb-normal-menu ul .tdb-menu-item{\\r\\n                  position: relative;\\r\\n                  list-style-type: none;\\r\\n                }.tdb_header_menu .tdb-normal-menu ul .tdb-menu-item > a{\\r\\n                  position: relative;\\r\\n                  display: block;\\r\\n                  padding: 7px 30px;\\r\\n                  font-size: 12px;\\r\\n                  line-height: 20px;\\r\\n                  color: #111;\\r\\n                }.tdb_header_menu .tdb-normal-menu ul .tdb-menu-item > a .tdb-sub-menu-icon,\\r\\n                .tdb_header_menu .td-pulldown-filter-list .tdb-menu-item > a .tdb-sub-menu-icon{\\r\\n                  position: absolute;\\r\\n                  top: 50%;\\r\\n                  -webkit-transform: translateY(-50%);\\r\\n                  transform: translateY(-50%);\\r\\n                  right: 0;\\r\\n                  padding-right: inherit;\\r\\n                  font-size: 7px;\\r\\n                  line-height: 20px;\\r\\n                }.tdb_header_menu .tdb-normal-menu ul .tdb-menu-item > a .tdb-sub-menu-icon-svg,\\r\\n                .tdb_header_menu .td-pulldown-filter-list .tdb-menu-item > a .tdb-sub-menu-icon-svg{\\r\\n                  line-height: 0;\\r\\n                }.tdb_header_menu .tdb-normal-menu ul .tdb-menu-item > a .tdb-sub-menu-icon-svg svg,\\r\\n                .tdb_header_menu .td-pulldown-filter-list .tdb-menu-item > a .tdb-sub-menu-icon-svg svg{\\r\\n                  width: 7px;\\r\\n                  height: auto;\\r\\n                }.tdb_header_menu .tdb-normal-menu ul .tdb-menu-item > a .tdb-sub-menu-icon-svg svg,\\r\\n                .tdb_header_menu .tdb-normal-menu ul .tdb-menu-item > a .tdb-sub-menu-icon-svg svg *,\\r\\n                .tdb_header_menu .td-pulldown-filter-list .tdb-menu-item > a .tdb-sub-menu-icon svg,\\r\\n                .tdb_header_menu .td-pulldown-filter-list .tdb-menu-item > a .tdb-sub-menu-icon svg *{\\r\\n                  fill: #000;\\r\\n                }.tdb_header_menu .tdb-normal-menu ul .tdb-menu-item:hover > ul,\\r\\n                .tdb_header_menu .tdb-normal-menu ul .tdb-menu-item.tdb-hover > ul{\\r\\n                  top: 0;\\r\\n                  display: block !important;\\r\\n                }.tdb_header_menu .tdb-normal-menu ul .tdb-menu-item.current-menu-item > a,\\r\\n                .tdb_header_menu .tdb-normal-menu ul .tdb-menu-item.current-menu-ancestor > a,\\r\\n                .tdb_header_menu .tdb-normal-menu ul .tdb-menu-item.current-category-ancestor > a,\\r\\n                .tdb_header_menu .tdb-normal-menu ul .tdb-menu-item.tdb-hover > a,\\r\\n                .tdb_header_menu .tdb-normal-menu ul .tdb-menu-item:hover > a{\\r\\n                  color: #4db2ec;\\r\\n                }.tdb_header_menu .tdb-normal-menu > ul{\\r\\n                  left: -15px;\\r\\n                }.tdb_header_menu.tdb-menu-sub-inline .tdb-normal-menu ul,\\r\\n                .tdb_header_menu.tdb-menu-sub-inline .td-pulldown-filter-list{\\r\\n                  width: 100% !important;\\r\\n                }.tdb_header_menu.tdb-menu-sub-inline .tdb-normal-menu ul li,\\r\\n                .tdb_header_menu.tdb-menu-sub-inline .td-pulldown-filter-list li{\\r\\n                  display: inline-block;\\r\\n                  width: auto !important;\\r\\n                }.tdb_header_menu.tdb-menu-sub-inline .tdb-normal-menu,\\r\\n                .tdb_header_menu.tdb-menu-sub-inline .tdb-normal-menu .tdb-menu-item{\\r\\n                  position: static;\\r\\n                }.tdb_header_menu.tdb-menu-sub-inline .tdb-normal-menu ul ul{\\r\\n                  margin-top: 0 !important;\\r\\n                }.tdb_header_menu.tdb-menu-sub-inline .tdb-normal-menu > ul{\\r\\n                  left: 0 !important;\\r\\n                }.tdb_header_menu.tdb-menu-sub-inline .tdb-normal-menu .tdb-menu-item > a .tdb-sub-menu-icon{\\r\\n                  float: none;\\r\\n                  line-height: 1;\\r\\n                }.tdb_header_menu.tdb-menu-sub-inline .tdb-normal-menu .tdb-menu-item:hover > ul,\\r\\n                .tdb_header_menu.tdb-menu-sub-inline .tdb-normal-menu .tdb-menu-item.tdb-hover > ul{\\r\\n                  top: 100%;\\r\\n                }.tdb_header_menu.tdb-menu-sub-inline .tdb-menu-items-dropdown{\\r\\n                  position: static;\\r\\n                }.tdb_header_menu.tdb-menu-sub-inline .td-pulldown-filter-list{\\r\\n                  left: 0 !important;\\r\\n                }.tdb-menu .tdb-mega-menu .sub-menu{\\r\\n                  -webkit-transition: opacity 0.3s ease;\\r\\n                  transition: opacity 0.3s ease;\\r\\n                  width: 1114px !important;\\r\\n                }.tdb-menu .tdb-mega-menu .sub-menu,\\r\\n                .tdb-menu .tdb-mega-menu .sub-menu > li{\\r\\n                  position: absolute;\\r\\n                  left: 50%;\\r\\n                  -webkit-transform: translateX(-50%);\\r\\n                  transform: translateX(-50%);\\r\\n                }.tdb-menu .tdb-mega-menu .sub-menu > li{\\r\\n                  top: 0;\\r\\n                  width: 100%;\\r\\n                  max-width: 1114px !important;\\r\\n                  height: auto;\\r\\n                  background-color: #fff;\\r\\n                  border: 1px solid #eaeaea;\\r\\n                  overflow: hidden;\\r\\n                }.tdc-dragged .tdb-block-menu ul{\\r\\n                  visibility: hidden !important;\\r\\n                  opacity: 0 !important;\\r\\n                  -webkit-transition: all 0.3s ease;\\r\\n                  transition: all 0.3s ease;\\r\\n                }.tdb-mm-align-screen .tdb-menu .tdb-mega-menu .sub-menu{\\r\\n                  -webkit-transform: translateX(0);\\r\\n                  transform: translateX(0);\\r\\n                }.tdb-mm-align-parent .tdb-menu .tdb-mega-menu{\\r\\n                  position: relative;\\r\\n                }.tdi_48{\\r\\n                    display: inline-block;\\r\\n                }.tdi_48 .tdb-menu > li .tdb-menu-sep,\\r\\n                .tdi_48 .tdb-menu-items-dropdown .tdb-menu-sep{\\r\\n                    top: -1px;\\r\\n                }.tdi_48 .tdb-menu > li > a .tdb-sub-menu-icon,\\r\\n                .tdi_48 .td-subcat-more .tdb-menu-more-subicon{\\r\\n                    top: -1px;\\r\\n                }.tdi_48 .td-subcat-more .tdb-menu-more-icon{\\r\\n                    top: 0px;\\r\\n                }.tdi_48 .tdb-normal-menu ul .tdb-menu-item > a .tdb-sub-menu-icon,\\r\\n                .tdi_48 .td-pulldown-filter-list .tdb-menu-item > a .tdb-sub-menu-icon{\\r\\n                    right: 0;\\r\\n                \\r\\n                    margin-top: 1px;\\r\\n                }.tdi_48 .tdb-menu .tdb-normal-menu ul,\\r\\n                .tdi_48 .td-pulldown-filter-list,\\r\\n                .tdi_48 .td-pulldown-filter-list .sub-menu{\\r\\n                    box-shadow:  1px 1px 4px 0px rgba(0, 0, 0, 0.15);\\r\\n                }.tdi_48:not(.tdb-mm-align-screen) .tdb-mega-menu .sub-menu,\\r\\n                .tdi_48 .tdb-mega-menu .sub-menu > li{\\r\\n                    max-width: 1300px !important;\\r\\n                }.tdi_48 .tdb-mega-menu .tdb_header_mega_menu{\\r\\n                    min-height: 345px;\\r\\n                }.tdi_48 .tdb-menu .tdb-mega-menu .sub-menu > li{\\r\\n\\t\\t\\t\\t\\tbox-shadow:  0px 2px 6px 0px rgba(0, 0, 0, 0.1);\\r\\n\\t\\t\\t\\t}@media (max-width: 1140px) {\\r\\n                  .tdb-menu .tdb-mega-menu .sub-menu > li {\\r\\n                    width: 100% !important;\\r\\n                  }\\r\\n                }\\n\\n/* landscape */\\n@media (min-width: 1019px) and (max-width: 1140px){\\n.tdi_48 .tdb-mega-menu .tdb_header_mega_menu{\\r\\n                    min-height: 300px;\\r\\n                }\\n}\\n\\n/* portrait */\\n@media (min-width: 768px) and (max-width: 1018px){\\n.tdi_48 .tdb-menu > li > a,\\r\\n                .tdi_48 .td-subcat-more{\\r\\n                    padding: 0 12px;\\r\\n                }.tdi_48 .tdb-menu > li > a,\\r\\n                .tdi_48 .td-subcat-more,\\r\\n                .tdi_48 .td-subcat-more > .tdb-menu-item-text{\\r\\n                    font-size:11px !important;line-height:48px !important;\\r\\n                }.tdi_48 .tdb-mega-menu .tdb_header_mega_menu{\\r\\n                    min-height: 240px;\\r\\n                }\\n}\\n</style>\\n<style>\\n.tdi_48 .tdb-menu > li > a:after,\\r\\n\\t\\t\\t\\t.tdi_48 .tdb-menu-items-dropdown .td-subcat-more:after{\\r\\n\\t\\t\\t\\t\\tbackground-color:     ;\\r\\n\\t\\t\\t\\t\\r\\n\\t\\t\\t\\t\\tbottom: 0px;\\r\\n\\t\\t\\t\\t}\\n</style>\\n<style>\\n\\n</style><div id=tdi_48 class=\"td_block_inner td-fix-index\"><div class=\"tdb-main-sub-icon-fake\"><i class=\"tdb-sub-menu-icon td-icon-down tdb-main-sub-menu-icon\"></i></div><div class=\"tdb-sub-icon-fake\"><i class=\"tdb-sub-menu-icon td-icon-right-arrow\"></i></div><ul id=\"menu-main-4\" class=\"tdb-block-menu tdb-menu tdb-menu-items-visible\"><li class=\"menu-item menu-item-type-taxonomy menu-item-object-category tdb-cur-menu-item menu-item-first tdb-menu-item-button tdb-menu-item tdb-mega-menu tdb-mega-menu-inactive tdb-mega-menu-cats-first menu-item-4058\"><a href=\"https://insights.blackcoffer.com/category/our-success-stories/\"><div class=\"tdb-menu-item-text\">Our Success Stories</div><i class=\"tdb-sub-menu-icon td-icon-down tdb-main-sub-menu-icon\"></i></a>\\n<ul class=\"sub-menu\">\\n\\t<li class=\"menu-item-0\"><div class=\"tdb-menu-item-text\"><div class=\"tdb_header_mega_menu tdi_51 td_with_ajax_pagination td-pb-border-top td_block_template_1\"  data-td-block-uid=\"tdi_51\" >\\n<style>\\n/* custom css */\\n.tdb_module_header{\\r\\n                  width: 100%;\\r\\n                  padding-bottom: 0;\\r\\n                }.tdb_module_header .td-module-container{\\r\\n                  display: flex;\\r\\n                  flex-direction: column;\\r\\n                  position: relative;\\r\\n                }.tdb_module_header .td-module-container:before{\\r\\n                  content: \\'\\';\\r\\n                  position: absolute;\\r\\n                  bottom: 0;\\r\\n                  left: 0;\\r\\n                  width: 100%;\\r\\n                  height: 1px;\\r\\n                }.tdb_module_header .td-image-wrap{\\r\\n                  display: block;\\r\\n                  position: relative;\\r\\n                  padding-bottom: 70%;\\r\\n                }.tdb_module_header .td-image-container{\\r\\n                  position: relative;\\r\\n                  width: 100%;\\r\\n                  flex: 0 0 auto;\\r\\n                }.tdb_module_header .td-module-thumb{\\r\\n                  margin-bottom: 0;\\r\\n                }.tdb_module_header .td-module-meta-info{\\r\\n                  width: 100%;\\r\\n                  margin-bottom: 0;\\r\\n                  padding: 7px 0 0 0;\\r\\n                  z-index: 1;\\r\\n                  border: 0 solid #eaeaea;\\r\\n                  min-height: 0;\\r\\n                }.tdb_module_header .entry-title{\\r\\n                  margin: 0;\\r\\n                  font-size: 13px;\\r\\n                  font-weight: 500;\\r\\n                  line-height: 18px;\\r\\n                }.tdb_module_header .td-post-author-name,\\r\\n                .tdb_module_header .td-post-date,\\r\\n                .tdb_module_header .td-module-comments{\\r\\n                  vertical-align: text-top;\\r\\n                }.tdb_module_header .td-post-author-name,\\r\\n                .tdb_module_header .td-post-date{\\r\\n                  top: 3px;\\r\\n                }.tdb_module_header .td-thumb-css{\\r\\n                  width: 100%;\\r\\n                  height: 100%;\\r\\n                  position: absolute;\\r\\n                  background-size: cover;\\r\\n                  background-position: center center;\\r\\n                }.tdb_module_header .td-category-pos-image .td-post-category:not(.td-post-extra-category),\\r\\n                .tdb_module_header .td-post-vid-time{\\r\\n                  position: absolute;\\r\\n                  z-index: 2;\\r\\n                  bottom: 0;\\r\\n                }.tdb_module_header .td-category-pos-image .td-post-category:not(.td-post-extra-category){\\r\\n                  left: 0;\\r\\n                }.tdb_module_header .td-post-vid-time{\\r\\n                  right: 0;\\r\\n                  background-color: #000;\\r\\n                  padding: 3px 6px 4px;\\r\\n                  font-family: \\'Open Sans\\', \\'Open Sans Regular\\', sans-serif;\\r\\n                  font-size: 10px;\\r\\n                  font-weight: 600;\\r\\n                  line-height: 1;\\r\\n                  color: #fff;\\r\\n                }.tdb_module_header .td-excerpt{\\r\\n                  margin: 20px 0 0;\\r\\n                  line-height: 21px;\\r\\n                }.tdb_module_header .td-read-more{\\r\\n                  margin: 20px 0 0;\\r\\n                }.tdb_header_mega_menu{\\r\\n                  display: flex;\\r\\n                  overflow: visible;\\r\\n                }.tdb_header_mega_menu .block-mega-child-cats{\\r\\n                  position: relative;\\r\\n                  padding: 22px 0;\\r\\n                  width: 200px;\\r\\n                  max-height: none;\\r\\n                  vertical-align: top;\\r\\n                  text-align: left;\\r\\n                  overflow: visible;\\r\\n                }.tdb_header_mega_menu .block-mega-child-cats:before{\\r\\n                  content: \\'\\';\\r\\n                  position: absolute;\\r\\n                  top: 0;\\r\\n                  right: 0;\\r\\n                  width: 100vw;\\r\\n                  height: 100%;\\r\\n                  background-color: #fafafa;\\r\\n                  z-index: -1;\\r\\n                }.tdb_header_mega_menu .block-mega-child-cats:after{\\r\\n                  content: \\'\\';\\r\\n                  position: absolute;\\r\\n                  top: 0;\\r\\n                  left: 0;\\r\\n                  width: 100%;\\r\\n                  height: 100%;\\r\\n                  border-width: 0 1px 0 0;\\r\\n                  border-style: solid;\\r\\n                  border-color: #eaeaea;\\r\\n                }.tdb_header_mega_menu .block-mega-child-cats a{\\r\\n                  display: block;\\r\\n                  font-size: 13px;\\r\\n                  font-weight: 600;\\r\\n                  color: #333;\\r\\n                  padding: 5px 22px;\\r\\n                  position: relative;\\r\\n                  vertical-align: middle;\\r\\n                  border-width: 1px 0;\\r\\n                  border-style: solid;\\r\\n                  border-color: transparent;\\r\\n                  z-index: 99;\\r\\n                }.tdb_header_mega_menu .block-mega-child-cats .cur-sub-cat{\\r\\n                  background-color: #fff;\\r\\n                  color: #4db2ec;\\r\\n                  border-color: #eaeaea;\\r\\n                  z-index: 99;\\r\\n                }.tdb_header_mega_menu .td-next-prev-wrap{\\r\\n                  text-align: left;\\r\\n                }.tdb_header_mega_menu .td-next-prev-wrap a{\\r\\n                  width: auto;\\r\\n                  height: auto;\\r\\n                  min-width: 25px;\\r\\n                  min-height: 25px;\\r\\n                }.td-js-loaded .tdb_header_mega_menu .td-audio-player{\\r\\n                  visibility: inherit;\\r\\n                }.tdb-mega-modules-wrap{\\r\\n                  flex: 1;\\r\\n                  padding: 22px;\\r\\n                  display: flex;\\r\\n                  flex-direction: column;\\r\\n                  justify-content: space-between;\\r\\n                }.tdb-mega-modules-wrap .td_block_inner{\\r\\n                  *zoom: 1;\\r\\n                }.tdb-mega-modules-wrap .td_block_inner:before,\\r\\n                .tdb-mega-modules-wrap .td_block_inner:after{\\r\\n                  display: table;\\r\\n                  content: \\'\\';\\r\\n                  line-height: 0;\\r\\n                }.tdb-mega-modules-wrap .td_block_inner:after{\\r\\n                  clear: both;\\r\\n                }.tdb_module_mm .td-author-photo{\\r\\n                  display: inline-block;\\r\\n                }.tdb_module_mm .td-author-photo,\\r\\n                .tdb_module_mm .td-author-photo img{\\r\\n                  vertical-align: middle;\\r\\n                }.tdb_module_mm .td-module-meta-info{\\r\\n                  text-align: left;\\r\\n                }.tdi_51 .block-mega-child-cats{\\r\\n\\t\\t\\t\\t\\tpadding: 16px 0;\\r\\n\\t\\t\\t\\t\\r\\n\\t\\t\\t\\t\\ttext-align: right;\\r\\n\\t\\t\\t\\t}.tdi_51 .block-mega-child-cats:after{\\r\\n\\t\\t\\t\\t    border-width: 0 1px 0 0;\\r\\n\\t\\t\\t\\t}.tdi_51 .block-mega-child-cats a{\\r\\n\\t\\t\\t\\t\\tpadding: 2px 22px;\\r\\n\\t\\t\\t\\t\\r\\n\\t\\t\\t\\t\\tborder-width: 0 1px 0 0;\\r\\n\\t\\t\\t\\t\\r\\n\\t\\t\\t\\t\\tfont-size:13px !important;\\r\\n\\t\\t\\t\\t}.tdi_51 .block-mega-child-cats .cur-sub-cat{\\r\\n\\t\\t\\t\\t\\tborder-width: 0 1px 0 0;\\r\\n\\t\\t\\t\\t}.tdi_51:not(.td-no-subcats) .td_module_wrap{\\r\\n\\t\\t\\t\\t\\twidth: 25%;\\r\\n\\t\\t\\t\\t\\tfloat: left;\\r\\n\\t\\t\\t\\t}.td-md-is-safari .tdi_51:not(.td-no-subcats) .td_module_wrap{\\r\\n\\t\\t\\t\\t    margin-right: -1px;\\r\\n\\t\\t\\t\\t}.tdi_51.td-no-subcats .td_module_wrap{\\r\\n\\t\\t\\t\\t\\twidth: 20%;\\r\\n\\t\\t\\t\\t\\tfloat: left;\\r\\n\\t\\t\\t\\t}.td-md-is-safari .tdi_51.td-no-subcats .td_module_wrap{\\r\\n\\t\\t\\t\\t    margin-right: -1px;\\r\\n\\t\\t\\t\\t}.tdi_51 .td_module_wrap:nth-child(4n+1){\\r\\n\\t\\t\\t\\t\\tclear: both;\\r\\n\\t\\t\\t\\t}.tdi_51 .td_module_wrap:nth-last-child(-n+4){\\r\\n\\t\\t\\t\\t\\tmargin-bottom: 0;\\r\\n\\t\\t\\t\\t\\tpadding-bottom: 0;\\r\\n\\t\\t\\t\\t}.tdi_51 .td_module_wrap:nth-last-child(-n+4) .td-module-container:before{\\r\\n\\t\\t\\t\\t\\tdisplay: none;\\r\\n\\t\\t\\t\\t}.tdi_51 .td_module_wrap{\\r\\n\\t\\t\\t\\t\\tpadding-left: 11px;\\r\\n\\t\\t\\t\\t\\tpadding-right: 11px;\\r\\n\\t\\t\\t\\t\\r\\n\\t\\t\\t\\t\\tpadding-bottom: 13px;\\r\\n\\t\\t\\t\\t\\tmargin-bottom: 13px;\\r\\n\\t\\t\\t\\t\\r\\n\\t\\t\\t        display: flex;\\r\\n\\t\\t\\t        flex-direction: column;\\r\\n\\t\\t\\t    }.tdi_51 .td_block_inner{\\r\\n\\t\\t\\t\\t\\tmargin-left: -11px;\\r\\n\\t\\t\\t\\t\\tmargin-right: -11px;\\r\\n\\t\\t\\t\\t\\r\\n\\t\\t\\t        display: flex;\\r\\n\\t\\t\\t        flex-wrap: wrap;\\r\\n\\t\\t\\t    }.tdi_51 .td-module-container:before{\\r\\n\\t\\t\\t\\t\\tbottom: -13px;\\r\\n\\t\\t\\t\\t\\r\\n\\t\\t\\t\\t\\tborder-color: #eaeaea;\\r\\n\\t\\t\\t\\t}.tdi_51 .td-module-container{\\r\\n\\t\\t\\t\\t    border-color: #eaeaea;\\r\\n\\t\\t\\t\\t\\r\\n\\t\\t\\t\\t\\tflex-direction: column;\\r\\n\\t\\t\\t\\t\\r\\n\\t\\t\\t        flex: 1;\\r\\n                    flex-basis: auto;\\r\\n\\t\\t\\t    }.tdi_51 .entry-thumb{\\r\\n\\t\\t\\t\\t\\tbackground-position: center 50%;\\r\\n\\t\\t\\t\\t}.tdi_51 .td-image-container{\\r\\n                \\tdisplay: block; order: 0;\\r\\n                }.ie10 .tdi_51 .td-module-meta-info,\\r\\n\\t\\t\\t\\t.ie11 .tdi_51 .td-module-meta-info{\\r\\n\\t\\t\\t\\t \\tflex: auto;\\r\\n\\t\\t\\t    }.tdi_51 .td-post-vid-time{\\r\\n\\t\\t\\t\\t\\tdisplay: block;\\r\\n\\t\\t\\t\\t}.tdi_51 .entry-title{\\r\\n\\t\\t\\t\\t\\tmargin: 3px 0;\\r\\n\\t\\t\\t\\t\\r\\n\\t\\t\\t\\t\\tfont-size:15px !important;line-height:1.2 !important;\\r\\n\\t\\t\\t\\t}.tdi_51 .td-excerpt{\\r\\n\\t\\t\\t\\t\\tcolumn-count: 1;\\r\\n\\t\\t\\t\\t\\r\\n\\t\\t\\t\\t\\tcolumn-gap: 48px;\\r\\n\\t\\t\\t\\t\\r\\n\\t\\t\\t\\t\\tdisplay: none;\\r\\n\\t\\t\\t\\t}.tdi_51 .td-audio-player{\\r\\n\\t\\t\\t\\t\\tfont-size: 12px;\\r\\n\\t\\t\\t\\t\\r\\n\\t\\t\\t\\t\\topacity: 1;\\r\\n\\t\\t\\t\\t\\tvisibility: visible;\\r\\n\\t\\t\\t\\t\\theight: auto;\\r\\n\\t\\t\\t\\t}.tdi_51 .td-module-meta-info{\\r\\n\\t\\t\\t\\t\\tborder-color: #eaeaea;\\r\\n\\t\\t\\t\\t}.tdi_51 .td-post-category:not(.td-post-extra-category){\\r\\n\\t\\t\\t\\t\\tdisplay: inline-block;\\r\\n\\t\\t\\t\\t}.tdi_51 .td-author-date{\\r\\n\\t\\t\\t\\t\\tdisplay: inline;\\r\\n\\t\\t\\t\\t}.tdi_51 .td-post-author-name{\\r\\n\\t\\t\\t\\t\\tdisplay: none;\\r\\n\\t\\t\\t\\t}.tdi_51 .entry-review-stars{\\r\\n\\t\\t\\t\\t\\tdisplay: inline-block;\\r\\n\\t\\t\\t\\t}.tdi_51 .td-icon-star,\\r\\n                .tdi_51 .td-icon-star-empty,\\r\\n                .tdi_51 .td-icon-star-half{\\r\\n\\t\\t\\t\\t\\tfont-size: 15px;\\r\\n\\t\\t\\t\\t}.tdi_51 .td-module-comments{\\r\\n\\t\\t\\t\\t\\tdisplay: none;\\r\\n\\t\\t\\t\\t}.tdi_51 .td-author-photo .avatar{\\r\\n\\t\\t\\t\\t    width: 20px;\\r\\n\\t\\t\\t\\t    height: 20px;\\r\\n\\t\\t\\t\\t\\r\\n\\t\\t\\t\\t    margin-right: 6px;\\r\\n\\t\\t\\t\\t\\r\\n\\t\\t\\t\\t    border-radius: 50%;\\r\\n\\t\\t\\t\\t}.tdi_51:not(.td-no-subcats) .block-mega-child-cats:before{\\r\\n\\t\\t\\t\\t\\tbackground-color: #ffffff;\\r\\n\\t\\t\\t\\t}.tdi_51 .td-module-exclusive .td-module-title a:before{\\r\\n                    display: inline-block;\\r\\n                }html:not([class*=\\'ie\\']) .tdi_51 .td-module-container:hover .entry-thumb:before{\\r\\n                    opacity: 0;\\r\\n                }\\n\\n/* landscape */\\n@media (min-width: 1019px) and (max-width: 1140px){\\n.tdi_51 .block-mega-child-cats{\\r\\n\\t\\t\\t\\t\\twidth: 160px;\\r\\n\\t\\t\\t\\t}.tdi_51 .td_module_wrap{\\r\\n\\t\\t\\t\\t\\tpadding-bottom: 13px !important;\\r\\n\\t\\t\\t\\t\\tmargin-bottom: 13px !important;\\r\\n\\t\\t\\t\\t\\r\\n\\t\\t\\t\\t\\tclear: none !important;\\r\\n\\t\\t\\t\\t\\r\\n\\t\\t\\t\\t\\tpadding-bottom: 13px;\\r\\n\\t\\t\\t\\t\\tmargin-bottom: 13px;\\r\\n\\t\\t\\t\\t}.tdi_51 .td_module_wrap:nth-last-child(-n+4){\\r\\n\\t\\t\\t\\t\\tmargin-bottom: 0 !important;\\r\\n\\t\\t\\t\\t\\tpadding-bottom: 0 !important;\\r\\n\\t\\t\\t\\t}.tdi_51 .td_module_wrap .td-module-container:before{\\r\\n\\t\\t\\t\\t\\tdisplay: block !important;\\r\\n\\t\\t\\t\\t}.tdi_51 .td_module_wrap:nth-last-child(-n+4) .td-module-container:before{\\r\\n\\t\\t\\t\\t\\tdisplay: none !important;\\r\\n\\t\\t\\t\\t}.tdi_51 .td_module_wrap:nth-child(4n+1){\\r\\n\\t\\t\\t\\t\\tclear: both !important;\\r\\n\\t\\t\\t\\t}.tdi_51 .td-module-container:before{\\r\\n\\t\\t\\t\\t\\tbottom: -13px;\\r\\n\\t\\t\\t\\t}.tdi_51 .entry-title{\\r\\n\\t\\t\\t\\t\\tfont-size:14px !important;line-height:1.2 !important;\\r\\n\\t\\t\\t\\t}\\n}\\n\\n/* portrait */\\n@media (min-width: 768px) and (max-width: 1018px){\\n.tdi_51 .tdb-mega-modules-wrap{\\r\\n\\t\\t\\t\\t\\tpadding: 14px;\\r\\n\\t\\t\\t\\t}.tdi_51 .block-mega-child-cats{\\r\\n\\t\\t\\t\\t\\twidth: 140px;\\r\\n\\t\\t\\t\\t\\r\\n\\t\\t\\t\\t\\tpadding: 14px 0;\\r\\n\\t\\t\\t\\t}.tdi_51 .block-mega-child-cats a{\\r\\n\\t\\t\\t\\t\\tpadding: 0 14px;\\r\\n\\t\\t\\t\\t\\r\\n\\t\\t\\t\\t\\tfont-size:11px !important;\\r\\n\\t\\t\\t\\t}.tdi_51 .td_module_wrap{\\r\\n\\t\\t\\t\\t\\tpadding-bottom: 13px !important;\\r\\n\\t\\t\\t\\t\\tmargin-bottom: 13px !important;\\r\\n\\t\\t\\t\\t\\r\\n\\t\\t\\t\\t\\tclear: none !important;\\r\\n\\t\\t\\t\\t\\r\\n\\t\\t\\t\\t\\tpadding-left: 7px;\\r\\n\\t\\t\\t\\t\\tpadding-right: 7px;\\r\\n\\t\\t\\t\\t\\r\\n\\t\\t\\t\\t\\tpadding-bottom: 13px;\\r\\n\\t\\t\\t\\t\\tmargin-bottom: 13px;\\r\\n\\t\\t\\t\\t}.tdi_51 .td_module_wrap:nth-last-child(-n+4){\\r\\n\\t\\t\\t\\t\\tmargin-bottom: 0 !important;\\r\\n\\t\\t\\t\\t\\tpadding-bottom: 0 !important;\\r\\n\\t\\t\\t\\t}.tdi_51 .td_module_wrap .td-module-container:before{\\r\\n\\t\\t\\t\\t\\tdisplay: block !important;\\r\\n\\t\\t\\t\\t}.tdi_51 .td_module_wrap:nth-last-child(-n+4) .td-module-container:before{\\r\\n\\t\\t\\t\\t\\tdisplay: none !important;\\r\\n\\t\\t\\t\\t}.tdi_51 .td_module_wrap:nth-child(4n+1){\\r\\n\\t\\t\\t\\t\\tclear: both !important;\\r\\n\\t\\t\\t\\t}.tdi_51 .td_block_inner{\\r\\n\\t\\t\\t\\t\\tmargin-left: -7px;\\r\\n\\t\\t\\t\\t\\tmargin-right: -7px;\\r\\n\\t\\t\\t\\t}.tdi_51 .td-module-container:before{\\r\\n\\t\\t\\t\\t\\tbottom: -13px;\\r\\n\\t\\t\\t\\t}.tdi_51 .td-video-play-ico{\\r\\n\\t\\t\\t\\t\\twidth: 24px;\\r\\n\\t\\t\\t\\t\\theight: 24px;\\r\\n\\t\\t\\t\\t\\tfont-size: 24px;\\r\\n\\t\\t\\t\\t}.tdi_51 .entry-title{\\r\\n\\t\\t\\t\\t\\tfont-size:13px !important;line-height:1.2 !important;\\r\\n\\t\\t\\t\\t}\\n}\\n\\n/* phone */\\n@media (max-width: 767px){\\n.tdi_51 .td_module_wrap{\\r\\n\\t\\t\\t\\t\\tpadding-bottom: 13px !important;\\r\\n\\t\\t\\t\\t\\tmargin-bottom: 13px !important;\\r\\n\\t\\t\\t\\t\\r\\n\\t\\t\\t\\t\\tclear: none !important;\\r\\n\\t\\t\\t\\t\\r\\n\\t\\t\\t\\t\\tpadding-bottom: 13px;\\r\\n\\t\\t\\t\\t\\tmargin-bottom: 13px;\\r\\n\\t\\t\\t\\t}.tdi_51 .td_module_wrap:nth-last-child(-n+4){\\r\\n\\t\\t\\t\\t\\tmargin-bottom: 0 !important;\\r\\n\\t\\t\\t\\t\\tpadding-bottom: 0 !important;\\r\\n\\t\\t\\t\\t}.tdi_51 .td_module_wrap .td-module-container:before{\\r\\n\\t\\t\\t\\t\\tdisplay: block !important;\\r\\n\\t\\t\\t\\t}.tdi_51 .td_module_wrap:nth-last-child(-n+4) .td-module-container:before{\\r\\n\\t\\t\\t\\t\\tdisplay: none !important;\\r\\n\\t\\t\\t\\t}.tdi_51 .td_module_wrap:nth-child(4n+1){\\r\\n\\t\\t\\t\\t\\tclear: both !important;\\r\\n\\t\\t\\t\\t}.tdi_51 .td-module-container:before{\\r\\n\\t\\t\\t\\t\\tbottom: -13px;\\r\\n\\t\\t\\t\\t}\\n}\\n</style><script>var block_tdi_51 = new tdBlock();\\nblock_tdi_51.id = \"tdi_51\";\\nblock_tdi_51.atts = \\'{\"mc1_title_tag\":\"p\",\"main_sub_tdicon\":\"td-icon-down\",\"sub_tdicon\":\"td-icon-right-arrow\",\"mm_align_horiz\":\"content-horiz-center\",\"modules_on_row_regular\":\"20%\",\"modules_on_row_cats\":\"25%\",\"image_size\":\"td_324x400\",\"modules_category\":\"image\",\"show_excerpt\":\"none\",\"show_com\":\"none\",\"show_date\":\"\",\"show_author\":\"none\",\"mm_sub_align_horiz\":\"content-horiz-right\",\"mm_elem_align_horiz\":\"content-horiz-right\",\"inline\":\"yes\",\"menu_id\":\"\",\"mm_align_screen\":\"yes\",\"f_elem_font_family\":\"\",\"f_elem_font_size\":\"eyJwb3J0cmFpdCI6IjExIn0=\",\"mm_width\":\"1300\",\"mm_subcats_bg\":\"#ffffff\",\"mm_elem_border_a\":\"0 1px 0 0\",\"mm_elem_padd\":\"eyJhbGwiOiIycHggMjJweCIsInBvcnRyYWl0IjoiMCAxNHB4In0=\",\"mm_sub_padd\":\"eyJhbGwiOiIxNnB4IDAiLCJwb3J0cmFpdCI6IjE0cHggMCJ9\",\"f_title_font_size\":\"eyJhbGwiOiIxNSIsImxhbmRzY2FwZSI6IjE0IiwicG9ydHJhaXQiOiIxMyJ9\",\"f_title_font_line_height\":\"1.2\",\"art_title\":\"3px 0\",\"f_mm_sub_font_size\":\"eyJhbGwiOiIxMyIsInBvcnRyYWl0IjoiMTEifQ==\",\"mm_child_cats\":\"11\",\"mm_elem_border\":\"0 1px 0 0\",\"mm_height\":\"eyJhbGwiOiIzNDUiLCJsYW5kc2NhcGUiOiIzMDAiLCJwb3J0cmFpdCI6IjI0MCJ9\",\"mm_sub_width\":\"eyJsYW5kc2NhcGUiOiIxNjAiLCJwb3J0cmFpdCI6IjE0MCJ9\",\"mm_padd\":\"eyJwb3J0cmFpdCI6IjE0In0=\",\"modules_gap\":\"eyJwb3J0cmFpdCI6IjE0In0=\",\"elem_padd\":\"eyJwb3J0cmFpdCI6IjAgMTJweCJ9\",\"f_elem_font_line_height\":\"eyJwb3J0cmFpdCI6IjQ4cHgifQ==\",\"video_icon\":\"eyJwb3J0cmFpdCI6IjI0In0=\",\"all_modules_space\":\"26\",\"tds_menu_sub_active\":\"tds_menu_sub_active1\",\"tds_menu_sub_active2-line_color\":\"\",\"tds_menu_active\":\"tds_menu_active1\",\"block_type\":\"tdb_header_mega_menu\",\"show_subcat\":\"\",\"show_mega\":\"\",\"show_mega_cats\":\"\",\"separator\":\"\",\"width\":\"\",\"more\":\"\",\"float_right\":\"\",\"align_horiz\":\"content-horiz-left\",\"elem_space\":\"\",\"main_sub_icon_size\":\"\",\"main_sub_icon_space\":\"\",\"main_sub_icon_align\":\"-1\",\"sep_tdicon\":\"\",\"sep_icon_size\":\"\",\"sep_icon_space\":\"\",\"sep_icon_align\":\"-1\",\"more_txt\":\"\",\"more_tdicon\":\"\",\"more_icon_size\":\"\",\"more_icon_align\":\"0\",\"sub_width\":\"\",\"sub_first_left\":\"\",\"sub_rest_top\":\"\",\"sub_padd\":\"\",\"sub_align_horiz\":\"content-horiz-left\",\"sub_elem_inline\":\"\",\"sub_elem_space\":\"\",\"sub_elem_padd\":\"\",\"sub_elem_radius\":\"0\",\"sub_icon_size\":\"\",\"sub_icon_space\":\"\",\"sub_icon_pos\":\"\",\"sub_icon_align\":\"1\",\"mm_content_width\":\"\",\"mm_offset\":\"\",\"mm_posts_limit\":\"5\",\"mm_subcats_posts_limit\":\"4\",\"mm_ajax_preloading\":\"\",\"mm_hide_all_item\":\"\",\"mm_sub_border\":\"\",\"mm_sub_inline\":\"\",\"mm_elem_order\":\"name\",\"mm_elem_space\":\"\",\"mm_elem_border_rad\":\"\",\"mc1_tl\":\"\",\"mc1_el\":\"\",\"m_padding\":\"\",\"modules_border_size\":\"\",\"modules_border_style\":\"\",\"modules_border_color\":\"#eaeaea\",\"modules_divider\":\"\",\"modules_divider_color\":\"#eaeaea\",\"h_effect\":\"\",\"image_alignment\":\"50\",\"image_height\":\"\",\"image_width\":\"\",\"image_floated\":\"no_float\",\"image_radius\":\"\",\"hide_image\":\"\",\"show_vid_t\":\"block\",\"vid_t_margin\":\"\",\"vid_t_padding\":\"\",\"vid_t_color\":\"\",\"vid_t_bg_color\":\"\",\"f_vid_time_font_header\":\"\",\"f_vid_time_font_title\":\"Video duration text\",\"f_vid_time_font_settings\":\"\",\"f_vid_time_font_family\":\"\",\"f_vid_time_font_size\":\"\",\"f_vid_time_font_line_height\":\"\",\"f_vid_time_font_style\":\"\",\"f_vid_time_font_weight\":\"\",\"f_vid_time_font_transform\":\"\",\"f_vid_time_font_spacing\":\"\",\"f_vid_time_\":\"\",\"excl_show\":\"inline-block\",\"excl_txt\":\"\",\"excl_margin\":\"\",\"excl_padd\":\"\",\"all_excl_border\":\"\",\"all_excl_border_style\":\"solid\",\"excl_radius\":\"\",\"excl_color\":\"\",\"excl_color_h\":\"\",\"excl_bg\":\"\",\"excl_bg_h\":\"\",\"all_excl_border_color\":\"\",\"excl_border_color_h\":\"\",\"f_excl_font_header\":\"\",\"f_excl_font_title\":\"Label text\",\"f_excl_font_settings\":\"\",\"f_excl_font_family\":\"\",\"f_excl_font_size\":\"\",\"f_excl_font_line_height\":\"\",\"f_excl_font_style\":\"\",\"f_excl_font_weight\":\"\",\"f_excl_font_transform\":\"\",\"f_excl_font_spacing\":\"\",\"f_excl_\":\"\",\"show_audio\":\"block\",\"hide_audio\":\"\",\"art_audio\":\"\",\"art_audio_size\":\"1\",\"meta_info_align\":\"\",\"meta_info_horiz\":\"content-horiz-left\",\"meta_width\":\"\",\"meta_margin\":\"\",\"meta_padding\":\"\",\"meta_info_border_size\":\"\",\"meta_info_border_style\":\"\",\"meta_info_border_color\":\"#eaeaea\",\"modules_category_margin\":\"\",\"modules_category_padding\":\"\",\"modules_cat_border\":\"\",\"modules_category_radius\":\"0\",\"show_cat\":\"inline-block\",\"modules_extra_cat\":\"\",\"author_photo\":\"\",\"author_photo_size\":\"\",\"author_photo_space\":\"\",\"author_photo_radius\":\"\",\"show_modified_date\":\"\",\"time_ago\":\"\",\"time_ago_add_txt\":\"ago\",\"time_ago_txt_pos\":\"\",\"art_excerpt\":\"\",\"excerpt_col\":\"1\",\"excerpt_gap\":\"\",\"excerpt_middle\":\"\",\"show_review\":\"inline-block\",\"review_space\":\"\",\"review_size\":\"2.5\",\"review_distance\":\"\",\"show_pagination\":\"\",\"pag_space\":\"\",\"pag_padding\":\"\",\"pag_border_width\":\"\",\"pag_border_radius\":\"\",\"prev_tdicon\":\"\",\"next_tdicon\":\"\",\"pag_icons_size\":\"\",\"text_color\":\"\",\"main_sub_color\":\"\",\"sep_color\":\"\",\"more_icon_color\":\"\",\"hover_opacity\":\"\",\"f_elem_font_header\":\"\",\"f_elem_font_title\":\"Elements text\",\"f_elem_font_settings\":\"\",\"f_elem_font_style\":\"\",\"f_elem_font_weight\":\"\",\"f_elem_font_transform\":\"\",\"f_elem_font_spacing\":\"\",\"f_elem_\":\"\",\"sub_bg_color\":\"\",\"sub_border_size\":\"\",\"sub_border_color\":\"\",\"sub_text_color\":\"\",\"sub_elem_bg_color\":\"\",\"sub_color\":\"\",\"sub_shadow_shadow_header\":\"\",\"sub_shadow_shadow_title\":\"Shadow\",\"sub_shadow_shadow_size\":\"\",\"sub_shadow_shadow_offset_horizontal\":\"\",\"sub_shadow_shadow_offset_vertical\":\"\",\"sub_shadow_shadow_spread\":\"\",\"sub_shadow_shadow_color\":\"\",\"f_sub_elem_font_header\":\"\",\"f_sub_elem_font_title\":\"Elements text\",\"f_sub_elem_font_settings\":\"\",\"f_sub_elem_font_family\":\"\",\"f_sub_elem_font_size\":\"\",\"f_sub_elem_font_line_height\":\"\",\"f_sub_elem_font_style\":\"\",\"f_sub_elem_font_weight\":\"\",\"f_sub_elem_font_transform\":\"\",\"f_sub_elem_font_spacing\":\"\",\"f_sub_elem_\":\"\",\"mm_bg\":\"\",\"mm_border_size\":\"\",\"mm_border_color\":\"\",\"mm_shadow_shadow_header\":\"\",\"mm_shadow_shadow_title\":\"Shadow\",\"mm_shadow_shadow_size\":\"\",\"mm_shadow_shadow_offset_horizontal\":\"\",\"mm_shadow_shadow_offset_vertical\":\"\",\"mm_shadow_shadow_spread\":\"\",\"mm_shadow_shadow_color\":\"\",\"mm_subcats_border_color\":\"\",\"mm_elem_color\":\"\",\"mm_elem_color_a\":\"\",\"mm_elem_bg\":\"\",\"mm_elem_bg_a\":\"\",\"mm_elem_border_color\":\"\",\"mm_elem_border_color_a\":\"\",\"mm_elem_shadow_shadow_header\":\"\",\"mm_elem_shadow_shadow_title\":\"Elements shadow\",\"mm_elem_shadow_shadow_size\":\"\",\"mm_elem_shadow_shadow_offset_horizontal\":\"\",\"mm_elem_shadow_shadow_offset_vertical\":\"\",\"mm_elem_shadow_shadow_spread\":\"\",\"mm_elem_shadow_shadow_color\":\"\",\"f_mm_sub_font_header\":\"\",\"f_mm_sub_font_title\":\"Sub categories elements\",\"f_mm_sub_font_settings\":\"\",\"f_mm_sub_font_family\":\"\",\"f_mm_sub_font_line_height\":\"\",\"f_mm_sub_font_style\":\"\",\"f_mm_sub_font_weight\":\"\",\"f_mm_sub_font_transform\":\"\",\"f_mm_sub_font_spacing\":\"\",\"f_mm_sub_\":\"\",\"m_bg\":\"\",\"color_overlay\":\"\",\"shadow_shadow_header\":\"\",\"shadow_shadow_title\":\"Module Shadow\",\"shadow_shadow_size\":\"\",\"shadow_shadow_offset_horizontal\":\"\",\"shadow_shadow_offset_vertical\":\"\",\"shadow_shadow_spread\":\"\",\"shadow_shadow_color\":\"\",\"title_txt\":\"\",\"title_txt_hover\":\"\",\"all_underline_height\":\"\",\"all_underline_color\":\"#000\",\"cat_bg\":\"\",\"cat_bg_hover\":\"\",\"cat_txt\":\"\",\"cat_txt_hover\":\"\",\"cat_border\":\"\",\"cat_border_hover\":\"\",\"meta_bg\":\"\",\"author_txt\":\"\",\"author_txt_hover\":\"\",\"date_txt\":\"\",\"ex_txt\":\"\",\"com_bg\":\"\",\"com_txt\":\"\",\"rev_txt\":\"\",\"shadow_m_shadow_header\":\"\",\"shadow_m_shadow_title\":\"Meta info shadow\",\"shadow_m_shadow_size\":\"\",\"shadow_m_shadow_offset_horizontal\":\"\",\"shadow_m_shadow_offset_vertical\":\"\",\"shadow_m_shadow_spread\":\"\",\"shadow_m_shadow_color\":\"\",\"audio_btn_color\":\"\",\"audio_time_color\":\"\",\"audio_bar_color\":\"\",\"audio_bar_curr_color\":\"\",\"pag_text\":\"\",\"pag_h_text\":\"\",\"pag_bg\":\"\",\"pag_h_bg\":\"\",\"pag_border\":\"\",\"pag_h_border\":\"\",\"f_title_font_header\":\"\",\"f_title_font_title\":\"Article title\",\"f_title_font_settings\":\"\",\"f_title_font_family\":\"\",\"f_title_font_style\":\"\",\"f_title_font_weight\":\"\",\"f_title_font_transform\":\"\",\"f_title_font_spacing\":\"\",\"f_title_\":\"\",\"f_cat_font_title\":\"Article category tag\",\"f_cat_font_settings\":\"\",\"f_cat_font_family\":\"\",\"f_cat_font_size\":\"\",\"f_cat_font_line_height\":\"\",\"f_cat_font_style\":\"\",\"f_cat_font_weight\":\"\",\"f_cat_font_transform\":\"\",\"f_cat_font_spacing\":\"\",\"f_cat_\":\"\",\"f_meta_font_title\":\"Article meta info\",\"f_meta_font_settings\":\"\",\"f_meta_font_family\":\"\",\"f_meta_font_size\":\"\",\"f_meta_font_line_height\":\"\",\"f_meta_font_style\":\"\",\"f_meta_font_weight\":\"\",\"f_meta_font_transform\":\"\",\"f_meta_font_spacing\":\"\",\"f_meta_\":\"\",\"f_ex_font_title\":\"Article excerpt\",\"f_ex_font_settings\":\"\",\"f_ex_font_family\":\"\",\"f_ex_font_size\":\"\",\"f_ex_font_line_height\":\"\",\"f_ex_font_style\":\"\",\"f_ex_font_weight\":\"\",\"f_ex_font_transform\":\"\",\"f_ex_font_spacing\":\"\",\"f_ex_\":\"\",\"mix_color\":\"\",\"mix_type\":\"\",\"fe_brightness\":\"1\",\"fe_contrast\":\"1\",\"fe_saturate\":\"1\",\"mix_color_h\":\"\",\"mix_type_h\":\"\",\"fe_brightness_h\":\"1\",\"fe_contrast_h\":\"1\",\"fe_saturate_h\":\"1\",\"el_class\":\"\",\"block_template_id\":\"\",\"td_column_number\":3,\"header_color\":\"\",\"ajax_pagination_infinite_stop\":\"\",\"offset\":\"\",\"limit\":\"4\",\"td_ajax_preloading\":\"\",\"td_ajax_filter_type\":\"td_category_ids_filter\",\"td_filter_default_txt\":\"\",\"td_ajax_filter_ids\":\"\",\"color_preset\":\"\",\"ajax_pagination\":\"next_prev\",\"ajax_pagination_next_prev_swipe\":\"\",\"border_top\":\"\",\"css\":\"\",\"tdc_css_class\":\"tdi_51\",\"tdc_css_class_style\":\"tdi_51_rand_style\",\"category_id\":\"268\",\"subcats_posts_limit\":\"4\",\"child_cats_limit\":\"11\",\"hide_all\":\"\",\"tdc_css\":\"\",\"class\":\"tdi_51\"}\\';\\nblock_tdi_51.td_column_number = \"3\";\\nblock_tdi_51.block_type = \"tdb_header_mega_menu\";\\nblock_tdi_51.post_count = \"4\";\\nblock_tdi_51.found_posts = \"176\";\\nblock_tdi_51.header_color = \"\";\\nblock_tdi_51.ajax_pagination_infinite_stop = \"\";\\nblock_tdi_51.max_num_pages = \"44\";\\ntdBlocksArray.push(block_tdi_51);\\n</script><div class=\"block-mega-child-cats\"><a \\r\\n                        class=\"cur-sub-cat mega-menu-sub-cat-tdi_51\" \\r\\n                        id=\"tdi_52\" \\r\\n                        data-td_block_id=\"tdi_51\" \\r\\n                        data-td_filter_value=\"\" \\r\\n                        href=\"https://insights.blackcoffer.com/category/our-success-stories/\"\\r\\n                    >All</a><a \\r\\n                        class=\"mega-menu-sub-cat-tdi_51\" \\r\\n                        id=\"tdi_53\" \\r\\n                        data-td_block_id=\"tdi_51\" \\r\\n                        data-td_filter_value=\"274\" \\r\\n                        href=\"https://insights.blackcoffer.com/category/our-success-stories/banking-securities-and-insurance/\"\\r\\n                    >Banking, Financials, Securities, and Insurance</a><a \\r\\n                        class=\"mega-menu-sub-cat-tdi_51\" \\r\\n                        id=\"tdi_54\" \\r\\n                        data-td_block_id=\"tdi_51\" \\r\\n                        data-td_filter_value=\"273\" \\r\\n                        href=\"https://insights.blackcoffer.com/category/our-success-stories/energy-our-success-stories/\"\\r\\n                    >Energy</a><a \\r\\n                        class=\"mega-menu-sub-cat-tdi_51\" \\r\\n                        id=\"tdi_55\" \\r\\n                        data-td_block_id=\"tdi_51\" \\r\\n                        data-td_filter_value=\"279\" \\r\\n                        href=\"https://insights.blackcoffer.com/category/our-success-stories/entertainment-our-success-stories/\"\\r\\n                    >Entertainment</a><a \\r\\n                        class=\"mega-menu-sub-cat-tdi_51\" \\r\\n                        id=\"tdi_56\" \\r\\n                        data-td_block_id=\"tdi_51\" \\r\\n                        data-td_filter_value=\"275\" \\r\\n                        href=\"https://insights.blackcoffer.com/category/our-success-stories/fast-moving-consumer-goods/\"\\r\\n                    >Fast Moving Consumer Goods</a><a \\r\\n                        class=\"mega-menu-sub-cat-tdi_51\" \\r\\n                        id=\"tdi_57\" \\r\\n                        data-td_block_id=\"tdi_51\" \\r\\n                        data-td_filter_value=\"277\" \\r\\n                        href=\"https://insights.blackcoffer.com/category/our-success-stories/government-think-tanks/\"\\r\\n                    >Government &amp; Think Tanks</a><a \\r\\n                        class=\"mega-menu-sub-cat-tdi_51\" \\r\\n                        id=\"tdi_58\" \\r\\n                        data-td_block_id=\"tdi_51\" \\r\\n                        data-td_filter_value=\"272\" \\r\\n                        href=\"https://insights.blackcoffer.com/category/our-success-stories/healthcare-our-success-stories/\"\\r\\n                    >Healthcare</a><a \\r\\n                        class=\"mega-menu-sub-cat-tdi_51\" \\r\\n                        id=\"tdi_59\" \\r\\n                        data-td_block_id=\"tdi_51\" \\r\\n                        data-td_filter_value=\"281\" \\r\\n                        href=\"https://insights.blackcoffer.com/category/our-success-stories/infrastructure-real-estate/\"\\r\\n                    >Infrastructure &amp; Real Estate</a><a \\r\\n                        class=\"mega-menu-sub-cat-tdi_51\" \\r\\n                        id=\"tdi_60\" \\r\\n                        data-td_block_id=\"tdi_51\" \\r\\n                        data-td_filter_value=\"1264\" \\r\\n                        href=\"https://insights.blackcoffer.com/category/our-success-stories/it/\"\\r\\n                    >IT</a><a \\r\\n                        class=\"mega-menu-sub-cat-tdi_51\" \\r\\n                        id=\"tdi_61\" \\r\\n                        data-td_block_id=\"tdi_51\" \\r\\n                        data-td_filter_value=\"280\" \\r\\n                        href=\"https://insights.blackcoffer.com/category/our-success-stories/lifestyle-ecommerce-market-place/\"\\r\\n                    >Lifestyle, eCommerce &amp; Online Market Place</a><a \\r\\n                        class=\"mega-menu-sub-cat-tdi_51\" \\r\\n                        id=\"tdi_62\" \\r\\n                        data-td_block_id=\"tdi_51\" \\r\\n                        data-td_filter_value=\"278\" \\r\\n                        href=\"https://insights.blackcoffer.com/category/our-success-stories/production-manufacturing/\"\\r\\n                    >Production &amp; Manufacturing</a><a \\r\\n                        class=\"mega-menu-sub-cat-tdi_51\" \\r\\n                        id=\"tdi_63\" \\r\\n                        data-td_block_id=\"tdi_51\" \\r\\n                        data-td_filter_value=\"276\" \\r\\n                        href=\"https://insights.blackcoffer.com/category/our-success-stories/research-academia/\"\\r\\n                    >Research &amp; Academia</a></div><div class=\"tdb-mega-modules-wrap\"><div id=tdi_51 class=\"td_block_inner\">\\r\\n        <div class=\"tdb_module_header tdb_module_mm td_module_wrap td-animation-stack td-cpt-post\">\\r\\n            <div class=\"td-module-container td-category-pos-image\">\\r\\n                                    <div class=\"td-image-container\">\\r\\n                        <a href=\"https://insights.blackcoffer.com/category/our-success-stories/\" class=\"td-post-category\">Our Success Stories</a>                        <div class=\"td-module-thumb\"><a href=\"https://insights.blackcoffer.com/data-management-etl-and-data-automation/\" rel=\"bookmark\" class=\"td-image-wrap \" title=\"Data Management, ETL, and Data Automation\" ><span class=\"entry-thumb td-thumb-css\" data-type=\"css_image\" data-img-url=\"https://insights.blackcoffer.com/wp-content/uploads/2023/08/2-4-324x400.jpeg\"  ></span></a></div>                                            </div>\\r\\n                \\r\\n                <div class=\"td-module-meta-info\">\\r\\n                                        \\r\\n                    <p class=\"entry-title td-module-title\"><a href=\"https://insights.blackcoffer.com/data-management-etl-and-data-automation/\" rel=\"bookmark\" title=\"Data Management, ETL, and Data Automation\">Data Management, ETL, and Data Automation</a></p>\\r\\n                    \\r\\n                                            <div class=\"td-editor-date\">\\r\\n                                                        \\r\\n                                                            <span class=\"td-author-date\">\\r\\n                                    \\r\\n                                    <span class=\"td-post-date\"><time class=\"entry-date updated td-module-date\" datetime=\"2023-08-06T14:36:02+05:30\" >August 6, 2023</time></span>                                                                                                        </span>\\r\\n                                                    </div>\\r\\n                    \\r\\n                    \\r\\n                                    </div>\\r\\n            </div>\\r\\n        </div>\\r\\n\\r\\n        \\r\\n        <div class=\"tdb_module_header tdb_module_mm td_module_wrap td-animation-stack td-cpt-post\">\\r\\n            <div class=\"td-module-container td-category-pos-image\">\\r\\n                                    <div class=\"td-image-container\">\\r\\n                        <a href=\"https://insights.blackcoffer.com/category/our-success-stories/\" class=\"td-post-category\">Our Success Stories</a>                        <div class=\"td-module-thumb\"><a href=\"https://insights.blackcoffer.com/data-management-egeas/\" rel=\"bookmark\" class=\"td-image-wrap \" title=\"Data Management &#8211; EGEAS\" ><span class=\"entry-thumb td-thumb-css\" data-type=\"css_image\" data-img-url=\"https://insights.blackcoffer.com/wp-content/uploads/2023/08/2-1-324x400.webp\"  ></span></a></div>                                            </div>\\r\\n                \\r\\n                <div class=\"td-module-meta-info\">\\r\\n                                        \\r\\n                    <p class=\"entry-title td-module-title\"><a href=\"https://insights.blackcoffer.com/data-management-egeas/\" rel=\"bookmark\" title=\"Data Management &#8211; EGEAS\">Data Management &#8211; EGEAS</a></p>\\r\\n                    \\r\\n                                            <div class=\"td-editor-date\">\\r\\n                                                        \\r\\n                                                            <span class=\"td-author-date\">\\r\\n                                    \\r\\n                                    <span class=\"td-post-date\"><time class=\"entry-date updated td-module-date\" datetime=\"2023-08-06T14:31:16+05:30\" >August 6, 2023</time></span>                                                                                                        </span>\\r\\n                                                    </div>\\r\\n                    \\r\\n                    \\r\\n                                    </div>\\r\\n            </div>\\r\\n        </div>\\r\\n\\r\\n        \\r\\n        <div class=\"tdb_module_header tdb_module_mm td_module_wrap td-animation-stack td-cpt-post\">\\r\\n            <div class=\"td-module-container td-category-pos-image\">\\r\\n                                    <div class=\"td-image-container\">\\r\\n                        <a href=\"https://insights.blackcoffer.com/category/our-success-stories/\" class=\"td-post-category\">Our Success Stories</a>                        <div class=\"td-module-thumb\"><a href=\"https://insights.blackcoffer.com/design-and-develop-powershell-script/\" rel=\"bookmark\" class=\"td-image-wrap \" title=\"Design and develop PowerShell script\" ><span class=\"entry-thumb td-thumb-css\" data-type=\"css_image\" data-img-url=\"https://insights.blackcoffer.com/wp-content/uploads/2023/08/business-colleagues-in-conference-room-ZLGHU4J-min-scaled-1-324x400.jpg\"  ></span></a></div>                                            </div>\\r\\n                \\r\\n                <div class=\"td-module-meta-info\">\\r\\n                                        \\r\\n                    <p class=\"entry-title td-module-title\"><a href=\"https://insights.blackcoffer.com/design-and-develop-powershell-script/\" rel=\"bookmark\" title=\"Design and develop PowerShell script\">Design and develop PowerShell script</a></p>\\r\\n                    \\r\\n                                            <div class=\"td-editor-date\">\\r\\n                                                        \\r\\n                                                            <span class=\"td-author-date\">\\r\\n                                    \\r\\n                                    <span class=\"td-post-date\"><time class=\"entry-date updated td-module-date\" datetime=\"2023-08-06T14:27:39+05:30\" >August 6, 2023</time></span>                                                                                                        </span>\\r\\n                                                    </div>\\r\\n                    \\r\\n                    \\r\\n                                    </div>\\r\\n            </div>\\r\\n        </div>\\r\\n\\r\\n        \\r\\n        <div class=\"tdb_module_header tdb_module_mm td_module_wrap td-animation-stack td-cpt-post\">\\r\\n            <div class=\"td-module-container td-category-pos-image\">\\r\\n                                    <div class=\"td-image-container\">\\r\\n                        <a href=\"https://insights.blackcoffer.com/category/our-success-stories/\" class=\"td-post-category\">Our Success Stories</a>                        <div class=\"td-module-thumb\"><a href=\"https://insights.blackcoffer.com/design-and-develop-jenkins-shared-library/\" rel=\"bookmark\" class=\"td-image-wrap \" title=\"Design and develop Jenkins shared library\" ><span class=\"entry-thumb td-thumb-css\" data-type=\"css_image\" data-img-url=\"https://insights.blackcoffer.com/wp-content/uploads/2023/08/bg-section4-324x400.jpg\"  ></span></a></div>                                            </div>\\r\\n                \\r\\n                <div class=\"td-module-meta-info\">\\r\\n                                        \\r\\n                    <p class=\"entry-title td-module-title\"><a href=\"https://insights.blackcoffer.com/design-and-develop-jenkins-shared-library/\" rel=\"bookmark\" title=\"Design and develop Jenkins shared library\">Design and develop Jenkins shared library</a></p>\\r\\n                    \\r\\n                                            <div class=\"td-editor-date\">\\r\\n                                                        \\r\\n                                                            <span class=\"td-author-date\">\\r\\n                                    \\r\\n                                    <span class=\"td-post-date\"><time class=\"entry-date updated td-module-date\" datetime=\"2023-08-06T14:19:45+05:30\" >August 6, 2023</time></span>                                                                                                        </span>\\r\\n                                                    </div>\\r\\n                    \\r\\n                    \\r\\n                                    </div>\\r\\n            </div>\\r\\n        </div>\\r\\n\\r\\n        </div><div class=\"td-next-prev-wrap\"><a href=\"#\" class=\"td-ajax-prev-page ajax-page-disabled\" aria-label=\"prev-page\" id=\"prev-page-tdi_51\" data-td_block_id=\"tdi_51\"><i class=\"td-next-prev-icon td-icon-font td-icon-menu-left\"></i></a><a href=\"#\"  class=\"td-ajax-next-page\" aria-label=\"next-page\" id=\"next-page-tdi_51\" data-td_block_id=\"tdi_51\"><i class=\"td-next-prev-icon td-icon-font td-icon-menu-right\"></i></a></div></div></div> <!-- ./block1 --></div></li>\\n</ul>\\n</li>\\n<li class=\"menu-item menu-item-type-taxonomy menu-item-object-category tdb-menu-item-button tdb-menu-item tdb-mega-menu tdb-mega-menu-inactive menu-item-4059\"><a href=\"https://insights.blackcoffer.com/category/our-solutions/\"><div class=\"tdb-menu-item-text\">What We Do</div><i class=\"tdb-sub-menu-icon td-icon-down tdb-main-sub-menu-icon\"></i></a>\\n<ul class=\"sub-menu\">\\n\\t<li class=\"menu-item-0\"><div class=\"tdb-menu-item-text\"><div class=\"tdb_header_mega_menu tdi_64 td_with_ajax_pagination td-pb-border-top td_block_template_1\"  data-td-block-uid=\"tdi_64\" >\\n<style>\\n/* custom css */\\n.tdi_64 .block-mega-child-cats{\\r\\n\\t\\t\\t\\t\\tpadding: 16px 0;\\r\\n\\t\\t\\t\\t\\r\\n\\t\\t\\t\\t\\ttext-align: right;\\r\\n\\t\\t\\t\\t}.tdi_64 .block-mega-child-cats:after{\\r\\n\\t\\t\\t\\t    border-width: 0 1px 0 0;\\r\\n\\t\\t\\t\\t}.tdi_64 .block-mega-child-cats a{\\r\\n\\t\\t\\t\\t\\tpadding: 2px 22px;\\r\\n\\t\\t\\t\\t\\r\\n\\t\\t\\t\\t\\tborder-width: 0 1px 0 0;\\r\\n\\t\\t\\t\\t\\r\\n\\t\\t\\t\\t\\tfont-size:13px !important;\\r\\n\\t\\t\\t\\t}.tdi_64 .block-mega-child-cats .cur-sub-cat{\\r\\n\\t\\t\\t\\t\\tborder-width: 0 1px 0 0;\\r\\n\\t\\t\\t\\t}.tdi_64:not(.td-no-subcats) .td_module_wrap{\\r\\n\\t\\t\\t\\t\\twidth: 25%;\\r\\n\\t\\t\\t\\t\\tfloat: left;\\r\\n\\t\\t\\t\\t}.td-md-is-safari .tdi_64:not(.td-no-subcats) .td_module_wrap{\\r\\n\\t\\t\\t\\t    margin-right: -1px;\\r\\n\\t\\t\\t\\t}.tdi_64.td-no-subcats .td_module_wrap{\\r\\n\\t\\t\\t\\t\\twidth: 20%;\\r\\n\\t\\t\\t\\t\\tfloat: left;\\r\\n\\t\\t\\t\\t}.td-md-is-safari .tdi_64.td-no-subcats .td_module_wrap{\\r\\n\\t\\t\\t\\t    margin-right: -1px;\\r\\n\\t\\t\\t\\t}.tdi_64 .td_module_wrap:nth-child(4n+1){\\r\\n\\t\\t\\t\\t\\tclear: both;\\r\\n\\t\\t\\t\\t}.tdi_64 .td_module_wrap:nth-last-child(-n+4){\\r\\n\\t\\t\\t\\t\\tmargin-bottom: 0;\\r\\n\\t\\t\\t\\t\\tpadding-bottom: 0;\\r\\n\\t\\t\\t\\t}.tdi_64 .td_module_wrap:nth-last-child(-n+4) .td-module-container:before{\\r\\n\\t\\t\\t\\t\\tdisplay: none;\\r\\n\\t\\t\\t\\t}.tdi_64 .td_module_wrap{\\r\\n\\t\\t\\t\\t\\tpadding-left: 11px;\\r\\n\\t\\t\\t\\t\\tpadding-right: 11px;\\r\\n\\t\\t\\t\\t\\r\\n\\t\\t\\t\\t\\tpadding-bottom: 13px;\\r\\n\\t\\t\\t\\t\\tmargin-bottom: 13px;\\r\\n\\t\\t\\t\\t\\r\\n\\t\\t\\t        display: flex;\\r\\n\\t\\t\\t        flex-direction: column;\\r\\n\\t\\t\\t    }.tdi_64 .td_block_inner{\\r\\n\\t\\t\\t\\t\\tmargin-left: -11px;\\r\\n\\t\\t\\t\\t\\tmargin-right: -11px;\\r\\n\\t\\t\\t\\t\\r\\n\\t\\t\\t        display: flex;\\r\\n\\t\\t\\t        flex-wrap: wrap;\\r\\n\\t\\t\\t    }.tdi_64 .td-module-container:before{\\r\\n\\t\\t\\t\\t\\tbottom: -13px;\\r\\n\\t\\t\\t\\t\\r\\n\\t\\t\\t\\t\\tborder-color: #eaeaea;\\r\\n\\t\\t\\t\\t}.tdi_64 .td-module-container{\\r\\n\\t\\t\\t\\t    border-color: #eaeaea;\\r\\n\\t\\t\\t\\t\\r\\n\\t\\t\\t\\t\\tflex-direction: column;\\r\\n\\t\\t\\t\\t\\r\\n\\t\\t\\t        flex: 1;\\r\\n                    flex-basis: auto;\\r\\n\\t\\t\\t    }.tdi_64 .entry-thumb{\\r\\n\\t\\t\\t\\t\\tbackground-position: center 50%;\\r\\n\\t\\t\\t\\t}.tdi_64 .td-image-container{\\r\\n                \\tdisplay: block; order: 0;\\r\\n                }.ie10 .tdi_64 .td-module-meta-info,\\r\\n\\t\\t\\t\\t.ie11 .tdi_64 .td-module-meta-info{\\r\\n\\t\\t\\t\\t \\tflex: auto;\\r\\n\\t\\t\\t    }.tdi_64 .td-post-vid-time{\\r\\n\\t\\t\\t\\t\\tdisplay: block;\\r\\n\\t\\t\\t\\t}.tdi_64 .entry-title{\\r\\n\\t\\t\\t\\t\\tmargin: 3px 0;\\r\\n\\t\\t\\t\\t\\r\\n\\t\\t\\t\\t\\tfont-size:15px !important;line-height:1.2 !important;\\r\\n\\t\\t\\t\\t}.tdi_64 .td-excerpt{\\r\\n\\t\\t\\t\\t\\tcolumn-count: 1;\\r\\n\\t\\t\\t\\t\\r\\n\\t\\t\\t\\t\\tcolumn-gap: 48px;\\r\\n\\t\\t\\t\\t\\r\\n\\t\\t\\t\\t\\tdisplay: none;\\r\\n\\t\\t\\t\\t}.tdi_64 .td-audio-player{\\r\\n\\t\\t\\t\\t\\tfont-size: 12px;\\r\\n\\t\\t\\t\\t\\r\\n\\t\\t\\t\\t\\topacity: 1;\\r\\n\\t\\t\\t\\t\\tvisibility: visible;\\r\\n\\t\\t\\t\\t\\theight: auto;\\r\\n\\t\\t\\t\\t}.tdi_64 .td-module-meta-info{\\r\\n\\t\\t\\t\\t\\tborder-color: #eaeaea;\\r\\n\\t\\t\\t\\t}.tdi_64 .td-post-category:not(.td-post-extra-category){\\r\\n\\t\\t\\t\\t\\tdisplay: inline-block;\\r\\n\\t\\t\\t\\t}.tdi_64 .td-author-date{\\r\\n\\t\\t\\t\\t\\tdisplay: inline;\\r\\n\\t\\t\\t\\t}.tdi_64 .td-post-author-name{\\r\\n\\t\\t\\t\\t\\tdisplay: none;\\r\\n\\t\\t\\t\\t}.tdi_64 .entry-review-stars{\\r\\n\\t\\t\\t\\t\\tdisplay: inline-block;\\r\\n\\t\\t\\t\\t}.tdi_64 .td-icon-star,\\r\\n                .tdi_64 .td-icon-star-empty,\\r\\n                .tdi_64 .td-icon-star-half{\\r\\n\\t\\t\\t\\t\\tfont-size: 15px;\\r\\n\\t\\t\\t\\t}.tdi_64 .td-module-comments{\\r\\n\\t\\t\\t\\t\\tdisplay: none;\\r\\n\\t\\t\\t\\t}.tdi_64 .td-author-photo .avatar{\\r\\n\\t\\t\\t\\t    width: 20px;\\r\\n\\t\\t\\t\\t    height: 20px;\\r\\n\\t\\t\\t\\t\\r\\n\\t\\t\\t\\t    margin-right: 6px;\\r\\n\\t\\t\\t\\t\\r\\n\\t\\t\\t\\t    border-radius: 50%;\\r\\n\\t\\t\\t\\t}.tdi_64:not(.td-no-subcats) .block-mega-child-cats:before{\\r\\n\\t\\t\\t\\t\\tbackground-color: #ffffff;\\r\\n\\t\\t\\t\\t}.tdi_64 .td-module-exclusive .td-module-title a:before{\\r\\n                    display: inline-block;\\r\\n                }html:not([class*=\\'ie\\']) .tdi_64 .td-module-container:hover .entry-thumb:before{\\r\\n                    opacity: 0;\\r\\n                }\\n\\n/* landscape */\\n@media (min-width: 1019px) and (max-width: 1140px){\\n.tdi_64 .block-mega-child-cats{\\r\\n\\t\\t\\t\\t\\twidth: 160px;\\r\\n\\t\\t\\t\\t}.tdi_64 .td_module_wrap{\\r\\n\\t\\t\\t\\t\\tpadding-bottom: 13px !important;\\r\\n\\t\\t\\t\\t\\tmargin-bottom: 13px !important;\\r\\n\\t\\t\\t\\t\\r\\n\\t\\t\\t\\t\\tclear: none !important;\\r\\n\\t\\t\\t\\t\\r\\n\\t\\t\\t\\t\\tpadding-bottom: 13px;\\r\\n\\t\\t\\t\\t\\tmargin-bottom: 13px;\\r\\n\\t\\t\\t\\t}.tdi_64 .td_module_wrap:nth-last-child(-n+4){\\r\\n\\t\\t\\t\\t\\tmargin-bottom: 0 !important;\\r\\n\\t\\t\\t\\t\\tpadding-bottom: 0 !important;\\r\\n\\t\\t\\t\\t}.tdi_64 .td_module_wrap .td-module-container:before{\\r\\n\\t\\t\\t\\t\\tdisplay: block !important;\\r\\n\\t\\t\\t\\t}.tdi_64 .td_module_wrap:nth-last-child(-n+4) .td-module-container:before{\\r\\n\\t\\t\\t\\t\\tdisplay: none !important;\\r\\n\\t\\t\\t\\t}.tdi_64 .td_module_wrap:nth-child(4n+1){\\r\\n\\t\\t\\t\\t\\tclear: both !important;\\r\\n\\t\\t\\t\\t}.tdi_64 .td-module-container:before{\\r\\n\\t\\t\\t\\t\\tbottom: -13px;\\r\\n\\t\\t\\t\\t}.tdi_64 .entry-title{\\r\\n\\t\\t\\t\\t\\tfont-size:14px !important;line-height:1.2 !important;\\r\\n\\t\\t\\t\\t}\\n}\\n\\n/* portrait */\\n@media (min-width: 768px) and (max-width: 1018px){\\n.tdi_64 .tdb-mega-modules-wrap{\\r\\n\\t\\t\\t\\t\\tpadding: 14px;\\r\\n\\t\\t\\t\\t}.tdi_64 .block-mega-child-cats{\\r\\n\\t\\t\\t\\t\\twidth: 140px;\\r\\n\\t\\t\\t\\t\\r\\n\\t\\t\\t\\t\\tpadding: 14px 0;\\r\\n\\t\\t\\t\\t}.tdi_64 .block-mega-child-cats a{\\r\\n\\t\\t\\t\\t\\tpadding: 0 14px;\\r\\n\\t\\t\\t\\t\\r\\n\\t\\t\\t\\t\\tfont-size:11px !important;\\r\\n\\t\\t\\t\\t}.tdi_64 .td_module_wrap{\\r\\n\\t\\t\\t\\t\\tpadding-bottom: 13px !important;\\r\\n\\t\\t\\t\\t\\tmargin-bottom: 13px !important;\\r\\n\\t\\t\\t\\t\\r\\n\\t\\t\\t\\t\\tclear: none !important;\\r\\n\\t\\t\\t\\t\\r\\n\\t\\t\\t\\t\\tpadding-left: 7px;\\r\\n\\t\\t\\t\\t\\tpadding-right: 7px;\\r\\n\\t\\t\\t\\t\\r\\n\\t\\t\\t\\t\\tpadding-bottom: 13px;\\r\\n\\t\\t\\t\\t\\tmargin-bottom: 13px;\\r\\n\\t\\t\\t\\t}.tdi_64 .td_module_wrap:nth-last-child(-n+4){\\r\\n\\t\\t\\t\\t\\tmargin-bottom: 0 !important;\\r\\n\\t\\t\\t\\t\\tpadding-bottom: 0 !important;\\r\\n\\t\\t\\t\\t}.tdi_64 .td_module_wrap .td-module-container:before{\\r\\n\\t\\t\\t\\t\\tdisplay: block !important;\\r\\n\\t\\t\\t\\t}.tdi_64 .td_module_wrap:nth-last-child(-n+4) .td-module-container:before{\\r\\n\\t\\t\\t\\t\\tdisplay: none !important;\\r\\n\\t\\t\\t\\t}.tdi_64 .td_module_wrap:nth-child(4n+1){\\r\\n\\t\\t\\t\\t\\tclear: both !important;\\r\\n\\t\\t\\t\\t}.tdi_64 .td_block_inner{\\r\\n\\t\\t\\t\\t\\tmargin-left: -7px;\\r\\n\\t\\t\\t\\t\\tmargin-right: -7px;\\r\\n\\t\\t\\t\\t}.tdi_64 .td-module-container:before{\\r\\n\\t\\t\\t\\t\\tbottom: -13px;\\r\\n\\t\\t\\t\\t}.tdi_64 .td-video-play-ico{\\r\\n\\t\\t\\t\\t\\twidth: 24px;\\r\\n\\t\\t\\t\\t\\theight: 24px;\\r\\n\\t\\t\\t\\t\\tfont-size: 24px;\\r\\n\\t\\t\\t\\t}.tdi_64 .entry-title{\\r\\n\\t\\t\\t\\t\\tfont-size:13px !important;line-height:1.2 !important;\\r\\n\\t\\t\\t\\t}\\n}\\n\\n/* phone */\\n@media (max-width: 767px){\\n.tdi_64 .td_module_wrap{\\r\\n\\t\\t\\t\\t\\tpadding-bottom: 13px !important;\\r\\n\\t\\t\\t\\t\\tmargin-bottom: 13px !important;\\r\\n\\t\\t\\t\\t\\r\\n\\t\\t\\t\\t\\tclear: none !important;\\r\\n\\t\\t\\t\\t\\r\\n\\t\\t\\t\\t\\tpadding-bottom: 13px;\\r\\n\\t\\t\\t\\t\\tmargin-bottom: 13px;\\r\\n\\t\\t\\t\\t}.tdi_64 .td_module_wrap:nth-last-child(-n+4){\\r\\n\\t\\t\\t\\t\\tmargin-bottom: 0 !important;\\r\\n\\t\\t\\t\\t\\tpadding-bottom: 0 !important;\\r\\n\\t\\t\\t\\t}.tdi_64 .td_module_wrap .td-module-container:before{\\r\\n\\t\\t\\t\\t\\tdisplay: block !important;\\r\\n\\t\\t\\t\\t}.tdi_64 .td_module_wrap:nth-last-child(-n+4) .td-module-container:before{\\r\\n\\t\\t\\t\\t\\tdisplay: none !important;\\r\\n\\t\\t\\t\\t}.tdi_64 .td_module_wrap:nth-child(4n+1){\\r\\n\\t\\t\\t\\t\\tclear: both !important;\\r\\n\\t\\t\\t\\t}.tdi_64 .td-module-container:before{\\r\\n\\t\\t\\t\\t\\tbottom: -13px;\\r\\n\\t\\t\\t\\t}\\n}\\n</style><script>var block_tdi_64 = new tdBlock();\\nblock_tdi_64.id = \"tdi_64\";\\nblock_tdi_64.atts = \\'{\"mc1_title_tag\":\"p\",\"main_sub_tdicon\":\"td-icon-down\",\"sub_tdicon\":\"td-icon-right-arrow\",\"mm_align_horiz\":\"content-horiz-center\",\"modules_on_row_regular\":\"20%\",\"modules_on_row_cats\":\"25%\",\"image_size\":\"td_324x400\",\"modules_category\":\"image\",\"show_excerpt\":\"none\",\"show_com\":\"none\",\"show_date\":\"\",\"show_author\":\"none\",\"mm_sub_align_horiz\":\"content-horiz-right\",\"mm_elem_align_horiz\":\"content-horiz-right\",\"inline\":\"yes\",\"menu_id\":\"\",\"mm_align_screen\":\"yes\",\"f_elem_font_family\":\"\",\"f_elem_font_size\":\"eyJwb3J0cmFpdCI6IjExIn0=\",\"mm_width\":\"1300\",\"mm_subcats_bg\":\"#ffffff\",\"mm_elem_border_a\":\"0 1px 0 0\",\"mm_elem_padd\":\"eyJhbGwiOiIycHggMjJweCIsInBvcnRyYWl0IjoiMCAxNHB4In0=\",\"mm_sub_padd\":\"eyJhbGwiOiIxNnB4IDAiLCJwb3J0cmFpdCI6IjE0cHggMCJ9\",\"f_title_font_size\":\"eyJhbGwiOiIxNSIsImxhbmRzY2FwZSI6IjE0IiwicG9ydHJhaXQiOiIxMyJ9\",\"f_title_font_line_height\":\"1.2\",\"art_title\":\"3px 0\",\"f_mm_sub_font_size\":\"eyJhbGwiOiIxMyIsInBvcnRyYWl0IjoiMTEifQ==\",\"mm_child_cats\":\"11\",\"mm_elem_border\":\"0 1px 0 0\",\"mm_height\":\"eyJhbGwiOiIzNDUiLCJsYW5kc2NhcGUiOiIzMDAiLCJwb3J0cmFpdCI6IjI0MCJ9\",\"mm_sub_width\":\"eyJsYW5kc2NhcGUiOiIxNjAiLCJwb3J0cmFpdCI6IjE0MCJ9\",\"mm_padd\":\"eyJwb3J0cmFpdCI6IjE0In0=\",\"modules_gap\":\"eyJwb3J0cmFpdCI6IjE0In0=\",\"elem_padd\":\"eyJwb3J0cmFpdCI6IjAgMTJweCJ9\",\"f_elem_font_line_height\":\"eyJwb3J0cmFpdCI6IjQ4cHgifQ==\",\"video_icon\":\"eyJwb3J0cmFpdCI6IjI0In0=\",\"all_modules_space\":\"26\",\"tds_menu_sub_active\":\"tds_menu_sub_active1\",\"tds_menu_sub_active2-line_color\":\"\",\"tds_menu_active\":\"tds_menu_active1\",\"block_type\":\"tdb_header_mega_menu\",\"show_subcat\":\"\",\"show_mega\":\"\",\"show_mega_cats\":\"\",\"separator\":\"\",\"width\":\"\",\"more\":\"\",\"float_right\":\"\",\"align_horiz\":\"content-horiz-left\",\"elem_space\":\"\",\"main_sub_icon_size\":\"\",\"main_sub_icon_space\":\"\",\"main_sub_icon_align\":\"-1\",\"sep_tdicon\":\"\",\"sep_icon_size\":\"\",\"sep_icon_space\":\"\",\"sep_icon_align\":\"-1\",\"more_txt\":\"\",\"more_tdicon\":\"\",\"more_icon_size\":\"\",\"more_icon_align\":\"0\",\"sub_width\":\"\",\"sub_first_left\":\"\",\"sub_rest_top\":\"\",\"sub_padd\":\"\",\"sub_align_horiz\":\"content-horiz-left\",\"sub_elem_inline\":\"\",\"sub_elem_space\":\"\",\"sub_elem_padd\":\"\",\"sub_elem_radius\":\"0\",\"sub_icon_size\":\"\",\"sub_icon_space\":\"\",\"sub_icon_pos\":\"\",\"sub_icon_align\":\"1\",\"mm_content_width\":\"\",\"mm_offset\":\"\",\"mm_posts_limit\":\"5\",\"mm_subcats_posts_limit\":\"4\",\"mm_ajax_preloading\":\"\",\"mm_hide_all_item\":\"\",\"mm_sub_border\":\"\",\"mm_sub_inline\":\"\",\"mm_elem_order\":\"name\",\"mm_elem_space\":\"\",\"mm_elem_border_rad\":\"\",\"mc1_tl\":\"\",\"mc1_el\":\"\",\"m_padding\":\"\",\"modules_border_size\":\"\",\"modules_border_style\":\"\",\"modules_border_color\":\"#eaeaea\",\"modules_divider\":\"\",\"modules_divider_color\":\"#eaeaea\",\"h_effect\":\"\",\"image_alignment\":\"50\",\"image_height\":\"\",\"image_width\":\"\",\"image_floated\":\"no_float\",\"image_radius\":\"\",\"hide_image\":\"\",\"show_vid_t\":\"block\",\"vid_t_margin\":\"\",\"vid_t_padding\":\"\",\"vid_t_color\":\"\",\"vid_t_bg_color\":\"\",\"f_vid_time_font_header\":\"\",\"f_vid_time_font_title\":\"Video duration text\",\"f_vid_time_font_settings\":\"\",\"f_vid_time_font_family\":\"\",\"f_vid_time_font_size\":\"\",\"f_vid_time_font_line_height\":\"\",\"f_vid_time_font_style\":\"\",\"f_vid_time_font_weight\":\"\",\"f_vid_time_font_transform\":\"\",\"f_vid_time_font_spacing\":\"\",\"f_vid_time_\":\"\",\"excl_show\":\"inline-block\",\"excl_txt\":\"\",\"excl_margin\":\"\",\"excl_padd\":\"\",\"all_excl_border\":\"\",\"all_excl_border_style\":\"solid\",\"excl_radius\":\"\",\"excl_color\":\"\",\"excl_color_h\":\"\",\"excl_bg\":\"\",\"excl_bg_h\":\"\",\"all_excl_border_color\":\"\",\"excl_border_color_h\":\"\",\"f_excl_font_header\":\"\",\"f_excl_font_title\":\"Label text\",\"f_excl_font_settings\":\"\",\"f_excl_font_family\":\"\",\"f_excl_font_size\":\"\",\"f_excl_font_line_height\":\"\",\"f_excl_font_style\":\"\",\"f_excl_font_weight\":\"\",\"f_excl_font_transform\":\"\",\"f_excl_font_spacing\":\"\",\"f_excl_\":\"\",\"show_audio\":\"block\",\"hide_audio\":\"\",\"art_audio\":\"\",\"art_audio_size\":\"1\",\"meta_info_align\":\"\",\"meta_info_horiz\":\"content-horiz-left\",\"meta_width\":\"\",\"meta_margin\":\"\",\"meta_padding\":\"\",\"meta_info_border_size\":\"\",\"meta_info_border_style\":\"\",\"meta_info_border_color\":\"#eaeaea\",\"modules_category_margin\":\"\",\"modules_category_padding\":\"\",\"modules_cat_border\":\"\",\"modules_category_radius\":\"0\",\"show_cat\":\"inline-block\",\"modules_extra_cat\":\"\",\"author_photo\":\"\",\"author_photo_size\":\"\",\"author_photo_space\":\"\",\"author_photo_radius\":\"\",\"show_modified_date\":\"\",\"time_ago\":\"\",\"time_ago_add_txt\":\"ago\",\"time_ago_txt_pos\":\"\",\"art_excerpt\":\"\",\"excerpt_col\":\"1\",\"excerpt_gap\":\"\",\"excerpt_middle\":\"\",\"show_review\":\"inline-block\",\"review_space\":\"\",\"review_size\":\"2.5\",\"review_distance\":\"\",\"show_pagination\":\"\",\"pag_space\":\"\",\"pag_padding\":\"\",\"pag_border_width\":\"\",\"pag_border_radius\":\"\",\"prev_tdicon\":\"\",\"next_tdicon\":\"\",\"pag_icons_size\":\"\",\"text_color\":\"\",\"main_sub_color\":\"\",\"sep_color\":\"\",\"more_icon_color\":\"\",\"hover_opacity\":\"\",\"f_elem_font_header\":\"\",\"f_elem_font_title\":\"Elements text\",\"f_elem_font_settings\":\"\",\"f_elem_font_style\":\"\",\"f_elem_font_weight\":\"\",\"f_elem_font_transform\":\"\",\"f_elem_font_spacing\":\"\",\"f_elem_\":\"\",\"sub_bg_color\":\"\",\"sub_border_size\":\"\",\"sub_border_color\":\"\",\"sub_text_color\":\"\",\"sub_elem_bg_color\":\"\",\"sub_color\":\"\",\"sub_shadow_shadow_header\":\"\",\"sub_shadow_shadow_title\":\"Shadow\",\"sub_shadow_shadow_size\":\"\",\"sub_shadow_shadow_offset_horizontal\":\"\",\"sub_shadow_shadow_offset_vertical\":\"\",\"sub_shadow_shadow_spread\":\"\",\"sub_shadow_shadow_color\":\"\",\"f_sub_elem_font_header\":\"\",\"f_sub_elem_font_title\":\"Elements text\",\"f_sub_elem_font_settings\":\"\",\"f_sub_elem_font_family\":\"\",\"f_sub_elem_font_size\":\"\",\"f_sub_elem_font_line_height\":\"\",\"f_sub_elem_font_style\":\"\",\"f_sub_elem_font_weight\":\"\",\"f_sub_elem_font_transform\":\"\",\"f_sub_elem_font_spacing\":\"\",\"f_sub_elem_\":\"\",\"mm_bg\":\"\",\"mm_border_size\":\"\",\"mm_border_color\":\"\",\"mm_shadow_shadow_header\":\"\",\"mm_shadow_shadow_title\":\"Shadow\",\"mm_shadow_shadow_size\":\"\",\"mm_shadow_shadow_offset_horizontal\":\"\",\"mm_shadow_shadow_offset_vertical\":\"\",\"mm_shadow_shadow_spread\":\"\",\"mm_shadow_shadow_color\":\"\",\"mm_subcats_border_color\":\"\",\"mm_elem_color\":\"\",\"mm_elem_color_a\":\"\",\"mm_elem_bg\":\"\",\"mm_elem_bg_a\":\"\",\"mm_elem_border_color\":\"\",\"mm_elem_border_color_a\":\"\",\"mm_elem_shadow_shadow_header\":\"\",\"mm_elem_shadow_shadow_title\":\"Elements shadow\",\"mm_elem_shadow_shadow_size\":\"\",\"mm_elem_shadow_shadow_offset_horizontal\":\"\",\"mm_elem_shadow_shadow_offset_vertical\":\"\",\"mm_elem_shadow_shadow_spread\":\"\",\"mm_elem_shadow_shadow_color\":\"\",\"f_mm_sub_font_header\":\"\",\"f_mm_sub_font_title\":\"Sub categories elements\",\"f_mm_sub_font_settings\":\"\",\"f_mm_sub_font_family\":\"\",\"f_mm_sub_font_line_height\":\"\",\"f_mm_sub_font_style\":\"\",\"f_mm_sub_font_weight\":\"\",\"f_mm_sub_font_transform\":\"\",\"f_mm_sub_font_spacing\":\"\",\"f_mm_sub_\":\"\",\"m_bg\":\"\",\"color_overlay\":\"\",\"shadow_shadow_header\":\"\",\"shadow_shadow_title\":\"Module Shadow\",\"shadow_shadow_size\":\"\",\"shadow_shadow_offset_horizontal\":\"\",\"shadow_shadow_offset_vertical\":\"\",\"shadow_shadow_spread\":\"\",\"shadow_shadow_color\":\"\",\"title_txt\":\"\",\"title_txt_hover\":\"\",\"all_underline_height\":\"\",\"all_underline_color\":\"#000\",\"cat_bg\":\"\",\"cat_bg_hover\":\"\",\"cat_txt\":\"\",\"cat_txt_hover\":\"\",\"cat_border\":\"\",\"cat_border_hover\":\"\",\"meta_bg\":\"\",\"author_txt\":\"\",\"author_txt_hover\":\"\",\"date_txt\":\"\",\"ex_txt\":\"\",\"com_bg\":\"\",\"com_txt\":\"\",\"rev_txt\":\"\",\"shadow_m_shadow_header\":\"\",\"shadow_m_shadow_title\":\"Meta info shadow\",\"shadow_m_shadow_size\":\"\",\"shadow_m_shadow_offset_horizontal\":\"\",\"shadow_m_shadow_offset_vertical\":\"\",\"shadow_m_shadow_spread\":\"\",\"shadow_m_shadow_color\":\"\",\"audio_btn_color\":\"\",\"audio_time_color\":\"\",\"audio_bar_color\":\"\",\"audio_bar_curr_color\":\"\",\"pag_text\":\"\",\"pag_h_text\":\"\",\"pag_bg\":\"\",\"pag_h_bg\":\"\",\"pag_border\":\"\",\"pag_h_border\":\"\",\"f_title_font_header\":\"\",\"f_title_font_title\":\"Article title\",\"f_title_font_settings\":\"\",\"f_title_font_family\":\"\",\"f_title_font_style\":\"\",\"f_title_font_weight\":\"\",\"f_title_font_transform\":\"\",\"f_title_font_spacing\":\"\",\"f_title_\":\"\",\"f_cat_font_title\":\"Article category tag\",\"f_cat_font_settings\":\"\",\"f_cat_font_family\":\"\",\"f_cat_font_size\":\"\",\"f_cat_font_line_height\":\"\",\"f_cat_font_style\":\"\",\"f_cat_font_weight\":\"\",\"f_cat_font_transform\":\"\",\"f_cat_font_spacing\":\"\",\"f_cat_\":\"\",\"f_meta_font_title\":\"Article meta info\",\"f_meta_font_settings\":\"\",\"f_meta_font_family\":\"\",\"f_meta_font_size\":\"\",\"f_meta_font_line_height\":\"\",\"f_meta_font_style\":\"\",\"f_meta_font_weight\":\"\",\"f_meta_font_transform\":\"\",\"f_meta_font_spacing\":\"\",\"f_meta_\":\"\",\"f_ex_font_title\":\"Article excerpt\",\"f_ex_font_settings\":\"\",\"f_ex_font_family\":\"\",\"f_ex_font_size\":\"\",\"f_ex_font_line_height\":\"\",\"f_ex_font_style\":\"\",\"f_ex_font_weight\":\"\",\"f_ex_font_transform\":\"\",\"f_ex_font_spacing\":\"\",\"f_ex_\":\"\",\"mix_color\":\"\",\"mix_type\":\"\",\"fe_brightness\":\"1\",\"fe_contrast\":\"1\",\"fe_saturate\":\"1\",\"mix_color_h\":\"\",\"mix_type_h\":\"\",\"fe_brightness_h\":\"1\",\"fe_contrast_h\":\"1\",\"fe_saturate_h\":\"1\",\"el_class\":\"\",\"block_template_id\":\"\",\"td_column_number\":3,\"header_color\":\"\",\"ajax_pagination_infinite_stop\":\"\",\"offset\":\"\",\"limit\":\"4\",\"td_ajax_preloading\":\"\",\"td_ajax_filter_type\":\"td_category_ids_filter\",\"td_filter_default_txt\":\"\",\"td_ajax_filter_ids\":\"\",\"color_preset\":\"\",\"ajax_pagination\":\"next_prev\",\"ajax_pagination_next_prev_swipe\":\"\",\"border_top\":\"\",\"css\":\"\",\"tdc_css_class\":\"tdi_64\",\"tdc_css_class_style\":\"tdi_64_rand_style\",\"category_id\":\"269\",\"subcats_posts_limit\":\"4\",\"child_cats_limit\":\"11\",\"hide_all\":\"\",\"tdc_css\":\"\",\"class\":\"tdi_64\"}\\';\\nblock_tdi_64.td_column_number = \"3\";\\nblock_tdi_64.block_type = \"tdb_header_mega_menu\";\\nblock_tdi_64.post_count = \"4\";\\nblock_tdi_64.found_posts = \"54\";\\nblock_tdi_64.header_color = \"\";\\nblock_tdi_64.ajax_pagination_infinite_stop = \"\";\\nblock_tdi_64.max_num_pages = \"14\";\\ntdBlocksArray.push(block_tdi_64);\\n</script><div class=\"block-mega-child-cats\"><a \\r\\n                        class=\"cur-sub-cat mega-menu-sub-cat-tdi_64\" \\r\\n                        id=\"tdi_65\" \\r\\n                        data-td_block_id=\"tdi_64\" \\r\\n                        data-td_filter_value=\"\" \\r\\n                        href=\"https://insights.blackcoffer.com/category/our-solutions/\"\\r\\n                    >All</a><a \\r\\n                        class=\"mega-menu-sub-cat-tdi_64\" \\r\\n                        id=\"tdi_66\" \\r\\n                        data-td_block_id=\"tdi_64\" \\r\\n                        data-td_filter_value=\"285\" \\r\\n                        href=\"https://insights.blackcoffer.com/category/our-solutions/banking-financials-securities-and-insurance-solutions/\"\\r\\n                    >Banking, Financials, Securities, and Insurance</a><a \\r\\n                        class=\"mega-menu-sub-cat-tdi_64\" \\r\\n                        id=\"tdi_67\" \\r\\n                        data-td_block_id=\"tdi_64\" \\r\\n                        data-td_filter_value=\"284\" \\r\\n                        href=\"https://insights.blackcoffer.com/category/our-solutions/energy-our-solutions/\"\\r\\n                    >Energy</a><a \\r\\n                        class=\"mega-menu-sub-cat-tdi_64\" \\r\\n                        id=\"tdi_68\" \\r\\n                        data-td_block_id=\"tdi_64\" \\r\\n                        data-td_filter_value=\"290\" \\r\\n                        href=\"https://insights.blackcoffer.com/category/our-solutions/entertainment-our-solutions/\"\\r\\n                    >Entertainment</a><a \\r\\n                        class=\"mega-menu-sub-cat-tdi_64\" \\r\\n                        id=\"tdi_69\" \\r\\n                        data-td_block_id=\"tdi_64\" \\r\\n                        data-td_filter_value=\"286\" \\r\\n                        href=\"https://insights.blackcoffer.com/category/our-solutions/fast-moving-consumer-goods-our-solutions/\"\\r\\n                    >Fast Moving Consumer Goods</a><a \\r\\n                        class=\"mega-menu-sub-cat-tdi_64\" \\r\\n                        id=\"tdi_70\" \\r\\n                        data-td_block_id=\"tdi_64\" \\r\\n                        data-td_filter_value=\"288\" \\r\\n                        href=\"https://insights.blackcoffer.com/category/our-solutions/government-think-tanks-our-solutions/\"\\r\\n                    >Government &amp; Think Tanks</a><a \\r\\n                        class=\"mega-menu-sub-cat-tdi_64\" \\r\\n                        id=\"tdi_71\" \\r\\n                        data-td_block_id=\"tdi_64\" \\r\\n                        data-td_filter_value=\"283\" \\r\\n                        href=\"https://insights.blackcoffer.com/category/our-solutions/healthcare-our-solutions/\"\\r\\n                    >Healthcare</a><a \\r\\n                        class=\"mega-menu-sub-cat-tdi_64\" \\r\\n                        id=\"tdi_72\" \\r\\n                        data-td_block_id=\"tdi_64\" \\r\\n                        data-td_filter_value=\"339\" \\r\\n                        href=\"https://insights.blackcoffer.com/category/our-solutions/hospitality/\"\\r\\n                    >Hospitality</a><a \\r\\n                        class=\"mega-menu-sub-cat-tdi_64\" \\r\\n                        id=\"tdi_73\" \\r\\n                        data-td_block_id=\"tdi_64\" \\r\\n                        data-td_filter_value=\"292\" \\r\\n                        href=\"https://insights.blackcoffer.com/category/our-solutions/infrastructure-real-estate-our-solutions/\"\\r\\n                    >Infrastructure &amp; Real Estate</a><a \\r\\n                        class=\"mega-menu-sub-cat-tdi_64\" \\r\\n                        id=\"tdi_74\" \\r\\n                        data-td_block_id=\"tdi_64\" \\r\\n                        data-td_filter_value=\"321\" \\r\\n                        href=\"https://insights.blackcoffer.com/category/our-solutions/it-services/\"\\r\\n                    >IT Services</a><a \\r\\n                        class=\"mega-menu-sub-cat-tdi_64\" \\r\\n                        id=\"tdi_75\" \\r\\n                        data-td_block_id=\"tdi_64\" \\r\\n                        data-td_filter_value=\"291\" \\r\\n                        href=\"https://insights.blackcoffer.com/category/our-solutions/lifestyle-ecommerce-market-place-solutions/\"\\r\\n                    >Lifestyle, eCommerce &amp; Online Market Place</a><a \\r\\n                        class=\"mega-menu-sub-cat-tdi_64\" \\r\\n                        id=\"tdi_76\" \\r\\n                        data-td_block_id=\"tdi_64\" \\r\\n                        data-td_filter_value=\"604\" \\r\\n                        href=\"https://insights.blackcoffer.com/category/our-solutions/news-media/\"\\r\\n                    >News &amp; Media</a></div><div class=\"tdb-mega-modules-wrap\"><div id=tdi_64 class=\"td_block_inner\">\\r\\n        <div class=\"tdb_module_header tdb_module_mm td_module_wrap td-animation-stack td-cpt-post\">\\r\\n            <div class=\"td-module-container td-category-pos-image\">\\r\\n                                    <div class=\"td-image-container\">\\r\\n                        <a href=\"https://insights.blackcoffer.com/category/our-solutions/\" class=\"td-post-category\">What We Do</a>                        <div class=\"td-module-thumb\"><a href=\"https://insights.blackcoffer.com/grafana-dashboard-oscar-awards/\" rel=\"bookmark\" class=\"td-image-wrap \" title=\"Grafana Dashboard &#8211; Oscar Awards\" ><span class=\"entry-thumb td-thumb-css\" data-type=\"css_image\" data-img-url=\"https://insights.blackcoffer.com/wp-content/uploads/2023/07/slider-demo4-1-1-324x400.jpg\"  ></span></a></div>                                            </div>\\r\\n                \\r\\n                <div class=\"td-module-meta-info\">\\r\\n                                        \\r\\n                    <p class=\"entry-title td-module-title\"><a href=\"https://insights.blackcoffer.com/grafana-dashboard-oscar-awards/\" rel=\"bookmark\" title=\"Grafana Dashboard &#8211; Oscar Awards\">Grafana Dashboard &#8211; Oscar Awards</a></p>\\r\\n                    \\r\\n                                            <div class=\"td-editor-date\">\\r\\n                                                        \\r\\n                                                            <span class=\"td-author-date\">\\r\\n                                    \\r\\n                                    <span class=\"td-post-date\"><time class=\"entry-date updated td-module-date\" datetime=\"2023-07-08T16:24:48+05:30\" >July 8, 2023</time></span>                                                                                                        </span>\\r\\n                                                    </div>\\r\\n                    \\r\\n                    \\r\\n                                    </div>\\r\\n            </div>\\r\\n        </div>\\r\\n\\r\\n        \\r\\n        <div class=\"tdb_module_header tdb_module_mm td_module_wrap td-animation-stack td-cpt-post\">\\r\\n            <div class=\"td-module-container td-category-pos-image\">\\r\\n                                    <div class=\"td-image-container\">\\r\\n                        <a href=\"https://insights.blackcoffer.com/category/our-solutions/\" class=\"td-post-category\">What We Do</a>                        <div class=\"td-module-thumb\"><a href=\"https://insights.blackcoffer.com/autogpt-setup/\" rel=\"bookmark\" class=\"td-image-wrap \" title=\"AutoGPT Setup\" ><span class=\"entry-thumb td-thumb-css\" data-type=\"css_image\" data-img-url=\"https://insights.blackcoffer.com/wp-content/uploads/2023/05/airport-687256_1920-1-324x400.jpg\"  ></span></a></div>                                            </div>\\r\\n                \\r\\n                <div class=\"td-module-meta-info\">\\r\\n                                        \\r\\n                    <p class=\"entry-title td-module-title\"><a href=\"https://insights.blackcoffer.com/autogpt-setup/\" rel=\"bookmark\" title=\"AutoGPT Setup\">AutoGPT Setup</a></p>\\r\\n                    \\r\\n                                            <div class=\"td-editor-date\">\\r\\n                                                        \\r\\n                                                            <span class=\"td-author-date\">\\r\\n                                    \\r\\n                                    <span class=\"td-post-date\"><time class=\"entry-date updated td-module-date\" datetime=\"2023-05-10T12:55:07+05:30\" >May 10, 2023</time></span>                                                                                                        </span>\\r\\n                                                    </div>\\r\\n                    \\r\\n                    \\r\\n                                    </div>\\r\\n            </div>\\r\\n        </div>\\r\\n\\r\\n        \\r\\n        <div class=\"tdb_module_header tdb_module_mm td_module_wrap td-animation-stack td-cpt-post\">\\r\\n            <div class=\"td-module-container td-category-pos-image\">\\r\\n                                    <div class=\"td-image-container\">\\r\\n                        <a href=\"https://insights.blackcoffer.com/category/our-solutions/\" class=\"td-post-category\">What We Do</a>                        <div class=\"td-module-thumb\"><a href=\"https://insights.blackcoffer.com/playstore-appstore-to-google-analytics-ga-or-firebase-to-google-data-studio-mobile-app-kpi-dashboard/\" rel=\"bookmark\" class=\"td-image-wrap \" title=\"Playstore &#038; Appstore to Google Analytics (GA) or Firebase to Google Data Studio Mobile App KPI Dashboard\" ><span class=\"entry-thumb td-thumb-css\" data-type=\"css_image\" data-img-url=\"https://insights.blackcoffer.com/wp-content/uploads/2022/09/post_08-324x400.jpg\"  ></span></a></div>                                            </div>\\r\\n                \\r\\n                <div class=\"td-module-meta-info\">\\r\\n                                        \\r\\n                    <p class=\"entry-title td-module-title\"><a href=\"https://insights.blackcoffer.com/playstore-appstore-to-google-analytics-ga-or-firebase-to-google-data-studio-mobile-app-kpi-dashboard/\" rel=\"bookmark\" title=\"Playstore &#038; Appstore to Google Analytics (GA) or Firebase to Google Data Studio Mobile App KPI Dashboard\">Playstore &#038; Appstore to Google Analytics (GA) or Firebase to Google Data Studio Mobile App KPI Dashboard</a></p>\\r\\n                    \\r\\n                                            <div class=\"td-editor-date\">\\r\\n                                                        \\r\\n                                                            <span class=\"td-author-date\">\\r\\n                                    \\r\\n                                    <span class=\"td-post-date\"><time class=\"entry-date updated td-module-date\" datetime=\"2022-09-19T14:41:17+05:30\" >September 19, 2022</time></span>                                                                                                        </span>\\r\\n                                                    </div>\\r\\n                    \\r\\n                    \\r\\n                                    </div>\\r\\n            </div>\\r\\n        </div>\\r\\n\\r\\n        \\r\\n        <div class=\"tdb_module_header tdb_module_mm td_module_wrap td-animation-stack td-cpt-post\">\\r\\n            <div class=\"td-module-container td-category-pos-image\">\\r\\n                                    <div class=\"td-image-container\">\\r\\n                        <a href=\"https://insights.blackcoffer.com/category/our-solutions/\" class=\"td-post-category\">What We Do</a>                        <div class=\"td-module-thumb\"><a href=\"https://insights.blackcoffer.com/google-local-service-ads-lsa-api-to-google-bigquery-to-google-data-studio/\" rel=\"bookmark\" class=\"td-image-wrap \" title=\"Google Local Service Ads LSA API To Google BigQuery to Google Data Studio\" ><span class=\"entry-thumb td-thumb-css\" data-type=\"css_image\" data-img-url=\"https://insights.blackcoffer.com/wp-content/uploads/2022/05/bgn-hero-324x400.jpg\"  ></span></a></div>                                            </div>\\r\\n                \\r\\n                <div class=\"td-module-meta-info\">\\r\\n                                        \\r\\n                    <p class=\"entry-title td-module-title\"><a href=\"https://insights.blackcoffer.com/google-local-service-ads-lsa-api-to-google-bigquery-to-google-data-studio/\" rel=\"bookmark\" title=\"Google Local Service Ads LSA API To Google BigQuery to Google Data Studio\">Google Local Service Ads LSA API To Google BigQuery to Google Data Studio</a></p>\\r\\n                    \\r\\n                                            <div class=\"td-editor-date\">\\r\\n                                                        \\r\\n                                                            <span class=\"td-author-date\">\\r\\n                                    \\r\\n                                    <span class=\"td-post-date\"><time class=\"entry-date updated td-module-date\" datetime=\"2022-05-06T16:09:12+05:30\" >May 6, 2022</time></span>                                                                                                        </span>\\r\\n                                                    </div>\\r\\n                    \\r\\n                    \\r\\n                                    </div>\\r\\n            </div>\\r\\n        </div>\\r\\n\\r\\n        </div><div class=\"td-next-prev-wrap\"><a href=\"#\" class=\"td-ajax-prev-page ajax-page-disabled\" aria-label=\"prev-page\" id=\"prev-page-tdi_64\" data-td_block_id=\"tdi_64\"><i class=\"td-next-prev-icon td-icon-font td-icon-menu-left\"></i></a><a href=\"#\"  class=\"td-ajax-next-page\" aria-label=\"next-page\" id=\"next-page-tdi_64\" data-td_block_id=\"tdi_64\"><i class=\"td-next-prev-icon td-icon-font td-icon-menu-right\"></i></a></div></div></div> <!-- ./block1 --></div></li>\\n</ul>\\n</li>\\n<li class=\"menu-item menu-item-type-taxonomy menu-item-object-category current-post-ancestor current-menu-parent current-post-parent tdb-menu-item-button tdb-menu-item tdb-mega-menu tdb-mega-menu-inactive menu-item-4060\"><a href=\"https://insights.blackcoffer.com/category/what-we-think/\"><div class=\"tdb-menu-item-text\">What We Think</div><i class=\"tdb-sub-menu-icon td-icon-down tdb-main-sub-menu-icon\"></i></a>\\n<ul class=\"sub-menu\">\\n\\t<li class=\"menu-item-0\"><div class=\"tdb-menu-item-text\"><div class=\"tdb_header_mega_menu tdi_77 td_with_ajax_pagination td-pb-border-top td_block_template_1\"  data-td-block-uid=\"tdi_77\" >\\n<style>\\n/* custom css */\\n.tdi_77 .block-mega-child-cats{\\r\\n\\t\\t\\t\\t\\tpadding: 16px 0;\\r\\n\\t\\t\\t\\t\\r\\n\\t\\t\\t\\t\\ttext-align: right;\\r\\n\\t\\t\\t\\t}.tdi_77 .block-mega-child-cats:after{\\r\\n\\t\\t\\t\\t    border-width: 0 1px 0 0;\\r\\n\\t\\t\\t\\t}.tdi_77 .block-mega-child-cats a{\\r\\n\\t\\t\\t\\t\\tpadding: 2px 22px;\\r\\n\\t\\t\\t\\t\\r\\n\\t\\t\\t\\t\\tborder-width: 0 1px 0 0;\\r\\n\\t\\t\\t\\t\\r\\n\\t\\t\\t\\t\\tfont-size:13px !important;\\r\\n\\t\\t\\t\\t}.tdi_77 .block-mega-child-cats .cur-sub-cat{\\r\\n\\t\\t\\t\\t\\tborder-width: 0 1px 0 0;\\r\\n\\t\\t\\t\\t}.tdi_77:not(.td-no-subcats) .td_module_wrap{\\r\\n\\t\\t\\t\\t\\twidth: 25%;\\r\\n\\t\\t\\t\\t\\tfloat: left;\\r\\n\\t\\t\\t\\t}.td-md-is-safari .tdi_77:not(.td-no-subcats) .td_module_wrap{\\r\\n\\t\\t\\t\\t    margin-right: -1px;\\r\\n\\t\\t\\t\\t}.tdi_77.td-no-subcats .td_module_wrap{\\r\\n\\t\\t\\t\\t\\twidth: 20%;\\r\\n\\t\\t\\t\\t\\tfloat: left;\\r\\n\\t\\t\\t\\t}.td-md-is-safari .tdi_77.td-no-subcats .td_module_wrap{\\r\\n\\t\\t\\t\\t    margin-right: -1px;\\r\\n\\t\\t\\t\\t}.tdi_77 .td_module_wrap:nth-child(4n+1){\\r\\n\\t\\t\\t\\t\\tclear: both;\\r\\n\\t\\t\\t\\t}.tdi_77 .td_module_wrap:nth-last-child(-n+4){\\r\\n\\t\\t\\t\\t\\tmargin-bottom: 0;\\r\\n\\t\\t\\t\\t\\tpadding-bottom: 0;\\r\\n\\t\\t\\t\\t}.tdi_77 .td_module_wrap:nth-last-child(-n+4) .td-module-container:before{\\r\\n\\t\\t\\t\\t\\tdisplay: none;\\r\\n\\t\\t\\t\\t}.tdi_77 .td_module_wrap{\\r\\n\\t\\t\\t\\t\\tpadding-left: 11px;\\r\\n\\t\\t\\t\\t\\tpadding-right: 11px;\\r\\n\\t\\t\\t\\t\\r\\n\\t\\t\\t\\t\\tpadding-bottom: 13px;\\r\\n\\t\\t\\t\\t\\tmargin-bottom: 13px;\\r\\n\\t\\t\\t\\t\\r\\n\\t\\t\\t        display: flex;\\r\\n\\t\\t\\t        flex-direction: column;\\r\\n\\t\\t\\t    }.tdi_77 .td_block_inner{\\r\\n\\t\\t\\t\\t\\tmargin-left: -11px;\\r\\n\\t\\t\\t\\t\\tmargin-right: -11px;\\r\\n\\t\\t\\t\\t\\r\\n\\t\\t\\t        display: flex;\\r\\n\\t\\t\\t        flex-wrap: wrap;\\r\\n\\t\\t\\t    }.tdi_77 .td-module-container:before{\\r\\n\\t\\t\\t\\t\\tbottom: -13px;\\r\\n\\t\\t\\t\\t\\r\\n\\t\\t\\t\\t\\tborder-color: #eaeaea;\\r\\n\\t\\t\\t\\t}.tdi_77 .td-module-container{\\r\\n\\t\\t\\t\\t    border-color: #eaeaea;\\r\\n\\t\\t\\t\\t\\r\\n\\t\\t\\t\\t\\tflex-direction: column;\\r\\n\\t\\t\\t\\t\\r\\n\\t\\t\\t        flex: 1;\\r\\n                    flex-basis: auto;\\r\\n\\t\\t\\t    }.tdi_77 .entry-thumb{\\r\\n\\t\\t\\t\\t\\tbackground-position: center 50%;\\r\\n\\t\\t\\t\\t}.tdi_77 .td-image-container{\\r\\n                \\tdisplay: block; order: 0;\\r\\n                }.ie10 .tdi_77 .td-module-meta-info,\\r\\n\\t\\t\\t\\t.ie11 .tdi_77 .td-module-meta-info{\\r\\n\\t\\t\\t\\t \\tflex: auto;\\r\\n\\t\\t\\t    }.tdi_77 .td-post-vid-time{\\r\\n\\t\\t\\t\\t\\tdisplay: block;\\r\\n\\t\\t\\t\\t}.tdi_77 .entry-title{\\r\\n\\t\\t\\t\\t\\tmargin: 3px 0;\\r\\n\\t\\t\\t\\t\\r\\n\\t\\t\\t\\t\\tfont-size:15px !important;line-height:1.2 !important;\\r\\n\\t\\t\\t\\t}.tdi_77 .td-excerpt{\\r\\n\\t\\t\\t\\t\\tcolumn-count: 1;\\r\\n\\t\\t\\t\\t\\r\\n\\t\\t\\t\\t\\tcolumn-gap: 48px;\\r\\n\\t\\t\\t\\t\\r\\n\\t\\t\\t\\t\\tdisplay: none;\\r\\n\\t\\t\\t\\t}.tdi_77 .td-audio-player{\\r\\n\\t\\t\\t\\t\\tfont-size: 12px;\\r\\n\\t\\t\\t\\t\\r\\n\\t\\t\\t\\t\\topacity: 1;\\r\\n\\t\\t\\t\\t\\tvisibility: visible;\\r\\n\\t\\t\\t\\t\\theight: auto;\\r\\n\\t\\t\\t\\t}.tdi_77 .td-module-meta-info{\\r\\n\\t\\t\\t\\t\\tborder-color: #eaeaea;\\r\\n\\t\\t\\t\\t}.tdi_77 .td-post-category:not(.td-post-extra-category){\\r\\n\\t\\t\\t\\t\\tdisplay: inline-block;\\r\\n\\t\\t\\t\\t}.tdi_77 .td-author-date{\\r\\n\\t\\t\\t\\t\\tdisplay: inline;\\r\\n\\t\\t\\t\\t}.tdi_77 .td-post-author-name{\\r\\n\\t\\t\\t\\t\\tdisplay: none;\\r\\n\\t\\t\\t\\t}.tdi_77 .entry-review-stars{\\r\\n\\t\\t\\t\\t\\tdisplay: inline-block;\\r\\n\\t\\t\\t\\t}.tdi_77 .td-icon-star,\\r\\n                .tdi_77 .td-icon-star-empty,\\r\\n                .tdi_77 .td-icon-star-half{\\r\\n\\t\\t\\t\\t\\tfont-size: 15px;\\r\\n\\t\\t\\t\\t}.tdi_77 .td-module-comments{\\r\\n\\t\\t\\t\\t\\tdisplay: none;\\r\\n\\t\\t\\t\\t}.tdi_77 .td-author-photo .avatar{\\r\\n\\t\\t\\t\\t    width: 20px;\\r\\n\\t\\t\\t\\t    height: 20px;\\r\\n\\t\\t\\t\\t\\r\\n\\t\\t\\t\\t    margin-right: 6px;\\r\\n\\t\\t\\t\\t\\r\\n\\t\\t\\t\\t    border-radius: 50%;\\r\\n\\t\\t\\t\\t}.tdi_77:not(.td-no-subcats) .block-mega-child-cats:before{\\r\\n\\t\\t\\t\\t\\tbackground-color: #ffffff;\\r\\n\\t\\t\\t\\t}.tdi_77 .td-module-exclusive .td-module-title a:before{\\r\\n                    display: inline-block;\\r\\n                }html:not([class*=\\'ie\\']) .tdi_77 .td-module-container:hover .entry-thumb:before{\\r\\n                    opacity: 0;\\r\\n                }\\n\\n/* landscape */\\n@media (min-width: 1019px) and (max-width: 1140px){\\n.tdi_77 .block-mega-child-cats{\\r\\n\\t\\t\\t\\t\\twidth: 160px;\\r\\n\\t\\t\\t\\t}.tdi_77 .td_module_wrap{\\r\\n\\t\\t\\t\\t\\tpadding-bottom: 13px !important;\\r\\n\\t\\t\\t\\t\\tmargin-bottom: 13px !important;\\r\\n\\t\\t\\t\\t\\r\\n\\t\\t\\t\\t\\tclear: none !important;\\r\\n\\t\\t\\t\\t\\r\\n\\t\\t\\t\\t\\tpadding-bottom: 13px;\\r\\n\\t\\t\\t\\t\\tmargin-bottom: 13px;\\r\\n\\t\\t\\t\\t}.tdi_77 .td_module_wrap:nth-last-child(-n+4){\\r\\n\\t\\t\\t\\t\\tmargin-bottom: 0 !important;\\r\\n\\t\\t\\t\\t\\tpadding-bottom: 0 !important;\\r\\n\\t\\t\\t\\t}.tdi_77 .td_module_wrap .td-module-container:before{\\r\\n\\t\\t\\t\\t\\tdisplay: block !important;\\r\\n\\t\\t\\t\\t}.tdi_77 .td_module_wrap:nth-last-child(-n+4) .td-module-container:before{\\r\\n\\t\\t\\t\\t\\tdisplay: none !important;\\r\\n\\t\\t\\t\\t}.tdi_77 .td_module_wrap:nth-child(4n+1){\\r\\n\\t\\t\\t\\t\\tclear: both !important;\\r\\n\\t\\t\\t\\t}.tdi_77 .td-module-container:before{\\r\\n\\t\\t\\t\\t\\tbottom: -13px;\\r\\n\\t\\t\\t\\t}.tdi_77 .entry-title{\\r\\n\\t\\t\\t\\t\\tfont-size:14px !important;line-height:1.2 !important;\\r\\n\\t\\t\\t\\t}\\n}\\n\\n/* portrait */\\n@media (min-width: 768px) and (max-width: 1018px){\\n.tdi_77 .tdb-mega-modules-wrap{\\r\\n\\t\\t\\t\\t\\tpadding: 14px;\\r\\n\\t\\t\\t\\t}.tdi_77 .block-mega-child-cats{\\r\\n\\t\\t\\t\\t\\twidth: 140px;\\r\\n\\t\\t\\t\\t\\r\\n\\t\\t\\t\\t\\tpadding: 14px 0;\\r\\n\\t\\t\\t\\t}.tdi_77 .block-mega-child-cats a{\\r\\n\\t\\t\\t\\t\\tpadding: 0 14px;\\r\\n\\t\\t\\t\\t\\r\\n\\t\\t\\t\\t\\tfont-size:11px !important;\\r\\n\\t\\t\\t\\t}.tdi_77 .td_module_wrap{\\r\\n\\t\\t\\t\\t\\tpadding-bottom: 13px !important;\\r\\n\\t\\t\\t\\t\\tmargin-bottom: 13px !important;\\r\\n\\t\\t\\t\\t\\r\\n\\t\\t\\t\\t\\tclear: none !important;\\r\\n\\t\\t\\t\\t\\r\\n\\t\\t\\t\\t\\tpadding-left: 7px;\\r\\n\\t\\t\\t\\t\\tpadding-right: 7px;\\r\\n\\t\\t\\t\\t\\r\\n\\t\\t\\t\\t\\tpadding-bottom: 13px;\\r\\n\\t\\t\\t\\t\\tmargin-bottom: 13px;\\r\\n\\t\\t\\t\\t}.tdi_77 .td_module_wrap:nth-last-child(-n+4){\\r\\n\\t\\t\\t\\t\\tmargin-bottom: 0 !important;\\r\\n\\t\\t\\t\\t\\tpadding-bottom: 0 !important;\\r\\n\\t\\t\\t\\t}.tdi_77 .td_module_wrap .td-module-container:before{\\r\\n\\t\\t\\t\\t\\tdisplay: block !important;\\r\\n\\t\\t\\t\\t}.tdi_77 .td_module_wrap:nth-last-child(-n+4) .td-module-container:before{\\r\\n\\t\\t\\t\\t\\tdisplay: none !important;\\r\\n\\t\\t\\t\\t}.tdi_77 .td_module_wrap:nth-child(4n+1){\\r\\n\\t\\t\\t\\t\\tclear: both !important;\\r\\n\\t\\t\\t\\t}.tdi_77 .td_block_inner{\\r\\n\\t\\t\\t\\t\\tmargin-left: -7px;\\r\\n\\t\\t\\t\\t\\tmargin-right: -7px;\\r\\n\\t\\t\\t\\t}.tdi_77 .td-module-container:before{\\r\\n\\t\\t\\t\\t\\tbottom: -13px;\\r\\n\\t\\t\\t\\t}.tdi_77 .td-video-play-ico{\\r\\n\\t\\t\\t\\t\\twidth: 24px;\\r\\n\\t\\t\\t\\t\\theight: 24px;\\r\\n\\t\\t\\t\\t\\tfont-size: 24px;\\r\\n\\t\\t\\t\\t}.tdi_77 .entry-title{\\r\\n\\t\\t\\t\\t\\tfont-size:13px !important;line-height:1.2 !important;\\r\\n\\t\\t\\t\\t}\\n}\\n\\n/* phone */\\n@media (max-width: 767px){\\n.tdi_77 .td_module_wrap{\\r\\n\\t\\t\\t\\t\\tpadding-bottom: 13px !important;\\r\\n\\t\\t\\t\\t\\tmargin-bottom: 13px !important;\\r\\n\\t\\t\\t\\t\\r\\n\\t\\t\\t\\t\\tclear: none !important;\\r\\n\\t\\t\\t\\t\\r\\n\\t\\t\\t\\t\\tpadding-bottom: 13px;\\r\\n\\t\\t\\t\\t\\tmargin-bottom: 13px;\\r\\n\\t\\t\\t\\t}.tdi_77 .td_module_wrap:nth-last-child(-n+4){\\r\\n\\t\\t\\t\\t\\tmargin-bottom: 0 !important;\\r\\n\\t\\t\\t\\t\\tpadding-bottom: 0 !important;\\r\\n\\t\\t\\t\\t}.tdi_77 .td_module_wrap .td-module-container:before{\\r\\n\\t\\t\\t\\t\\tdisplay: block !important;\\r\\n\\t\\t\\t\\t}.tdi_77 .td_module_wrap:nth-last-child(-n+4) .td-module-container:before{\\r\\n\\t\\t\\t\\t\\tdisplay: none !important;\\r\\n\\t\\t\\t\\t}.tdi_77 .td_module_wrap:nth-child(4n+1){\\r\\n\\t\\t\\t\\t\\tclear: both !important;\\r\\n\\t\\t\\t\\t}.tdi_77 .td-module-container:before{\\r\\n\\t\\t\\t\\t\\tbottom: -13px;\\r\\n\\t\\t\\t\\t}\\n}\\n</style><script>var block_tdi_77 = new tdBlock();\\nblock_tdi_77.id = \"tdi_77\";\\nblock_tdi_77.atts = \\'{\"mc1_title_tag\":\"p\",\"main_sub_tdicon\":\"td-icon-down\",\"sub_tdicon\":\"td-icon-right-arrow\",\"mm_align_horiz\":\"content-horiz-center\",\"modules_on_row_regular\":\"20%\",\"modules_on_row_cats\":\"25%\",\"image_size\":\"td_324x400\",\"modules_category\":\"image\",\"show_excerpt\":\"none\",\"show_com\":\"none\",\"show_date\":\"\",\"show_author\":\"none\",\"mm_sub_align_horiz\":\"content-horiz-right\",\"mm_elem_align_horiz\":\"content-horiz-right\",\"inline\":\"yes\",\"menu_id\":\"\",\"mm_align_screen\":\"yes\",\"f_elem_font_family\":\"\",\"f_elem_font_size\":\"eyJwb3J0cmFpdCI6IjExIn0=\",\"mm_width\":\"1300\",\"mm_subcats_bg\":\"#ffffff\",\"mm_elem_border_a\":\"0 1px 0 0\",\"mm_elem_padd\":\"eyJhbGwiOiIycHggMjJweCIsInBvcnRyYWl0IjoiMCAxNHB4In0=\",\"mm_sub_padd\":\"eyJhbGwiOiIxNnB4IDAiLCJwb3J0cmFpdCI6IjE0cHggMCJ9\",\"f_title_font_size\":\"eyJhbGwiOiIxNSIsImxhbmRzY2FwZSI6IjE0IiwicG9ydHJhaXQiOiIxMyJ9\",\"f_title_font_line_height\":\"1.2\",\"art_title\":\"3px 0\",\"f_mm_sub_font_size\":\"eyJhbGwiOiIxMyIsInBvcnRyYWl0IjoiMTEifQ==\",\"mm_child_cats\":\"11\",\"mm_elem_border\":\"0 1px 0 0\",\"mm_height\":\"eyJhbGwiOiIzNDUiLCJsYW5kc2NhcGUiOiIzMDAiLCJwb3J0cmFpdCI6IjI0MCJ9\",\"mm_sub_width\":\"eyJsYW5kc2NhcGUiOiIxNjAiLCJwb3J0cmFpdCI6IjE0MCJ9\",\"mm_padd\":\"eyJwb3J0cmFpdCI6IjE0In0=\",\"modules_gap\":\"eyJwb3J0cmFpdCI6IjE0In0=\",\"elem_padd\":\"eyJwb3J0cmFpdCI6IjAgMTJweCJ9\",\"f_elem_font_line_height\":\"eyJwb3J0cmFpdCI6IjQ4cHgifQ==\",\"video_icon\":\"eyJwb3J0cmFpdCI6IjI0In0=\",\"all_modules_space\":\"26\",\"tds_menu_sub_active\":\"tds_menu_sub_active1\",\"tds_menu_sub_active2-line_color\":\"\",\"tds_menu_active\":\"tds_menu_active1\",\"block_type\":\"tdb_header_mega_menu\",\"show_subcat\":\"\",\"show_mega\":\"\",\"show_mega_cats\":\"\",\"separator\":\"\",\"width\":\"\",\"more\":\"\",\"float_right\":\"\",\"align_horiz\":\"content-horiz-left\",\"elem_space\":\"\",\"main_sub_icon_size\":\"\",\"main_sub_icon_space\":\"\",\"main_sub_icon_align\":\"-1\",\"sep_tdicon\":\"\",\"sep_icon_size\":\"\",\"sep_icon_space\":\"\",\"sep_icon_align\":\"-1\",\"more_txt\":\"\",\"more_tdicon\":\"\",\"more_icon_size\":\"\",\"more_icon_align\":\"0\",\"sub_width\":\"\",\"sub_first_left\":\"\",\"sub_rest_top\":\"\",\"sub_padd\":\"\",\"sub_align_horiz\":\"content-horiz-left\",\"sub_elem_inline\":\"\",\"sub_elem_space\":\"\",\"sub_elem_padd\":\"\",\"sub_elem_radius\":\"0\",\"sub_icon_size\":\"\",\"sub_icon_space\":\"\",\"sub_icon_pos\":\"\",\"sub_icon_align\":\"1\",\"mm_content_width\":\"\",\"mm_offset\":\"\",\"mm_posts_limit\":\"5\",\"mm_subcats_posts_limit\":\"4\",\"mm_ajax_preloading\":\"\",\"mm_hide_all_item\":\"\",\"mm_sub_border\":\"\",\"mm_sub_inline\":\"\",\"mm_elem_order\":\"name\",\"mm_elem_space\":\"\",\"mm_elem_border_rad\":\"\",\"mc1_tl\":\"\",\"mc1_el\":\"\",\"m_padding\":\"\",\"modules_border_size\":\"\",\"modules_border_style\":\"\",\"modules_border_color\":\"#eaeaea\",\"modules_divider\":\"\",\"modules_divider_color\":\"#eaeaea\",\"h_effect\":\"\",\"image_alignment\":\"50\",\"image_height\":\"\",\"image_width\":\"\",\"image_floated\":\"no_float\",\"image_radius\":\"\",\"hide_image\":\"\",\"show_vid_t\":\"block\",\"vid_t_margin\":\"\",\"vid_t_padding\":\"\",\"vid_t_color\":\"\",\"vid_t_bg_color\":\"\",\"f_vid_time_font_header\":\"\",\"f_vid_time_font_title\":\"Video duration text\",\"f_vid_time_font_settings\":\"\",\"f_vid_time_font_family\":\"\",\"f_vid_time_font_size\":\"\",\"f_vid_time_font_line_height\":\"\",\"f_vid_time_font_style\":\"\",\"f_vid_time_font_weight\":\"\",\"f_vid_time_font_transform\":\"\",\"f_vid_time_font_spacing\":\"\",\"f_vid_time_\":\"\",\"excl_show\":\"inline-block\",\"excl_txt\":\"\",\"excl_margin\":\"\",\"excl_padd\":\"\",\"all_excl_border\":\"\",\"all_excl_border_style\":\"solid\",\"excl_radius\":\"\",\"excl_color\":\"\",\"excl_color_h\":\"\",\"excl_bg\":\"\",\"excl_bg_h\":\"\",\"all_excl_border_color\":\"\",\"excl_border_color_h\":\"\",\"f_excl_font_header\":\"\",\"f_excl_font_title\":\"Label text\",\"f_excl_font_settings\":\"\",\"f_excl_font_family\":\"\",\"f_excl_font_size\":\"\",\"f_excl_font_line_height\":\"\",\"f_excl_font_style\":\"\",\"f_excl_font_weight\":\"\",\"f_excl_font_transform\":\"\",\"f_excl_font_spacing\":\"\",\"f_excl_\":\"\",\"show_audio\":\"block\",\"hide_audio\":\"\",\"art_audio\":\"\",\"art_audio_size\":\"1\",\"meta_info_align\":\"\",\"meta_info_horiz\":\"content-horiz-left\",\"meta_width\":\"\",\"meta_margin\":\"\",\"meta_padding\":\"\",\"meta_info_border_size\":\"\",\"meta_info_border_style\":\"\",\"meta_info_border_color\":\"#eaeaea\",\"modules_category_margin\":\"\",\"modules_category_padding\":\"\",\"modules_cat_border\":\"\",\"modules_category_radius\":\"0\",\"show_cat\":\"inline-block\",\"modules_extra_cat\":\"\",\"author_photo\":\"\",\"author_photo_size\":\"\",\"author_photo_space\":\"\",\"author_photo_radius\":\"\",\"show_modified_date\":\"\",\"time_ago\":\"\",\"time_ago_add_txt\":\"ago\",\"time_ago_txt_pos\":\"\",\"art_excerpt\":\"\",\"excerpt_col\":\"1\",\"excerpt_gap\":\"\",\"excerpt_middle\":\"\",\"show_review\":\"inline-block\",\"review_space\":\"\",\"review_size\":\"2.5\",\"review_distance\":\"\",\"show_pagination\":\"\",\"pag_space\":\"\",\"pag_padding\":\"\",\"pag_border_width\":\"\",\"pag_border_radius\":\"\",\"prev_tdicon\":\"\",\"next_tdicon\":\"\",\"pag_icons_size\":\"\",\"text_color\":\"\",\"main_sub_color\":\"\",\"sep_color\":\"\",\"more_icon_color\":\"\",\"hover_opacity\":\"\",\"f_elem_font_header\":\"\",\"f_elem_font_title\":\"Elements text\",\"f_elem_font_settings\":\"\",\"f_elem_font_style\":\"\",\"f_elem_font_weight\":\"\",\"f_elem_font_transform\":\"\",\"f_elem_font_spacing\":\"\",\"f_elem_\":\"\",\"sub_bg_color\":\"\",\"sub_border_size\":\"\",\"sub_border_color\":\"\",\"sub_text_color\":\"\",\"sub_elem_bg_color\":\"\",\"sub_color\":\"\",\"sub_shadow_shadow_header\":\"\",\"sub_shadow_shadow_title\":\"Shadow\",\"sub_shadow_shadow_size\":\"\",\"sub_shadow_shadow_offset_horizontal\":\"\",\"sub_shadow_shadow_offset_vertical\":\"\",\"sub_shadow_shadow_spread\":\"\",\"sub_shadow_shadow_color\":\"\",\"f_sub_elem_font_header\":\"\",\"f_sub_elem_font_title\":\"Elements text\",\"f_sub_elem_font_settings\":\"\",\"f_sub_elem_font_family\":\"\",\"f_sub_elem_font_size\":\"\",\"f_sub_elem_font_line_height\":\"\",\"f_sub_elem_font_style\":\"\",\"f_sub_elem_font_weight\":\"\",\"f_sub_elem_font_transform\":\"\",\"f_sub_elem_font_spacing\":\"\",\"f_sub_elem_\":\"\",\"mm_bg\":\"\",\"mm_border_size\":\"\",\"mm_border_color\":\"\",\"mm_shadow_shadow_header\":\"\",\"mm_shadow_shadow_title\":\"Shadow\",\"mm_shadow_shadow_size\":\"\",\"mm_shadow_shadow_offset_horizontal\":\"\",\"mm_shadow_shadow_offset_vertical\":\"\",\"mm_shadow_shadow_spread\":\"\",\"mm_shadow_shadow_color\":\"\",\"mm_subcats_border_color\":\"\",\"mm_elem_color\":\"\",\"mm_elem_color_a\":\"\",\"mm_elem_bg\":\"\",\"mm_elem_bg_a\":\"\",\"mm_elem_border_color\":\"\",\"mm_elem_border_color_a\":\"\",\"mm_elem_shadow_shadow_header\":\"\",\"mm_elem_shadow_shadow_title\":\"Elements shadow\",\"mm_elem_shadow_shadow_size\":\"\",\"mm_elem_shadow_shadow_offset_horizontal\":\"\",\"mm_elem_shadow_shadow_offset_vertical\":\"\",\"mm_elem_shadow_shadow_spread\":\"\",\"mm_elem_shadow_shadow_color\":\"\",\"f_mm_sub_font_header\":\"\",\"f_mm_sub_font_title\":\"Sub categories elements\",\"f_mm_sub_font_settings\":\"\",\"f_mm_sub_font_family\":\"\",\"f_mm_sub_font_line_height\":\"\",\"f_mm_sub_font_style\":\"\",\"f_mm_sub_font_weight\":\"\",\"f_mm_sub_font_transform\":\"\",\"f_mm_sub_font_spacing\":\"\",\"f_mm_sub_\":\"\",\"m_bg\":\"\",\"color_overlay\":\"\",\"shadow_shadow_header\":\"\",\"shadow_shadow_title\":\"Module Shadow\",\"shadow_shadow_size\":\"\",\"shadow_shadow_offset_horizontal\":\"\",\"shadow_shadow_offset_vertical\":\"\",\"shadow_shadow_spread\":\"\",\"shadow_shadow_color\":\"\",\"title_txt\":\"\",\"title_txt_hover\":\"\",\"all_underline_height\":\"\",\"all_underline_color\":\"#000\",\"cat_bg\":\"\",\"cat_bg_hover\":\"\",\"cat_txt\":\"\",\"cat_txt_hover\":\"\",\"cat_border\":\"\",\"cat_border_hover\":\"\",\"meta_bg\":\"\",\"author_txt\":\"\",\"author_txt_hover\":\"\",\"date_txt\":\"\",\"ex_txt\":\"\",\"com_bg\":\"\",\"com_txt\":\"\",\"rev_txt\":\"\",\"shadow_m_shadow_header\":\"\",\"shadow_m_shadow_title\":\"Meta info shadow\",\"shadow_m_shadow_size\":\"\",\"shadow_m_shadow_offset_horizontal\":\"\",\"shadow_m_shadow_offset_vertical\":\"\",\"shadow_m_shadow_spread\":\"\",\"shadow_m_shadow_color\":\"\",\"audio_btn_color\":\"\",\"audio_time_color\":\"\",\"audio_bar_color\":\"\",\"audio_bar_curr_color\":\"\",\"pag_text\":\"\",\"pag_h_text\":\"\",\"pag_bg\":\"\",\"pag_h_bg\":\"\",\"pag_border\":\"\",\"pag_h_border\":\"\",\"f_title_font_header\":\"\",\"f_title_font_title\":\"Article title\",\"f_title_font_settings\":\"\",\"f_title_font_family\":\"\",\"f_title_font_style\":\"\",\"f_title_font_weight\":\"\",\"f_title_font_transform\":\"\",\"f_title_font_spacing\":\"\",\"f_title_\":\"\",\"f_cat_font_title\":\"Article category tag\",\"f_cat_font_settings\":\"\",\"f_cat_font_family\":\"\",\"f_cat_font_size\":\"\",\"f_cat_font_line_height\":\"\",\"f_cat_font_style\":\"\",\"f_cat_font_weight\":\"\",\"f_cat_font_transform\":\"\",\"f_cat_font_spacing\":\"\",\"f_cat_\":\"\",\"f_meta_font_title\":\"Article meta info\",\"f_meta_font_settings\":\"\",\"f_meta_font_family\":\"\",\"f_meta_font_size\":\"\",\"f_meta_font_line_height\":\"\",\"f_meta_font_style\":\"\",\"f_meta_font_weight\":\"\",\"f_meta_font_transform\":\"\",\"f_meta_font_spacing\":\"\",\"f_meta_\":\"\",\"f_ex_font_title\":\"Article excerpt\",\"f_ex_font_settings\":\"\",\"f_ex_font_family\":\"\",\"f_ex_font_size\":\"\",\"f_ex_font_line_height\":\"\",\"f_ex_font_style\":\"\",\"f_ex_font_weight\":\"\",\"f_ex_font_transform\":\"\",\"f_ex_font_spacing\":\"\",\"f_ex_\":\"\",\"mix_color\":\"\",\"mix_type\":\"\",\"fe_brightness\":\"1\",\"fe_contrast\":\"1\",\"fe_saturate\":\"1\",\"mix_color_h\":\"\",\"mix_type_h\":\"\",\"fe_brightness_h\":\"1\",\"fe_contrast_h\":\"1\",\"fe_saturate_h\":\"1\",\"el_class\":\"\",\"block_template_id\":\"\",\"td_column_number\":3,\"header_color\":\"\",\"ajax_pagination_infinite_stop\":\"\",\"offset\":\"\",\"limit\":\"4\",\"td_ajax_preloading\":\"\",\"td_ajax_filter_type\":\"td_category_ids_filter\",\"td_filter_default_txt\":\"\",\"td_ajax_filter_ids\":\"\",\"color_preset\":\"\",\"ajax_pagination\":\"next_prev\",\"ajax_pagination_next_prev_swipe\":\"\",\"border_top\":\"\",\"css\":\"\",\"tdc_css_class\":\"tdi_77\",\"tdc_css_class_style\":\"tdi_77_rand_style\",\"category_id\":\"270\",\"subcats_posts_limit\":\"4\",\"child_cats_limit\":\"11\",\"hide_all\":\"\",\"tdc_css\":\"\",\"class\":\"tdi_77\"}\\';\\nblock_tdi_77.td_column_number = \"3\";\\nblock_tdi_77.block_type = \"tdb_header_mega_menu\";\\nblock_tdi_77.post_count = \"4\";\\nblock_tdi_77.found_posts = \"205\";\\nblock_tdi_77.header_color = \"\";\\nblock_tdi_77.ajax_pagination_infinite_stop = \"\";\\nblock_tdi_77.max_num_pages = \"52\";\\ntdBlocksArray.push(block_tdi_77);\\n</script><div class=\"block-mega-child-cats\"><a \\r\\n                        class=\"cur-sub-cat mega-menu-sub-cat-tdi_77\" \\r\\n                        id=\"tdi_78\" \\r\\n                        data-td_block_id=\"tdi_77\" \\r\\n                        data-td_filter_value=\"\" \\r\\n                        href=\"https://insights.blackcoffer.com/category/what-we-think/\"\\r\\n                    >All</a><a \\r\\n                        class=\"mega-menu-sub-cat-tdi_77\" \\r\\n                        id=\"tdi_79\" \\r\\n                        data-td_block_id=\"tdi_77\" \\r\\n                        data-td_filter_value=\"116\" \\r\\n                        href=\"https://insights.blackcoffer.com/category/what-we-think/automobiles-components/\"\\r\\n                    >Automobiles &amp; Components</a><a \\r\\n                        class=\"mega-menu-sub-cat-tdi_77\" \\r\\n                        id=\"tdi_80\" \\r\\n                        data-td_block_id=\"tdi_77\" \\r\\n                        data-td_filter_value=\"129\" \\r\\n                        href=\"https://insights.blackcoffer.com/category/what-we-think/financials/\"\\r\\n                    >BFSI</a><a \\r\\n                        class=\"mega-menu-sub-cat-tdi_77\" \\r\\n                        id=\"tdi_81\" \\r\\n                        data-td_block_id=\"tdi_77\" \\r\\n                        data-td_filter_value=\"247\" \\r\\n                        href=\"https://insights.blackcoffer.com/category/what-we-think/financials/asset-and-portfolio/\"\\r\\n                    >Asset and Portfolio</a><a \\r\\n                        class=\"mega-menu-sub-cat-tdi_77\" \\r\\n                        id=\"tdi_82\" \\r\\n                        data-td_block_id=\"tdi_77\" \\r\\n                        data-td_filter_value=\"130\" \\r\\n                        href=\"https://insights.blackcoffer.com/category/what-we-think/financials/banks/\"\\r\\n                    >Banks</a><a \\r\\n                        class=\"mega-menu-sub-cat-tdi_77\" \\r\\n                        id=\"tdi_83\" \\r\\n                        data-td_block_id=\"tdi_77\" \\r\\n                        data-td_filter_value=\"244\" \\r\\n                        href=\"https://insights.blackcoffer.com/category/what-we-think/financials/capital-markets/\"\\r\\n                    >Capital Markets</a><a \\r\\n                        class=\"mega-menu-sub-cat-tdi_77\" \\r\\n                        id=\"tdi_84\" \\r\\n                        data-td_block_id=\"tdi_77\" \\r\\n                        data-td_filter_value=\"245\" \\r\\n                        href=\"https://insights.blackcoffer.com/category/what-we-think/financials/derivatives-and-securities/\"\\r\\n                    >Derivatives and Securities</a><a \\r\\n                        class=\"mega-menu-sub-cat-tdi_77\" \\r\\n                        id=\"tdi_85\" \\r\\n                        data-td_block_id=\"tdi_77\" \\r\\n                        data-td_filter_value=\"131\" \\r\\n                        href=\"https://insights.blackcoffer.com/category/what-we-think/financials/diversified-financials/\"\\r\\n                    >Diversified Financials</a><a \\r\\n                        class=\"mega-menu-sub-cat-tdi_77\" \\r\\n                        id=\"tdi_86\" \\r\\n                        data-td_block_id=\"tdi_77\" \\r\\n                        data-td_filter_value=\"243\" \\r\\n                        href=\"https://insights.blackcoffer.com/category/what-we-think/financials/finance-and-accounting/\"\\r\\n                    >Finance &amp; Accounting</a><a \\r\\n                        class=\"mega-menu-sub-cat-tdi_77\" \\r\\n                        id=\"tdi_87\" \\r\\n                        data-td_block_id=\"tdi_77\" \\r\\n                        data-td_filter_value=\"132\" \\r\\n                        href=\"https://insights.blackcoffer.com/category/what-we-think/financials/insurance/\"\\r\\n                    >Insurance</a><a \\r\\n                        class=\"mega-menu-sub-cat-tdi_77\" \\r\\n                        id=\"tdi_88\" \\r\\n                        data-td_block_id=\"tdi_77\" \\r\\n                        data-td_filter_value=\"246\" \\r\\n                        href=\"https://insights.blackcoffer.com/category/what-we-think/financials/securities-and-capital-markets/\"\\r\\n                    >Securities and Capital Markets</a><a \\r\\n                        class=\"mega-menu-sub-cat-tdi_77\" \\r\\n                        id=\"tdi_89\" \\r\\n                        data-td_block_id=\"tdi_77\" \\r\\n                        data-td_filter_value=\"113\" \\r\\n                        href=\"https://insights.blackcoffer.com/category/what-we-think/capital-goods/\"\\r\\n                    >Capital Goods</a></div><div class=\"tdb-mega-modules-wrap\"><div id=tdi_77 class=\"td_block_inner\">\\r\\n        <div class=\"tdb_module_header tdb_module_mm td_module_wrap td-animation-stack td-cpt-post\">\\r\\n            <div class=\"td-module-container td-category-pos-image\">\\r\\n                                    <div class=\"td-image-container\">\\r\\n                        <a href=\"https://insights.blackcoffer.com/category/what-we-think/\" class=\"td-post-category\">What We Think</a>                        <div class=\"td-module-thumb\"><a href=\"https://insights.blackcoffer.com/rise-of-telemedicine-and-its-impact-on-livelihood-by-2040-3-2/\" rel=\"bookmark\" class=\"td-image-wrap \" title=\"Rise of telemedicine and its Impact on Livelihood by 2040\" ><span class=\"entry-thumb td-thumb-css\" data-type=\"css_image\" data-img-url=\"https://insights.blackcoffer.com/wp-content/uploads/2023/01/fidovhj-324x400.jpg\"  ></span></a></div>                                            </div>\\r\\n                \\r\\n                <div class=\"td-module-meta-info\">\\r\\n                                        \\r\\n                    <p class=\"entry-title td-module-title\"><a href=\"https://insights.blackcoffer.com/rise-of-telemedicine-and-its-impact-on-livelihood-by-2040-3-2/\" rel=\"bookmark\" title=\"Rise of telemedicine and its Impact on Livelihood by 2040\">Rise of telemedicine and its Impact on Livelihood by 2040</a></p>\\r\\n                    \\r\\n                                            <div class=\"td-editor-date\">\\r\\n                                                        \\r\\n                                                            <span class=\"td-author-date\">\\r\\n                                    \\r\\n                                    <span class=\"td-post-date\"><time class=\"entry-date updated td-module-date\" datetime=\"2023-01-02T20:45:14+05:30\" >January 2, 2023</time></span>                                                                                                        </span>\\r\\n                                                    </div>\\r\\n                    \\r\\n                    \\r\\n                                    </div>\\r\\n            </div>\\r\\n        </div>\\r\\n\\r\\n        \\r\\n        <div class=\"tdb_module_header tdb_module_mm td_module_wrap td-animation-stack td-cpt-post\">\\r\\n            <div class=\"td-module-container td-category-pos-image\">\\r\\n                                    <div class=\"td-image-container\">\\r\\n                        <a href=\"https://insights.blackcoffer.com/category/what-we-think/\" class=\"td-post-category\">What We Think</a>                        <div class=\"td-module-thumb\"><a href=\"https://insights.blackcoffer.com/rise-of-e-health-and-its-impact-on-humans-by-the-year-2030/\" rel=\"bookmark\" class=\"td-image-wrap \" title=\"Rise of e-health and its impact on humans by the year 2030\" ><span class=\"entry-thumb td-thumb-css\" data-type=\"css_image\" data-img-url=\"https://insights.blackcoffer.com/wp-content/uploads/2023/01/digital-health-324x400.jpg\"  ></span></a></div>                                            </div>\\r\\n                \\r\\n                <div class=\"td-module-meta-info\">\\r\\n                                        \\r\\n                    <p class=\"entry-title td-module-title\"><a href=\"https://insights.blackcoffer.com/rise-of-e-health-and-its-impact-on-humans-by-the-year-2030/\" rel=\"bookmark\" title=\"Rise of e-health and its impact on humans by the year 2030\">Rise of e-health and its impact on humans by the year 2030</a></p>\\r\\n                    \\r\\n                                            <div class=\"td-editor-date\">\\r\\n                                                        \\r\\n                                                            <span class=\"td-author-date\">\\r\\n                                    \\r\\n                                    <span class=\"td-post-date\"><time class=\"entry-date updated td-module-date\" datetime=\"2023-01-02T20:32:51+05:30\" >January 2, 2023</time></span>                                                                                                        </span>\\r\\n                                                    </div>\\r\\n                    \\r\\n                    \\r\\n                                    </div>\\r\\n            </div>\\r\\n        </div>\\r\\n\\r\\n        \\r\\n        <div class=\"tdb_module_header tdb_module_mm td_module_wrap td-animation-stack td-cpt-post\">\\r\\n            <div class=\"td-module-container td-category-pos-image\">\\r\\n                                    <div class=\"td-image-container\">\\r\\n                        <a href=\"https://insights.blackcoffer.com/category/what-we-think/\" class=\"td-post-category\">What We Think</a>                        <div class=\"td-module-thumb\"><a href=\"https://insights.blackcoffer.com/rise-of-e-health-and-its-imapct-on-humans-by-the-year-2030-2/\" rel=\"bookmark\" class=\"td-image-wrap \" title=\"Rise of e-health and its impact on humans by the year 2030\" ><span class=\"entry-thumb td-thumb-css\" data-type=\"css_image\" data-img-url=\"https://insights.blackcoffer.com/wp-content/uploads/2023/01/po-324x400.jpg\"  ></span></a></div>                                            </div>\\r\\n                \\r\\n                <div class=\"td-module-meta-info\">\\r\\n                                        \\r\\n                    <p class=\"entry-title td-module-title\"><a href=\"https://insights.blackcoffer.com/rise-of-e-health-and-its-imapct-on-humans-by-the-year-2030-2/\" rel=\"bookmark\" title=\"Rise of e-health and its impact on humans by the year 2030\">Rise of e-health and its impact on humans by the year 2030</a></p>\\r\\n                    \\r\\n                                            <div class=\"td-editor-date\">\\r\\n                                                        \\r\\n                                                            <span class=\"td-author-date\">\\r\\n                                    \\r\\n                                    <span class=\"td-post-date\"><time class=\"entry-date updated td-module-date\" datetime=\"2023-01-02T20:22:47+05:30\" >January 2, 2023</time></span>                                                                                                        </span>\\r\\n                                                    </div>\\r\\n                    \\r\\n                    \\r\\n                                    </div>\\r\\n            </div>\\r\\n        </div>\\r\\n\\r\\n        \\r\\n        <div class=\"tdb_module_header tdb_module_mm td_module_wrap td-animation-stack td-cpt-post\">\\r\\n            <div class=\"td-module-container td-category-pos-image\">\\r\\n                                    <div class=\"td-image-container\">\\r\\n                        <a href=\"https://insights.blackcoffer.com/category/what-we-think/\" class=\"td-post-category\">What We Think</a>                        <div class=\"td-module-thumb\"><a href=\"https://insights.blackcoffer.com/rise-of-telemedicine-and-its-impact-on-livelihood-by-2040-2/\" rel=\"bookmark\" class=\"td-image-wrap \" title=\"Rise of telemedicine and its Impact on Livelihood by 2040\" ><span class=\"entry-thumb td-thumb-css\" data-type=\"css_image\" data-img-url=\"https://insights.blackcoffer.com/wp-content/uploads/2023/01/telehealth_doctor_getty_1200-324x400.jpg\"  ></span></a></div>                                            </div>\\r\\n                \\r\\n                <div class=\"td-module-meta-info\">\\r\\n                                        \\r\\n                    <p class=\"entry-title td-module-title\"><a href=\"https://insights.blackcoffer.com/rise-of-telemedicine-and-its-impact-on-livelihood-by-2040-2/\" rel=\"bookmark\" title=\"Rise of telemedicine and its Impact on Livelihood by 2040\">Rise of telemedicine and its Impact on Livelihood by 2040</a></p>\\r\\n                    \\r\\n                                            <div class=\"td-editor-date\">\\r\\n                                                        \\r\\n                                                            <span class=\"td-author-date\">\\r\\n                                    \\r\\n                                    <span class=\"td-post-date\"><time class=\"entry-date updated td-module-date\" datetime=\"2023-01-02T19:55:52+05:30\" >January 2, 2023</time></span>                                                                                                        </span>\\r\\n                                                    </div>\\r\\n                    \\r\\n                    \\r\\n                                    </div>\\r\\n            </div>\\r\\n        </div>\\r\\n\\r\\n        </div><div class=\"td-next-prev-wrap\"><a href=\"#\" class=\"td-ajax-prev-page ajax-page-disabled\" aria-label=\"prev-page\" id=\"prev-page-tdi_77\" data-td_block_id=\"tdi_77\"><i class=\"td-next-prev-icon td-icon-font td-icon-menu-left\"></i></a><a href=\"#\"  class=\"td-ajax-next-page\" aria-label=\"next-page\" id=\"next-page-tdi_77\" data-td_block_id=\"tdi_77\"><i class=\"td-next-prev-icon td-icon-font td-icon-menu-right\"></i></a></div></div></div> <!-- ./block1 --></div></li>\\n</ul>\\n</li>\\n<li class=\"menu-item menu-item-type-taxonomy menu-item-object-category tdb-menu-item-button tdb-menu-item tdb-mega-menu tdb-mega-menu-inactive menu-item-4061\"><a href=\"https://insights.blackcoffer.com/category/how-to/\"><div class=\"tdb-menu-item-text\">How To</div><i class=\"tdb-sub-menu-icon td-icon-down tdb-main-sub-menu-icon\"></i></a>\\n<ul class=\"sub-menu\">\\n\\t<li class=\"menu-item-0\"><div class=\"tdb-menu-item-text\"><div class=\"tdb_header_mega_menu tdi_90 td_with_ajax_pagination td-pb-border-top td_block_template_1\"  data-td-block-uid=\"tdi_90\" >\\n<style>\\n/* custom css */\\n.tdi_90 .block-mega-child-cats{\\r\\n\\t\\t\\t\\t\\tpadding: 16px 0;\\r\\n\\t\\t\\t\\t\\r\\n\\t\\t\\t\\t\\ttext-align: right;\\r\\n\\t\\t\\t\\t}.tdi_90 .block-mega-child-cats:after{\\r\\n\\t\\t\\t\\t    border-width: 0 1px 0 0;\\r\\n\\t\\t\\t\\t}.tdi_90 .block-mega-child-cats a{\\r\\n\\t\\t\\t\\t\\tpadding: 2px 22px;\\r\\n\\t\\t\\t\\t\\r\\n\\t\\t\\t\\t\\tborder-width: 0 1px 0 0;\\r\\n\\t\\t\\t\\t\\r\\n\\t\\t\\t\\t\\tfont-size:13px !important;\\r\\n\\t\\t\\t\\t}.tdi_90 .block-mega-child-cats .cur-sub-cat{\\r\\n\\t\\t\\t\\t\\tborder-width: 0 1px 0 0;\\r\\n\\t\\t\\t\\t}.tdi_90:not(.td-no-subcats) .td_module_wrap{\\r\\n\\t\\t\\t\\t\\twidth: 25%;\\r\\n\\t\\t\\t\\t\\tfloat: left;\\r\\n\\t\\t\\t\\t}.td-md-is-safari .tdi_90:not(.td-no-subcats) .td_module_wrap{\\r\\n\\t\\t\\t\\t    margin-right: -1px;\\r\\n\\t\\t\\t\\t}.tdi_90.td-no-subcats .td_module_wrap{\\r\\n\\t\\t\\t\\t\\twidth: 20%;\\r\\n\\t\\t\\t\\t\\tfloat: left;\\r\\n\\t\\t\\t\\t}.td-md-is-safari .tdi_90.td-no-subcats .td_module_wrap{\\r\\n\\t\\t\\t\\t    margin-right: -1px;\\r\\n\\t\\t\\t\\t}.tdi_90 .td_module_wrap:nth-child(4n+1){\\r\\n\\t\\t\\t\\t\\tclear: both;\\r\\n\\t\\t\\t\\t}.tdi_90 .td_module_wrap:nth-last-child(-n+4){\\r\\n\\t\\t\\t\\t\\tmargin-bottom: 0;\\r\\n\\t\\t\\t\\t\\tpadding-bottom: 0;\\r\\n\\t\\t\\t\\t}.tdi_90 .td_module_wrap:nth-last-child(-n+4) .td-module-container:before{\\r\\n\\t\\t\\t\\t\\tdisplay: none;\\r\\n\\t\\t\\t\\t}.tdi_90 .td_module_wrap{\\r\\n\\t\\t\\t\\t\\tpadding-left: 11px;\\r\\n\\t\\t\\t\\t\\tpadding-right: 11px;\\r\\n\\t\\t\\t\\t\\r\\n\\t\\t\\t\\t\\tpadding-bottom: 13px;\\r\\n\\t\\t\\t\\t\\tmargin-bottom: 13px;\\r\\n\\t\\t\\t\\t\\r\\n\\t\\t\\t        display: flex;\\r\\n\\t\\t\\t        flex-direction: column;\\r\\n\\t\\t\\t    }.tdi_90 .td_block_inner{\\r\\n\\t\\t\\t\\t\\tmargin-left: -11px;\\r\\n\\t\\t\\t\\t\\tmargin-right: -11px;\\r\\n\\t\\t\\t\\t\\r\\n\\t\\t\\t        display: flex;\\r\\n\\t\\t\\t        flex-wrap: wrap;\\r\\n\\t\\t\\t    }.tdi_90 .td-module-container:before{\\r\\n\\t\\t\\t\\t\\tbottom: -13px;\\r\\n\\t\\t\\t\\t\\r\\n\\t\\t\\t\\t\\tborder-color: #eaeaea;\\r\\n\\t\\t\\t\\t}.tdi_90 .td-module-container{\\r\\n\\t\\t\\t\\t    border-color: #eaeaea;\\r\\n\\t\\t\\t\\t\\r\\n\\t\\t\\t\\t\\tflex-direction: column;\\r\\n\\t\\t\\t\\t\\r\\n\\t\\t\\t        flex: 1;\\r\\n                    flex-basis: auto;\\r\\n\\t\\t\\t    }.tdi_90 .entry-thumb{\\r\\n\\t\\t\\t\\t\\tbackground-position: center 50%;\\r\\n\\t\\t\\t\\t}.tdi_90 .td-image-container{\\r\\n                \\tdisplay: block; order: 0;\\r\\n                }.ie10 .tdi_90 .td-module-meta-info,\\r\\n\\t\\t\\t\\t.ie11 .tdi_90 .td-module-meta-info{\\r\\n\\t\\t\\t\\t \\tflex: auto;\\r\\n\\t\\t\\t    }.tdi_90 .td-post-vid-time{\\r\\n\\t\\t\\t\\t\\tdisplay: block;\\r\\n\\t\\t\\t\\t}.tdi_90 .entry-title{\\r\\n\\t\\t\\t\\t\\tmargin: 3px 0;\\r\\n\\t\\t\\t\\t\\r\\n\\t\\t\\t\\t\\tfont-size:15px !important;line-height:1.2 !important;\\r\\n\\t\\t\\t\\t}.tdi_90 .td-excerpt{\\r\\n\\t\\t\\t\\t\\tcolumn-count: 1;\\r\\n\\t\\t\\t\\t\\r\\n\\t\\t\\t\\t\\tcolumn-gap: 48px;\\r\\n\\t\\t\\t\\t\\r\\n\\t\\t\\t\\t\\tdisplay: none;\\r\\n\\t\\t\\t\\t}.tdi_90 .td-audio-player{\\r\\n\\t\\t\\t\\t\\tfont-size: 12px;\\r\\n\\t\\t\\t\\t\\r\\n\\t\\t\\t\\t\\topacity: 1;\\r\\n\\t\\t\\t\\t\\tvisibility: visible;\\r\\n\\t\\t\\t\\t\\theight: auto;\\r\\n\\t\\t\\t\\t}.tdi_90 .td-module-meta-info{\\r\\n\\t\\t\\t\\t\\tborder-color: #eaeaea;\\r\\n\\t\\t\\t\\t}.tdi_90 .td-post-category:not(.td-post-extra-category){\\r\\n\\t\\t\\t\\t\\tdisplay: inline-block;\\r\\n\\t\\t\\t\\t}.tdi_90 .td-author-date{\\r\\n\\t\\t\\t\\t\\tdisplay: inline;\\r\\n\\t\\t\\t\\t}.tdi_90 .td-post-author-name{\\r\\n\\t\\t\\t\\t\\tdisplay: none;\\r\\n\\t\\t\\t\\t}.tdi_90 .entry-review-stars{\\r\\n\\t\\t\\t\\t\\tdisplay: inline-block;\\r\\n\\t\\t\\t\\t}.tdi_90 .td-icon-star,\\r\\n                .tdi_90 .td-icon-star-empty,\\r\\n                .tdi_90 .td-icon-star-half{\\r\\n\\t\\t\\t\\t\\tfont-size: 15px;\\r\\n\\t\\t\\t\\t}.tdi_90 .td-module-comments{\\r\\n\\t\\t\\t\\t\\tdisplay: none;\\r\\n\\t\\t\\t\\t}.tdi_90 .td-author-photo .avatar{\\r\\n\\t\\t\\t\\t    width: 20px;\\r\\n\\t\\t\\t\\t    height: 20px;\\r\\n\\t\\t\\t\\t\\r\\n\\t\\t\\t\\t    margin-right: 6px;\\r\\n\\t\\t\\t\\t\\r\\n\\t\\t\\t\\t    border-radius: 50%;\\r\\n\\t\\t\\t\\t}.tdi_90:not(.td-no-subcats) .block-mega-child-cats:before{\\r\\n\\t\\t\\t\\t\\tbackground-color: #ffffff;\\r\\n\\t\\t\\t\\t}.tdi_90 .td-module-exclusive .td-module-title a:before{\\r\\n                    display: inline-block;\\r\\n                }html:not([class*=\\'ie\\']) .tdi_90 .td-module-container:hover .entry-thumb:before{\\r\\n                    opacity: 0;\\r\\n                }\\n\\n/* landscape */\\n@media (min-width: 1019px) and (max-width: 1140px){\\n.tdi_90 .block-mega-child-cats{\\r\\n\\t\\t\\t\\t\\twidth: 160px;\\r\\n\\t\\t\\t\\t}.tdi_90 .td_module_wrap{\\r\\n\\t\\t\\t\\t\\tpadding-bottom: 13px !important;\\r\\n\\t\\t\\t\\t\\tmargin-bottom: 13px !important;\\r\\n\\t\\t\\t\\t\\r\\n\\t\\t\\t\\t\\tclear: none !important;\\r\\n\\t\\t\\t\\t\\r\\n\\t\\t\\t\\t\\tpadding-bottom: 13px;\\r\\n\\t\\t\\t\\t\\tmargin-bottom: 13px;\\r\\n\\t\\t\\t\\t}.tdi_90 .td_module_wrap:nth-last-child(-n+4){\\r\\n\\t\\t\\t\\t\\tmargin-bottom: 0 !important;\\r\\n\\t\\t\\t\\t\\tpadding-bottom: 0 !important;\\r\\n\\t\\t\\t\\t}.tdi_90 .td_module_wrap .td-module-container:before{\\r\\n\\t\\t\\t\\t\\tdisplay: block !important;\\r\\n\\t\\t\\t\\t}.tdi_90 .td_module_wrap:nth-last-child(-n+4) .td-module-container:before{\\r\\n\\t\\t\\t\\t\\tdisplay: none !important;\\r\\n\\t\\t\\t\\t}.tdi_90 .td_module_wrap:nth-child(4n+1){\\r\\n\\t\\t\\t\\t\\tclear: both !important;\\r\\n\\t\\t\\t\\t}.tdi_90 .td-module-container:before{\\r\\n\\t\\t\\t\\t\\tbottom: -13px;\\r\\n\\t\\t\\t\\t}.tdi_90 .entry-title{\\r\\n\\t\\t\\t\\t\\tfont-size:14px !important;line-height:1.2 !important;\\r\\n\\t\\t\\t\\t}\\n}\\n\\n/* portrait */\\n@media (min-width: 768px) and (max-width: 1018px){\\n.tdi_90 .tdb-mega-modules-wrap{\\r\\n\\t\\t\\t\\t\\tpadding: 14px;\\r\\n\\t\\t\\t\\t}.tdi_90 .block-mega-child-cats{\\r\\n\\t\\t\\t\\t\\twidth: 140px;\\r\\n\\t\\t\\t\\t\\r\\n\\t\\t\\t\\t\\tpadding: 14px 0;\\r\\n\\t\\t\\t\\t}.tdi_90 .block-mega-child-cats a{\\r\\n\\t\\t\\t\\t\\tpadding: 0 14px;\\r\\n\\t\\t\\t\\t\\r\\n\\t\\t\\t\\t\\tfont-size:11px !important;\\r\\n\\t\\t\\t\\t}.tdi_90 .td_module_wrap{\\r\\n\\t\\t\\t\\t\\tpadding-bottom: 13px !important;\\r\\n\\t\\t\\t\\t\\tmargin-bottom: 13px !important;\\r\\n\\t\\t\\t\\t\\r\\n\\t\\t\\t\\t\\tclear: none !important;\\r\\n\\t\\t\\t\\t\\r\\n\\t\\t\\t\\t\\tpadding-left: 7px;\\r\\n\\t\\t\\t\\t\\tpadding-right: 7px;\\r\\n\\t\\t\\t\\t\\r\\n\\t\\t\\t\\t\\tpadding-bottom: 13px;\\r\\n\\t\\t\\t\\t\\tmargin-bottom: 13px;\\r\\n\\t\\t\\t\\t}.tdi_90 .td_module_wrap:nth-last-child(-n+4){\\r\\n\\t\\t\\t\\t\\tmargin-bottom: 0 !important;\\r\\n\\t\\t\\t\\t\\tpadding-bottom: 0 !important;\\r\\n\\t\\t\\t\\t}.tdi_90 .td_module_wrap .td-module-container:before{\\r\\n\\t\\t\\t\\t\\tdisplay: block !important;\\r\\n\\t\\t\\t\\t}.tdi_90 .td_module_wrap:nth-last-child(-n+4) .td-module-container:before{\\r\\n\\t\\t\\t\\t\\tdisplay: none !important;\\r\\n\\t\\t\\t\\t}.tdi_90 .td_module_wrap:nth-child(4n+1){\\r\\n\\t\\t\\t\\t\\tclear: both !important;\\r\\n\\t\\t\\t\\t}.tdi_90 .td_block_inner{\\r\\n\\t\\t\\t\\t\\tmargin-left: -7px;\\r\\n\\t\\t\\t\\t\\tmargin-right: -7px;\\r\\n\\t\\t\\t\\t}.tdi_90 .td-module-container:before{\\r\\n\\t\\t\\t\\t\\tbottom: -13px;\\r\\n\\t\\t\\t\\t}.tdi_90 .td-video-play-ico{\\r\\n\\t\\t\\t\\t\\twidth: 24px;\\r\\n\\t\\t\\t\\t\\theight: 24px;\\r\\n\\t\\t\\t\\t\\tfont-size: 24px;\\r\\n\\t\\t\\t\\t}.tdi_90 .entry-title{\\r\\n\\t\\t\\t\\t\\tfont-size:13px !important;line-height:1.2 !important;\\r\\n\\t\\t\\t\\t}\\n}\\n\\n/* phone */\\n@media (max-width: 767px){\\n.tdi_90 .td_module_wrap{\\r\\n\\t\\t\\t\\t\\tpadding-bottom: 13px !important;\\r\\n\\t\\t\\t\\t\\tmargin-bottom: 13px !important;\\r\\n\\t\\t\\t\\t\\r\\n\\t\\t\\t\\t\\tclear: none !important;\\r\\n\\t\\t\\t\\t\\r\\n\\t\\t\\t\\t\\tpadding-bottom: 13px;\\r\\n\\t\\t\\t\\t\\tmargin-bottom: 13px;\\r\\n\\t\\t\\t\\t}.tdi_90 .td_module_wrap:nth-last-child(-n+4){\\r\\n\\t\\t\\t\\t\\tmargin-bottom: 0 !important;\\r\\n\\t\\t\\t\\t\\tpadding-bottom: 0 !important;\\r\\n\\t\\t\\t\\t}.tdi_90 .td_module_wrap .td-module-container:before{\\r\\n\\t\\t\\t\\t\\tdisplay: block !important;\\r\\n\\t\\t\\t\\t}.tdi_90 .td_module_wrap:nth-last-child(-n+4) .td-module-container:before{\\r\\n\\t\\t\\t\\t\\tdisplay: none !important;\\r\\n\\t\\t\\t\\t}.tdi_90 .td_module_wrap:nth-child(4n+1){\\r\\n\\t\\t\\t\\t\\tclear: both !important;\\r\\n\\t\\t\\t\\t}.tdi_90 .td-module-container:before{\\r\\n\\t\\t\\t\\t\\tbottom: -13px;\\r\\n\\t\\t\\t\\t}\\n}\\n</style><script>var block_tdi_90 = new tdBlock();\\nblock_tdi_90.id = \"tdi_90\";\\nblock_tdi_90.atts = \\'{\"mc1_title_tag\":\"p\",\"main_sub_tdicon\":\"td-icon-down\",\"sub_tdicon\":\"td-icon-right-arrow\",\"mm_align_horiz\":\"content-horiz-center\",\"modules_on_row_regular\":\"20%\",\"modules_on_row_cats\":\"25%\",\"image_size\":\"td_324x400\",\"modules_category\":\"image\",\"show_excerpt\":\"none\",\"show_com\":\"none\",\"show_date\":\"\",\"show_author\":\"none\",\"mm_sub_align_horiz\":\"content-horiz-right\",\"mm_elem_align_horiz\":\"content-horiz-right\",\"inline\":\"yes\",\"menu_id\":\"\",\"mm_align_screen\":\"yes\",\"f_elem_font_family\":\"\",\"f_elem_font_size\":\"eyJwb3J0cmFpdCI6IjExIn0=\",\"mm_width\":\"1300\",\"mm_subcats_bg\":\"#ffffff\",\"mm_elem_border_a\":\"0 1px 0 0\",\"mm_elem_padd\":\"eyJhbGwiOiIycHggMjJweCIsInBvcnRyYWl0IjoiMCAxNHB4In0=\",\"mm_sub_padd\":\"eyJhbGwiOiIxNnB4IDAiLCJwb3J0cmFpdCI6IjE0cHggMCJ9\",\"f_title_font_size\":\"eyJhbGwiOiIxNSIsImxhbmRzY2FwZSI6IjE0IiwicG9ydHJhaXQiOiIxMyJ9\",\"f_title_font_line_height\":\"1.2\",\"art_title\":\"3px 0\",\"f_mm_sub_font_size\":\"eyJhbGwiOiIxMyIsInBvcnRyYWl0IjoiMTEifQ==\",\"mm_child_cats\":\"11\",\"mm_elem_border\":\"0 1px 0 0\",\"mm_height\":\"eyJhbGwiOiIzNDUiLCJsYW5kc2NhcGUiOiIzMDAiLCJwb3J0cmFpdCI6IjI0MCJ9\",\"mm_sub_width\":\"eyJsYW5kc2NhcGUiOiIxNjAiLCJwb3J0cmFpdCI6IjE0MCJ9\",\"mm_padd\":\"eyJwb3J0cmFpdCI6IjE0In0=\",\"modules_gap\":\"eyJwb3J0cmFpdCI6IjE0In0=\",\"elem_padd\":\"eyJwb3J0cmFpdCI6IjAgMTJweCJ9\",\"f_elem_font_line_height\":\"eyJwb3J0cmFpdCI6IjQ4cHgifQ==\",\"video_icon\":\"eyJwb3J0cmFpdCI6IjI0In0=\",\"all_modules_space\":\"26\",\"tds_menu_sub_active\":\"tds_menu_sub_active1\",\"tds_menu_sub_active2-line_color\":\"\",\"tds_menu_active\":\"tds_menu_active1\",\"block_type\":\"tdb_header_mega_menu\",\"show_subcat\":\"\",\"show_mega\":\"\",\"show_mega_cats\":\"\",\"separator\":\"\",\"width\":\"\",\"more\":\"\",\"float_right\":\"\",\"align_horiz\":\"content-horiz-left\",\"elem_space\":\"\",\"main_sub_icon_size\":\"\",\"main_sub_icon_space\":\"\",\"main_sub_icon_align\":\"-1\",\"sep_tdicon\":\"\",\"sep_icon_size\":\"\",\"sep_icon_space\":\"\",\"sep_icon_align\":\"-1\",\"more_txt\":\"\",\"more_tdicon\":\"\",\"more_icon_size\":\"\",\"more_icon_align\":\"0\",\"sub_width\":\"\",\"sub_first_left\":\"\",\"sub_rest_top\":\"\",\"sub_padd\":\"\",\"sub_align_horiz\":\"content-horiz-left\",\"sub_elem_inline\":\"\",\"sub_elem_space\":\"\",\"sub_elem_padd\":\"\",\"sub_elem_radius\":\"0\",\"sub_icon_size\":\"\",\"sub_icon_space\":\"\",\"sub_icon_pos\":\"\",\"sub_icon_align\":\"1\",\"mm_content_width\":\"\",\"mm_offset\":\"\",\"mm_posts_limit\":\"5\",\"mm_subcats_posts_limit\":\"4\",\"mm_ajax_preloading\":\"\",\"mm_hide_all_item\":\"\",\"mm_sub_border\":\"\",\"mm_sub_inline\":\"\",\"mm_elem_order\":\"name\",\"mm_elem_space\":\"\",\"mm_elem_border_rad\":\"\",\"mc1_tl\":\"\",\"mc1_el\":\"\",\"m_padding\":\"\",\"modules_border_size\":\"\",\"modules_border_style\":\"\",\"modules_border_color\":\"#eaeaea\",\"modules_divider\":\"\",\"modules_divider_color\":\"#eaeaea\",\"h_effect\":\"\",\"image_alignment\":\"50\",\"image_height\":\"\",\"image_width\":\"\",\"image_floated\":\"no_float\",\"image_radius\":\"\",\"hide_image\":\"\",\"show_vid_t\":\"block\",\"vid_t_margin\":\"\",\"vid_t_padding\":\"\",\"vid_t_color\":\"\",\"vid_t_bg_color\":\"\",\"f_vid_time_font_header\":\"\",\"f_vid_time_font_title\":\"Video duration text\",\"f_vid_time_font_settings\":\"\",\"f_vid_time_font_family\":\"\",\"f_vid_time_font_size\":\"\",\"f_vid_time_font_line_height\":\"\",\"f_vid_time_font_style\":\"\",\"f_vid_time_font_weight\":\"\",\"f_vid_time_font_transform\":\"\",\"f_vid_time_font_spacing\":\"\",\"f_vid_time_\":\"\",\"excl_show\":\"inline-block\",\"excl_txt\":\"\",\"excl_margin\":\"\",\"excl_padd\":\"\",\"all_excl_border\":\"\",\"all_excl_border_style\":\"solid\",\"excl_radius\":\"\",\"excl_color\":\"\",\"excl_color_h\":\"\",\"excl_bg\":\"\",\"excl_bg_h\":\"\",\"all_excl_border_color\":\"\",\"excl_border_color_h\":\"\",\"f_excl_font_header\":\"\",\"f_excl_font_title\":\"Label text\",\"f_excl_font_settings\":\"\",\"f_excl_font_family\":\"\",\"f_excl_font_size\":\"\",\"f_excl_font_line_height\":\"\",\"f_excl_font_style\":\"\",\"f_excl_font_weight\":\"\",\"f_excl_font_transform\":\"\",\"f_excl_font_spacing\":\"\",\"f_excl_\":\"\",\"show_audio\":\"block\",\"hide_audio\":\"\",\"art_audio\":\"\",\"art_audio_size\":\"1\",\"meta_info_align\":\"\",\"meta_info_horiz\":\"content-horiz-left\",\"meta_width\":\"\",\"meta_margin\":\"\",\"meta_padding\":\"\",\"meta_info_border_size\":\"\",\"meta_info_border_style\":\"\",\"meta_info_border_color\":\"#eaeaea\",\"modules_category_margin\":\"\",\"modules_category_padding\":\"\",\"modules_cat_border\":\"\",\"modules_category_radius\":\"0\",\"show_cat\":\"inline-block\",\"modules_extra_cat\":\"\",\"author_photo\":\"\",\"author_photo_size\":\"\",\"author_photo_space\":\"\",\"author_photo_radius\":\"\",\"show_modified_date\":\"\",\"time_ago\":\"\",\"time_ago_add_txt\":\"ago\",\"time_ago_txt_pos\":\"\",\"art_excerpt\":\"\",\"excerpt_col\":\"1\",\"excerpt_gap\":\"\",\"excerpt_middle\":\"\",\"show_review\":\"inline-block\",\"review_space\":\"\",\"review_size\":\"2.5\",\"review_distance\":\"\",\"show_pagination\":\"\",\"pag_space\":\"\",\"pag_padding\":\"\",\"pag_border_width\":\"\",\"pag_border_radius\":\"\",\"prev_tdicon\":\"\",\"next_tdicon\":\"\",\"pag_icons_size\":\"\",\"text_color\":\"\",\"main_sub_color\":\"\",\"sep_color\":\"\",\"more_icon_color\":\"\",\"hover_opacity\":\"\",\"f_elem_font_header\":\"\",\"f_elem_font_title\":\"Elements text\",\"f_elem_font_settings\":\"\",\"f_elem_font_style\":\"\",\"f_elem_font_weight\":\"\",\"f_elem_font_transform\":\"\",\"f_elem_font_spacing\":\"\",\"f_elem_\":\"\",\"sub_bg_color\":\"\",\"sub_border_size\":\"\",\"sub_border_color\":\"\",\"sub_text_color\":\"\",\"sub_elem_bg_color\":\"\",\"sub_color\":\"\",\"sub_shadow_shadow_header\":\"\",\"sub_shadow_shadow_title\":\"Shadow\",\"sub_shadow_shadow_size\":\"\",\"sub_shadow_shadow_offset_horizontal\":\"\",\"sub_shadow_shadow_offset_vertical\":\"\",\"sub_shadow_shadow_spread\":\"\",\"sub_shadow_shadow_color\":\"\",\"f_sub_elem_font_header\":\"\",\"f_sub_elem_font_title\":\"Elements text\",\"f_sub_elem_font_settings\":\"\",\"f_sub_elem_font_family\":\"\",\"f_sub_elem_font_size\":\"\",\"f_sub_elem_font_line_height\":\"\",\"f_sub_elem_font_style\":\"\",\"f_sub_elem_font_weight\":\"\",\"f_sub_elem_font_transform\":\"\",\"f_sub_elem_font_spacing\":\"\",\"f_sub_elem_\":\"\",\"mm_bg\":\"\",\"mm_border_size\":\"\",\"mm_border_color\":\"\",\"mm_shadow_shadow_header\":\"\",\"mm_shadow_shadow_title\":\"Shadow\",\"mm_shadow_shadow_size\":\"\",\"mm_shadow_shadow_offset_horizontal\":\"\",\"mm_shadow_shadow_offset_vertical\":\"\",\"mm_shadow_shadow_spread\":\"\",\"mm_shadow_shadow_color\":\"\",\"mm_subcats_border_color\":\"\",\"mm_elem_color\":\"\",\"mm_elem_color_a\":\"\",\"mm_elem_bg\":\"\",\"mm_elem_bg_a\":\"\",\"mm_elem_border_color\":\"\",\"mm_elem_border_color_a\":\"\",\"mm_elem_shadow_shadow_header\":\"\",\"mm_elem_shadow_shadow_title\":\"Elements shadow\",\"mm_elem_shadow_shadow_size\":\"\",\"mm_elem_shadow_shadow_offset_horizontal\":\"\",\"mm_elem_shadow_shadow_offset_vertical\":\"\",\"mm_elem_shadow_shadow_spread\":\"\",\"mm_elem_shadow_shadow_color\":\"\",\"f_mm_sub_font_header\":\"\",\"f_mm_sub_font_title\":\"Sub categories elements\",\"f_mm_sub_font_settings\":\"\",\"f_mm_sub_font_family\":\"\",\"f_mm_sub_font_line_height\":\"\",\"f_mm_sub_font_style\":\"\",\"f_mm_sub_font_weight\":\"\",\"f_mm_sub_font_transform\":\"\",\"f_mm_sub_font_spacing\":\"\",\"f_mm_sub_\":\"\",\"m_bg\":\"\",\"color_overlay\":\"\",\"shadow_shadow_header\":\"\",\"shadow_shadow_title\":\"Module Shadow\",\"shadow_shadow_size\":\"\",\"shadow_shadow_offset_horizontal\":\"\",\"shadow_shadow_offset_vertical\":\"\",\"shadow_shadow_spread\":\"\",\"shadow_shadow_color\":\"\",\"title_txt\":\"\",\"title_txt_hover\":\"\",\"all_underline_height\":\"\",\"all_underline_color\":\"#000\",\"cat_bg\":\"\",\"cat_bg_hover\":\"\",\"cat_txt\":\"\",\"cat_txt_hover\":\"\",\"cat_border\":\"\",\"cat_border_hover\":\"\",\"meta_bg\":\"\",\"author_txt\":\"\",\"author_txt_hover\":\"\",\"date_txt\":\"\",\"ex_txt\":\"\",\"com_bg\":\"\",\"com_txt\":\"\",\"rev_txt\":\"\",\"shadow_m_shadow_header\":\"\",\"shadow_m_shadow_title\":\"Meta info shadow\",\"shadow_m_shadow_size\":\"\",\"shadow_m_shadow_offset_horizontal\":\"\",\"shadow_m_shadow_offset_vertical\":\"\",\"shadow_m_shadow_spread\":\"\",\"shadow_m_shadow_color\":\"\",\"audio_btn_color\":\"\",\"audio_time_color\":\"\",\"audio_bar_color\":\"\",\"audio_bar_curr_color\":\"\",\"pag_text\":\"\",\"pag_h_text\":\"\",\"pag_bg\":\"\",\"pag_h_bg\":\"\",\"pag_border\":\"\",\"pag_h_border\":\"\",\"f_title_font_header\":\"\",\"f_title_font_title\":\"Article title\",\"f_title_font_settings\":\"\",\"f_title_font_family\":\"\",\"f_title_font_style\":\"\",\"f_title_font_weight\":\"\",\"f_title_font_transform\":\"\",\"f_title_font_spacing\":\"\",\"f_title_\":\"\",\"f_cat_font_title\":\"Article category tag\",\"f_cat_font_settings\":\"\",\"f_cat_font_family\":\"\",\"f_cat_font_size\":\"\",\"f_cat_font_line_height\":\"\",\"f_cat_font_style\":\"\",\"f_cat_font_weight\":\"\",\"f_cat_font_transform\":\"\",\"f_cat_font_spacing\":\"\",\"f_cat_\":\"\",\"f_meta_font_title\":\"Article meta info\",\"f_meta_font_settings\":\"\",\"f_meta_font_family\":\"\",\"f_meta_font_size\":\"\",\"f_meta_font_line_height\":\"\",\"f_meta_font_style\":\"\",\"f_meta_font_weight\":\"\",\"f_meta_font_transform\":\"\",\"f_meta_font_spacing\":\"\",\"f_meta_\":\"\",\"f_ex_font_title\":\"Article excerpt\",\"f_ex_font_settings\":\"\",\"f_ex_font_family\":\"\",\"f_ex_font_size\":\"\",\"f_ex_font_line_height\":\"\",\"f_ex_font_style\":\"\",\"f_ex_font_weight\":\"\",\"f_ex_font_transform\":\"\",\"f_ex_font_spacing\":\"\",\"f_ex_\":\"\",\"mix_color\":\"\",\"mix_type\":\"\",\"fe_brightness\":\"1\",\"fe_contrast\":\"1\",\"fe_saturate\":\"1\",\"mix_color_h\":\"\",\"mix_type_h\":\"\",\"fe_brightness_h\":\"1\",\"fe_contrast_h\":\"1\",\"fe_saturate_h\":\"1\",\"el_class\":\"\",\"block_template_id\":\"\",\"td_column_number\":3,\"header_color\":\"\",\"ajax_pagination_infinite_stop\":\"\",\"offset\":\"\",\"limit\":\"4\",\"td_ajax_preloading\":\"\",\"td_ajax_filter_type\":\"td_category_ids_filter\",\"td_filter_default_txt\":\"\",\"td_ajax_filter_ids\":\"\",\"color_preset\":\"\",\"ajax_pagination\":\"next_prev\",\"ajax_pagination_next_prev_swipe\":\"\",\"border_top\":\"\",\"css\":\"\",\"tdc_css_class\":\"tdi_90\",\"tdc_css_class_style\":\"tdi_90_rand_style\",\"category_id\":\"271\",\"subcats_posts_limit\":\"4\",\"child_cats_limit\":\"11\",\"hide_all\":\"\",\"tdc_css\":\"\",\"class\":\"tdi_90\"}\\';\\nblock_tdi_90.td_column_number = \"3\";\\nblock_tdi_90.block_type = \"tdb_header_mega_menu\";\\nblock_tdi_90.post_count = \"4\";\\nblock_tdi_90.found_posts = \"15\";\\nblock_tdi_90.header_color = \"\";\\nblock_tdi_90.ajax_pagination_infinite_stop = \"\";\\nblock_tdi_90.max_num_pages = \"4\";\\ntdBlocksArray.push(block_tdi_90);\\n</script><div class=\"block-mega-child-cats\"><a \\r\\n                        class=\"cur-sub-cat mega-menu-sub-cat-tdi_90\" \\r\\n                        id=\"tdi_91\" \\r\\n                        data-td_block_id=\"tdi_90\" \\r\\n                        data-td_filter_value=\"\" \\r\\n                        href=\"https://insights.blackcoffer.com/category/how-to/\"\\r\\n                    >All</a><a \\r\\n                        class=\"mega-menu-sub-cat-tdi_90\" \\r\\n                        id=\"tdi_92\" \\r\\n                        data-td_block_id=\"tdi_90\" \\r\\n                        data-td_filter_value=\"294\" \\r\\n                        href=\"https://insights.blackcoffer.com/category/how-to/analytics-how-to/\"\\r\\n                    >Analytics</a><a \\r\\n                        class=\"mega-menu-sub-cat-tdi_90\" \\r\\n                        id=\"tdi_93\" \\r\\n                        data-td_block_id=\"tdi_90\" \\r\\n                        data-td_filter_value=\"305\" \\r\\n                        href=\"https://insights.blackcoffer.com/category/how-to/application-development-how-to/\"\\r\\n                    >Application Development</a><a \\r\\n                        class=\"mega-menu-sub-cat-tdi_90\" \\r\\n                        id=\"tdi_94\" \\r\\n                        data-td_block_id=\"tdi_90\" \\r\\n                        data-td_filter_value=\"295\" \\r\\n                        href=\"https://insights.blackcoffer.com/category/how-to/artificial-intelligence-how-to/\"\\r\\n                    >Artificial Intelligence</a><a \\r\\n                        class=\"mega-menu-sub-cat-tdi_90\" \\r\\n                        id=\"tdi_95\" \\r\\n                        data-td_block_id=\"tdi_90\" \\r\\n                        data-td_filter_value=\"297\" \\r\\n                        href=\"https://insights.blackcoffer.com/category/how-to/business-analytics-how-to/\"\\r\\n                    >Business Analytics</a><a \\r\\n                        class=\"mega-menu-sub-cat-tdi_90\" \\r\\n                        id=\"tdi_96\" \\r\\n                        data-td_block_id=\"tdi_90\" \\r\\n                        data-td_filter_value=\"309\" \\r\\n                        href=\"https://insights.blackcoffer.com/category/how-to/example/\"\\r\\n                    >Example</a><a \\r\\n                        class=\"mega-menu-sub-cat-tdi_90\" \\r\\n                        id=\"tdi_97\" \\r\\n                        data-td_block_id=\"tdi_90\" \\r\\n                        data-td_filter_value=\"313\" \\r\\n                        href=\"https://insights.blackcoffer.com/category/how-to/optimization/\"\\r\\n                    >Optimization</a><a \\r\\n                        class=\"mega-menu-sub-cat-tdi_90\" \\r\\n                        id=\"tdi_98\" \\r\\n                        data-td_block_id=\"tdi_90\" \\r\\n                        data-td_filter_value=\"311\" \\r\\n                        href=\"https://insights.blackcoffer.com/category/how-to/projects/\"\\r\\n                    >Projects</a><a \\r\\n                        class=\"mega-menu-sub-cat-tdi_90\" \\r\\n                        id=\"tdi_99\" \\r\\n                        data-td_block_id=\"tdi_90\" \\r\\n                        data-td_filter_value=\"307\" \\r\\n                        href=\"https://insights.blackcoffer.com/category/how-to/software-development/\"\\r\\n                    >Software Development</a><a \\r\\n                        class=\"mega-menu-sub-cat-tdi_90\" \\r\\n                        id=\"tdi_100\" \\r\\n                        data-td_block_id=\"tdi_90\" \\r\\n                        data-td_filter_value=\"347\" \\r\\n                        href=\"https://insights.blackcoffer.com/category/how-to/source-code-audit/\"\\r\\n                    >Source Code Audit</a><a \\r\\n                        class=\"mega-menu-sub-cat-tdi_90\" \\r\\n                        id=\"tdi_101\" \\r\\n                        data-td_block_id=\"tdi_90\" \\r\\n                        data-td_filter_value=\"301\" \\r\\n                        href=\"https://insights.blackcoffer.com/category/how-to/statistics-how-to/\"\\r\\n                    >Statistics</a><a \\r\\n                        class=\"mega-menu-sub-cat-tdi_90\" \\r\\n                        id=\"tdi_102\" \\r\\n                        data-td_block_id=\"tdi_90\" \\r\\n                        data-td_filter_value=\"306\" \\r\\n                        href=\"https://insights.blackcoffer.com/category/how-to/web-mobile-app-development/\"\\r\\n                    >Web &amp; Mobile App Development</a></div><div class=\"tdb-mega-modules-wrap\"><div id=tdi_90 class=\"td_block_inner\">\\r\\n        <div class=\"tdb_module_header tdb_module_mm td_module_wrap td-animation-stack td-cpt-post\">\\r\\n            <div class=\"td-module-container td-category-pos-image\">\\r\\n                                    <div class=\"td-image-container\">\\r\\n                        <a href=\"https://insights.blackcoffer.com/category/our-solutions/\" class=\"td-post-category\">What We Do</a>                        <div class=\"td-module-thumb\"><a href=\"https://insights.blackcoffer.com/ai-ml-and-predictive-modeling/\" rel=\"bookmark\" class=\"td-image-wrap \" title=\"AI/ML and Predictive Modeling\" ><span class=\"entry-thumb td-thumb-css\" data-type=\"css_image\" data-img-url=\"https://insights.blackcoffer.com/wp-content/uploads/2022/02/theme-08-324x400.jpg\"  ></span></a></div>                                            </div>\\r\\n                \\r\\n                <div class=\"td-module-meta-info\">\\r\\n                                        \\r\\n                    <p class=\"entry-title td-module-title\"><a href=\"https://insights.blackcoffer.com/ai-ml-and-predictive-modeling/\" rel=\"bookmark\" title=\"AI/ML and Predictive Modeling\">AI/ML and Predictive Modeling</a></p>\\r\\n                    \\r\\n                                            <div class=\"td-editor-date\">\\r\\n                                                        \\r\\n                                                            <span class=\"td-author-date\">\\r\\n                                    \\r\\n                                    <span class=\"td-post-date\"><time class=\"entry-date updated td-module-date\" datetime=\"2022-02-03T12:12:40+05:30\" >February 3, 2022</time></span>                                                                                                        </span>\\r\\n                                                    </div>\\r\\n                    \\r\\n                    \\r\\n                                    </div>\\r\\n            </div>\\r\\n        </div>\\r\\n\\r\\n        \\r\\n        <div class=\"tdb_module_header tdb_module_mm td_module_wrap td-animation-stack td-cpt-post\">\\r\\n            <div class=\"td-module-container td-category-pos-image\">\\r\\n                                    <div class=\"td-image-container\">\\r\\n                        <a href=\"https://insights.blackcoffer.com/category/blackcoffer/\" class=\"td-post-category\">Blackcoffer</a>                        <div class=\"td-module-thumb\"><a href=\"https://insights.blackcoffer.com/solution-for-contact-centre-problems/\" rel=\"bookmark\" class=\"td-image-wrap \" title=\"Solution for Contact Centre Problems\" ><span class=\"entry-thumb td-thumb-css\" data-type=\"css_image\" data-img-url=\"https://insights.blackcoffer.com/wp-content/uploads/2020/01/new2-slider1-bg02-324x400.jpg\"  ></span></a></div>                                            </div>\\r\\n                \\r\\n                <div class=\"td-module-meta-info\">\\r\\n                                        \\r\\n                    <p class=\"entry-title td-module-title\"><a href=\"https://insights.blackcoffer.com/solution-for-contact-centre-problems/\" rel=\"bookmark\" title=\"Solution for Contact Centre Problems\">Solution for Contact Centre Problems</a></p>\\r\\n                    \\r\\n                                            <div class=\"td-editor-date\">\\r\\n                                                        \\r\\n                                                            <span class=\"td-author-date\">\\r\\n                                    \\r\\n                                    <span class=\"td-post-date\"><time class=\"entry-date updated td-module-date\" datetime=\"2021-04-26T14:09:58+05:30\" >April 26, 2021</time></span>                                                                                                        </span>\\r\\n                                                    </div>\\r\\n                    \\r\\n                    \\r\\n                                    </div>\\r\\n            </div>\\r\\n        </div>\\r\\n\\r\\n        \\r\\n        <div class=\"tdb_module_header tdb_module_mm td_module_wrap td-animation-stack td-cpt-post\">\\r\\n            <div class=\"td-module-container td-category-pos-image\">\\r\\n                                    <div class=\"td-image-container\">\\r\\n                        <a href=\"https://insights.blackcoffer.com/category/how-to/\" class=\"td-post-category\">How To</a>                        <div class=\"td-module-thumb\"><a href=\"https://insights.blackcoffer.com/how-to-setup-custom-domain-for-google-app-engine-application/\" rel=\"bookmark\" class=\"td-image-wrap \" title=\"How to Setup Custom Domain for Google App Engine Application?\" ><span class=\"entry-thumb td-thumb-css\" data-type=\"css_image\" data-img-url=\"https://insights.blackcoffer.com/wp-content/uploads/2021/02/01-3-7-768x581-1-324x400.png\"  ></span></a></div>                                            </div>\\r\\n                \\r\\n                <div class=\"td-module-meta-info\">\\r\\n                                        \\r\\n                    <p class=\"entry-title td-module-title\"><a href=\"https://insights.blackcoffer.com/how-to-setup-custom-domain-for-google-app-engine-application/\" rel=\"bookmark\" title=\"How to Setup Custom Domain for Google App Engine Application?\">How to Setup Custom Domain for Google App Engine Application?</a></p>\\r\\n                    \\r\\n                                            <div class=\"td-editor-date\">\\r\\n                                                        \\r\\n                                                            <span class=\"td-author-date\">\\r\\n                                    \\r\\n                                    <span class=\"td-post-date\"><time class=\"entry-date updated td-module-date\" datetime=\"2021-02-13T12:35:59+05:30\" >February 13, 2021</time></span>                                                                                                        </span>\\r\\n                                                    </div>\\r\\n                    \\r\\n                    \\r\\n                                    </div>\\r\\n            </div>\\r\\n        </div>\\r\\n\\r\\n        \\r\\n        <div class=\"tdb_module_header tdb_module_mm td_module_wrap td-animation-stack td-cpt-post\">\\r\\n            <div class=\"td-module-container td-category-pos-image\">\\r\\n                                    <div class=\"td-image-container\">\\r\\n                        <a href=\"https://insights.blackcoffer.com/category/how-to/\" class=\"td-post-category\">How To</a>                        <div class=\"td-module-thumb\"><a href=\"https://insights.blackcoffer.com/code-review-checklist/\" rel=\"bookmark\" class=\"td-image-wrap \" title=\"Code Review Checklist\" ><span class=\"entry-thumb td-thumb-css\" data-type=\"css_image\" data-img-url=\"https://insights.blackcoffer.com/wp-content/uploads/2020/04/slider-home-3-324x400.jpg\"  ></span></a></div>                                            </div>\\r\\n                \\r\\n                <div class=\"td-module-meta-info\">\\r\\n                                        \\r\\n                    <p class=\"entry-title td-module-title\"><a href=\"https://insights.blackcoffer.com/code-review-checklist/\" rel=\"bookmark\" title=\"Code Review Checklist\">Code Review Checklist</a></p>\\r\\n                    \\r\\n                                            <div class=\"td-editor-date\">\\r\\n                                                        \\r\\n                                                            <span class=\"td-author-date\">\\r\\n                                    \\r\\n                                    <span class=\"td-post-date\"><time class=\"entry-date updated td-module-date\" datetime=\"2020-04-10T00:21:29+05:30\" >April 10, 2020</time></span>                                                                                                        </span>\\r\\n                                                    </div>\\r\\n                    \\r\\n                    \\r\\n                                    </div>\\r\\n            </div>\\r\\n        </div>\\r\\n\\r\\n        </div><div class=\"td-next-prev-wrap\"><a href=\"#\" class=\"td-ajax-prev-page ajax-page-disabled\" aria-label=\"prev-page\" id=\"prev-page-tdi_90\" data-td_block_id=\"tdi_90\"><i class=\"td-next-prev-icon td-icon-font td-icon-menu-left\"></i></a><a href=\"#\"  class=\"td-ajax-next-page\" aria-label=\"next-page\" id=\"next-page-tdi_90\" data-td_block_id=\"tdi_90\"><i class=\"td-next-prev-icon td-icon-font td-icon-menu-right\"></i></a></div></div></div> <!-- ./block1 --></div></li>\\n</ul>\\n</li>\\n<li class=\"menu-item menu-item-type-custom menu-item-object-custom tdb-menu-item-button tdb-menu-item tdb-normal-menu menu-item-4062\"><a target=\"_blank\" href=\"https://blackcoffer.com/get-blackcoffer-demo/\"><div class=\"tdb-menu-item-text\">Schedule Demo</div></a></li>\\n<li class=\"menu-item menu-item-type-post_type menu-item-object-page tdb-menu-item-button tdb-menu-item tdb-normal-menu menu-item-4063\"><a href=\"https://insights.blackcoffer.com/contact/\"><div class=\"tdb-menu-item-text\">Contact</div></a></li>\\n</ul></div></div><div class=\"td_block_wrap tdb_header_search tdi_103 tdb-header-search-trigger-enabled td-pb-border-top td_block_template_1 tdb-header-align\"  data-td-block-uid=\"tdi_103\" >\\n<style>\\n\\n/* inline tdc_css att */\\n\\n/* portrait */\\n@media (min-width: 768px) and (max-width: 1018px)\\n{\\n.tdi_103{\\nmargin-top:1px !important;\\n}\\n}\\n\\n</style>\\n<style>\\n/* custom css */\\n.tdb_module_search .tdb-author-photo{\\r\\n                  display: inline-block;\\r\\n                }.tdb_module_search .tdb-author-photo,\\r\\n                .tdb_module_search .tdb-author-photo img{\\r\\n                  vertical-align: middle;\\r\\n                }.tdb_module_search .td-post-author-name{\\r\\n                  white-space: normal;\\r\\n                }.tdb_header_search{\\r\\n                  margin-bottom: 0;\\r\\n                  clear: none;\\r\\n                }.tdb_header_search .tdb-block-inner{\\r\\n                  position: relative;\\r\\n                  display: inline-block;\\r\\n                  width: 100%;\\r\\n                }.tdb_header_search .tdb-search-form{\\r\\n                  position: relative;\\r\\n                  padding: 20px;\\r\\n                  border-width: 3px 0 0;\\r\\n                  border-style: solid;\\r\\n                  border-color: #4db2ec;\\r\\n                  pointer-events: auto;\\r\\n                }.tdb_header_search .tdb-search-form:before{\\r\\n                  content: \\'\\';\\r\\n                  position: absolute;\\r\\n                  top: 0;\\r\\n                  left: 0;\\r\\n                  width: 100%;\\r\\n                  height: 100%;\\r\\n                  background-color: #fff;\\r\\n                }.tdb_header_search .tdb-search-form-inner{\\r\\n                  position: relative;\\r\\n                  display: flex;\\r\\n                  background-color: #fff;\\r\\n                }.tdb_header_search .tdb-search-form-inner:after{\\r\\n                  content: \\'\\';\\r\\n                  position: absolute;\\r\\n                  top: 0;\\r\\n                  left: 0;\\r\\n                  width: 100%;\\r\\n                  height: 100%;\\r\\n                  border: 1px solid #e1e1e1;\\r\\n                  pointer-events: none;\\r\\n                }.tdb_header_search .tdb-head-search-placeholder{\\r\\n                  position: absolute;\\r\\n                  top: 50%;\\r\\n                  transform: translateY(-50%);\\r\\n                  padding: 3px 9px;\\r\\n                  font-size: 12px;\\r\\n                  line-height: 21px;\\r\\n                  color: #999;\\r\\n                  -webkit-transition: all 0.3s ease;\\r\\n                  transition: all 0.3s ease;\\r\\n                  pointer-events: none;\\r\\n                }.tdb_header_search .tdb-head-search-form-input:focus + .tdb-head-search-placeholder,\\r\\n                .tdb-head-search-form-input:not(:placeholder-shown) ~ .tdb-head-search-placeholder{\\r\\n                  opacity: 0;\\r\\n                }.tdb_header_search .tdb-head-search-form-btn,\\r\\n                .tdb_header_search .tdb-head-search-form-input{\\r\\n                  height: auto;\\r\\n                  min-height: 32px;\\r\\n                }.tdb_header_search .tdb-head-search-form-input{\\r\\n                  color: #444;\\r\\n                  flex: 1;\\r\\n                  background-color: transparent;\\r\\n                  border: 0;\\r\\n                }.tdb_header_search .tdb-head-search-form-input.tdb-head-search-nofocus{\\r\\n                  color: transparent;\\r\\n                  text-shadow: 0 0 0 #444;\\r\\n                }.tdb_header_search .tdb-head-search-form-btn{\\r\\n                  margin-bottom: 0;\\r\\n                  padding: 0 15px;\\r\\n                  background-color: #222222;\\r\\n                  font-family: \\'Roboto\\', sans-serif;\\r\\n                  font-size: 13px;\\r\\n                  font-weight: 500;\\r\\n                  color: #fff;\\r\\n                  -webkit-transition: all 0.3s ease;\\r\\n                  transition: all 0.3s ease;\\r\\n                  z-index: 1;\\r\\n                }.tdb_header_search .tdb-head-search-form-btn:hover{\\r\\n                  background-color: #4db2ec;\\r\\n                }.tdb_header_search .tdb-head-search-form-btn i,\\r\\n                .tdb_header_search .tdb-head-search-form-btn span{\\r\\n                  display: inline-block;\\r\\n                  vertical-align: middle;\\r\\n                }.tdb_header_search .tdb-head-search-form-btn i{\\r\\n                  font-size: 12px;\\r\\n                }.tdb_header_search .tdb-head-search-form-btn .tdb-head-search-form-btn-icon{\\r\\n                  position: relative;\\r\\n                }.tdb_header_search .tdb-head-search-form-btn .tdb-head-search-form-btn-icon-svg{\\r\\n                  line-height: 0;\\r\\n                }.tdb_header_search .tdb-head-search-form-btn svg{\\r\\n                  width: 12px;\\r\\n                  height: auto;\\r\\n                }.tdb_header_search .tdb-head-search-form-btn svg,\\r\\n                .tdb_header_search .tdb-head-search-form-btn svg *{\\r\\n                  fill: #fff;\\r\\n                  -webkit-transition: all 0.3s ease;\\r\\n                  transition: all 0.3s ease;\\r\\n                }.tdb_header_search .tdb-aj-search-results{\\r\\n                  padding: 20px;\\r\\n                  background-color: rgba(144, 144, 144, 0.02);\\r\\n                  border-width: 1px 0;\\r\\n                  border-style: solid;\\r\\n                  border-color: #ededed;\\r\\n                  background-color: #fff;\\r\\n                }.tdb_header_search .tdb-aj-search-results .td_module_wrap:last-child{\\r\\n                  margin-bottom: 0;\\r\\n                  padding-bottom: 0;\\r\\n                }.tdb_header_search .tdb-aj-search-results .td_module_wrap:last-child .td-module-container:before{\\r\\n                  display: none;\\r\\n                }.tdb_header_search .tdb-aj-search-inner{\\r\\n                  display: flex;\\r\\n                  flex-wrap: wrap;\\r\\n                  *zoom: 1;\\r\\n                }.tdb_header_search .tdb-aj-search-inner:before,\\r\\n                .tdb_header_search .tdb-aj-search-inner:after{\\r\\n                  display: table;\\r\\n                  content: \\'\\';\\r\\n                  line-height: 0;\\r\\n                }.tdb_header_search .tdb-aj-search-inner:after{\\r\\n                  clear: both;\\r\\n                }.tdb_header_search .result-msg{\\r\\n                  padding: 4px 0 6px 0;\\r\\n                  font-family: \\'Roboto\\', sans-serif;\\r\\n                  font-size: 12px;\\r\\n                  font-style: italic;\\r\\n                  background-color: #fff;\\r\\n                }.tdb_header_search .result-msg a{\\r\\n                  color: #222;\\r\\n                }.tdb_header_search .result-msg a:hover{\\r\\n                  color: #4db2ec;\\r\\n                }.tdb_header_search .td-module-meta-info,\\r\\n                .tdb_header_search .td-next-prev-wrap{\\r\\n                  text-align: left;\\r\\n                }.tdb_header_search .td_module_wrap:hover .entry-title a{\\r\\n                  color: #4db2ec;\\r\\n                }.tdb_header_search .tdb-aj-cur-element .entry-title a{\\r\\n                  color: #4db2ec;\\r\\n                }.tdc-dragged .tdb-head-search-btn:after,\\r\\n                .tdc-dragged .tdb-drop-down-search{\\r\\n                  visibility: hidden !important;\\r\\n                  opacity: 0 !important;\\r\\n                  -webkit-transition: all 0.3s ease;\\r\\n                  transition: all 0.3s ease;\\r\\n                }.tdb-header-search-trigger-enabled{\\r\\n                  z-index: 1000;\\r\\n                }.tdb-header-search-trigger-enabled .tdb-head-search-btn{\\r\\n                  display: flex;\\r\\n                  align-items: center;\\r\\n                  position: relative;\\r\\n                  text-align: center;\\r\\n                  color: #4db2ec;\\r\\n                }.tdb-header-search-trigger-enabled .tdb-head-search-btn:after{\\r\\n                  visibility: hidden;\\r\\n                  opacity: 0;\\r\\n                  content: \\'\\';\\r\\n                  display: block;\\r\\n                  position: absolute;\\r\\n                  bottom: 0;\\r\\n                  left: 0;\\r\\n                  right: 0;\\r\\n                  margin: 0 auto;\\r\\n                  width: 0;\\r\\n                  height: 0;\\r\\n                  border-style: solid;\\r\\n                  border-width: 0 6.5px 7px 6.5px;\\r\\n                  -webkit-transform: translate3d(0, 20px, 0);\\r\\n                  transform: translate3d(0, 20px, 0);\\r\\n                  -webkit-transition: all 0.4s ease;\\r\\n                  transition: all 0.4s ease;\\r\\n                  border-color: transparent transparent #4db2ec transparent;\\r\\n                }.tdb-header-search-trigger-enabled .tdb-drop-down-search-open + .tdb-head-search-btn:after{\\r\\n                  visibility: visible;\\r\\n                  opacity: 1;\\r\\n                  -webkit-transform: translate3d(0, 0, 0);\\r\\n                  transform: translate3d(0, 0, 0);\\r\\n                }.tdb-header-search-trigger-enabled .tdb-search-icon,\\r\\n                .tdb-header-search-trigger-enabled .tdb-search-txt,\\r\\n                .tdb-header-search-trigger-enabled .tdb-search-icon-svg svg *{\\r\\n                  -webkit-transition: all 0.3s ease-in-out;\\r\\n                  transition: all 0.3s ease-in-out;\\r\\n                }.tdb-header-search-trigger-enabled .tdb-search-icon-svg{\\r\\n                  display: flex;\\r\\n                  align-items: center;\\r\\n                  justify-content: center;\\r\\n                }.tdb-header-search-trigger-enabled .tdb-search-icon-svg svg{\\r\\n                  height: auto;\\r\\n                }.tdb-header-search-trigger-enabled .tdb-search-icon-svg svg,\\r\\n                .tdb-header-search-trigger-enabled .tdb-search-icon-svg svg *{\\r\\n                  fill: #4db2ec;\\r\\n                }.tdb-header-search-trigger-enabled .tdb-search-txt{\\r\\n                  position: relative;\\r\\n                  line-height: 1;\\r\\n                }.tdb-header-search-trigger-enabled .tdb-drop-down-search{\\r\\n                  visibility: hidden;\\r\\n                  opacity: 0;\\r\\n                  position: absolute;\\r\\n                  top: 100%;\\r\\n                  left: 0;\\r\\n                  -webkit-transform: translate3d(0, 20px, 0);\\r\\n                  transform: translate3d(0, 20px, 0);\\r\\n                  -webkit-transition: all 0.4s ease;\\r\\n                  transition: all 0.4s ease;\\r\\n                  pointer-events: none;\\r\\n                  z-index: 10;\\r\\n                }.tdb-header-search-trigger-enabled .tdb-drop-down-search-open{\\r\\n                  visibility: visible;\\r\\n                  opacity: 1;\\r\\n                  -webkit-transform: translate3d(0, 0, 0);\\r\\n                  transform: translate3d(0, 0, 0);\\r\\n                }.tdb-header-search-trigger-enabled .tdb-drop-down-search-inner{\\r\\n                  position: relative;\\r\\n                  max-width: 300px;\\r\\n                  pointer-events: all;\\r\\n                }.rtl .tdb-header-search-trigger-enabled .tdb-drop-down-search-inner{\\r\\n                  margin-left: 0;\\r\\n                  margin-right: auto;\\r\\n                }.tdb_header_search .tdb-aj-srs-title{\\r\\n                    margin-bottom: 10px;\\r\\n                    font-family: \\'Roboto\\', sans-serif;\\r\\n                    font-weight: 500;\\r\\n                    font-size: 13px;\\r\\n                    line-height: 1.3;\\r\\n                    color: #888;\\r\\n                }.tdb_header_search .tdb-aj-sr-taxonomies{\\r\\n                    display: flex;\\r\\n                    flex-direction: column;\\r\\n                }.tdb_header_search .tdb-aj-sr-taxonomy{\\r\\n                    font-family: \\'Roboto\\', sans-serif;\\r\\n                    font-size: 13px;\\r\\n                    font-weight: 500;\\r\\n                    line-height: 18px;\\r\\n                    color: #111;\\r\\n                }.tdb_header_search .tdb-aj-sr-taxonomy:not(:last-child){\\r\\n                    margin-bottom: 5px;\\r\\n                }.tdb_header_search .tdb-aj-sr-taxonomy:hover{\\r\\n                    color: #4db2ec;\\r\\n                }.tdi_103 .tdb-head-search-btn i{\\r\\n                    font-size: 20px;\\r\\n                \\r\\n                    width: 46px;\\r\\n\\t\\t\\t\\t\\theight: 46px;\\r\\n\\t\\t\\t\\t\\tline-height:  46px;\\r\\n                \\r\\n                    color: #000000;\\r\\n                }.tdi_103{\\r\\n                    display: inline-block;\\r\\n                \\r\\n                    float: right;\\r\\n                    clear: none;\\r\\n                }.tdi_103 .tdb-search-txt{\\r\\n                    top: 0px;\\r\\n                }.tdi_103 .tdb-drop-down-search .tdb-drop-down-search-inner{\\r\\n                    max-width: 600px;\\r\\n                }.tdi_103 .tdb-search-form{\\r\\n                    padding: 30px;\\r\\n                \\r\\n                    border-width: 0px;\\r\\n                }.tdi_103 .tdb-drop-down-search{\\r\\n                    left: auto;\\r\\n                    right: 0;\\r\\n                }body .tdi_103 .tdb-drop-down-search-inner,\\r\\n                .tdi_103 .tdb-search-form,\\r\\n                .tdi_103 .tdb-aj-search{\\r\\n                    margin-left: auto;\\r\\n                    margin-right: 0;\\r\\n                }.tdi_103 .tdb-search-form-inner:after{\\r\\n                    border-width: 0 0 1px 0;\\r\\n                }.tdi_103 .tdb-head-search-form-btn i{\\r\\n                    font-size: 7px;\\r\\n                }.tdi_103 .tdb-head-search-form-btn-icon{\\r\\n                    margin-left: 8px;\\r\\n                \\r\\n                    top: 0px;\\r\\n                }.tdi_103 .tdb-head-search-form-btn{\\r\\n                    padding: 0px;\\r\\n                \\r\\n                    color: #000000;\\r\\n                \\r\\n                    background-color: rgba(0,0,0,0);\\r\\n                }.tdi_103 .tdb-aj-search-results{\\r\\n                    padding: 0 30px 30px;\\r\\n                \\r\\n                    border-width: 0 0 1px 0;\\r\\n                }.tdi_103 .result-msg{\\r\\n                    padding: 10px 0;\\r\\n                \\r\\n                    text-align: center;\\r\\n                \\r\\n                    font-style:normal !important;\\r\\n                }.tdi_103 .tdb-head-search-btn svg,\\r\\n                .tdi_103 .tdb-head-search-btn svg *{\\r\\n                    fill: #000000;\\r\\n                }.tdi_103 .tdb-head-search-btn:after{\\r\\n                    border-bottom-color: #ffffff;\\r\\n                }.tdi_103 .tdb-drop-down-search-inner{\\r\\n                    box-shadow:  0px 3px 6px 0px rgba(0, 0, 0, 0.2);\\r\\n                }.tdi_103 .tdb-head-search-form-btn svg,\\r\\n                .tdi_103 .tdb-head-search-form-btn svg *{\\r\\n                    fill: #000000;\\r\\n                }.tdi_103 .tdb-head-search-form-btn:hover{\\r\\n                    color: #4db2ec;\\r\\n                \\r\\n                    background-color: rgba(0,0,0,0);\\r\\n                }.tdi_103 .tdb-head-search-form-btn:hover svg,\\r\\n                .tdi_103 .tdb-head-search-form-btn:hover svg *{\\r\\n                    fill: #4db2ec;\\r\\n                }.tdi_103 .result-msg a:hover{\\r\\n                    color: #4db2ec;\\r\\n                }.tdi_103 .td_module_wrap{\\r\\n\\t\\t\\t\\t\\twidth: 50%;\\r\\n\\t\\t\\t\\t\\tfloat: left;\\r\\n\\t\\t\\t\\t\\r\\n\\t\\t\\t\\t\\tpadding-left: 10px;\\r\\n\\t\\t\\t\\t\\tpadding-right: 10px;\\r\\n\\t\\t\\t\\t\\r\\n\\t\\t\\t\\t\\tpadding-bottom: 10px;\\r\\n\\t\\t\\t\\t\\tmargin-bottom: 10px;\\r\\n\\t\\t\\t\\t}.tdi_103 .td_module_wrap:nth-last-child(-n+2){\\r\\n\\t\\t\\t\\t\\tmargin-bottom: 0;\\r\\n\\t\\t\\t\\t\\tpadding-bottom: 0;\\r\\n\\t\\t\\t\\t}.tdi_103 .td_module_wrap:nth-last-child(-n+2) .td-module-container:before{\\r\\n\\t\\t\\t\\t\\tdisplay: none;\\r\\n\\t\\t\\t\\t}.tdi_103 .tdb-aj-search-inner{\\r\\n\\t\\t\\t\\t\\tmargin-left: -10px;\\r\\n\\t\\t\\t\\t\\tmargin-right: -10px;\\r\\n\\t\\t\\t\\t}.tdi_103 .td-module-container:before{\\r\\n\\t\\t\\t\\t\\tbottom: -10px;\\r\\n\\t\\t\\t\\t}.tdi_103 .entry-thumb{\\r\\n\\t\\t\\t\\t\\tbackground-position: center 50%;\\r\\n\\t\\t\\t\\t}.tdi_103 .td-image-wrap{\\r\\n\\t\\t\\t\\t\\tpadding-bottom: 100%;\\r\\n\\t\\t\\t\\t}.tdi_103 .td-image-container{\\r\\n\\t\\t\\t\\t \\tflex: 0 0 30%;\\r\\n\\t\\t\\t\\t \\twidth: 30%;\\r\\n\\t\\t\\t    \\r\\n                \\tdisplay: block; order: 0;\\r\\n                }.ie10 .tdi_103 .td-image-container,\\r\\n\\t\\t\\t\\t.ie11 .tdi_103 .td-image-container{\\r\\n\\t\\t\\t\\t \\tflex: 0 0 auto;\\r\\n\\t\\t\\t    }.tdi_103 .td-module-container{\\r\\n\\t\\t\\t\\t\\tflex-direction: row;\\r\\n\\t\\t\\t\\t}.ie10 .tdi_103 .td-module-meta-info,\\r\\n\\t\\t\\t\\t.ie11 .tdi_103 .td-module-meta-info{\\r\\n\\t\\t\\t\\t \\tflex: 1;\\r\\n\\t\\t\\t    }.tdi_103 .td-video-play-ico{\\r\\n\\t\\t\\t\\t\\twidth: 24px;\\r\\n\\t\\t\\t\\t\\theight: 24px;\\r\\n\\t\\t\\t\\t\\tfont-size: 24px;\\r\\n\\t\\t\\t\\t}.tdi_103 .td-post-vid-time{\\r\\n\\t\\t\\t\\t\\tdisplay: block;\\r\\n\\t\\t\\t\\t}.tdi_103 .td-module-meta-info{\\r\\n\\t\\t\\t\\t\\tpadding: 3px 0 0 16px;\\r\\n\\t\\t\\t\\t\\r\\n\\t\\t\\t\\t\\tborder-color: #eaeaea;\\r\\n\\t\\t\\t\\t}.tdi_103 .entry-title{\\r\\n\\t\\t\\t\\t\\tmargin: 0 0 2px 0;\\r\\n\\t\\t\\t\\t\\r\\n\\t\\t\\t\\t\\tfont-size:13px !important;line-height:1.4 !important;\\r\\n\\t\\t\\t\\t}.tdi_103 .td-excerpt{\\r\\n\\t\\t\\t\\t\\tcolumn-count: 1;\\r\\n\\t\\t\\t\\t\\r\\n\\t\\t\\t\\t\\tcolumn-gap: 48px;\\r\\n\\t\\t\\t\\t\\r\\n\\t\\t\\t\\t\\tdisplay: none;\\r\\n\\t\\t\\t\\t}.tdi_103 .td-post-category:not(.td-post-extra-category){\\r\\n\\t\\t\\t\\t\\tdisplay: none;\\r\\n\\t\\t\\t\\t}.tdi_103 .td-read-more{\\r\\n\\t\\t\\t\\t\\tdisplay: none;\\r\\n\\t\\t\\t\\t}.tdi_103 .td-author-date{\\r\\n\\t\\t\\t\\t\\tdisplay: inline;\\r\\n\\t\\t\\t\\t}.tdi_103 .td-post-author-name{\\r\\n\\t\\t\\t\\t\\tdisplay: none;\\r\\n\\t\\t\\t\\t}.tdi_103 .td-icon-star,\\r\\n                .tdi_103 .td-icon-star-empty,\\r\\n                .tdi_103 .td-icon-star-half{\\r\\n\\t\\t\\t\\t\\tfont-size: 15px;\\r\\n\\t\\t\\t\\t}.tdi_103 .td-module-comments{\\r\\n\\t\\t\\t\\t\\tdisplay: none;\\r\\n\\t\\t\\t\\t}.tdi_103 .tdb-author-photo .avatar{\\r\\n\\t\\t\\t\\t    width: 20px;\\r\\n\\t\\t\\t\\t    height: 20px;\\r\\n\\t\\t\\t\\t\\r\\n\\t\\t\\t\\t    margin-right: 6px;\\r\\n\\t\\t\\t\\t\\r\\n\\t\\t\\t\\t    border-radius: 50%;\\r\\n\\t\\t\\t\\t}body .tdi_103 .td_module_wrap:hover .td-module-title a,\\r\\n\\t\\t\\t\\t.tdi_103 .tdb-aj-cur-element .entry-title a{\\r\\n\\t\\t\\t\\t\\tcolor: #4db2ec !important;\\r\\n\\t\\t\\t\\t}.tdi_103 .td-post-category{\\r\\n\\t\\t\\t\\t\\ttext-transform:uppercase !important;\\r\\n\\t\\t\\t\\t}.tdi_103 .td-module-exclusive .td-module-title a:before{\\r\\n                    display: inline-block;\\r\\n                }\\n\\n/* landscape */\\n@media (min-width: 1019px) and (max-width: 1140px){\\n.tdi_103 .td_module_wrap{\\r\\n\\t\\t\\t\\t\\tpadding-bottom: 10px !important;\\r\\n\\t\\t\\t\\t\\tmargin-bottom: 10px !important;\\r\\n\\t\\t\\t\\t\\r\\n\\t\\t\\t\\t\\tpadding-bottom: 10px;\\r\\n\\t\\t\\t\\t\\tmargin-bottom: 10px;\\r\\n\\t\\t\\t\\t}.tdi_103 .td_module_wrap:nth-last-child(-n+2){\\r\\n\\t\\t\\t\\t\\tmargin-bottom: 0 !important;\\r\\n\\t\\t\\t\\t\\tpadding-bottom: 0 !important;\\r\\n\\t\\t\\t\\t}.tdi_103 .td_module_wrap .td-module-container:before{\\r\\n\\t\\t\\t\\t\\tdisplay: block !important;\\r\\n\\t\\t\\t\\t}.tdi_103 .td_module_wrap:nth-last-child(-n+2) .td-module-container:before{\\r\\n\\t\\t\\t\\t\\tdisplay: none !important;\\r\\n\\t\\t\\t\\t}.tdi_103 .td-module-container:before{\\r\\n\\t\\t\\t\\t\\tbottom: -10px;\\r\\n\\t\\t\\t\\t}\\n}\\n\\n/* portrait */\\n@media (min-width: 768px) and (max-width: 1018px){\\n.tdi_103 .tdb-head-search-btn i{\\r\\n                    font-size: 18px;\\r\\n                \\r\\n                    width: 46.8px;\\r\\n\\t\\t\\t\\t\\theight: 46.8px;\\r\\n\\t\\t\\t\\t\\tline-height:  46.8px;\\r\\n                }.tdi_103 .tdb-search-form{\\r\\n                    padding: 20px 20px 20px;\\r\\n                }.tdi_103 .td_module_wrap{\\r\\n\\t\\t\\t\\t\\tpadding-bottom: 10px !important;\\r\\n\\t\\t\\t\\t\\tmargin-bottom: 10px !important;\\r\\n\\t\\t\\t\\t\\r\\n\\t\\t\\t\\t\\tpadding-bottom: 10px;\\r\\n\\t\\t\\t\\t\\tmargin-bottom: 10px;\\r\\n\\t\\t\\t\\t}.tdi_103 .td_module_wrap:nth-last-child(-n+2){\\r\\n\\t\\t\\t\\t\\tmargin-bottom: 0 !important;\\r\\n\\t\\t\\t\\t\\tpadding-bottom: 0 !important;\\r\\n\\t\\t\\t\\t}.tdi_103 .td_module_wrap .td-module-container:before{\\r\\n\\t\\t\\t\\t\\tdisplay: block !important;\\r\\n\\t\\t\\t\\t}.tdi_103 .td_module_wrap:nth-last-child(-n+2) .td-module-container:before{\\r\\n\\t\\t\\t\\t\\tdisplay: none !important;\\r\\n\\t\\t\\t\\t}.tdi_103 .td-module-container:before{\\r\\n\\t\\t\\t\\t\\tbottom: -10px;\\r\\n\\t\\t\\t\\t}\\n}\\n\\n/* phone */\\n@media (max-width: 767px){\\n.tdi_103 .td_module_wrap{\\r\\n\\t\\t\\t\\t\\tpadding-bottom: 10px !important;\\r\\n\\t\\t\\t\\t\\tmargin-bottom: 10px !important;\\r\\n\\t\\t\\t\\t\\r\\n\\t\\t\\t\\t\\tpadding-bottom: 10px;\\r\\n\\t\\t\\t\\t\\tmargin-bottom: 10px;\\r\\n\\t\\t\\t\\t}.tdi_103 .td_module_wrap:nth-last-child(-n+2){\\r\\n\\t\\t\\t\\t\\tmargin-bottom: 0 !important;\\r\\n\\t\\t\\t\\t\\tpadding-bottom: 0 !important;\\r\\n\\t\\t\\t\\t}.tdi_103 .td_module_wrap .td-module-container:before{\\r\\n\\t\\t\\t\\t\\tdisplay: block !important;\\r\\n\\t\\t\\t\\t}.tdi_103 .td_module_wrap:nth-last-child(-n+2) .td-module-container:before{\\r\\n\\t\\t\\t\\t\\tdisplay: none !important;\\r\\n\\t\\t\\t\\t}.tdi_103 .td-module-container:before{\\r\\n\\t\\t\\t\\t\\tbottom: -10px;\\r\\n\\t\\t\\t\\t}\\n}\\n</style><div class=\"tdb-block-inner td-fix-index\"><div class=\"tdb-drop-down-search\" aria-labelledby=\"td-header-search-button\"><div class=\"tdb-drop-down-search-inner\"><form method=\"get\" class=\"tdb-search-form\" action=\"https://insights.blackcoffer.com/\"><div class=\"tdb-search-form-inner\"><input class=\"tdb-head-search-form-input\" placeholder=\" \" type=\"text\" value=\"\" name=\"s\" autocomplete=\"off\" /><button class=\"wpb_button wpb_btn-inverse btn tdb-head-search-form-btn\" type=\"submit\"><span>Search</span><i class=\"tdb-head-search-form-btn-icon td-icon-menu-right\"></i></button></div></form><div class=\"tdb-aj-search\"></div></div></div><a href=\"#\" role=\"button\" aria-label=\"Search\" class=\"tdb-head-search-btn dropdown-toggle\" data-toggle=\"dropdown\"><i class=\"tdb-search-icon td-icon-search\"></i></a></div></div> <!-- ./block --></div></div></div></div></div></div></div></div></div></div>                    </div>\\r\\n                                <div class=\"td-header-desktop-sticky-wrap tdc-zone-sticky-invisible tdc-zone-sticky-inactive\" style=\"display: none\">\\r\\n                    <div id=\"tdi_104\" class=\"tdc-zone\"><div class=\"tdc_zone tdi_105  wpb_row td-pb-row\" data-sticky-offset=\"0\" >\\n<style scoped>\\n\\n/* custom css */\\n.tdi_105{\\r\\n                    min-height: 0;\\r\\n                }.td-header-desktop-sticky-wrap.td-header-active{\\r\\n                    opacity: 1;\\r\\n                }\\n</style><div id=\"tdi_106\" class=\"tdc-row\"><div class=\"vc_row tdi_107  wpb_row td-pb-row\" >\\n<style scoped>\\n\\n/* custom css */\\n.tdi_107,\\r\\n                .tdi_107 .tdc-columns{\\r\\n                    min-height: 0;\\r\\n                }.tdi_107,\\r\\n\\t\\t\\t\\t.tdi_107 .tdc-columns{\\r\\n\\t\\t\\t\\t    display: block;\\r\\n\\t\\t\\t\\t}.tdi_107 .tdc-columns{\\r\\n\\t\\t\\t\\t    width: 100%;\\r\\n\\t\\t\\t\\t}\\n</style><div class=\"vc_column tdi_109  wpb_column vc_column_container tdc-column td-pb-span12\">\\n<style scoped>\\n\\n/* custom css */\\n.tdi_109{\\r\\n                    vertical-align: baseline;\\r\\n                }.tdi_109 > .wpb_wrapper,\\r\\n\\t\\t\\t\\t.tdi_109 > .wpb_wrapper > .tdc-elements{\\r\\n\\t\\t\\t\\t    display: block;\\r\\n\\t\\t\\t\\t}.tdi_109 > .wpb_wrapper > .tdc-elements{\\r\\n\\t\\t\\t\\t    width: 100%;\\r\\n\\t\\t\\t\\t}.tdi_109 > .wpb_wrapper > .vc_row_inner{\\r\\n\\t\\t\\t\\t    width: auto;\\r\\n\\t\\t\\t\\t}.tdi_109 > .wpb_wrapper{\\r\\n\\t\\t\\t\\t    width: auto;\\r\\n\\t\\t\\t\\t    height: auto;\\r\\n\\t\\t\\t\\t}\\n</style><div class=\"wpb_wrapper\" ></div></div></div></div></div></div>                </div>\\r\\n            </div>\\r\\n            \\r\\n\\r\\n<article id=\"post-5021\" class=\"td-post-template-7 post-5021 post type-post status-publish format-standard has-post-thumbnail category-blackcoffer category-forecasts category-future category-health-care-equipment-services category-pharmaceutical category-what-we-think tag-better-care tag-economies tag-enhanced-healthcare-outcomes tag-flexibility tag-healthcare-convenience tag-job-opportunities tag-medical-facilities tag-reduced-healthcare-costs tag-telemedicine td-container-wrap\" itemscope itemtype=\"https://schema.org/Article\">\\r\\n\\r\\n    <div class=\"td-full-screen-header-image-wrap\">\\r\\n\\r\\n        <div class=\"td-container td-post-header\">\\r\\n            <div class=\"td-crumb-container\"><div class=\"entry-crumbs\"><span><a title=\"\" class=\"entry-crumb\" href=\"https://insights.blackcoffer.com/\">Home</a></span> <i class=\"td-icon-right td-bread-sep\"></i> <span><a title=\"View all posts in What We Think\" class=\"entry-crumb\" href=\"https://insights.blackcoffer.com/category/what-we-think/\">What We Think</a></span> <i class=\"td-icon-right td-bread-sep td-bred-no-url-last\"></i> <span class=\"td-bred-no-url-last\">Rise of telemedicine and its Impact on Livelihood by 2040</span></div></div>\\r\\n\\r\\n\\t        <div class=\"td-post-header-holder\">\\r\\n\\r\\n\\t\\t        <div class=\"td-parallax-header\">\\r\\n\\r\\n\\t                <header class=\"td-post-title\">\\r\\n\\r\\n\\t                    <ul class=\"td-category\"><li class=\"entry-category\"><a  href=\"https://insights.blackcoffer.com/category/blackcoffer/\">Blackcoffer</a></li><li class=\"entry-category\"><a  href=\"https://insights.blackcoffer.com/category/what-we-think/future/\">Future</a></li><li class=\"entry-category\"><a  href=\"https://insights.blackcoffer.com/category/what-we-think/future/forecasts/\">Forecasts</a></li><li class=\"entry-category\"><a  href=\"https://insights.blackcoffer.com/category/what-we-think/\">What We Think</a></li><li class=\"entry-category\"><a  href=\"https://insights.blackcoffer.com/category/what-we-think/healthcare/\">Healthcare</a></li><li class=\"entry-category\"><a  href=\"https://insights.blackcoffer.com/category/what-we-think/healthcare/health-care-equipment-services/\">Health Care Equipment &amp; Services</a></li><li class=\"entry-category\"><a  href=\"https://insights.blackcoffer.com/category/what-we-think/healthcare/pharmaceutical/\">Pharmaceutical</a></li></ul>\\t                    <h1 class=\"entry-title\">Rise of telemedicine and its Impact on Livelihood by 2040</h1>\\r\\n\\r\\n\\t                    \\r\\n\\t                    <div class=\"td-module-meta-info\">\\r\\n\\t                        <div class=\"td-post-author-name\"><div class=\"td-author-by\">By</div> <a href=\"https://insights.blackcoffer.com/author/admin/\">Ajay Bidyarthy</a><div class=\"td-author-line\"> - </div> </div>\\t                        <span class=\"td-post-date\"><time class=\"entry-date updated td-module-date\" datetime=\"2023-01-02T20:45:14+05:30\" >January 2, 2023</time></span>\\t                        <div class=\"td-post-views\"><i class=\"td-icon-views\"></i><span class=\"td-nr-views-5021\">1392</span></div>\\t                        \\t                    </div>\\r\\n\\r\\n\\t                </header>\\r\\n\\r\\n\\t\\t            <div class=\"td-read-down\"><a href=\"#\"><i class=\"td-icon-read-down\"></i></a></div>\\r\\n\\t\\t        </div>\\r\\n            </div>\\r\\n\\r\\n        </div>\\r\\n\\r\\n        <div id=\"td-full-screen-header-image\" class=\"td-image-gradient-style7\">\\r\\n            <img class=\"td-backstretch\" src=\"https://insights.blackcoffer.com/wp-content/uploads/2023/01/fidovhj.jpg\">\\r\\n        </div>\\r\\n    </div>\\r\\n\\r\\n    <div class=\"td-container\">\\r\\n        <div class=\"td-pb-row\">\\r\\n                                    <div class=\"td-pb-span8 td-main-content\" role=\"main\">\\r\\n                            <div class=\"td-ss-main-content\">\\r\\n                                \\r\\n    \\r\\n\\r\\n    <div class=\"td-post-content tagdiv-type\">\\r\\n        \\n<p>Telemedicine, the use of technology to diagnose and treat patients remotely, has been rising in recent years. With the advent of high-speed internet and improved video conferencing tools, healthcare providers are increasingly turning to telemedicine to provide care to patients in remote or underserved areas.</p>\\n\\n\\n\\n<p><strong>Telemedicine</strong>, using technology to provide healthcare services remotely, has recently gained popularity. With advancements in communication and medical technology, it has become increasingly possible for doctors and patients to connect and interact from anywhere in the world. This has led to the rise of telemedicine, which has the potential to revolutionize the way healthcare is delivered<strong>.#Telemedicine</strong></p>\\n\\n\\n\\n<p>The increasing focus on preventative healthcare has also driven the rise of telemedicine. As more and more people become aware of the importance of staying healthy, they are looking for ways to prevent illness and maintain their health. Telemedicine allows people to monitor their health and get advice from healthcare providers without traveling to a clinic or hospital.</p>\\n\\n\\n\\n<p>Improved access to <strong>healthcare</strong>: One of the biggest challenges in the healthcare industry is the unequal distribution of medical resources, with many remote and rural areas lacking access to quality care. Telemedicine can help bridge this gap by allowing patients in these underserved areas to connect with healthcare providers worldwide. This can give people access to specialized medical care that they would otherwise not be able to receive, improving their health and overall well-being<strong>.#Healthcare</strong></p>\\n\\n\\n\\n<p>Greater convenience and flexibility: Telemedicine also offers a level of <strong>convenience</strong> and <strong>flexibility</strong> that is impossible with traditional in-person medical visits. Patients can consult with their healthcare providers from the comfort of their own homes, saving time and money on travel. This is particularly beneficial for individuals who have mobility issues or who live in areas with limited access to <strong>medical facilities.</strong></p>\\n\\n\\n\\n<p><strong>Reduced healthcare costs</strong>: By enabling patients to receive care remotely, telemedicine can help reduce the overall cost of healthcare. This is because telemedicine visits are generally less expensive than in-person visits and can help prevent the need for more costly interventions, such as hospitalizations. As a result, telemedicine has the potential to make healthcare more affordable for patients and healthcare providers alike<strong>.#Costs</strong></p>\\n\\n\\n\\n<p><strong>Enhanced healthcare outcomes</strong>: Telemedicine can also improve patients&#8217; quality of care. By allowing healthcare providers to access medical records and other important information remotely, telemedicine can help ensure that patients receive the most appropriate care for their needs. This can lead to better health outcomes and a higher quality of life for patients<strong>.#Enhanced</strong></p>\\n\\n\\n\\n<p>More significant <strong>job opportunities</strong> in the healthcare industry like healthcare sector, including for healthcare providers, support staff, and technology experts. This can provide a boost to local <strong>economies </strong>and help to reduce unemployment<strong>.#Jobs</strong></p>\\n\\n\\n\\n<p><strong>Better care</strong> for chronic conditions: Telemedicine can help patients with chronic conditions to manage their health more effectively, allowing them to receive regular check-ups and treatment without the need to travel long distances. This can improve the quality of life for these individuals and reduce the risk of complications from their conditions.</p>\\n\\n\\n\\n<p>Increased flexibility for patients and healthcare providers: Telemedicine allows patients and providers to schedule consultations at times convenient for them, improving the overall flexibility of the healthcare system. This can help to reduce wait times and improve patient satisfaction.</p>\\n\\n\\n\\n<p>Increased accessibility: Telemedicine makes healthcare more accessible to people living in rural and remote areas, who may not have easy access to medical facilities. With telemedicine, patients can consult with doctors and specialists from their homes using their phones, computers, or other devices. This means that more people will be able to get the medical care they need, regardless of where they live.</p>\\n\\n\\n\\n<p>Reduced costs: One of the most significant benefits of telemedicine is that it can reduce healthcare costs. Patients can avoid the costs of travel, accommodation, and time off work associated with in-person visits to the doctor. Telemedicine can also help reduce the cost of medical procedures, as doctors can remotely monitor patients and provide care without needing hospitalization.</p>\\n\\n\\n\\n<p>Improved health outcomes: By providing patients with access to medical care from the comfort of their own homes, telemedicine can help improve their health outcomes. For example, patients with chronic conditions can use telemedicine to manage their symptoms and reduce the risk of complications. Telemedicine can also help prevent the spread of infectious diseases, as patients can receive care without contacting other people.</p>\\n\\n\\n\\n<p>Increased convenience: Telemedicine offers a more convenient option for patients who need medical care. With telemedicine, patients can schedule appointments and consult with doctors at a convenient time without having to take time off work or arrange transportation. This can be especially beneficial for people with busy schedules or mobility issues.</p>\\n\\n\\n\\n<p>Telemedicine, or the use of electronic communication and information technologies to provide healthcare services remotely, has the potential to significantly impact the way we receive and deliver medical care. In the next 20 years, telemedicine will likely become an increasingly important part of our healthcare system, providing numerous benefits and improving the livelihood of many people.</p>\\n\\n\\n\\n<p>The benefits of telemedicine are numerous. For patients, it provides convenient access to medical care without traveling long distances. It also allows for faster diagnosis and treatment and improved continuity of care. For healthcare providers, telemedicine can reduce the strain on already-overburdened healthcare systems and make providing care to patients in remote areas more accessible.</p>\\n\\n\\n\\n<p>The rise of telemedicine will likely significantly impact how we receive medical care in the future. By 2040, it is estimated that telemedicine will be a standard part of the healthcare landscape, with more and more doctors using it to diagnose and treat patients remotely.</p>\\n\\n\\n\\n<p>One of the key drivers of the rise of telemedicine has been the increasing availability of high-speed internet and improved video conferencing tools. In the past, the video and audio quality of telemedicine consultations were often poor, making it difficult for doctors to diagnose and treat patients accurately. However, with faster internet speeds and better video conferencing tools, telemedicine consultations are just as good as in-person visits.</p>\\n\\n\\n\\n<p>Telemedicine makes healthcare more accessible. With telemedicine, patients no longer travel long distances to see a doctor or specialist. Instead, they can receive care from the comfort of their own home. This is particularly beneficial for people living in rural areas, where access to healthcare can be limited.</p>\\n\\n\\n\\n<p>Another factor contributing to the rise of telemedicine is the increasing demand for healthcare services. With the global population growing and people living longer, the need for medical care will only continue to increase. Telemedicine offers a way for healthcare providers to meet this demand by allowing them to provide care to more patients in a shorter amount of time.</p>\\n\\n\\n\\n<p>Another substantial impact of telemedicine is that it can improve patient quality of care. By using technology to connect patients with doctors, telemedicine can help ensure patients receive the best care possible. For example, a doctor can use video conferencing to consult with a specialist or use remote monitoring devices to track a patient&#8217;s vital signs. This can help doctors make more informed decisions and provide better treatment.</p>\\n\\n\\n\\n<p>Telemedicine also has the potential to reduce healthcare costs. By allowing patients to receive care from their homes, telemedicine can reduce the need for expensive hospital visits. In addition, telemedicine can help prevent the spread of infectious diseases, reducing healthcare costs by avoiding hospitalization.</p>\\n\\n\\n\\n<p>One of the critical impacts of telemedicine is that it can improve the patient experience. By providing patients with the ability to receive care from the comfort of their own homes, telemedicine can help reduce anxiety and stress. In addition, telemedicine can make it easier for patients to communicate with their doctors and get the answers they need.</p>\\n\\n\\n\\n<p>Another way in which telemedicine will impact people&#8217;s livelihoods is by making healthcare more efficient. By allowing doctors to diagnose and treat patients remotely, telemedicine will help reduce the time patients spend waiting to see a doctor. It will also help reduce doctors&#8217; spending on administrative tasks, freeing them up to see more patients and provide better care.</p>\\n\\n\\n\\n<p>One major factor driving the rise of telemedicine is the increasing use of technology in healthcare. With advances in communication and medical technology, it is now possible for doctors and other healthcare providers to remotely diagnose and treat patients using video conferencing, remote monitoring, and other forms of telemedicine. This not only allows for more efficient and convenient healthcare delivery but also enables healthcare providers to offer specialized care to patients who otherwise may not have access to it.</p>\\n\\n\\n\\n<p>Another factor contributing to the rise of telemedicine is the need for improved access to healthcare. Patients may travel long distances in many rural and underserved areas; patients may travel long distances to access medical care. Telemedicine can bridge this gap by allowing patients in these areas to consult with healthcare providers remotely. This not only improves access to healthcare but also reduces the need for patients to travel long distances, saving them time and money.</p>\\n\\n\\n\\n<p>Finally, telemedicine&#8217;s rise is also driven by the growing trend of remote work. As more and more people work from home or other remote locations, the need for convenient and accessible healthcare is increasing. Telemedicine allows employees to consult with healthcare providers from their homes, reducing the need for them to take time off work to visit a doctor or other healthcare provider.</p>\\n\\n\\n\\n<p>Overall, the rise of telemedicine by 2040 is a result of a combination of factors, including the increasing use of technology in healthcare, the need for improved access to healthcare, and the growing trend of remote work. As these factors continue to evolve, likely, telemedicine will likely become an increasingly important part of the healthcare landscape.</p>\\n\\n\\n\\n<p>However, the rise of telemedicine is also likely to present some challenges. For example, telemedicine consultations may only be suitable for some medical conditions, and some patients may still need to see a doctor. Additionally, telemedicine may put some jobs at risk, such as receptionists and other administrative staff in healthcare facilities.</p>\\n\\n\\n\\n<pre class=\"wp-block-preformatted\">Blackcoffer Insights 46: G.K.Harish Balaji, Indian Institute of Technology,Madras</pre>\\n    </div>\\r\\n\\r\\n\\r\\n    <footer>\\r\\n                \\r\\n        <div class=\"td-post-source-tags\">\\r\\n                        <ul class=\"td-tags td-post-small-box clearfix\"><li><span>TAGS</span></li><li><a href=\"https://insights.blackcoffer.com/tag/better-care/\">Better Care</a></li><li><a href=\"https://insights.blackcoffer.com/tag/economies/\">Economies</a></li><li><a href=\"https://insights.blackcoffer.com/tag/enhanced-healthcare-outcomes/\">Enhanced Healthcare Outcomes</a></li><li><a href=\"https://insights.blackcoffer.com/tag/flexibility/\">Flexibility</a></li><li><a href=\"https://insights.blackcoffer.com/tag/healthcare-convenience/\">Healthcare Convenience</a></li><li><a href=\"https://insights.blackcoffer.com/tag/job-opportunities/\">Job Opportunities</a></li><li><a href=\"https://insights.blackcoffer.com/tag/medical-facilities/\">Medical Facilities</a></li><li><a href=\"https://insights.blackcoffer.com/tag/reduced-healthcare-costs/\">Reduced Healthcare Costs</a></li><li><a href=\"https://insights.blackcoffer.com/tag/telemedicine/\">Telemedicine</a></li></ul>        </div>\\r\\n\\r\\n                <div class=\"td-block-row td-post-next-prev\"><div class=\"td-block-span6 td-post-prev-post\"><div class=\"td-post-next-prev-content\"><span>Previous article</span><a href=\"https://insights.blackcoffer.com/rise-of-e-health-and-its-impact-on-humans-by-the-year-2030/\">Rise of e-health and its impact on humans by the year 2030</a></div></div><div class=\"td-next-prev-separator\"></div><div class=\"td-block-span6 td-post-next-post\"><div class=\"td-post-next-prev-content\"><span>Next article</span><a href=\"https://insights.blackcoffer.com/autogpt-setup/\">AutoGPT Setup</a></div></div></div>        <div class=\"td-author-name vcard author\" style=\"display: none\"><span class=\"fn\"><a href=\"https://insights.blackcoffer.com/author/admin/\">Ajay Bidyarthy</a></span></div>        <span class=\"td-page-meta\" itemprop=\"author\" itemscope itemtype=\"https://schema.org/Person\"><meta itemprop=\"name\" content=\"Ajay Bidyarthy\"><meta itemprop=\"url\" content=\"https://insights.blackcoffer.com/author/admin/\"></span><meta itemprop=\"datePublished\" content=\"2023-01-02T20:45:14+05:30\"><meta itemprop=\"dateModified\" content=\"2023-01-02T20:45:14+05:30\"><meta itemscope itemprop=\"mainEntityOfPage\" itemType=\"https://schema.org/WebPage\" itemid=\"https://insights.blackcoffer.com/rise-of-telemedicine-and-its-impact-on-livelihood-by-2040-3-2/\"/><span class=\"td-page-meta\" itemprop=\"publisher\" itemscope itemtype=\"https://schema.org/Organization\"><span class=\"td-page-meta\" itemprop=\"logo\" itemscope itemtype=\"https://schema.org/ImageObject\"><meta itemprop=\"url\" content=\"https://insights.blackcoffer.com/wp-content/uploads/2018/12/Insights-blackv02.png\"></span><meta itemprop=\"name\" content=\"Blackcoffer Insights\"></span><meta itemprop=\"headline \" content=\"Rise of telemedicine and its Impact on Livelihood by 2040\"><span class=\"td-page-meta\" itemprop=\"image\" itemscope itemtype=\"https://schema.org/ImageObject\"><meta itemprop=\"url\" content=\"https://insights.blackcoffer.com/wp-content/uploads/2023/01/fidovhj.jpg\"><meta itemprop=\"width\" content=\"1365\"><meta itemprop=\"height\" content=\"768\"></span>    </footer>\\r\\n\\r\\n    <div class=\"td_block_wrap td_block_related_posts tdi_111 td_with_ajax_pagination td-pb-border-top td_block_template_1\"  data-td-block-uid=\"tdi_111\" ><script>var block_tdi_111 = new tdBlock();\\nblock_tdi_111.id = \"tdi_111\";\\nblock_tdi_111.atts = \\'{\"limit\":3,\"ajax_pagination\":\"next_prev\",\"live_filter\":\"cur_post_same_categories\",\"td_ajax_filter_type\":\"td_custom_related\",\"class\":\"tdi_111\",\"td_column_number\":3,\"block_type\":\"td_block_related_posts\",\"live_filter_cur_post_id\":5021,\"live_filter_cur_post_author\":\"1\",\"block_template_id\":\"\",\"header_color\":\"\",\"ajax_pagination_infinite_stop\":\"\",\"offset\":\"\",\"td_ajax_preloading\":\"\",\"td_filter_default_txt\":\"\",\"td_ajax_filter_ids\":\"\",\"el_class\":\"\",\"color_preset\":\"\",\"ajax_pagination_next_prev_swipe\":\"\",\"border_top\":\"\",\"css\":\"\",\"tdc_css\":\"\",\"tdc_css_class\":\"tdi_111\",\"tdc_css_class_style\":\"tdi_111_rand_style\"}\\';\\nblock_tdi_111.td_column_number = \"3\";\\nblock_tdi_111.block_type = \"td_block_related_posts\";\\nblock_tdi_111.post_count = \"3\";\\nblock_tdi_111.found_posts = \"199\";\\nblock_tdi_111.header_color = \"\";\\nblock_tdi_111.ajax_pagination_infinite_stop = \"\";\\nblock_tdi_111.max_num_pages = \"67\";\\ntdBlocksArray.push(block_tdi_111);\\n</script><h4 class=\"td-related-title td-block-title\"><a id=\"tdi_112\" class=\"td-related-left td-cur-simple-item\" data-td_filter_value=\"\" data-td_block_id=\"tdi_111\" href=\"#\">RELATED ARTICLES</a><a id=\"tdi_113\" class=\"td-related-right\" data-td_filter_value=\"td_related_more_from_author\" data-td_block_id=\"tdi_111\" href=\"#\">MORE FROM AUTHOR</a></h4><div id=tdi_111 class=\"td_block_inner\">\\n\\n\\t<div class=\"td-related-row\">\\n\\n\\t<div class=\"td-related-span4\">\\n\\r\\n        <div class=\"td_module_related_posts td-animation-stack td_mod_related_posts\">\\r\\n            <div class=\"td-module-image\">\\r\\n                <div class=\"td-module-thumb\"><a href=\"https://insights.blackcoffer.com/rise-of-e-health-and-its-impact-on-humans-by-the-year-2030/\" rel=\"bookmark\" class=\"td-image-wrap \" title=\"Rise of e-health and its impact on humans by the year 2030\" ><img class=\"entry-thumb\" src=\"data:image/png;base64,iVBORw0KGgoAAAANSUhEUgAAANoAAACWAQMAAACCSQSPAAAAA1BMVEWurq51dlI4AAAAAXRSTlMmkutdmwAAABpJREFUWMPtwQENAAAAwiD7p7bHBwwAAAAg7RD+AAGXD7BoAAAAAElFTkSuQmCC\" alt=\"\" title=\"Rise of e-health and its impact on humans by the year 2030\" data-type=\"image_tag\" data-img-url=\"https://insights.blackcoffer.com/wp-content/uploads/2023/01/digital-health-218x150.jpg\"  width=\"218\" height=\"150\" /></a></div>                            </div>\\r\\n            <div class=\"item-details\">\\r\\n                <h3 class=\"entry-title td-module-title\"><a href=\"https://insights.blackcoffer.com/rise-of-e-health-and-its-impact-on-humans-by-the-year-2030/\" rel=\"bookmark\" title=\"Rise of e-health and its impact on humans by the year 2030\">Rise of e-health and its impact on humans by the year 2030</a></h3>            </div>\\r\\n        </div>\\r\\n        \\n\\t</div> <!-- ./td-related-span4 -->\\n\\n\\t<div class=\"td-related-span4\">\\n\\r\\n        <div class=\"td_module_related_posts td-animation-stack td_mod_related_posts\">\\r\\n            <div class=\"td-module-image\">\\r\\n                <div class=\"td-module-thumb\"><a href=\"https://insights.blackcoffer.com/rise-of-e-health-and-its-imapct-on-humans-by-the-year-2030-2/\" rel=\"bookmark\" class=\"td-image-wrap \" title=\"Rise of e-health and its impact on humans by the year 2030\" ><img class=\"entry-thumb\" src=\"data:image/png;base64,iVBORw0KGgoAAAANSUhEUgAAANoAAACWAQMAAACCSQSPAAAAA1BMVEWurq51dlI4AAAAAXRSTlMmkutdmwAAABpJREFUWMPtwQENAAAAwiD7p7bHBwwAAAAg7RD+AAGXD7BoAAAAAElFTkSuQmCC\" alt=\"\" title=\"Rise of e-health and its impact on humans by the year 2030\" data-type=\"image_tag\" data-img-url=\"https://insights.blackcoffer.com/wp-content/uploads/2023/01/po-218x150.jpg\"  width=\"218\" height=\"150\" /></a></div>                            </div>\\r\\n            <div class=\"item-details\">\\r\\n                <h3 class=\"entry-title td-module-title\"><a href=\"https://insights.blackcoffer.com/rise-of-e-health-and-its-imapct-on-humans-by-the-year-2030-2/\" rel=\"bookmark\" title=\"Rise of e-health and its impact on humans by the year 2030\">Rise of e-health and its impact on humans by the year 2030</a></h3>            </div>\\r\\n        </div>\\r\\n        \\n\\t</div> <!-- ./td-related-span4 -->\\n\\n\\t<div class=\"td-related-span4\">\\n\\r\\n        <div class=\"td_module_related_posts td-animation-stack td_mod_related_posts\">\\r\\n            <div class=\"td-module-image\">\\r\\n                <div class=\"td-module-thumb\"><a href=\"https://insights.blackcoffer.com/rise-of-telemedicine-and-its-impact-on-livelihood-by-2040-2/\" rel=\"bookmark\" class=\"td-image-wrap \" title=\"Rise of telemedicine and its Impact on Livelihood by 2040\" ><img class=\"entry-thumb\" src=\"data:image/png;base64,iVBORw0KGgoAAAANSUhEUgAAANoAAACWAQMAAACCSQSPAAAAA1BMVEWurq51dlI4AAAAAXRSTlMmkutdmwAAABpJREFUWMPtwQENAAAAwiD7p7bHBwwAAAAg7RD+AAGXD7BoAAAAAElFTkSuQmCC\" alt=\"\" title=\"Rise of telemedicine and its Impact on Livelihood by 2040\" data-type=\"image_tag\" data-img-url=\"https://insights.blackcoffer.com/wp-content/uploads/2023/01/telehealth_doctor_getty_1200-218x150.jpg\"  width=\"218\" height=\"150\" /></a></div>                            </div>\\r\\n            <div class=\"item-details\">\\r\\n                <h3 class=\"entry-title td-module-title\"><a href=\"https://insights.blackcoffer.com/rise-of-telemedicine-and-its-impact-on-livelihood-by-2040-2/\" rel=\"bookmark\" title=\"Rise of telemedicine and its Impact on Livelihood by 2040\">Rise of telemedicine and its Impact on Livelihood by 2040</a></h3>            </div>\\r\\n        </div>\\r\\n        \\n\\t</div> <!-- ./td-related-span4 --></div><!--./row-fluid--></div><div class=\"td-next-prev-wrap\"><a href=\"#\" class=\"td-ajax-prev-page ajax-page-disabled\" aria-label=\"prev-page\" id=\"prev-page-tdi_111\" data-td_block_id=\"tdi_111\"><i class=\"td-next-prev-icon td-icon-font td-icon-menu-left\"></i></a><a href=\"#\"  class=\"td-ajax-next-page\" aria-label=\"next-page\" id=\"next-page-tdi_111\" data-td_block_id=\"tdi_111\"><i class=\"td-next-prev-icon td-icon-font td-icon-menu-right\"></i></a></div></div> <!-- ./block -->\\r\\n    <div class=\"comments\" id=\"comments\">\\r\\n            </div> <!-- /.content -->\\r\\n                                </div>\\r\\n                        </div>\\r\\n                        <div class=\"td-pb-span4 td-main-sidebar\" role=\"complementary\">\\r\\n                            <div class=\"td-ss-main-sidebar\">\\r\\n                                <div class=\"td-a-rec td-a-rec-id-sidebar  tdi_114 td_block_template_1\">\\n<style>\\n/* custom css */\\n.tdi_114.td-a-rec{\\r\\n\\t\\t\\t\\t\\ttext-align: center;\\r\\n\\t\\t\\t\\t}.tdi_114 .td-element-style{\\r\\n\\t\\t\\t\\t\\tz-index: -1;\\r\\n\\t\\t\\t\\t}.tdi_114.td-a-rec-img{\\r\\n\\t\\t\\t\\t    text-align: left;\\r\\n\\t\\t\\t\\t}.tdi_114.td-a-rec-img img{\\r\\n                    margin: 0 auto 0 0;\\r\\n                }@media (max-width: 767px) {\\r\\n\\t\\t\\t\\t    .tdi_114.td-a-rec-img {\\r\\n\\t\\t\\t\\t        text-align: center;\\r\\n\\t\\t\\t\\t    }\\r\\n                }\\n</style><span class=\"td-adspot-title\">- Advertisement -</span><div class=\"td-all-devices\"><a href=\"#\" target=\"_blank\"><img src=\"https://insights.blackcoffer.com/wp-content/uploads/2019/01/Blackcoffer_ad.png\"  style=\"transition: all 0.3s ease 0s; transform: scale(1);\" onmouseover=\"this.style.transform=`scale(1.1)`\" onmouseout=\"this.style.transform=`scale(1)`\"/></a></div></div><div class=\"td_block_wrap td_block_7 td_block_widget tdi_115 td_with_ajax_pagination td-pb-border-top td_block_template_1 td-column-1 td_block_padding\"  data-td-block-uid=\"tdi_115\" ><script>var block_tdi_115 = new tdBlock();\\nblock_tdi_115.id = \"tdi_115\";\\nblock_tdi_115.atts = \\'{\"custom_title\":\"MOST POPULAR INSIGHTS\",\"custom_url\":\"\",\"block_template_id\":\"\",\"header_color\":\"#\",\"header_text_color\":\"#\",\"accent_text_color\":\"#\",\"m6_tl\":\"\",\"limit\":\"4\",\"offset\":\"\",\"el_class\":\"\",\"post_ids\":\"-5021\",\"category_id\":\"\",\"category_ids\":\"\",\"tag_slug\":\"\",\"autors_id\":\"\",\"installed_post_types\":\"\",\"sort\":\"random_posts\",\"td_ajax_filter_type\":\"\",\"td_ajax_filter_ids\":\"\",\"td_filter_default_txt\":\"All\",\"td_ajax_preloading\":\"\",\"ajax_pagination\":\"load_more\",\"ajax_pagination_infinite_stop\":\"\",\"class\":\"td_block_widget tdi_115\",\"block_type\":\"td_block_7\",\"separator\":\"\",\"taxonomies\":\"\",\"in_all_terms\":\"\",\"show_modified_date\":\"\",\"time_ago\":\"\",\"time_ago_add_txt\":\"ago\",\"time_ago_txt_pos\":\"\",\"f_header_font_header\":\"\",\"f_header_font_title\":\"Block header\",\"f_header_font_settings\":\"\",\"f_header_font_family\":\"\",\"f_header_font_size\":\"\",\"f_header_font_line_height\":\"\",\"f_header_font_style\":\"\",\"f_header_font_weight\":\"\",\"f_header_font_transform\":\"\",\"f_header_font_spacing\":\"\",\"f_header_\":\"\",\"f_ajax_font_title\":\"Ajax categories\",\"f_ajax_font_settings\":\"\",\"f_ajax_font_family\":\"\",\"f_ajax_font_size\":\"\",\"f_ajax_font_line_height\":\"\",\"f_ajax_font_style\":\"\",\"f_ajax_font_weight\":\"\",\"f_ajax_font_transform\":\"\",\"f_ajax_font_spacing\":\"\",\"f_ajax_\":\"\",\"f_more_font_title\":\"Load more button\",\"f_more_font_settings\":\"\",\"f_more_font_family\":\"\",\"f_more_font_size\":\"\",\"f_more_font_line_height\":\"\",\"f_more_font_style\":\"\",\"f_more_font_weight\":\"\",\"f_more_font_transform\":\"\",\"f_more_font_spacing\":\"\",\"f_more_\":\"\",\"m6f_title_font_header\":\"\",\"m6f_title_font_title\":\"Article title\",\"m6f_title_font_settings\":\"\",\"m6f_title_font_family\":\"\",\"m6f_title_font_size\":\"\",\"m6f_title_font_line_height\":\"\",\"m6f_title_font_style\":\"\",\"m6f_title_font_weight\":\"\",\"m6f_title_font_transform\":\"\",\"m6f_title_font_spacing\":\"\",\"m6f_title_\":\"\",\"m6f_cat_font_title\":\"Article category tag\",\"m6f_cat_font_settings\":\"\",\"m6f_cat_font_family\":\"\",\"m6f_cat_font_size\":\"\",\"m6f_cat_font_line_height\":\"\",\"m6f_cat_font_style\":\"\",\"m6f_cat_font_weight\":\"\",\"m6f_cat_font_transform\":\"\",\"m6f_cat_font_spacing\":\"\",\"m6f_cat_\":\"\",\"m6f_meta_font_title\":\"Article meta info\",\"m6f_meta_font_settings\":\"\",\"m6f_meta_font_family\":\"\",\"m6f_meta_font_size\":\"\",\"m6f_meta_font_line_height\":\"\",\"m6f_meta_font_style\":\"\",\"m6f_meta_font_weight\":\"\",\"m6f_meta_font_transform\":\"\",\"m6f_meta_font_spacing\":\"\",\"m6f_meta_\":\"\",\"ajax_pagination_next_prev_swipe\":\"\",\"css\":\"\",\"tdc_css\":\"\",\"td_column_number\":1,\"color_preset\":\"\",\"border_top\":\"\",\"tdc_css_class\":\"tdi_115\",\"tdc_css_class_style\":\"tdi_115_rand_style\"}\\';\\nblock_tdi_115.td_column_number = \"1\";\\nblock_tdi_115.block_type = \"td_block_7\";\\nblock_tdi_115.post_count = \"4\";\\nblock_tdi_115.found_posts = \"453\";\\nblock_tdi_115.header_color = \"#\";\\nblock_tdi_115.ajax_pagination_infinite_stop = \"\";\\nblock_tdi_115.max_num_pages = \"114\";\\ntdBlocksArray.push(block_tdi_115);\\n</script><div class=\"td-block-title-wrap\"><h4 class=\"block-title td-block-title\"><span class=\"td-pulldown-size\">MOST POPULAR INSIGHTS</span></h4></div><div id=tdi_115 class=\"td_block_inner\">\\n\\n\\t<div class=\"td-block-span12\">\\n\\r\\n        <div class=\"td_module_6 td_module_wrap td-animation-stack\">\\r\\n\\r\\n        <div class=\"td-module-thumb\"><a href=\"https://insights.blackcoffer.com/power-bi-integration-with-restapi-and-saml-integration/\" rel=\"bookmark\" class=\"td-image-wrap \" title=\"Power BI integration with RestAPI, and SAML Integration\" ><img class=\"entry-thumb\" src=\"data:image/png;base64,iVBORw0KGgoAAAANSUhEUgAAAGQAAABGAQMAAAAASKMqAAAAA1BMVEWurq51dlI4AAAAAXRSTlMmkutdmwAAABBJREFUKM9jGAWjYBQMKwAAA9QAAQWBn6cAAAAASUVORK5CYII=\" alt=\"\" title=\"Power BI integration with RestAPI, and SAML Integration\" data-type=\"image_tag\" data-img-url=\"https://insights.blackcoffer.com/wp-content/uploads/2021/06/portfolio_img_02-1200x903-1-100x70.jpg\"  width=\"100\" height=\"70\" /></a></div>\\r\\n        <div class=\"item-details\">\\r\\n            <h3 class=\"entry-title td-module-title\"><a href=\"https://insights.blackcoffer.com/power-bi-integration-with-restapi-and-saml-integration/\" rel=\"bookmark\" title=\"Power BI integration with RestAPI, and SAML Integration\">Power BI integration with RestAPI, and SAML Integration</a></h3>            <div class=\"td-module-meta-info\">\\r\\n                                                <span class=\"td-post-date\"><time class=\"entry-date updated td-module-date\" datetime=\"2021-06-07T16:09:46+05:30\" >June 7, 2021</time></span>                            </div>\\r\\n        </div>\\r\\n\\r\\n        </div>\\r\\n\\r\\n        \\n\\t</div> <!-- ./td-block-span12 -->\\n\\n\\t<div class=\"td-block-span12\">\\n\\r\\n        <div class=\"td_module_6 td_module_wrap td-animation-stack\">\\r\\n\\r\\n        <div class=\"td-module-thumb\"><a href=\"https://insights.blackcoffer.com/real-time-sentiment-analysis-tool-retail-industry/\" rel=\"bookmark\" class=\"td-image-wrap \" title=\"Real-Time sentiment analysis tool &#8211; Retail Industry\" ><img class=\"entry-thumb\" src=\"data:image/png;base64,iVBORw0KGgoAAAANSUhEUgAAAGQAAABGAQMAAAAASKMqAAAAA1BMVEWurq51dlI4AAAAAXRSTlMmkutdmwAAABBJREFUKM9jGAWjYBQMKwAAA9QAAQWBn6cAAAAASUVORK5CYII=\" alt=\"Real-Time sentiment analysis tool - Retail Industry\" title=\"Real-Time sentiment analysis tool &#8211; Retail Industry\" data-type=\"image_tag\" data-img-url=\"https://insights.blackcoffer.com/wp-content/uploads/2019/07/Real-Time-sentiment-analysis-tool-Retail-Industry-100x70.jpg\"  width=\"100\" height=\"70\" /></a></div>\\r\\n        <div class=\"item-details\">\\r\\n            <h3 class=\"entry-title td-module-title\"><a href=\"https://insights.blackcoffer.com/real-time-sentiment-analysis-tool-retail-industry/\" rel=\"bookmark\" title=\"Real-Time sentiment analysis tool &#8211; Retail Industry\">Real-Time sentiment analysis tool &#8211; Retail Industry</a></h3>            <div class=\"td-module-meta-info\">\\r\\n                                                <span class=\"td-post-date\"><time class=\"entry-date updated td-module-date\" datetime=\"2019-07-06T14:43:31+05:30\" >July 6, 2019</time></span>                            </div>\\r\\n        </div>\\r\\n\\r\\n        </div>\\r\\n\\r\\n        \\n\\t</div> <!-- ./td-block-span12 -->\\n\\n\\t<div class=\"td-block-span12\">\\n\\r\\n        <div class=\"td_module_6 td_module_wrap td-animation-stack\">\\r\\n\\r\\n        <div class=\"td-module-thumb\"><a href=\"https://insights.blackcoffer.com/big-data-analytics-help-voters-know-political-leaders/\" rel=\"bookmark\" class=\"td-image-wrap \" title=\"Big Data &#038; Analytics to Help Voters Know Their Political Leaders\" ><img class=\"entry-thumb\" src=\"data:image/png;base64,iVBORw0KGgoAAAANSUhEUgAAAGQAAABGAQMAAAAASKMqAAAAA1BMVEWurq51dlI4AAAAAXRSTlMmkutdmwAAABBJREFUKM9jGAWjYBQMKwAAA9QAAQWBn6cAAAAASUVORK5CYII=\" alt=\"Big Data &amp; Analytics to Help Voters Know Their Political Leaders\" title=\"Big Data &#038; Analytics to Help Voters Know Their Political Leaders\" data-type=\"image_tag\" data-img-url=\"https://insights.blackcoffer.com/wp-content/uploads/2018/03/Big-Data-Analytics-to-Help-Voters-Know-Their-Political-Leaders-100x70.jpg\"  width=\"100\" height=\"70\" /></a></div>\\r\\n        <div class=\"item-details\">\\r\\n            <h3 class=\"entry-title td-module-title\"><a href=\"https://insights.blackcoffer.com/big-data-analytics-help-voters-know-political-leaders/\" rel=\"bookmark\" title=\"Big Data &#038; Analytics to Help Voters Know Their Political Leaders\">Big Data &#038; Analytics to Help Voters Know Their Political Leaders</a></h3>            <div class=\"td-module-meta-info\">\\r\\n                                                <span class=\"td-post-date\"><time class=\"entry-date updated td-module-date\" datetime=\"2018-03-10T14:31:03+05:30\" >March 10, 2018</time></span>                            </div>\\r\\n        </div>\\r\\n\\r\\n        </div>\\r\\n\\r\\n        \\n\\t</div> <!-- ./td-block-span12 -->\\n\\n\\t<div class=\"td-block-span12\">\\n\\r\\n        <div class=\"td_module_6 td_module_wrap td-animation-stack\">\\r\\n\\r\\n        <div class=\"td-module-thumb\"><a href=\"https://insights.blackcoffer.com/a-leading-firm-in-the-usa-website-seo-optimization/\" rel=\"bookmark\" class=\"td-image-wrap \" title=\"A Leading Firm in the USA, Website SEO &#038; Optimization\" ><img class=\"entry-thumb\" src=\"data:image/png;base64,iVBORw0KGgoAAAANSUhEUgAAAGQAAABGAQMAAAAASKMqAAAAA1BMVEWurq51dlI4AAAAAXRSTlMmkutdmwAAABBJREFUKM9jGAWjYBQMKwAAA9QAAQWBn6cAAAAASUVORK5CYII=\" alt=\"\" title=\"A Leading Firm in the USA, Website SEO &#038; Optimization\" data-type=\"image_tag\" data-img-url=\"https://insights.blackcoffer.com/wp-content/uploads/2021/09/theme-05-100x70.jpg\"  width=\"100\" height=\"70\" /></a></div>\\r\\n        <div class=\"item-details\">\\r\\n            <h3 class=\"entry-title td-module-title\"><a href=\"https://insights.blackcoffer.com/a-leading-firm-in-the-usa-website-seo-optimization/\" rel=\"bookmark\" title=\"A Leading Firm in the USA, Website SEO &#038; Optimization\">A Leading Firm in the USA, Website SEO &#038; Optimization</a></h3>            <div class=\"td-module-meta-info\">\\r\\n                                                <span class=\"td-post-date\"><time class=\"entry-date updated td-module-date\" datetime=\"2021-09-05T13:25:50+05:30\" >September 5, 2021</time></span>                            </div>\\r\\n        </div>\\r\\n\\r\\n        </div>\\r\\n\\r\\n        \\n\\t</div> <!-- ./td-block-span12 --></div><div class=\"td-load-more-wrap\"><a href=\"#\" class=\"td_ajax_load_more td_ajax_load_more_js\"  aria-label=\"load_more\" id=\"next-page-tdi_115\" data-td_block_id=\"tdi_115\">Load more<i class=\"td-icon-font td-icon-menu-down\"></i></a></div></div> <!-- ./block --><div class=\"td_block_wrap td_block_15 td_block_widget tdi_116 td_with_ajax_pagination td-pb-border-top td_block_template_1 td-column-1 td_block_padding\"  data-td-block-uid=\"tdi_116\" ><script>var block_tdi_116 = new tdBlock();\\nblock_tdi_116.id = \"tdi_116\";\\nblock_tdi_116.atts = \\'{\"custom_title\":\"RECOMMENDED INSIGHTS\",\"custom_url\":\"\",\"block_template_id\":\"\",\"header_color\":\"#\",\"header_text_color\":\"#\",\"accent_text_color\":\"#\",\"mx4_tl\":\"\",\"limit\":\"4\",\"offset\":\"\",\"el_class\":\"\",\"post_ids\":\"-5021\",\"category_id\":\"\",\"category_ids\":\"\",\"tag_slug\":\"\",\"autors_id\":\"\",\"installed_post_types\":\"\",\"sort\":\"random_posts\",\"td_ajax_filter_type\":\"\",\"td_ajax_filter_ids\":\"\",\"td_filter_default_txt\":\"All\",\"td_ajax_preloading\":\"\",\"ajax_pagination\":\"next_prev\",\"ajax_pagination_infinite_stop\":\"\",\"class\":\"td_block_widget tdi_116\",\"block_type\":\"td_block_15\",\"separator\":\"\",\"taxonomies\":\"\",\"in_all_terms\":\"\",\"show_modified_date\":\"\",\"time_ago\":\"\",\"time_ago_add_txt\":\"ago\",\"time_ago_txt_pos\":\"\",\"f_header_font_header\":\"\",\"f_header_font_title\":\"Block header\",\"f_header_font_settings\":\"\",\"f_header_font_family\":\"\",\"f_header_font_size\":\"\",\"f_header_font_line_height\":\"\",\"f_header_font_style\":\"\",\"f_header_font_weight\":\"\",\"f_header_font_transform\":\"\",\"f_header_font_spacing\":\"\",\"f_header_\":\"\",\"f_ajax_font_title\":\"Ajax categories\",\"f_ajax_font_settings\":\"\",\"f_ajax_font_family\":\"\",\"f_ajax_font_size\":\"\",\"f_ajax_font_line_height\":\"\",\"f_ajax_font_style\":\"\",\"f_ajax_font_weight\":\"\",\"f_ajax_font_transform\":\"\",\"f_ajax_font_spacing\":\"\",\"f_ajax_\":\"\",\"f_more_font_title\":\"Load more button\",\"f_more_font_settings\":\"\",\"f_more_font_family\":\"\",\"f_more_font_size\":\"\",\"f_more_font_line_height\":\"\",\"f_more_font_style\":\"\",\"f_more_font_weight\":\"\",\"f_more_font_transform\":\"\",\"f_more_font_spacing\":\"\",\"f_more_\":\"\",\"mx4f_title_font_header\":\"\",\"mx4f_title_font_title\":\"Article title\",\"mx4f_title_font_settings\":\"\",\"mx4f_title_font_family\":\"\",\"mx4f_title_font_size\":\"\",\"mx4f_title_font_line_height\":\"\",\"mx4f_title_font_style\":\"\",\"mx4f_title_font_weight\":\"\",\"mx4f_title_font_transform\":\"\",\"mx4f_title_font_spacing\":\"\",\"mx4f_title_\":\"\",\"mx4f_cat_font_title\":\"Article category tag\",\"mx4f_cat_font_settings\":\"\",\"mx4f_cat_font_family\":\"\",\"mx4f_cat_font_size\":\"\",\"mx4f_cat_font_line_height\":\"\",\"mx4f_cat_font_style\":\"\",\"mx4f_cat_font_weight\":\"\",\"mx4f_cat_font_transform\":\"\",\"mx4f_cat_font_spacing\":\"\",\"mx4f_cat_\":\"\",\"ajax_pagination_next_prev_swipe\":\"\",\"css\":\"\",\"tdc_css\":\"\",\"td_column_number\":1,\"color_preset\":\"\",\"border_top\":\"\",\"tdc_css_class\":\"tdi_116\",\"tdc_css_class_style\":\"tdi_116_rand_style\"}\\';\\nblock_tdi_116.td_column_number = \"1\";\\nblock_tdi_116.block_type = \"td_block_15\";\\nblock_tdi_116.post_count = \"4\";\\nblock_tdi_116.found_posts = \"453\";\\nblock_tdi_116.header_color = \"#\";\\nblock_tdi_116.ajax_pagination_infinite_stop = \"\";\\nblock_tdi_116.max_num_pages = \"114\";\\ntdBlocksArray.push(block_tdi_116);\\n</script><div class=\"td-block-title-wrap\"><h4 class=\"block-title td-block-title\"><span class=\"td-pulldown-size\">RECOMMENDED INSIGHTS</span></h4></div><div id=tdi_116 class=\"td_block_inner td-column-1\"><div class=\"td-cust-row\">\\n\\n\\t<div class=\"td-block-span12\">\\n\\r\\n        <div class=\"td_module_mx4 td_module_wrap td-animation-stack\">\\r\\n            <div class=\"td-module-image\">\\r\\n                <div class=\"td-module-thumb\"><a href=\"https://insights.blackcoffer.com/incident-duration-prediction-infrastructure-and-real-estate/\" rel=\"bookmark\" class=\"td-image-wrap \" title=\"Incident Duration Prediction &#8211; Infrastructure and Real Estate\" ><img class=\"entry-thumb\" src=\"data:image/png;base64,iVBORw0KGgoAAAANSUhEUgAAANoAAACWAQMAAACCSQSPAAAAA1BMVEWurq51dlI4AAAAAXRSTlMmkutdmwAAABpJREFUWMPtwQENAAAAwiD7p7bHBwwAAAAg7RD+AAGXD7BoAAAAAElFTkSuQmCC\" alt=\"\" title=\"Incident Duration Prediction &#8211; Infrastructure and Real Estate\" data-type=\"image_tag\" data-img-url=\"https://insights.blackcoffer.com/wp-content/uploads/2022/02/h6-bg-slider-01-218x150.jpg\"  width=\"218\" height=\"150\" /></a></div>                            </div>\\r\\n\\r\\n            <h3 class=\"entry-title td-module-title\"><a href=\"https://insights.blackcoffer.com/incident-duration-prediction-infrastructure-and-real-estate/\" rel=\"bookmark\" title=\"Incident Duration Prediction &#8211; Infrastructure and Real Estate\">Incident Duration Prediction &#8211; Infrastructure and Real Estate</a></h3>\\r\\n        </div>\\r\\n\\r\\n        \\n\\t</div> <!-- ./td-block-span12 -->\\n\\n\\t<div class=\"td-block-span12\">\\n\\r\\n        <div class=\"td_module_mx4 td_module_wrap td-animation-stack\">\\r\\n            <div class=\"td-module-image\">\\r\\n                <div class=\"td-module-thumb\"><a href=\"https://insights.blackcoffer.com/integration-of-a-product-to-a-cloud-based-crm-platform/\" rel=\"bookmark\" class=\"td-image-wrap \" title=\"Integration of a product to a cloud-based CRM platform\" ><img class=\"entry-thumb\" src=\"data:image/png;base64,iVBORw0KGgoAAAANSUhEUgAAANoAAACWAQMAAACCSQSPAAAAA1BMVEWurq51dlI4AAAAAXRSTlMmkutdmwAAABpJREFUWMPtwQENAAAAwiD7p7bHBwwAAAAg7RD+AAGXD7BoAAAAAElFTkSuQmCC\" alt=\"\" title=\"Integration of a product to a cloud-based CRM platform\" data-type=\"image_tag\" data-img-url=\"https://insights.blackcoffer.com/wp-content/uploads/2022/09/post_05-218x150.jpg\"  width=\"218\" height=\"150\" /></a></div>                            </div>\\r\\n\\r\\n            <h3 class=\"entry-title td-module-title\"><a href=\"https://insights.blackcoffer.com/integration-of-a-product-to-a-cloud-based-crm-platform/\" rel=\"bookmark\" title=\"Integration of a product to a cloud-based CRM platform\">Integration of a product to a cloud-based CRM platform</a></h3>\\r\\n        </div>\\r\\n\\r\\n        \\n\\t</div> <!-- ./td-block-span12 --></div><div class=\"td-cust-row\">\\n\\n\\t<div class=\"td-block-span12\">\\n\\r\\n        <div class=\"td_module_mx4 td_module_wrap td-animation-stack\">\\r\\n            <div class=\"td-module-image\">\\r\\n                <div class=\"td-module-thumb\"><a href=\"https://insights.blackcoffer.com/hr-analytics-dashboard/\" rel=\"bookmark\" class=\"td-image-wrap \" title=\"HR Analytics Dashboard\" ><img class=\"entry-thumb\" src=\"data:image/png;base64,iVBORw0KGgoAAAANSUhEUgAAANoAAACWAQMAAACCSQSPAAAAA1BMVEWurq51dlI4AAAAAXRSTlMmkutdmwAAABpJREFUWMPtwQENAAAAwiD7p7bHBwwAAAAg7RD+AAGXD7BoAAAAAElFTkSuQmCC\" alt=\"\" title=\"HR Analytics Dashboard\" data-type=\"image_tag\" data-img-url=\"https://insights.blackcoffer.com/wp-content/uploads/2020/10/banner-5-2-218x150.jpg\"  width=\"218\" height=\"150\" /></a></div>                            </div>\\r\\n\\r\\n            <h3 class=\"entry-title td-module-title\"><a href=\"https://insights.blackcoffer.com/hr-analytics-dashboard/\" rel=\"bookmark\" title=\"HR Analytics Dashboard\">HR Analytics Dashboard</a></h3>\\r\\n        </div>\\r\\n\\r\\n        \\n\\t</div> <!-- ./td-block-span12 -->\\n\\n\\t<div class=\"td-block-span12\">\\n\\r\\n        <div class=\"td_module_mx4 td_module_wrap td-animation-stack\">\\r\\n            <div class=\"td-module-image\">\\r\\n                <div class=\"td-module-thumb\"><a href=\"https://insights.blackcoffer.com/how-will-covid-19-affect-the-world-of-work-4/\" rel=\"bookmark\" class=\"td-image-wrap \" title=\"How will COVID-19 affect the world of work?\" ><img class=\"entry-thumb\" src=\"data:image/png;base64,iVBORw0KGgoAAAANSUhEUgAAANoAAACWAQMAAACCSQSPAAAAA1BMVEWurq51dlI4AAAAAXRSTlMmkutdmwAAABpJREFUWMPtwQENAAAAwiD7p7bHBwwAAAAg7RD+AAGXD7BoAAAAAElFTkSuQmCC\" alt=\"\" title=\"How will COVID-19 affect the world of work?\" data-type=\"image_tag\" data-img-url=\"https://insights.blackcoffer.com/wp-content/uploads/2020/04/crowd-218x150.jpg\"  width=\"218\" height=\"150\" /></a></div>                            </div>\\r\\n\\r\\n            <h3 class=\"entry-title td-module-title\"><a href=\"https://insights.blackcoffer.com/how-will-covid-19-affect-the-world-of-work-4/\" rel=\"bookmark\" title=\"How will COVID-19 affect the world of work?\">How will COVID-19 affect the world of work?</a></h3>\\r\\n        </div>\\r\\n\\r\\n        \\n\\t</div> <!-- ./td-block-span12 --></div></div><div class=\"td-next-prev-wrap\"><a href=\"#\" class=\"td-ajax-prev-page ajax-page-disabled\" aria-label=\"prev-page\" id=\"prev-page-tdi_116\" data-td_block_id=\"tdi_116\"><i class=\"td-next-prev-icon td-icon-font td-icon-menu-left\"></i></a><a href=\"#\"  class=\"td-ajax-next-page\" aria-label=\"next-page\" id=\"next-page-tdi_116\" data-td_block_id=\"tdi_116\"><i class=\"td-next-prev-icon td-icon-font td-icon-menu-right\"></i></a></div></div> <!-- ./block --><div class=\"clearfix\"></div>                            </div>\\r\\n                        </div>\\r\\n                            </div> <!-- /.td-pb-row -->\\r\\n    </div> <!-- /.td-container -->\\r\\n</article> <!-- /.post -->\\r\\n\\r\\n<!-- Instagram -->\\r\\n    <div class=\"td-footer-template-wrap\" style=\"position: relative\">\\r\\n                <div class=\"td-footer-wrap \">\\r\\n            <div id=\"tdi_117\" class=\"tdc-zone\"><div class=\"tdc_zone tdi_118  wpb_row td-pb-row\"  >\\n<style scoped>\\n\\n/* custom css */\\n.tdi_118{\\r\\n                    min-height: 0;\\r\\n                }\\n</style><div id=\"tdi_119\" class=\"tdc-row stretch_row\"><div class=\"vc_row tdi_120  wpb_row td-pb-row tdc-element-style\" >\\n<style scoped>\\n\\n/* custom css */\\n.tdi_120,\\r\\n                .tdi_120 .tdc-columns{\\r\\n                    min-height: 0;\\r\\n                }.tdi_120,\\r\\n\\t\\t\\t\\t.tdi_120 .tdc-columns{\\r\\n\\t\\t\\t\\t    display: block;\\r\\n\\t\\t\\t\\t}.tdi_120 .tdc-columns{\\r\\n\\t\\t\\t\\t    width: 100%;\\r\\n\\t\\t\\t\\t}\\n/* inline tdc_css att */\\n\\n.tdi_120{\\npadding-top:54px !important;\\npadding-bottom:20px !important;\\nposition:relative;\\n}\\n\\n.tdi_120 .td_block_wrap{ text-align:left }\\n\\n/* phone */\\n@media (max-width: 767px)\\n{\\n.tdi_120{\\npadding-top:40px !important;\\n}\\n}\\n\\n/* portrait */\\n@media (min-width: 768px) and (max-width: 1018px)\\n{\\n.tdi_120{\\npadding-top:44px !important;\\n}\\n}\\n\\n</style>\\n<div class=\"tdi_119_rand_style td-element-style\" ><div class=\"td-element-style-before\"><style>\\n.tdi_119_rand_style > .td-element-style-before {\\ncontent:\\'\\' !important;\\nwidth:100% !important;\\nheight:100% !important;\\nposition:absolute !important;\\ntop:0 !important;\\nleft:0 !important;\\ndisplay:block !important;\\nz-index:0 !important;\\nbackground-image:url(\"https://insights.blackcoffer.com/wp-content/uploads/2023/03/footer_bg.jpg\") !important;\\nopacity:0.1 !important;\\nbackground-size:cover !important;\\nbackground-position:center top !important;\\n}\\n</style></div><style>\\n.tdi_119_rand_style{\\nbackground-color:#111111 !important;\\n}\\n </style></div><div class=\"vc_column tdi_122  wpb_column vc_column_container tdc-column td-pb-span12\">\\n<style scoped>\\n\\n/* custom css */\\n.tdi_122{\\r\\n                    vertical-align: baseline;\\r\\n                }.tdi_122 > .wpb_wrapper,\\r\\n\\t\\t\\t\\t.tdi_122 > .wpb_wrapper > .tdc-elements{\\r\\n\\t\\t\\t\\t    display: block;\\r\\n\\t\\t\\t\\t}.tdi_122 > .wpb_wrapper > .tdc-elements{\\r\\n\\t\\t\\t\\t    width: 100%;\\r\\n\\t\\t\\t\\t}.tdi_122 > .wpb_wrapper > .vc_row_inner{\\r\\n\\t\\t\\t\\t    width: auto;\\r\\n\\t\\t\\t\\t}.tdi_122 > .wpb_wrapper{\\r\\n\\t\\t\\t\\t    width: auto;\\r\\n\\t\\t\\t\\t    height: auto;\\r\\n\\t\\t\\t\\t}\\n</style><div class=\"wpb_wrapper\" ><div class=\"vc_row_inner tdi_124  vc_row vc_inner wpb_row td-pb-row\" >\\n<style scoped>\\n\\n/* custom css */\\n.tdi_124{\\r\\n                    position: relative !important;\\r\\n                    top: 0;\\r\\n                    transform: none;\\r\\n                    -webkit-transform: none;\\r\\n                }.tdi_124,\\r\\n\\t\\t\\t\\t.tdi_124 .tdc-inner-columns{\\r\\n\\t\\t\\t\\t    display: block;\\r\\n\\t\\t\\t\\t}.tdi_124 .tdc-inner-columns{\\r\\n\\t\\t\\t\\t    width: 100%;\\r\\n\\t\\t\\t\\t}\\n</style><div class=\"vc_column_inner tdi_126  wpb_column vc_column_container tdc-inner-column td-pb-span4\">\\n<style scoped>\\n\\n/* custom css */\\n.tdi_126{\\r\\n                    vertical-align: baseline;\\r\\n                }.tdi_126 .vc_column-inner > .wpb_wrapper,\\r\\n\\t\\t\\t\\t.tdi_126 .vc_column-inner > .wpb_wrapper .tdc-elements{\\r\\n\\t\\t\\t\\t    display: block;\\r\\n\\t\\t\\t\\t}.tdi_126 .vc_column-inner > .wpb_wrapper .tdc-elements{\\r\\n\\t\\t\\t\\t    width: 100%;\\r\\n\\t\\t\\t\\t}\\n</style><div class=\"vc_column-inner\"><div class=\"wpb_wrapper\" ><div class=\"td_block_wrap td_flex_block_1 tdi_127 td-pb-border-top td_block_template_2 td_flex_block\"  data-td-block-uid=\"tdi_127\" >\\n<style>\\n.td_block_template_2.widget > ul > li {\\r\\n                margin-left: 0 !important;\\r\\n            }\\r\\n            \\r\\n            .td_block_template_2 .td-block-title {\\r\\n                font-size: 17px;\\r\\n                font-weight: 500;\\r\\n                margin-top: 0;\\r\\n                margin-bottom: 16px;\\r\\n                line-height: 31px;\\r\\n                text-align: left;\\r\\n            }\\r\\n            .td_block_template_2 .td-block-title > * {\\r\\n                color: #000;\\r\\n            }\\r\\n            .td_block_template_2 .td-related-title a {\\r\\n                padding: 0 20px 0 0;\\r\\n            }\\r\\n            @media (max-width: 767px) {\\r\\n                .td_block_template_2 .td-related-title a {\\r\\n                    font-size: 15px;\\r\\n                }\\r\\n            }\\r\\n            .td_block_template_2 .td-related-title .td-cur-simple-item {\\r\\n                color: #4db2ec;\\r\\n            }\\r\\n            \\r\\n            \\r\\n            \\r\\n            \\r\\n            .td-theme-wrap .tdi_127 .td-block-title > *,\\r\\n            .td-theme-wrap .tdi_127 .td-pulldown-filter-link:hover,\\r\\n            .td-theme-wrap .tdi_127 .td-subcat-item a:hover,\\r\\n            .td-theme-wrap .tdi_127 .td-subcat-item .td-cur-simple-item,\\r\\n            .td-theme-wrap .tdi_127 .td-subcat-dropdown:hover .td-subcat-more span,\\r\\n            .td-theme-wrap .tdi_127 .td-subcat-dropdown:hover .td-subcat-more i {\\r\\n                color: #ffffff;\\r\\n            }\\r\\n\\r\\n            .td-theme-wrap .tdi_127 .td-subcat-dropdown ul:after {\\r\\n                background-color: #ffffff;\\r\\n            }\\r\\n            \\r\\n            \\r\\n            .td-theme-wrap .tdi_127 .td_module_wrap:hover .entry-title a,\\r\\n            .td-theme-wrap .tdi_127 .td_quote_on_blocks,\\r\\n            .td-theme-wrap .tdi_127 .td-opacity-cat .td-post-category:hover,\\r\\n            .td-theme-wrap .tdi_127 .td-opacity-read .td-read-more a:hover,\\r\\n            .td-theme-wrap .tdi_127 .td-opacity-author .td-post-author-name a:hover,\\r\\n            .td-theme-wrap .tdi_127 .td-instagram-user a {\\r\\n                color: #ffffff;\\r\\n            }\\r\\n\\r\\n            .td-theme-wrap .tdi_127 .td-next-prev-wrap a:hover,\\r\\n            .td-theme-wrap .tdi_127 .td-load-more-wrap a:hover {\\r\\n                background-color: #ffffff;\\r\\n                border-color: #ffffff;\\r\\n            }\\r\\n\\r\\n            .td-theme-wrap .tdi_127 .td-read-more a,\\r\\n            .td-theme-wrap .tdi_127 .td-weather-information:before,\\r\\n            .td-theme-wrap .tdi_127 .td-weather-week:before,\\r\\n            .td-theme-wrap .tdi_127 .td-exchange-header:before,\\r\\n            .td-theme-wrap .td-footer-wrapper .tdi_127 .td-post-category,\\r\\n            .td-theme-wrap .tdi_127 .td-post-category:hover {\\r\\n                background-color: #ffffff;\\r\\n            }\\n/* inline tdc_css att */\\n\\n/* phone */\\n@media (max-width: 767px)\\n{\\n.tdi_127{\\nmargin-bottom:40px !important;\\n}\\n}\\n\\n/* portrait */\\n@media (min-width: 768px) and (max-width: 1018px)\\n{\\n.tdi_127{\\nmargin-bottom:20px !important;\\n}\\n}\\n\\n</style>\\n<style>\\n/* custom css */\\n.tdi_127 .td-image-wrap{\\r\\n\\t\\t\\t\\t\\tpadding-bottom: 70%;\\r\\n\\t\\t\\t\\t}.tdi_127 .entry-thumb{\\r\\n\\t\\t\\t\\t\\tbackground-position: center 50%;\\r\\n\\t\\t\\t\\t}.tdi_127 .td-image-container{\\r\\n\\t\\t\\t\\t \\tflex: 0 0 30%;\\r\\n\\t\\t\\t\\t \\twidth: 30%;\\r\\n\\t\\t\\t    \\r\\n                \\tdisplay: block; order: 0;\\r\\n                }.ie10 .tdi_127 .td-image-container,\\r\\n\\t\\t\\t\\t.ie11 .tdi_127 .td-image-container{\\r\\n\\t\\t\\t\\t \\tflex: 0 0 auto;\\r\\n\\t\\t\\t    }.tdi_127 .td-module-container{\\r\\n\\t\\t\\t\\t\\tflex-direction: row;\\r\\n\\t\\t\\t\\t\\r\\n\\t\\t\\t\\t    border-color: #eaeaea !important;\\r\\n\\t\\t\\t\\t}.ie10 .tdi_127 .td-module-meta-info,\\r\\n\\t\\t\\t\\t.ie11 .tdi_127 .td-module-meta-info{\\r\\n\\t\\t\\t\\t \\tflex: 1;\\r\\n\\t\\t\\t    }.tdi_127 .td-module-meta-info{\\r\\n\\t\\t\\t\\t\\tpadding: 0 0 0 16px;\\r\\n\\t\\t\\t\\t\\r\\n\\t\\t\\t\\t\\tborder-color: #eaeaea;\\r\\n\\t\\t\\t\\t}.tdi_127 .td_module_wrap{\\r\\n\\t\\t\\t\\t\\tpadding-left: 20px;\\r\\n\\t\\t\\t\\t\\tpadding-right: 20px;\\r\\n\\t\\t\\t\\t\\r\\n\\t\\t\\t\\t\\tpadding-bottom: 13px;\\r\\n\\t\\t\\t\\t\\tmargin-bottom: 13px;\\r\\n\\t\\t\\t\\t}.tdi_127 .td_block_inner{\\r\\n\\t\\t\\t\\t\\tmargin-left: -20px;\\r\\n\\t\\t\\t\\t\\tmargin-right: -20px;\\r\\n\\t\\t\\t\\t}.tdi_127 .td-module-container:before{\\r\\n\\t\\t\\t\\t\\tbottom: -13px;\\r\\n\\t\\t\\t\\t\\r\\n\\t\\t\\t\\t\\tborder-color: #eaeaea;\\r\\n\\t\\t\\t\\t}.tdi_127 .td-video-play-ico{\\r\\n\\t\\t\\t\\t\\twidth: 24px;\\r\\n\\t\\t\\t\\t\\theight: 24px;\\r\\n\\t\\t\\t\\t\\tfont-size: 24px;\\r\\n\\t\\t\\t\\t}.tdi_127 .td-post-vid-time{\\r\\n\\t\\t\\t\\t\\tdisplay: block;\\r\\n\\t\\t\\t\\t}.tdi_127 .td-post-category:not(.td-post-extra-category){\\r\\n\\t\\t\\t\\t\\tdisplay: none;\\r\\n\\t\\t\\t\\t}.tdi_127 .td-author-photo .avatar{\\r\\n\\t\\t\\t\\t    width: 20px;\\r\\n\\t\\t\\t\\t    height: 20px;\\r\\n\\t\\t\\t\\t\\r\\n\\t\\t\\t\\t    margin-right: 6px;\\r\\n\\t\\t\\t\\t\\r\\n\\t\\t\\t\\t    border-radius: 50%;\\r\\n\\t\\t\\t\\t}.tdi_127 .td-excerpt{\\r\\n\\t\\t\\t\\t\\tdisplay: none;\\r\\n\\t\\t\\t\\t\\r\\n\\t\\t\\t\\t\\tcolumn-count: 1;\\r\\n\\t\\t\\t\\t\\r\\n\\t\\t\\t\\t\\tcolumn-gap: 48px;\\r\\n\\t\\t\\t\\t}.tdi_127 .td-audio-player{\\r\\n\\t\\t\\t\\t\\topacity: 1;\\r\\n\\t\\t\\t\\t\\tvisibility: visible;\\r\\n\\t\\t\\t\\t\\theight: auto;\\r\\n\\t\\t\\t\\t\\r\\n\\t\\t\\t\\t\\tfont-size: 13px;\\r\\n\\t\\t\\t\\t}.tdi_127 .td-read-more{\\r\\n\\t\\t\\t\\t\\tdisplay: none;\\r\\n\\t\\t\\t\\t}.tdi_127 .td-author-date{\\r\\n\\t\\t\\t\\t\\tdisplay: inline;\\r\\n\\t\\t\\t\\t}.tdi_127 .td-post-author-name{\\r\\n\\t\\t\\t\\t\\tdisplay: none;\\r\\n\\t\\t\\t\\t}.tdi_127 .entry-review-stars{\\r\\n\\t\\t\\t\\t\\tdisplay: inline-block;\\r\\n\\t\\t\\t\\t\\r\\n\\t\\t\\t\\t\\tcolor: #ffffff;\\r\\n\\t\\t\\t\\t}.tdi_127 .td-icon-star,\\r\\n                .tdi_127 .td-icon-star-empty,\\r\\n                .tdi_127 .td-icon-star-half{\\r\\n\\t\\t\\t\\t\\tfont-size: 15px;\\r\\n\\t\\t\\t\\t}.tdi_127 .td-module-comments{\\r\\n\\t\\t\\t\\t\\tdisplay: none;\\r\\n\\t\\t\\t\\t}.tdi_127 .td_module_wrap:nth-last-child(1){\\r\\n\\t\\t\\t\\t\\tmargin-bottom: 0;\\r\\n\\t\\t\\t\\t\\tpadding-bottom: 0;\\r\\n\\t\\t\\t\\t}.tdi_127 .td_module_wrap:nth-last-child(1) .td-module-container:before{\\r\\n\\t\\t\\t\\t\\tdisplay: none;\\r\\n\\t\\t\\t\\t}.tdi_127 .td-module-title a{\\r\\n\\t\\t\\t\\t\\tcolor: #ffffff;\\r\\n\\t\\t\\t\\t}.tdi_127 .td_module_wrap:hover .td-module-title a{\\r\\n\\t\\t\\t\\t\\tcolor: #4db2ec !important;\\r\\n\\t\\t\\t\\t}.tdi_127 .td-module-exclusive .td-module-title a:before{\\r\\n                    display: inline-block;\\r\\n                }.tdi_127 .td-block-title a,\\r\\n\\t\\t\\t\\t.tdi_127 .td-block-title span{\\r\\n\\t\\t\\t\\t\\tfont-size:18px !important;\\r\\n\\t\\t\\t\\t}.tdi_127 .entry-title{\\r\\n\\t\\t\\t\\t\\tfont-size:14px !important;line-height:1.4 !important;font-weight:500 !important;\\r\\n\\t\\t\\t\\t}html:not([class*=\\'ie\\']) .tdi_127 .td-module-container:hover .entry-thumb:before{\\r\\n                    opacity: 0;\\r\\n                }\\n\\n/* landscape */\\n@media (min-width: 1019px) and (max-width: 1140px){\\n.tdi_127 .td_module_wrap{\\r\\n\\t\\t\\t\\t\\tpadding-bottom: 13px;\\r\\n\\t\\t\\t\\t\\tmargin-bottom: 13px;\\r\\n\\t\\t\\t\\t\\r\\n\\t\\t\\t\\t\\tpadding-bottom: 13px !important;\\r\\n\\t\\t\\t\\t\\tmargin-bottom: 13px !important;\\r\\n\\t\\t\\t\\t}.tdi_127 .td-module-container:before{\\r\\n\\t\\t\\t\\t\\tbottom: -13px;\\r\\n\\t\\t\\t\\t}.tdi_127 .td_module_wrap:nth-last-child(1){\\r\\n\\t\\t\\t\\t\\tmargin-bottom: 0 !important;\\r\\n\\t\\t\\t\\t\\tpadding-bottom: 0 !important;\\r\\n\\t\\t\\t\\t}.tdi_127 .td_module_wrap .td-module-container:before{\\r\\n\\t\\t\\t\\t\\tdisplay: block !important;\\r\\n\\t\\t\\t\\t}.tdi_127 .td_module_wrap:nth-last-child(1) .td-module-container:before{\\r\\n\\t\\t\\t\\t\\tdisplay: none !important;\\r\\n\\t\\t\\t\\t}\\n}\\n\\n/* portrait */\\n@media (min-width: 768px) and (max-width: 1018px){\\n.tdi_127 .td-module-meta-info{\\r\\n\\t\\t\\t\\t\\tpadding: 0 0 0 13px;\\r\\n\\t\\t\\t\\t}.tdi_127 .td_module_wrap{\\r\\n\\t\\t\\t\\t\\twidth: 100%;\\r\\n\\t\\t\\t\\t\\tfloat: left;\\r\\n\\t\\t\\t\\t\\r\\n\\t\\t\\t\\t\\tpadding-left: 10px;\\r\\n\\t\\t\\t\\t\\tpadding-right: 10px;\\r\\n\\t\\t\\t\\t\\r\\n\\t\\t\\t\\t\\tpadding-bottom: 10px;\\r\\n\\t\\t\\t\\t\\tmargin-bottom: 10px;\\r\\n\\t\\t\\t\\t\\r\\n\\t\\t\\t\\t\\tpadding-bottom: 10px !important;\\r\\n\\t\\t\\t\\t\\tmargin-bottom: 10px !important;\\r\\n\\t\\t\\t\\t}.rtl .tdi_127 .td_module_wrap{\\r\\n\\t\\t\\t\\t\\tfloat: right;\\r\\n\\t\\t\\t\\t}.tdi_127 .td_block_inner{\\r\\n\\t\\t\\t\\t\\tmargin-left: -10px;\\r\\n\\t\\t\\t\\t\\tmargin-right: -10px;\\r\\n\\t\\t\\t\\t}.tdi_127 .td-module-container:before{\\r\\n\\t\\t\\t\\t\\tbottom: -10px;\\r\\n\\t\\t\\t\\t}.tdi_127 .td_module_wrap:nth-last-child(1){\\r\\n\\t\\t\\t\\t\\tmargin-bottom: 0 !important;\\r\\n\\t\\t\\t\\t\\tpadding-bottom: 0 !important;\\r\\n\\t\\t\\t\\t}.tdi_127 .td_module_wrap .td-module-container:before{\\r\\n\\t\\t\\t\\t\\tdisplay: block !important;\\r\\n\\t\\t\\t\\t}.tdi_127 .td_module_wrap:nth-last-child(1) .td-module-container:before{\\r\\n\\t\\t\\t\\t\\tdisplay: none !important;\\r\\n\\t\\t\\t\\t}.tdi_127 .entry-title{\\r\\n\\t\\t\\t\\t\\tfont-size:12px !important;line-height:1.4 !important;font-weight:500 !important;\\r\\n\\t\\t\\t\\t}\\n}\\n\\n/* phone */\\n@media (max-width: 767px){\\n.tdi_127 .td_module_wrap{\\r\\n\\t\\t\\t\\t\\twidth: 100%;\\r\\n\\t\\t\\t\\t\\tfloat: left;\\r\\n\\t\\t\\t\\t\\r\\n\\t\\t\\t\\t\\tpadding-bottom: 13px;\\r\\n\\t\\t\\t\\t\\tmargin-bottom: 13px;\\r\\n\\t\\t\\t\\t\\r\\n\\t\\t\\t\\t\\tpadding-bottom: 13px !important;\\r\\n\\t\\t\\t\\t\\tmargin-bottom: 13px !important;\\r\\n\\t\\t\\t\\t}.rtl .tdi_127 .td_module_wrap{\\r\\n\\t\\t\\t\\t\\tfloat: right;\\r\\n\\t\\t\\t\\t}.tdi_127 .td-module-container:before{\\r\\n\\t\\t\\t\\t\\tbottom: -13px;\\r\\n\\t\\t\\t\\t}.tdi_127 .td_module_wrap:nth-last-child(1){\\r\\n\\t\\t\\t\\t\\tmargin-bottom: 0 !important;\\r\\n\\t\\t\\t\\t\\tpadding-bottom: 0 !important;\\r\\n\\t\\t\\t\\t}.tdi_127 .td_module_wrap .td-module-container:before{\\r\\n\\t\\t\\t\\t\\tdisplay: block !important;\\r\\n\\t\\t\\t\\t}.tdi_127 .td_module_wrap:nth-last-child(1) .td-module-container:before{\\r\\n\\t\\t\\t\\t\\tdisplay: none !important;\\r\\n\\t\\t\\t\\t}\\n}\\n</style><script>var block_tdi_127 = new tdBlock();\\nblock_tdi_127.id = \"tdi_127\";\\nblock_tdi_127.atts = \\'{\"modules_on_row\":\"eyJwb3J0cmFpdCI6IjEwMCUiLCJwaG9uZSI6IjEwMCUifQ==\",\"image_size\":\"td_218x150\",\"image_floated\":\"float_left\",\"image_width\":\"30\",\"image_height\":\"70\",\"show_btn\":\"none\",\"show_excerpt\":\"none\",\"show_com\":\"none\",\"show_author\":\"none\",\"show_cat\":\"none\",\"meta_padding\":\"eyJhbGwiOiIwIDAgMCAxNnB4IiwicG9ydHJhaXQiOiIwIDAgMCAxM3B4In0=\",\"f_title_font_size\":\"eyJhbGwiOiIxNCIsInBvcnRyYWl0IjoiMTIifQ==\",\"f_title_font_line_height\":\"1.4\",\"f_title_font_weight\":\"500\",\"all_modules_space\":\"eyJhbGwiOiIyNiIsInBvcnRyYWl0IjoiMjAiLCJwaG9uZSI6IjI2In0=\",\"category_id\":\"\",\"modules_gap\":\"eyJwb3J0cmFpdCI6IjIwIn0=\",\"show_date\":\"\",\"limit\":\"3\",\"custom_title\":\"LATEST ARTICLE\",\"block_template_id\":\"td_block_template_2\",\"f_header_font_size\":\"18\",\"f_header_font_weight\":\"\",\"header_text_color\":\"#ffffff\",\"title_txt\":\"#ffffff\",\"sort\":\"\",\"title_txt_hover\":\"#4db2ec\",\"tdc_css\":\"eyJwaG9uZSI6eyJtYXJnaW4tYm90dG9tIjoiNDAiLCJkaXNwbGF5IjoiIn0sInBob25lX21heF93aWR0aCI6NzY3LCJwb3J0cmFpdCI6eyJtYXJnaW4tYm90dG9tIjoiMjAiLCJkaXNwbGF5IjoiIn0sInBvcnRyYWl0X21heF93aWR0aCI6MTAxOCwicG9ydHJhaXRfbWluX3dpZHRoIjo3Njh9\",\"rev_txt\":\"#ffffff\",\"post_ids\":\"-5021\",\"video_icon\":\"24\",\"block_type\":\"td_flex_block_1\",\"separator\":\"\",\"custom_url\":\"\",\"title_tag\":\"\",\"mc1_tl\":\"\",\"mc1_title_tag\":\"\",\"mc1_el\":\"\",\"taxonomies\":\"\",\"category_ids\":\"\",\"in_all_terms\":\"\",\"tag_slug\":\"\",\"autors_id\":\"\",\"installed_post_types\":\"\",\"locked_only\":\"\",\"offset\":\"\",\"show_modified_date\":\"\",\"time_ago\":\"\",\"time_ago_add_txt\":\"ago\",\"time_ago_txt_pos\":\"\",\"el_class\":\"\",\"td_query_cache\":\"\",\"td_query_cache_expiration\":\"\",\"td_ajax_filter_type\":\"\",\"td_ajax_filter_ids\":\"\",\"td_filter_default_txt\":\"All\",\"td_ajax_preloading\":\"\",\"container_width\":\"\",\"m_padding\":\"\",\"modules_border_size\":\"\",\"modules_border_style\":\"\",\"modules_border_color\":\"#eaeaea\",\"modules_border_radius\":\"\",\"modules_divider\":\"\",\"modules_divider_color\":\"#eaeaea\",\"h_effect\":\"\",\"image_alignment\":\"50\",\"image_radius\":\"\",\"hide_image\":\"\",\"video_popup\":\"yes\",\"video_rec\":\"\",\"spot_header\":\"\",\"video_rec_title\":\"\",\"video_rec_color\":\"\",\"video_rec_disable\":\"\",\"autoplay_vid\":\"yes\",\"show_vid_t\":\"block\",\"vid_t_margin\":\"\",\"vid_t_padding\":\"\",\"video_title_color\":\"\",\"video_title_color_h\":\"\",\"video_bg\":\"\",\"video_overlay\":\"\",\"vid_t_color\":\"\",\"vid_t_bg_color\":\"\",\"f_vid_title_font_header\":\"\",\"f_vid_title_font_title\":\"Video pop-up article title\",\"f_vid_title_font_settings\":\"\",\"f_vid_title_font_family\":\"\",\"f_vid_title_font_size\":\"\",\"f_vid_title_font_line_height\":\"\",\"f_vid_title_font_style\":\"\",\"f_vid_title_font_weight\":\"\",\"f_vid_title_font_transform\":\"\",\"f_vid_title_font_spacing\":\"\",\"f_vid_title_\":\"\",\"f_vid_time_font_title\":\"Video duration text\",\"f_vid_time_font_settings\":\"\",\"f_vid_time_font_family\":\"\",\"f_vid_time_font_size\":\"\",\"f_vid_time_font_line_height\":\"\",\"f_vid_time_font_style\":\"\",\"f_vid_time_font_weight\":\"\",\"f_vid_time_font_transform\":\"\",\"f_vid_time_font_spacing\":\"\",\"f_vid_time_\":\"\",\"excl_show\":\"inline-block\",\"excl_txt\":\"\",\"excl_margin\":\"\",\"excl_padd\":\"\",\"all_excl_border\":\"\",\"all_excl_border_style\":\"solid\",\"excl_radius\":\"\",\"excl_color\":\"\",\"excl_color_h\":\"\",\"excl_bg\":\"\",\"excl_bg_h\":\"\",\"all_excl_border_color\":\"\",\"excl_border_color_h\":\"\",\"f_excl_font_header\":\"\",\"f_excl_font_title\":\"Label text\",\"f_excl_font_settings\":\"\",\"f_excl_font_family\":\"\",\"f_excl_font_size\":\"\",\"f_excl_font_line_height\":\"\",\"f_excl_font_style\":\"\",\"f_excl_font_weight\":\"\",\"f_excl_font_transform\":\"\",\"f_excl_font_spacing\":\"\",\"f_excl_\":\"\",\"meta_info_align\":\"\",\"meta_info_horiz\":\"layout-default\",\"meta_width\":\"\",\"meta_margin\":\"\",\"meta_space\":\"\",\"art_title\":\"\",\"art_btn\":\"\",\"meta_info_border_size\":\"\",\"meta_info_border_style\":\"\",\"meta_info_border_color\":\"#eaeaea\",\"meta_info_border_radius\":\"\",\"modules_category\":\"\",\"modules_category_margin\":\"\",\"modules_category_padding\":\"\",\"modules_cat_border\":\"\",\"modules_category_radius\":\"0\",\"modules_extra_cat\":\"\",\"author_photo\":\"\",\"author_photo_size\":\"\",\"author_photo_space\":\"\",\"author_photo_radius\":\"\",\"show_review\":\"inline-block\",\"review_space\":\"\",\"review_size\":\"2.5\",\"review_distance\":\"\",\"art_excerpt\":\"\",\"excerpt_col\":\"1\",\"excerpt_gap\":\"\",\"excerpt_middle\":\"\",\"excerpt_inline\":\"\",\"show_audio\":\"block\",\"hide_audio\":\"\",\"art_audio\":\"\",\"art_audio_size\":\"1.5\",\"btn_title\":\"\",\"btn_margin\":\"\",\"btn_padding\":\"\",\"btn_border_width\":\"\",\"btn_radius\":\"\",\"pag_space\":\"\",\"pag_padding\":\"\",\"pag_border_width\":\"\",\"pag_border_radius\":\"\",\"prev_tdicon\":\"\",\"next_tdicon\":\"\",\"pag_icons_size\":\"\",\"f_header_font_header\":\"\",\"f_header_font_title\":\"Block header\",\"f_header_font_settings\":\"\",\"f_header_font_family\":\"\",\"f_header_font_line_height\":\"\",\"f_header_font_style\":\"\",\"f_header_font_transform\":\"\",\"f_header_font_spacing\":\"\",\"f_header_\":\"\",\"f_ajax_font_title\":\"Ajax categories\",\"f_ajax_font_settings\":\"\",\"f_ajax_font_family\":\"\",\"f_ajax_font_size\":\"\",\"f_ajax_font_line_height\":\"\",\"f_ajax_font_style\":\"\",\"f_ajax_font_weight\":\"\",\"f_ajax_font_transform\":\"\",\"f_ajax_font_spacing\":\"\",\"f_ajax_\":\"\",\"f_more_font_title\":\"Load more button\",\"f_more_font_settings\":\"\",\"f_more_font_family\":\"\",\"f_more_font_size\":\"\",\"f_more_font_line_height\":\"\",\"f_more_font_style\":\"\",\"f_more_font_weight\":\"\",\"f_more_font_transform\":\"\",\"f_more_font_spacing\":\"\",\"f_more_\":\"\",\"f_title_font_header\":\"\",\"f_title_font_title\":\"Article title\",\"f_title_font_settings\":\"\",\"f_title_font_family\":\"\",\"f_title_font_style\":\"\",\"f_title_font_transform\":\"\",\"f_title_font_spacing\":\"\",\"f_title_\":\"\",\"f_cat_font_title\":\"Article category tag\",\"f_cat_font_settings\":\"\",\"f_cat_font_family\":\"\",\"f_cat_font_size\":\"\",\"f_cat_font_line_height\":\"\",\"f_cat_font_style\":\"\",\"f_cat_font_weight\":\"\",\"f_cat_font_transform\":\"\",\"f_cat_font_spacing\":\"\",\"f_cat_\":\"\",\"f_meta_font_title\":\"Article meta info\",\"f_meta_font_settings\":\"\",\"f_meta_font_family\":\"\",\"f_meta_font_size\":\"\",\"f_meta_font_line_height\":\"\",\"f_meta_font_style\":\"\",\"f_meta_font_weight\":\"\",\"f_meta_font_transform\":\"\",\"f_meta_font_spacing\":\"\",\"f_meta_\":\"\",\"f_ex_font_title\":\"Article excerpt\",\"f_ex_font_settings\":\"\",\"f_ex_font_family\":\"\",\"f_ex_font_size\":\"\",\"f_ex_font_line_height\":\"\",\"f_ex_font_style\":\"\",\"f_ex_font_weight\":\"\",\"f_ex_font_transform\":\"\",\"f_ex_font_spacing\":\"\",\"f_ex_\":\"\",\"f_btn_font_title\":\"Article read more button\",\"f_btn_font_settings\":\"\",\"f_btn_font_family\":\"\",\"f_btn_font_size\":\"\",\"f_btn_font_line_height\":\"\",\"f_btn_font_style\":\"\",\"f_btn_font_weight\":\"\",\"f_btn_font_transform\":\"\",\"f_btn_font_spacing\":\"\",\"f_btn_\":\"\",\"mix_color\":\"\",\"mix_type\":\"\",\"fe_brightness\":\"1\",\"fe_contrast\":\"1\",\"fe_saturate\":\"1\",\"mix_color_h\":\"\",\"mix_type_h\":\"\",\"fe_brightness_h\":\"1\",\"fe_contrast_h\":\"1\",\"fe_saturate_h\":\"1\",\"m_bg\":\"\",\"color_overlay\":\"\",\"shadow_shadow_header\":\"\",\"shadow_shadow_title\":\"Module Shadow\",\"shadow_shadow_size\":\"\",\"shadow_shadow_offset_horizontal\":\"\",\"shadow_shadow_offset_vertical\":\"\",\"shadow_shadow_spread\":\"\",\"shadow_shadow_color\":\"\",\"all_underline_height\":\"\",\"all_underline_color\":\"\",\"cat_bg\":\"\",\"cat_bg_hover\":\"\",\"cat_txt\":\"\",\"cat_txt_hover\":\"\",\"cat_border\":\"\",\"cat_border_hover\":\"\",\"meta_bg\":\"\",\"author_txt\":\"\",\"author_txt_hover\":\"\",\"date_txt\":\"\",\"ex_txt\":\"\",\"com_bg\":\"\",\"com_txt\":\"\",\"audio_btn_color\":\"\",\"audio_time_color\":\"\",\"audio_bar_color\":\"\",\"audio_bar_curr_color\":\"\",\"shadow_m_shadow_header\":\"\",\"shadow_m_shadow_title\":\"Meta info shadow\",\"shadow_m_shadow_size\":\"\",\"shadow_m_shadow_offset_horizontal\":\"\",\"shadow_m_shadow_offset_vertical\":\"\",\"shadow_m_shadow_spread\":\"\",\"shadow_m_shadow_color\":\"\",\"btn_bg\":\"\",\"btn_bg_hover\":\"\",\"btn_txt\":\"\",\"btn_txt_hover\":\"\",\"btn_border\":\"\",\"btn_border_hover\":\"\",\"pag_text\":\"\",\"pag_h_text\":\"\",\"pag_bg\":\"\",\"pag_h_bg\":\"\",\"pag_border\":\"\",\"pag_h_border\":\"\",\"ajax_pagination\":\"\",\"ajax_pagination_next_prev_swipe\":\"\",\"ajax_pagination_infinite_stop\":\"\",\"css\":\"\",\"td_column_number\":1,\"header_color\":\"\",\"color_preset\":\"\",\"border_top\":\"\",\"class\":\"tdi_127\",\"tdc_css_class\":\"tdi_127\",\"tdc_css_class_style\":\"tdi_127_rand_style\"}\\';\\nblock_tdi_127.td_column_number = \"1\";\\nblock_tdi_127.block_type = \"td_flex_block_1\";\\nblock_tdi_127.post_count = \"3\";\\nblock_tdi_127.found_posts = \"453\";\\nblock_tdi_127.header_color = \"\";\\nblock_tdi_127.ajax_pagination_infinite_stop = \"\";\\nblock_tdi_127.max_num_pages = \"151\";\\ntdBlocksArray.push(block_tdi_127);\\n</script><div class=\"td-block-title-wrap\"><h4 class=\"td-block-title\"><span class=\"td-pulldown-size\">LATEST ARTICLE</span></h4></div><div id=tdi_127 class=\"td_block_inner td-mc1-wrap\">\\r\\n        <div class=\"td_module_flex td_module_flex_1 td_module_wrap td-animation-stack td-cpt-post\">\\r\\n            <div class=\"td-module-container td-category-pos-\">\\r\\n                                    <div class=\"td-image-container\">\\r\\n                                                <div class=\"td-module-thumb\"><a href=\"https://insights.blackcoffer.com/data-management-etl-and-data-automation/\" rel=\"bookmark\" class=\"td-image-wrap \" title=\"Data Management, ETL, and Data Automation\" ><span class=\"entry-thumb td-thumb-css\" data-type=\"css_image\" data-img-url=\"https://insights.blackcoffer.com/wp-content/uploads/2023/08/2-4-218x150.jpeg\"  ></span></a></div>                                            </div>\\r\\n                \\r\\n                <div class=\"td-module-meta-info\">\\r\\n                                        \\r\\n                    <h3 class=\"entry-title td-module-title\"><a href=\"https://insights.blackcoffer.com/data-management-etl-and-data-automation/\" rel=\"bookmark\" title=\"Data Management, ETL, and Data Automation\">Data Management, ETL, and Data Automation</a></h3>\\r\\n                    \\r\\n                                            <div class=\"td-editor-date\">\\r\\n                                                        \\r\\n                                                            <span class=\"td-author-date\">\\r\\n                                                                                                            <span class=\"td-post-date\"><time class=\"entry-date updated td-module-date\" datetime=\"2023-08-06T14:36:02+05:30\" >August 6, 2023</time></span>                                                                                                        </span>\\r\\n                                                    </div>\\r\\n                    \\r\\n                    \\r\\n                    \\r\\n                                    </div>\\r\\n            </div>\\r\\n        </div>\\r\\n\\r\\n        \\r\\n        <div class=\"td_module_flex td_module_flex_1 td_module_wrap td-animation-stack td-cpt-post\">\\r\\n            <div class=\"td-module-container td-category-pos-\">\\r\\n                                    <div class=\"td-image-container\">\\r\\n                                                <div class=\"td-module-thumb\"><a href=\"https://insights.blackcoffer.com/data-management-egeas/\" rel=\"bookmark\" class=\"td-image-wrap \" title=\"Data Management &#8211; EGEAS\" ><span class=\"entry-thumb td-thumb-css\" data-type=\"css_image\" data-img-url=\"https://insights.blackcoffer.com/wp-content/uploads/2023/08/2-1-218x150.webp\"  ></span></a></div>                                            </div>\\r\\n                \\r\\n                <div class=\"td-module-meta-info\">\\r\\n                                        \\r\\n                    <h3 class=\"entry-title td-module-title\"><a href=\"https://insights.blackcoffer.com/data-management-egeas/\" rel=\"bookmark\" title=\"Data Management &#8211; EGEAS\">Data Management &#8211; EGEAS</a></h3>\\r\\n                    \\r\\n                                            <div class=\"td-editor-date\">\\r\\n                                                        \\r\\n                                                            <span class=\"td-author-date\">\\r\\n                                                                                                            <span class=\"td-post-date\"><time class=\"entry-date updated td-module-date\" datetime=\"2023-08-06T14:31:16+05:30\" >August 6, 2023</time></span>                                                                                                        </span>\\r\\n                                                    </div>\\r\\n                    \\r\\n                    \\r\\n                    \\r\\n                                    </div>\\r\\n            </div>\\r\\n        </div>\\r\\n\\r\\n        \\r\\n        <div class=\"td_module_flex td_module_flex_1 td_module_wrap td-animation-stack td-cpt-post\">\\r\\n            <div class=\"td-module-container td-category-pos-\">\\r\\n                                    <div class=\"td-image-container\">\\r\\n                                                <div class=\"td-module-thumb\"><a href=\"https://insights.blackcoffer.com/design-and-develop-powershell-script/\" rel=\"bookmark\" class=\"td-image-wrap \" title=\"Design and develop PowerShell script\" ><span class=\"entry-thumb td-thumb-css\" data-type=\"css_image\" data-img-url=\"https://insights.blackcoffer.com/wp-content/uploads/2023/08/business-colleagues-in-conference-room-ZLGHU4J-min-scaled-1-218x150.jpg\"  ></span></a></div>                                            </div>\\r\\n                \\r\\n                <div class=\"td-module-meta-info\">\\r\\n                                        \\r\\n                    <h3 class=\"entry-title td-module-title\"><a href=\"https://insights.blackcoffer.com/design-and-develop-powershell-script/\" rel=\"bookmark\" title=\"Design and develop PowerShell script\">Design and develop PowerShell script</a></h3>\\r\\n                    \\r\\n                                            <div class=\"td-editor-date\">\\r\\n                                                        \\r\\n                                                            <span class=\"td-author-date\">\\r\\n                                                                                                            <span class=\"td-post-date\"><time class=\"entry-date updated td-module-date\" datetime=\"2023-08-06T14:27:39+05:30\" >August 6, 2023</time></span>                                                                                                        </span>\\r\\n                                                    </div>\\r\\n                    \\r\\n                    \\r\\n                    \\r\\n                                    </div>\\r\\n            </div>\\r\\n        </div>\\r\\n\\r\\n        </div></div></div></div></div><div class=\"vc_column_inner tdi_129  wpb_column vc_column_container tdc-inner-column td-pb-span4\">\\n<style scoped>\\n\\n/* custom css */\\n.tdi_129{\\r\\n                    vertical-align: baseline;\\r\\n                }.tdi_129 .vc_column-inner > .wpb_wrapper,\\r\\n\\t\\t\\t\\t.tdi_129 .vc_column-inner > .wpb_wrapper .tdc-elements{\\r\\n\\t\\t\\t\\t    display: block;\\r\\n\\t\\t\\t\\t}.tdi_129 .vc_column-inner > .wpb_wrapper .tdc-elements{\\r\\n\\t\\t\\t\\t    width: 100%;\\r\\n\\t\\t\\t\\t}\\n</style><div class=\"vc_column-inner\"><div class=\"wpb_wrapper\" ><div class=\"td_block_wrap td_flex_block_1 tdi_130 td-pb-border-top td_block_template_2 td_flex_block\"  data-td-block-uid=\"tdi_130\" >\\n<style>\\n.td-theme-wrap .tdi_130 .td-block-title > *,\\r\\n            .td-theme-wrap .tdi_130 .td-pulldown-filter-link:hover,\\r\\n            .td-theme-wrap .tdi_130 .td-subcat-item a:hover,\\r\\n            .td-theme-wrap .tdi_130 .td-subcat-item .td-cur-simple-item,\\r\\n            .td-theme-wrap .tdi_130 .td-subcat-dropdown:hover .td-subcat-more span,\\r\\n            .td-theme-wrap .tdi_130 .td-subcat-dropdown:hover .td-subcat-more i {\\r\\n                color: #ffffff;\\r\\n            }\\r\\n\\r\\n            .td-theme-wrap .tdi_130 .td-subcat-dropdown ul:after {\\r\\n                background-color: #ffffff;\\r\\n            }\\r\\n            \\r\\n            \\r\\n            .td-theme-wrap .tdi_130 .td_module_wrap:hover .entry-title a,\\r\\n            .td-theme-wrap .tdi_130 .td_quote_on_blocks,\\r\\n            .td-theme-wrap .tdi_130 .td-opacity-cat .td-post-category:hover,\\r\\n            .td-theme-wrap .tdi_130 .td-opacity-read .td-read-more a:hover,\\r\\n            .td-theme-wrap .tdi_130 .td-opacity-author .td-post-author-name a:hover,\\r\\n            .td-theme-wrap .tdi_130 .td-instagram-user a {\\r\\n                color: #ffffff;\\r\\n            }\\r\\n\\r\\n            .td-theme-wrap .tdi_130 .td-next-prev-wrap a:hover,\\r\\n            .td-theme-wrap .tdi_130 .td-load-more-wrap a:hover {\\r\\n                background-color: #ffffff;\\r\\n                border-color: #ffffff;\\r\\n            }\\r\\n\\r\\n            .td-theme-wrap .tdi_130 .td-read-more a,\\r\\n            .td-theme-wrap .tdi_130 .td-weather-information:before,\\r\\n            .td-theme-wrap .tdi_130 .td-weather-week:before,\\r\\n            .td-theme-wrap .tdi_130 .td-exchange-header:before,\\r\\n            .td-theme-wrap .td-footer-wrapper .tdi_130 .td-post-category,\\r\\n            .td-theme-wrap .tdi_130 .td-post-category:hover {\\r\\n                background-color: #ffffff;\\r\\n            }\\n/* inline tdc_css att */\\n\\n/* phone */\\n@media (max-width: 767px)\\n{\\n.tdi_130{\\nmargin-bottom:48px !important;\\n}\\n}\\n\\n/* portrait */\\n@media (min-width: 768px) and (max-width: 1018px)\\n{\\n.tdi_130{\\nmargin-bottom:20px !important;\\n}\\n}\\n\\n</style>\\n<style>\\n/* custom css */\\n.tdi_130 .td-image-wrap{\\r\\n\\t\\t\\t\\t\\tpadding-bottom: 70%;\\r\\n\\t\\t\\t\\t}.tdi_130 .entry-thumb{\\r\\n\\t\\t\\t\\t\\tbackground-position: center 50%;\\r\\n\\t\\t\\t\\t}.tdi_130 .td-image-container{\\r\\n\\t\\t\\t\\t \\tflex: 0 0 30%;\\r\\n\\t\\t\\t\\t \\twidth: 30%;\\r\\n\\t\\t\\t    \\r\\n                \\tdisplay: block; order: 0;\\r\\n                }.ie10 .tdi_130 .td-image-container,\\r\\n\\t\\t\\t\\t.ie11 .tdi_130 .td-image-container{\\r\\n\\t\\t\\t\\t \\tflex: 0 0 auto;\\r\\n\\t\\t\\t    }.tdi_130 .td-module-container{\\r\\n\\t\\t\\t\\t\\tflex-direction: row;\\r\\n\\t\\t\\t\\t\\r\\n\\t\\t\\t\\t    border-color: #eaeaea !important;\\r\\n\\t\\t\\t\\t}.ie10 .tdi_130 .td-module-meta-info,\\r\\n\\t\\t\\t\\t.ie11 .tdi_130 .td-module-meta-info{\\r\\n\\t\\t\\t\\t \\tflex: 1;\\r\\n\\t\\t\\t    }.tdi_130 .td-module-meta-info{\\r\\n\\t\\t\\t\\t\\tpadding: 0 0 0 16px;\\r\\n\\t\\t\\t\\t\\r\\n\\t\\t\\t\\t\\tborder-color: #eaeaea;\\r\\n\\t\\t\\t\\t}.tdi_130 .td_module_wrap{\\r\\n\\t\\t\\t\\t\\tpadding-left: 20px;\\r\\n\\t\\t\\t\\t\\tpadding-right: 20px;\\r\\n\\t\\t\\t\\t\\r\\n\\t\\t\\t\\t\\tpadding-bottom: 13px;\\r\\n\\t\\t\\t\\t\\tmargin-bottom: 13px;\\r\\n\\t\\t\\t\\t}.tdi_130 .td_block_inner{\\r\\n\\t\\t\\t\\t\\tmargin-left: -20px;\\r\\n\\t\\t\\t\\t\\tmargin-right: -20px;\\r\\n\\t\\t\\t\\t}.tdi_130 .td-module-container:before{\\r\\n\\t\\t\\t\\t\\tbottom: -13px;\\r\\n\\t\\t\\t\\t\\r\\n\\t\\t\\t\\t\\tborder-color: #eaeaea;\\r\\n\\t\\t\\t\\t}.tdi_130 .td-video-play-ico{\\r\\n\\t\\t\\t\\t\\twidth: 24px;\\r\\n\\t\\t\\t\\t\\theight: 24px;\\r\\n\\t\\t\\t\\t\\tfont-size: 24px;\\r\\n\\t\\t\\t\\t}.tdi_130 .td-post-vid-time{\\r\\n\\t\\t\\t\\t\\tdisplay: block;\\r\\n\\t\\t\\t\\t}.tdi_130 .td-post-category:not(.td-post-extra-category){\\r\\n\\t\\t\\t\\t\\tdisplay: none;\\r\\n\\t\\t\\t\\t}.tdi_130 .td-author-photo .avatar{\\r\\n\\t\\t\\t\\t    width: 20px;\\r\\n\\t\\t\\t\\t    height: 20px;\\r\\n\\t\\t\\t\\t\\r\\n\\t\\t\\t\\t    margin-right: 6px;\\r\\n\\t\\t\\t\\t\\r\\n\\t\\t\\t\\t    border-radius: 50%;\\r\\n\\t\\t\\t\\t}.tdi_130 .td-excerpt{\\r\\n\\t\\t\\t\\t\\tdisplay: none;\\r\\n\\t\\t\\t\\t\\r\\n\\t\\t\\t\\t\\tcolumn-count: 1;\\r\\n\\t\\t\\t\\t\\r\\n\\t\\t\\t\\t\\tcolumn-gap: 48px;\\r\\n\\t\\t\\t\\t}.tdi_130 .td-audio-player{\\r\\n\\t\\t\\t\\t\\topacity: 1;\\r\\n\\t\\t\\t\\t\\tvisibility: visible;\\r\\n\\t\\t\\t\\t\\theight: auto;\\r\\n\\t\\t\\t\\t\\r\\n\\t\\t\\t\\t\\tfont-size: 13px;\\r\\n\\t\\t\\t\\t}.tdi_130 .td-read-more{\\r\\n\\t\\t\\t\\t\\tdisplay: none;\\r\\n\\t\\t\\t\\t}.tdi_130 .td-author-date{\\r\\n\\t\\t\\t\\t\\tdisplay: inline;\\r\\n\\t\\t\\t\\t}.tdi_130 .td-post-author-name{\\r\\n\\t\\t\\t\\t\\tdisplay: none;\\r\\n\\t\\t\\t\\t}.tdi_130 .entry-review-stars{\\r\\n\\t\\t\\t\\t\\tdisplay: inline-block;\\r\\n\\t\\t\\t\\t\\r\\n\\t\\t\\t\\t\\tcolor: #ffffff;\\r\\n\\t\\t\\t\\t}.tdi_130 .td-icon-star,\\r\\n                .tdi_130 .td-icon-star-empty,\\r\\n                .tdi_130 .td-icon-star-half{\\r\\n\\t\\t\\t\\t\\tfont-size: 15px;\\r\\n\\t\\t\\t\\t}.tdi_130 .td-module-comments{\\r\\n\\t\\t\\t\\t\\tdisplay: none;\\r\\n\\t\\t\\t\\t}.tdi_130 .td_module_wrap:nth-last-child(1){\\r\\n\\t\\t\\t\\t\\tmargin-bottom: 0;\\r\\n\\t\\t\\t\\t\\tpadding-bottom: 0;\\r\\n\\t\\t\\t\\t}.tdi_130 .td_module_wrap:nth-last-child(1) .td-module-container:before{\\r\\n\\t\\t\\t\\t\\tdisplay: none;\\r\\n\\t\\t\\t\\t}.tdi_130 .td-module-title a{\\r\\n\\t\\t\\t\\t\\tcolor: #ffffff;\\r\\n\\t\\t\\t\\t}.tdi_130 .td_module_wrap:hover .td-module-title a{\\r\\n\\t\\t\\t\\t\\tcolor: #4db2ec !important;\\r\\n\\t\\t\\t\\t}.tdi_130 .td-module-exclusive .td-module-title a:before{\\r\\n                    display: inline-block;\\r\\n                }.tdi_130 .td-block-title a,\\r\\n\\t\\t\\t\\t.tdi_130 .td-block-title span{\\r\\n\\t\\t\\t\\t\\tfont-size:18px !important;\\r\\n\\t\\t\\t\\t}.tdi_130 .entry-title{\\r\\n\\t\\t\\t\\t\\tfont-size:14px !important;line-height:1.4 !important;font-weight:500 !important;\\r\\n\\t\\t\\t\\t}html:not([class*=\\'ie\\']) .tdi_130 .td-module-container:hover .entry-thumb:before{\\r\\n                    opacity: 0;\\r\\n                }\\n\\n/* landscape */\\n@media (min-width: 1019px) and (max-width: 1140px){\\n.tdi_130 .td_module_wrap{\\r\\n\\t\\t\\t\\t\\tpadding-bottom: 13px;\\r\\n\\t\\t\\t\\t\\tmargin-bottom: 13px;\\r\\n\\t\\t\\t\\t\\r\\n\\t\\t\\t\\t\\tpadding-bottom: 13px !important;\\r\\n\\t\\t\\t\\t\\tmargin-bottom: 13px !important;\\r\\n\\t\\t\\t\\t}.tdi_130 .td-module-container:before{\\r\\n\\t\\t\\t\\t\\tbottom: -13px;\\r\\n\\t\\t\\t\\t}.tdi_130 .td_module_wrap:nth-last-child(1){\\r\\n\\t\\t\\t\\t\\tmargin-bottom: 0 !important;\\r\\n\\t\\t\\t\\t\\tpadding-bottom: 0 !important;\\r\\n\\t\\t\\t\\t}.tdi_130 .td_module_wrap .td-module-container:before{\\r\\n\\t\\t\\t\\t\\tdisplay: block !important;\\r\\n\\t\\t\\t\\t}.tdi_130 .td_module_wrap:nth-last-child(1) .td-module-container:before{\\r\\n\\t\\t\\t\\t\\tdisplay: none !important;\\r\\n\\t\\t\\t\\t}\\n}\\n\\n/* portrait */\\n@media (min-width: 768px) and (max-width: 1018px){\\n.tdi_130 .td-module-meta-info{\\r\\n\\t\\t\\t\\t\\tpadding: 0 0 0 13px;\\r\\n\\t\\t\\t\\t}.tdi_130 .td_module_wrap{\\r\\n\\t\\t\\t\\t\\twidth: 100%;\\r\\n\\t\\t\\t\\t\\tfloat: left;\\r\\n\\t\\t\\t\\t\\r\\n\\t\\t\\t\\t\\tpadding-left: 10px;\\r\\n\\t\\t\\t\\t\\tpadding-right: 10px;\\r\\n\\t\\t\\t\\t\\r\\n\\t\\t\\t\\t\\tpadding-bottom: 10px;\\r\\n\\t\\t\\t\\t\\tmargin-bottom: 10px;\\r\\n\\t\\t\\t\\t\\r\\n\\t\\t\\t\\t\\tpadding-bottom: 10px !important;\\r\\n\\t\\t\\t\\t\\tmargin-bottom: 10px !important;\\r\\n\\t\\t\\t\\t}.rtl .tdi_130 .td_module_wrap{\\r\\n\\t\\t\\t\\t\\tfloat: right;\\r\\n\\t\\t\\t\\t}.tdi_130 .td_block_inner{\\r\\n\\t\\t\\t\\t\\tmargin-left: -10px;\\r\\n\\t\\t\\t\\t\\tmargin-right: -10px;\\r\\n\\t\\t\\t\\t}.tdi_130 .td-module-container:before{\\r\\n\\t\\t\\t\\t\\tbottom: -10px;\\r\\n\\t\\t\\t\\t}.tdi_130 .td_module_wrap:nth-last-child(1){\\r\\n\\t\\t\\t\\t\\tmargin-bottom: 0 !important;\\r\\n\\t\\t\\t\\t\\tpadding-bottom: 0 !important;\\r\\n\\t\\t\\t\\t}.tdi_130 .td_module_wrap .td-module-container:before{\\r\\n\\t\\t\\t\\t\\tdisplay: block !important;\\r\\n\\t\\t\\t\\t}.tdi_130 .td_module_wrap:nth-last-child(1) .td-module-container:before{\\r\\n\\t\\t\\t\\t\\tdisplay: none !important;\\r\\n\\t\\t\\t\\t}.tdi_130 .entry-title{\\r\\n\\t\\t\\t\\t\\tfont-size:12px !important;line-height:1.4 !important;font-weight:500 !important;\\r\\n\\t\\t\\t\\t}\\n}\\n\\n/* phone */\\n@media (max-width: 767px){\\n.tdi_130 .td_module_wrap{\\r\\n\\t\\t\\t\\t\\twidth: 100%;\\r\\n\\t\\t\\t\\t\\tfloat: left;\\r\\n\\t\\t\\t\\t\\r\\n\\t\\t\\t\\t\\tpadding-bottom: 13px;\\r\\n\\t\\t\\t\\t\\tmargin-bottom: 13px;\\r\\n\\t\\t\\t\\t\\r\\n\\t\\t\\t\\t\\tpadding-bottom: 13px !important;\\r\\n\\t\\t\\t\\t\\tmargin-bottom: 13px !important;\\r\\n\\t\\t\\t\\t}.rtl .tdi_130 .td_module_wrap{\\r\\n\\t\\t\\t\\t\\tfloat: right;\\r\\n\\t\\t\\t\\t}.tdi_130 .td-module-container:before{\\r\\n\\t\\t\\t\\t\\tbottom: -13px;\\r\\n\\t\\t\\t\\t}.tdi_130 .td_module_wrap:nth-last-child(1){\\r\\n\\t\\t\\t\\t\\tmargin-bottom: 0 !important;\\r\\n\\t\\t\\t\\t\\tpadding-bottom: 0 !important;\\r\\n\\t\\t\\t\\t}.tdi_130 .td_module_wrap .td-module-container:before{\\r\\n\\t\\t\\t\\t\\tdisplay: block !important;\\r\\n\\t\\t\\t\\t}.tdi_130 .td_module_wrap:nth-last-child(1) .td-module-container:before{\\r\\n\\t\\t\\t\\t\\tdisplay: none !important;\\r\\n\\t\\t\\t\\t}\\n}\\n</style><script>var block_tdi_130 = new tdBlock();\\nblock_tdi_130.id = \"tdi_130\";\\nblock_tdi_130.atts = \\'{\"modules_on_row\":\"eyJwb3J0cmFpdCI6IjEwMCUiLCJwaG9uZSI6IjEwMCUifQ==\",\"image_size\":\"td_218x150\",\"image_floated\":\"float_left\",\"image_width\":\"30\",\"image_height\":\"70\",\"show_btn\":\"none\",\"show_excerpt\":\"none\",\"show_com\":\"none\",\"show_author\":\"none\",\"show_cat\":\"none\",\"meta_padding\":\"eyJhbGwiOiIwIDAgMCAxNnB4IiwicGhvbmUiOiIwIDAgMCAxNnB4IiwicG9ydHJhaXQiOiIwIDAgMCAxM3B4In0=\",\"f_title_font_size\":\"eyJhbGwiOiIxNCIsInBvcnRyYWl0IjoiMTIifQ==\",\"f_title_font_line_height\":\"1.4\",\"f_title_font_weight\":\"500\",\"all_modules_space\":\"eyJhbGwiOiIyNiIsInBvcnRyYWl0IjoiMjAiLCJwaG9uZSI6IjI2In0=\",\"category_id\":\"\",\"modules_gap\":\"eyJwb3J0cmFpdCI6IjIwIn0=\",\"show_date\":\"\",\"limit\":\"3\",\"custom_title\":\"POPULAR INSIGHTS\",\"block_template_id\":\"td_block_template_2\",\"f_header_font_size\":\"18\",\"f_header_font_weight\":\"\",\"header_text_color\":\"#ffffff\",\"title_txt\":\"#ffffff\",\"sort\":\"\",\"title_txt_hover\":\"#4db2ec\",\"tdc_css\":\"eyJwaG9uZSI6eyJtYXJnaW4tYm90dG9tIjoiNDgiLCJkaXNwbGF5IjoiIn0sInBob25lX21heF93aWR0aCI6NzY3LCJwb3J0cmFpdCI6eyJtYXJnaW4tYm90dG9tIjoiMjAiLCJkaXNwbGF5IjoiIn0sInBvcnRyYWl0X21heF93aWR0aCI6MTAxOCwicG9ydHJhaXRfbWluX3dpZHRoIjo3Njh9\",\"post_ids\":\"-5021\",\"rev_txt\":\"#ffffff\",\"video_icon\":\"24\",\"block_type\":\"td_flex_block_1\",\"separator\":\"\",\"custom_url\":\"\",\"title_tag\":\"\",\"mc1_tl\":\"\",\"mc1_title_tag\":\"\",\"mc1_el\":\"\",\"taxonomies\":\"\",\"category_ids\":\"\",\"in_all_terms\":\"\",\"tag_slug\":\"\",\"autors_id\":\"\",\"installed_post_types\":\"\",\"locked_only\":\"\",\"offset\":\"\",\"show_modified_date\":\"\",\"time_ago\":\"\",\"time_ago_add_txt\":\"ago\",\"time_ago_txt_pos\":\"\",\"el_class\":\"\",\"td_query_cache\":\"\",\"td_query_cache_expiration\":\"\",\"td_ajax_filter_type\":\"\",\"td_ajax_filter_ids\":\"\",\"td_filter_default_txt\":\"All\",\"td_ajax_preloading\":\"\",\"container_width\":\"\",\"m_padding\":\"\",\"modules_border_size\":\"\",\"modules_border_style\":\"\",\"modules_border_color\":\"#eaeaea\",\"modules_border_radius\":\"\",\"modules_divider\":\"\",\"modules_divider_color\":\"#eaeaea\",\"h_effect\":\"\",\"image_alignment\":\"50\",\"image_radius\":\"\",\"hide_image\":\"\",\"video_popup\":\"yes\",\"video_rec\":\"\",\"spot_header\":\"\",\"video_rec_title\":\"\",\"video_rec_color\":\"\",\"video_rec_disable\":\"\",\"autoplay_vid\":\"yes\",\"show_vid_t\":\"block\",\"vid_t_margin\":\"\",\"vid_t_padding\":\"\",\"video_title_color\":\"\",\"video_title_color_h\":\"\",\"video_bg\":\"\",\"video_overlay\":\"\",\"vid_t_color\":\"\",\"vid_t_bg_color\":\"\",\"f_vid_title_font_header\":\"\",\"f_vid_title_font_title\":\"Video pop-up article title\",\"f_vid_title_font_settings\":\"\",\"f_vid_title_font_family\":\"\",\"f_vid_title_font_size\":\"\",\"f_vid_title_font_line_height\":\"\",\"f_vid_title_font_style\":\"\",\"f_vid_title_font_weight\":\"\",\"f_vid_title_font_transform\":\"\",\"f_vid_title_font_spacing\":\"\",\"f_vid_title_\":\"\",\"f_vid_time_font_title\":\"Video duration text\",\"f_vid_time_font_settings\":\"\",\"f_vid_time_font_family\":\"\",\"f_vid_time_font_size\":\"\",\"f_vid_time_font_line_height\":\"\",\"f_vid_time_font_style\":\"\",\"f_vid_time_font_weight\":\"\",\"f_vid_time_font_transform\":\"\",\"f_vid_time_font_spacing\":\"\",\"f_vid_time_\":\"\",\"excl_show\":\"inline-block\",\"excl_txt\":\"\",\"excl_margin\":\"\",\"excl_padd\":\"\",\"all_excl_border\":\"\",\"all_excl_border_style\":\"solid\",\"excl_radius\":\"\",\"excl_color\":\"\",\"excl_color_h\":\"\",\"excl_bg\":\"\",\"excl_bg_h\":\"\",\"all_excl_border_color\":\"\",\"excl_border_color_h\":\"\",\"f_excl_font_header\":\"\",\"f_excl_font_title\":\"Label text\",\"f_excl_font_settings\":\"\",\"f_excl_font_family\":\"\",\"f_excl_font_size\":\"\",\"f_excl_font_line_height\":\"\",\"f_excl_font_style\":\"\",\"f_excl_font_weight\":\"\",\"f_excl_font_transform\":\"\",\"f_excl_font_spacing\":\"\",\"f_excl_\":\"\",\"meta_info_align\":\"\",\"meta_info_horiz\":\"layout-default\",\"meta_width\":\"\",\"meta_margin\":\"\",\"meta_space\":\"\",\"art_title\":\"\",\"art_btn\":\"\",\"meta_info_border_size\":\"\",\"meta_info_border_style\":\"\",\"meta_info_border_color\":\"#eaeaea\",\"meta_info_border_radius\":\"\",\"modules_category\":\"\",\"modules_category_margin\":\"\",\"modules_category_padding\":\"\",\"modules_cat_border\":\"\",\"modules_category_radius\":\"0\",\"modules_extra_cat\":\"\",\"author_photo\":\"\",\"author_photo_size\":\"\",\"author_photo_space\":\"\",\"author_photo_radius\":\"\",\"show_review\":\"inline-block\",\"review_space\":\"\",\"review_size\":\"2.5\",\"review_distance\":\"\",\"art_excerpt\":\"\",\"excerpt_col\":\"1\",\"excerpt_gap\":\"\",\"excerpt_middle\":\"\",\"excerpt_inline\":\"\",\"show_audio\":\"block\",\"hide_audio\":\"\",\"art_audio\":\"\",\"art_audio_size\":\"1.5\",\"btn_title\":\"\",\"btn_margin\":\"\",\"btn_padding\":\"\",\"btn_border_width\":\"\",\"btn_radius\":\"\",\"pag_space\":\"\",\"pag_padding\":\"\",\"pag_border_width\":\"\",\"pag_border_radius\":\"\",\"prev_tdicon\":\"\",\"next_tdicon\":\"\",\"pag_icons_size\":\"\",\"f_header_font_header\":\"\",\"f_header_font_title\":\"Block header\",\"f_header_font_settings\":\"\",\"f_header_font_family\":\"\",\"f_header_font_line_height\":\"\",\"f_header_font_style\":\"\",\"f_header_font_transform\":\"\",\"f_header_font_spacing\":\"\",\"f_header_\":\"\",\"f_ajax_font_title\":\"Ajax categories\",\"f_ajax_font_settings\":\"\",\"f_ajax_font_family\":\"\",\"f_ajax_font_size\":\"\",\"f_ajax_font_line_height\":\"\",\"f_ajax_font_style\":\"\",\"f_ajax_font_weight\":\"\",\"f_ajax_font_transform\":\"\",\"f_ajax_font_spacing\":\"\",\"f_ajax_\":\"\",\"f_more_font_title\":\"Load more button\",\"f_more_font_settings\":\"\",\"f_more_font_family\":\"\",\"f_more_font_size\":\"\",\"f_more_font_line_height\":\"\",\"f_more_font_style\":\"\",\"f_more_font_weight\":\"\",\"f_more_font_transform\":\"\",\"f_more_font_spacing\":\"\",\"f_more_\":\"\",\"f_title_font_header\":\"\",\"f_title_font_title\":\"Article title\",\"f_title_font_settings\":\"\",\"f_title_font_family\":\"\",\"f_title_font_style\":\"\",\"f_title_font_transform\":\"\",\"f_title_font_spacing\":\"\",\"f_title_\":\"\",\"f_cat_font_title\":\"Article category tag\",\"f_cat_font_settings\":\"\",\"f_cat_font_family\":\"\",\"f_cat_font_size\":\"\",\"f_cat_font_line_height\":\"\",\"f_cat_font_style\":\"\",\"f_cat_font_weight\":\"\",\"f_cat_font_transform\":\"\",\"f_cat_font_spacing\":\"\",\"f_cat_\":\"\",\"f_meta_font_title\":\"Article meta info\",\"f_meta_font_settings\":\"\",\"f_meta_font_family\":\"\",\"f_meta_font_size\":\"\",\"f_meta_font_line_height\":\"\",\"f_meta_font_style\":\"\",\"f_meta_font_weight\":\"\",\"f_meta_font_transform\":\"\",\"f_meta_font_spacing\":\"\",\"f_meta_\":\"\",\"f_ex_font_title\":\"Article excerpt\",\"f_ex_font_settings\":\"\",\"f_ex_font_family\":\"\",\"f_ex_font_size\":\"\",\"f_ex_font_line_height\":\"\",\"f_ex_font_style\":\"\",\"f_ex_font_weight\":\"\",\"f_ex_font_transform\":\"\",\"f_ex_font_spacing\":\"\",\"f_ex_\":\"\",\"f_btn_font_title\":\"Article read more button\",\"f_btn_font_settings\":\"\",\"f_btn_font_family\":\"\",\"f_btn_font_size\":\"\",\"f_btn_font_line_height\":\"\",\"f_btn_font_style\":\"\",\"f_btn_font_weight\":\"\",\"f_btn_font_transform\":\"\",\"f_btn_font_spacing\":\"\",\"f_btn_\":\"\",\"mix_color\":\"\",\"mix_type\":\"\",\"fe_brightness\":\"1\",\"fe_contrast\":\"1\",\"fe_saturate\":\"1\",\"mix_color_h\":\"\",\"mix_type_h\":\"\",\"fe_brightness_h\":\"1\",\"fe_contrast_h\":\"1\",\"fe_saturate_h\":\"1\",\"m_bg\":\"\",\"color_overlay\":\"\",\"shadow_shadow_header\":\"\",\"shadow_shadow_title\":\"Module Shadow\",\"shadow_shadow_size\":\"\",\"shadow_shadow_offset_horizontal\":\"\",\"shadow_shadow_offset_vertical\":\"\",\"shadow_shadow_spread\":\"\",\"shadow_shadow_color\":\"\",\"all_underline_height\":\"\",\"all_underline_color\":\"\",\"cat_bg\":\"\",\"cat_bg_hover\":\"\",\"cat_txt\":\"\",\"cat_txt_hover\":\"\",\"cat_border\":\"\",\"cat_border_hover\":\"\",\"meta_bg\":\"\",\"author_txt\":\"\",\"author_txt_hover\":\"\",\"date_txt\":\"\",\"ex_txt\":\"\",\"com_bg\":\"\",\"com_txt\":\"\",\"audio_btn_color\":\"\",\"audio_time_color\":\"\",\"audio_bar_color\":\"\",\"audio_bar_curr_color\":\"\",\"shadow_m_shadow_header\":\"\",\"shadow_m_shadow_title\":\"Meta info shadow\",\"shadow_m_shadow_size\":\"\",\"shadow_m_shadow_offset_horizontal\":\"\",\"shadow_m_shadow_offset_vertical\":\"\",\"shadow_m_shadow_spread\":\"\",\"shadow_m_shadow_color\":\"\",\"btn_bg\":\"\",\"btn_bg_hover\":\"\",\"btn_txt\":\"\",\"btn_txt_hover\":\"\",\"btn_border\":\"\",\"btn_border_hover\":\"\",\"pag_text\":\"\",\"pag_h_text\":\"\",\"pag_bg\":\"\",\"pag_h_bg\":\"\",\"pag_border\":\"\",\"pag_h_border\":\"\",\"ajax_pagination\":\"\",\"ajax_pagination_next_prev_swipe\":\"\",\"ajax_pagination_infinite_stop\":\"\",\"css\":\"\",\"td_column_number\":1,\"header_color\":\"\",\"color_preset\":\"\",\"border_top\":\"\",\"class\":\"tdi_130\",\"tdc_css_class\":\"tdi_130\",\"tdc_css_class_style\":\"tdi_130_rand_style\"}\\';\\nblock_tdi_130.td_column_number = \"1\";\\nblock_tdi_130.block_type = \"td_flex_block_1\";\\nblock_tdi_130.post_count = \"3\";\\nblock_tdi_130.found_posts = \"453\";\\nblock_tdi_130.header_color = \"\";\\nblock_tdi_130.ajax_pagination_infinite_stop = \"\";\\nblock_tdi_130.max_num_pages = \"151\";\\ntdBlocksArray.push(block_tdi_130);\\n</script><div class=\"td-block-title-wrap\"><h4 class=\"td-block-title\"><span class=\"td-pulldown-size\">POPULAR INSIGHTS</span></h4></div><div id=tdi_130 class=\"td_block_inner td-mc1-wrap\">\\r\\n        <div class=\"td_module_flex td_module_flex_1 td_module_wrap td-animation-stack td-cpt-post\">\\r\\n            <div class=\"td-module-container td-category-pos-\">\\r\\n                                    <div class=\"td-image-container\">\\r\\n                                                <div class=\"td-module-thumb\"><a href=\"https://insights.blackcoffer.com/data-management-etl-and-data-automation/\" rel=\"bookmark\" class=\"td-image-wrap \" title=\"Data Management, ETL, and Data Automation\" ><span class=\"entry-thumb td-thumb-css\" data-type=\"css_image\" data-img-url=\"https://insights.blackcoffer.com/wp-content/uploads/2023/08/2-4-218x150.jpeg\"  ></span></a></div>                                            </div>\\r\\n                \\r\\n                <div class=\"td-module-meta-info\">\\r\\n                                        \\r\\n                    <h3 class=\"entry-title td-module-title\"><a href=\"https://insights.blackcoffer.com/data-management-etl-and-data-automation/\" rel=\"bookmark\" title=\"Data Management, ETL, and Data Automation\">Data Management, ETL, and Data Automation</a></h3>\\r\\n                    \\r\\n                                            <div class=\"td-editor-date\">\\r\\n                                                        \\r\\n                                                            <span class=\"td-author-date\">\\r\\n                                                                                                            <span class=\"td-post-date\"><time class=\"entry-date updated td-module-date\" datetime=\"2023-08-06T14:36:02+05:30\" >August 6, 2023</time></span>                                                                                                        </span>\\r\\n                                                    </div>\\r\\n                    \\r\\n                    \\r\\n                    \\r\\n                                    </div>\\r\\n            </div>\\r\\n        </div>\\r\\n\\r\\n        \\r\\n        <div class=\"td_module_flex td_module_flex_1 td_module_wrap td-animation-stack td-cpt-post\">\\r\\n            <div class=\"td-module-container td-category-pos-\">\\r\\n                                    <div class=\"td-image-container\">\\r\\n                                                <div class=\"td-module-thumb\"><a href=\"https://insights.blackcoffer.com/data-management-egeas/\" rel=\"bookmark\" class=\"td-image-wrap \" title=\"Data Management &#8211; EGEAS\" ><span class=\"entry-thumb td-thumb-css\" data-type=\"css_image\" data-img-url=\"https://insights.blackcoffer.com/wp-content/uploads/2023/08/2-1-218x150.webp\"  ></span></a></div>                                            </div>\\r\\n                \\r\\n                <div class=\"td-module-meta-info\">\\r\\n                                        \\r\\n                    <h3 class=\"entry-title td-module-title\"><a href=\"https://insights.blackcoffer.com/data-management-egeas/\" rel=\"bookmark\" title=\"Data Management &#8211; EGEAS\">Data Management &#8211; EGEAS</a></h3>\\r\\n                    \\r\\n                                            <div class=\"td-editor-date\">\\r\\n                                                        \\r\\n                                                            <span class=\"td-author-date\">\\r\\n                                                                                                            <span class=\"td-post-date\"><time class=\"entry-date updated td-module-date\" datetime=\"2023-08-06T14:31:16+05:30\" >August 6, 2023</time></span>                                                                                                        </span>\\r\\n                                                    </div>\\r\\n                    \\r\\n                    \\r\\n                    \\r\\n                                    </div>\\r\\n            </div>\\r\\n        </div>\\r\\n\\r\\n        \\r\\n        <div class=\"td_module_flex td_module_flex_1 td_module_wrap td-animation-stack td-cpt-post\">\\r\\n            <div class=\"td-module-container td-category-pos-\">\\r\\n                                    <div class=\"td-image-container\">\\r\\n                                                <div class=\"td-module-thumb\"><a href=\"https://insights.blackcoffer.com/design-and-develop-powershell-script/\" rel=\"bookmark\" class=\"td-image-wrap \" title=\"Design and develop PowerShell script\" ><span class=\"entry-thumb td-thumb-css\" data-type=\"css_image\" data-img-url=\"https://insights.blackcoffer.com/wp-content/uploads/2023/08/business-colleagues-in-conference-room-ZLGHU4J-min-scaled-1-218x150.jpg\"  ></span></a></div>                                            </div>\\r\\n                \\r\\n                <div class=\"td-module-meta-info\">\\r\\n                                        \\r\\n                    <h3 class=\"entry-title td-module-title\"><a href=\"https://insights.blackcoffer.com/design-and-develop-powershell-script/\" rel=\"bookmark\" title=\"Design and develop PowerShell script\">Design and develop PowerShell script</a></h3>\\r\\n                    \\r\\n                                            <div class=\"td-editor-date\">\\r\\n                                                        \\r\\n                                                            <span class=\"td-author-date\">\\r\\n                                                                                                            <span class=\"td-post-date\"><time class=\"entry-date updated td-module-date\" datetime=\"2023-08-06T14:27:39+05:30\" >August 6, 2023</time></span>                                                                                                        </span>\\r\\n                                                    </div>\\r\\n                    \\r\\n                    \\r\\n                    \\r\\n                                    </div>\\r\\n            </div>\\r\\n        </div>\\r\\n\\r\\n        </div></div></div></div></div><div class=\"vc_column_inner tdi_132  wpb_column vc_column_container tdc-inner-column td-pb-span4\">\\n<style scoped>\\n\\n/* custom css */\\n.tdi_132{\\r\\n                    vertical-align: baseline;\\r\\n                }.tdi_132 .vc_column-inner > .wpb_wrapper,\\r\\n\\t\\t\\t\\t.tdi_132 .vc_column-inner > .wpb_wrapper .tdc-elements{\\r\\n\\t\\t\\t\\t    display: block;\\r\\n\\t\\t\\t\\t}.tdi_132 .vc_column-inner > .wpb_wrapper .tdc-elements{\\r\\n\\t\\t\\t\\t    width: 100%;\\r\\n\\t\\t\\t\\t}\\n</style><div class=\"vc_column-inner\"><div class=\"wpb_wrapper\" ><div class=\"td_block_wrap td_block_popular_categories tdi_133 widget widget_categories td-pb-border-top td_block_template_2\"  data-td-block-uid=\"tdi_133\" >\\n<style>\\n.td-theme-wrap .tdi_133 .td-block-title > *,\\r\\n            .td-theme-wrap .tdi_133 .td-pulldown-filter-link:hover,\\r\\n            .td-theme-wrap .tdi_133 .td-subcat-item a:hover,\\r\\n            .td-theme-wrap .tdi_133 .td-subcat-item .td-cur-simple-item,\\r\\n            .td-theme-wrap .tdi_133 .td-subcat-dropdown:hover .td-subcat-more span,\\r\\n            .td-theme-wrap .tdi_133 .td-subcat-dropdown:hover .td-subcat-more i {\\r\\n                color: #ffffff;\\r\\n            }\\r\\n\\r\\n            .td-theme-wrap .tdi_133 .td-subcat-dropdown ul:after {\\r\\n                background-color: #ffffff;\\r\\n            }\\r\\n            \\r\\n            \\r\\n            .td-theme-wrap .tdi_133 .td_module_wrap:hover .entry-title a,\\r\\n            .td-theme-wrap .tdi_133 .td_quote_on_blocks,\\r\\n            .td-theme-wrap .tdi_133 .td-opacity-cat .td-post-category:hover,\\r\\n            .td-theme-wrap .tdi_133 .td-opacity-read .td-read-more a:hover,\\r\\n            .td-theme-wrap .tdi_133 .td-opacity-author .td-post-author-name a:hover,\\r\\n            .td-theme-wrap .tdi_133 .td-instagram-user a {\\r\\n                color: #ffffff;\\r\\n            }\\r\\n\\r\\n            .td-theme-wrap .tdi_133 .td-next-prev-wrap a:hover,\\r\\n            .td-theme-wrap .tdi_133 .td-load-more-wrap a:hover {\\r\\n                background-color: #ffffff;\\r\\n                border-color: #ffffff;\\r\\n            }\\r\\n\\r\\n            .td-theme-wrap .tdi_133 .td-read-more a,\\r\\n            .td-theme-wrap .tdi_133 .td-weather-information:before,\\r\\n            .td-theme-wrap .tdi_133 .td-weather-week:before,\\r\\n            .td-theme-wrap .tdi_133 .td-exchange-header:before,\\r\\n            .td-theme-wrap .td-footer-wrapper .tdi_133 .td-post-category,\\r\\n            .td-theme-wrap .tdi_133 .td-post-category:hover {\\r\\n                background-color: #ffffff;\\r\\n            }\\n/* inline tdc_css att */\\n\\n/* portrait */\\n@media (min-width: 768px) and (max-width: 1018px)\\n{\\n.tdi_133{\\nmargin-bottom:20px !important;\\n}\\n}\\n\\n</style>\\n<style>\\n/* custom css */\\n.td_block_popular_categories{\\r\\n                  padding-bottom: 0;\\r\\n                }.tdi_133 .td-cat-name{\\r\\n\\t\\t\\t\\t\\tcolor: #ffffff;\\r\\n\\t\\t\\t\\t}.tdi_133 .td-cat-no{\\r\\n\\t\\t\\t\\t\\tcolor: #ffffff;\\r\\n\\t\\t\\t\\t}.tdi_133 li:hover .td-cat-name{\\r\\n\\t\\t\\t\\t\\tcolor: #4db2ec;\\r\\n\\t\\t\\t\\t}.tdi_133 li:hover .td-cat-no{\\r\\n\\t\\t\\t\\t\\tcolor: #4db2ec;\\r\\n\\t\\t\\t\\t}.tdi_133 .td-block-title a,\\r\\n\\t\\t\\t\\t.tdi_133 .td-block-title span{\\r\\n\\t\\t\\t\\t\\tfont-size:18px !important;\\r\\n\\t\\t\\t\\t}\\n\\n/* portrait */\\n@media (min-width: 768px) and (max-width: 1018px){\\n.tdi_133 li{\\r\\n\\t\\t\\t\\t\\tfont-size:13px !important;line-height:26px !important;\\r\\n\\t\\t\\t\\t}\\n}\\n</style><div class=\"td-block-title-wrap\"><h4 class=\"td-block-title\"><span class=\"td-pulldown-size\">POPULAR INSIGHTS CATEGORY</span></h4></div><ul class=\"td-pb-padding-side\"><li><a href=\"https://insights.blackcoffer.com/category/our-success-stories/\"><span class=\"td-cat-name\">Our Success Stories</span><span class=\"td-cat-no\">169</span></a></li><li><a href=\"https://insights.blackcoffer.com/category/what-we-think/\"><span class=\"td-cat-name\">What We Think</span><span class=\"td-cat-no\">166</span></a></li><li><a href=\"https://insights.blackcoffer.com/category/blackcoffer/\"><span class=\"td-cat-name\">Blackcoffer</span><span class=\"td-cat-no\">118</span></a></li><li><a href=\"https://insights.blackcoffer.com/category/our-success-stories/it/\"><span class=\"td-cat-name\">IT</span><span class=\"td-cat-no\">65</span></a></li><li><a href=\"https://insights.blackcoffer.com/category/what-we-think/healthcare/\"><span class=\"td-cat-name\">Healthcare</span><span class=\"td-cat-no\">52</span></a></li><li><a href=\"https://insights.blackcoffer.com/category/what-we-think/data-science/artificial-intelligence/\"><span class=\"td-cat-name\">Artificial Intelligence</span><span class=\"td-cat-no\">51</span></a></li><li><a href=\"https://insights.blackcoffer.com/category/what-we-think/data-science/big-data/\"><span class=\"td-cat-name\">Big Data</span><span class=\"td-cat-no\">44</span></a></li><li><a href=\"https://insights.blackcoffer.com/category/our-success-stories/lifestyle-ecommerce-market-place/\"><span class=\"td-cat-name\">Lifestyle, eCommerce &amp; Online Market Place</span><span class=\"td-cat-no\">40</span></a></li></ul></div></div></div></div></div><div class=\"vc_row_inner tdi_135  vc_row vc_inner wpb_row td-pb-row\" >\\n<style scoped>\\n\\n/* custom css */\\n.tdi_135{\\r\\n                    position: relative !important;\\r\\n                    top: 0;\\r\\n                    transform: none;\\r\\n                    -webkit-transform: none;\\r\\n                }.tdi_135,\\r\\n\\t\\t\\t\\t.tdi_135 .tdc-inner-columns{\\r\\n\\t\\t\\t\\t    display: block;\\r\\n\\t\\t\\t\\t}.tdi_135 .tdc-inner-columns{\\r\\n\\t\\t\\t\\t    width: 100%;\\r\\n\\t\\t\\t\\t}\\n</style><div class=\"vc_column_inner tdi_137  wpb_column vc_column_container tdc-inner-column td-pb-span12\">\\n<style scoped>\\n\\n/* custom css */\\n.tdi_137{\\r\\n                    vertical-align: baseline;\\r\\n                }.tdi_137 .vc_column-inner > .wpb_wrapper,\\r\\n\\t\\t\\t\\t.tdi_137 .vc_column-inner > .wpb_wrapper .tdc-elements{\\r\\n\\t\\t\\t\\t    display: block;\\r\\n\\t\\t\\t\\t}.tdi_137 .vc_column-inner > .wpb_wrapper .tdc-elements{\\r\\n\\t\\t\\t\\t    width: 100%;\\r\\n\\t\\t\\t\\t}\\n/* inline tdc_css att */\\n\\n/* portrait */\\n@media (min-width: 768px) and (max-width: 1018px)\\n{\\n.tdi_137{\\nmargin-bottom:0px !important;\\n}\\n}\\n\\n</style><div class=\"vc_column-inner\"><div class=\"wpb_wrapper\" ><div class=\"wpb_wrapper td_block_separator td_block_wrap vc_separator tdi_139  td_separator_solid td_separator_center\"><span style=\"border-color:rgba(255,255,255,0.1);border-width:1px;width:80%;\"></span>\\n<style scoped>\\n\\n/* custom css */\\n.td_block_separator{\\r\\n                  width: 100%;\\r\\n                  align-items: center;\\r\\n                  margin-bottom: 38px;\\r\\n                  padding-bottom: 10px;\\r\\n                }.td_block_separator span{\\r\\n                  position: relative;\\r\\n                  display: block;\\r\\n                  margin: 0 auto;\\r\\n                  width: 100%;\\r\\n                  height: 1px;\\r\\n                  border-top: 1px solid #EBEBEB;\\r\\n                }.td_separator_align_left span{\\r\\n                  margin-left: 0;\\r\\n                }.td_separator_align_right span{\\r\\n                  margin-right: 0;\\r\\n                }.td_separator_dashed span{\\r\\n                  border-top-style: dashed;\\r\\n                }.td_separator_dotted span{\\r\\n                  border-top-style: dotted;\\r\\n                }.td_separator_double span{\\r\\n                  height: 3px;\\r\\n                  border-bottom: 1px solid #EBEBEB;\\r\\n                }.td_separator_shadow > span{\\r\\n                  position: relative;\\r\\n                  height: 20px;\\r\\n                  overflow: hidden;\\r\\n                  border: 0;\\r\\n                  color: #EBEBEB;\\r\\n                }.td_separator_shadow > span > span{\\r\\n                  position: absolute;\\r\\n                  top: -30px;\\r\\n                  left: 0;\\r\\n                  right: 0;\\r\\n                  margin: 0 auto;\\r\\n                  height: 13px;\\r\\n                  width: 98%;\\r\\n                  border-radius: 100%;\\r\\n                }html :where([style*=\\'border-width\\']){\\r\\n                    border-style: none;\\r\\n                }\\n/* inline tdc_css att */\\n\\n/* portrait */\\n@media (min-width: 768px) and (max-width: 1018px)\\n{\\n.tdi_139{\\nmargin-bottom:20px !important;\\n}\\n}\\n\\n</style></div></div></div></div></div><div class=\"vc_row_inner tdi_141  vc_row vc_inner wpb_row td-pb-row\" >\\n<style scoped>\\n\\n/* custom css */\\n.tdi_141{\\r\\n                    position: relative !important;\\r\\n                    top: 0;\\r\\n                    transform: none;\\r\\n                    -webkit-transform: none;\\r\\n                }.tdi_141,\\r\\n\\t\\t\\t\\t.tdi_141 .tdc-inner-columns{\\r\\n\\t\\t\\t\\t    display: block;\\r\\n\\t\\t\\t\\t}.tdi_141 .tdc-inner-columns{\\r\\n\\t\\t\\t\\t    width: 100%;\\r\\n\\t\\t\\t\\t}\\n/* inline tdc_css att */\\n\\n.tdi_141{\\npadding-bottom:30px !important;\\n}\\n\\n.tdi_141 .td_block_wrap{ text-align:left }\\n\\n/* portrait */\\n@media (min-width: 768px) and (max-width: 1018px)\\n{\\n.tdi_141{\\npadding-bottom:20px !important;\\n}\\n}\\n\\n</style><div class=\"vc_column_inner tdi_143  wpb_column vc_column_container tdc-inner-column td-pb-span4\">\\n<style scoped>\\n\\n/* custom css */\\n.tdi_143{\\r\\n                    vertical-align: baseline;\\r\\n                }.tdi_143 .vc_column-inner > .wpb_wrapper,\\r\\n\\t\\t\\t\\t.tdi_143 .vc_column-inner > .wpb_wrapper .tdc-elements{\\r\\n\\t\\t\\t\\t    display: block;\\r\\n\\t\\t\\t\\t}.tdi_143 .vc_column-inner > .wpb_wrapper .tdc-elements{\\r\\n\\t\\t\\t\\t    width: 100%;\\r\\n\\t\\t\\t\\t}\\n/* inline tdc_css att */\\n\\n.tdi_143{\\nwidth:25% !important;\\n}\\n\\n/* phone */\\n@media (max-width: 767px)\\n{\\n.tdi_143{\\nmargin-bottom:50px !important;\\nwidth:100% !important;\\n}\\n}\\n\\n</style><div class=\"vc_column-inner\"><div class=\"wpb_wrapper\" ><div class=\"td_block_wrap tdb_header_logo tdi_144 td-pb-border-top td_block_template_1 tdb-header-align\"  data-td-block-uid=\"tdi_144\" >\\n<style>\\n\\n/* inline tdc_css att */\\n\\n.tdi_144{\\nmargin-top:37px !important;\\n}\\n\\n/* portrait */\\n@media (min-width: 768px) and (max-width: 1018px)\\n{\\n.tdi_144{\\nmargin-top:44px !important;\\n}\\n}\\n\\n/* phone */\\n@media (max-width: 767px)\\n{\\n.tdi_144{\\nmargin-top:0px !important;\\n}\\n}\\n\\n</style>\\n<style>\\n/* custom css */\\n.tdi_144 .tdb-logo-a,\\r\\n                .tdi_144 h1{\\r\\n                    flex-direction: row;\\r\\n                \\r\\n                   align-items: flex-start;\\r\\n                \\r\\n                    justify-content: center;\\r\\n                }.tdi_144 .tdb-logo-svg-wrap{\\r\\n                    display: block;\\r\\n                }.tdi_144 .tdb-logo-svg-wrap + .tdb-logo-img-wrap{\\r\\n                    display: none;\\r\\n                }.tdi_144 .tdb-logo-img-wrap{\\r\\n                    display: block;\\r\\n                }.tdi_144 .tdb-logo-text-tagline{\\r\\n                    margin-top: 2px;\\r\\n                    margin-left: 0;\\r\\n                \\r\\n                    display: block;\\r\\n                }.tdi_144 .tdb-logo-text-title{\\r\\n                    display: block;\\r\\n                }.tdi_144 .tdb-logo-text-wrap{\\r\\n                    flex-direction: column;\\r\\n                \\r\\n                    align-items: flex-start;\\r\\n                }.tdi_144 .tdb-logo-icon{\\r\\n                    top: 0px;\\r\\n                \\r\\n                    display: block;\\r\\n                }\\n</style><div class=\"tdb-block-inner td-fix-index\"><a class=\"tdb-logo-a\" href=\"https://insights.blackcoffer.com/\"><span class=\"tdb-logo-img-wrap\"><img class=\"tdb-logo-img\" src=\"https://insights.blackcoffer.com/wp-content/uploads/2023/03/insights-white.png\" alt=\"Logo\"  title=\"\"  width=\"621\" height=\"125\" /></span></a></div></div> <!-- ./block --></div></div></div><div class=\"vc_column_inner tdi_146  wpb_column vc_column_container tdc-inner-column td-pb-span4\">\\n<style scoped>\\n\\n/* custom css */\\n.tdi_146{\\r\\n                    vertical-align: baseline;\\r\\n                }.tdi_146 .vc_column-inner > .wpb_wrapper,\\r\\n\\t\\t\\t\\t.tdi_146 .vc_column-inner > .wpb_wrapper .tdc-elements{\\r\\n\\t\\t\\t\\t    display: block;\\r\\n\\t\\t\\t\\t}.tdi_146 .vc_column-inner > .wpb_wrapper .tdc-elements{\\r\\n\\t\\t\\t\\t    width: 100%;\\r\\n\\t\\t\\t\\t}\\n/* inline tdc_css att */\\n\\n.tdi_146{\\nwidth:41.66666667% !important;\\n}\\n\\n/* phone */\\n@media (max-width: 767px)\\n{\\n.tdi_146{\\nmargin-bottom:50px !important;\\nwidth:100% !important;\\njustify-content:center !important;\\ntext-align:center !important;\\n}\\n}\\n\\n</style><div class=\"vc_column-inner\"><div class=\"wpb_wrapper\" ><div class=\"tdm_block td_block_wrap tdm_block_column_title tdi_147 tdm-content-horiz-left td-pb-border-top td_block_template_1\"  data-td-block-uid=\"tdi_147\" >\\n<style>\\n\\n/* inline tdc_css att */\\n\\n/* phone */\\n@media (max-width: 767px)\\n{\\n.tdi_147{\\njustify-content:center !important;\\ntext-align:center !important;\\n}\\n}\\n\\n</style>\\n<style>\\n/* custom css */\\n.tdm_block_column_title{\\r\\n                  margin-bottom: 0;\\r\\n                  display: inline-block;\\r\\n                  width: 100%;\\r\\n                }\\n</style><div class=\"td-block-row\"><div class=\"td-block-span12 tdm-col\">\\n<style>\\nbody .tdi_148 .tdm-title{\\r\\n\\t\\t\\t\\t\\tcolor: #ffffff;\\r\\n\\t\\t\\t\\t}.tdi_148 .tdm-title{\\r\\n\\t\\t\\t\\t\\tfont-size:18px !important;line-height:1 !important;font-weight:700 !important;\\r\\n\\t\\t\\t\\t}\\n</style><div class=\"tds-title tds-title1 td-fix-index tdi_148\"><h3 class=\"tdm-title tdm-title-md\">ABOUT US</h3></div></div></div></div><div class=\"tdm_block td_block_wrap tdm_block_inline_text tdi_149 td-pb-border-top td_block_template_1\"  data-td-block-uid=\"tdi_149\" >\\n<style>\\n\\n/* inline tdc_css att */\\n\\n/* phone */\\n@media (max-width: 767px)\\n{\\n.tdi_149{\\njustify-content:center !important;\\ntext-align:center !important;\\n}\\n}\\n\\n</style>\\n<style>\\n/* custom css */\\n.tdm_block.tdm_block_inline_text{\\r\\n                  margin-bottom: 0;\\r\\n                  vertical-align: top;\\r\\n                }.tdm_block.tdm_block_inline_text .tdm-descr{\\r\\n                  margin-bottom: 0;\\r\\n                  -webkit-transform: translateZ(0);\\r\\n                  transform: translateZ(0);\\r\\n                }.tdc-row-content-vert-center .tdm-inline-text-yes{\\r\\n                  vertical-align: middle;\\r\\n                }.tdc-row-content-vert-bottom .tdm-inline-text-yes{\\r\\n                  vertical-align: bottom;\\r\\n                }.tdi_149{\\r\\n                    text-align: left !important;\\r\\n                }.tdi_149 .tdm-descr{\\r\\n                    color: #eaeaea;\\r\\n                \\r\\n\\t\\t\\t\\t\\tfont-size:14px !important;line-height:1.6 !important;\\r\\n\\t\\t\\t\\t}\\n\\n/* portrait */\\n@media (min-width: 768px) and (max-width: 1018px){\\n.tdi_149 .tdm-descr{\\r\\n\\t\\t\\t\\t\\tfont-size:13px !important;line-height:1.6 !important;\\r\\n\\t\\t\\t\\t}\\n}\\n</style><p class=\"tdm-descr\">We provide intelligence, accelerate innovation and implement technology with extraordinary breadth and depth global insights into the big data,data-driven dashboards, applications development, and information management for organizations through combining unique, specialist services and high-lvel human expertise.</p></div><div class=\"tdm_block td_block_wrap tdm_block_inline_text tdi_150 td-pb-border-top td_block_template_1\"  data-td-block-uid=\"tdi_150\" >\\n<style>\\n\\n/* inline tdc_css att */\\n\\n.tdi_150{\\nmargin-top:21px !important;\\n}\\n\\n/* phone */\\n@media (max-width: 767px)\\n{\\n.tdi_150{\\njustify-content:center !important;\\ntext-align:center !important;\\n}\\n}\\n\\n</style>\\n<style>\\n/* custom css */\\n.tdi_150{\\r\\n                    text-align: left !important;\\r\\n                }.tdi_150 .tdm-descr{\\r\\n                    color: #eaeaea;\\r\\n                \\r\\n\\t\\t\\t\\t\\tfont-size:14px !important;line-height:1.6 !important;\\r\\n\\t\\t\\t\\t}.tdi_150 .tdm-descr a{\\r\\n                    color: #1aa4ce;\\r\\n                }\\n\\n/* portrait */\\n@media (min-width: 768px) and (max-width: 1018px){\\n.tdi_150 .tdm-descr{\\r\\n\\t\\t\\t\\t\\tfont-size:13px !important;line-height:1.6 !important;\\r\\n\\t\\t\\t\\t}\\n}\\n</style><p class=\"tdm-descr\">Contact us: <a href=\"mailto:hello@blackcoffer.com\">hello@blackcoffer.com</a></p></div></div></div></div><div class=\"vc_column_inner tdi_152  wpb_column vc_column_container tdc-inner-column td-pb-span4\">\\n<style scoped>\\n\\n/* custom css */\\n.tdi_152{\\r\\n                    vertical-align: baseline;\\r\\n                }.tdi_152 .vc_column-inner > .wpb_wrapper,\\r\\n\\t\\t\\t\\t.tdi_152 .vc_column-inner > .wpb_wrapper .tdc-elements{\\r\\n\\t\\t\\t\\t    display: block;\\r\\n\\t\\t\\t\\t}.tdi_152 .vc_column-inner > .wpb_wrapper .tdc-elements{\\r\\n\\t\\t\\t\\t    width: 100%;\\r\\n\\t\\t\\t\\t}\\n/* inline tdc_css att */\\n\\n/* phone */\\n@media (max-width: 767px)\\n{\\n.tdi_152{\\njustify-content:center !important;\\ntext-align:center !important;\\n}\\n}\\n\\n</style><div class=\"vc_column-inner\"><div class=\"wpb_wrapper\" ><div class=\"tdm_block td_block_wrap tdm_block_column_title tdi_153 tdm-content-horiz-left td-pb-border-top td_block_template_1\"  data-td-block-uid=\"tdi_153\" >\\n<style>\\n\\n/* inline tdc_css att */\\n\\n/* phone */\\n@media (max-width: 767px)\\n{\\n.tdi_153{\\njustify-content:center !important;\\ntext-align:center !important;\\n}\\n}\\n\\n</style><div class=\"td-block-row\"><div class=\"td-block-span12 tdm-col\">\\n<style>\\nbody .tdi_154 .tdm-title{\\r\\n\\t\\t\\t\\t\\tcolor: #ffffff;\\r\\n\\t\\t\\t\\t}.tdi_154 .tdm-title{\\r\\n\\t\\t\\t\\t\\tfont-size:18px !important;line-height:1 !important;font-weight:700 !important;\\r\\n\\t\\t\\t\\t}\\n</style><div class=\"tds-title tds-title1 td-fix-index tdi_154\"><h3 class=\"tdm-title tdm-title-md\">FOLLOW US</h3></div></div></div></div><div class=\"tdm_block td_block_wrap tdm_block_socials tdi_155 tdm-content-horiz-left td-pb-border-top td_block_template_1\"  data-td-block-uid=\"tdi_155\" >\\n<style>\\n\\n/* inline tdc_css att */\\n\\n/* phone */\\n@media (max-width: 767px)\\n{\\n.tdi_155{\\njustify-content:center !important;\\ntext-align:center !important;\\n}\\n}\\n\\n</style>\\n<style>\\n.tdi_156 .tdm-social-item i{\\r\\n\\t\\t\\t\\t\\tfont-size: 14px;\\r\\n\\t\\t\\t\\t\\tvertical-align: middle;\\r\\n\\t\\t\\t\\t\\r\\n\\t\\t\\t\\t\\tline-height: 39.2px;\\r\\n\\t\\t\\t\\t}.tdi_156 .tdm-social-item i.td-icon-twitter,\\r\\n\\t\\t\\t\\t.tdi_156 .tdm-social-item i.td-icon-linkedin,\\r\\n\\t\\t\\t\\t.tdi_156 .tdm-social-item i.td-icon-pinterest,\\r\\n\\t\\t\\t\\t.tdi_156 .tdm-social-item i.td-icon-blogger,\\r\\n\\t\\t\\t\\t.tdi_156 .tdm-social-item i.td-icon-vimeo{\\r\\n\\t\\t\\t\\t\\tfont-size: 11.2px;\\r\\n\\t\\t\\t\\t}.tdi_156 .tdm-social-item{\\r\\n\\t\\t\\t\\t\\twidth: 39.2px;\\r\\n\\t\\t\\t\\t\\theight: 39.2px;\\r\\n\\t\\t\\t\\t\\r\\n\\t\\t\\t\\t    margin: 5px 10px 5px 0;\\r\\n\\t\\t\\t\\t\\r\\n\\t\\t\\t\\t\\tbackground: rgba(255,255,255,0.03);\\r\\n\\t\\t\\t\\t}.tdi_156 .tdm-social-item-wrap:last-child .tdm-social-item{\\r\\n\\t\\t\\t\\t    margin-right: 0 !important;\\r\\n\\t\\t\\t\\t}.tdi_156 .tdm-social-item i,\\r\\n\\t\\t\\t\\t.tds-team-member2 .tdi_156.tds-social4 .tdm-social-item i{\\r\\n\\t\\t\\t\\t\\tcolor: #ffffff;\\r\\n\\t\\t\\t\\t}.tdi_156 .tdm-social-item-wrap:hover i,\\r\\n\\t\\t\\t\\tbody .tds-team-member2 .tdi_156.tds-social4 .tdm-social-item-wrap:hover i{\\r\\n\\t\\t\\t\\t\\tcolor: #4db2ec;\\r\\n\\t\\t\\t\\t}body .tdi_156 .tdm-social-item{\\r\\n\\t\\t\\t\\t    border: 1px solid rgba(255,255,255,0.03);\\r\\n\\t\\t\\t\\t}.tdi_156 .tdm-social-text{\\r\\n\\t\\t\\t\\t\\tdisplay: none;\\r\\n\\t\\t\\t\\t\\r\\n\\t\\t\\t\\t\\tmargin-left: 2px;\\r\\n\\t\\t\\t\\t\\r\\n\\t\\t\\t\\t\\tmargin-right: 18px;\\r\\n\\t\\t\\t\\t}\\n\\n/* landscape */\\n@media (min-width: 1019px) and (max-width: 1140px){\\nbody .tdi_156 .tdm-social-item{\\r\\n\\t\\t\\t\\t    border: 1px solid rgba(255,255,255,0.03);\\r\\n\\t\\t\\t\\t}\\n}\\n\\n/* portrait */\\n@media (min-width: 768px) and (max-width: 1018px){\\n.tdi_156 .tdm-social-item{\\r\\n\\t\\t\\t\\t\\twidth: 35px;\\r\\n\\t\\t\\t\\t\\theight: 35px;\\r\\n\\t\\t\\t\\t}.tdi_156 .tdm-social-item i{\\r\\n\\t\\t\\t\\t\\tline-height: 35px;\\r\\n\\t\\t\\t\\t}body .tdi_156 .tdm-social-item{\\r\\n\\t\\t\\t\\t    border: 1px solid rgba(255,255,255,0.03);\\r\\n\\t\\t\\t\\t}\\n}\\n\\n/* phone */\\n@media (max-width: 767px){\\nbody .tdi_156 .tdm-social-item{\\r\\n\\t\\t\\t\\t    border: 1px solid rgba(255,255,255,0.03);\\r\\n\\t\\t\\t\\t}\\n}\\n</style><div class=\"tdm-social-wrapper tds-social4 tdi_156\"><div class=\"tdm-social-item-wrap\"><a href=\"https://www.facebook.com/blackcoffer.consulting\"  target=\"_blank\"  title=\"Facebook\" class=\"tdm-social-item\"><i class=\"td-icon-font td-icon-facebook\"></i></a><a href=\"https://www.facebook.com/blackcoffer.consulting\"  target=\"_blank\"  class=\"tdm-social-text\">Facebook</a></div><div class=\"tdm-social-item-wrap\"><a href=\"https://www.linkedin.com/company/blackcoffer\"  target=\"_blank\"  title=\"Linkedin\" class=\"tdm-social-item\"><i class=\"td-icon-font td-icon-linkedin\"></i></a><a href=\"https://www.linkedin.com/company/blackcoffer\"  target=\"_blank\"  class=\"tdm-social-text\">Linkedin</a></div><div class=\"tdm-social-item-wrap\"><a href=\"https://twitter.com/Blackcoffer1\"  target=\"_blank\"  title=\"Twitter\" class=\"tdm-social-item\"><i class=\"td-icon-font td-icon-twitter\"></i></a><a href=\"https://twitter.com/Blackcoffer1\"  target=\"_blank\"  class=\"tdm-social-text\">Twitter</a></div><div class=\"tdm-social-item-wrap\"><a href=\"https://www.youtube.com/channel/UCfr95TYacXeHI3cklmYdtXg\"  target=\"_blank\"  title=\"Youtube\" class=\"tdm-social-item\"><i class=\"td-icon-font td-icon-youtube\"></i></a><a href=\"https://www.youtube.com/channel/UCfr95TYacXeHI3cklmYdtXg\"  target=\"_blank\"  class=\"tdm-social-text\">Youtube</a></div></div></div></div></div></div></div></div></div></div></div><div id=\"tdi_157\" class=\"tdc-row stretch_row\"><div class=\"vc_row tdi_158  wpb_row td-pb-row tdc-element-style\" >\\n<style scoped>\\n\\n/* custom css */\\n.tdi_158,\\r\\n                .tdi_158 .tdc-columns{\\r\\n                    min-height: 0;\\r\\n                }.tdi_158,\\r\\n\\t\\t\\t\\t.tdi_158 .tdc-columns{\\r\\n\\t\\t\\t\\t    display: block;\\r\\n\\t\\t\\t\\t}.tdi_158 .tdc-columns{\\r\\n\\t\\t\\t\\t    width: 100%;\\r\\n\\t\\t\\t\\t}\\n/* inline tdc_css att */\\n\\n.tdi_158{\\nposition:relative;\\n}\\n\\n.tdi_158 .td_block_wrap{ text-align:left }\\n\\n/* phone */\\n@media (max-width: 767px)\\n{\\n.tdi_158{\\npadding-top:6px !important;\\npadding-bottom:6px !important;\\n}\\n}\\n\\n</style>\\n<div class=\"tdi_157_rand_style td-element-style\" ><style>\\n.tdi_157_rand_style{\\nbackground-color:#0d0d0d !important;\\n}\\n </style></div><div class=\"vc_column tdi_160  wpb_column vc_column_container tdc-column td-pb-span6\">\\n<style scoped>\\n\\n/* custom css */\\n.tdi_160{\\r\\n                    vertical-align: baseline;\\r\\n                }.tdi_160 > .wpb_wrapper,\\r\\n\\t\\t\\t\\t.tdi_160 > .wpb_wrapper > .tdc-elements{\\r\\n\\t\\t\\t\\t    display: block;\\r\\n\\t\\t\\t\\t}.tdi_160 > .wpb_wrapper > .tdc-elements{\\r\\n\\t\\t\\t\\t    width: 100%;\\r\\n\\t\\t\\t\\t}.tdi_160 > .wpb_wrapper > .vc_row_inner{\\r\\n\\t\\t\\t\\t    width: auto;\\r\\n\\t\\t\\t\\t}.tdi_160 > .wpb_wrapper{\\r\\n\\t\\t\\t\\t    width: auto;\\r\\n\\t\\t\\t\\t    height: auto;\\r\\n\\t\\t\\t\\t}\\n</style><div class=\"wpb_wrapper\" ><div class=\"tdm_block td_block_wrap tdm_block_inline_text tdi_161 td-pb-border-top td_block_template_1\"  data-td-block-uid=\"tdi_161\" >\\n<style>\\n\\n/* inline tdc_css att */\\n\\n.tdi_161{\\nmargin-top:2px !important;\\nmargin-bottom:0px !important;\\npadding-top:8px !important;\\npadding-bottom:8px !important;\\n}\\n\\n/* phone */\\n@media (max-width: 767px)\\n{\\n.tdi_161{\\nmargin-top:0px !important;\\njustify-content:center !important;\\ntext-align:center !important;\\n}\\n}\\n\\n</style>\\n<style>\\n/* custom css */\\n.tdi_161{\\r\\n                    text-align: left !important;\\r\\n                }.tdi_161 .tdm-descr{\\r\\n                    color: #cccccc;\\r\\n                \\r\\n\\t\\t\\t\\t\\tfont-size:12px !important;line-height:21px !important;\\r\\n\\t\\t\\t\\t}\\n</style><p class=\"tdm-descr\">&copy; All Right Reserved, Blackcoffer(OPC) Pvt. Ltd</p></div></div></div><div class=\"vc_column tdi_163  wpb_column vc_column_container tdc-column td-pb-span6\">\\n<style scoped>\\n\\n/* custom css */\\n.tdi_163{\\r\\n                    vertical-align: baseline;\\r\\n                }.tdi_163 > .wpb_wrapper,\\r\\n\\t\\t\\t\\t.tdi_163 > .wpb_wrapper > .tdc-elements{\\r\\n\\t\\t\\t\\t    display: block;\\r\\n\\t\\t\\t\\t}.tdi_163 > .wpb_wrapper > .tdc-elements{\\r\\n\\t\\t\\t\\t    width: 100%;\\r\\n\\t\\t\\t\\t}.tdi_163 > .wpb_wrapper > .vc_row_inner{\\r\\n\\t\\t\\t\\t    width: auto;\\r\\n\\t\\t\\t\\t}.tdi_163 > .wpb_wrapper{\\r\\n\\t\\t\\t\\t    width: auto;\\r\\n\\t\\t\\t\\t    height: auto;\\r\\n\\t\\t\\t\\t}\\n/* inline tdc_css att */\\n\\n.tdi_163{\\njustify-content:flex-end !important;\\ntext-align:right !important;\\n}\\n\\n/* phone */\\n@media (max-width: 767px)\\n{\\n.tdi_163{\\njustify-content:center !important;\\ntext-align:center !important;\\n}\\n}\\n\\n</style><div class=\"wpb_wrapper\" ><div class=\"td_block_wrap td_block_list_menu tdi_164 td-pb-border-top td_block_template_1 widget\"  data-td-block-uid=\"tdi_164\" >\\n<style>\\n\\n/* inline tdc_css att */\\n\\n.tdi_164{\\nmargin-bottom:0px !important;\\npadding-top:8px !important;\\npadding-bottom:8px !important;\\n}\\n\\n/* desktop */ @media(min-width: 1141px) { .tdi_164 { \\ndisplay:inline-table !important;\\n} }\\n\\n/* phone */\\n@media (max-width: 767px)\\n{\\n.tdi_164{\\nmargin-left:16px !important;\\njustify-content:center !important;\\ntext-align:center !important;\\ndisplay:inline-table !important;\\n}\\n}\\n\\n/* portrait */\\n@media (min-width: 768px) and (max-width: 1018px)\\n{\\n.tdi_164{\\ndisplay:inline-table !important;\\n}\\n}\\n\\n/* landscape */\\n@media (min-width: 1019px) and (max-width: 1140px)\\n{\\n.tdi_164{\\ndisplay:inline-table !important;\\n}\\n}\\n\\n</style>\\n<style>\\n/* custom css */\\n.td_block_list_menu ul{\\r\\n                  flex-wrap: wrap;\\r\\n                  margin-left: 12px;\\r\\n                }.td_block_list_menu ul li{\\r\\n                  margin-left: 0;\\r\\n                }.td_block_list_menu .sub-menu{\\r\\n                  padding-left: 22px;\\r\\n                }.td_block_list_menu .sub-menu li{\\r\\n                  font-size: 13px;\\r\\n                }.td_block_list_menu li.current-menu-item > a,\\r\\n\\t\\t\\t\\t.td_block_list_menu li.current-menu-ancestor > a,\\r\\n\\t\\t\\t\\t.td_block_list_menu li.current-category-ancestor > a{\\r\\n\\t\\t\\t\\t    color: #4db2ec;\\r\\n\\t\\t\\t\\t}.tdi_164 li{\\r\\n\\t\\t\\t\\t\\tdisplay: inline-block;\\r\\n\\t\\t\\t\\t\\r\\n\\t\\t\\t\\t\\tfont-size:12px !important;line-height:21px !important;\\r\\n\\t\\t\\t\\t}.tdi_164 .menu{\\r\\n\\t\\t\\t\\t\\tdisplay: flex;\\r\\n\\t\\t\\t\\t}.tdi_164 .sub-menu{\\r\\n\\t\\t\\t\\t\\tdisplay: none;\\r\\n\\t\\t\\t\\t}.tdi_164 ul{\\r\\n\\t\\t\\t\\t\\tmargin: 0px;\\r\\n\\t\\t\\t\\t\\r\\n\\t\\t\\t\\t\\ttext-align: left;\\r\\n\\t\\t\\t\\t\\tjustify-content: flex-start;\\r\\n\\t\\t\\t\\t}.tdi_164 ul li{\\r\\n\\t\\t\\t\\t\\tmargin-right: 16px;\\r\\n\\t\\t\\t\\t}.tdi_164 ul li:last-child{\\r\\n\\t\\t\\t\\t\\tmargin-right: 0;\\r\\n\\t\\t\\t\\t}.tdi_164 a{\\r\\n\\t\\t\\t\\t\\tcolor: #cccccc;\\r\\n\\t\\t\\t\\t}body .tdi_164 li.current-menu-item > a,\\r\\n\\t\\t\\t\\tbody .tdi_164 li.current-menu-ancestor > a,\\r\\n\\t\\t\\t\\tbody .tdi_164 li.current-category-ancestor > a,\\r\\n\\t\\t\\t\\tbody .tdi_164 a:hover{\\r\\n\\t\\t\\t\\t\\tcolor: #1aa4ce;\\r\\n\\t\\t\\t\\t}\\n</style><div class=\"td-block-title-wrap\"></div><div id=tdi_164 class=\"td_block_inner td-fix-index\"><div class=\"menu-main-2-container\"><ul id=\"menu-main-5\" class=\"menu\"><li class=\"menu-item menu-item-type-taxonomy menu-item-object-category menu-item-4058\"><a href=\"https://insights.blackcoffer.com/category/our-success-stories/\">Our Success Stories</a></li>\\n<li class=\"menu-item menu-item-type-taxonomy menu-item-object-category menu-item-4059\"><a href=\"https://insights.blackcoffer.com/category/our-solutions/\">What We Do</a></li>\\n<li class=\"menu-item menu-item-type-taxonomy menu-item-object-category current-post-ancestor current-menu-parent current-post-parent menu-item-4060\"><a href=\"https://insights.blackcoffer.com/category/what-we-think/\">What We Think</a></li>\\n<li class=\"menu-item menu-item-type-taxonomy menu-item-object-category menu-item-4061\"><a href=\"https://insights.blackcoffer.com/category/how-to/\">How To</a></li>\\n<li class=\"menu-item menu-item-type-custom menu-item-object-custom menu-item-4062\"><a target=\"_blank\" rel=\"noopener\" href=\"https://blackcoffer.com/get-blackcoffer-demo/\">Schedule Demo</a></li>\\n<li class=\"menu-item menu-item-type-post_type menu-item-object-page menu-item-4063\"><a href=\"https://insights.blackcoffer.com/contact/\">Contact</a></li>\\n</ul></div></div></div></div></div></div></div></div></div>        </div>\\r\\n\\r\\n    </div>\\r\\n    \\r\\n</div><!--close td-outer-wrap-->\\r\\n\\r\\n\\r\\n\\r\\n\\t\\t<script>\\r\\n\\t\\t\\twindow.RS_MODULES = window.RS_MODULES || {};\\r\\n\\t\\t\\twindow.RS_MODULES.modules = window.RS_MODULES.modules || {};\\r\\n\\t\\t\\twindow.RS_MODULES.waiting = window.RS_MODULES.waiting || [];\\r\\n\\t\\t\\twindow.RS_MODULES.defered = true;\\r\\n\\t\\t\\twindow.RS_MODULES.moduleWaiting = window.RS_MODULES.moduleWaiting || {};\\r\\n\\t\\t\\twindow.RS_MODULES.type = \\'compiled\\';\\r\\n\\t\\t</script>\\r\\n\\t\\t\\r\\n\\r\\n    <!--\\r\\n\\r\\n        Theme: Newspaper by tagDiv.com 2023\\r\\n        Version: 12.3 (rara)\\r\\n        Deploy mode: deploy\\r\\n        \\r\\n        uid: 64d1df027059a\\r\\n    -->\\r\\n\\r\\n    <link rel=\\'stylesheet\\' id=\\'rs-plugin-settings-css\\' href=\\'https://insights.blackcoffer.com/wp-content/plugins/public/assets/css/rs6.css?ver=6.6.10\\' type=\\'text/css\\' media=\\'all\\' />\\n<style id=\\'rs-plugin-settings-inline-css\\' type=\\'text/css\\'>\\n#rs-demo-id {}\\n</style>\\n<script type=\\'text/javascript\\' src=\\'https://insights.blackcoffer.com/wp-content/plugins/public/assets/js/rbtools.min.js?ver=6.6.10\\' defer async id=\\'tp-tools-js\\'></script>\\n<script type=\\'text/javascript\\' src=\\'https://insights.blackcoffer.com/wp-content/plugins/public/assets/js/rs6.min.js?ver=6.6.10\\' defer async id=\\'revmin-js\\'></script>\\n<script type=\\'text/javascript\\' src=\\'https://insights.blackcoffer.com/wp-includes/js/underscore.min.js?ver=1.13.4\\' id=\\'underscore-js\\'></script>\\n<script type=\\'text/javascript\\' src=\\'https://insights.blackcoffer.com/wp-content/plugins/td-cloud-library/assets/js/js_posts_autoload.min.js?ver=d72a7d54cd61ce0a128c0a91d76ef60a\\' id=\\'tdb_js_posts_autoload-js\\'></script>\\n<script type=\\'text/javascript\\' src=\\'https://insights.blackcoffer.com/wp-content/plugins/td-composer/legacy/Newspaper/js/tagdiv_theme.min.js?ver=12.3\\' id=\\'td-site-min-js\\'></script>\\n<script type=\\'text/javascript\\' src=\\'https://insights.blackcoffer.com/wp-includes/js/comment-reply.min.js?ver=6.1.3\\' id=\\'comment-reply-js\\'></script>\\n<script type=\\'text/javascript\\' id=\\'tds_js_files_for_front-js-extra\\'>\\n/* <![CDATA[ */\\nvar tds_js_globals = {\"wpRestNonce\":\"2278292f1c\",\"wpRestUrl\":\"https:\\\\/\\\\/insights.blackcoffer.com\\\\/wp-json\\\\/\",\"permalinkStructure\":\"\\\\/%postname%\\\\/\"};\\n/* ]]> */\\n</script>\\n<script type=\\'text/javascript\\' src=\\'https://insights.blackcoffer.com/wp-content/plugins/td-subscription/assets/js/js_files_for_front.min.js?ver=1.4.1\\' id=\\'tds_js_files_for_front-js\\'></script>\\n<script type=\\'text/javascript\\' src=\\'https://insights.blackcoffer.com/wp-content/plugins/td-cloud-library/assets/js/js_files_for_front.min.js?ver=d72a7d54cd61ce0a128c0a91d76ef60a\\' id=\\'tdb_js_files_for_front-js\\'></script>\\n\\n<!-- JS generated by theme -->\\n\\n<script>\\n    \\n\\n            \\r\\n                jQuery().ready(function () {\\r\\n\\r\\n                    var blockClass = \\'.tdi_29\\';\\r\\n\\r\\n                    jQuery(blockClass + \\'.tdb-horiz-menu-singleline > .menu-item-has-children a\\').click(function (e) {\\r\\n                        e.preventDefault();\\r\\n                    })\\r\\n\\r\\n                });\\r\\n            \\r\\n            \\n\\n            \\r\\n                /* global jQuery:{} */\\r\\n                jQuery(document).ready( function () {\\r\\n\\r\\n                    var tdbMenuItem = new tdbMenu.item();\\r\\n                    tdbMenuItem.blockUid = \\'tdi_48\\';\\r\\n                    tdbMenuItem.jqueryObj = jQuery(\\'.tdi_48\\');\\r\\n\\r\\n\\t                \\r\\n                    tdbMenuItem.isMegaMenuFull = true;\\r\\n\\r\\n\\t                \\r\\n\\t                \\r\\n\\t                \\r\\n                    tdbMenu.addItem(tdbMenuItem);\\r\\n\\r\\n                });\\r\\n            \\r\\n            \\n\\n        \\r\\n            jQuery().ready(function () {\\r\\n\\r\\n                var tdbSearchItem = new tdbSearch.item();\\r\\n\\r\\n                //block unique ID\\r\\n                tdbSearchItem.blockUid = \\'tdi_103\\';\\r\\n                tdbSearchItem.blockAtts = \\'{\"inline\":\"yes\",\"toggle_txt_pos\":\"after\",\"form_align\":\"content-horiz-right\",\"results_msg_align\":\"content-horiz-center\",\"image_floated\":\"float_left\",\"image_width\":\"30\",\"image_size\":\"td_324x400\",\"show_cat\":\"none\",\"show_btn\":\"none\",\"show_date\":\"\",\"show_review\":\"\",\"show_com\":\"none\",\"show_excerpt\":\"none\",\"show_author\":\"none\",\"art_title\":\"0 0 2px 0\",\"all_modules_space\":\"20\",\"tdicon\":\"td-icon-search\",\"icon_size\":\"eyJhbGwiOiIyMCIsInBvcnRyYWl0IjoiMTgifQ==\",\"tdc_css\":\"eyJhbGwiOnsiZGlzcGxheSI6IiJ9LCJwb3J0cmFpdCI6eyJtYXJnaW4tdG9wIjoiMSIsImRpc3BsYXkiOiIifSwicG9ydHJhaXRfbWF4X3dpZHRoIjoxMDE4LCJwb3J0cmFpdF9taW5fd2lkdGgiOjc2OH0=\",\"modules_on_row\":\"eyJhbGwiOiI1MCUiLCJwb3J0cmFpdCI6IjUwJSIsImxhbmRzY2FwZSI6IjUwJSJ9\",\"meta_info_horiz\":\"content-horiz-left\",\"form_width\":\"600\",\"input_border\":\"0 0 1px 0\",\"modules_divider\":\"\",\"form_padding\":\"eyJwb3J0cmFpdCI6IjIwcHggMjBweCAyMHB4IiwiYWxsIjoiMzBweCJ9\",\"arrow_color\":\"#ffffff\",\"btn_bg_h\":\"rgba(0,0,0,0)\",\"btn_tdicon\":\"td-icon-menu-right\",\"btn_icon_pos\":\"after\",\"btn_icon_size\":\"7\",\"btn_icon_space\":\"8\",\"f_title_font_family\":\"\",\"f_cat_font_family\":\"\",\"f_cat_font_transform\":\"uppercase\",\"f_title_font_weight\":\"\",\"f_title_font_transform\":\"\",\"f_title_font_size\":\"13\",\"title_txt_hover\":\"#4db2ec\",\"results_limit\":\"6\",\"float_block\":\"yes\",\"icon_color\":\"#000000\",\"results_border\":\"0 0 1px 0\",\"f_title_font_line_height\":\"1.4\",\"btn_color\":\"#000000\",\"btn_color_h\":\"#4db2ec\",\"all_underline_color\":\"\",\"results_msg_color_h\":\"#4db2ec\",\"image_height\":\"100\",\"meta_padding\":\"3px 0 0 16px\",\"modules_gap\":\"20\",\"mc1_tl\":\"12\",\"show_form\":\"yes\",\"f_meta_font_weight\":\"\",\"h_effect\":\"\",\"results_msg_padding\":\"10px 0\",\"f_results_msg_font_style\":\"normal\",\"video_icon\":\"24\",\"modules_divider_color\":\"\",\"modules_border_color\":\"\",\"btn_padding\":\"0\",\"form_border\":\"0\",\"form_shadow_shadow_offset_vertical\":\"3\",\"results_padding\":\"0 30px 30px\",\"btn_bg\":\"rgba(0,0,0,0)\",\"icon_padding\":\"eyJhbGwiOiIyLjMiLCJwb3J0cmFpdCI6IjIuNiJ9\",\"block_type\":\"tdb_header_search\",\"post_type\":\"\",\"disable_trigger\":\"\",\"show_results\":\"yes\",\"separator\":\"\",\"disable_live_search\":\"\",\"exclude_pages\":\"\",\"exclude_posts\":\"\",\"search_section_header\":\"\",\"results_section_1_title\":\"\",\"results_section_1_taxonomies\":\"\",\"results_section_1_level\":\"\",\"results_section_2_title\":\"\",\"results_section_2_taxonomies\":\"\",\"results_section_2_level\":\"\",\"results_section_3_title\":\"\",\"results_section_3_taxonomies\":\"\",\"results_section_3_level\":\"\",\"results_section_search_query_terms\":\"\",\"results_section_search_query_terms_title\":\"\",\"results_section_search_query_terms_taxonomies\":\"\",\"sec_title_space\":\"\",\"sec_title_color\":\"\",\"tax_space\":\"\",\"tax_title_color\":\"\",\"tax_title_color_h\":\"\",\"f_sec_title_font_header\":\"\",\"f_sec_title_font_title\":\"Section title text\",\"f_sec_title_font_settings\":\"\",\"f_sec_title_font_family\":\"\",\"f_sec_title_font_size\":\"\",\"f_sec_title_font_line_height\":\"\",\"f_sec_title_font_style\":\"\",\"f_sec_title_font_weight\":\"\",\"f_sec_title_font_transform\":\"\",\"f_sec_title_font_spacing\":\"\",\"f_sec_title_\":\"\",\"f_tax_title_font_title\":\"Taxonomy title text\",\"f_tax_title_font_settings\":\"\",\"f_tax_title_font_family\":\"\",\"f_tax_title_font_size\":\"\",\"f_tax_title_font_line_height\":\"\",\"f_tax_title_font_style\":\"\",\"f_tax_title_font_weight\":\"\",\"f_tax_title_font_transform\":\"\",\"f_tax_title_font_spacing\":\"\",\"f_tax_title_\":\"\",\"toggle_txt\":\"\",\"toggle_txt_align\":\"0\",\"toggle_txt_space\":\"\",\"toggle_horiz_align\":\"content-horiz-left\",\"form_offset\":\"\",\"form_offset_left\":\"\",\"form_content_width\":\"\",\"form_align_screen\":\"\",\"input_placeholder\":\"\",\"placeholder_travel\":\"0\",\"input_padding\":\"\",\"input_radius\":\"\",\"btn_text\":\"Search\",\"btn_icon_align\":\"0\",\"btn_margin\":\"\",\"btn_border\":\"\",\"btn_radius\":\"\",\"results_msg_border\":\"\",\"mc1_title_tag\":\"\",\"mc1_el\":\"\",\"m_padding\":\"\",\"modules_border_size\":\"\",\"modules_border_style\":\"\",\"image_alignment\":\"50\",\"image_radius\":\"\",\"hide_image\":\"\",\"show_vid_t\":\"block\",\"vid_t_margin\":\"\",\"vid_t_padding\":\"\",\"vid_t_color\":\"\",\"vid_t_bg_color\":\"\",\"f_vid_time_font_header\":\"\",\"f_vid_time_font_title\":\"Video duration text\",\"f_vid_time_font_settings\":\"\",\"f_vid_time_font_family\":\"\",\"f_vid_time_font_size\":\"\",\"f_vid_time_font_line_height\":\"\",\"f_vid_time_font_style\":\"\",\"f_vid_time_font_weight\":\"\",\"f_vid_time_font_transform\":\"\",\"f_vid_time_font_spacing\":\"\",\"f_vid_time_\":\"\",\"excl_show\":\"inline-block\",\"excl_txt\":\"\",\"excl_margin\":\"\",\"excl_padd\":\"\",\"all_excl_border\":\"\",\"all_excl_border_style\":\"solid\",\"excl_radius\":\"\",\"excl_color\":\"\",\"excl_color_h\":\"\",\"excl_bg\":\"\",\"excl_bg_h\":\"\",\"all_excl_border_color\":\"\",\"excl_border_color_h\":\"\",\"f_excl_font_header\":\"\",\"f_excl_font_title\":\"Label text\",\"f_excl_font_settings\":\"\",\"f_excl_font_family\":\"\",\"f_excl_font_size\":\"\",\"f_excl_font_line_height\":\"\",\"f_excl_font_style\":\"\",\"f_excl_font_weight\":\"\",\"f_excl_font_transform\":\"\",\"f_excl_font_spacing\":\"\",\"f_excl_\":\"\",\"meta_info_align\":\"\",\"meta_width\":\"\",\"meta_margin\":\"\",\"meta_info_border_size\":\"\",\"meta_info_border_style\":\"\",\"meta_info_border_color\":\"#eaeaea\",\"art_btn\":\"\",\"modules_category\":\"\",\"modules_category_margin\":\"\",\"modules_category_padding\":\"\",\"modules_cat_border\":\"\",\"modules_category_radius\":\"0\",\"modules_extra_cat\":\"\",\"author_photo\":\"\",\"author_photo_size\":\"\",\"author_photo_space\":\"\",\"author_photo_radius\":\"\",\"show_modified_date\":\"\",\"time_ago\":\"\",\"time_ago_add_txt\":\"ago\",\"time_ago_txt_pos\":\"\",\"review_space\":\"\",\"review_size\":\"2.5\",\"review_distance\":\"\",\"art_excerpt\":\"\",\"excerpt_col\":\"1\",\"excerpt_gap\":\"\",\"excerpt_middle\":\"\",\"btn_title\":\"\",\"btn_border_width\":\"\",\"form_general_bg\":\"\",\"icon_color_h\":\"\",\"toggle_txt_color\":\"\",\"toggle_txt_color_h\":\"\",\"f_toggle_txt_font_header\":\"\",\"f_toggle_txt_font_title\":\"Text\",\"f_toggle_txt_font_settings\":\"\",\"f_toggle_txt_font_family\":\"\",\"f_toggle_txt_font_size\":\"\",\"f_toggle_txt_font_line_height\":\"\",\"f_toggle_txt_font_style\":\"\",\"f_toggle_txt_font_weight\":\"\",\"f_toggle_txt_font_transform\":\"\",\"f_toggle_txt_font_spacing\":\"\",\"f_toggle_txt_\":\"\",\"form_bg\":\"\",\"form_border_color\":\"\",\"form_shadow_shadow_header\":\"\",\"form_shadow_shadow_title\":\"Shadow\",\"form_shadow_shadow_size\":\"\",\"form_shadow_shadow_offset_horizontal\":\"\",\"form_shadow_shadow_spread\":\"\",\"form_shadow_shadow_color\":\"\",\"input_color\":\"\",\"placeholder_color\":\"\",\"placeholder_opacity\":\"0\",\"input_bg\":\"\",\"input_border_color\":\"\",\"input_shadow_shadow_header\":\"\",\"input_shadow_shadow_title\":\"Input shadow\",\"input_shadow_shadow_size\":\"\",\"input_shadow_shadow_offset_horizontal\":\"\",\"input_shadow_shadow_offset_vertical\":\"\",\"input_shadow_shadow_spread\":\"\",\"input_shadow_shadow_color\":\"\",\"btn_icon_color\":\"\",\"btn_icon_color_h\":\"\",\"btn_border_color\":\"\",\"btn_border_color_h\":\"\",\"btn_shadow_shadow_header\":\"\",\"btn_shadow_shadow_title\":\"Button shadow\",\"btn_shadow_shadow_size\":\"\",\"btn_shadow_shadow_offset_horizontal\":\"\",\"btn_shadow_shadow_offset_vertical\":\"\",\"btn_shadow_shadow_spread\":\"\",\"btn_shadow_shadow_color\":\"\",\"f_input_font_header\":\"\",\"f_input_font_title\":\"Input text\",\"f_input_font_settings\":\"\",\"f_input_font_family\":\"\",\"f_input_font_size\":\"\",\"f_input_font_line_height\":\"\",\"f_input_font_style\":\"\",\"f_input_font_weight\":\"\",\"f_input_font_transform\":\"\",\"f_input_font_spacing\":\"\",\"f_input_\":\"\",\"f_placeholder_font_title\":\"Placeholder text\",\"f_placeholder_font_settings\":\"\",\"f_placeholder_font_family\":\"\",\"f_placeholder_font_size\":\"\",\"f_placeholder_font_line_height\":\"\",\"f_placeholder_font_style\":\"\",\"f_placeholder_font_weight\":\"\",\"f_placeholder_font_transform\":\"\",\"f_placeholder_font_spacing\":\"\",\"f_placeholder_\":\"\",\"f_btn_font_title\":\"Button text\",\"f_btn_font_settings\":\"\",\"f_btn_font_family\":\"\",\"f_btn_font_size\":\"\",\"f_btn_font_line_height\":\"\",\"f_btn_font_style\":\"\",\"f_btn_font_weight\":\"\",\"f_btn_font_transform\":\"\",\"f_btn_font_spacing\":\"\",\"f_btn_\":\"\",\"results_bg\":\"\",\"results_border_color\":\"\",\"results_msg_color\":\"\",\"results_msg_bg\":\"\",\"results_msg_border_color\":\"\",\"f_results_msg_font_header\":\"\",\"f_results_msg_font_title\":\"Text\",\"f_results_msg_font_settings\":\"\",\"f_results_msg_font_family\":\"\",\"f_results_msg_font_size\":\"\",\"f_results_msg_font_line_height\":\"\",\"f_results_msg_font_weight\":\"\",\"f_results_msg_font_transform\":\"\",\"f_results_msg_font_spacing\":\"\",\"f_results_msg_\":\"\",\"m_bg\":\"\",\"color_overlay\":\"\",\"shadow_module_shadow_header\":\"\",\"shadow_module_shadow_title\":\"Module Shadow\",\"shadow_module_shadow_size\":\"\",\"shadow_module_shadow_offset_horizontal\":\"\",\"shadow_module_shadow_offset_vertical\":\"\",\"shadow_module_shadow_spread\":\"\",\"shadow_module_shadow_color\":\"\",\"title_txt\":\"\",\"all_underline_height\":\"\",\"cat_bg\":\"\",\"cat_bg_hover\":\"\",\"cat_txt\":\"\",\"cat_txt_hover\":\"\",\"cat_border\":\"\",\"cat_border_hover\":\"\",\"meta_bg\":\"\",\"author_txt\":\"\",\"author_txt_hover\":\"\",\"date_txt\":\"\",\"ex_txt\":\"\",\"com_bg\":\"\",\"com_txt\":\"\",\"rev_txt\":\"\",\"shadow_meta_shadow_header\":\"\",\"shadow_meta_shadow_title\":\"Meta info shadow\",\"shadow_meta_shadow_size\":\"\",\"shadow_meta_shadow_offset_horizontal\":\"\",\"shadow_meta_shadow_offset_vertical\":\"\",\"shadow_meta_shadow_spread\":\"\",\"shadow_meta_shadow_color\":\"\",\"btn_bg_hover\":\"\",\"btn_txt\":\"\",\"btn_txt_hover\":\"\",\"btn_border_hover\":\"\",\"f_title_font_header\":\"\",\"f_title_font_title\":\"Article title\",\"f_title_font_settings\":\"\",\"f_title_font_style\":\"\",\"f_title_font_spacing\":\"\",\"f_title_\":\"\",\"f_cat_font_title\":\"Article category tag\",\"f_cat_font_settings\":\"\",\"f_cat_font_size\":\"\",\"f_cat_font_line_height\":\"\",\"f_cat_font_style\":\"\",\"f_cat_font_weight\":\"\",\"f_cat_font_spacing\":\"\",\"f_cat_\":\"\",\"f_meta_font_title\":\"Article meta info\",\"f_meta_font_settings\":\"\",\"f_meta_font_family\":\"\",\"f_meta_font_size\":\"\",\"f_meta_font_line_height\":\"\",\"f_meta_font_style\":\"\",\"f_meta_font_transform\":\"\",\"f_meta_font_spacing\":\"\",\"f_meta_\":\"\",\"f_ex_font_title\":\"Article excerpt\",\"f_ex_font_settings\":\"\",\"f_ex_font_family\":\"\",\"f_ex_font_size\":\"\",\"f_ex_font_line_height\":\"\",\"f_ex_font_style\":\"\",\"f_ex_font_weight\":\"\",\"f_ex_font_transform\":\"\",\"f_ex_font_spacing\":\"\",\"f_ex_\":\"\",\"el_class\":\"\",\"block_template_id\":\"\",\"td_column_number\":3,\"header_color\":\"\",\"ajax_pagination_infinite_stop\":\"\",\"offset\":\"\",\"limit\":\"5\",\"td_ajax_preloading\":\"\",\"td_ajax_filter_type\":\"\",\"td_filter_default_txt\":\"\",\"td_ajax_filter_ids\":\"\",\"color_preset\":\"\",\"ajax_pagination\":\"\",\"ajax_pagination_next_prev_swipe\":\"\",\"border_top\":\"\",\"css\":\"\",\"class\":\"tdi_103\",\"tdc_css_class\":\"tdi_103\",\"tdc_css_class_style\":\"tdi_103_rand_style\"}\\';\\r\\n                tdbSearchItem.jqueryObj = jQuery(\\'.tdi_103\\');\\r\\n                tdbSearchItem._openSearchFormClass = \\'tdb-drop-down-search-open\\';\\r\\n                tdbSearchItem._resultsLimit = \\'6\\';\\r\\n\\r\\n                \\r\\n\\t            \\r\\n                \\r\\n                tdbSearch.addItem( tdbSearchItem );\\r\\n\\r\\n            });\\r\\n        \\r\\n        \\njQuery(window).ready(function() {\\r\\n(function(){\\r\\nvar td_backstr_item = new tdBackstr.item();\\r\\ntd_backstr_item.wrapper_image_jquery_obj = jQuery( \"#td-full-screen-header-image\" );\\r\\ntd_backstr_item.image_jquery_obj = td_backstr_item.wrapper_image_jquery_obj.find( \\'img:first\\' );\\r\\ntdBackstr.add_item( td_backstr_item );\\r\\njQuery(\\'.td-read-down a\\').click(function(event){\\r\\nevent.preventDefault();\\r\\nvar header_wrap = jQuery( \\'.td-full-screen-header-image-wrap:first\\' )\\r\\nif ( 1 === header_wrap.length ) {\\r\\ntdUtil.scrollToPosition(header_wrap.height() + header_wrap.offset().top, 1200);\\r\\n}\\r\\n});\\r\\n})();\\r\\n});\\n</script>\\n\\n\\r\\n</body>\\r\\n</html>'"
      ]
     },
     "execution_count": 5,
     "metadata": {},
     "output_type": "execute_result"
    }
   ],
   "source": [
    "data= requests.get(url)\n",
    "data.content"
   ]
  },
  {
   "cell_type": "code",
   "execution_count": 6,
   "id": "31f87863",
   "metadata": {},
   "outputs": [],
   "source": [
    "soup= BeautifulSoup(data.content, 'html.parser')"
   ]
  },
  {
   "cell_type": "code",
   "execution_count": 7,
   "id": "42a5ceae",
   "metadata": {},
   "outputs": [],
   "source": [
    "blog_articles = [{'blog_headline': headline.find('h1', attrs={'class':'entry-title'}).string,\n",
    "                  'blog_article': article.find('div', attrs={'class': 'td-post-content tagdiv-type'}).text} \n",
    "                 for headline, article in zip(soup.find_all('div', class_ = ['td-container td-post-header']), \n",
    "                                              soup.find_all('div', class_=['td-ss-main-content']))]"
   ]
  },
  {
   "cell_type": "code",
   "execution_count": 8,
   "id": "62222e96",
   "metadata": {},
   "outputs": [
    {
     "data": {
      "text/plain": [
       "[{'blog_headline': 'Rise of telemedicine and its Impact on Livelihood by 2040',\n",
       "  'blog_article': '\\nTelemedicine, the use of technology to diagnose and treat patients remotely, has been rising in recent years. With the advent of high-speed internet and improved video conferencing tools, healthcare providers are increasingly turning to telemedicine to provide care to patients in remote or underserved areas.\\nTelemedicine, using technology to provide healthcare services remotely, has recently gained popularity. With advancements in communication and medical technology, it has become increasingly possible for doctors and patients to connect and interact from anywhere in the world. This has led to the rise of telemedicine, which has the potential to revolutionize the way healthcare is delivered.#Telemedicine\\nThe increasing focus on preventative healthcare has also driven the rise of telemedicine. As more and more people become aware of the importance of staying healthy, they are looking for ways to prevent illness and maintain their health. Telemedicine allows people to monitor their health and get advice from healthcare providers without traveling to a clinic or hospital.\\nImproved access to healthcare: One of the biggest challenges in the healthcare industry is the unequal distribution of medical resources, with many remote and rural areas lacking access to quality care. Telemedicine can help bridge this gap by allowing patients in these underserved areas to connect with healthcare providers worldwide. This can give people access to specialized medical care that they would otherwise not be able to receive, improving their health and overall well-being.#Healthcare\\nGreater convenience and flexibility: Telemedicine also offers a level of convenience and flexibility that is impossible with traditional in-person medical visits. Patients can consult with their healthcare providers from the comfort of their own homes, saving time and money on travel. This is particularly beneficial for individuals who have mobility issues or who live in areas with limited access to medical facilities.\\nReduced healthcare costs: By enabling patients to receive care remotely, telemedicine can help reduce the overall cost of healthcare. This is because telemedicine visits are generally less expensive than in-person visits and can help prevent the need for more costly interventions, such as hospitalizations. As a result, telemedicine has the potential to make healthcare more affordable for patients and healthcare providers alike.#Costs\\nEnhanced healthcare outcomes: Telemedicine can also improve patients’ quality of care. By allowing healthcare providers to access medical records and other important information remotely, telemedicine can help ensure that patients receive the most appropriate care for their needs. This can lead to better health outcomes and a higher quality of life for patients.#Enhanced\\nMore significant job opportunities in the healthcare industry like healthcare sector, including for healthcare providers, support staff, and technology experts. This can provide a boost to local economies and help to reduce unemployment.#Jobs\\nBetter care for chronic conditions: Telemedicine can help patients with chronic conditions to manage their health more effectively, allowing them to receive regular check-ups and treatment without the need to travel long distances. This can improve the quality of life for these individuals and reduce the risk of complications from their conditions.\\nIncreased flexibility for patients and healthcare providers: Telemedicine allows patients and providers to schedule consultations at times convenient for them, improving the overall flexibility of the healthcare system. This can help to reduce wait times and improve patient satisfaction.\\nIncreased accessibility: Telemedicine makes healthcare more accessible to people living in rural and remote areas, who may not have easy access to medical facilities. With telemedicine, patients can consult with doctors and specialists from their homes using their phones, computers, or other devices. This means that more people will be able to get the medical care they need, regardless of where they live.\\nReduced costs: One of the most significant benefits of telemedicine is that it can reduce healthcare costs. Patients can avoid the costs of travel, accommodation, and time off work associated with in-person visits to the doctor. Telemedicine can also help reduce the cost of medical procedures, as doctors can remotely monitor patients and provide care without needing hospitalization.\\nImproved health outcomes: By providing patients with access to medical care from the comfort of their own homes, telemedicine can help improve their health outcomes. For example, patients with chronic conditions can use telemedicine to manage their symptoms and reduce the risk of complications. Telemedicine can also help prevent the spread of infectious diseases, as patients can receive care without contacting other people.\\nIncreased convenience: Telemedicine offers a more convenient option for patients who need medical care. With telemedicine, patients can schedule appointments and consult with doctors at a convenient time without having to take time off work or arrange transportation. This can be especially beneficial for people with busy schedules or mobility issues.\\nTelemedicine, or the use of electronic communication and information technologies to provide healthcare services remotely, has the potential to significantly impact the way we receive and deliver medical care. In the next 20 years, telemedicine will likely become an increasingly important part of our healthcare system, providing numerous benefits and improving the livelihood of many people.\\nThe benefits of telemedicine are numerous. For patients, it provides convenient access to medical care without traveling long distances. It also allows for faster diagnosis and treatment and improved continuity of care. For healthcare providers, telemedicine can reduce the strain on already-overburdened healthcare systems and make providing care to patients in remote areas more accessible.\\nThe rise of telemedicine will likely significantly impact how we receive medical care in the future. By 2040, it is estimated that telemedicine will be a standard part of the healthcare landscape, with more and more doctors using it to diagnose and treat patients remotely.\\nOne of the key drivers of the rise of telemedicine has been the increasing availability of high-speed internet and improved video conferencing tools. In the past, the video and audio quality of telemedicine consultations were often poor, making it difficult for doctors to diagnose and treat patients accurately. However, with faster internet speeds and better video conferencing tools, telemedicine consultations are just as good as in-person visits.\\nTelemedicine makes healthcare more accessible. With telemedicine, patients no longer travel long distances to see a doctor or specialist. Instead, they can receive care from the comfort of their own home. This is particularly beneficial for people living in rural areas, where access to healthcare can be limited.\\nAnother factor contributing to the rise of telemedicine is the increasing demand for healthcare services. With the global population growing and people living longer, the need for medical care will only continue to increase. Telemedicine offers a way for healthcare providers to meet this demand by allowing them to provide care to more patients in a shorter amount of time.\\nAnother substantial impact of telemedicine is that it can improve patient quality of care. By using technology to connect patients with doctors, telemedicine can help ensure patients receive the best care possible. For example, a doctor can use video conferencing to consult with a specialist or use remote monitoring devices to track a patient’s vital signs. This can help doctors make more informed decisions and provide better treatment.\\nTelemedicine also has the potential to reduce healthcare costs. By allowing patients to receive care from their homes, telemedicine can reduce the need for expensive hospital visits. In addition, telemedicine can help prevent the spread of infectious diseases, reducing healthcare costs by avoiding hospitalization.\\nOne of the critical impacts of telemedicine is that it can improve the patient experience. By providing patients with the ability to receive care from the comfort of their own homes, telemedicine can help reduce anxiety and stress. In addition, telemedicine can make it easier for patients to communicate with their doctors and get the answers they need.\\nAnother way in which telemedicine will impact people’s livelihoods is by making healthcare more efficient. By allowing doctors to diagnose and treat patients remotely, telemedicine will help reduce the time patients spend waiting to see a doctor. It will also help reduce doctors’ spending on administrative tasks, freeing them up to see more patients and provide better care.\\nOne major factor driving the rise of telemedicine is the increasing use of technology in healthcare. With advances in communication and medical technology, it is now possible for doctors and other healthcare providers to remotely diagnose and treat patients using video conferencing, remote monitoring, and other forms of telemedicine. This not only allows for more efficient and convenient healthcare delivery but also enables healthcare providers to offer specialized care to patients who otherwise may not have access to it.\\nAnother factor contributing to the rise of telemedicine is the need for improved access to healthcare. Patients may travel long distances in many rural and underserved areas; patients may travel long distances to access medical care. Telemedicine can bridge this gap by allowing patients in these areas to consult with healthcare providers remotely. This not only improves access to healthcare but also reduces the need for patients to travel long distances, saving them time and money.\\nFinally, telemedicine’s rise is also driven by the growing trend of remote work. As more and more people work from home or other remote locations, the need for convenient and accessible healthcare is increasing. Telemedicine allows employees to consult with healthcare providers from their homes, reducing the need for them to take time off work to visit a doctor or other healthcare provider.\\nOverall, the rise of telemedicine by 2040 is a result of a combination of factors, including the increasing use of technology in healthcare, the need for improved access to healthcare, and the growing trend of remote work. As these factors continue to evolve, likely, telemedicine will likely become an increasingly important part of the healthcare landscape.\\nHowever, the rise of telemedicine is also likely to present some challenges. For example, telemedicine consultations may only be suitable for some medical conditions, and some patients may still need to see a doctor. Additionally, telemedicine may put some jobs at risk, such as receptionists and other administrative staff in healthcare facilities.\\nBlackcoffer Insights 46: G.K.Harish Balaji, Indian Institute of Technology,Madras\\n'}]"
      ]
     },
     "execution_count": 8,
     "metadata": {},
     "output_type": "execute_result"
    }
   ],
   "source": [
    "article.extend(blog_articles)\n",
    "article"
   ]
  },
  {
   "cell_type": "code",
   "execution_count": 9,
   "id": "3dc030d2",
   "metadata": {},
   "outputs": [
    {
     "data": {
      "text/html": [
       "<div>\n",
       "<style scoped>\n",
       "    .dataframe tbody tr th:only-of-type {\n",
       "        vertical-align: middle;\n",
       "    }\n",
       "\n",
       "    .dataframe tbody tr th {\n",
       "        vertical-align: top;\n",
       "    }\n",
       "\n",
       "    .dataframe thead th {\n",
       "        text-align: right;\n",
       "    }\n",
       "</style>\n",
       "<table border=\"1\" class=\"dataframe\">\n",
       "  <thead>\n",
       "    <tr style=\"text-align: right;\">\n",
       "      <th></th>\n",
       "      <th>blog_headline</th>\n",
       "      <th>blog_article</th>\n",
       "    </tr>\n",
       "  </thead>\n",
       "  <tbody>\n",
       "    <tr>\n",
       "      <th>0</th>\n",
       "      <td>Rise of telemedicine and its Impact on Livelih...</td>\n",
       "      <td>\\nTelemedicine, the use of technology to diagn...</td>\n",
       "    </tr>\n",
       "  </tbody>\n",
       "</table>\n",
       "</div>"
      ],
      "text/plain": [
       "                                       blog_headline  \\\n",
       "0  Rise of telemedicine and its Impact on Livelih...   \n",
       "\n",
       "                                        blog_article  \n",
       "0  \\nTelemedicine, the use of technology to diagn...  "
      ]
     },
     "execution_count": 9,
     "metadata": {},
     "output_type": "execute_result"
    }
   ],
   "source": [
    "df= pd.DataFrame(article)\n",
    "df"
   ]
  },
  {
   "cell_type": "code",
   "execution_count": 10,
   "id": "a233c42c",
   "metadata": {},
   "outputs": [],
   "source": [
    "df[['blog_article']].to_string('123.txt', index=False)"
   ]
  },
  {
   "cell_type": "markdown",
   "id": "ba358941",
   "metadata": {},
   "source": [
    "## Removing Special Characters and Stopwords"
   ]
  },
  {
   "cell_type": "code",
   "execution_count": 11,
   "id": "678749b4",
   "metadata": {},
   "outputs": [],
   "source": [
    "StopWords_Auditor= open(r'D:\\PGP- DSE\\NLP\\Blackcoffer\\StopWords\\StopWords_Auditor.txt','r').readlines()\n",
    "StopWords_Currencies= open(r'D:\\PGP- DSE\\NLP\\Blackcoffer\\StopWords\\StopWords_Currencies.txt','r').readlines()\n",
    "StopWords_DatesandNumbers = open(r'D:\\PGP- DSE\\NLP\\Blackcoffer\\StopWords\\StopWords_DatesandNumbers.txt','r').readlines()\n",
    "StopWords_Generic= open(r'D:\\PGP- DSE\\NLP\\Blackcoffer\\StopWords\\StopWords_Generic.txt','r').readlines()\n",
    "StopWords_GenericLong= open(r'D:\\PGP- DSE\\NLP\\Blackcoffer\\StopWords\\StopWords_GenericLong.txt','r').readlines()"
   ]
  },
  {
   "cell_type": "code",
   "execution_count": 12,
   "id": "887338a1",
   "metadata": {},
   "outputs": [],
   "source": [
    "import nltk\n",
    "from nltk.tokenize.toktok import ToktokTokenizer\n",
    "import re"
   ]
  },
  {
   "cell_type": "code",
   "execution_count": 13,
   "id": "a043d6d7",
   "metadata": {},
   "outputs": [],
   "source": [
    "tokenizer = ToktokTokenizer()\n",
    "stopword_list = StopWords_Auditor+StopWords_Currencies+StopWords_DatesandNumbers+StopWords_Generic+StopWords_GenericLong\n",
    "stopword_list= [i.rstrip('\\n') for i in stopword_list]"
   ]
  },
  {
   "cell_type": "code",
   "execution_count": 14,
   "id": "3eb92872",
   "metadata": {},
   "outputs": [],
   "source": [
    "def remove_special_characters(text, remove_digits=False):\n",
    "    pattern = r'[^a-zA-z0-9\\s]' if not remove_digits else r'[^a-zA-z\\s]'\n",
    "    text = re.sub(pattern, '', text)\n",
    "    return text"
   ]
  },
  {
   "cell_type": "code",
   "execution_count": 15,
   "id": "d735835c",
   "metadata": {},
   "outputs": [],
   "source": [
    "def remove_stopwords(text, is_lower_case=False):\n",
    "    tokens = tokenizer.tokenize(text)\n",
    "    tokens = [token.strip() for token in tokens]\n",
    "    filtered_tokens = [token for token in tokens if token not in stopword_list]\n",
    "    filtered_text = ' '.join(filtered_tokens)    \n",
    "    return filtered_text"
   ]
  },
  {
   "cell_type": "code",
   "execution_count": 16,
   "id": "ec969f05",
   "metadata": {},
   "outputs": [],
   "source": [
    "def normalize_corpus(corpus, text_lower_case=True, \n",
    "                     special_char_removal=True, stopword_removal=True, remove_digits=True):\n",
    "    \n",
    "    normalized_corpus = []\n",
    "    for doc in corpus:\n",
    "        if special_char_removal:    \n",
    "            special_char_pattern = re.compile(r'([{.(-)!}])')\n",
    "            doc = special_char_pattern.sub(\" \\\\1 \", doc)\n",
    "            doc = remove_special_characters(doc, remove_digits=remove_digits)  \n",
    "        doc = re.sub(' +', ' ', doc)\n",
    "        if stopword_removal:\n",
    "            doc = remove_stopwords(doc, is_lower_case=text_lower_case)\n",
    "        if text_lower_case:\n",
    "            doc = doc.lower()\n",
    "            \n",
    "        normalized_corpus.append(doc)\n",
    "        \n",
    "    return normalized_corpus"
   ]
  },
  {
   "cell_type": "code",
   "execution_count": 17,
   "id": "d50acde9",
   "metadata": {},
   "outputs": [],
   "source": [
    "df['blog_article_cleaned']= normalize_corpus(df['blog_article'])"
   ]
  },
  {
   "cell_type": "markdown",
   "id": "e01eeb78",
   "metadata": {},
   "source": [
    "## Creating Dictionary"
   ]
  },
  {
   "cell_type": "code",
   "execution_count": 18,
   "id": "45638606",
   "metadata": {},
   "outputs": [],
   "source": [
    "pos= open(r'D:\\PGP- DSE\\NLP\\Blackcoffer\\MasterDictionary\\positive-words.txt','r').readlines()\n",
    "pos= [i.rstrip('\\n') for i in pos]\n",
    "pos= [i if i not in stopword_list else pos.remove(i) for i in pos]\n",
    "\n",
    "neg= open(r'D:\\PGP- DSE\\NLP\\Blackcoffer\\MasterDictionary\\negative-words.txt','r').readlines()\n",
    "neg= [i.rstrip('\\n') for i in neg]\n",
    "neg= [i if i not in stopword_list else neg.remove(i) for i in neg]"
   ]
  },
  {
   "cell_type": "markdown",
   "id": "4c9884c7",
   "metadata": {},
   "source": [
    "## Calculating Derived Variables"
   ]
  },
  {
   "cell_type": "markdown",
   "id": "fafbfe34",
   "metadata": {},
   "source": [
    "## Word Count"
   ]
  },
  {
   "cell_type": "code",
   "execution_count": 19,
   "id": "0f031a31",
   "metadata": {},
   "outputs": [
    {
     "data": {
      "text/plain": [
       "918"
      ]
     },
     "execution_count": 19,
     "metadata": {},
     "output_type": "execute_result"
    }
   ],
   "source": [
    "word_count= len(str(df['blog_article_cleaned'].values).split(' '))\n",
    "word_count"
   ]
  },
  {
   "cell_type": "code",
   "execution_count": 20,
   "id": "825abc81",
   "metadata": {},
   "outputs": [
    {
     "data": {
      "text/plain": [
       "1634"
      ]
     },
     "execution_count": 20,
     "metadata": {},
     "output_type": "execute_result"
    }
   ],
   "source": [
    "total_words_before= len(str(df['blog_article'].values).split(' '))\n",
    "total_words_before"
   ]
  },
  {
   "cell_type": "code",
   "execution_count": 21,
   "id": "959cbfe7",
   "metadata": {},
   "outputs": [],
   "source": [
    "tokens = tokenizer.tokenize(df['blog_article_cleaned'].values[0])\n",
    "tokens = [token.strip() for token in tokens]"
   ]
  },
  {
   "cell_type": "code",
   "execution_count": 22,
   "id": "8acab609",
   "metadata": {},
   "outputs": [
    {
     "data": {
      "text/plain": [
       "80"
      ]
     },
     "execution_count": 22,
     "metadata": {},
     "output_type": "execute_result"
    }
   ],
   "source": [
    "pos_score= sum([1 if i in pos else 0 for i in tokens])\n",
    "pos_score"
   ]
  },
  {
   "cell_type": "code",
   "execution_count": 23,
   "id": "71fe2732",
   "metadata": {},
   "outputs": [
    {
     "data": {
      "text/plain": [
       "24"
      ]
     },
     "execution_count": 23,
     "metadata": {},
     "output_type": "execute_result"
    }
   ],
   "source": [
    "neg_score= sum([-1 if i in neg else 0 for i in tokens])*-1\n",
    "neg_score"
   ]
  },
  {
   "cell_type": "code",
   "execution_count": 24,
   "id": "26843377",
   "metadata": {},
   "outputs": [
    {
     "data": {
      "text/plain": [
       "0.5384615332840237"
      ]
     },
     "execution_count": 24,
     "metadata": {},
     "output_type": "execute_result"
    }
   ],
   "source": [
    "polarity_score= (pos_score-neg_score)/((pos_score+neg_score) + 0.000001)\n",
    "polarity_score"
   ]
  },
  {
   "cell_type": "code",
   "execution_count": 25,
   "id": "ebf0e791",
   "metadata": {},
   "outputs": [
    {
     "data": {
      "text/plain": [
       "0.11328976022517455"
      ]
     },
     "execution_count": 25,
     "metadata": {},
     "output_type": "execute_result"
    }
   ],
   "source": [
    "subj_score= (pos_score+neg_score)/((word_count) + 0.000001)\n",
    "subj_score"
   ]
  },
  {
   "cell_type": "markdown",
   "id": "80e68528",
   "metadata": {},
   "source": [
    "## Analysis of readibility"
   ]
  },
  {
   "cell_type": "code",
   "execution_count": 26,
   "id": "ae414895",
   "metadata": {},
   "outputs": [
    {
     "data": {
      "text/plain": [
       "18.7816091954023"
      ]
     },
     "execution_count": 26,
     "metadata": {},
     "output_type": "execute_result"
    }
   ],
   "source": [
    "num_of_sen= len(str(df['blog_article'].values).split('.'))\n",
    "avg_sen_len= total_words_before/ num_of_sen\n",
    "avg_sen_len"
   ]
  },
  {
   "cell_type": "markdown",
   "id": "f4e9d496",
   "metadata": {},
   "source": [
    "#### Let's create a function to count the number of complex words"
   ]
  },
  {
   "cell_type": "code",
   "execution_count": 27,
   "id": "0198d285",
   "metadata": {},
   "outputs": [],
   "source": [
    "def count_complex_words(text, num_vowels):\n",
    "    def count_vowels(word):\n",
    "        vowels = \"AEIOUaeiou\"\n",
    "        return sum(1 for letter in word if letter in vowels)\n",
    "    \n",
    "    words = text.split()\n",
    "    complex_word_count = 0\n",
    "    \n",
    "    for word in words:\n",
    "        if count_vowels(word) > num_vowels:\n",
    "            complex_word_count += 1\n",
    "            \n",
    "    return complex_word_count"
   ]
  },
  {
   "cell_type": "code",
   "execution_count": 28,
   "id": "46fe8159",
   "metadata": {},
   "outputs": [
    {
     "data": {
      "text/plain": [
       "597"
      ]
     },
     "execution_count": 28,
     "metadata": {},
     "output_type": "execute_result"
    }
   ],
   "source": [
    "num_complex_words= count_complex_words(df['blog_article'].values[0],2)\n",
    "num_complex_words"
   ]
  },
  {
   "cell_type": "code",
   "execution_count": 29,
   "id": "dd83ddc4",
   "metadata": {},
   "outputs": [
    {
     "data": {
      "text/plain": [
       "36.536107711138314"
      ]
     },
     "execution_count": 29,
     "metadata": {},
     "output_type": "execute_result"
    }
   ],
   "source": [
    "percent_complex_words= (num_complex_words/ total_words_before)*100\n",
    "percent_complex_words"
   ]
  },
  {
   "cell_type": "code",
   "execution_count": 30,
   "id": "8e8798d4",
   "metadata": {},
   "outputs": [
    {
     "data": {
      "text/plain": [
       "253.41444308445534"
      ]
     },
     "execution_count": 30,
     "metadata": {},
     "output_type": "execute_result"
    }
   ],
   "source": [
    "fog_index= 0.4*(num_complex_words+percent_complex_words)\n",
    "fog_index"
   ]
  },
  {
   "cell_type": "markdown",
   "id": "96ac1a4a",
   "metadata": {},
   "source": [
    "## Average number of words per sentence"
   ]
  },
  {
   "cell_type": "code",
   "execution_count": 31,
   "id": "ada50872",
   "metadata": {},
   "outputs": [
    {
     "data": {
      "text/plain": [
       "18.7816091954023"
      ]
     },
     "execution_count": 31,
     "metadata": {},
     "output_type": "execute_result"
    }
   ],
   "source": [
    "avg_sen_len"
   ]
  },
  {
   "cell_type": "markdown",
   "id": "bb1a3251",
   "metadata": {},
   "source": [
    "## Complex Word Count"
   ]
  },
  {
   "cell_type": "code",
   "execution_count": 32,
   "id": "0ff72f85",
   "metadata": {},
   "outputs": [
    {
     "data": {
      "text/plain": [
       "597"
      ]
     },
     "execution_count": 32,
     "metadata": {},
     "output_type": "execute_result"
    }
   ],
   "source": [
    "num_complex_words"
   ]
  },
  {
   "cell_type": "markdown",
   "id": "6e9d0f93",
   "metadata": {},
   "source": [
    "## Syllable count per word"
   ]
  },
  {
   "cell_type": "code",
   "execution_count": 33,
   "id": "078ba709",
   "metadata": {},
   "outputs": [
    {
     "data": {
      "text/plain": [
       "3704"
      ]
     },
     "execution_count": 33,
     "metadata": {},
     "output_type": "execute_result"
    }
   ],
   "source": [
    "syll_count= sum(1 for k in [i for i in df['blog_article'].values[0] if i in 'AEIOUaeiou' and (i[-1:-3]!='es' or i[-1:-3]!='ed')])\n",
    "syll_count"
   ]
  },
  {
   "cell_type": "markdown",
   "id": "9b1e52a1",
   "metadata": {},
   "source": [
    "#### Let's create a function to count the number of syllables"
   ]
  },
  {
   "cell_type": "code",
   "execution_count": 34,
   "id": "6ba03d19",
   "metadata": {},
   "outputs": [],
   "source": [
    "def syllable_count(text):\n",
    "    words= text.split()\n",
    "    total_words= len(words)\n",
    "    vowels= 'AEIOUaeiou'\n",
    "    syll_count= 0\n",
    "    for word in words:\n",
    "        if word!= word.endswith('es') or word!= word.endswith('ed'):\n",
    "            for i in word:\n",
    "                if i in vowels:\n",
    "                    syll_count= syll_count+1\n",
    "    return syll_count             "
   ]
  },
  {
   "cell_type": "code",
   "execution_count": 35,
   "id": "4bcadc59",
   "metadata": {},
   "outputs": [
    {
     "data": {
      "text/plain": [
       "3704"
      ]
     },
     "execution_count": 35,
     "metadata": {},
     "output_type": "execute_result"
    }
   ],
   "source": [
    "syllable_count(df['blog_article'].values[0])"
   ]
  },
  {
   "cell_type": "code",
   "execution_count": 36,
   "id": "a6198ada",
   "metadata": {},
   "outputs": [
    {
     "data": {
      "text/plain": [
       "2.266829865361077"
      ]
     },
     "execution_count": 36,
     "metadata": {},
     "output_type": "execute_result"
    }
   ],
   "source": [
    "syll_count_per_word= syll_count/ total_words_before\n",
    "syll_count_per_word"
   ]
  },
  {
   "cell_type": "markdown",
   "id": "580edf10",
   "metadata": {},
   "source": [
    "#### Let's create a function to count the personal pronouns"
   ]
  },
  {
   "cell_type": "code",
   "execution_count": 37,
   "id": "ab37aa3b",
   "metadata": {},
   "outputs": [],
   "source": [
    "def count_personal_pronouns(text):\n",
    "    personal_pronouns = [\"I\", \"me\", \"my\", \"mine\", \"myself\",\n",
    "                         \"you\", \"your\", \"yours\", \"yourself\",\n",
    "                         \"he\", \"him\", \"his\", \"himself\",\n",
    "                         \"she\", \"her\", \"hers\", \"herself\",\n",
    "                         \"it\", \"its\", \"itself\",\n",
    "                         \"we\", \"us\", \"our\", \"ours\", \"ourselves\",\n",
    "                         \"they\", \"them\", \"their\", \"theirs\", \"themselves\"]\n",
    "    \n",
    "    pattern = r'\\b(' + '|'.join(personal_pronouns) + r')\\b'\n",
    "    matches = re.findall(pattern, text, flags=re.IGNORECASE)\n",
    "    us_count = text.count(\"US\")\n",
    "    total_count = len(matches) - us_count\n",
    "    return total_count"
   ]
  },
  {
   "cell_type": "code",
   "execution_count": 38,
   "id": "2e8cfe19",
   "metadata": {},
   "outputs": [
    {
     "data": {
      "text/plain": [
       "46"
      ]
     },
     "execution_count": 38,
     "metadata": {},
     "output_type": "execute_result"
    }
   ],
   "source": [
    "count_personal_pronouns(df['blog_article'].values[0])"
   ]
  },
  {
   "cell_type": "markdown",
   "id": "d6c03ccb",
   "metadata": {},
   "source": [
    "## Average word length"
   ]
  },
  {
   "cell_type": "code",
   "execution_count": 39,
   "id": "83a8582b",
   "metadata": {},
   "outputs": [
    {
     "data": {
      "text/plain": [
       "6.839045287637699"
      ]
     },
     "execution_count": 39,
     "metadata": {},
     "output_type": "execute_result"
    }
   ],
   "source": [
    "avg_word_len= len(df['blog_article'].values[0])/ total_words_before\n",
    "avg_word_len"
   ]
  },
  {
   "cell_type": "markdown",
   "id": "f5e3d936",
   "metadata": {},
   "source": [
    "# Let's create a general function that does all the job and gives the requires number of variables"
   ]
  },
  {
   "cell_type": "code",
   "execution_count": 99,
   "id": "82ffdb7e",
   "metadata": {},
   "outputs": [],
   "source": [
    "def variables_computation(url, url_id):\n",
    "    print('url_Id(%s)'%(url_id))\n",
    "    article= []\n",
    "    data= requests.get(url)\n",
    "    soup= BeautifulSoup(data.content, 'html.parser')\n",
    "    blog_articles = [{'blog_headline': headline.find('h1', attrs={'class':'entry-title'}).string,\n",
    "                  'blog_article': article.find('div', attrs={'class': 'td-post-content tagdiv-type'}).text} \n",
    "                 for headline, article in zip(soup.find_all('div', class_ = ['td-container td-post-header']), \n",
    "                                              soup.find_all('div', class_=['td-ss-main-content']))]\n",
    "    article.extend(blog_articles)\n",
    "    df= pd.DataFrame(article)\n",
    "    df[['blog_article']].to_string('%s.txt'%(url_id), index=False)\n",
    "    df['blog_article_cleaned']= normalize_corpus(df['blog_article'])\n",
    "    \n",
    "    tokens = tokenizer.tokenize(df['blog_article_cleaned'].values[0])\n",
    "    tokens = [token.strip() for token in tokens]\n",
    "    total_words_before= len(str(df['blog_article'].values).split(' '))\n",
    "    word_count= len(str(df['blog_article_cleaned'].values).split(' '))\n",
    "    pos_score= sum([1 if i in pos else 0 for i in tokens])\n",
    "    print('Positive Score:', round(pos_score,4))\n",
    "    neg_score= sum([-1 if i in neg else 0 for i in tokens])*-1\n",
    "    print('Negative Score:', round(neg_score,4))\n",
    "    polarity_score= (pos_score-neg_score)/((pos_score+neg_score) + 0.000001)\n",
    "    print('Polarity Score:', round(polarity_score,2))\n",
    "    subj_score= (pos_score+neg_score)/((word_count) + 0.000001)\n",
    "    print('Subjectivity Score:', round(subj_score,2))\n",
    "    num_of_sen= len(str(df['blog_article'].values).split('.'))\n",
    "    avg_sen_len= total_words_before/ num_of_sen\n",
    "    print('Average Sentence Length:', round(avg_sen_len,2))\n",
    "    num_complex_words= count_complex_words(df['blog_article'].values[0],2)\n",
    "    percent_complex_words= (num_complex_words/ total_words_before)*100\n",
    "    print('Percentage of Complex Words:', round(percent_complex_words,2))\n",
    "    fog_index= 0.4*(num_complex_words+percent_complex_words)\n",
    "    print('Fog Index:', round(fog_index,2))\n",
    "    print('Average Number of Words Per Sentence:',  round(avg_sen_len,2))\n",
    "    print('Complex Word Count:', num_complex_words)\n",
    "    print('Word count:', word_count)\n",
    "    syll_count_per_word= syllable_count(df['blog_article'].values[0])/ total_words_before\n",
    "    print('Syllable per Word:',round(syll_count_per_word,2))\n",
    "    print('Personal Pronouns:', count_personal_pronouns(df['blog_article'].values[0]))\n",
    "    avg_word_len= len(df['blog_article'].values[0])/ total_words_before\n",
    "    print('Average Word Length:', round(avg_word_len,2))"
   ]
  },
  {
   "cell_type": "code",
   "execution_count": 100,
   "id": "a9c6eacd",
   "metadata": {},
   "outputs": [
    {
     "name": "stdout",
     "output_type": "stream",
     "text": [
      "url_Id(321)\n",
      "Positive Score: 38\n",
      "Negative Score: 13\n",
      "Polarity Score: 0.49\n",
      "Subjectivity Score: 0.17\n",
      "Average Sentence Length: 24.28\n",
      "Percentage of Complex Words: 35.58\n",
      "Fog Index: 100.63\n",
      "Average Number of Words Per Sentence: 24.28\n",
      "Complex Word Count: 216\n",
      "Word count: 304\n",
      "Syllable per Word: 2.17\n",
      "Personal Pronouns: 19\n",
      "Average Word Length: 6.61\n"
     ]
    }
   ],
   "source": [
    "variables_computation('https://insights.blackcoffer.com/rise-of-e-health-and-its-impact-on-humans-by-the-year-2030/',321)"
   ]
  },
  {
   "cell_type": "markdown",
   "id": "298c3dbe",
   "metadata": {},
   "source": [
    "##### Let's create another function for 2345 url by finding and adjusting the classes of extracting dictionary, because it don't have the same class name as previous function "
   ]
  },
  {
   "cell_type": "code",
   "execution_count": 105,
   "id": "ad59b012",
   "metadata": {},
   "outputs": [],
   "source": [
    "def variables_computation2345(url, url_id):\n",
    "    print('url_Id(%s)'%(url_id))\n",
    "    article= []\n",
    "    data= requests.get(url)\n",
    "    soup= BeautifulSoup(data.content, 'html.parser')\n",
    "    blog_articles = [{'blog_headline': soup.find('h1', attrs={'class':'tdb-title-text'}).string,\n",
    "                  'blog_article': soup.find_all('div', attrs={'class': 'tdb-block-inner td-fix-index'})[14].text}]\n",
    "    article.extend(blog_articles)\n",
    "    df= pd.DataFrame(article)\n",
    "    df[['blog_article']].to_string('%s.txt'%(url_id), index=False)\n",
    "    df['blog_article_cleaned']= normalize_corpus(df['blog_article'])\n",
    "    \n",
    "    tokens = tokenizer.tokenize(df['blog_article_cleaned'].values[0])\n",
    "    tokens = [token.strip() for token in tokens]\n",
    "    total_words_before= len(str(df['blog_article'].values).split(' '))\n",
    "    word_count= len(str(df['blog_article_cleaned'].values).split(' '))\n",
    "    pos_score= sum([1 if i in pos else 0 for i in tokens])\n",
    "    print('Positive Score:', round(pos_score,4))\n",
    "    neg_score= sum([-1 if i in neg else 0 for i in tokens])*-1\n",
    "    print('Negative Score:', round(neg_score,4))\n",
    "    polarity_score= (pos_score-neg_score)/((pos_score+neg_score) + 0.000001)\n",
    "    print('Polarity Score:', round(polarity_score,2))\n",
    "    subj_score= (pos_score+neg_score)/((word_count) + 0.000001)\n",
    "    print('Subjectivity Score:', round(subj_score,2))\n",
    "    num_of_sen= len(str(df['blog_article'].values).split('.'))\n",
    "    avg_sen_len= total_words_before/ num_of_sen\n",
    "    print('Average Sentence Length:', round(avg_sen_len,2))\n",
    "    num_complex_words= count_complex_words(df['blog_article'].values[0],2)\n",
    "    percent_complex_words= (num_complex_words/ total_words_before)*100\n",
    "    print('Percentage of Complex Words:', round(percent_complex_words,2))\n",
    "    fog_index= 0.4*(num_complex_words+percent_complex_words)\n",
    "    print('Fog Index:', round(fog_index,2))\n",
    "    print('Average Number of Words Per Sentence:',  round(avg_sen_len,2))\n",
    "    print('Complex Word Count:', num_complex_words)\n",
    "    print('Word count:', word_count)\n",
    "    syll_count_per_word= syllable_count(df['blog_article'].values[0])/ total_words_before\n",
    "    print('Syllable per Word:',round(syll_count_per_word,2))\n",
    "    print('Personal Pronouns:', count_personal_pronouns(df['blog_article'].values[0]))\n",
    "    avg_word_len= len(df['blog_article'].values[0])/ total_words_before\n",
    "    print('Average Word Length:', round(avg_word_len,2))"
   ]
  },
  {
   "cell_type": "code",
   "execution_count": 103,
   "id": "66856e5b",
   "metadata": {},
   "outputs": [
    {
     "name": "stdout",
     "output_type": "stream",
     "text": [
      "url_Id(2345)\n",
      "Positive Score: 21\n",
      "Negative Score: 27\n",
      "Polarity Score: -0.12\n",
      "Subjectivity Score: 0.08\n",
      "Average Sentence Length: 14.53\n",
      "Percentage of Complex Words: 30.79\n",
      "Fog Index: 144.72\n",
      "Average Number of Words Per Sentence: 14.53\n",
      "Complex Word Count: 331\n",
      "Word count: 581 4\n",
      "Syllable per Word: 2.01\n",
      "Personal Pronouns: 22\n",
      "Average Word Length: 6.47\n"
     ]
    }
   ],
   "source": [
    "variables_computation2345('https://insights.blackcoffer.com/rise-of-e-health-and-its-imapct-on-humans-by-the-year-2030-2/', 2345)"
   ]
  },
  {
   "cell_type": "code",
   "execution_count": 56,
   "id": "12fbe6ab",
   "metadata": {},
   "outputs": [
    {
     "name": "stdout",
     "output_type": "stream",
     "text": [
      "url_Id(4321)\n",
      "Positive Score: 35\n",
      "Negative Score: 27\n",
      "Polarity Score: 0.13\n",
      "Subjectivity Score: 0.09\n",
      "Average Sentence Length: 20.41\n",
      "Percentage of Complex Words: 34.14\n",
      "Fog Index: 178.05\n",
      "Average Number of Words Per Sentence: 20.41\n",
      "Complex Word Count: 411\n",
      "Word count: 684\n",
      "Syllable per Word: 2.15\n",
      "Personal Pronouns: 32\n",
      "Average Word Length: 6.79\n"
     ]
    }
   ],
   "source": [
    "variables_computation('https://insights.blackcoffer.com/rise-of-telemedicine-and-its-impact-on-livelihood-by-2040-2/',4321)"
   ]
  },
  {
   "cell_type": "code",
   "execution_count": 57,
   "id": "96adeaa1",
   "metadata": {},
   "outputs": [
    {
     "name": "stdout",
     "output_type": "stream",
     "text": [
      "url_Id(432)\n",
      "Positive Score: 35\n",
      "Negative Score: 27\n",
      "Polarity Score: 0.13\n",
      "Subjectivity Score: 0.09\n",
      "Average Sentence Length: 20.41\n",
      "Percentage of Complex Words: 34.14\n",
      "Fog Index: 178.05\n",
      "Average Number of Words Per Sentence: 20.41\n",
      "Complex Word Count: 411\n",
      "Word count: 684\n",
      "Syllable per Word: 2.15\n",
      "Personal Pronouns: 32\n",
      "Average Word Length: 6.79\n"
     ]
    }
   ],
   "source": [
    "variables_computation('https://insights.blackcoffer.com/rise-of-telemedicine-and-its-impact-on-livelihood-by-2040-2-2/',432)"
   ]
  },
  {
   "cell_type": "code",
   "execution_count": 58,
   "id": "840571e9",
   "metadata": {},
   "outputs": [
    {
     "name": "stdout",
     "output_type": "stream",
     "text": [
      "url_Id(2893.8)\n",
      "Positive Score: 48\n",
      "Negative Score: 12\n",
      "Polarity Score: 0.6\n",
      "Subjectivity Score: 0.09\n",
      "Average Sentence Length: 16.93\n",
      "Percentage of Complex Words: 32.28\n",
      "Fog Index: 159.31\n",
      "Average Number of Words Per Sentence: 16.93\n",
      "Complex Word Count: 366\n",
      "Word count: 647\n",
      "Syllable per Word: 2.12\n",
      "Personal Pronouns: 33\n",
      "Average Word Length: 6.76\n"
     ]
    }
   ],
   "source": [
    "variables_computation('https://insights.blackcoffer.com/rise-of-chatbots-and-its-impact-on-customer-support-by-the-year-2040/',2893.8)"
   ]
  },
  {
   "cell_type": "code",
   "execution_count": 596,
   "id": "6cde7097",
   "metadata": {},
   "outputs": [
    {
     "name": "stdout",
     "output_type": "stream",
     "text": [
      "url_Id(3355.6)\n",
      "Positive Score: 33\n",
      "Negative Score: 10\n",
      "Polarity Score: 0.53\n",
      "Subjectivity Score: 0.07\n",
      "Average Sentence Length: 20.76\n",
      "Percentage of Complex Words: 37.19\n",
      "Fog Index: 169.27\n",
      "Average Number of Words Per Sentence: 20.76\n",
      "Complex Word Count: 386\n",
      "Word count: 592\n",
      "Syllable per Word: 2.19\n",
      "Personal Pronouns: 14\n",
      "Average Word Length: 6.88\n"
     ]
    }
   ],
   "source": [
    "variables_computation('https://insights.blackcoffer.com/rise-of-e-health-and-its-imapct-on-humans-by-the-year-2030/',3355.6)"
   ]
  },
  {
   "cell_type": "code",
   "execution_count": 597,
   "id": "a46a5920",
   "metadata": {},
   "outputs": [
    {
     "name": "stdout",
     "output_type": "stream",
     "text": [
      "url_Id(3817.4)\n",
      "Positive Score: 60\n",
      "Negative Score: 6\n",
      "Polarity Score: 0.82\n",
      "Subjectivity Score: 0.07\n",
      "Average Sentence Length: 17.5312\n",
      "Percentage of Complex Words: 31.97\n",
      "Fog Index: 227.99\n",
      "Average Number of Words Per Sentence: 17.5312\n",
      "Complex Word Count: 538\n",
      "Word count: 919\n",
      "Syllable per Word: 2.1\n",
      "Personal Pronouns: 102\n",
      "Average Word Length: 6.65\n"
     ]
    }
   ],
   "source": [
    "variables_computation('https://insights.blackcoffer.com/how-does-marketing-influence-businesses-and-consumers/', 3817.4)"
   ]
  },
  {
   "cell_type": "code",
   "execution_count": 599,
   "id": "a1f2faa8",
   "metadata": {},
   "outputs": [
    {
     "name": "stdout",
     "output_type": "stream",
     "text": [
      "url_Id(4279.2)\n",
      "Positive Score: 8\n",
      "Negative Score: 0\n",
      "Polarity Score: 1.0\n",
      "Subjectivity Score: 0.03\n",
      "Average Sentence Length: 17.6333\n",
      "Percentage of Complex Words: 24.2\n",
      "Fog Index: 60.88\n",
      "Average Number of Words Per Sentence: 17.6333\n",
      "Complex Word Count: 128\n",
      "Word count: 236\n",
      "Syllable per Word: 1.88\n",
      "Personal Pronouns: 33\n",
      "Average Word Length: 6.27\n"
     ]
    }
   ],
   "source": [
    "variables_computation2345('https://insights.blackcoffer.com/how-advertisement-increase-your-market-value/',4279.2)"
   ]
  },
  {
   "cell_type": "code",
   "execution_count": 600,
   "id": "23bbebd3",
   "metadata": {},
   "outputs": [
    {
     "name": "stdout",
     "output_type": "stream",
     "text": [
      "url_Id(4741)\n",
      "Positive Score: 23\n",
      "Negative Score: 46\n",
      "Polarity Score: -0.33\n",
      "Subjectivity Score: 0.12\n",
      "Average Sentence Length: 19.7843\n",
      "Percentage of Complex Words: 36.67\n",
      "Fog Index: 162.67\n",
      "Average Number of Words Per Sentence: 19.7843\n",
      "Complex Word Count: 370\n",
      "Word count: 555\n",
      "Syllable per Word: 2.18\n",
      "Personal Pronouns: 30\n",
      "Average Word Length: 6.8\n"
     ]
    }
   ],
   "source": [
    "variables_computation('https://insights.blackcoffer.com/negative-effects-of-marketing-on-society/', 4741)"
   ]
  },
  {
   "cell_type": "code",
   "execution_count": 601,
   "id": "86bf12db",
   "metadata": {},
   "outputs": [
    {
     "name": "stdout",
     "output_type": "stream",
     "text": [
      "url_Id(5202.8)\n",
      "Positive Score: 13\n",
      "Negative Score: 10\n",
      "Polarity Score: 0.13\n",
      "Subjectivity Score: 0.12\n",
      "Average Sentence Length: 14.8214\n",
      "Percentage of Complex Words: 25.3\n",
      "Fog Index: 52.12\n",
      "Average Number of Words Per Sentence: 14.8214\n",
      "Complex Word Count: 105\n",
      "Word count: 197\n",
      "Syllable per Word: 1.92\n",
      "Personal Pronouns: 17\n",
      "Average Word Length: 6.17\n"
     ]
    }
   ],
   "source": [
    "variables_computation('https://insights.blackcoffer.com/how-advertisement-marketing-affects-business/', 5202.8)"
   ]
  },
  {
   "cell_type": "code",
   "execution_count": 602,
   "id": "6f6a6fac",
   "metadata": {},
   "outputs": [
    {
     "name": "stdout",
     "output_type": "stream",
     "text": [
      "url_Id(5664.6)\n",
      "Positive Score: 28\n",
      "Negative Score: 16\n",
      "Polarity Score: 0.27\n",
      "Subjectivity Score: 0.06\n",
      "Average Sentence Length: 21.3125\n",
      "Percentage of Complex Words: 27.93\n",
      "Fog Index: 163.57\n",
      "Average Number of Words Per Sentence: 21.3125\n",
      "Complex Word Count: 381\n",
      "Word count: 693\n",
      "Syllable per Word: 1.96\n",
      "Personal Pronouns: 37\n",
      "Average Word Length: 6.17\n"
     ]
    }
   ],
   "source": [
    "variables_computation('https://insights.blackcoffer.com/rising-it-cities-will-impact-the-economy-environment-infrastructure-and-city-life-by-the-year-2035/',5664.6)"
   ]
  },
  {
   "cell_type": "code",
   "execution_count": 606,
   "id": "29d4b896",
   "metadata": {},
   "outputs": [
    {
     "name": "stdout",
     "output_type": "stream",
     "text": [
      "url_Id(6126.4)\n",
      "Positive Score: 23\n",
      "Negative Score: 3\n",
      "Polarity Score: 0.77\n",
      "Subjectivity Score: 0.09\n",
      "Average Sentence Length: 22.9167\n",
      "Percentage of Complex Words: 33.27\n",
      "Fog Index: 86.51\n",
      "Average Number of Words Per Sentence: 22.9167\n",
      "Complex Word Count: 183\n",
      "Word count: 299\n",
      "Syllable per Word: 2.04\n",
      "Personal Pronouns: 10\n",
      "Average Word Length: 6.54\n"
     ]
    }
   ],
   "source": [
    "variables_computation('https://insights.blackcoffer.com/rise-of-ott-platform-and-its-impact-on-entertainment-industry-by-the-year-2030/', 6126.4)"
   ]
  },
  {
   "cell_type": "code",
   "execution_count": 607,
   "id": "d51dce3e",
   "metadata": {},
   "outputs": [
    {
     "name": "stdout",
     "output_type": "stream",
     "text": [
      "url_Id(6588.2)\n",
      "Positive Score: 20\n",
      "Negative Score: 11\n",
      "Polarity Score: 0.29\n",
      "Subjectivity Score: 0.06\n",
      "Average Sentence Length: 25.55\n",
      "Percentage of Complex Words: 23.09\n",
      "Fog Index: 103.64\n",
      "Average Number of Words Per Sentence: 25.55\n",
      "Complex Word Count: 236\n",
      "Word count: 528\n",
      "Syllable per Word: 1.82\n",
      "Personal Pronouns: 35\n",
      "Average Word Length: 6.0\n"
     ]
    }
   ],
   "source": [
    "variables_computation('https://insights.blackcoffer.com/rise-of-electric-vehicles-and-its-impact-on-livelihood-by-2040/',6588.2)"
   ]
  },
  {
   "cell_type": "code",
   "execution_count": 610,
   "id": "5f0a876a",
   "metadata": {},
   "outputs": [
    {
     "name": "stdout",
     "output_type": "stream",
     "text": [
      "url_Id(7050)\n",
      "Positive Score: 23\n",
      "Negative Score: 15\n",
      "Polarity Score: 0.21\n",
      "Subjectivity Score: 0.08\n",
      "Average Sentence Length: 17.8367\n",
      "Percentage of Complex Words: 30.21\n",
      "Fog Index: 117.68\n",
      "Average Number of Words Per Sentence: 17.8367\n",
      "Complex Word Count: 264\n",
      "Word count: 495\n",
      "Syllable per Word: 2.01\n",
      "Personal Pronouns: 17\n",
      "Average Word Length: 6.48\n"
     ]
    }
   ],
   "source": [
    "variables_computation('https://insights.blackcoffer.com/rise-of-electric-vehicle-and-its-impact-on-livelihood-by-the-year-2040/',7050)"
   ]
  },
  {
   "cell_type": "code",
   "execution_count": 611,
   "id": "b1b3be64",
   "metadata": {},
   "outputs": [
    {
     "name": "stdout",
     "output_type": "stream",
     "text": [
      "url_Id(7511.8)\n",
      "Positive Score: 24\n",
      "Negative Score: 26\n",
      "Polarity Score: -0.04\n",
      "Subjectivity Score: 0.08\n",
      "Average Sentence Length: 24.0182\n",
      "Percentage of Complex Words: 22.26\n",
      "Fog Index: 126.5\n",
      "Average Number of Words Per Sentence: 24.0182\n",
      "Complex Word Count: 294\n",
      "Word count: 592\n",
      "Syllable per Word: 1.8\n",
      "Personal Pronouns: 55\n",
      "Average Word Length: 5.81\n"
     ]
    }
   ],
   "source": [
    "variables_computation('https://insights.blackcoffer.com/oil-prices-by-the-year-2040-and-how-it-will-impact-the-world-economy/', 7511.8)"
   ]
  },
  {
   "cell_type": "code",
   "execution_count": 612,
   "id": "2023e94b",
   "metadata": {},
   "outputs": [
    {
     "name": "stdout",
     "output_type": "stream",
     "text": [
      "url_Id(7973.6)\n",
      "Positive Score: 35\n",
      "Negative Score: 26\n",
      "Polarity Score: 0.15\n",
      "Subjectivity Score: 0.11\n",
      "Average Sentence Length: 23.7174\n",
      "Percentage of Complex Words: 29.61\n",
      "Fog Index: 141.04\n",
      "Average Number of Words Per Sentence: 23.7174\n",
      "Complex Word Count: 323\n",
      "Word count: 573\n",
      "Syllable per Word: 2.04\n",
      "Personal Pronouns: 34\n",
      "Average Word Length: 6.58\n"
     ]
    }
   ],
   "source": [
    "variables_computation('https://insights.blackcoffer.com/an-outlook-of-healthcare-by-the-year-2040-and-how-it-will-impact-human-lives/',7973.6)"
   ]
  },
  {
   "cell_type": "code",
   "execution_count": 614,
   "id": "41f0dfcd",
   "metadata": {},
   "outputs": [
    {
     "name": "stdout",
     "output_type": "stream",
     "text": [
      "url_Id(8435.4)\n",
      "Positive Score: 64\n",
      "Negative Score: 34\n",
      "Polarity Score: 0.31\n",
      "Subjectivity Score: 0.09\n",
      "Average Sentence Length: 22.5256\n",
      "Percentage of Complex Words: 35.91\n",
      "Fog Index: 266.77\n",
      "Average Number of Words Per Sentence: 22.5256\n",
      "Complex Word Count: 631\n",
      "Word count: 1070\n",
      "Syllable per Word: 2.22\n",
      "Personal Pronouns: 30\n",
      "Average Word Length: 6.93\n"
     ]
    }
   ],
   "source": [
    "variables_computation2345('https://insights.blackcoffer.com/ai-in-healthcare-to-improve-patient-outcomes/',8435.4)"
   ]
  },
  {
   "cell_type": "code",
   "execution_count": 615,
   "id": "28089d12",
   "metadata": {},
   "outputs": [
    {
     "name": "stdout",
     "output_type": "stream",
     "text": [
      "url_Id(8897.2)\n",
      "Positive Score: 60\n",
      "Negative Score: 37\n",
      "Polarity Score: 0.24\n",
      "Subjectivity Score: 0.15\n",
      "Average Sentence Length: 19.6761\n",
      "Percentage of Complex Words: 24.19\n",
      "Fog Index: 144.88\n",
      "Average Number of Words Per Sentence: 19.6761\n",
      "Complex Word Count: 338\n",
      "Word count: 664\n",
      "Syllable per Word: 1.9\n",
      "Personal Pronouns: 70\n",
      "Average Word Length: 6.07\n"
     ]
    }
   ],
   "source": [
    "variables_computation('https://insights.blackcoffer.com/what-if-the-creation-is-taking-over-the-creator/',8897.2)"
   ]
  },
  {
   "cell_type": "code",
   "execution_count": 616,
   "id": "a14032ff",
   "metadata": {},
   "outputs": [
    {
     "name": "stdout",
     "output_type": "stream",
     "text": [
      "url_Id(9359)\n",
      "Positive Score: 66\n",
      "Negative Score: 36\n",
      "Polarity Score: 0.29\n",
      "Subjectivity Score: 0.11\n",
      "Average Sentence Length: 19.6824\n",
      "Percentage of Complex Words: 34.13\n",
      "Fog Index: 242.05\n",
      "Average Number of Words Per Sentence: 19.6824\n",
      "Complex Word Count: 571\n",
      "Word count: 930\n",
      "Syllable per Word: 2.15\n",
      "Personal Pronouns: 39\n",
      "Average Word Length: 6.65\n"
     ]
    }
   ],
   "source": [
    "variables_computation('https://insights.blackcoffer.com/what-jobs-will-robots-take-from-humans-in-the-future/',9359)"
   ]
  },
  {
   "cell_type": "code",
   "execution_count": 617,
   "id": "2825d22c",
   "metadata": {},
   "outputs": [
    {
     "name": "stdout",
     "output_type": "stream",
     "text": [
      "url_Id(9820.8)\n",
      "Positive Score: 69\n",
      "Negative Score: 28\n",
      "Polarity Score: 0.42\n",
      "Subjectivity Score: 0.12\n",
      "Average Sentence Length: 19.506\n",
      "Percentage of Complex Words: 24.09\n",
      "Fog Index: 165.64\n",
      "Average Number of Words Per Sentence: 19.506\n",
      "Complex Word Count: 390\n",
      "Word count: 777\n",
      "Syllable per Word: 1.92\n",
      "Personal Pronouns: 61\n",
      "Average Word Length: 6.11\n"
     ]
    }
   ],
   "source": [
    "variables_computation('https://insights.blackcoffer.com/will-machine-replace-the-human-in-the-future-of-work/',9820.8)"
   ]
  },
  {
   "cell_type": "code",
   "execution_count": 618,
   "id": "8aaaca51",
   "metadata": {},
   "outputs": [
    {
     "name": "stdout",
     "output_type": "stream",
     "text": [
      "url_Id(10282.6)\n",
      "Positive Score: 60\n",
      "Negative Score: 26\n",
      "Polarity Score: 0.4\n",
      "Subjectivity Score: 0.1\n",
      "Average Sentence Length: 20.8049\n",
      "Percentage of Complex Words: 26.67\n",
      "Fog Index: 192.67\n",
      "Average Number of Words Per Sentence: 20.8049\n",
      "Complex Word Count: 455\n",
      "Word count: 874\n",
      "Syllable per Word: 1.97\n",
      "Personal Pronouns: 70\n",
      "Average Word Length: 6.38\n"
     ]
    }
   ],
   "source": [
    "variables_computation('https://insights.blackcoffer.com/will-ai-replace-us-or-work-with-us/', 10282.6)"
   ]
  },
  {
   "cell_type": "code",
   "execution_count": 619,
   "id": "4488641d",
   "metadata": {},
   "outputs": [
    {
     "name": "stdout",
     "output_type": "stream",
     "text": [
      "url_Id(10744.4)\n",
      "Positive Score: 45\n",
      "Negative Score: 24\n",
      "Polarity Score: 0.3\n",
      "Subjectivity Score: 0.11\n",
      "Average Sentence Length: 21.5424\n",
      "Percentage of Complex Words: 26.44\n",
      "Fog Index: 144.97\n",
      "Average Number of Words Per Sentence: 21.5424\n",
      "Complex Word Count: 336\n",
      "Word count: 641\n",
      "Syllable per Word: 1.96\n",
      "Personal Pronouns: 78\n",
      "Average Word Length: 6.31\n"
     ]
    }
   ],
   "source": [
    "variables_computation('https://insights.blackcoffer.com/man-and-machines-together-machines-are-more-diligent-than-humans-blackcoffe/',10744.4)"
   ]
  },
  {
   "cell_type": "code",
   "execution_count": 620,
   "id": "43158abe",
   "metadata": {},
   "outputs": [
    {
     "name": "stdout",
     "output_type": "stream",
     "text": [
      "url_Id(11206.2)\n",
      "Positive Score: 26\n",
      "Negative Score: 12\n",
      "Polarity Score: 0.37\n",
      "Subjectivity Score: 0.1\n",
      "Average Sentence Length: 15.8478\n",
      "Percentage of Complex Words: 25.79\n",
      "Fog Index: 85.52\n",
      "Average Number of Words Per Sentence: 15.8478\n",
      "Complex Word Count: 188\n",
      "Word count: 383\n",
      "Syllable per Word: 1.94\n",
      "Personal Pronouns: 24\n",
      "Average Word Length: 6.31\n"
     ]
    }
   ],
   "source": [
    "variables_computation('https://insights.blackcoffer.com/in-future-or-in-upcoming-years-humans-and-machines-are-going-to-work-together-in-every-field-of-work/',11206.2)"
   ]
  },
  {
   "cell_type": "code",
   "execution_count": 627,
   "id": "8559c965",
   "metadata": {},
   "outputs": [
    {
     "name": "stdout",
     "output_type": "stream",
     "text": [
      "url_Id(12129.8)\n",
      "Positive Score: 37\n",
      "Negative Score: 13\n",
      "Polarity Score: 0.48\n",
      "Subjectivity Score: 0.13\n",
      "Average Sentence Length: 19.8611\n",
      "Percentage of Complex Words: 23.64\n",
      "Fog Index: 77.05\n",
      "Average Number of Words Per Sentence: 19.8611\n",
      "Complex Word Count: 169\n",
      "Word count: 374\n",
      "Syllable per Word: 1.88\n",
      "Personal Pronouns: 43\n",
      "Average Word Length: 6.05\n"
     ]
    }
   ],
   "source": [
    "variables_computation('https://insights.blackcoffer.com/how-machine-learning-will-affect-your-business/',12129.8)"
   ]
  },
  {
   "cell_type": "code",
   "execution_count": 633,
   "id": "da0fc1ac",
   "metadata": {},
   "outputs": [
    {
     "name": "stdout",
     "output_type": "stream",
     "text": [
      "url_Id(12591.6)\n",
      "Positive Score: 68\n",
      "Negative Score: 41\n",
      "Polarity Score: 0.25\n",
      "Subjectivity Score: 0.1\n",
      "Average Sentence Length: 24.7674\n",
      "Percentage of Complex Words: 26.81\n",
      "Fog Index: 239.12\n",
      "Average Number of Words Per Sentence: 24.7674\n",
      "Complex Word Count: 571\n",
      "Word count: 1059\n",
      "Syllable per Word: 1.98\n",
      "Personal Pronouns: 83\n",
      "Average Word Length: 6.13\n"
     ]
    }
   ],
   "source": [
    "variables_computation('https://insights.blackcoffer.com/deep-learning-impact-on-areas-of-e-learning/',12591.6)"
   ]
  },
  {
   "cell_type": "code",
   "execution_count": 634,
   "id": "eccb6cc8",
   "metadata": {},
   "outputs": [
    {
     "name": "stdout",
     "output_type": "stream",
     "text": [
      "url_Id(13053.4)\n",
      "Positive Score: 49\n",
      "Negative Score: 69\n",
      "Polarity Score: -0.17\n",
      "Subjectivity Score: 0.11\n",
      "Average Sentence Length: 16.8261\n",
      "Percentage of Complex Words: 28.27\n",
      "Fog Index: 230.11\n",
      "Average Number of Words Per Sentence: 16.8261\n",
      "Complex Word Count: 547\n",
      "Word count: 1083\n",
      "Syllable per Word: 2.03\n",
      "Personal Pronouns: 158\n",
      "Average Word Length: 6.48\n"
     ]
    }
   ],
   "source": [
    "variables_computation('https://insights.blackcoffer.com/how-to-protect-future-data-and-its-privacy-blackcoffer/',13053.4)"
   ]
  },
  {
   "cell_type": "code",
   "execution_count": 635,
   "id": "6c08dfa3",
   "metadata": {},
   "outputs": [
    {
     "name": "stdout",
     "output_type": "stream",
     "text": [
      "url_Id(13515.2)\n",
      "Positive Score: 35\n",
      "Negative Score: 22\n",
      "Polarity Score: 0.23\n",
      "Subjectivity Score: 0.09\n",
      "Average Sentence Length: 21.0182\n",
      "Percentage of Complex Words: 33.13\n",
      "Fog Index: 166.45\n",
      "Average Number of Words Per Sentence: 21.0182\n",
      "Complex Word Count: 383\n",
      "Word count: 648\n",
      "Syllable per Word: 2.19\n",
      "Personal Pronouns: 45\n",
      "Average Word Length: 6.81\n"
     ]
    }
   ],
   "source": [
    "variables_computation('https://insights.blackcoffer.com/how-machines-ai-automations-and-robo-human-are-effective-in-finance-and-banking/',13515.2)"
   ]
  },
  {
   "cell_type": "code",
   "execution_count": 636,
   "id": "8b7cc824",
   "metadata": {},
   "outputs": [
    {
     "name": "stdout",
     "output_type": "stream",
     "text": [
      "url_Id(13977)\n",
      "Positive Score: 31\n",
      "Negative Score: 29\n",
      "Polarity Score: 0.03\n",
      "Subjectivity Score: 0.09\n",
      "Average Sentence Length: 16.3514\n",
      "Percentage of Complex Words: 27.11\n",
      "Fog Index: 142.04\n",
      "Average Number of Words Per Sentence: 16.3514\n",
      "Complex Word Count: 328\n",
      "Word count: 666\n",
      "Syllable per Word: 1.98\n",
      "Personal Pronouns: 26\n",
      "Average Word Length: 6.28\n"
     ]
    }
   ],
   "source": [
    "variables_computation('https://insights.blackcoffer.com/ai-human-robotics-machine-future-planet-blackcoffer-thinking-jobs-workplace/',13977)"
   ]
  },
  {
   "cell_type": "code",
   "execution_count": 637,
   "id": "5e29bb1c",
   "metadata": {},
   "outputs": [
    {
     "name": "stdout",
     "output_type": "stream",
     "text": [
      "url_Id(14438.8)\n",
      "Positive Score: 63\n",
      "Negative Score: 24\n",
      "Polarity Score: 0.45\n",
      "Subjectivity Score: 0.12\n",
      "Average Sentence Length: 20.9367\n",
      "Percentage of Complex Words: 25.33\n",
      "Fog Index: 177.73\n",
      "Average Number of Words Per Sentence: 20.9367\n",
      "Complex Word Count: 419\n",
      "Word count: 755\n",
      "Syllable per Word: 1.96\n",
      "Personal Pronouns: 102\n",
      "Average Word Length: 6.13\n"
     ]
    }
   ],
   "source": [
    "variables_computation('https://insights.blackcoffer.com/how-ai-will-change-the-world-blackcoffer/',14438.8)"
   ]
  },
  {
   "cell_type": "code",
   "execution_count": 639,
   "id": "04550082",
   "metadata": {},
   "outputs": [
    {
     "name": "stdout",
     "output_type": "stream",
     "text": [
      "url_Id(14900.6)\n",
      "Positive Score: 76\n",
      "Negative Score: 24\n",
      "Polarity Score: 0.52\n",
      "Subjectivity Score: 0.12\n",
      "Average Sentence Length: 19.1325\n",
      "Percentage of Complex Words: 28.4\n",
      "Fog Index: 191.76\n",
      "Average Number of Words Per Sentence: 19.1325\n",
      "Complex Word Count: 451\n",
      "Word count: 848\n",
      "Syllable per Word: 2.06\n",
      "Personal Pronouns: 49\n",
      "Average Word Length: 6.45\n"
     ]
    }
   ],
   "source": [
    "variables_computation2345('https://insights.blackcoffer.com/future-of-work-how-ai-has-entered-the-workplace/',14900.6)"
   ]
  },
  {
   "cell_type": "code",
   "execution_count": 640,
   "id": "e24aacfe",
   "metadata": {},
   "outputs": [
    {
     "name": "stdout",
     "output_type": "stream",
     "text": [
      "url_Id(15362.4)\n",
      "Positive Score: 26\n",
      "Negative Score: 0\n",
      "Polarity Score: 1.0\n",
      "Subjectivity Score: 0.09\n",
      "Average Sentence Length: 22.3182\n",
      "Percentage of Complex Words: 33.6\n",
      "Fog Index: 79.44\n",
      "Average Number of Words Per Sentence: 22.3182\n",
      "Complex Word Count: 165\n",
      "Word count: 283\n",
      "Syllable per Word: 2.2\n",
      "Personal Pronouns: 13\n",
      "Average Word Length: 6.75\n"
     ]
    }
   ],
   "source": [
    "variables_computation('https://insights.blackcoffer.com/ai-tool-alexa-google-assistant-finance-banking-tool-future/',15362.4)"
   ]
  },
  {
   "cell_type": "code",
   "execution_count": 641,
   "id": "729b4859",
   "metadata": {},
   "outputs": [
    {
     "name": "stdout",
     "output_type": "stream",
     "text": [
      "url_Id(15824.2)\n",
      "Positive Score: 79\n",
      "Negative Score: 39\n",
      "Polarity Score: 0.34\n",
      "Subjectivity Score: 0.16\n",
      "Average Sentence Length: 225.75\n",
      "Percentage of Complex Words: 23.75\n",
      "Fog Index: 181.1\n",
      "Average Number of Words Per Sentence: 225.75\n",
      "Complex Word Count: 429\n",
      "Word count: 745\n",
      "Syllable per Word: 1.85\n",
      "Personal Pronouns: 75\n",
      "Average Word Length: 5.84\n"
     ]
    }
   ],
   "source": [
    "variables_computation('https://insights.blackcoffer.com/ai-healthcare-revolution-ml-technology-algorithm-google-analytics-industrialrevolution/',15824.2)"
   ]
  },
  {
   "cell_type": "code",
   "execution_count": 642,
   "id": "b9645b13",
   "metadata": {},
   "outputs": [
    {
     "name": "stdout",
     "output_type": "stream",
     "text": [
      "url_Id(16286)\n",
      "Positive Score: 26\n",
      "Negative Score: 0\n",
      "Polarity Score: 1.0\n",
      "Subjectivity Score: 0.05\n",
      "Average Sentence Length: 16.3214\n",
      "Percentage of Complex Words: 33.59\n",
      "Fog Index: 136.24\n",
      "Average Number of Words Per Sentence: 16.3214\n",
      "Complex Word Count: 307\n",
      "Word count: 518\n",
      "Syllable per Word: 2.09\n",
      "Personal Pronouns: 42\n",
      "Average Word Length: 6.62\n"
     ]
    }
   ],
   "source": [
    "variables_computation('https://insights.blackcoffer.com/all-you-need-to-know-about-online-marketing/',16286)"
   ]
  },
  {
   "cell_type": "code",
   "execution_count": 643,
   "id": "2de81ca5",
   "metadata": {},
   "outputs": [
    {
     "name": "stdout",
     "output_type": "stream",
     "text": [
      "url_Id(16747.8)\n",
      "Positive Score: 14\n",
      "Negative Score: 6\n",
      "Polarity Score: 0.4\n",
      "Subjectivity Score: 0.05\n",
      "Average Sentence Length: 16.4524\n",
      "Percentage of Complex Words: 34.44\n",
      "Fog Index: 108.98\n",
      "Average Number of Words Per Sentence: 16.4524\n",
      "Complex Word Count: 238\n",
      "Word count: 391\n",
      "Syllable per Word: 2.16\n",
      "Personal Pronouns: 11\n",
      "Average Word Length: 6.93\n"
     ]
    }
   ],
   "source": [
    "variables_computation('https://insights.blackcoffer.com/evolution-of-advertising-industry/',16747.8)"
   ]
  },
  {
   "cell_type": "code",
   "execution_count": 644,
   "id": "96c6c88b",
   "metadata": {},
   "outputs": [
    {
     "name": "stdout",
     "output_type": "stream",
     "text": [
      "url_Id(17209.6)\n",
      "Positive Score: 3\n",
      "Negative Score: 4\n",
      "Polarity Score: -0.14\n",
      "Subjectivity Score: 0.04\n",
      "Average Sentence Length: 22.5385\n",
      "Percentage of Complex Words: 34.13\n",
      "Fog Index: 53.65\n",
      "Average Number of Words Per Sentence: 22.5385\n",
      "Complex Word Count: 100\n",
      "Word count: 160\n",
      "Syllable per Word: 2.18\n",
      "Personal Pronouns: 10\n",
      "Average Word Length: 7.04\n"
     ]
    }
   ],
   "source": [
    "variables_computation('https://insights.blackcoffer.com/how-data-analytics-can-help-your-business-respond-to-the-impact-of-covid-19/',17209.6)"
   ]
  },
  {
   "cell_type": "code",
   "execution_count": 649,
   "id": "03e55638",
   "metadata": {},
   "outputs": [
    {
     "name": "stdout",
     "output_type": "stream",
     "text": [
      "url_Id(18133.2)\n",
      "Positive Score: 24\n",
      "Negative Score: 69\n",
      "Polarity Score: -0.48\n",
      "Subjectivity Score: 0.13\n",
      "Average Sentence Length: 23.4655\n",
      "Percentage of Complex Words: 28.95\n",
      "Fog Index: 169.18\n",
      "Average Number of Words Per Sentence: 23.4655\n",
      "Complex Word Count: 394\n",
      "Word count: 721\n",
      "Syllable per Word: 2.01\n",
      "Personal Pronouns: 27\n",
      "Average Word Length: 6.3\n"
     ]
    }
   ],
   "source": [
    "variables_computation('https://insights.blackcoffer.com/environmental-impact-of-the-covid-19-pandemic-lesson-for-the-future/',18133.2)"
   ]
  },
  {
   "cell_type": "code",
   "execution_count": 651,
   "id": "5965638a",
   "metadata": {},
   "outputs": [
    {
     "name": "stdout",
     "output_type": "stream",
     "text": [
      "url_Id(18595)\n",
      "Positive Score: 17\n",
      "Negative Score: 14\n",
      "Polarity Score: 0.1\n",
      "Subjectivity Score: 0.08\n",
      "Average Sentence Length: 22.3125\n",
      "Percentage of Complex Words: 25.77\n",
      "Fog Index: 83.91\n",
      "Average Number of Words Per Sentence: 22.3125\n",
      "Complex Word Count: 184\n",
      "Word count: 368\n",
      "Syllable per Word: 1.92\n",
      "Personal Pronouns: 20\n",
      "Average Word Length: 6.15\n"
     ]
    }
   ],
   "source": [
    "variables_computation('https://insights.blackcoffer.com/how-data-analytics-and-ai-are-used-to-halt-the-covid-19-pandemic/',18595)"
   ]
  },
  {
   "cell_type": "code",
   "execution_count": 652,
   "id": "ccca0984",
   "metadata": {},
   "outputs": [
    {
     "name": "stdout",
     "output_type": "stream",
     "text": [
      "url_Id(19056.8)\n",
      "Positive Score: 58\n",
      "Negative Score: 37\n",
      "Polarity Score: 0.22\n",
      "Subjectivity Score: 0.1\n",
      "Average Sentence Length: 20.6848\n",
      "Percentage of Complex Words: 23.8\n",
      "Fog Index: 190.72\n",
      "Average Number of Words Per Sentence: 20.6848\n",
      "Complex Word Count: 453\n",
      "Word count: 914\n",
      "Syllable per Word: 1.91\n",
      "Personal Pronouns: 63\n",
      "Average Word Length: 6.11\n"
     ]
    }
   ],
   "source": [
    "variables_computation('https://insights.blackcoffer.com/difference-between-artificial-intelligence-machine-learning-statistics-and-data-mining/',19056.8)"
   ]
  },
  {
   "cell_type": "code",
   "execution_count": 653,
   "id": "d27252c0",
   "metadata": {},
   "outputs": [
    {
     "name": "stdout",
     "output_type": "stream",
     "text": [
      "url_Id(19518.6)\n",
      "Positive Score: 40\n",
      "Negative Score: 3\n",
      "Polarity Score: 0.86\n",
      "Subjectivity Score: 0.12\n",
      "Average Sentence Length: 14.7273\n",
      "Percentage of Complex Words: 29.78\n",
      "Fog Index: 89.11\n",
      "Average Number of Words Per Sentence: 14.7273\n",
      "Complex Word Count: 193\n",
      "Word count: 347\n",
      "Syllable per Word: 2.03\n",
      "Personal Pronouns: 27\n",
      "Average Word Length: 6.52\n"
     ]
    }
   ],
   "source": [
    "variables_computation('https://insights.blackcoffer.com/how-python-became-the-first-choice-for-data-science/',19518.6)"
   ]
  },
  {
   "cell_type": "code",
   "execution_count": 654,
   "id": "6cf34410",
   "metadata": {},
   "outputs": [
    {
     "name": "stdout",
     "output_type": "stream",
     "text": [
      "url_Id(19980.4)\n",
      "Positive Score: 5\n",
      "Negative Score: 1\n",
      "Polarity Score: 0.67\n",
      "Subjectivity Score: 0.03\n",
      "Average Sentence Length: 21.8235\n",
      "Percentage of Complex Words: 23.72\n",
      "Fog Index: 44.69\n",
      "Average Number of Words Per Sentence: 21.8235\n",
      "Complex Word Count: 88\n",
      "Word count: 205\n",
      "Syllable per Word: 1.96\n",
      "Personal Pronouns: 17\n",
      "Average Word Length: 6.2\n"
     ]
    }
   ],
   "source": [
    "variables_computation('https://insights.blackcoffer.com/how-google-fit-measure-heart-and-respiratory-rates-using-a-phone/',19980.4)"
   ]
  },
  {
   "cell_type": "code",
   "execution_count": 655,
   "id": "aafa3165",
   "metadata": {},
   "outputs": [
    {
     "name": "stdout",
     "output_type": "stream",
     "text": [
      "url_Id(20442.2)\n",
      "Positive Score: 30\n",
      "Negative Score: 9\n",
      "Polarity Score: 0.54\n",
      "Subjectivity Score: 0.06\n",
      "Average Sentence Length: 21.8\n",
      "Percentage of Complex Words: 26.61\n",
      "Fog Index: 126.64\n",
      "Average Number of Words Per Sentence: 21.8\n",
      "Complex Word Count: 290\n",
      "Word count: 627\n",
      "Syllable per Word: 1.95\n",
      "Personal Pronouns: 46\n",
      "Average Word Length: 6.27\n"
     ]
    }
   ],
   "source": [
    "variables_computation('https://insights.blackcoffer.com/what-is-the-future-of-mobile-apps/',20442.2)"
   ]
  },
  {
   "cell_type": "code",
   "execution_count": 656,
   "id": "1ce434a2",
   "metadata": {},
   "outputs": [
    {
     "name": "stdout",
     "output_type": "stream",
     "text": [
      "url_Id(20904)\n",
      "Positive Score: 25\n",
      "Negative Score: 8\n",
      "Polarity Score: 0.52\n",
      "Subjectivity Score: 0.09\n",
      "Average Sentence Length: 23.56\n",
      "Percentage of Complex Words: 33.45\n",
      "Fog Index: 92.18\n",
      "Average Number of Words Per Sentence: 23.56\n",
      "Complex Word Count: 197\n",
      "Word count: 357\n",
      "Syllable per Word: 2.24\n",
      "Personal Pronouns: 9\n",
      "Average Word Length: 6.94\n"
     ]
    }
   ],
   "source": [
    "variables_computation('https://insights.blackcoffer.com/impact-of-ai-in-health-and-medicine/',20904)"
   ]
  },
  {
   "cell_type": "code",
   "execution_count": 657,
   "id": "8560b22f",
   "metadata": {},
   "outputs": [
    {
     "name": "stdout",
     "output_type": "stream",
     "text": [
      "url_Id(21365.8)\n",
      "Positive Score: 15\n",
      "Negative Score: 8\n",
      "Polarity Score: 0.3\n",
      "Subjectivity Score: 0.13\n",
      "Average Sentence Length: 13.2069\n",
      "Percentage of Complex Words: 25.59\n",
      "Fog Index: 49.43\n",
      "Average Number of Words Per Sentence: 13.2069\n",
      "Complex Word Count: 98\n",
      "Word count: 181\n",
      "Syllable per Word: 2.03\n",
      "Personal Pronouns: 16\n",
      "Average Word Length: 6.36\n"
     ]
    }
   ],
   "source": [
    "variables_computation('https://insights.blackcoffer.com/telemedicine-what-patients-like-and-dislike-about-it/',21365.8)"
   ]
  },
  {
   "cell_type": "code",
   "execution_count": 658,
   "id": "d65d912b",
   "metadata": {},
   "outputs": [
    {
     "name": "stdout",
     "output_type": "stream",
     "text": [
      "url_Id(21827.6)\n",
      "Positive Score: 5\n",
      "Negative Score: 0\n",
      "Polarity Score: 1.0\n",
      "Subjectivity Score: 0.05\n",
      "Average Sentence Length: 16.0\n",
      "Percentage of Complex Words: 31.87\n",
      "Fog Index: 33.15\n",
      "Average Number of Words Per Sentence: 16.0\n",
      "Complex Word Count: 51\n",
      "Word count: 96\n",
      "Syllable per Word: 2.11\n",
      "Personal Pronouns: 6\n",
      "Average Word Length: 6.64\n"
     ]
    }
   ],
   "source": [
    "variables_computation('https://insights.blackcoffer.com/how-we-forecast-future-technologies/',21827.6)"
   ]
  },
  {
   "cell_type": "code",
   "execution_count": 659,
   "id": "010c6929",
   "metadata": {},
   "outputs": [
    {
     "name": "stdout",
     "output_type": "stream",
     "text": [
      "url_Id(22289.4)\n",
      "Positive Score: 23\n",
      "Negative Score: 36\n",
      "Polarity Score: -0.22\n",
      "Subjectivity Score: 0.15\n",
      "Average Sentence Length: 14.6364\n",
      "Percentage of Complex Words: 20.62\n",
      "Fog Index: 74.65\n",
      "Average Number of Words Per Sentence: 14.6364\n",
      "Complex Word Count: 166\n",
      "Word count: 383\n",
      "Syllable per Word: 1.84\n",
      "Personal Pronouns: 101\n",
      "Average Word Length: 5.91\n"
     ]
    }
   ],
   "source": [
    "variables_computation('https://insights.blackcoffer.com/can-robots-tackle-late-life-loneliness/',22289.4)"
   ]
  },
  {
   "cell_type": "code",
   "execution_count": 660,
   "id": "ce324e80",
   "metadata": {},
   "outputs": [
    {
     "name": "stdout",
     "output_type": "stream",
     "text": [
      "url_Id(22751.2)\n",
      "Positive Score: 9\n",
      "Negative Score: 2\n",
      "Polarity Score: 0.64\n",
      "Subjectivity Score: 0.12\n",
      "Average Sentence Length: 17.7\n",
      "Percentage of Complex Words: 23.73\n",
      "Fog Index: 26.29\n",
      "Average Number of Words Per Sentence: 17.7\n",
      "Complex Word Count: 42\n",
      "Word count: 89\n",
      "Syllable per Word: 1.9\n",
      "Personal Pronouns: 9\n",
      "Average Word Length: 6.01\n"
     ]
    }
   ],
   "source": [
    "variables_computation('https://insights.blackcoffer.com/embedding-care-robots-into-society-socio-technical-considerations/',22751.2)"
   ]
  },
  {
   "cell_type": "code",
   "execution_count": 663,
   "id": "8ffe0385",
   "metadata": {},
   "outputs": [
    {
     "name": "stdout",
     "output_type": "stream",
     "text": [
      "url_Id(23213)\n",
      "Positive Score: 47\n",
      "Negative Score: 19\n",
      "Polarity Score: 0.42\n",
      "Subjectivity Score: 0.1\n",
      "Average Sentence Length: 16.1884\n",
      "Percentage of Complex Words: 36.88\n",
      "Fog Index: 179.55\n",
      "Average Number of Words Per Sentence: 16.1884\n",
      "Complex Word Count: 412\n",
      "Word count: 660\n",
      "Syllable per Word: 2.29\n",
      "Personal Pronouns: 40\n",
      "Average Word Length: 7.06\n"
     ]
    }
   ],
   "source": [
    "variables_computation('https://insights.blackcoffer.com/management-challenges-for-future-digitalization-of-healthcare-services/',23213)"
   ]
  },
  {
   "cell_type": "code",
   "execution_count": 664,
   "id": "bd8d8afc",
   "metadata": {},
   "outputs": [
    {
     "name": "stdout",
     "output_type": "stream",
     "text": [
      "url_Id(23674.8)\n",
      "Positive Score: 10\n",
      "Negative Score: 18\n",
      "Polarity Score: -0.29\n",
      "Subjectivity Score: 0.1\n",
      "Average Sentence Length: 16.9677\n",
      "Percentage of Complex Words: 28.52\n",
      "Fog Index: 71.41\n",
      "Average Number of Words Per Sentence: 16.9677\n",
      "Complex Word Count: 150\n",
      "Word count: 278\n",
      "Syllable per Word: 1.93\n",
      "Personal Pronouns: 17\n",
      "Average Word Length: 6.23\n"
     ]
    }
   ],
   "source": [
    "variables_computation('https://insights.blackcoffer.com/are-we-any-closer-to-preventing-a-nuclear-holocaust/',23674.8)"
   ]
  },
  {
   "cell_type": "code",
   "execution_count": 666,
   "id": "5b30fdbe",
   "metadata": {},
   "outputs": [
    {
     "name": "stdout",
     "output_type": "stream",
     "text": [
      "url_Id(24136.6)\n",
      "Positive Score: 23\n",
      "Negative Score: 37\n",
      "Polarity Score: -0.23\n",
      "Subjectivity Score: 0.12\n",
      "Average Sentence Length: 20.9\n",
      "Percentage of Complex Words: 23.83\n",
      "Fog Index: 109.13\n",
      "Average Number of Words Per Sentence: 20.9\n",
      "Complex Word Count: 249\n",
      "Word count: 507\n",
      "Syllable per Word: 1.88\n",
      "Personal Pronouns: 53\n",
      "Average Word Length: 6.02\n"
     ]
    }
   ],
   "source": [
    "variables_computation('https://insights.blackcoffer.com/will-technology-eliminate-the-need-for-animal-testing-in-drug-development/',24136.6)"
   ]
  },
  {
   "cell_type": "code",
   "execution_count": 667,
   "id": "814f26df",
   "metadata": {},
   "outputs": [
    {
     "name": "stdout",
     "output_type": "stream",
     "text": [
      "url_Id(24598.4)\n",
      "Positive Score: 25\n",
      "Negative Score: 49\n",
      "Polarity Score: -0.32\n",
      "Subjectivity Score: 0.08\n",
      "Average Sentence Length: 22.8108\n",
      "Percentage of Complex Words: 30.81\n",
      "Fog Index: 220.32\n",
      "Average Number of Words Per Sentence: 22.8108\n",
      "Complex Word Count: 520\n",
      "Word count: 903\n",
      "Syllable per Word: 2.11\n",
      "Personal Pronouns: 58\n",
      "Average Word Length: 6.63\n"
     ]
    }
   ],
   "source": [
    "variables_computation('https://insights.blackcoffer.com/will-we-ever-understand-the-nature-of-consciousness/',24598.4)"
   ]
  },
  {
   "cell_type": "code",
   "execution_count": 668,
   "id": "fbae5549",
   "metadata": {},
   "outputs": [
    {
     "name": "stdout",
     "output_type": "stream",
     "text": [
      "url_Id(25060.2)\n",
      "Positive Score: 42\n",
      "Negative Score: 23\n",
      "Polarity Score: 0.29\n",
      "Subjectivity Score: 0.08\n",
      "Average Sentence Length: 23.9722\n",
      "Percentage of Complex Words: 21.9\n",
      "Fog Index: 159.96\n",
      "Average Number of Words Per Sentence: 23.9722\n",
      "Complex Word Count: 378\n",
      "Word count: 792\n",
      "Syllable per Word: 1.85\n",
      "Personal Pronouns: 57\n",
      "Average Word Length: 5.92\n"
     ]
    }
   ],
   "source": [
    "variables_computation('https://insights.blackcoffer.com/will-we-ever-colonize-outer-space/',25060.2)"
   ]
  },
  {
   "cell_type": "code",
   "execution_count": 669,
   "id": "cebb2383",
   "metadata": {},
   "outputs": [
    {
     "name": "stdout",
     "output_type": "stream",
     "text": [
      "url_Id(25522)\n",
      "Positive Score: 34\n",
      "Negative Score: 25\n",
      "Polarity Score: 0.15\n",
      "Subjectivity Score: 0.08\n",
      "Average Sentence Length: 20.8261\n",
      "Percentage of Complex Words: 23.52\n",
      "Fog Index: 144.61\n",
      "Average Number of Words Per Sentence: 20.8261\n",
      "Complex Word Count: 338\n",
      "Word count: 726\n",
      "Syllable per Word: 1.88\n",
      "Personal Pronouns: 57\n",
      "Average Word Length: 6.06\n"
     ]
    }
   ],
   "source": [
    "variables_computation('https://insights.blackcoffer.com/what-is-the-chance-homo-sapiens-will-survive-for-the-next-500-years/',25522)"
   ]
  },
  {
   "cell_type": "code",
   "execution_count": 670,
   "id": "13ced0ec",
   "metadata": {},
   "outputs": [
    {
     "name": "stdout",
     "output_type": "stream",
     "text": [
      "url_Id(25983.8)\n",
      "Positive Score: 25\n",
      "Negative Score: 7\n",
      "Polarity Score: 0.56\n",
      "Subjectivity Score: 0.08\n",
      "Average Sentence Length: 12.9552\n",
      "Percentage of Complex Words: 22.24\n",
      "Fog Index: 86.09\n",
      "Average Number of Words Per Sentence: 12.9552\n",
      "Complex Word Count: 193\n",
      "Word count: 398\n",
      "Syllable per Word: 1.77\n",
      "Personal Pronouns: 77\n",
      "Average Word Length: 5.81\n"
     ]
    }
   ],
   "source": [
    "variables_computation('https://insights.blackcoffer.com/why-does-your-business-need-a-chatbot/',25983.8)"
   ]
  },
  {
   "cell_type": "code",
   "execution_count": 671,
   "id": "59a2afd4",
   "metadata": {},
   "outputs": [
    {
     "name": "stdout",
     "output_type": "stream",
     "text": [
      "url_Id(26445.6)\n",
      "Positive Score: 39\n",
      "Negative Score: 7\n",
      "Polarity Score: 0.7\n",
      "Subjectivity Score: 0.08\n",
      "Average Sentence Length: 24.2069\n",
      "Percentage of Complex Words: 21.58\n",
      "Fog Index: 129.83\n",
      "Average Number of Words Per Sentence: 24.2069\n",
      "Complex Word Count: 303\n",
      "Word count: 579\n",
      "Syllable per Word: 1.76\n",
      "Personal Pronouns: 86\n",
      "Average Word Length: 5.73\n"
     ]
    }
   ],
   "source": [
    "variables_computation('https://insights.blackcoffer.com/how-you-lead-a-project-or-a-team-without-any-technical-expertise/',26445.6)"
   ]
  },
  {
   "cell_type": "code",
   "execution_count": 673,
   "id": "9af14588",
   "metadata": {},
   "outputs": [
    {
     "name": "stdout",
     "output_type": "stream",
     "text": [
      "url_Id(26907.4)\n",
      "Positive Score: 30\n",
      "Negative Score: 6\n",
      "Polarity Score: 0.67\n",
      "Subjectivity Score: 0.18\n",
      "Average Sentence Length: 27.3529\n",
      "Percentage of Complex Words: 24.52\n",
      "Fog Index: 55.41\n",
      "Average Number of Words Per Sentence: 27.3529\n",
      "Complex Word Count: 114\n",
      "Word count: 195\n",
      "Syllable per Word: 1.9\n",
      "Personal Pronouns: 31\n",
      "Average Word Length: 5.84\n"
     ]
    }
   ],
   "source": [
    "variables_computation('https://insights.blackcoffer.com/can-you-be-great-leader-without-technical-expertise/',26907.4)"
   ]
  },
  {
   "cell_type": "code",
   "execution_count": 674,
   "id": "1dae9a1a",
   "metadata": {},
   "outputs": [
    {
     "name": "stdout",
     "output_type": "stream",
     "text": [
      "url_Id(27369.2)\n",
      "Positive Score: 39\n",
      "Negative Score: 16\n",
      "Polarity Score: 0.42\n",
      "Subjectivity Score: 0.06\n",
      "Average Sentence Length: 22.9559\n",
      "Percentage of Complex Words: 29.85\n",
      "Fog Index: 198.34\n",
      "Average Number of Words Per Sentence: 22.9559\n",
      "Complex Word Count: 466\n",
      "Word count: 855\n",
      "Syllable per Word: 2.06\n",
      "Personal Pronouns: 32\n",
      "Average Word Length: 6.4\n"
     ]
    }
   ],
   "source": [
    "variables_computation('https://insights.blackcoffer.com/how-does-artificial-intelligence-affect-the-environment/',27369.2)"
   ]
  },
  {
   "cell_type": "code",
   "execution_count": 675,
   "id": "fd0ce3d8",
   "metadata": {},
   "outputs": [
    {
     "name": "stdout",
     "output_type": "stream",
     "text": [
      "url_Id(27831)\n",
      "Positive Score: 24\n",
      "Negative Score: 73\n",
      "Polarity Score: -0.51\n",
      "Subjectivity Score: 0.21\n",
      "Average Sentence Length: 13.7571\n",
      "Percentage of Complex Words: 24.61\n",
      "Fog Index: 104.64\n",
      "Average Number of Words Per Sentence: 13.7571\n",
      "Complex Word Count: 237\n",
      "Word count: 467\n",
      "Syllable per Word: 1.95\n",
      "Personal Pronouns: 105\n",
      "Average Word Length: 6.09\n"
     ]
    }
   ],
   "source": [
    "variables_computation('https://insights.blackcoffer.com/how-to-overcome-your-fear-of-making-mistakes-2/',27831)"
   ]
  },
  {
   "cell_type": "code",
   "execution_count": 676,
   "id": "2c96dec3",
   "metadata": {},
   "outputs": [
    {
     "name": "stdout",
     "output_type": "stream",
     "text": [
      "url_Id(28292.8)\n",
      "Positive Score: 55\n",
      "Negative Score: 22\n",
      "Polarity Score: 0.43\n",
      "Subjectivity Score: 0.15\n",
      "Average Sentence Length: 15.1644\n",
      "Percentage of Complex Words: 17.71\n",
      "Fog Index: 85.48\n",
      "Average Number of Words Per Sentence: 15.1644\n",
      "Complex Word Count: 196\n",
      "Word count: 519\n",
      "Syllable per Word: 1.74\n",
      "Personal Pronouns: 112\n",
      "Average Word Length: 5.77\n"
     ]
    }
   ],
   "source": [
    "variables_computation('https://insights.blackcoffer.com/is-perfection-the-greatest-enemy-of-productivity/',28292.8)"
   ]
  },
  {
   "cell_type": "code",
   "execution_count": 677,
   "id": "6b32e98f",
   "metadata": {},
   "outputs": [
    {
     "name": "stdout",
     "output_type": "stream",
     "text": [
      "url_Id(28754.6)\n",
      "Positive Score: 27\n",
      "Negative Score: 46\n",
      "Polarity Score: -0.26\n",
      "Subjectivity Score: 0.11\n",
      "Average Sentence Length: 19.7627\n",
      "Percentage of Complex Words: 22.21\n",
      "Fog Index: 112.49\n",
      "Average Number of Words Per Sentence: 19.7627\n",
      "Complex Word Count: 259\n",
      "Word count: 658\n",
      "Syllable per Word: 1.86\n",
      "Personal Pronouns: 20\n",
      "Average Word Length: 6.2\n"
     ]
    }
   ],
   "source": [
    "variables_computation('https://insights.blackcoffer.com/global-financial-crisis-2008-causes-effects-and-its-solution/',28754.6)"
   ]
  },
  {
   "cell_type": "code",
   "execution_count": 678,
   "id": "f835c601",
   "metadata": {},
   "outputs": [
    {
     "name": "stdout",
     "output_type": "stream",
     "text": [
      "url_Id(29216.4)\n",
      "Positive Score: 31\n",
      "Negative Score: 26\n",
      "Polarity Score: 0.09\n",
      "Subjectivity Score: 0.07\n",
      "Average Sentence Length: 14.7128\n",
      "Percentage of Complex Words: 29.07\n",
      "Fog Index: 172.43\n",
      "Average Number of Words Per Sentence: 14.7128\n",
      "Complex Word Count: 402\n",
      "Word count: 764\n",
      "Syllable per Word: 2.08\n",
      "Personal Pronouns: 45\n",
      "Average Word Length: 6.61\n"
     ]
    }
   ],
   "source": [
    "variables_computation('https://insights.blackcoffer.com/gender-diversity-and-equality-in-the-tech-industry/',29216.4)"
   ]
  },
  {
   "cell_type": "code",
   "execution_count": 679,
   "id": "6486a5cf",
   "metadata": {},
   "outputs": [
    {
     "name": "stdout",
     "output_type": "stream",
     "text": [
      "url_Id(29678.2)\n",
      "Positive Score: 24\n",
      "Negative Score: 81\n",
      "Polarity Score: -0.54\n",
      "Subjectivity Score: 0.21\n",
      "Average Sentence Length: 14.0833\n",
      "Percentage of Complex Words: 25.44\n",
      "Fog Index: 113.38\n",
      "Average Number of Words Per Sentence: 14.0833\n",
      "Complex Word Count: 258\n",
      "Word count: 496\n",
      "Syllable per Word: 1.96\n",
      "Personal Pronouns: 108\n",
      "Average Word Length: 6.14\n"
     ]
    }
   ],
   "source": [
    "variables_computation('https://insights.blackcoffer.com/how-to-overcome-your-fear-of-making-mistakes/',29678.2)"
   ]
  },
  {
   "cell_type": "code",
   "execution_count": 680,
   "id": "494cf401",
   "metadata": {},
   "outputs": [
    {
     "name": "stdout",
     "output_type": "stream",
     "text": [
      "url_Id(30140)\n",
      "Positive Score: 40\n",
      "Negative Score: 35\n",
      "Polarity Score: 0.07\n",
      "Subjectivity Score: 0.1\n",
      "Average Sentence Length: 23.1642\n",
      "Percentage of Complex Words: 23.2\n",
      "Fog Index: 153.28\n",
      "Average Number of Words Per Sentence: 23.1642\n",
      "Complex Word Count: 360\n",
      "Word count: 755\n",
      "Syllable per Word: 1.82\n",
      "Personal Pronouns: 72\n",
      "Average Word Length: 6.0\n"
     ]
    }
   ],
   "source": [
    "variables_computation('https://insights.blackcoffer.com/how-small-business-can-survive-the-coronavirus-crisis/',30140)"
   ]
  },
  {
   "cell_type": "code",
   "execution_count": 681,
   "id": "e2828040",
   "metadata": {},
   "outputs": [
    {
     "name": "stdout",
     "output_type": "stream",
     "text": [
      "url_Id(30601.8)\n",
      "Positive Score: 23\n",
      "Negative Score: 13\n",
      "Polarity Score: 0.28\n",
      "Subjectivity Score: 0.09\n",
      "Average Sentence Length: 27.9259\n",
      "Percentage of Complex Words: 24.8\n",
      "Fog Index: 84.72\n",
      "Average Number of Words Per Sentence: 27.9259\n",
      "Complex Word Count: 187\n",
      "Word count: 403\n",
      "Syllable per Word: 1.98\n",
      "Personal Pronouns: 12\n",
      "Average Word Length: 6.37\n"
     ]
    }
   ],
   "source": [
    "variables_computation('https://insights.blackcoffer.com/impacts-of-covid-19-on-vegetable-vendors-and-food-stalls/',30601.8)"
   ]
  },
  {
   "cell_type": "code",
   "execution_count": 682,
   "id": "e6f7b3d9",
   "metadata": {},
   "outputs": [
    {
     "name": "stdout",
     "output_type": "stream",
     "text": [
      "url_Id(31063.6)\n",
      "Positive Score: 36\n",
      "Negative Score: 25\n",
      "Polarity Score: 0.18\n",
      "Subjectivity Score: 0.09\n",
      "Average Sentence Length: 29.375\n",
      "Percentage of Complex Words: 27.66\n",
      "Fog Index: 141.06\n",
      "Average Number of Words Per Sentence: 29.375\n",
      "Complex Word Count: 325\n",
      "Word count: 657\n",
      "Syllable per Word: 2.04\n",
      "Personal Pronouns: 17\n",
      "Average Word Length: 6.58\n"
     ]
    }
   ],
   "source": [
    "variables_computation('https://insights.blackcoffer.com/impacts-of-covid-19-on-vegetable-vendors/',31063.6)"
   ]
  },
  {
   "cell_type": "code",
   "execution_count": 683,
   "id": "cb0423f9",
   "metadata": {},
   "outputs": [
    {
     "name": "stdout",
     "output_type": "stream",
     "text": [
      "url_Id(31525.4)\n",
      "Positive Score: 32\n",
      "Negative Score: 52\n",
      "Polarity Score: -0.24\n",
      "Subjectivity Score: 0.1\n",
      "Average Sentence Length: 20.7375\n",
      "Percentage of Complex Words: 28.51\n",
      "Fog Index: 200.6\n",
      "Average Number of Words Per Sentence: 20.7375\n",
      "Complex Word Count: 473\n",
      "Word count: 869\n",
      "Syllable per Word: 2.01\n",
      "Personal Pronouns: 49\n",
      "Average Word Length: 6.39\n"
     ]
    }
   ],
   "source": [
    "variables_computation('https://insights.blackcoffer.com/impact-of-covid-19-pandemic-on-tourism-aviation-industries/',31525.4)"
   ]
  },
  {
   "cell_type": "code",
   "execution_count": 684,
   "id": "f26867b0",
   "metadata": {},
   "outputs": [
    {
     "name": "stdout",
     "output_type": "stream",
     "text": [
      "url_Id(31987.2)\n",
      "Positive Score: 36\n",
      "Negative Score: 11\n",
      "Polarity Score: 0.53\n",
      "Subjectivity Score: 0.02\n",
      "Average Sentence Length: 13.0323\n",
      "Percentage of Complex Words: 26.11\n",
      "Fog Index: 348.05\n",
      "Average Number of Words Per Sentence: 13.0323\n",
      "Complex Word Count: 844\n",
      "Word count: 2050\n",
      "Syllable per Word: 1.88\n",
      "Personal Pronouns: 24\n",
      "Average Word Length: 6.44\n"
     ]
    }
   ],
   "source": [
    "variables_computation('https://insights.blackcoffer.com/impact-of-covid-19-pandemic-on-sports-events-around-the-world/',31987.2)"
   ]
  },
  {
   "cell_type": "code",
   "execution_count": 685,
   "id": "9f82201c",
   "metadata": {},
   "outputs": [
    {
     "name": "stdout",
     "output_type": "stream",
     "text": [
      "url_Id(32449)\n",
      "Positive Score: 36\n",
      "Negative Score: 49\n",
      "Polarity Score: -0.15\n",
      "Subjectivity Score: 0.1\n",
      "Average Sentence Length: 20.8675\n",
      "Percentage of Complex Words: 26.73\n",
      "Fog Index: 195.89\n",
      "Average Number of Words Per Sentence: 20.8675\n",
      "Complex Word Count: 463\n",
      "Word count: 876\n",
      "Syllable per Word: 1.96\n",
      "Personal Pronouns: 64\n",
      "Average Word Length: 6.22\n"
     ]
    }
   ],
   "source": [
    "variables_computation('https://insights.blackcoffer.com/changing-landscape-and-emerging-trends-in-the-indian-it-ites-industry/',32449)"
   ]
  },
  {
   "cell_type": "code",
   "execution_count": 686,
   "id": "5d685117",
   "metadata": {},
   "outputs": [
    {
     "name": "stdout",
     "output_type": "stream",
     "text": [
      "url_Id(32910.8)\n",
      "Positive Score: 28\n",
      "Negative Score: 69\n",
      "Polarity Score: -0.42\n",
      "Subjectivity Score: 0.11\n",
      "Average Sentence Length: 23.9355\n",
      "Percentage of Complex Words: 35.71\n",
      "Fog Index: 226.29\n",
      "Average Number of Words Per Sentence: 23.9355\n",
      "Complex Word Count: 530\n",
      "Word count: 858\n",
      "Syllable per Word: 2.18\n",
      "Personal Pronouns: 20\n",
      "Average Word Length: 6.73\n"
     ]
    }
   ],
   "source": [
    "variables_computation('https://insights.blackcoffer.com/online-gaming-adolescent-online-gaming-effects-demotivated-depression-musculoskeletal-and-psychosomatic-symptoms/',32910.8)"
   ]
  },
  {
   "cell_type": "code",
   "execution_count": 106,
   "id": "234460a6",
   "metadata": {},
   "outputs": [
    {
     "name": "stdout",
     "output_type": "stream",
     "text": [
      "url_Id(33372.6)\n",
      "Positive Score: 3\n",
      "Negative Score: 3\n",
      "Polarity Score: 0.0\n",
      "Subjectivity Score: 0.08\n",
      "Average Sentence Length: 19.38\n",
      "Percentage of Complex Words: 23.87\n",
      "Fog Index: 24.35\n",
      "Average Number of Words Per Sentence: 19.38\n",
      "Complex Word Count: 37\n",
      "Word count: 75\n",
      "Syllable per Word: 2.01\n",
      "Personal Pronouns: 11\n",
      "Average Word Length: 6.3\n"
     ]
    }
   ],
   "source": [
    "variables_computation2345('https://insights.blackcoffer.com/human-rights-outlook/',33372.6)"
   ]
  },
  {
   "cell_type": "code",
   "execution_count": 107,
   "id": "5bb5da38",
   "metadata": {},
   "outputs": [
    {
     "name": "stdout",
     "output_type": "stream",
     "text": [
      "url_Id(33834.4)\n",
      "Positive Score: 33\n",
      "Negative Score: 4\n",
      "Polarity Score: 0.78\n",
      "Subjectivity Score: 0.08\n",
      "Average Sentence Length: 20.2\n",
      "Percentage of Complex Words: 26.26\n",
      "Fog Index: 108.11\n",
      "Average Number of Words Per Sentence: 20.2\n",
      "Complex Word Count: 244\n",
      "Word count: 456\n",
      "Syllable per Word: 1.93\n",
      "Personal Pronouns: 43\n",
      "Average Word Length: 6.3\n"
     ]
    }
   ],
   "source": [
    "variables_computation2345('https://insights.blackcoffer.com/how-voice-search-makes-your-business-a-successful-business/',33834.4)"
   ]
  },
  {
   "cell_type": "code",
   "execution_count": 108,
   "id": "e22a7dff",
   "metadata": {},
   "outputs": [
    {
     "name": "stdout",
     "output_type": "stream",
     "text": [
      "url_Id(34296.2)\n",
      "Positive Score: 37\n",
      "Negative Score: 33\n",
      "Polarity Score: 0.06\n",
      "Subjectivity Score: 0.09\n",
      "Average Sentence Length: 15.33\n",
      "Percentage of Complex Words: 23.05\n",
      "Fog Index: 176.02\n",
      "Average Number of Words Per Sentence: 15.33\n",
      "Complex Word Count: 417\n",
      "Word count: 819\n",
      "Syllable per Word: 1.89\n",
      "Personal Pronouns: 62\n",
      "Average Word Length: 6.09\n"
     ]
    }
   ],
   "source": [
    "variables_computation('https://insights.blackcoffer.com/how-the-covid-19-crisis-is-redefining-jobs-and-services/',34296.2)"
   ]
  },
  {
   "cell_type": "code",
   "execution_count": 109,
   "id": "cdc7bb15",
   "metadata": {},
   "outputs": [
    {
     "name": "stdout",
     "output_type": "stream",
     "text": [
      "url_Id(34758)\n",
      "Positive Score: 55\n",
      "Negative Score: 16\n",
      "Polarity Score: 0.55\n",
      "Subjectivity Score: 0.08\n",
      "Average Sentence Length: 19.2\n",
      "Percentage of Complex Words: 29.37\n",
      "Fog Index: 212.55\n",
      "Average Number of Words Per Sentence: 19.2\n",
      "Complex Word Count: 502\n",
      "Word count: 908\n",
      "Syllable per Word: 1.98\n",
      "Personal Pronouns: 84\n",
      "Average Word Length: 6.4\n"
     ]
    }
   ],
   "source": [
    "variables_computation('https://insights.blackcoffer.com/how-to-increase-social-media-engagement-for-marketers/',34758)"
   ]
  },
  {
   "cell_type": "code",
   "execution_count": 110,
   "id": "ab26f5c8",
   "metadata": {},
   "outputs": [
    {
     "name": "stdout",
     "output_type": "stream",
     "text": [
      "url_Id(35219.8)\n",
      "Positive Score: 30\n",
      "Negative Score: 33\n",
      "Polarity Score: -0.05\n",
      "Subjectivity Score: 0.12\n",
      "Average Sentence Length: 22.28\n",
      "Percentage of Complex Words: 25.69\n",
      "Fog Index: 117.88\n",
      "Average Number of Words Per Sentence: 22.28\n",
      "Complex Word Count: 269\n",
      "Word count: 544\n",
      "Syllable per Word: 1.95\n",
      "Personal Pronouns: 38\n",
      "Average Word Length: 6.25\n"
     ]
    }
   ],
   "source": [
    "variables_computation('https://insights.blackcoffer.com/impacts-of-covid-19-on-streets-sides-food-stalls/',35219.8)"
   ]
  },
  {
   "cell_type": "code",
   "execution_count": 111,
   "id": "a3e20e92",
   "metadata": {},
   "outputs": [
    {
     "name": "stdout",
     "output_type": "stream",
     "text": [
      "url_Id(35681.6)\n",
      "Positive Score: 15\n",
      "Negative Score: 44\n",
      "Polarity Score: -0.49\n",
      "Subjectivity Score: 0.06\n",
      "Average Sentence Length: 21.95\n",
      "Percentage of Complex Words: 29.12\n",
      "Fog Index: 213.65\n",
      "Average Number of Words Per Sentence: 21.95\n",
      "Complex Word Count: 505\n",
      "Word count: 981\n",
      "Syllable per Word: 2.01\n",
      "Personal Pronouns: 14\n",
      "Average Word Length: 6.64\n"
     ]
    }
   ],
   "source": [
    "variables_computation('https://insights.blackcoffer.com/coronavirus-impact-on-energy-markets-2/',35681.6)"
   ]
  },
  {
   "cell_type": "code",
   "execution_count": 112,
   "id": "b63cb7c1",
   "metadata": {},
   "outputs": [
    {
     "name": "stdout",
     "output_type": "stream",
     "text": [
      "url_Id(36143.4)\n",
      "Positive Score: 16\n",
      "Negative Score: 42\n",
      "Polarity Score: -0.45\n",
      "Subjectivity Score: 0.12\n",
      "Average Sentence Length: 19.33\n",
      "Percentage of Complex Words: 25.77\n",
      "Fog Index: 107.91\n",
      "Average Number of Words Per Sentence: 19.33\n",
      "Complex Word Count: 244\n",
      "Word count: 490\n",
      "Syllable per Word: 1.95\n",
      "Personal Pronouns: 29\n",
      "Average Word Length: 6.32\n"
     ]
    }
   ],
   "source": [
    "variables_computation('https://insights.blackcoffer.com/coronavirus-impact-on-the-hospitality-industry-5/',36143.4)"
   ]
  },
  {
   "cell_type": "code",
   "execution_count": 113,
   "id": "d06e29d4",
   "metadata": {},
   "outputs": [
    {
     "name": "stdout",
     "output_type": "stream",
     "text": [
      "url_Id(36605.2)\n",
      "Positive Score: 36\n",
      "Negative Score: 47\n",
      "Polarity Score: -0.13\n",
      "Subjectivity Score: 0.14\n",
      "Average Sentence Length: 16.71\n",
      "Percentage of Complex Words: 24.52\n",
      "Fog Index: 127.81\n",
      "Average Number of Words Per Sentence: 16.71\n",
      "Complex Word Count: 295\n",
      "Word count: 573\n",
      "Syllable per Word: 1.9\n",
      "Personal Pronouns: 67\n",
      "Average Word Length: 5.97\n"
     ]
    }
   ],
   "source": [
    "variables_computation('https://insights.blackcoffer.com/lessons-from-the-past-some-key-learnings-relevant-to-the-coronavirus-crisis-4/',36605.2)"
   ]
  },
  {
   "cell_type": "code",
   "execution_count": 114,
   "id": "a46a71aa",
   "metadata": {},
   "outputs": [
    {
     "name": "stdout",
     "output_type": "stream",
     "text": [
      "url_Id(37067)\n",
      "Positive Score: 23\n",
      "Negative Score: 27\n",
      "Polarity Score: -0.08\n",
      "Subjectivity Score: 0.1\n",
      "Average Sentence Length: 28.66\n",
      "Percentage of Complex Words: 25.9\n",
      "Fog Index: 123.16\n",
      "Average Number of Words Per Sentence: 28.66\n",
      "Complex Word Count: 282\n",
      "Word count: 519\n",
      "Syllable per Word: 1.92\n",
      "Personal Pronouns: 43\n",
      "Average Word Length: 6.09\n"
     ]
    }
   ],
   "source": [
    "variables_computation('https://insights.blackcoffer.com/estimating-the-impact-of-covid-19-on-the-world-of-work-2/',37067)"
   ]
  },
  {
   "cell_type": "code",
   "execution_count": 116,
   "id": "b763be13",
   "metadata": {},
   "outputs": [
    {
     "name": "stdout",
     "output_type": "stream",
     "text": [
      "url_Id(37528.8)\n",
      "Positive Score: 20\n",
      "Negative Score: 44\n",
      "Polarity Score: -0.37\n",
      "Subjectivity Score: 0.08\n",
      "Average Sentence Length: 17.92\n",
      "Percentage of Complex Words: 30.26\n",
      "Fog Index: 155.3\n",
      "Average Number of Words Per Sentence: 17.92\n",
      "Complex Word Count: 358\n",
      "Word count: 780\n",
      "Syllable per Word: 2.13\n",
      "Personal Pronouns: 15\n",
      "Average Word Length: 6.9\n"
     ]
    }
   ],
   "source": [
    "variables_computation2345('https://insights.blackcoffer.com/estimating-the-impact-of-covid-19-on-the-world-of-work-3/',37528.8)"
   ]
  },
  {
   "cell_type": "code",
   "execution_count": 117,
   "id": "62279c77",
   "metadata": {},
   "outputs": [
    {
     "name": "stdout",
     "output_type": "stream",
     "text": [
      "url_Id(37990.6)\n",
      "Positive Score: 4\n",
      "Negative Score: 3\n",
      "Polarity Score: 0.14\n",
      "Subjectivity Score: 0.08\n",
      "Average Sentence Length: 19.67\n",
      "Percentage of Complex Words: 21.47\n",
      "Fog Index: 23.79\n",
      "Average Number of Words Per Sentence: 19.67\n",
      "Complex Word Count: 38\n",
      "Word count: 85\n",
      "Syllable per Word: 1.86\n",
      "Personal Pronouns: 11\n",
      "Average Word Length: 6.02\n"
     ]
    }
   ],
   "source": [
    "variables_computation('https://insights.blackcoffer.com/travel-and-tourism-outlook/',37990.6)"
   ]
  },
  {
   "cell_type": "code",
   "execution_count": 118,
   "id": "34fde2e9",
   "metadata": {},
   "outputs": [
    {
     "name": "stdout",
     "output_type": "stream",
     "text": [
      "url_Id(38452.4)\n",
      "Positive Score: 28\n",
      "Negative Score: 45\n",
      "Polarity Score: -0.23\n",
      "Subjectivity Score: 0.13\n",
      "Average Sentence Length: 18.37\n",
      "Percentage of Complex Words: 24.72\n",
      "Fog Index: 117.09\n",
      "Average Number of Words Per Sentence: 18.37\n",
      "Complex Word Count: 268\n",
      "Word count: 566\n",
      "Syllable per Word: 1.89\n",
      "Personal Pronouns: 79\n",
      "Average Word Length: 6.03\n"
     ]
    }
   ],
   "source": [
    "variables_computation('https://insights.blackcoffer.com/gaming-disorder-and-effects-of-gaming-on-health/',38452.4)"
   ]
  },
  {
   "cell_type": "code",
   "execution_count": 119,
   "id": "dce4de88",
   "metadata": {},
   "outputs": [
    {
     "name": "stdout",
     "output_type": "stream",
     "text": [
      "url_Id(38914.2)\n",
      "Positive Score: 8\n",
      "Negative Score: 25\n",
      "Polarity Score: -0.52\n",
      "Subjectivity Score: 0.1\n",
      "Average Sentence Length: 17.79\n",
      "Percentage of Complex Words: 27.11\n",
      "Fog Index: 76.44\n",
      "Average Number of Words Per Sentence: 17.79\n",
      "Complex Word Count: 164\n",
      "Word count: 335\n",
      "Syllable per Word: 1.96\n",
      "Personal Pronouns: 16\n",
      "Average Word Length: 6.42\n"
     ]
    }
   ],
   "source": [
    "variables_computation('https://insights.blackcoffer.com/what-is-the-repercussion-of-the-environment-due-to-the-covid-19-pandemic-situation/',38914.2)"
   ]
  },
  {
   "cell_type": "code",
   "execution_count": 120,
   "id": "7c570a9c",
   "metadata": {},
   "outputs": [
    {
     "name": "stdout",
     "output_type": "stream",
     "text": [
      "url_Id(39376)\n",
      "Positive Score: 27\n",
      "Negative Score: 57\n",
      "Polarity Score: -0.36\n",
      "Subjectivity Score: 0.14\n",
      "Average Sentence Length: 20.98\n",
      "Percentage of Complex Words: 28.69\n",
      "Fog Index: 139.07\n",
      "Average Number of Words Per Sentence: 20.98\n",
      "Complex Word Count: 319\n",
      "Word count: 607\n",
      "Syllable per Word: 2.01\n",
      "Personal Pronouns: 8\n",
      "Average Word Length: 6.41\n"
     ]
    }
   ],
   "source": [
    "variables_computation('https://insights.blackcoffer.com/what-is-the-repercussion-of-the-environment-due-to-the-covid-19-pandemic-situation-2/',39376)"
   ]
  },
  {
   "cell_type": "code",
   "execution_count": 121,
   "id": "4947b958",
   "metadata": {},
   "outputs": [
    {
     "name": "stdout",
     "output_type": "stream",
     "text": [
      "url_Id(39837.8)\n",
      "Positive Score: 21\n",
      "Negative Score: 35\n",
      "Polarity Score: -0.25\n",
      "Subjectivity Score: 0.12\n",
      "Average Sentence Length: 27.31\n",
      "Percentage of Complex Words: 22.82\n",
      "Fog Index: 106.33\n",
      "Average Number of Words Per Sentence: 27.31\n",
      "Complex Word Count: 243\n",
      "Word count: 448\n",
      "Syllable per Word: 1.84\n",
      "Personal Pronouns: 47\n",
      "Average Word Length: 5.9\n"
     ]
    }
   ],
   "source": [
    "variables_computation('https://insights.blackcoffer.com/impact-of-covid-19-pandemic-on-office-space-and-co-working-industries/',39837.8)"
   ]
  },
  {
   "cell_type": "code",
   "execution_count": 122,
   "id": "45ada304",
   "metadata": {},
   "outputs": [
    {
     "name": "stdout",
     "output_type": "stream",
     "text": [
      "url_Id(40299.6)\n",
      "Positive Score: 6\n",
      "Negative Score: 3\n",
      "Polarity Score: 0.33\n",
      "Subjectivity Score: 0.04\n",
      "Average Sentence Length: 15.04\n",
      "Percentage of Complex Words: 34.84\n",
      "Fog Index: 66.34\n",
      "Average Number of Words Per Sentence: 15.04\n",
      "Complex Word Count: 131\n",
      "Word count: 244\n",
      "Syllable per Word: 2.1\n",
      "Personal Pronouns: 7\n",
      "Average Word Length: 6.89\n"
     ]
    }
   ],
   "source": [
    "variables_computation('https://insights.blackcoffer.com/contribution-of-handicrafts-visual-arts-literature-in-the-indian-economy/',40299.6)"
   ]
  },
  {
   "cell_type": "code",
   "execution_count": 124,
   "id": "e08f95fd",
   "metadata": {},
   "outputs": [
    {
     "name": "stdout",
     "output_type": "stream",
     "text": [
      "url_Id(40761.4)\n",
      "Positive Score: 16\n",
      "Negative Score: 3\n",
      "Polarity Score: 0.68\n",
      "Subjectivity Score: 0.06\n",
      "Average Sentence Length: 16.89\n",
      "Percentage of Complex Words: 20.64\n",
      "Fog Index: 57.06\n",
      "Average Number of Words Per Sentence: 16.89\n",
      "Complex Word Count: 122\n",
      "Word count: 314\n",
      "Syllable per Word: 1.81\n",
      "Personal Pronouns: 17\n",
      "Average Word Length: 6.06\n"
     ]
    }
   ],
   "source": [
    "variables_computation2345('https://insights.blackcoffer.com/how-covid-19-is-impacting-payment-preferences/',40761.4)"
   ]
  },
  {
   "cell_type": "code",
   "execution_count": 126,
   "id": "617e188b",
   "metadata": {},
   "outputs": [
    {
     "name": "stdout",
     "output_type": "stream",
     "text": [
      "url_Id(41223.2)\n",
      "Positive Score: 30\n",
      "Negative Score: 57\n",
      "Polarity Score: -0.31\n",
      "Subjectivity Score: 0.16\n",
      "Average Sentence Length: 29.0\n",
      "Percentage of Complex Words: 29.56\n",
      "Fog Index: 131.82\n",
      "Average Number of Words Per Sentence: 29.0\n",
      "Complex Word Count: 300\n",
      "Word count: 548\n",
      "Syllable per Word: 2.06\n",
      "Personal Pronouns: 15\n",
      "Average Word Length: 6.62\n"
     ]
    }
   ],
   "source": [
    "variables_computation2345('https://insights.blackcoffer.com/how-will-covid-19-affect-the-world-of-work-2/',41223.2)"
   ]
  },
  {
   "cell_type": "code",
   "execution_count": 128,
   "id": "0f566323",
   "metadata": {},
   "outputs": [
    {
     "name": "stdout",
     "output_type": "stream",
     "text": [
      "url_Id(41685)\n",
      "Positive Score: 28\n",
      "Negative Score: 24\n",
      "Polarity Score: 0.08\n",
      "Subjectivity Score: 0.18\n",
      "Average Sentence Length: 22.77\n",
      "Percentage of Complex Words: 14.31\n",
      "Fog Index: 46.12\n",
      "Average Number of Words Per Sentence: 22.77\n",
      "Complex Word Count: 101\n",
      "Word count: 287\n",
      "Syllable per Word: 1.66\n",
      "Personal Pronouns: 71\n",
      "Average Word Length: 5.43\n"
     ]
    }
   ],
   "source": [
    "variables_computation('https://insights.blackcoffer.com/lessons-from-the-past-some-key-learnings-relevant-to-the-coronavirus-crisis/',41685)"
   ]
  },
  {
   "cell_type": "code",
   "execution_count": 129,
   "id": "4b2531fa",
   "metadata": {},
   "outputs": [
    {
     "name": "stdout",
     "output_type": "stream",
     "text": [
      "url_Id(42146.8)\n",
      "Positive Score: 6\n",
      "Negative Score: 38\n",
      "Polarity Score: -0.73\n",
      "Subjectivity Score: 0.08\n",
      "Average Sentence Length: 20.02\n",
      "Percentage of Complex Words: 28.87\n",
      "Fog Index: 127.15\n",
      "Average Number of Words Per Sentence: 20.02\n",
      "Complex Word Count: 289\n",
      "Word count: 580\n",
      "Syllable per Word: 2.04\n",
      "Personal Pronouns: 5\n",
      "Average Word Length: 6.62\n"
     ]
    }
   ],
   "source": [
    "variables_computation('https://insights.blackcoffer.com/covid-19-how-have-countries-been-responding/',42146.8)"
   ]
  },
  {
   "cell_type": "code",
   "execution_count": 130,
   "id": "ecf07232",
   "metadata": {},
   "outputs": [
    {
     "name": "stdout",
     "output_type": "stream",
     "text": [
      "url_Id(42608.6)\n",
      "Positive Score: 14\n",
      "Negative Score: 33\n",
      "Polarity Score: -0.4\n",
      "Subjectivity Score: 0.09\n",
      "Average Sentence Length: 19.44\n",
      "Percentage of Complex Words: 27.7\n",
      "Fog Index: 123.08\n",
      "Average Number of Words Per Sentence: 19.44\n",
      "Complex Word Count: 280\n",
      "Word count: 515\n",
      "Syllable per Word: 2.07\n",
      "Personal Pronouns: 30\n",
      "Average Word Length: 6.52\n"
     ]
    }
   ],
   "source": [
    "variables_computation('https://insights.blackcoffer.com/coronavirus-impact-on-the-hospitality-industry-2/',42608.6)"
   ]
  },
  {
   "cell_type": "code",
   "execution_count": 132,
   "id": "8eb9f346",
   "metadata": {},
   "outputs": [
    {
     "name": "stdout",
     "output_type": "stream",
     "text": [
      "url_Id(43070.4)\n",
      "Positive Score: 26\n",
      "Negative Score: 52\n",
      "Polarity Score: -0.33\n",
      "Subjectivity Score: 0.14\n",
      "Average Sentence Length: 19.63\n",
      "Percentage of Complex Words: 29.77\n",
      "Fog Index: 131.11\n",
      "Average Number of Words Per Sentence: 19.63\n",
      "Complex Word Count: 298\n",
      "Word count: 562\n",
      "Syllable per Word: 2.05\n",
      "Personal Pronouns: 24\n",
      "Average Word Length: 6.57\n"
     ]
    }
   ],
   "source": [
    "variables_computation2345('https://insights.blackcoffer.com/how-will-covid-19-affect-the-world-of-work-3/',43070.4)"
   ]
  },
  {
   "cell_type": "code",
   "execution_count": 133,
   "id": "7d097c1c",
   "metadata": {},
   "outputs": [
    {
     "name": "stdout",
     "output_type": "stream",
     "text": [
      "url_Id(43532.2)\n",
      "Positive Score: 24\n",
      "Negative Score: 36\n",
      "Polarity Score: -0.2\n",
      "Subjectivity Score: 0.09\n",
      "Average Sentence Length: 22.04\n",
      "Percentage of Complex Words: 26.99\n",
      "Fog Index: 143.99\n",
      "Average Number of Words Per Sentence: 22.04\n",
      "Complex Word Count: 333\n",
      "Word count: 660\n",
      "Syllable per Word: 1.93\n",
      "Personal Pronouns: 29\n",
      "Average Word Length: 6.32\n"
     ]
    }
   ],
   "source": [
    "variables_computation('https://insights.blackcoffer.com/coronavirus-impact-on-the-hospitality-industry-3/',43532.2)"
   ]
  },
  {
   "cell_type": "code",
   "execution_count": 134,
   "id": "d94c8962",
   "metadata": {},
   "outputs": [
    {
     "name": "stdout",
     "output_type": "stream",
     "text": [
      "url_Id(43994)\n",
      "Positive Score: 47\n",
      "Negative Score: 48\n",
      "Polarity Score: -0.01\n",
      "Subjectivity Score: 0.12\n",
      "Average Sentence Length: 20.95\n",
      "Percentage of Complex Words: 23.87\n",
      "Fog Index: 157.55\n",
      "Average Number of Words Per Sentence: 20.95\n",
      "Complex Word Count: 370\n",
      "Word count: 778\n",
      "Syllable per Word: 1.87\n",
      "Personal Pronouns: 37\n",
      "Average Word Length: 6.01\n"
     ]
    }
   ],
   "source": [
    "variables_computation('https://insights.blackcoffer.com/estimating-the-impact-of-covid-19-on-the-world-of-work/',43994)"
   ]
  },
  {
   "cell_type": "code",
   "execution_count": 135,
   "id": "558c6e49",
   "metadata": {},
   "outputs": [
    {
     "name": "stdout",
     "output_type": "stream",
     "text": [
      "url_Id(44455.8)\n",
      "Positive Score: 23\n",
      "Negative Score: 46\n",
      "Polarity Score: -0.33\n",
      "Subjectivity Score: 0.07\n",
      "Average Sentence Length: 19.12\n",
      "Percentage of Complex Words: 27.99\n",
      "Fog Index: 212.4\n",
      "Average Number of Words Per Sentence: 19.12\n",
      "Complex Word Count: 503\n",
      "Word count: 993\n",
      "Syllable per Word: 1.92\n",
      "Personal Pronouns: 24\n",
      "Average Word Length: 6.25\n"
     ]
    }
   ],
   "source": [
    "variables_computation('https://insights.blackcoffer.com/covid-19-how-have-countries-been-responding-2/',44455.8)"
   ]
  },
  {
   "cell_type": "code",
   "execution_count": 136,
   "id": "e83884b6",
   "metadata": {},
   "outputs": [
    {
     "name": "stdout",
     "output_type": "stream",
     "text": [
      "url_Id(44917.6)\n",
      "Positive Score: 24\n",
      "Negative Score: 25\n",
      "Polarity Score: -0.02\n",
      "Subjectivity Score: 0.13\n",
      "Average Sentence Length: 34.76\n",
      "Percentage of Complex Words: 13.81\n",
      "Fog Index: 53.52\n",
      "Average Number of Words Per Sentence: 34.76\n",
      "Complex Word Count: 120\n",
      "Word count: 375\n",
      "Syllable per Word: 1.61\n",
      "Personal Pronouns: 77\n",
      "Average Word Length: 5.38\n"
     ]
    }
   ],
   "source": [
    "variables_computation('https://insights.blackcoffer.com/how-will-covid-19-affect-the-world-of-work-4/',44917.6)"
   ]
  },
  {
   "cell_type": "code",
   "execution_count": 137,
   "id": "252b8f70",
   "metadata": {},
   "outputs": [
    {
     "name": "stdout",
     "output_type": "stream",
     "text": [
      "url_Id(45379.4)\n",
      "Positive Score: 41\n",
      "Negative Score: 78\n",
      "Polarity Score: -0.31\n",
      "Subjectivity Score: 0.12\n",
      "Average Sentence Length: 24.11\n",
      "Percentage of Complex Words: 27.51\n",
      "Fog Index: 220.6\n",
      "Average Number of Words Per Sentence: 24.11\n",
      "Complex Word Count: 524\n",
      "Word count: 1028\n",
      "Syllable per Word: 1.98\n",
      "Personal Pronouns: 36\n",
      "Average Word Length: 6.42\n"
     ]
    }
   ],
   "source": [
    "variables_computation('https://insights.blackcoffer.com/lessons-from-the-past-some-key-learnings-relevant-to-the-coronavirus-crisis-2/',45379.4)"
   ]
  },
  {
   "cell_type": "code",
   "execution_count": 138,
   "id": "86e1104b",
   "metadata": {},
   "outputs": [
    {
     "name": "stdout",
     "output_type": "stream",
     "text": [
      "url_Id(45841.2)\n",
      "Positive Score: 33\n",
      "Negative Score: 54\n",
      "Polarity Score: -0.24\n",
      "Subjectivity Score: 0.15\n",
      "Average Sentence Length: 15.8\n",
      "Percentage of Complex Words: 19.55\n",
      "Fog Index: 105.42\n",
      "Average Number of Words Per Sentence: 15.8\n",
      "Complex Word Count: 244\n",
      "Word count: 575\n",
      "Syllable per Word: 1.78\n",
      "Personal Pronouns: 73\n",
      "Average Word Length: 5.74\n"
     ]
    }
   ],
   "source": [
    "variables_computation('https://insights.blackcoffer.com/lessons-from-the-past-some-key-learnings-relevant-to-the-coronavirus-crisis-3/',45841.2)"
   ]
  },
  {
   "cell_type": "code",
   "execution_count": 139,
   "id": "302aa649",
   "metadata": {},
   "outputs": [
    {
     "name": "stdout",
     "output_type": "stream",
     "text": [
      "url_Id(46303)\n",
      "Positive Score: 9\n",
      "Negative Score: 14\n",
      "Polarity Score: -0.22\n",
      "Subjectivity Score: 0.12\n",
      "Average Sentence Length: 15.71\n",
      "Percentage of Complex Words: 30.0\n",
      "Fog Index: 51.6\n",
      "Average Number of Words Per Sentence: 15.71\n",
      "Complex Word Count: 99\n",
      "Word count: 187\n",
      "Syllable per Word: 2.01\n",
      "Personal Pronouns: 4\n",
      "Average Word Length: 6.76\n"
     ]
    }
   ],
   "source": [
    "variables_computation('https://insights.blackcoffer.com/coronavirus-impact-on-the-hospitality-industry-4/',46303)"
   ]
  },
  {
   "cell_type": "code",
   "execution_count": 140,
   "id": "04862dc7",
   "metadata": {},
   "outputs": [
    {
     "name": "stdout",
     "output_type": "stream",
     "text": [
      "url_Id(46764.8)\n",
      "Positive Score: 46\n",
      "Negative Score: 91\n",
      "Polarity Score: -0.33\n",
      "Subjectivity Score: 0.11\n",
      "Average Sentence Length: 22.19\n",
      "Percentage of Complex Words: 28.17\n",
      "Fog Index: 251.27\n",
      "Average Number of Words Per Sentence: 22.19\n",
      "Complex Word Count: 600\n",
      "Word count: 1267\n",
      "Syllable per Word: 1.94\n",
      "Personal Pronouns: 35\n",
      "Average Word Length: 6.38\n"
     ]
    }
   ],
   "source": [
    "variables_computation('https://insights.blackcoffer.com/why-scams-like-nirav-modi-happen-with-indian-banks/',46764.8)"
   ]
  },
  {
   "cell_type": "code",
   "execution_count": 141,
   "id": "75af9c7b",
   "metadata": {},
   "outputs": [
    {
     "name": "stdout",
     "output_type": "stream",
     "text": [
      "url_Id(47226.6)\n",
      "Positive Score: 35\n",
      "Negative Score: 65\n",
      "Polarity Score: -0.3\n",
      "Subjectivity Score: 0.15\n",
      "Average Sentence Length: 24.52\n",
      "Percentage of Complex Words: 18.32\n",
      "Fog Index: 124.13\n",
      "Average Number of Words Per Sentence: 24.52\n",
      "Complex Word Count: 292\n",
      "Word count: 649\n",
      "Syllable per Word: 1.73\n",
      "Personal Pronouns: 117\n",
      "Average Word Length: 5.59\n"
     ]
    }
   ],
   "source": [
    "variables_computation('https://insights.blackcoffer.com/impact-of-covid-19-on-the-global-economy/',47226.6)"
   ]
  },
  {
   "cell_type": "code",
   "execution_count": 142,
   "id": "eb053979",
   "metadata": {},
   "outputs": [
    {
     "name": "stdout",
     "output_type": "stream",
     "text": [
      "url_Id(47688.4)\n",
      "Positive Score: 30\n",
      "Negative Score: 67\n",
      "Polarity Score: -0.38\n",
      "Subjectivity Score: 0.11\n",
      "Average Sentence Length: 16.67\n",
      "Percentage of Complex Words: 26.93\n",
      "Fog Index: 186.77\n",
      "Average Number of Words Per Sentence: 16.67\n",
      "Complex Word Count: 440\n",
      "Word count: 880\n",
      "Syllable per Word: 1.98\n",
      "Personal Pronouns: 53\n",
      "Average Word Length: 6.44\n"
     ]
    }
   ],
   "source": [
    "variables_computation('https://insights.blackcoffer.com/impact-of-covid-19coronavirus-on-the-indian-economy-2/',47688.4)"
   ]
  },
  {
   "cell_type": "code",
   "execution_count": 143,
   "id": "d34393f0",
   "metadata": {},
   "outputs": [
    {
     "name": "stdout",
     "output_type": "stream",
     "text": [
      "url_Id(48150.2)\n",
      "Positive Score: 39\n",
      "Negative Score: 84\n",
      "Polarity Score: -0.37\n",
      "Subjectivity Score: 0.13\n",
      "Average Sentence Length: 21.64\n",
      "Percentage of Complex Words: 27.96\n",
      "Fog Index: 199.98\n",
      "Average Number of Words Per Sentence: 21.64\n",
      "Complex Word Count: 472\n",
      "Word count: 913\n",
      "Syllable per Word: 2.04\n",
      "Personal Pronouns: 47\n",
      "Average Word Length: 6.61\n"
     ]
    }
   ],
   "source": [
    "variables_computation('https://insights.blackcoffer.com/impact-of-covid-19-on-the-global-economy-2/',48150.2)"
   ]
  },
  {
   "cell_type": "code",
   "execution_count": 144,
   "id": "9fbc35dd",
   "metadata": {},
   "outputs": [
    {
     "name": "stdout",
     "output_type": "stream",
     "text": [
      "url_Id(48612)\n",
      "Positive Score: 48\n",
      "Negative Score: 75\n",
      "Polarity Score: -0.22\n",
      "Subjectivity Score: 0.11\n",
      "Average Sentence Length: 19.03\n",
      "Percentage of Complex Words: 29.36\n",
      "Fog Index: 244.14\n",
      "Average Number of Words Per Sentence: 19.03\n",
      "Complex Word Count: 581\n",
      "Word count: 1075\n",
      "Syllable per Word: 1.91\n",
      "Personal Pronouns: 22\n",
      "Average Word Length: 6.42\n"
     ]
    }
   ],
   "source": [
    "variables_computation('https://insights.blackcoffer.com/impact-of-covid-19-coronavirus-on-the-indian-economy-3/',48612)"
   ]
  },
  {
   "cell_type": "code",
   "execution_count": 145,
   "id": "27958599",
   "metadata": {},
   "outputs": [
    {
     "name": "stdout",
     "output_type": "stream",
     "text": [
      "url_Id(49073.8)\n",
      "Positive Score: 55\n",
      "Negative Score: 18\n",
      "Polarity Score: 0.51\n",
      "Subjectivity Score: 0.08\n",
      "Average Sentence Length: 29.34\n",
      "Percentage of Complex Words: 27.98\n",
      "Fog Index: 214.79\n",
      "Average Number of Words Per Sentence: 29.34\n",
      "Complex Word Count: 509\n",
      "Word count: 904\n",
      "Syllable per Word: 1.99\n",
      "Personal Pronouns: 67\n",
      "Average Word Length: 6.35\n"
     ]
    }
   ],
   "source": [
    "variables_computation('https://insights.blackcoffer.com/should-celebrities-be-allowed-to-join-politics/',49073.8)"
   ]
  },
  {
   "cell_type": "code",
   "execution_count": 146,
   "id": "fdd6ed02",
   "metadata": {},
   "outputs": [
    {
     "name": "stdout",
     "output_type": "stream",
     "text": [
      "url_Id(49535.6)\n",
      "Positive Score: 16\n",
      "Negative Score: 24\n",
      "Polarity Score: -0.2\n",
      "Subjectivity Score: 0.09\n",
      "Average Sentence Length: 26.0\n",
      "Percentage of Complex Words: 26.08\n",
      "Fog Index: 97.23\n",
      "Average Number of Words Per Sentence: 26.0\n",
      "Complex Word Count: 217\n",
      "Word count: 424\n",
      "Syllable per Word: 1.93\n",
      "Personal Pronouns: 20\n",
      "Average Word Length: 6.24\n"
     ]
    }
   ],
   "source": [
    "variables_computation('https://insights.blackcoffer.com/how-prepared-is-india-to-tackle-a-possible-covid-19-outbreak/',49535.6)"
   ]
  },
  {
   "cell_type": "code",
   "execution_count": 147,
   "id": "5802e15b",
   "metadata": {},
   "outputs": [
    {
     "name": "stdout",
     "output_type": "stream",
     "text": [
      "url_Id(49997.4)\n",
      "Positive Score: 44\n",
      "Negative Score: 96\n",
      "Polarity Score: -0.37\n",
      "Subjectivity Score: 0.17\n",
      "Average Sentence Length: 19.84\n",
      "Percentage of Complex Words: 28.21\n",
      "Fog Index: 188.08\n",
      "Average Number of Words Per Sentence: 19.84\n",
      "Complex Word Count: 442\n",
      "Word count: 839\n",
      "Syllable per Word: 2.03\n",
      "Personal Pronouns: 36\n",
      "Average Word Length: 6.5\n"
     ]
    }
   ],
   "source": [
    "variables_computation('https://insights.blackcoffer.com/how-will-covid-19-affect-the-world-of-work/',49997.4)"
   ]
  },
  {
   "cell_type": "code",
   "execution_count": 148,
   "id": "c6ac3bc0",
   "metadata": {},
   "outputs": [
    {
     "name": "stdout",
     "output_type": "stream",
     "text": [
      "url_Id(50459.2)\n",
      "Positive Score: 31\n",
      "Negative Score: 48\n",
      "Polarity Score: -0.22\n",
      "Subjectivity Score: 0.16\n",
      "Average Sentence Length: 15.98\n",
      "Percentage of Complex Words: 27.79\n",
      "Fog Index: 119.52\n",
      "Average Number of Words Per Sentence: 15.98\n",
      "Complex Word Count: 271\n",
      "Word count: 490\n",
      "Syllable per Word: 1.94\n",
      "Personal Pronouns: 56\n",
      "Average Word Length: 6.11\n"
     ]
    }
   ],
   "source": [
    "variables_computation('https://insights.blackcoffer.com/controversy-as-a-marketing-strategy/',50459.2)"
   ]
  },
  {
   "cell_type": "code",
   "execution_count": 149,
   "id": "724a183e",
   "metadata": {},
   "outputs": [
    {
     "name": "stdout",
     "output_type": "stream",
     "text": [
      "url_Id(50921)\n",
      "Positive Score: 5\n",
      "Negative Score: 29\n",
      "Polarity Score: -0.71\n",
      "Subjectivity Score: 0.09\n",
      "Average Sentence Length: 19.18\n",
      "Percentage of Complex Words: 30.17\n",
      "Fog Index: 88.47\n",
      "Average Number of Words Per Sentence: 19.18\n",
      "Complex Word Count: 191\n",
      "Word count: 394\n",
      "Syllable per Word: 2.11\n",
      "Personal Pronouns: 4\n",
      "Average Word Length: 6.97\n"
     ]
    }
   ],
   "source": [
    "variables_computation('https://insights.blackcoffer.com/coronavirus-impact-on-the-hospitality-industry/',50921)"
   ]
  },
  {
   "cell_type": "code",
   "execution_count": 150,
   "id": "ed827970",
   "metadata": {},
   "outputs": [
    {
     "name": "stdout",
     "output_type": "stream",
     "text": [
      "url_Id(51382.8)\n",
      "Positive Score: 24\n",
      "Negative Score: 65\n",
      "Polarity Score: -0.46\n",
      "Subjectivity Score: 0.09\n",
      "Average Sentence Length: 30.35\n",
      "Percentage of Complex Words: 27.52\n",
      "Fog Index: 181.41\n",
      "Average Number of Words Per Sentence: 30.35\n",
      "Complex Word Count: 426\n",
      "Word count: 986\n",
      "Syllable per Word: 2.17\n",
      "Personal Pronouns: 13\n",
      "Average Word Length: 6.84\n"
     ]
    }
   ],
   "source": [
    "variables_computation('https://insights.blackcoffer.com/coronavirus-impact-on-energy-markets/',51382.8)"
   ]
  },
  {
   "cell_type": "code",
   "execution_count": 151,
   "id": "cbe5f9b8",
   "metadata": {},
   "outputs": [
    {
     "name": "stdout",
     "output_type": "stream",
     "text": [
      "url_Id(51844.6)\n",
      "Positive Score: 88\n",
      "Negative Score: 33\n",
      "Polarity Score: 0.45\n",
      "Subjectivity Score: 0.13\n",
      "Average Sentence Length: 23.74\n",
      "Percentage of Complex Words: 29.08\n",
      "Fog Index: 210.43\n",
      "Average Number of Words Per Sentence: 23.74\n",
      "Complex Word Count: 497\n",
      "Word count: 958\n",
      "Syllable per Word: 2.02\n",
      "Personal Pronouns: 57\n",
      "Average Word Length: 6.5\n"
     ]
    }
   ],
   "source": [
    "variables_computation('https://insights.blackcoffer.com/what-are-the-key-policies-that-will-mitigate-the-impacts-of-covid-19-on-the-world-of-work/',51844.6)"
   ]
  },
  {
   "cell_type": "code",
   "execution_count": 152,
   "id": "3e77733f",
   "metadata": {},
   "outputs": [
    {
     "name": "stdout",
     "output_type": "stream",
     "text": [
      "url_Id(52306.4)\n",
      "Positive Score: 25\n",
      "Negative Score: 21\n",
      "Polarity Score: 0.09\n",
      "Subjectivity Score: 0.06\n",
      "Average Sentence Length: 19.8\n",
      "Percentage of Complex Words: 28.89\n",
      "Fog Index: 157.95\n",
      "Average Number of Words Per Sentence: 19.8\n",
      "Complex Word Count: 366\n",
      "Word count: 718\n",
      "Syllable per Word: 2.11\n",
      "Personal Pronouns: 55\n",
      "Average Word Length: 6.88\n"
     ]
    }
   ],
   "source": [
    "variables_computation('https://insights.blackcoffer.com/marketing-drives-results-with-a-focus-on-problems/',52306.4)"
   ]
  },
  {
   "cell_type": "code",
   "execution_count": 153,
   "id": "b4e90d92",
   "metadata": {},
   "outputs": [
    {
     "name": "stdout",
     "output_type": "stream",
     "text": [
      "url_Id(52768.2)\n",
      "Positive Score: 50\n",
      "Negative Score: 33\n",
      "Polarity Score: 0.2\n",
      "Subjectivity Score: 0.14\n",
      "Average Sentence Length: 22.17\n",
      "Percentage of Complex Words: 39.21\n",
      "Fog Index: 161.68\n",
      "Average Number of Words Per Sentence: 22.17\n",
      "Complex Word Count: 365\n",
      "Word count: 573\n",
      "Syllable per Word: 2.41\n",
      "Personal Pronouns: 24\n",
      "Average Word Length: 7.44\n"
     ]
    }
   ],
   "source": [
    "variables_computation('https://insights.blackcoffer.com/continued-demand-for-sustainability/',52768.2)"
   ]
  },
  {
   "cell_type": "code",
   "execution_count": null,
   "id": "27710816",
   "metadata": {},
   "outputs": [],
   "source": []
  }
 ],
 "metadata": {
  "kernelspec": {
   "display_name": "Python 3 (ipykernel)",
   "language": "python",
   "name": "python3"
  },
  "language_info": {
   "codemirror_mode": {
    "name": "ipython",
    "version": 3
   },
   "file_extension": ".py",
   "mimetype": "text/x-python",
   "name": "python",
   "nbconvert_exporter": "python",
   "pygments_lexer": "ipython3",
   "version": "3.9.13"
  }
 },
 "nbformat": 4,
 "nbformat_minor": 5
}
